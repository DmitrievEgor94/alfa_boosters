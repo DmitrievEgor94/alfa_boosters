{
 "cells": [
  {
   "cell_type": "markdown",
   "metadata": {},
   "source": [
    "### <font color=green> Import Data"
   ]
  },
  {
   "cell_type": "markdown",
   "metadata": {},
   "source": [
    "Читаю данные "
   ]
  },
  {
   "cell_type": "code",
   "execution_count": 37,
   "metadata": {},
   "outputs": [],
   "source": [
    "import os\n",
    "\n",
    "from tqdm import tqdm\n",
    "import datetime\n",
    "\n",
    "import numpy as np\n",
    "#from fastparquet import ParquetFile\n",
    "import pandas as pd\n",
    "\n",
    "from sklearn.model_selection import train_test_split\n",
    "from sklearn.ensemble import RandomForestClassifier\n",
    "\n",
    "import matplotlib.pyplot as plt\n",
    "%matplotlib inline"
   ]
  },
  {
   "cell_type": "code",
   "execution_count": 22,
   "metadata": {},
   "outputs": [],
   "source": [
    "parq = pd.read_parquet('/data/edmitrie/alfa_boosters/parquets/part-00000.parquet')\n",
    "#parq = ParquetFile(os.path.join(os.getcwd(), 'data', 'train_transaction_contest', 'part-00000.parquet')).to_pandas()\n",
    "\n",
    "train_target_df = pd.read_csv('alfabattle2_abattle_train_target.csv')\n",
    "# print(f'Размерность обучающего фрейма: {df.shape}, Размерность сабмит-фрейма {df_submit.shape}, Размерность parquet-файла: {parq.shape}')"
   ]
  },
  {
   "cell_type": "code",
   "execution_count": 23,
   "metadata": {},
   "outputs": [
    {
     "data": {
      "text/html": [
       "<div>\n",
       "<style scoped>\n",
       "    .dataframe tbody tr th:only-of-type {\n",
       "        vertical-align: middle;\n",
       "    }\n",
       "\n",
       "    .dataframe tbody tr th {\n",
       "        vertical-align: top;\n",
       "    }\n",
       "\n",
       "    .dataframe thead th {\n",
       "        text-align: right;\n",
       "    }\n",
       "</style>\n",
       "<table border=\"1\" class=\"dataframe\">\n",
       "  <thead>\n",
       "    <tr style=\"text-align: right;\">\n",
       "      <th></th>\n",
       "      <th>timestamp</th>\n",
       "      <th>application_id</th>\n",
       "      <th>client</th>\n",
       "      <th>session_id</th>\n",
       "      <th>event_type</th>\n",
       "      <th>event_category</th>\n",
       "      <th>event_name</th>\n",
       "      <th>event_label</th>\n",
       "      <th>device_screen_name</th>\n",
       "      <th>timezone</th>\n",
       "      <th>device_is_webview</th>\n",
       "      <th>page_urlhost</th>\n",
       "      <th>page_urlpath_full</th>\n",
       "      <th>net_connection_type</th>\n",
       "      <th>net_connection_tech</th>\n",
       "    </tr>\n",
       "  </thead>\n",
       "  <tbody>\n",
       "    <tr>\n",
       "      <th>0</th>\n",
       "      <td>2020-01-15 08:46:32.579</td>\n",
       "      <td>anketa</td>\n",
       "      <td>107efb4507525ce982e19331b36b0e2f</td>\n",
       "      <td>9a1366886da59ec85f0ef5e06f1e97f6</td>\n",
       "      <td>pv</td>\n",
       "      <td>None</td>\n",
       "      <td>None</td>\n",
       "      <td>None</td>\n",
       "      <td>None</td>\n",
       "      <td>Asia/Omsk</td>\n",
       "      <td>True</td>\n",
       "      <td>anketa.alfabank.ru</td>\n",
       "      <td>03eb3ceab6204f8b602f1863f7fbce01</td>\n",
       "      <td>None</td>\n",
       "      <td>None</td>\n",
       "    </tr>\n",
       "    <tr>\n",
       "      <th>1</th>\n",
       "      <td>2020-04-29 19:20:09.705</td>\n",
       "      <td>anketa</td>\n",
       "      <td>32dac9ab28a497a8061e02786bb3a95a</td>\n",
       "      <td>bdf7fc21e4e88d1b4f0838c80b21a1e3</td>\n",
       "      <td>pv</td>\n",
       "      <td>None</td>\n",
       "      <td>None</td>\n",
       "      <td>None</td>\n",
       "      <td>None</td>\n",
       "      <td>Asia/Yekaterinburg</td>\n",
       "      <td>True</td>\n",
       "      <td>anketa.alfabank.ru</td>\n",
       "      <td>03eb3ceab6204f8b602f1863f7fbce01</td>\n",
       "      <td>None</td>\n",
       "      <td>None</td>\n",
       "    </tr>\n",
       "  </tbody>\n",
       "</table>\n",
       "</div>"
      ],
      "text/plain": [
       "                timestamp application_id                            client  \\\n",
       "0 2020-01-15 08:46:32.579         anketa  107efb4507525ce982e19331b36b0e2f   \n",
       "1 2020-04-29 19:20:09.705         anketa  32dac9ab28a497a8061e02786bb3a95a   \n",
       "\n",
       "                         session_id event_type event_category event_name  \\\n",
       "0  9a1366886da59ec85f0ef5e06f1e97f6         pv           None       None   \n",
       "1  bdf7fc21e4e88d1b4f0838c80b21a1e3         pv           None       None   \n",
       "\n",
       "  event_label device_screen_name            timezone device_is_webview  \\\n",
       "0        None               None           Asia/Omsk              True   \n",
       "1        None               None  Asia/Yekaterinburg              True   \n",
       "\n",
       "         page_urlhost                 page_urlpath_full net_connection_type  \\\n",
       "0  anketa.alfabank.ru  03eb3ceab6204f8b602f1863f7fbce01                None   \n",
       "1  anketa.alfabank.ru  03eb3ceab6204f8b602f1863f7fbce01                None   \n",
       "\n",
       "  net_connection_tech  \n",
       "0                None  \n",
       "1                None  "
      ]
     },
     "execution_count": 23,
     "metadata": {},
     "output_type": "execute_result"
    }
   ],
   "source": [
    "parq.head(2)"
   ]
  },
  {
   "cell_type": "markdown",
   "metadata": {},
   "source": [
    "### <font color=green> Feature SELECTION"
   ]
  },
  {
   "cell_type": "markdown",
   "metadata": {},
   "source": [
    "Гипотеза: есть `event_category` указывающие довольно точно на `multiclass-target`, которым размечается сессия.\n",
    "\n",
    "Нужно отобрать из всего списка категорий операций маленький набор категорий, классы таргета, на которые они указывают, будут обладать минимальной энтропией. Присоединяю к паркету датафрейм с трен-тест-таргетами."
   ]
  },
  {
   "cell_type": "code",
   "execution_count": 24,
   "metadata": {},
   "outputs": [],
   "source": [
    "cols_to_check = [col for col in parq.columns if col not in ['client', 'session_id', 'timestamp', 'timezone', 'device_is_webview']]"
   ]
  },
  {
   "cell_type": "code",
   "execution_count": 25,
   "metadata": {},
   "outputs": [
    {
     "data": {
      "text/plain": [
       "['application_id',\n",
       " 'event_type',\n",
       " 'event_category',\n",
       " 'event_name',\n",
       " 'event_label',\n",
       " 'device_screen_name',\n",
       " 'page_urlhost',\n",
       " 'page_urlpath_full',\n",
       " 'net_connection_type',\n",
       " 'net_connection_tech']"
      ]
     },
     "execution_count": 25,
     "metadata": {},
     "output_type": "execute_result"
    }
   ],
   "source": [
    "cols_to_check"
   ]
  },
  {
   "cell_type": "code",
   "execution_count": 26,
   "metadata": {},
   "outputs": [
    {
     "name": "stdout",
     "output_type": "stream",
     "text": [
      "CPU times: user 11 s, sys: 5.05 s, total: 16.1 s\n",
      "Wall time: 16.1 s\n"
     ]
    }
   ],
   "source": [
    "%%time\n",
    "parq = parq.merge(train_target_df[['session_id', 'multi_class_target']], on='session_id', how='left')\n",
    "parq = parq[parq['multi_class_target'].notnull()]"
   ]
  },
  {
   "cell_type": "code",
   "execution_count": 31,
   "metadata": {},
   "outputs": [],
   "source": [
    "parq.fillna('nan', inplace=True)"
   ]
  },
  {
   "cell_type": "code",
   "execution_count": 32,
   "metadata": {},
   "outputs": [],
   "source": [
    "def select_by_count(df, col, threshold=0.005):\n",
    "    buf = df[['session_id', col]]\n",
    "    \n",
    "    sessions_number = buf['session_id'].unique().shape\n",
    "    \n",
    "    grouped = buf[col].value_counts()/sessions_number\n",
    "    \n",
    "#     print(grouped[grouped > threshold].values * sessions_number)\n",
    "    \n",
    "    return grouped[grouped > threshold].index"
   ]
  },
  {
   "cell_type": "code",
   "execution_count": 33,
   "metadata": {},
   "outputs": [
    {
     "data": {
      "text/plain": [
       "526700"
      ]
     },
     "execution_count": 33,
     "metadata": {},
     "output_type": "execute_result"
    }
   ],
   "source": [
    "parq['session_id'].unique().shape[0]"
   ]
  },
  {
   "cell_type": "code",
   "execution_count": 42,
   "metadata": {},
   "outputs": [],
   "source": [
    "def feature_types_selection(df, col):\n",
    "    df = df[['session_id', col, 'multi_class_target']]\n",
    "    \n",
    "    print(\"Колонка: \",col)\n",
    "    print(\"Было: \", df[col].unique().shape)\n",
    "        \n",
    "    df.drop_duplicates(inplace=True)\n",
    "    \n",
    "    sessions_number = df['session_id'].unique().shape[0]\n",
    "    \n",
    "    df = df[[col, 'multi_class_target']]\n",
    "    \n",
    "    if df[col].unique().shape[0] > 700:\n",
    "        grouped =df[col].value_counts()/sessions_number\n",
    "        \n",
    "        cat_to_leave = grouped[grouped > 0.001].index.values.tolist()\n",
    "        \n",
    "        df.loc[df[col].apply(lambda x: x not in cat_to_leave), col] = 'other'\n",
    "        \n",
    "        print('Стало признаков:', df[col].unique().shape)\n",
    "    \n",
    "    cat_df = pd.get_dummies(df, columns=[col],prefix='', prefix_sep='', dummy_na=False)\n",
    "    cat_feats = [col for col in cat_df.columns if col != 'multi_class_target']\n",
    "    print(f'Размерность признакового пространства (чило получившихся OneHot-переменны): {len(cat_feats)}')\n",
    "    \n",
    "    X, y = cat_df[cat_feats], cat_df['multi_class_target']\n",
    "    X_train, X_test, y_train, y_test = train_test_split(X, y, test_size = 0.2, shuffle=True, stratify=y)\n",
    "\n",
    "    rfc = RandomForestClassifier(n_estimators = 300, n_jobs = 64, max_depth = 10, criterion='entropy', min_impurity_decrease = 1e-6, random_state=1)\n",
    "    rfc.fit(X_train.values, y_train.values)\n",
    "    \n",
    "    df_f = pd.DataFrame(zip(cat_feats, rfc.feature_importances_), columns=['f', 'im']).sort_values(by='im', ascending=False)\n",
    "    \n",
    "    def get_new_features(df):\n",
    "        for i in range(df.shape[0]):\n",
    "            if df['im'].iloc[:i].sum()/df['im'].sum() > 0.99:\n",
    "                break\n",
    "        return df['f'].iloc[:i].values.tolist()\n",
    "    \n",
    "    atrs = get_new_features(df_f)\n",
    "    \n",
    "    print(\"Осталось:\", len(atrs))\n",
    "    \n",
    "    return get_new_features(df_f)"
   ]
  },
  {
   "cell_type": "code",
   "execution_count": 43,
   "metadata": {},
   "outputs": [
    {
     "name": "stdout",
     "output_type": "stream",
     "text": [
      "Колонка:  application_id\n",
      "Было:  (22,)\n"
     ]
    },
    {
     "name": "stderr",
     "output_type": "stream",
     "text": [
      "/usr/local/lib/python3.6/site-packages/ipykernel_launcher.py:7: SettingWithCopyWarning: \n",
      "A value is trying to be set on a copy of a slice from a DataFrame\n",
      "\n",
      "See the caveats in the documentation: https://pandas.pydata.org/pandas-docs/stable/user_guide/indexing.html#returning-a-view-versus-a-copy\n",
      "  import sys\n"
     ]
    },
    {
     "name": "stdout",
     "output_type": "stream",
     "text": [
      "Размерность признакового пространства (чило получившихся OneHot-переменны): 22\n",
      "Осталось: 13\n",
      "Колонка:  event_type\n",
      "Было:  (5,)\n"
     ]
    },
    {
     "name": "stderr",
     "output_type": "stream",
     "text": [
      "/usr/local/lib/python3.6/site-packages/ipykernel_launcher.py:7: SettingWithCopyWarning: \n",
      "A value is trying to be set on a copy of a slice from a DataFrame\n",
      "\n",
      "See the caveats in the documentation: https://pandas.pydata.org/pandas-docs/stable/user_guide/indexing.html#returning-a-view-versus-a-copy\n",
      "  import sys\n"
     ]
    },
    {
     "name": "stdout",
     "output_type": "stream",
     "text": [
      "Размерность признакового пространства (чило получившихся OneHot-переменны): 5\n",
      "Осталось: 4\n",
      "Колонка:  event_category\n",
      "Было:  (302,)\n"
     ]
    },
    {
     "name": "stderr",
     "output_type": "stream",
     "text": [
      "/usr/local/lib/python3.6/site-packages/ipykernel_launcher.py:7: SettingWithCopyWarning: \n",
      "A value is trying to be set on a copy of a slice from a DataFrame\n",
      "\n",
      "See the caveats in the documentation: https://pandas.pydata.org/pandas-docs/stable/user_guide/indexing.html#returning-a-view-versus-a-copy\n",
      "  import sys\n"
     ]
    },
    {
     "name": "stdout",
     "output_type": "stream",
     "text": [
      "Размерность признакового пространства (чило получившихся OneHot-переменны): 302\n",
      "Осталось: 30\n",
      "Колонка:  event_name\n",
      "Было:  (6644,)\n"
     ]
    },
    {
     "name": "stderr",
     "output_type": "stream",
     "text": [
      "/usr/local/lib/python3.6/site-packages/ipykernel_launcher.py:7: SettingWithCopyWarning: \n",
      "A value is trying to be set on a copy of a slice from a DataFrame\n",
      "\n",
      "See the caveats in the documentation: https://pandas.pydata.org/pandas-docs/stable/user_guide/indexing.html#returning-a-view-versus-a-copy\n",
      "  import sys\n"
     ]
    },
    {
     "name": "stdout",
     "output_type": "stream",
     "text": [
      "Стало признаков: (270,)\n",
      "Размерность признакового пространства (чило получившихся OneHot-переменны): 270\n",
      "Осталось: 49\n",
      "Колонка:  event_label\n",
      "Было:  (4746,)\n"
     ]
    },
    {
     "name": "stderr",
     "output_type": "stream",
     "text": [
      "/usr/local/lib/python3.6/site-packages/ipykernel_launcher.py:7: SettingWithCopyWarning: \n",
      "A value is trying to be set on a copy of a slice from a DataFrame\n",
      "\n",
      "See the caveats in the documentation: https://pandas.pydata.org/pandas-docs/stable/user_guide/indexing.html#returning-a-view-versus-a-copy\n",
      "  import sys\n"
     ]
    },
    {
     "name": "stdout",
     "output_type": "stream",
     "text": [
      "Стало признаков: (77,)\n",
      "Размерность признакового пространства (чило получившихся OneHot-переменны): 77\n",
      "Осталось: 22\n",
      "Колонка:  device_screen_name\n",
      "Было:  (498,)\n"
     ]
    },
    {
     "name": "stderr",
     "output_type": "stream",
     "text": [
      "/usr/local/lib/python3.6/site-packages/ipykernel_launcher.py:7: SettingWithCopyWarning: \n",
      "A value is trying to be set on a copy of a slice from a DataFrame\n",
      "\n",
      "See the caveats in the documentation: https://pandas.pydata.org/pandas-docs/stable/user_guide/indexing.html#returning-a-view-versus-a-copy\n",
      "  import sys\n"
     ]
    },
    {
     "name": "stdout",
     "output_type": "stream",
     "text": [
      "Размерность признакового пространства (чило получившихся OneHot-переменны): 498\n",
      "Осталось: 57\n",
      "Колонка:  page_urlhost\n",
      "Было:  (8,)\n"
     ]
    },
    {
     "name": "stderr",
     "output_type": "stream",
     "text": [
      "/usr/local/lib/python3.6/site-packages/ipykernel_launcher.py:7: SettingWithCopyWarning: \n",
      "A value is trying to be set on a copy of a slice from a DataFrame\n",
      "\n",
      "See the caveats in the documentation: https://pandas.pydata.org/pandas-docs/stable/user_guide/indexing.html#returning-a-view-versus-a-copy\n",
      "  import sys\n"
     ]
    },
    {
     "name": "stdout",
     "output_type": "stream",
     "text": [
      "Размерность признакового пространства (чило получившихся OneHot-переменны): 8\n",
      "Осталось: 5\n",
      "Колонка:  page_urlpath_full\n",
      "Было:  (5289,)\n"
     ]
    },
    {
     "name": "stderr",
     "output_type": "stream",
     "text": [
      "/usr/local/lib/python3.6/site-packages/ipykernel_launcher.py:7: SettingWithCopyWarning: \n",
      "A value is trying to be set on a copy of a slice from a DataFrame\n",
      "\n",
      "See the caveats in the documentation: https://pandas.pydata.org/pandas-docs/stable/user_guide/indexing.html#returning-a-view-versus-a-copy\n",
      "  import sys\n"
     ]
    },
    {
     "name": "stdout",
     "output_type": "stream",
     "text": [
      "Стало признаков: (6,)\n",
      "Размерность признакового пространства (чило получившихся OneHot-переменны): 6\n",
      "Осталось: 5\n",
      "Колонка:  net_connection_type\n",
      "Было:  (4,)\n"
     ]
    },
    {
     "name": "stderr",
     "output_type": "stream",
     "text": [
      "/usr/local/lib/python3.6/site-packages/ipykernel_launcher.py:7: SettingWithCopyWarning: \n",
      "A value is trying to be set on a copy of a slice from a DataFrame\n",
      "\n",
      "See the caveats in the documentation: https://pandas.pydata.org/pandas-docs/stable/user_guide/indexing.html#returning-a-view-versus-a-copy\n",
      "  import sys\n"
     ]
    },
    {
     "name": "stdout",
     "output_type": "stream",
     "text": [
      "Размерность признакового пространства (чило получившихся OneHot-переменны): 4\n",
      "Осталось: 3\n",
      "Колонка:  net_connection_tech\n",
      "Было:  (14,)\n"
     ]
    },
    {
     "name": "stderr",
     "output_type": "stream",
     "text": [
      "/usr/local/lib/python3.6/site-packages/ipykernel_launcher.py:7: SettingWithCopyWarning: \n",
      "A value is trying to be set on a copy of a slice from a DataFrame\n",
      "\n",
      "See the caveats in the documentation: https://pandas.pydata.org/pandas-docs/stable/user_guide/indexing.html#returning-a-view-versus-a-copy\n",
      "  import sys\n"
     ]
    },
    {
     "name": "stdout",
     "output_type": "stream",
     "text": [
      "Размерность признакового пространства (чило получившихся OneHot-переменны): 14\n",
      "Осталось: 11\n"
     ]
    }
   ],
   "source": [
    "dict_atrs_usefull_ctgrs = {col:feature_types_selection(parq, col) for col in  cols_to_check}"
   ]
  },
  {
   "cell_type": "code",
   "execution_count": 44,
   "metadata": {
    "collapsed": true,
    "jupyter": {
     "outputs_hidden": true
    }
   },
   "outputs": [
    {
     "name": "stdout",
     "output_type": "stream",
     "text": [
      "application_id\n",
      "13\n",
      "event_type\n",
      "4\n",
      "event_category\n",
      "30\n",
      "event_name\n",
      "49\n",
      "event_label\n",
      "22\n",
      "device_screen_name\n",
      "57\n",
      "page_urlhost\n",
      "5\n",
      "page_urlpath_full\n",
      "5\n",
      "net_connection_type\n",
      "3\n",
      "net_connection_tech\n",
      "11\n"
     ]
    }
   ],
   "source": [
    "for col in dict_atrs_usefull_ctgrs:\n",
    "    print(col)\n",
    "    print(len(dict_atrs_usefull_ctgrs[col]))"
   ]
  },
  {
   "cell_type": "code",
   "execution_count": 45,
   "metadata": {},
   "outputs": [],
   "source": [
    "import pickle"
   ]
  },
  {
   "cell_type": "code",
   "execution_count": 46,
   "metadata": {},
   "outputs": [],
   "source": [
    "pickle.dump(dict_atrs_usefull_ctgrs, open('dict_usefull_ctgrs', 'wb'))"
   ]
  },
  {
   "cell_type": "code",
   "execution_count": null,
   "metadata": {},
   "outputs": [],
   "source": []
  }
 ],
 "metadata": {
  "colab": {
   "collapsed_sections": [],
   "name": "History_chain.ipynb\"",
   "provenance": [],
   "toc_visible": true
  },
  "kernelspec": {
   "display_name": "Python 3.6",
   "language": "python36",
   "name": "python3.6"
  },
  "language_info": {
   "codemirror_mode": {
    "name": "ipython",
    "version": 3
   },
   "file_extension": ".py",
   "mimetype": "text/x-python",
   "name": "python",
   "nbconvert_exporter": "python",
   "pygments_lexer": "ipython3",
   "version": "3.6.8"
  }
 },
 "nbformat": 4,
 "nbformat_minor": 4
}
