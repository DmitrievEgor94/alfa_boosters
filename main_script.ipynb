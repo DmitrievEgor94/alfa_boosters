{
 "cells": [
  {
   "cell_type": "code",
   "execution_count": 3,
   "metadata": {},
   "outputs": [],
   "source": [
    "import pandas as pd\n",
    "import datetime\n",
    "\n",
    "import seaborn as sns\n",
    "sns.set(font_scale=1.3)\n",
    "\n",
    "import catboost as cb\n",
    "\n",
    "from sklearn.model_selection import train_test_split\n",
    "from sklearn.model_selection import cross_val_score, KFold, StratifiedKFold\n",
    "\n",
    "\n",
    "import numpy as np\n",
    "from sklearn.preprocessing import LabelEncoder\n",
    "\n",
    "from sklearn.metrics import f1_score, classification_report, confusion_matrix\n",
    "\n",
    "import warnings\n",
    "\n",
    "warnings.filterwarnings(\"ignore\")"
   ]
  },
  {
   "cell_type": "code",
   "execution_count": 4,
   "metadata": {},
   "outputs": [],
   "source": [
    "SEED = 1"
   ]
  },
  {
   "cell_type": "code",
   "execution_count": 6,
   "metadata": {},
   "outputs": [],
   "source": [
    "train_df_target = pd.read_csv('alfabattle2_abattle_train_target.csv')\n",
    "submit_df= pd.read_csv('alfabattle2_prediction_session_timestamp.csv')\n",
    "\n",
    "submit_df_test['timestamp'] = pd.to_datetime(submit_df['timestamp'])\n",
    "train_df_target['timestamp'] = pd.to_datetime(train_df_target['timestamp'])"
   ]
  },
  {
   "cell_type": "code",
   "execution_count": 7,
   "metadata": {},
   "outputs": [],
   "source": [
    "submit_df_test['timestamp'] = pd.to_datetime(submit_df['timestamp'])"
   ]
  },
  {
   "cell_type": "code",
   "execution_count": 9,
   "metadata": {},
   "outputs": [
    {
     "data": {
      "text/plain": [
       "(79268, 2)"
      ]
     },
     "execution_count": 9,
     "metadata": {},
     "output_type": "execute_result"
    }
   ],
   "source": [
    "submit_df.shape"
   ]
  },
  {
   "cell_type": "markdown",
   "metadata": {},
   "source": [
    "## SMALL EDA"
   ]
  },
  {
   "cell_type": "code",
   "execution_count": 4,
   "metadata": {},
   "outputs": [
    {
     "data": {
      "text/plain": [
       "array(['main_screen', 'invest', 'statement', 'phone_money_transfer',\n",
       "       'own_transfer', 'credit_info', 'chat', 'card2card_transfer',\n",
       "       'mobile_recharge', 'card_recharge'], dtype=object)"
      ]
     },
     "execution_count": 4,
     "metadata": {},
     "output_type": "execute_result"
    }
   ],
   "source": [
    "train_df_target.multi_class_target.unique()"
   ]
  },
  {
   "cell_type": "code",
   "execution_count": 5,
   "metadata": {},
   "outputs": [
    {
     "data": {
      "text/plain": [
       "(5065350, 4)"
      ]
     },
     "execution_count": 5,
     "metadata": {},
     "output_type": "execute_result"
    }
   ],
   "source": [
    "train_df_target.shape"
   ]
  },
  {
   "cell_type": "code",
   "execution_count": 6,
   "metadata": {
    "collapsed": true,
    "jupyter": {
     "outputs_hidden": true
    }
   },
   "outputs": [
    {
     "data": {
      "text/plain": [
       "main_screen             0.450268\n",
       "statement               0.182133\n",
       "credit_info             0.098453\n",
       "own_transfer            0.057267\n",
       "mobile_recharge         0.052609\n",
       "phone_money_transfer    0.045981\n",
       "card2card_transfer      0.038177\n",
       "chat                    0.036478\n",
       "card_recharge           0.027366\n",
       "invest                  0.011268\n",
       "Name: multi_class_target, dtype: float64"
      ]
     },
     "execution_count": 6,
     "metadata": {},
     "output_type": "execute_result"
    }
   ],
   "source": [
    "train_df_target.multi_class_target.value_counts()/train_df_target.multi_class_target.shape[0]"
   ]
  },
  {
   "cell_type": "code",
   "execution_count": 7,
   "metadata": {},
   "outputs": [
    {
     "data": {
      "text/html": [
       "<div>\n",
       "<style scoped>\n",
       "    .dataframe tbody tr th:only-of-type {\n",
       "        vertical-align: middle;\n",
       "    }\n",
       "\n",
       "    .dataframe tbody tr th {\n",
       "        vertical-align: top;\n",
       "    }\n",
       "\n",
       "    .dataframe thead th {\n",
       "        text-align: right;\n",
       "    }\n",
       "</style>\n",
       "<table border=\"1\" class=\"dataframe\">\n",
       "  <thead>\n",
       "    <tr style=\"text-align: right;\">\n",
       "      <th></th>\n",
       "      <th>session_id</th>\n",
       "      <th>client_pin</th>\n",
       "      <th>timestamp</th>\n",
       "      <th>multi_class_target</th>\n",
       "    </tr>\n",
       "  </thead>\n",
       "  <tbody>\n",
       "    <tr>\n",
       "      <th>0</th>\n",
       "      <td>0000029e72e5fcde6a9f29c3a3ed198f</td>\n",
       "      <td>7cf9221322a0e2fdefb1b998b8f2ab29</td>\n",
       "      <td>2020-06-15 14:01:12</td>\n",
       "      <td>main_screen</td>\n",
       "    </tr>\n",
       "  </tbody>\n",
       "</table>\n",
       "</div>"
      ],
      "text/plain": [
       "                         session_id                        client_pin  \\\n",
       "0  0000029e72e5fcde6a9f29c3a3ed198f  7cf9221322a0e2fdefb1b998b8f2ab29   \n",
       "\n",
       "            timestamp multi_class_target  \n",
       "0 2020-06-15 14:01:12        main_screen  "
      ]
     },
     "execution_count": 7,
     "metadata": {},
     "output_type": "execute_result"
    }
   ],
   "source": [
    "train_df_target.head(n=1)"
   ]
  },
  {
   "cell_type": "code",
   "execution_count": 15,
   "metadata": {},
   "outputs": [
    {
     "data": {
      "text/plain": [
       "(79268,)"
      ]
     },
     "execution_count": 15,
     "metadata": {},
     "output_type": "execute_result"
    }
   ],
   "source": [
    "submit_df.client_pin.unique().shape"
   ]
  },
  {
   "cell_type": "code",
   "execution_count": 16,
   "metadata": {},
   "outputs": [
    {
     "data": {
      "text/plain": [
       "(79268,)"
      ]
     },
     "execution_count": 16,
     "metadata": {},
     "output_type": "execute_result"
    }
   ],
   "source": [
    "train_df_target.client_pin.unique().shape"
   ]
  },
  {
   "cell_type": "code",
   "execution_count": 17,
   "metadata": {},
   "outputs": [
    {
     "data": {
      "text/plain": [
       "set()"
      ]
     },
     "execution_count": 17,
     "metadata": {},
     "output_type": "execute_result"
    }
   ],
   "source": [
    "set(train_df_target.client_pin.unique()).difference(submit_df.client_pin.unique())"
   ]
  },
  {
   "cell_type": "code",
   "execution_count": 10,
   "metadata": {},
   "outputs": [],
   "source": [
    "pd.options.display.max_rows = 100"
   ]
  },
  {
   "cell_type": "code",
   "execution_count": 19,
   "metadata": {},
   "outputs": [
    {
     "data": {
      "text/plain": [
       "674595ee5acb8c2ede30dadfa722ba9d    1646\n",
       "25074c2bd77b64c40a4c6a623a748724    1626\n",
       "e17a88a65bca752fbb13c2418ba09d18    1550\n",
       "bdfb2a491cb1a146358319b6955d7308    1535\n",
       "bb0a6c5a08ae8581854386e8421a3773    1487\n",
       "9d2d868c1a25534190017c32c4c94299    1452\n",
       "28a986fe76100867d16a1841630c0a84    1391\n",
       "7c644b12a138ab77c8932d8e35c3bd9f    1380\n",
       "d0209cfcb3ff095acd3c97c08c6c46a3    1300\n",
       "16a958d3c1d280ecac0d93411a9af478    1287\n",
       "Name: client_pin, dtype: int64"
      ]
     },
     "execution_count": 19,
     "metadata": {},
     "output_type": "execute_result"
    }
   ],
   "source": [
    "train_df_target['client_pin'].value_counts().head(n=10)"
   ]
  },
  {
   "cell_type": "code",
   "execution_count": 20,
   "metadata": {},
   "outputs": [],
   "source": [
    "test_user_df = train_df_target[train_df_target['client_pin'] == 'b95c4712fffcef8247a99d2b78af9f8b']"
   ]
  },
  {
   "cell_type": "code",
   "execution_count": 21,
   "metadata": {},
   "outputs": [],
   "source": [
    "test_user_df.sort_values(by='timestamp', inplace=True)"
   ]
  },
  {
   "cell_type": "code",
   "execution_count": 22,
   "metadata": {},
   "outputs": [],
   "source": [
    "test_user_df['prev_timestamp'] = test_user_df.groupby('client_pin').timestamp.shift(1)\n",
    "test_user_df['prev_target'] = test_user_df.groupby('client_pin').multi_class_target.shift(1)"
   ]
  },
  {
   "cell_type": "code",
   "execution_count": 32,
   "metadata": {},
   "outputs": [],
   "source": [
    "test_user_df['diff'] = test_user_df['timestamp'] - test_user_df['prev_timestamp']"
   ]
  },
  {
   "cell_type": "code",
   "execution_count": 33,
   "metadata": {},
   "outputs": [],
   "source": [
    "test_user_df['diff'] = test_user_df['diff']/np.timedelta64(1, 'm')"
   ]
  },
  {
   "cell_type": "code",
   "execution_count": 35,
   "metadata": {},
   "outputs": [
    {
     "data": {
      "text/html": [
       "<div>\n",
       "<style scoped>\n",
       "    .dataframe tbody tr th:only-of-type {\n",
       "        vertical-align: middle;\n",
       "    }\n",
       "\n",
       "    .dataframe tbody tr th {\n",
       "        vertical-align: top;\n",
       "    }\n",
       "\n",
       "    .dataframe thead th {\n",
       "        text-align: right;\n",
       "    }\n",
       "</style>\n",
       "<table border=\"1\" class=\"dataframe\">\n",
       "  <thead>\n",
       "    <tr style=\"text-align: right;\">\n",
       "      <th></th>\n",
       "      <th>session_id</th>\n",
       "      <th>client_pin</th>\n",
       "      <th>timestamp</th>\n",
       "      <th>multi_class_target</th>\n",
       "      <th>prev_timestamp</th>\n",
       "      <th>prev_target</th>\n",
       "      <th>diff</th>\n",
       "      <th>day</th>\n",
       "      <th>weekday</th>\n",
       "    </tr>\n",
       "  </thead>\n",
       "  <tbody>\n",
       "    <tr>\n",
       "      <th>2997084</th>\n",
       "      <td>ebc5c56a9df740c1e6088fc253652aaf</td>\n",
       "      <td>b95c4712fffcef8247a99d2b78af9f8b</td>\n",
       "      <td>2020-01-07 13:06:16</td>\n",
       "      <td>main_screen</td>\n",
       "      <td>2020-01-07 11:58:05</td>\n",
       "      <td>main_screen</td>\n",
       "      <td>68.183333</td>\n",
       "      <td>7</td>\n",
       "      <td>1</td>\n",
       "    </tr>\n",
       "    <tr>\n",
       "      <th>3305984</th>\n",
       "      <td>31e0e1d3fcacf8f294dcc7f01b550dc5</td>\n",
       "      <td>b95c4712fffcef8247a99d2b78af9f8b</td>\n",
       "      <td>2020-01-10 07:58:17</td>\n",
       "      <td>main_screen</td>\n",
       "      <td>2020-01-10 06:27:32</td>\n",
       "      <td>main_screen</td>\n",
       "      <td>90.750000</td>\n",
       "      <td>10</td>\n",
       "      <td>4</td>\n",
       "    </tr>\n",
       "    <tr>\n",
       "      <th>4847477</th>\n",
       "      <td>40f8b674cfebd33c952cd1ca25ee2f5f</td>\n",
       "      <td>b95c4712fffcef8247a99d2b78af9f8b</td>\n",
       "      <td>2020-01-17 11:25:59</td>\n",
       "      <td>main_screen</td>\n",
       "      <td>2020-01-17 10:49:47</td>\n",
       "      <td>main_screen</td>\n",
       "      <td>36.200000</td>\n",
       "      <td>17</td>\n",
       "      <td>4</td>\n",
       "    </tr>\n",
       "    <tr>\n",
       "      <th>3891100</th>\n",
       "      <td>0c1c809f2ab91b93bbe215382f022160</td>\n",
       "      <td>b95c4712fffcef8247a99d2b78af9f8b</td>\n",
       "      <td>2020-01-17 11:42:30</td>\n",
       "      <td>main_screen</td>\n",
       "      <td>2020-01-17 11:25:59</td>\n",
       "      <td>main_screen</td>\n",
       "      <td>16.516667</td>\n",
       "      <td>17</td>\n",
       "      <td>4</td>\n",
       "    </tr>\n",
       "    <tr>\n",
       "      <th>1214481</th>\n",
       "      <td>ec864b02c68cda2cc5c364d454993022</td>\n",
       "      <td>b95c4712fffcef8247a99d2b78af9f8b</td>\n",
       "      <td>2020-01-17 13:04:58</td>\n",
       "      <td>main_screen</td>\n",
       "      <td>2020-01-17 11:42:30</td>\n",
       "      <td>main_screen</td>\n",
       "      <td>82.466667</td>\n",
       "      <td>17</td>\n",
       "      <td>4</td>\n",
       "    </tr>\n",
       "    <tr>\n",
       "      <th>703665</th>\n",
       "      <td>b4491666148e1c80fd12d1ccfd7371eb</td>\n",
       "      <td>b95c4712fffcef8247a99d2b78af9f8b</td>\n",
       "      <td>2020-01-17 13:29:42</td>\n",
       "      <td>main_screen</td>\n",
       "      <td>2020-01-17 13:04:58</td>\n",
       "      <td>main_screen</td>\n",
       "      <td>24.733333</td>\n",
       "      <td>17</td>\n",
       "      <td>4</td>\n",
       "    </tr>\n",
       "    <tr>\n",
       "      <th>3832489</th>\n",
       "      <td>2580155009df0b857cd27e90e089a95c</td>\n",
       "      <td>b95c4712fffcef8247a99d2b78af9f8b</td>\n",
       "      <td>2020-01-17 18:07:58</td>\n",
       "      <td>main_screen</td>\n",
       "      <td>2020-01-17 16:52:57</td>\n",
       "      <td>main_screen</td>\n",
       "      <td>75.016667</td>\n",
       "      <td>17</td>\n",
       "      <td>4</td>\n",
       "    </tr>\n",
       "    <tr>\n",
       "      <th>2362031</th>\n",
       "      <td>9183cc1f706f758db63923199c501c24</td>\n",
       "      <td>b95c4712fffcef8247a99d2b78af9f8b</td>\n",
       "      <td>2020-01-17 20:11:03</td>\n",
       "      <td>main_screen</td>\n",
       "      <td>2020-01-17 19:52:13</td>\n",
       "      <td>main_screen</td>\n",
       "      <td>18.833333</td>\n",
       "      <td>17</td>\n",
       "      <td>4</td>\n",
       "    </tr>\n",
       "    <tr>\n",
       "      <th>3597523</th>\n",
       "      <td>8a3864e0f7cfa05c72079ba977730331</td>\n",
       "      <td>b95c4712fffcef8247a99d2b78af9f8b</td>\n",
       "      <td>2020-01-17 21:10:12</td>\n",
       "      <td>main_screen</td>\n",
       "      <td>2020-01-17 20:11:03</td>\n",
       "      <td>main_screen</td>\n",
       "      <td>59.150000</td>\n",
       "      <td>17</td>\n",
       "      <td>4</td>\n",
       "    </tr>\n",
       "    <tr>\n",
       "      <th>486339</th>\n",
       "      <td>04fa2c56456eae47ed932ff884c445a3</td>\n",
       "      <td>b95c4712fffcef8247a99d2b78af9f8b</td>\n",
       "      <td>2020-01-18 11:56:21</td>\n",
       "      <td>main_screen</td>\n",
       "      <td>2020-01-18 10:37:55</td>\n",
       "      <td>main_screen</td>\n",
       "      <td>78.433333</td>\n",
       "      <td>18</td>\n",
       "      <td>5</td>\n",
       "    </tr>\n",
       "  </tbody>\n",
       "</table>\n",
       "</div>"
      ],
      "text/plain": [
       "                               session_id                        client_pin  \\\n",
       "2997084  ebc5c56a9df740c1e6088fc253652aaf  b95c4712fffcef8247a99d2b78af9f8b   \n",
       "3305984  31e0e1d3fcacf8f294dcc7f01b550dc5  b95c4712fffcef8247a99d2b78af9f8b   \n",
       "4847477  40f8b674cfebd33c952cd1ca25ee2f5f  b95c4712fffcef8247a99d2b78af9f8b   \n",
       "3891100  0c1c809f2ab91b93bbe215382f022160  b95c4712fffcef8247a99d2b78af9f8b   \n",
       "1214481  ec864b02c68cda2cc5c364d454993022  b95c4712fffcef8247a99d2b78af9f8b   \n",
       "703665   b4491666148e1c80fd12d1ccfd7371eb  b95c4712fffcef8247a99d2b78af9f8b   \n",
       "3832489  2580155009df0b857cd27e90e089a95c  b95c4712fffcef8247a99d2b78af9f8b   \n",
       "2362031  9183cc1f706f758db63923199c501c24  b95c4712fffcef8247a99d2b78af9f8b   \n",
       "3597523  8a3864e0f7cfa05c72079ba977730331  b95c4712fffcef8247a99d2b78af9f8b   \n",
       "486339   04fa2c56456eae47ed932ff884c445a3  b95c4712fffcef8247a99d2b78af9f8b   \n",
       "\n",
       "                  timestamp multi_class_target      prev_timestamp  \\\n",
       "2997084 2020-01-07 13:06:16        main_screen 2020-01-07 11:58:05   \n",
       "3305984 2020-01-10 07:58:17        main_screen 2020-01-10 06:27:32   \n",
       "4847477 2020-01-17 11:25:59        main_screen 2020-01-17 10:49:47   \n",
       "3891100 2020-01-17 11:42:30        main_screen 2020-01-17 11:25:59   \n",
       "1214481 2020-01-17 13:04:58        main_screen 2020-01-17 11:42:30   \n",
       "703665  2020-01-17 13:29:42        main_screen 2020-01-17 13:04:58   \n",
       "3832489 2020-01-17 18:07:58        main_screen 2020-01-17 16:52:57   \n",
       "2362031 2020-01-17 20:11:03        main_screen 2020-01-17 19:52:13   \n",
       "3597523 2020-01-17 21:10:12        main_screen 2020-01-17 20:11:03   \n",
       "486339  2020-01-18 11:56:21        main_screen 2020-01-18 10:37:55   \n",
       "\n",
       "         prev_target       diff  day  weekday  \n",
       "2997084  main_screen  68.183333    7        1  \n",
       "3305984  main_screen  90.750000   10        4  \n",
       "4847477  main_screen  36.200000   17        4  \n",
       "3891100  main_screen  16.516667   17        4  \n",
       "1214481  main_screen  82.466667   17        4  \n",
       "703665   main_screen  24.733333   17        4  \n",
       "3832489  main_screen  75.016667   17        4  \n",
       "2362031  main_screen  18.833333   17        4  \n",
       "3597523  main_screen  59.150000   17        4  \n",
       "486339   main_screen  78.433333   18        5  "
      ]
     },
     "execution_count": 35,
     "metadata": {},
     "output_type": "execute_result"
    }
   ],
   "source": [
    "test_user_df[test_user_df['diff'] < 100].head(n=10)"
   ]
  },
  {
   "cell_type": "code",
   "execution_count": 36,
   "metadata": {},
   "outputs": [],
   "source": [
    "test_user_df['day'] = test_user_df['timestamp'].apply(lambda x: x.day)\n",
    "test_user_df['weekday'] = test_user_df['timestamp'].apply(lambda x: x.weekday())"
   ]
  },
  {
   "cell_type": "code",
   "execution_count": 38,
   "metadata": {},
   "outputs": [
    {
     "data": {
      "text/html": [
       "<div>\n",
       "<style scoped>\n",
       "    .dataframe tbody tr th:only-of-type {\n",
       "        vertical-align: middle;\n",
       "    }\n",
       "\n",
       "    .dataframe tbody tr th {\n",
       "        vertical-align: top;\n",
       "    }\n",
       "\n",
       "    .dataframe thead th {\n",
       "        text-align: right;\n",
       "    }\n",
       "</style>\n",
       "<table border=\"1\" class=\"dataframe\">\n",
       "  <thead>\n",
       "    <tr style=\"text-align: right;\">\n",
       "      <th></th>\n",
       "      <th>timestamp</th>\n",
       "      <th>prev_timestamp</th>\n",
       "      <th>diff</th>\n",
       "      <th>prev_target</th>\n",
       "      <th>multi_class_target</th>\n",
       "      <th>day</th>\n",
       "      <th>weekday</th>\n",
       "    </tr>\n",
       "  </thead>\n",
       "  <tbody>\n",
       "    <tr>\n",
       "      <th>4946629</th>\n",
       "      <td>2020-01-01 04:00:39</td>\n",
       "      <td>NaT</td>\n",
       "      <td>NaN</td>\n",
       "      <td>NaN</td>\n",
       "      <td>main_screen</td>\n",
       "      <td>1</td>\n",
       "      <td>2</td>\n",
       "    </tr>\n",
       "    <tr>\n",
       "      <th>1320507</th>\n",
       "      <td>2020-01-01 10:33:05</td>\n",
       "      <td>2020-01-01 04:00:39</td>\n",
       "      <td>392.433333</td>\n",
       "      <td>main_screen</td>\n",
       "      <td>main_screen</td>\n",
       "      <td>1</td>\n",
       "      <td>2</td>\n",
       "    </tr>\n",
       "    <tr>\n",
       "      <th>1590436</th>\n",
       "      <td>2020-01-01 12:52:17</td>\n",
       "      <td>2020-01-01 10:33:05</td>\n",
       "      <td>139.200000</td>\n",
       "      <td>main_screen</td>\n",
       "      <td>main_screen</td>\n",
       "      <td>1</td>\n",
       "      <td>2</td>\n",
       "    </tr>\n",
       "    <tr>\n",
       "      <th>309489</th>\n",
       "      <td>2020-01-01 15:37:08</td>\n",
       "      <td>2020-01-01 12:52:17</td>\n",
       "      <td>164.850000</td>\n",
       "      <td>main_screen</td>\n",
       "      <td>main_screen</td>\n",
       "      <td>1</td>\n",
       "      <td>2</td>\n",
       "    </tr>\n",
       "    <tr>\n",
       "      <th>1399544</th>\n",
       "      <td>2020-01-01 17:53:25</td>\n",
       "      <td>2020-01-01 15:37:08</td>\n",
       "      <td>136.283333</td>\n",
       "      <td>main_screen</td>\n",
       "      <td>main_screen</td>\n",
       "      <td>1</td>\n",
       "      <td>2</td>\n",
       "    </tr>\n",
       "    <tr>\n",
       "      <th>2742529</th>\n",
       "      <td>2020-01-02 11:27:30</td>\n",
       "      <td>2020-01-01 17:53:25</td>\n",
       "      <td>1054.083333</td>\n",
       "      <td>main_screen</td>\n",
       "      <td>invest</td>\n",
       "      <td>2</td>\n",
       "      <td>3</td>\n",
       "    </tr>\n",
       "    <tr>\n",
       "      <th>185478</th>\n",
       "      <td>2020-01-02 19:13:55</td>\n",
       "      <td>2020-01-02 11:27:30</td>\n",
       "      <td>466.416667</td>\n",
       "      <td>invest</td>\n",
       "      <td>main_screen</td>\n",
       "      <td>2</td>\n",
       "      <td>3</td>\n",
       "    </tr>\n",
       "    <tr>\n",
       "      <th>4787639</th>\n",
       "      <td>2020-01-03 09:10:58</td>\n",
       "      <td>2020-01-02 19:13:55</td>\n",
       "      <td>837.050000</td>\n",
       "      <td>main_screen</td>\n",
       "      <td>main_screen</td>\n",
       "      <td>3</td>\n",
       "      <td>4</td>\n",
       "    </tr>\n",
       "    <tr>\n",
       "      <th>3512952</th>\n",
       "      <td>2020-01-03 14:23:44</td>\n",
       "      <td>2020-01-03 09:10:58</td>\n",
       "      <td>312.766667</td>\n",
       "      <td>main_screen</td>\n",
       "      <td>main_screen</td>\n",
       "      <td>3</td>\n",
       "      <td>4</td>\n",
       "    </tr>\n",
       "    <tr>\n",
       "      <th>4606258</th>\n",
       "      <td>2020-01-03 17:18:04</td>\n",
       "      <td>2020-01-03 14:23:44</td>\n",
       "      <td>174.333333</td>\n",
       "      <td>main_screen</td>\n",
       "      <td>main_screen</td>\n",
       "      <td>3</td>\n",
       "      <td>4</td>\n",
       "    </tr>\n",
       "  </tbody>\n",
       "</table>\n",
       "</div>"
      ],
      "text/plain": [
       "                  timestamp      prev_timestamp         diff  prev_target  \\\n",
       "4946629 2020-01-01 04:00:39                 NaT          NaN          NaN   \n",
       "1320507 2020-01-01 10:33:05 2020-01-01 04:00:39   392.433333  main_screen   \n",
       "1590436 2020-01-01 12:52:17 2020-01-01 10:33:05   139.200000  main_screen   \n",
       "309489  2020-01-01 15:37:08 2020-01-01 12:52:17   164.850000  main_screen   \n",
       "1399544 2020-01-01 17:53:25 2020-01-01 15:37:08   136.283333  main_screen   \n",
       "2742529 2020-01-02 11:27:30 2020-01-01 17:53:25  1054.083333  main_screen   \n",
       "185478  2020-01-02 19:13:55 2020-01-02 11:27:30   466.416667       invest   \n",
       "4787639 2020-01-03 09:10:58 2020-01-02 19:13:55   837.050000  main_screen   \n",
       "3512952 2020-01-03 14:23:44 2020-01-03 09:10:58   312.766667  main_screen   \n",
       "4606258 2020-01-03 17:18:04 2020-01-03 14:23:44   174.333333  main_screen   \n",
       "\n",
       "        multi_class_target  day  weekday  \n",
       "4946629        main_screen    1        2  \n",
       "1320507        main_screen    1        2  \n",
       "1590436        main_screen    1        2  \n",
       "309489         main_screen    1        2  \n",
       "1399544        main_screen    1        2  \n",
       "2742529             invest    2        3  \n",
       "185478         main_screen    2        3  \n",
       "4787639        main_screen    3        4  \n",
       "3512952        main_screen    3        4  \n",
       "4606258        main_screen    3        4  "
      ]
     },
     "execution_count": 38,
     "metadata": {},
     "output_type": "execute_result"
    }
   ],
   "source": [
    "test_user_df[['timestamp','prev_timestamp','diff', 'prev_target', 'multi_class_target', 'day', 'weekday']].head(n=10)"
   ]
  },
  {
   "cell_type": "markdown",
   "metadata": {},
   "source": [
    "### Проверка, что таймстэмпы в сабмите выше трейна"
   ]
  },
  {
   "cell_type": "code",
   "execution_count": 4,
   "metadata": {},
   "outputs": [],
   "source": [
    "res = train_df_target[['client_pin','timestamp']].merge(submit_df[['client_pin','timestamp']], on='client_pin')"
   ]
  },
  {
   "cell_type": "code",
   "execution_count": 40,
   "metadata": {},
   "outputs": [
    {
     "data": {
      "text/plain": [
       "0.0"
      ]
     },
     "execution_count": 40,
     "metadata": {},
     "output_type": "execute_result"
    }
   ],
   "source": [
    "np.mean([res['timestamp_x']> res['timestamp_y']])"
   ]
  },
  {
   "cell_type": "raw",
   "metadata": {},
   "source": [
    "Итоги:\n",
    "\n",
    "-- все клиенты из сабмита есть в трейне;\n",
    "-- в сабмите данные с августа по конец сентября; а в трейне с январа по конец сентября;\n",
    "-- все таймстэмпы на пользователя в сабмите выше трейна;\n",
    "-- на одну сессию 1 запись.\n",
    "-- в сабмите все пользователи"
   ]
  },
  {
   "cell_type": "markdown",
   "metadata": {},
   "source": [
    "## FEATURE ENGENEERING"
   ]
  },
  {
   "cell_type": "raw",
   "metadata": {},
   "source": [
    "Добавить признаки:\n",
    "\n",
    "-- time_diff логарифм и квадрат (не зашло)\n",
    "-- отношение time_diff_1_0 к среднему time_diffу без учета (за 5 предыдущих сессий без учета) (надо проверить)\n",
    "-- в рамках одного дня количество сессий до этого (надо сделать)\n",
    "-- среднее количество сессий в течении одного дня (сделал, буст не особый)\n",
    "-- взять не только моду типа таргета но и рангом поменьше типы таргетов!!!! (сделано, не особо)\n",
    "-- считать среднее каждого таргета на предыдущий\n",
    "-- добавить статистики min, max, disp, mean для time_diff_1_0 и их отношения\n",
    "-- добавить вектор вероятностей из Марковоской матрицы перехода\n",
    "-- Гарч\n",
    "-- скрытый слой с нейронок взять и в хгбуст добавить"
   ]
  },
  {
   "cell_type": "code",
   "execution_count": 5,
   "metadata": {},
   "outputs": [],
   "source": [
    "df = pd.concat([train_df_target, submit_df])"
   ]
  },
  {
   "cell_type": "code",
   "execution_count": 6,
   "metadata": {},
   "outputs": [
    {
     "data": {
      "text/plain": [
       "((5065350, 4), (79268, 2), (5144618, 4))"
      ]
     },
     "execution_count": 6,
     "metadata": {},
     "output_type": "execute_result"
    }
   ],
   "source": [
    "train_df_target.shape, submit_df.shape, df.shape"
   ]
  },
  {
   "cell_type": "code",
   "execution_count": 7,
   "metadata": {},
   "outputs": [
    {
     "data": {
      "text/html": [
       "<div>\n",
       "<style scoped>\n",
       "    .dataframe tbody tr th:only-of-type {\n",
       "        vertical-align: middle;\n",
       "    }\n",
       "\n",
       "    .dataframe tbody tr th {\n",
       "        vertical-align: top;\n",
       "    }\n",
       "\n",
       "    .dataframe thead th {\n",
       "        text-align: right;\n",
       "    }\n",
       "</style>\n",
       "<table border=\"1\" class=\"dataframe\">\n",
       "  <thead>\n",
       "    <tr style=\"text-align: right;\">\n",
       "      <th></th>\n",
       "      <th>session_id</th>\n",
       "      <th>client_pin</th>\n",
       "      <th>timestamp</th>\n",
       "      <th>multi_class_target</th>\n",
       "    </tr>\n",
       "  </thead>\n",
       "  <tbody>\n",
       "    <tr>\n",
       "      <th>0</th>\n",
       "      <td>0000029e72e5fcde6a9f29c3a3ed198f</td>\n",
       "      <td>7cf9221322a0e2fdefb1b998b8f2ab29</td>\n",
       "      <td>2020-06-15 14:01:12</td>\n",
       "      <td>main_screen</td>\n",
       "    </tr>\n",
       "  </tbody>\n",
       "</table>\n",
       "</div>"
      ],
      "text/plain": [
       "                         session_id                        client_pin  \\\n",
       "0  0000029e72e5fcde6a9f29c3a3ed198f  7cf9221322a0e2fdefb1b998b8f2ab29   \n",
       "\n",
       "            timestamp multi_class_target  \n",
       "0 2020-06-15 14:01:12        main_screen  "
      ]
     },
     "execution_count": 7,
     "metadata": {},
     "output_type": "execute_result"
    }
   ],
   "source": [
    "df.head(n=1)"
   ]
  },
  {
   "cell_type": "markdown",
   "metadata": {},
   "source": [
    "### Работа со временем"
   ]
  },
  {
   "cell_type": "code",
   "execution_count": 8,
   "metadata": {},
   "outputs": [],
   "source": [
    "def process_time(df):\n",
    "    df['timestamp'] = pd.to_datetime(df.timestamp)\n",
    "    df['weekday'] = df['timestamp'].apply(lambda x: x.weekday())\n",
    "    df['day'] = df['timestamp'].apply(lambda x: x.day)\n",
    "    df['month'] = df['timestamp'].apply(lambda x: x.month)\n",
    "    df['hour'] = df['timestamp'].apply(lambda x: x.hour)\n",
    "#     df['minute'] = df['timestamp'].apply(lambda x: x.minute) кажется, что бесполезные\n",
    "#     df['second'] = df['timestamp'].apply(lambda x: x.second)\n",
    "    \n",
    "    return df"
   ]
  },
  {
   "cell_type": "code",
   "execution_count": 9,
   "metadata": {},
   "outputs": [],
   "source": [
    "df = process_time(df)"
   ]
  },
  {
   "cell_type": "code",
   "execution_count": 10,
   "metadata": {},
   "outputs": [],
   "source": [
    "df.sort_values(by='timestamp', inplace=True)"
   ]
  },
  {
   "cell_type": "markdown",
   "metadata": {},
   "source": [
    "### Получение предыдущих таргетов и разниц тайстэмпов между этими таргетами. Подсчет среднего времени между сессиями абонента"
   ]
  },
  {
   "cell_type": "code",
   "execution_count": 11,
   "metadata": {},
   "outputs": [],
   "source": [
    "deep_target_hist = 11"
   ]
  },
  {
   "cell_type": "code",
   "execution_count": 12,
   "metadata": {},
   "outputs": [],
   "source": [
    "df['timestamp_0'] = df['timestamp']"
   ]
  },
  {
   "cell_type": "code",
   "execution_count": 13,
   "metadata": {},
   "outputs": [],
   "source": [
    "from itertools import combinations"
   ]
  },
  {
   "cell_type": "code",
   "execution_count": 14,
   "metadata": {},
   "outputs": [],
   "source": [
    "for i in range(1, deep_target_hist):\n",
    "    df[f'target_{i}'] = df.groupby('client_pin').multi_class_target.shift(i)\n",
    "    df[f'timestamp_{i}'] = df.groupby('client_pin').timestamp.shift(i)\n",
    "    df.loc[df[f'target_{i}'].isnull(), f'target_{i}'] = 'nan'\n",
    "    \n",
    "    time_comb = list(combinations(range(i+1), 2))\n",
    "    \n",
    "    for comb in time_comb:\n",
    "        t_2, t_1 = comb\n",
    "        df[f'time_diff_{t_1}_{t_2}'] = (df[f'timestamp_{t_2}'] - df[f'timestamp_{t_1}'])/np.timedelta64(1, 'm')"
   ]
  },
  {
   "cell_type": "code",
   "execution_count": 15,
   "metadata": {},
   "outputs": [
    {
     "name": "stdout",
     "output_type": "stream",
     "text": [
      "CPU times: user 7.4 s, sys: 5.09 s, total: 12.5 s\n",
      "Wall time: 12.5 s\n"
     ]
    }
   ],
   "source": [
    "%%time\n",
    "\n",
    "df['mean_diff_time_global'] = df.groupby('client_pin')['time_diff_1_0'].cumsum()/(df.groupby('client_pin').cumcount())\n",
    "df['mean_diff_time_global'] = df.groupby('client_pin')['mean_diff_time_global'].shift(1)\n",
    "\n",
    "df['mean_diff_time_global_explotation'] = df['time_diff_1_0'] / df['mean_diff_time_global']"
   ]
  },
  {
   "cell_type": "code",
   "execution_count": 16,
   "metadata": {},
   "outputs": [],
   "source": [
    "test_user = df[df['client_pin'] == '5b59bf5bd1e07775b1bc95dd7151d2cd']"
   ]
  },
  {
   "cell_type": "code",
   "execution_count": 17,
   "metadata": {},
   "outputs": [
    {
     "data": {
      "text/html": [
       "<div>\n",
       "<style scoped>\n",
       "    .dataframe tbody tr th:only-of-type {\n",
       "        vertical-align: middle;\n",
       "    }\n",
       "\n",
       "    .dataframe tbody tr th {\n",
       "        vertical-align: top;\n",
       "    }\n",
       "\n",
       "    .dataframe thead th {\n",
       "        text-align: right;\n",
       "    }\n",
       "</style>\n",
       "<table border=\"1\" class=\"dataframe\">\n",
       "  <thead>\n",
       "    <tr style=\"text-align: right;\">\n",
       "      <th></th>\n",
       "      <th>time_diff_1_0</th>\n",
       "      <th>mean_diff_time_global</th>\n",
       "      <th>timestamp</th>\n",
       "    </tr>\n",
       "  </thead>\n",
       "  <tbody>\n",
       "    <tr>\n",
       "      <th>2332378</th>\n",
       "      <td>NaN</td>\n",
       "      <td>NaN</td>\n",
       "      <td>2020-01-06 15:57:33</td>\n",
       "    </tr>\n",
       "    <tr>\n",
       "      <th>3973900</th>\n",
       "      <td>3925.566667</td>\n",
       "      <td>NaN</td>\n",
       "      <td>2020-01-09 09:23:07</td>\n",
       "    </tr>\n",
       "    <tr>\n",
       "      <th>4067820</th>\n",
       "      <td>543.350000</td>\n",
       "      <td>3925.566667</td>\n",
       "      <td>2020-01-09 18:26:28</td>\n",
       "    </tr>\n",
       "    <tr>\n",
       "      <th>1083722</th>\n",
       "      <td>1535.316667</td>\n",
       "      <td>2234.458333</td>\n",
       "      <td>2020-01-10 20:01:47</td>\n",
       "    </tr>\n",
       "    <tr>\n",
       "      <th>1079056</th>\n",
       "      <td>7194.283333</td>\n",
       "      <td>2001.411111</td>\n",
       "      <td>2020-01-15 19:56:04</td>\n",
       "    </tr>\n",
       "    <tr>\n",
       "      <th>3953524</th>\n",
       "      <td>23975.183333</td>\n",
       "      <td>3299.629167</td>\n",
       "      <td>2020-02-01 11:31:15</td>\n",
       "    </tr>\n",
       "    <tr>\n",
       "      <th>4487205</th>\n",
       "      <td>10104.800000</td>\n",
       "      <td>7434.740000</td>\n",
       "      <td>2020-02-08 11:56:03</td>\n",
       "    </tr>\n",
       "    <tr>\n",
       "      <th>2145116</th>\n",
       "      <td>42.266667</td>\n",
       "      <td>7879.750000</td>\n",
       "      <td>2020-02-08 12:38:19</td>\n",
       "    </tr>\n",
       "    <tr>\n",
       "      <th>202748</th>\n",
       "      <td>3162.833333</td>\n",
       "      <td>6760.109524</td>\n",
       "      <td>2020-02-10 17:21:09</td>\n",
       "    </tr>\n",
       "    <tr>\n",
       "      <th>1681641</th>\n",
       "      <td>22786.233333</td>\n",
       "      <td>6310.450000</td>\n",
       "      <td>2020-02-26 13:07:23</td>\n",
       "    </tr>\n",
       "  </tbody>\n",
       "</table>\n",
       "</div>"
      ],
      "text/plain": [
       "         time_diff_1_0  mean_diff_time_global           timestamp\n",
       "2332378            NaN                    NaN 2020-01-06 15:57:33\n",
       "3973900    3925.566667                    NaN 2020-01-09 09:23:07\n",
       "4067820     543.350000            3925.566667 2020-01-09 18:26:28\n",
       "1083722    1535.316667            2234.458333 2020-01-10 20:01:47\n",
       "1079056    7194.283333            2001.411111 2020-01-15 19:56:04\n",
       "3953524   23975.183333            3299.629167 2020-02-01 11:31:15\n",
       "4487205   10104.800000            7434.740000 2020-02-08 11:56:03\n",
       "2145116      42.266667            7879.750000 2020-02-08 12:38:19\n",
       "202748     3162.833333            6760.109524 2020-02-10 17:21:09\n",
       "1681641   22786.233333            6310.450000 2020-02-26 13:07:23"
      ]
     },
     "execution_count": 17,
     "metadata": {},
     "output_type": "execute_result"
    }
   ],
   "source": [
    "test_user[['time_diff_1_0', 'mean_diff_time_global', 'timestamp']].head(n=10)"
   ]
  },
  {
   "cell_type": "markdown",
   "metadata": {},
   "source": [
    "### Количество сессий на абонента"
   ]
  },
  {
   "cell_type": "code",
   "execution_count": 18,
   "metadata": {},
   "outputs": [],
   "source": [
    "df.sort_values(by='timestamp', inplace=True)"
   ]
  },
  {
   "cell_type": "code",
   "execution_count": 19,
   "metadata": {},
   "outputs": [],
   "source": [
    "df['sessions_number'] = df.groupby('client_pin').cumcount()"
   ]
  },
  {
   "cell_type": "code",
   "execution_count": 2100,
   "metadata": {},
   "outputs": [],
   "source": [
    "test_user = df[df['client_pin'] == '586fe605f61e81581efe72d9d3dc237d']"
   ]
  },
  {
   "cell_type": "code",
   "execution_count": 2101,
   "metadata": {
    "collapsed": true,
    "jupyter": {
     "outputs_hidden": true
    }
   },
   "outputs": [
    {
     "data": {
      "text/html": [
       "<div>\n",
       "<style scoped>\n",
       "    .dataframe tbody tr th:only-of-type {\n",
       "        vertical-align: middle;\n",
       "    }\n",
       "\n",
       "    .dataframe tbody tr th {\n",
       "        vertical-align: top;\n",
       "    }\n",
       "\n",
       "    .dataframe thead th {\n",
       "        text-align: right;\n",
       "    }\n",
       "</style>\n",
       "<table border=\"1\" class=\"dataframe\">\n",
       "  <thead>\n",
       "    <tr style=\"text-align: right;\">\n",
       "      <th></th>\n",
       "      <th>sessions_number</th>\n",
       "      <th>timestamp</th>\n",
       "    </tr>\n",
       "  </thead>\n",
       "  <tbody>\n",
       "    <tr>\n",
       "      <th>514708</th>\n",
       "      <td>0</td>\n",
       "      <td>2020-01-01 00:00:01</td>\n",
       "    </tr>\n",
       "    <tr>\n",
       "      <th>4442807</th>\n",
       "      <td>1</td>\n",
       "      <td>2020-01-09 21:32:15</td>\n",
       "    </tr>\n",
       "    <tr>\n",
       "      <th>2925094</th>\n",
       "      <td>2</td>\n",
       "      <td>2020-01-20 08:57:05</td>\n",
       "    </tr>\n",
       "    <tr>\n",
       "      <th>1149497</th>\n",
       "      <td>3</td>\n",
       "      <td>2020-01-28 00:17:55</td>\n",
       "    </tr>\n",
       "    <tr>\n",
       "      <th>1037144</th>\n",
       "      <td>4</td>\n",
       "      <td>2020-02-03 16:00:01</td>\n",
       "    </tr>\n",
       "    <tr>\n",
       "      <th>2605473</th>\n",
       "      <td>5</td>\n",
       "      <td>2020-02-05 14:54:06</td>\n",
       "    </tr>\n",
       "    <tr>\n",
       "      <th>2542136</th>\n",
       "      <td>6</td>\n",
       "      <td>2020-02-19 16:36:55</td>\n",
       "    </tr>\n",
       "    <tr>\n",
       "      <th>2201877</th>\n",
       "      <td>7</td>\n",
       "      <td>2020-03-04 18:24:24</td>\n",
       "    </tr>\n",
       "    <tr>\n",
       "      <th>1872344</th>\n",
       "      <td>8</td>\n",
       "      <td>2020-03-05 07:51:26</td>\n",
       "    </tr>\n",
       "    <tr>\n",
       "      <th>2234217</th>\n",
       "      <td>9</td>\n",
       "      <td>2020-03-19 21:57:19</td>\n",
       "    </tr>\n",
       "  </tbody>\n",
       "</table>\n",
       "</div>"
      ],
      "text/plain": [
       "         sessions_number           timestamp\n",
       "514708                 0 2020-01-01 00:00:01\n",
       "4442807                1 2020-01-09 21:32:15\n",
       "2925094                2 2020-01-20 08:57:05\n",
       "1149497                3 2020-01-28 00:17:55\n",
       "1037144                4 2020-02-03 16:00:01\n",
       "2605473                5 2020-02-05 14:54:06\n",
       "2542136                6 2020-02-19 16:36:55\n",
       "2201877                7 2020-03-04 18:24:24\n",
       "1872344                8 2020-03-05 07:51:26\n",
       "2234217                9 2020-03-19 21:57:19"
      ]
     },
     "execution_count": 2101,
     "metadata": {},
     "output_type": "execute_result"
    }
   ],
   "source": [
    "test_user[['sessions_number','timestamp']].head(n=10)"
   ]
  },
  {
   "cell_type": "markdown",
   "metadata": {
    "jupyter": {
     "source_hidden": true
    }
   },
   "source": [
    "### Суммарное количество каждого таргета в прошлом"
   ]
  },
  {
   "cell_type": "code",
   "execution_count": 22,
   "metadata": {},
   "outputs": [],
   "source": [
    "df.loc[df['multi_class_target'].isnull(), 'multi_class_target'] = 'nan'"
   ]
  },
  {
   "cell_type": "code",
   "execution_count": 23,
   "metadata": {},
   "outputs": [],
   "source": [
    "# df.drop(columns = cols, inplace=True)"
   ]
  },
  {
   "cell_type": "code",
   "execution_count": 24,
   "metadata": {},
   "outputs": [
    {
     "name": "stdout",
     "output_type": "stream",
     "text": [
      "prev_sum_card2card_transfer 193378\n",
      "prev_sum_card_recharge 138616\n",
      "prev_sum_chat 184775\n",
      "prev_sum_credit_info 498698\n",
      "prev_sum_invest 57078\n",
      "prev_sum_main_screen 2280763\n",
      "prev_sum_mobile_recharge 266485\n",
      "prev_sum_own_transfer 290077\n",
      "prev_sum_phone_money_transfer 232911\n",
      "prev_sum_statement 922569\n"
     ]
    }
   ],
   "source": [
    "buf = pd.get_dummies(df['multi_class_target'], prefix='prev_sum')\n",
    "\n",
    "buf.drop(columns='prev_sum_nan', inplace=True)\n",
    "\n",
    "cols = buf.columns\n",
    "\n",
    "df = pd.concat([buf, df], axis=1)\n",
    "\n",
    "test_user = df[df['client_pin'] == '5b59bf5bd1e07775b1bc95dd7151d2cd']\n",
    "\n",
    "for col in cols:\n",
    "    print(col, buf[col].sum())\n",
    "    df[col] = df.groupby('client_pin')[col].cumsum()\n",
    "    df[col] = df.groupby('client_pin')[col].shift(1)"
   ]
  },
  {
   "cell_type": "code",
   "execution_count": 29,
   "metadata": {},
   "outputs": [
    {
     "data": {
      "text/plain": [
       "Index(['prev_sum_card2card_transfer', 'prev_sum_card_recharge',\n",
       "       'prev_sum_chat', 'prev_sum_credit_info', 'prev_sum_invest',\n",
       "       'prev_sum_main_screen', 'prev_sum_mobile_recharge',\n",
       "       'prev_sum_own_transfer', 'prev_sum_phone_money_transfer',\n",
       "       'prev_sum_statement'],\n",
       "      dtype='object')"
      ]
     },
     "execution_count": 29,
     "metadata": {},
     "output_type": "execute_result"
    }
   ],
   "source": [
    "cols"
   ]
  },
  {
   "cell_type": "code",
   "execution_count": 30,
   "metadata": {},
   "outputs": [
    {
     "data": {
      "text/html": [
       "<div>\n",
       "<style scoped>\n",
       "    .dataframe tbody tr th:only-of-type {\n",
       "        vertical-align: middle;\n",
       "    }\n",
       "\n",
       "    .dataframe tbody tr th {\n",
       "        vertical-align: top;\n",
       "    }\n",
       "\n",
       "    .dataframe thead th {\n",
       "        text-align: right;\n",
       "    }\n",
       "</style>\n",
       "<table border=\"1\" class=\"dataframe\">\n",
       "  <thead>\n",
       "    <tr style=\"text-align: right;\">\n",
       "      <th></th>\n",
       "      <th>prev_sum_card2card_transfer</th>\n",
       "      <th>prev_sum_card_recharge</th>\n",
       "      <th>prev_sum_chat</th>\n",
       "      <th>prev_sum_credit_info</th>\n",
       "      <th>prev_sum_invest</th>\n",
       "      <th>prev_sum_main_screen</th>\n",
       "      <th>prev_sum_mobile_recharge</th>\n",
       "      <th>prev_sum_own_transfer</th>\n",
       "      <th>prev_sum_phone_money_transfer</th>\n",
       "      <th>prev_sum_statement</th>\n",
       "    </tr>\n",
       "  </thead>\n",
       "  <tbody>\n",
       "    <tr>\n",
       "      <th>2332378</th>\n",
       "      <td>NaN</td>\n",
       "      <td>NaN</td>\n",
       "      <td>NaN</td>\n",
       "      <td>NaN</td>\n",
       "      <td>NaN</td>\n",
       "      <td>NaN</td>\n",
       "      <td>NaN</td>\n",
       "      <td>NaN</td>\n",
       "      <td>NaN</td>\n",
       "      <td>NaN</td>\n",
       "    </tr>\n",
       "    <tr>\n",
       "      <th>3973900</th>\n",
       "      <td>0.0</td>\n",
       "      <td>0.0</td>\n",
       "      <td>0.0</td>\n",
       "      <td>0.0</td>\n",
       "      <td>0.0</td>\n",
       "      <td>1.0</td>\n",
       "      <td>0.0</td>\n",
       "      <td>0.0</td>\n",
       "      <td>0.0</td>\n",
       "      <td>0.0</td>\n",
       "    </tr>\n",
       "    <tr>\n",
       "      <th>4067820</th>\n",
       "      <td>0.0</td>\n",
       "      <td>0.0</td>\n",
       "      <td>0.0</td>\n",
       "      <td>0.0</td>\n",
       "      <td>0.0</td>\n",
       "      <td>2.0</td>\n",
       "      <td>0.0</td>\n",
       "      <td>0.0</td>\n",
       "      <td>0.0</td>\n",
       "      <td>0.0</td>\n",
       "    </tr>\n",
       "    <tr>\n",
       "      <th>1083722</th>\n",
       "      <td>0.0</td>\n",
       "      <td>0.0</td>\n",
       "      <td>0.0</td>\n",
       "      <td>0.0</td>\n",
       "      <td>0.0</td>\n",
       "      <td>3.0</td>\n",
       "      <td>0.0</td>\n",
       "      <td>0.0</td>\n",
       "      <td>0.0</td>\n",
       "      <td>0.0</td>\n",
       "    </tr>\n",
       "    <tr>\n",
       "      <th>1079056</th>\n",
       "      <td>0.0</td>\n",
       "      <td>0.0</td>\n",
       "      <td>0.0</td>\n",
       "      <td>0.0</td>\n",
       "      <td>0.0</td>\n",
       "      <td>4.0</td>\n",
       "      <td>0.0</td>\n",
       "      <td>0.0</td>\n",
       "      <td>0.0</td>\n",
       "      <td>0.0</td>\n",
       "    </tr>\n",
       "    <tr>\n",
       "      <th>3953524</th>\n",
       "      <td>0.0</td>\n",
       "      <td>0.0</td>\n",
       "      <td>0.0</td>\n",
       "      <td>0.0</td>\n",
       "      <td>0.0</td>\n",
       "      <td>5.0</td>\n",
       "      <td>0.0</td>\n",
       "      <td>0.0</td>\n",
       "      <td>0.0</td>\n",
       "      <td>0.0</td>\n",
       "    </tr>\n",
       "    <tr>\n",
       "      <th>4487205</th>\n",
       "      <td>0.0</td>\n",
       "      <td>0.0</td>\n",
       "      <td>0.0</td>\n",
       "      <td>0.0</td>\n",
       "      <td>0.0</td>\n",
       "      <td>6.0</td>\n",
       "      <td>0.0</td>\n",
       "      <td>0.0</td>\n",
       "      <td>0.0</td>\n",
       "      <td>0.0</td>\n",
       "    </tr>\n",
       "    <tr>\n",
       "      <th>2145116</th>\n",
       "      <td>0.0</td>\n",
       "      <td>0.0</td>\n",
       "      <td>0.0</td>\n",
       "      <td>0.0</td>\n",
       "      <td>0.0</td>\n",
       "      <td>7.0</td>\n",
       "      <td>0.0</td>\n",
       "      <td>0.0</td>\n",
       "      <td>0.0</td>\n",
       "      <td>0.0</td>\n",
       "    </tr>\n",
       "    <tr>\n",
       "      <th>202748</th>\n",
       "      <td>0.0</td>\n",
       "      <td>0.0</td>\n",
       "      <td>0.0</td>\n",
       "      <td>0.0</td>\n",
       "      <td>0.0</td>\n",
       "      <td>8.0</td>\n",
       "      <td>0.0</td>\n",
       "      <td>0.0</td>\n",
       "      <td>0.0</td>\n",
       "      <td>0.0</td>\n",
       "    </tr>\n",
       "    <tr>\n",
       "      <th>1681641</th>\n",
       "      <td>0.0</td>\n",
       "      <td>0.0</td>\n",
       "      <td>0.0</td>\n",
       "      <td>0.0</td>\n",
       "      <td>0.0</td>\n",
       "      <td>9.0</td>\n",
       "      <td>0.0</td>\n",
       "      <td>0.0</td>\n",
       "      <td>0.0</td>\n",
       "      <td>0.0</td>\n",
       "    </tr>\n",
       "  </tbody>\n",
       "</table>\n",
       "</div>"
      ],
      "text/plain": [
       "         prev_sum_card2card_transfer  prev_sum_card_recharge  prev_sum_chat  \\\n",
       "2332378                          NaN                     NaN            NaN   \n",
       "3973900                          0.0                     0.0            0.0   \n",
       "4067820                          0.0                     0.0            0.0   \n",
       "1083722                          0.0                     0.0            0.0   \n",
       "1079056                          0.0                     0.0            0.0   \n",
       "3953524                          0.0                     0.0            0.0   \n",
       "4487205                          0.0                     0.0            0.0   \n",
       "2145116                          0.0                     0.0            0.0   \n",
       "202748                           0.0                     0.0            0.0   \n",
       "1681641                          0.0                     0.0            0.0   \n",
       "\n",
       "         prev_sum_credit_info  prev_sum_invest  prev_sum_main_screen  \\\n",
       "2332378                   NaN              NaN                   NaN   \n",
       "3973900                   0.0              0.0                   1.0   \n",
       "4067820                   0.0              0.0                   2.0   \n",
       "1083722                   0.0              0.0                   3.0   \n",
       "1079056                   0.0              0.0                   4.0   \n",
       "3953524                   0.0              0.0                   5.0   \n",
       "4487205                   0.0              0.0                   6.0   \n",
       "2145116                   0.0              0.0                   7.0   \n",
       "202748                    0.0              0.0                   8.0   \n",
       "1681641                   0.0              0.0                   9.0   \n",
       "\n",
       "         prev_sum_mobile_recharge  prev_sum_own_transfer  \\\n",
       "2332378                       NaN                    NaN   \n",
       "3973900                       0.0                    0.0   \n",
       "4067820                       0.0                    0.0   \n",
       "1083722                       0.0                    0.0   \n",
       "1079056                       0.0                    0.0   \n",
       "3953524                       0.0                    0.0   \n",
       "4487205                       0.0                    0.0   \n",
       "2145116                       0.0                    0.0   \n",
       "202748                        0.0                    0.0   \n",
       "1681641                       0.0                    0.0   \n",
       "\n",
       "         prev_sum_phone_money_transfer  prev_sum_statement  \n",
       "2332378                            NaN                 NaN  \n",
       "3973900                            0.0                 0.0  \n",
       "4067820                            0.0                 0.0  \n",
       "1083722                            0.0                 0.0  \n",
       "1079056                            0.0                 0.0  \n",
       "3953524                            0.0                 0.0  \n",
       "4487205                            0.0                 0.0  \n",
       "2145116                            0.0                 0.0  \n",
       "202748                             0.0                 0.0  \n",
       "1681641                            0.0                 0.0  "
      ]
     },
     "execution_count": 30,
     "metadata": {},
     "output_type": "execute_result"
    }
   ],
   "source": [
    "df[df['client_pin'] == '5b59bf5bd1e07775b1bc95dd7151d2cd'][cols].head(n=10)"
   ]
  },
  {
   "cell_type": "markdown",
   "metadata": {},
   "source": [
    "### Количество подряд идущих знаний прошлого таргета, считается долго"
   ]
  },
  {
   "cell_type": "code",
   "execution_count": 31,
   "metadata": {},
   "outputs": [],
   "source": [
    "lb = LabelEncoder()"
   ]
  },
  {
   "cell_type": "code",
   "execution_count": 32,
   "metadata": {},
   "outputs": [],
   "source": [
    "df['label'] = lb.fit_transform(df['multi_class_target'])"
   ]
  },
  {
   "cell_type": "code",
   "execution_count": 33,
   "metadata": {},
   "outputs": [],
   "source": [
    "## Выполняется долго\n",
    "%%time\n",
    "\n",
    "def get_seq_last_target_len(df):\n",
    "    df = df.iloc[:-1]\n",
    "    \n",
    "    if len(df) == 0:\n",
    "        return 0\n",
    "    \n",
    "    value = df.iloc[-1]\n",
    "        \n",
    "    n_sum = 0\n",
    "    \n",
    "    for el in df.iloc[::-1]:\n",
    "        if el != value:\n",
    "            break\n",
    "        else:\n",
    "            n_sum += 1\n",
    "    \n",
    "    return n_sum\n",
    "\n",
    "df['seq_last_target_len'] = df.groupby('client_pin')['label'].transform(lambda x: x.rolling(window=x.shape[0], min_periods=1).apply(lambda x: get_seq_last_target_len(x)))"
   ]
  },
  {
   "cell_type": "markdown",
   "metadata": {},
   "source": [
    "### Получения самого частого таргета в прошлом, помогает получение только последнего. Генерация фичей, показывающие отношения между этими таргетами"
   ]
  },
  {
   "cell_type": "code",
   "execution_count": 34,
   "metadata": {},
   "outputs": [],
   "source": [
    "target_cols = [val for val in df['multi_class_target'].unique() if str(val) !='nan']"
   ]
  },
  {
   "cell_type": "code",
   "execution_count": 36,
   "metadata": {},
   "outputs": [
    {
     "name": "stdout",
     "output_type": "stream",
     "text": [
      "CPU times: user 5.39 s, sys: 3.72 s, total: 9.11 s\n",
      "Wall time: 9.13 s\n"
     ]
    }
   ],
   "source": [
    "%%time\n",
    "buf = df[cols].rename({col: col.split('prev_sum_')[1] for col in cols}, axis=1)\n",
    "\n",
    "bigger_cols = []\n",
    "\n",
    "for pair in list(combinations(target_cols, 2)):\n",
    "    el_1, el_2 = pair\n",
    "    \n",
    "    buf[f'bigger_{el_1}_{el_2}'] = buf[el_1] > buf[el_2]\n",
    "    bigger_cols.append(f'bigger_{el_1}_{el_2}')\n",
    "    \n",
    "df = pd.concat([buf[bigger_cols], df], axis=1)"
   ]
  },
  {
   "cell_type": "code",
   "execution_count": 37,
   "metadata": {},
   "outputs": [
    {
     "data": {
      "text/plain": [
       "array([ True, False, False, False, False, False, False, False, False,\n",
       "       False, False, False, False, False, False, False, False, False,\n",
       "       False, False, False, False, False, False, False, False, False,\n",
       "       False, False, False, False, False, False, False, False, False,\n",
       "       False, False, False, False, False, False, False, False, False,\n",
       "       False, False, False, False, False, False, False, False, False,\n",
       "       False, False, False, False, False, False, False, False, False,\n",
       "       False, False, False, False, False, False, False, False, False,\n",
       "       False, False, False, False, False, False, False, False, False,\n",
       "       False, False, False, False, False, False, False, False, False,\n",
       "       False, False, False, False, False, False, False, False, False,\n",
       "       False, False, False, False, False, False, False, False, False,\n",
       "       False, False, False, False, False, False, False, False, False,\n",
       "       False, False, False, False, False, False, False, False, False,\n",
       "       False, False, False, False, False, False, False, False, False,\n",
       "       False, False, False, False, False, False, False, False, False])"
      ]
     },
     "execution_count": 37,
     "metadata": {},
     "output_type": "execute_result"
    }
   ],
   "source": [
    "## проверка, что нету дублей\n",
    "df.columns == 'bigger_mobile_recharge_statement'"
   ]
  },
  {
   "cell_type": "code",
   "execution_count": 38,
   "metadata": {},
   "outputs": [],
   "source": [
    "df['top_target'] = cols[df[cols].values.argsort(1)[:, -1]]\n",
    "df['top_target_2'] = cols[df[cols].values.argsort(1)[:, -2]]\n",
    "df['top_target_3'] = cols[df[cols].values.argsort(1)[:, -3]]"
   ]
  },
  {
   "cell_type": "markdown",
   "metadata": {},
   "source": [
    "Теперь нужно проставить наны там, где топ предыдущих таргетов на самом деле ещё нету"
   ]
  },
  {
   "cell_type": "code",
   "execution_count": 39,
   "metadata": {},
   "outputs": [],
   "source": [
    "df.loc[df['sessions_number'] == 0, ['top_target', 'top_target_2', 'top_target_3']] = 'nan'"
   ]
  },
  {
   "cell_type": "code",
   "execution_count": 40,
   "metadata": {},
   "outputs": [],
   "source": [
    "els = df['top_target_2'].unique()\n",
    "els = np.delete(els, 0)"
   ]
  },
  {
   "cell_type": "code",
   "execution_count": 41,
   "metadata": {},
   "outputs": [
    {
     "name": "stdout",
     "output_type": "stream",
     "text": [
      "CPU times: user 5.52 s, sys: 1.63 s, total: 7.15 s\n",
      "Wall time: 7.17 s\n"
     ]
    }
   ],
   "source": [
    "%%time\n",
    "\n",
    "for el in els:\n",
    "    df.loc[(df['top_target_2'] == el) & (df[el] == 0), ['top_target_2', 'top_target_3']] = 'nan'\n",
    "    df.loc[(df['top_target_3'] == el) & (df[el] == 0), 'top_target_3'] = 'nan'"
   ]
  },
  {
   "cell_type": "code",
   "execution_count": 42,
   "metadata": {},
   "outputs": [],
   "source": [
    "test_user = df[df['client_pin'] == '5b59bf5bd1e07775b1bc95dd7151d2cd']"
   ]
  },
  {
   "cell_type": "code",
   "execution_count": 43,
   "metadata": {
    "collapsed": true,
    "jupyter": {
     "outputs_hidden": true
    }
   },
   "outputs": [
    {
     "data": {
      "text/html": [
       "<div>\n",
       "<style scoped>\n",
       "    .dataframe tbody tr th:only-of-type {\n",
       "        vertical-align: middle;\n",
       "    }\n",
       "\n",
       "    .dataframe tbody tr th {\n",
       "        vertical-align: top;\n",
       "    }\n",
       "\n",
       "    .dataframe thead th {\n",
       "        text-align: right;\n",
       "    }\n",
       "</style>\n",
       "<table border=\"1\" class=\"dataframe\">\n",
       "  <thead>\n",
       "    <tr style=\"text-align: right;\">\n",
       "      <th></th>\n",
       "      <th>prev_sum_card2card_transfer</th>\n",
       "      <th>prev_sum_card_recharge</th>\n",
       "      <th>prev_sum_chat</th>\n",
       "      <th>prev_sum_credit_info</th>\n",
       "      <th>prev_sum_invest</th>\n",
       "      <th>prev_sum_main_screen</th>\n",
       "      <th>prev_sum_mobile_recharge</th>\n",
       "      <th>prev_sum_own_transfer</th>\n",
       "      <th>prev_sum_phone_money_transfer</th>\n",
       "      <th>prev_sum_statement</th>\n",
       "      <th>top_target</th>\n",
       "      <th>top_target_2</th>\n",
       "      <th>top_target_3</th>\n",
       "      <th>timestamp</th>\n",
       "    </tr>\n",
       "  </thead>\n",
       "  <tbody>\n",
       "    <tr>\n",
       "      <th>2332378</th>\n",
       "      <td>NaN</td>\n",
       "      <td>NaN</td>\n",
       "      <td>NaN</td>\n",
       "      <td>NaN</td>\n",
       "      <td>NaN</td>\n",
       "      <td>NaN</td>\n",
       "      <td>NaN</td>\n",
       "      <td>NaN</td>\n",
       "      <td>NaN</td>\n",
       "      <td>NaN</td>\n",
       "      <td>nan</td>\n",
       "      <td>nan</td>\n",
       "      <td>nan</td>\n",
       "      <td>2020-01-06 15:57:33</td>\n",
       "    </tr>\n",
       "    <tr>\n",
       "      <th>3973900</th>\n",
       "      <td>0.0</td>\n",
       "      <td>0.0</td>\n",
       "      <td>0.0</td>\n",
       "      <td>0.0</td>\n",
       "      <td>0.0</td>\n",
       "      <td>1.0</td>\n",
       "      <td>0.0</td>\n",
       "      <td>0.0</td>\n",
       "      <td>0.0</td>\n",
       "      <td>0.0</td>\n",
       "      <td>prev_sum_main_screen</td>\n",
       "      <td>nan</td>\n",
       "      <td>nan</td>\n",
       "      <td>2020-01-09 09:23:07</td>\n",
       "    </tr>\n",
       "    <tr>\n",
       "      <th>4067820</th>\n",
       "      <td>0.0</td>\n",
       "      <td>0.0</td>\n",
       "      <td>0.0</td>\n",
       "      <td>0.0</td>\n",
       "      <td>0.0</td>\n",
       "      <td>2.0</td>\n",
       "      <td>0.0</td>\n",
       "      <td>0.0</td>\n",
       "      <td>0.0</td>\n",
       "      <td>0.0</td>\n",
       "      <td>prev_sum_main_screen</td>\n",
       "      <td>nan</td>\n",
       "      <td>nan</td>\n",
       "      <td>2020-01-09 18:26:28</td>\n",
       "    </tr>\n",
       "    <tr>\n",
       "      <th>1083722</th>\n",
       "      <td>0.0</td>\n",
       "      <td>0.0</td>\n",
       "      <td>0.0</td>\n",
       "      <td>0.0</td>\n",
       "      <td>0.0</td>\n",
       "      <td>3.0</td>\n",
       "      <td>0.0</td>\n",
       "      <td>0.0</td>\n",
       "      <td>0.0</td>\n",
       "      <td>0.0</td>\n",
       "      <td>prev_sum_main_screen</td>\n",
       "      <td>nan</td>\n",
       "      <td>nan</td>\n",
       "      <td>2020-01-10 20:01:47</td>\n",
       "    </tr>\n",
       "    <tr>\n",
       "      <th>1079056</th>\n",
       "      <td>0.0</td>\n",
       "      <td>0.0</td>\n",
       "      <td>0.0</td>\n",
       "      <td>0.0</td>\n",
       "      <td>0.0</td>\n",
       "      <td>4.0</td>\n",
       "      <td>0.0</td>\n",
       "      <td>0.0</td>\n",
       "      <td>0.0</td>\n",
       "      <td>0.0</td>\n",
       "      <td>prev_sum_main_screen</td>\n",
       "      <td>nan</td>\n",
       "      <td>nan</td>\n",
       "      <td>2020-01-15 19:56:04</td>\n",
       "    </tr>\n",
       "    <tr>\n",
       "      <th>3953524</th>\n",
       "      <td>0.0</td>\n",
       "      <td>0.0</td>\n",
       "      <td>0.0</td>\n",
       "      <td>0.0</td>\n",
       "      <td>0.0</td>\n",
       "      <td>5.0</td>\n",
       "      <td>0.0</td>\n",
       "      <td>0.0</td>\n",
       "      <td>0.0</td>\n",
       "      <td>0.0</td>\n",
       "      <td>prev_sum_main_screen</td>\n",
       "      <td>nan</td>\n",
       "      <td>nan</td>\n",
       "      <td>2020-02-01 11:31:15</td>\n",
       "    </tr>\n",
       "    <tr>\n",
       "      <th>4487205</th>\n",
       "      <td>0.0</td>\n",
       "      <td>0.0</td>\n",
       "      <td>0.0</td>\n",
       "      <td>0.0</td>\n",
       "      <td>0.0</td>\n",
       "      <td>6.0</td>\n",
       "      <td>0.0</td>\n",
       "      <td>0.0</td>\n",
       "      <td>0.0</td>\n",
       "      <td>0.0</td>\n",
       "      <td>prev_sum_main_screen</td>\n",
       "      <td>nan</td>\n",
       "      <td>nan</td>\n",
       "      <td>2020-02-08 11:56:03</td>\n",
       "    </tr>\n",
       "    <tr>\n",
       "      <th>2145116</th>\n",
       "      <td>0.0</td>\n",
       "      <td>0.0</td>\n",
       "      <td>0.0</td>\n",
       "      <td>0.0</td>\n",
       "      <td>0.0</td>\n",
       "      <td>7.0</td>\n",
       "      <td>0.0</td>\n",
       "      <td>0.0</td>\n",
       "      <td>0.0</td>\n",
       "      <td>0.0</td>\n",
       "      <td>prev_sum_main_screen</td>\n",
       "      <td>nan</td>\n",
       "      <td>nan</td>\n",
       "      <td>2020-02-08 12:38:19</td>\n",
       "    </tr>\n",
       "    <tr>\n",
       "      <th>202748</th>\n",
       "      <td>0.0</td>\n",
       "      <td>0.0</td>\n",
       "      <td>0.0</td>\n",
       "      <td>0.0</td>\n",
       "      <td>0.0</td>\n",
       "      <td>8.0</td>\n",
       "      <td>0.0</td>\n",
       "      <td>0.0</td>\n",
       "      <td>0.0</td>\n",
       "      <td>0.0</td>\n",
       "      <td>prev_sum_main_screen</td>\n",
       "      <td>nan</td>\n",
       "      <td>nan</td>\n",
       "      <td>2020-02-10 17:21:09</td>\n",
       "    </tr>\n",
       "    <tr>\n",
       "      <th>1681641</th>\n",
       "      <td>0.0</td>\n",
       "      <td>0.0</td>\n",
       "      <td>0.0</td>\n",
       "      <td>0.0</td>\n",
       "      <td>0.0</td>\n",
       "      <td>9.0</td>\n",
       "      <td>0.0</td>\n",
       "      <td>0.0</td>\n",
       "      <td>0.0</td>\n",
       "      <td>0.0</td>\n",
       "      <td>prev_sum_main_screen</td>\n",
       "      <td>nan</td>\n",
       "      <td>nan</td>\n",
       "      <td>2020-02-26 13:07:23</td>\n",
       "    </tr>\n",
       "    <tr>\n",
       "      <th>3839774</th>\n",
       "      <td>0.0</td>\n",
       "      <td>0.0</td>\n",
       "      <td>0.0</td>\n",
       "      <td>0.0</td>\n",
       "      <td>0.0</td>\n",
       "      <td>10.0</td>\n",
       "      <td>0.0</td>\n",
       "      <td>0.0</td>\n",
       "      <td>0.0</td>\n",
       "      <td>0.0</td>\n",
       "      <td>prev_sum_main_screen</td>\n",
       "      <td>nan</td>\n",
       "      <td>nan</td>\n",
       "      <td>2020-03-11 15:34:10</td>\n",
       "    </tr>\n",
       "    <tr>\n",
       "      <th>3185187</th>\n",
       "      <td>0.0</td>\n",
       "      <td>0.0</td>\n",
       "      <td>0.0</td>\n",
       "      <td>0.0</td>\n",
       "      <td>1.0</td>\n",
       "      <td>10.0</td>\n",
       "      <td>0.0</td>\n",
       "      <td>0.0</td>\n",
       "      <td>0.0</td>\n",
       "      <td>0.0</td>\n",
       "      <td>prev_sum_main_screen</td>\n",
       "      <td>prev_sum_invest</td>\n",
       "      <td>nan</td>\n",
       "      <td>2020-03-27 20:39:42</td>\n",
       "    </tr>\n",
       "    <tr>\n",
       "      <th>1497896</th>\n",
       "      <td>0.0</td>\n",
       "      <td>0.0</td>\n",
       "      <td>0.0</td>\n",
       "      <td>0.0</td>\n",
       "      <td>1.0</td>\n",
       "      <td>10.0</td>\n",
       "      <td>0.0</td>\n",
       "      <td>0.0</td>\n",
       "      <td>1.0</td>\n",
       "      <td>0.0</td>\n",
       "      <td>prev_sum_main_screen</td>\n",
       "      <td>prev_sum_phone_money_transfer</td>\n",
       "      <td>prev_sum_invest</td>\n",
       "      <td>2020-05-20 14:56:12</td>\n",
       "    </tr>\n",
       "    <tr>\n",
       "      <th>3534649</th>\n",
       "      <td>1.0</td>\n",
       "      <td>0.0</td>\n",
       "      <td>0.0</td>\n",
       "      <td>0.0</td>\n",
       "      <td>1.0</td>\n",
       "      <td>10.0</td>\n",
       "      <td>0.0</td>\n",
       "      <td>0.0</td>\n",
       "      <td>1.0</td>\n",
       "      <td>0.0</td>\n",
       "      <td>prev_sum_main_screen</td>\n",
       "      <td>prev_sum_phone_money_transfer</td>\n",
       "      <td>prev_sum_invest</td>\n",
       "      <td>2020-05-20 15:51:23</td>\n",
       "    </tr>\n",
       "    <tr>\n",
       "      <th>2169055</th>\n",
       "      <td>2.0</td>\n",
       "      <td>0.0</td>\n",
       "      <td>0.0</td>\n",
       "      <td>0.0</td>\n",
       "      <td>1.0</td>\n",
       "      <td>10.0</td>\n",
       "      <td>0.0</td>\n",
       "      <td>0.0</td>\n",
       "      <td>1.0</td>\n",
       "      <td>0.0</td>\n",
       "      <td>prev_sum_main_screen</td>\n",
       "      <td>prev_sum_card2card_transfer</td>\n",
       "      <td>prev_sum_phone_money_transfer</td>\n",
       "      <td>2020-05-20 16:37:44</td>\n",
       "    </tr>\n",
       "    <tr>\n",
       "      <th>1623669</th>\n",
       "      <td>2.0</td>\n",
       "      <td>0.0</td>\n",
       "      <td>0.0</td>\n",
       "      <td>0.0</td>\n",
       "      <td>1.0</td>\n",
       "      <td>11.0</td>\n",
       "      <td>0.0</td>\n",
       "      <td>0.0</td>\n",
       "      <td>1.0</td>\n",
       "      <td>0.0</td>\n",
       "      <td>prev_sum_main_screen</td>\n",
       "      <td>prev_sum_card2card_transfer</td>\n",
       "      <td>prev_sum_phone_money_transfer</td>\n",
       "      <td>2020-05-20 20:25:19</td>\n",
       "    </tr>\n",
       "    <tr>\n",
       "      <th>3614996</th>\n",
       "      <td>2.0</td>\n",
       "      <td>0.0</td>\n",
       "      <td>0.0</td>\n",
       "      <td>0.0</td>\n",
       "      <td>1.0</td>\n",
       "      <td>12.0</td>\n",
       "      <td>0.0</td>\n",
       "      <td>0.0</td>\n",
       "      <td>1.0</td>\n",
       "      <td>0.0</td>\n",
       "      <td>prev_sum_main_screen</td>\n",
       "      <td>prev_sum_card2card_transfer</td>\n",
       "      <td>prev_sum_phone_money_transfer</td>\n",
       "      <td>2020-05-20 22:12:40</td>\n",
       "    </tr>\n",
       "    <tr>\n",
       "      <th>1715288</th>\n",
       "      <td>2.0</td>\n",
       "      <td>0.0</td>\n",
       "      <td>0.0</td>\n",
       "      <td>0.0</td>\n",
       "      <td>1.0</td>\n",
       "      <td>13.0</td>\n",
       "      <td>0.0</td>\n",
       "      <td>0.0</td>\n",
       "      <td>1.0</td>\n",
       "      <td>0.0</td>\n",
       "      <td>prev_sum_main_screen</td>\n",
       "      <td>prev_sum_card2card_transfer</td>\n",
       "      <td>prev_sum_phone_money_transfer</td>\n",
       "      <td>2020-05-26 13:55:45</td>\n",
       "    </tr>\n",
       "    <tr>\n",
       "      <th>2909839</th>\n",
       "      <td>2.0</td>\n",
       "      <td>0.0</td>\n",
       "      <td>0.0</td>\n",
       "      <td>0.0</td>\n",
       "      <td>1.0</td>\n",
       "      <td>14.0</td>\n",
       "      <td>0.0</td>\n",
       "      <td>0.0</td>\n",
       "      <td>1.0</td>\n",
       "      <td>0.0</td>\n",
       "      <td>prev_sum_main_screen</td>\n",
       "      <td>prev_sum_card2card_transfer</td>\n",
       "      <td>prev_sum_phone_money_transfer</td>\n",
       "      <td>2020-06-01 22:45:41</td>\n",
       "    </tr>\n",
       "    <tr>\n",
       "      <th>4901395</th>\n",
       "      <td>2.0</td>\n",
       "      <td>0.0</td>\n",
       "      <td>0.0</td>\n",
       "      <td>0.0</td>\n",
       "      <td>1.0</td>\n",
       "      <td>15.0</td>\n",
       "      <td>0.0</td>\n",
       "      <td>0.0</td>\n",
       "      <td>1.0</td>\n",
       "      <td>0.0</td>\n",
       "      <td>prev_sum_main_screen</td>\n",
       "      <td>prev_sum_card2card_transfer</td>\n",
       "      <td>prev_sum_phone_money_transfer</td>\n",
       "      <td>2020-06-05 12:03:48</td>\n",
       "    </tr>\n",
       "  </tbody>\n",
       "</table>\n",
       "</div>"
      ],
      "text/plain": [
       "         prev_sum_card2card_transfer  prev_sum_card_recharge  prev_sum_chat  \\\n",
       "2332378                          NaN                     NaN            NaN   \n",
       "3973900                          0.0                     0.0            0.0   \n",
       "4067820                          0.0                     0.0            0.0   \n",
       "1083722                          0.0                     0.0            0.0   \n",
       "1079056                          0.0                     0.0            0.0   \n",
       "3953524                          0.0                     0.0            0.0   \n",
       "4487205                          0.0                     0.0            0.0   \n",
       "2145116                          0.0                     0.0            0.0   \n",
       "202748                           0.0                     0.0            0.0   \n",
       "1681641                          0.0                     0.0            0.0   \n",
       "3839774                          0.0                     0.0            0.0   \n",
       "3185187                          0.0                     0.0            0.0   \n",
       "1497896                          0.0                     0.0            0.0   \n",
       "3534649                          1.0                     0.0            0.0   \n",
       "2169055                          2.0                     0.0            0.0   \n",
       "1623669                          2.0                     0.0            0.0   \n",
       "3614996                          2.0                     0.0            0.0   \n",
       "1715288                          2.0                     0.0            0.0   \n",
       "2909839                          2.0                     0.0            0.0   \n",
       "4901395                          2.0                     0.0            0.0   \n",
       "\n",
       "         prev_sum_credit_info  prev_sum_invest  prev_sum_main_screen  \\\n",
       "2332378                   NaN              NaN                   NaN   \n",
       "3973900                   0.0              0.0                   1.0   \n",
       "4067820                   0.0              0.0                   2.0   \n",
       "1083722                   0.0              0.0                   3.0   \n",
       "1079056                   0.0              0.0                   4.0   \n",
       "3953524                   0.0              0.0                   5.0   \n",
       "4487205                   0.0              0.0                   6.0   \n",
       "2145116                   0.0              0.0                   7.0   \n",
       "202748                    0.0              0.0                   8.0   \n",
       "1681641                   0.0              0.0                   9.0   \n",
       "3839774                   0.0              0.0                  10.0   \n",
       "3185187                   0.0              1.0                  10.0   \n",
       "1497896                   0.0              1.0                  10.0   \n",
       "3534649                   0.0              1.0                  10.0   \n",
       "2169055                   0.0              1.0                  10.0   \n",
       "1623669                   0.0              1.0                  11.0   \n",
       "3614996                   0.0              1.0                  12.0   \n",
       "1715288                   0.0              1.0                  13.0   \n",
       "2909839                   0.0              1.0                  14.0   \n",
       "4901395                   0.0              1.0                  15.0   \n",
       "\n",
       "         prev_sum_mobile_recharge  prev_sum_own_transfer  \\\n",
       "2332378                       NaN                    NaN   \n",
       "3973900                       0.0                    0.0   \n",
       "4067820                       0.0                    0.0   \n",
       "1083722                       0.0                    0.0   \n",
       "1079056                       0.0                    0.0   \n",
       "3953524                       0.0                    0.0   \n",
       "4487205                       0.0                    0.0   \n",
       "2145116                       0.0                    0.0   \n",
       "202748                        0.0                    0.0   \n",
       "1681641                       0.0                    0.0   \n",
       "3839774                       0.0                    0.0   \n",
       "3185187                       0.0                    0.0   \n",
       "1497896                       0.0                    0.0   \n",
       "3534649                       0.0                    0.0   \n",
       "2169055                       0.0                    0.0   \n",
       "1623669                       0.0                    0.0   \n",
       "3614996                       0.0                    0.0   \n",
       "1715288                       0.0                    0.0   \n",
       "2909839                       0.0                    0.0   \n",
       "4901395                       0.0                    0.0   \n",
       "\n",
       "         prev_sum_phone_money_transfer  prev_sum_statement  \\\n",
       "2332378                            NaN                 NaN   \n",
       "3973900                            0.0                 0.0   \n",
       "4067820                            0.0                 0.0   \n",
       "1083722                            0.0                 0.0   \n",
       "1079056                            0.0                 0.0   \n",
       "3953524                            0.0                 0.0   \n",
       "4487205                            0.0                 0.0   \n",
       "2145116                            0.0                 0.0   \n",
       "202748                             0.0                 0.0   \n",
       "1681641                            0.0                 0.0   \n",
       "3839774                            0.0                 0.0   \n",
       "3185187                            0.0                 0.0   \n",
       "1497896                            1.0                 0.0   \n",
       "3534649                            1.0                 0.0   \n",
       "2169055                            1.0                 0.0   \n",
       "1623669                            1.0                 0.0   \n",
       "3614996                            1.0                 0.0   \n",
       "1715288                            1.0                 0.0   \n",
       "2909839                            1.0                 0.0   \n",
       "4901395                            1.0                 0.0   \n",
       "\n",
       "                   top_target                   top_target_2  \\\n",
       "2332378                   nan                            nan   \n",
       "3973900  prev_sum_main_screen                            nan   \n",
       "4067820  prev_sum_main_screen                            nan   \n",
       "1083722  prev_sum_main_screen                            nan   \n",
       "1079056  prev_sum_main_screen                            nan   \n",
       "3953524  prev_sum_main_screen                            nan   \n",
       "4487205  prev_sum_main_screen                            nan   \n",
       "2145116  prev_sum_main_screen                            nan   \n",
       "202748   prev_sum_main_screen                            nan   \n",
       "1681641  prev_sum_main_screen                            nan   \n",
       "3839774  prev_sum_main_screen                            nan   \n",
       "3185187  prev_sum_main_screen                prev_sum_invest   \n",
       "1497896  prev_sum_main_screen  prev_sum_phone_money_transfer   \n",
       "3534649  prev_sum_main_screen  prev_sum_phone_money_transfer   \n",
       "2169055  prev_sum_main_screen    prev_sum_card2card_transfer   \n",
       "1623669  prev_sum_main_screen    prev_sum_card2card_transfer   \n",
       "3614996  prev_sum_main_screen    prev_sum_card2card_transfer   \n",
       "1715288  prev_sum_main_screen    prev_sum_card2card_transfer   \n",
       "2909839  prev_sum_main_screen    prev_sum_card2card_transfer   \n",
       "4901395  prev_sum_main_screen    prev_sum_card2card_transfer   \n",
       "\n",
       "                          top_target_3           timestamp  \n",
       "2332378                            nan 2020-01-06 15:57:33  \n",
       "3973900                            nan 2020-01-09 09:23:07  \n",
       "4067820                            nan 2020-01-09 18:26:28  \n",
       "1083722                            nan 2020-01-10 20:01:47  \n",
       "1079056                            nan 2020-01-15 19:56:04  \n",
       "3953524                            nan 2020-02-01 11:31:15  \n",
       "4487205                            nan 2020-02-08 11:56:03  \n",
       "2145116                            nan 2020-02-08 12:38:19  \n",
       "202748                             nan 2020-02-10 17:21:09  \n",
       "1681641                            nan 2020-02-26 13:07:23  \n",
       "3839774                            nan 2020-03-11 15:34:10  \n",
       "3185187                            nan 2020-03-27 20:39:42  \n",
       "1497896                prev_sum_invest 2020-05-20 14:56:12  \n",
       "3534649                prev_sum_invest 2020-05-20 15:51:23  \n",
       "2169055  prev_sum_phone_money_transfer 2020-05-20 16:37:44  \n",
       "1623669  prev_sum_phone_money_transfer 2020-05-20 20:25:19  \n",
       "3614996  prev_sum_phone_money_transfer 2020-05-20 22:12:40  \n",
       "1715288  prev_sum_phone_money_transfer 2020-05-26 13:55:45  \n",
       "2909839  prev_sum_phone_money_transfer 2020-06-01 22:45:41  \n",
       "4901395  prev_sum_phone_money_transfer 2020-06-05 12:03:48  "
      ]
     },
     "execution_count": 43,
     "metadata": {},
     "output_type": "execute_result"
    }
   ],
   "source": [
    "test_user[cols.values.tolist() + ['top_target', 'top_target_2', 'top_target_3','timestamp']].head(n=20)"
   ]
  },
  {
   "cell_type": "markdown",
   "metadata": {},
   "source": [
    "### Сохранение дф"
   ]
  },
  {
   "cell_type": "code",
   "execution_count": 44,
   "metadata": {},
   "outputs": [],
   "source": [
    "df.to_pickle('/data/edmitrie/alfa_boosters/train_submit_df_2020_01_01.pickle')"
   ]
  },
  {
   "cell_type": "code",
   "execution_count": 45,
   "metadata": {},
   "outputs": [
    {
     "data": {
      "text/plain": [
       "(5144618, 147)"
      ]
     },
     "execution_count": 45,
     "metadata": {},
     "output_type": "execute_result"
    }
   ],
   "source": [
    "df.shape"
   ]
  },
  {
   "cell_type": "markdown",
   "metadata": {},
   "source": [
    "## Моделирование"
   ]
  },
  {
   "cell_type": "code",
   "execution_count": 3,
   "metadata": {},
   "outputs": [],
   "source": [
    "df = pd.read_pickle('/data/edmitrie/alfa_boosters/train_submit_df_2020_01_01.pickle')"
   ]
  },
  {
   "cell_type": "code",
   "execution_count": 4,
   "metadata": {},
   "outputs": [],
   "source": [
    "res_parquet_subm = pd.read_pickle('/data/edmitrie/alfa_boosters/parquet_full_ready_all_cols.pickle')"
   ]
  },
  {
   "cell_type": "code",
   "execution_count": 5,
   "metadata": {},
   "outputs": [
    {
     "name": "stdout",
     "output_type": "stream",
     "text": [
      "CPU times: user 16.1 s, sys: 20.7 s, total: 36.8 s\n",
      "Wall time: 36.7 s\n"
     ]
    }
   ],
   "source": [
    "%%time\n",
    "\n",
    "res_parquet, submit_df_parq = res_parquet_subm[res_parquet_subm['session_id'].notnull()], res_parquet_subm[res_parquet_subm['session_id'].isnull()]\n",
    "submit_df_parq.drop(columns='session_id', inplace=True)"
   ]
  },
  {
   "cell_type": "code",
   "execution_count": 6,
   "metadata": {},
   "outputs": [],
   "source": [
    "train_test_df, submit_df = df[df['session_id'].notnull()], df[df['session_id'].isnull()]"
   ]
  },
  {
   "cell_type": "code",
   "execution_count": 2457,
   "metadata": {},
   "outputs": [
    {
     "name": "stdout",
     "output_type": "stream",
     "text": [
      "CPU times: user 1min 9s, sys: 13.8 s, total: 1min 23s\n",
      "Wall time: 1min 23s\n"
     ]
    }
   ],
   "source": [
    "%%time\n",
    "train_test_df.set_index(['session_id', 'client_pin'], inplace=True)\n",
    "res_parquet.set_index(['session_id', 'client_pin'], inplace=True)"
   ]
  },
  {
   "cell_type": "code",
   "execution_count": 2458,
   "metadata": {},
   "outputs": [],
   "source": [
    "cols = [col for col in res_parquet.columns if col != 'multi_class_target']"
   ]
  },
  {
   "cell_type": "code",
   "execution_count": 2459,
   "metadata": {},
   "outputs": [
    {
     "name": "stdout",
     "output_type": "stream",
     "text": [
      "CPU times: user 3min 38s, sys: 3min 57s, total: 7min 35s\n",
      "Wall time: 7min 35s\n"
     ]
    }
   ],
   "source": [
    "%%time\n",
    "df_2 = res_parquet[cols].join(train_test_df, how='left')\n",
    "train_test_df = df_2[df_2['multi_class_target'].notnull()]"
   ]
  },
  {
   "cell_type": "code",
   "execution_count": 2460,
   "metadata": {},
   "outputs": [
    {
     "data": {
      "text/plain": [
       "(5065350, 655)"
      ]
     },
     "execution_count": 2460,
     "metadata": {},
     "output_type": "execute_result"
    }
   ],
   "source": [
    "train_test_df.shape"
   ]
  },
  {
   "cell_type": "code",
   "execution_count": 2461,
   "metadata": {},
   "outputs": [
    {
     "name": "stdout",
     "output_type": "stream",
     "text": [
      "CPU times: user 9.5 s, sys: 10.7 s, total: 20.2 s\n",
      "Wall time: 20.1 s\n"
     ]
    }
   ],
   "source": [
    "%%time\n",
    "del df_2\n",
    "del res_parquet_subm\n",
    "del res_parquet\n",
    "del df"
   ]
  },
  {
   "cell_type": "code",
   "execution_count": 2462,
   "metadata": {},
   "outputs": [
    {
     "data": {
      "text/plain": [
       "0"
      ]
     },
     "execution_count": 2462,
     "metadata": {},
     "output_type": "execute_result"
    }
   ],
   "source": [
    "import gc\n",
    "gc.collect()"
   ]
  },
  {
   "cell_type": "code",
   "execution_count": 7,
   "metadata": {},
   "outputs": [
    {
     "name": "stdout",
     "output_type": "stream",
     "text": [
      "CPU times: user 9.18 s, sys: 8.97 s, total: 18.1 s\n",
      "Wall time: 18.2 s\n"
     ]
    }
   ],
   "source": [
    "%%time\n",
    "submit_df = pd.merge(submit_df, submit_df_parq, on=['client_pin'], how='left')"
   ]
  },
  {
   "cell_type": "code",
   "execution_count": 144,
   "metadata": {},
   "outputs": [
    {
     "data": {
      "text/plain": [
       "0        credit_info\n",
       "1              other\n",
       "2        main_screen\n",
       "3              other\n",
       "4        main_screen\n",
       "            ...     \n",
       "79263          other\n",
       "79264          other\n",
       "79265          other\n",
       "79266      statement\n",
       "79267          other\n",
       "Name: last_target_parq_1, Length: 79268, dtype: object"
      ]
     },
     "execution_count": 144,
     "metadata": {},
     "output_type": "execute_result"
    }
   ],
   "source": [
    "submit_df['last_target_parq_1']"
   ]
  },
  {
   "cell_type": "code",
   "execution_count": 12,
   "metadata": {},
   "outputs": [],
   "source": [
    "test_user = submit_df[submit_df['client_pin'] == 'e2f0cede9e3bc3d6ed7c77c4e08af136']"
   ]
  },
  {
   "cell_type": "code",
   "execution_count": 13,
   "metadata": {
    "collapsed": true,
    "jupyter": {
     "outputs_hidden": true
    }
   },
   "outputs": [
    {
     "ename": "KeyError",
     "evalue": "\"['timestamp_first', 'timestamp_last'] not in index\"",
     "output_type": "error",
     "traceback": [
      "\u001b[0;31m---------------------------------------------------------------------------\u001b[0m",
      "\u001b[0;31mKeyError\u001b[0m                                  Traceback (most recent call last)",
      "\u001b[0;32m<ipython-input-13-12f7148af175>\u001b[0m in \u001b[0;36m<module>\u001b[0;34m\u001b[0m\n\u001b[0;32m----> 1\u001b[0;31m \u001b[0mtest_user\u001b[0m\u001b[0;34m[\u001b[0m\u001b[0;34m[\u001b[0m\u001b[0;34m'timestamp'\u001b[0m\u001b[0;34m,\u001b[0m \u001b[0;34m'timestamp_first'\u001b[0m\u001b[0;34m,\u001b[0m \u001b[0;34m'timestamp_last'\u001b[0m\u001b[0;34m]\u001b[0m\u001b[0;34m]\u001b[0m\u001b[0;34m\u001b[0m\u001b[0;34m\u001b[0m\u001b[0m\n\u001b[0m",
      "\u001b[0;32m~/.local/lib/python3.6/site-packages/pandas/core/frame.py\u001b[0m in \u001b[0;36m__getitem__\u001b[0;34m(self, key)\u001b[0m\n\u001b[1;32m   2910\u001b[0m             \u001b[0;32mif\u001b[0m \u001b[0mis_iterator\u001b[0m\u001b[0;34m(\u001b[0m\u001b[0mkey\u001b[0m\u001b[0;34m)\u001b[0m\u001b[0;34m:\u001b[0m\u001b[0;34m\u001b[0m\u001b[0;34m\u001b[0m\u001b[0m\n\u001b[1;32m   2911\u001b[0m                 \u001b[0mkey\u001b[0m \u001b[0;34m=\u001b[0m \u001b[0mlist\u001b[0m\u001b[0;34m(\u001b[0m\u001b[0mkey\u001b[0m\u001b[0;34m)\u001b[0m\u001b[0;34m\u001b[0m\u001b[0;34m\u001b[0m\u001b[0m\n\u001b[0;32m-> 2912\u001b[0;31m             \u001b[0mindexer\u001b[0m \u001b[0;34m=\u001b[0m \u001b[0mself\u001b[0m\u001b[0;34m.\u001b[0m\u001b[0mloc\u001b[0m\u001b[0;34m.\u001b[0m\u001b[0m_get_listlike_indexer\u001b[0m\u001b[0;34m(\u001b[0m\u001b[0mkey\u001b[0m\u001b[0;34m,\u001b[0m \u001b[0maxis\u001b[0m\u001b[0;34m=\u001b[0m\u001b[0;36m1\u001b[0m\u001b[0;34m,\u001b[0m \u001b[0mraise_missing\u001b[0m\u001b[0;34m=\u001b[0m\u001b[0;32mTrue\u001b[0m\u001b[0;34m)\u001b[0m\u001b[0;34m[\u001b[0m\u001b[0;36m1\u001b[0m\u001b[0;34m]\u001b[0m\u001b[0;34m\u001b[0m\u001b[0;34m\u001b[0m\u001b[0m\n\u001b[0m\u001b[1;32m   2913\u001b[0m \u001b[0;34m\u001b[0m\u001b[0m\n\u001b[1;32m   2914\u001b[0m         \u001b[0;31m# take() does not accept boolean indexers\u001b[0m\u001b[0;34m\u001b[0m\u001b[0;34m\u001b[0m\u001b[0;34m\u001b[0m\u001b[0m\n",
      "\u001b[0;32m~/.local/lib/python3.6/site-packages/pandas/core/indexing.py\u001b[0m in \u001b[0;36m_get_listlike_indexer\u001b[0;34m(self, key, axis, raise_missing)\u001b[0m\n\u001b[1;32m   1252\u001b[0m             \u001b[0mkeyarr\u001b[0m\u001b[0;34m,\u001b[0m \u001b[0mindexer\u001b[0m\u001b[0;34m,\u001b[0m \u001b[0mnew_indexer\u001b[0m \u001b[0;34m=\u001b[0m \u001b[0max\u001b[0m\u001b[0;34m.\u001b[0m\u001b[0m_reindex_non_unique\u001b[0m\u001b[0;34m(\u001b[0m\u001b[0mkeyarr\u001b[0m\u001b[0;34m)\u001b[0m\u001b[0;34m\u001b[0m\u001b[0;34m\u001b[0m\u001b[0m\n\u001b[1;32m   1253\u001b[0m \u001b[0;34m\u001b[0m\u001b[0m\n\u001b[0;32m-> 1254\u001b[0;31m         \u001b[0mself\u001b[0m\u001b[0;34m.\u001b[0m\u001b[0m_validate_read_indexer\u001b[0m\u001b[0;34m(\u001b[0m\u001b[0mkeyarr\u001b[0m\u001b[0;34m,\u001b[0m \u001b[0mindexer\u001b[0m\u001b[0;34m,\u001b[0m \u001b[0maxis\u001b[0m\u001b[0;34m,\u001b[0m \u001b[0mraise_missing\u001b[0m\u001b[0;34m=\u001b[0m\u001b[0mraise_missing\u001b[0m\u001b[0;34m)\u001b[0m\u001b[0;34m\u001b[0m\u001b[0;34m\u001b[0m\u001b[0m\n\u001b[0m\u001b[1;32m   1255\u001b[0m         \u001b[0;32mreturn\u001b[0m \u001b[0mkeyarr\u001b[0m\u001b[0;34m,\u001b[0m \u001b[0mindexer\u001b[0m\u001b[0;34m\u001b[0m\u001b[0;34m\u001b[0m\u001b[0m\n\u001b[1;32m   1256\u001b[0m \u001b[0;34m\u001b[0m\u001b[0m\n",
      "\u001b[0;32m~/.local/lib/python3.6/site-packages/pandas/core/indexing.py\u001b[0m in \u001b[0;36m_validate_read_indexer\u001b[0;34m(self, key, indexer, axis, raise_missing)\u001b[0m\n\u001b[1;32m   1302\u001b[0m             \u001b[0;32mif\u001b[0m \u001b[0mraise_missing\u001b[0m\u001b[0;34m:\u001b[0m\u001b[0;34m\u001b[0m\u001b[0;34m\u001b[0m\u001b[0m\n\u001b[1;32m   1303\u001b[0m                 \u001b[0mnot_found\u001b[0m \u001b[0;34m=\u001b[0m \u001b[0mlist\u001b[0m\u001b[0;34m(\u001b[0m\u001b[0mset\u001b[0m\u001b[0;34m(\u001b[0m\u001b[0mkey\u001b[0m\u001b[0;34m)\u001b[0m \u001b[0;34m-\u001b[0m \u001b[0mset\u001b[0m\u001b[0;34m(\u001b[0m\u001b[0max\u001b[0m\u001b[0;34m)\u001b[0m\u001b[0;34m)\u001b[0m\u001b[0;34m\u001b[0m\u001b[0;34m\u001b[0m\u001b[0m\n\u001b[0;32m-> 1304\u001b[0;31m                 \u001b[0;32mraise\u001b[0m \u001b[0mKeyError\u001b[0m\u001b[0;34m(\u001b[0m\u001b[0;34mf\"{not_found} not in index\"\u001b[0m\u001b[0;34m)\u001b[0m\u001b[0;34m\u001b[0m\u001b[0;34m\u001b[0m\u001b[0m\n\u001b[0m\u001b[1;32m   1305\u001b[0m \u001b[0;34m\u001b[0m\u001b[0m\n\u001b[1;32m   1306\u001b[0m             \u001b[0;31m# we skip the warning on Categorical\u001b[0m\u001b[0;34m\u001b[0m\u001b[0;34m\u001b[0m\u001b[0;34m\u001b[0m\u001b[0m\n",
      "\u001b[0;31mKeyError\u001b[0m: \"['timestamp_first', 'timestamp_last'] not in index\""
     ]
    }
   ],
   "source": [
    "test_user[['timestamp', 'timestamp_first', 'timestamp_last']]"
   ]
  },
  {
   "cell_type": "code",
   "execution_count": null,
   "metadata": {},
   "outputs": [],
   "source": [
    "import gc\n",
    "gc.collcet()"
   ]
  },
  {
   "cell_type": "markdown",
   "metadata": {},
   "source": [
    "### TRAIN_TEST_SPLIT"
   ]
  },
  {
   "cell_type": "code",
   "execution_count": 2464,
   "metadata": {},
   "outputs": [],
   "source": [
    "train_test_df.sort_values(by='timestamp', inplace=True)"
   ]
  },
  {
   "cell_type": "code",
   "execution_count": 2465,
   "metadata": {},
   "outputs": [
    {
     "data": {
      "text/plain": [
       "(5065350, 655)"
      ]
     },
     "execution_count": 2465,
     "metadata": {},
     "output_type": "execute_result"
    }
   ],
   "source": [
    "train_test_df.shape"
   ]
  },
  {
   "cell_type": "code",
   "execution_count": 2466,
   "metadata": {},
   "outputs": [],
   "source": [
    "# train_test_df = train_test_df[train_test_df['target_1'].notnull()]\n",
    "# train_test_df = train_test_df[train_test_df['target_1']!='nan']\n",
    "test_df = train_test_df.groupby('client_pin').tail(1)"
   ]
  },
  {
   "cell_type": "code",
   "execution_count": 2467,
   "metadata": {},
   "outputs": [
    {
     "data": {
      "text/plain": [
       "(79268, 655)"
      ]
     },
     "execution_count": 2467,
     "metadata": {},
     "output_type": "execute_result"
    }
   ],
   "source": [
    "test_df.shape"
   ]
  },
  {
   "cell_type": "code",
   "execution_count": 2468,
   "metadata": {},
   "outputs": [
    {
     "data": {
      "text/plain": [
       "(5065350, 655)"
      ]
     },
     "execution_count": 2468,
     "metadata": {},
     "output_type": "execute_result"
    }
   ],
   "source": [
    "train_test_df.shape"
   ]
  },
  {
   "cell_type": "code",
   "execution_count": 2469,
   "metadata": {},
   "outputs": [],
   "source": [
    "train_df = train_test_df.sample(n=int(1e6), random_state=SEED)"
   ]
  },
  {
   "cell_type": "code",
   "execution_count": 2470,
   "metadata": {},
   "outputs": [],
   "source": [
    "test_df['blank'] = '0'"
   ]
  },
  {
   "cell_type": "code",
   "execution_count": 19,
   "metadata": {},
   "outputs": [],
   "source": [
    "import pickle"
   ]
  },
  {
   "cell_type": "code",
   "execution_count": 20,
   "metadata": {},
   "outputs": [],
   "source": [
    "cat_atrs_parq = pickle.load(open('cat_atr_parq_clas.pickle','rb'))\n",
    "lgbm_parq = pickle.load(open('session_parq_classifier.pickle','rb'))\n",
    "atrs_parq = pickle.load(open('atr_parq_clas.pickle','rb'))"
   ]
  },
  {
   "cell_type": "code",
   "execution_count": 2477,
   "metadata": {},
   "outputs": [
    {
     "name": "stdout",
     "output_type": "stream",
     "text": [
      "CPU times: user 2.44 s, sys: 2.91 s, total: 5.36 s\n",
      "Wall time: 5.36 s\n"
     ]
    }
   ],
   "source": [
    "%%time\n",
    "train_df = train_df.merge(test_df['blank'], left_index=True, right_index=True, how='left', indicator=True)\n",
    "train_df = train_df[train_df['_merge'] == 'left_only']"
   ]
  },
  {
   "cell_type": "code",
   "execution_count": 2478,
   "metadata": {},
   "outputs": [
    {
     "data": {
      "text/plain": [
       "0.3632993152191384"
      ]
     },
     "execution_count": 2478,
     "metadata": {},
     "output_type": "execute_result"
    }
   ],
   "source": [
    "f1_score(train_df['multi_class_target'], train_df['target_1'], average='macro')"
   ]
  },
  {
   "cell_type": "code",
   "execution_count": 2480,
   "metadata": {},
   "outputs": [
    {
     "name": "stdout",
     "output_type": "stream",
     "text": [
      "CPU times: user 17.3 s, sys: 11.1 s, total: 28.4 s\n",
      "Wall time: 28.7 s\n"
     ]
    }
   ],
   "source": [
    "%%time\n",
    "\n",
    "train_df.to_pickle('/data/edmitrie/alfa_boosters/train_df_1kk.pickle')\n",
    "test_df.to_pickle('/data/edmitrie/alfa_boosters/test_df.pickle')\n",
    "submit_df.to_pickle('/data/edmitrie/alfa_boosters/submit_df.pickle')"
   ]
  },
  {
   "cell_type": "code",
   "execution_count": 74,
   "metadata": {},
   "outputs": [],
   "source": [
    "atrs_to_drop = ['session_id','parquet_name', 'client_pin', 'multi_class_target', 'label', '_merge', 'month','blank','predicted_target'] + [col for col in train_df_less.columns if 'timestamp' in col] + atrs_parq"
   ]
  },
  {
   "cell_type": "code",
   "execution_count": 75,
   "metadata": {},
   "outputs": [],
   "source": [
    "cat_atrs = ['day', 'weekday', 'hour'] + [col for col in train_df_less.columns if 'target' in col and 'multi' not in col and 'seq' not in col] + ['timezone', 'timezone_first', 'timezone_last'] + [col for col in train_df_less.columns if ('event' in col) or ('page' in col) or ('device' in col) or ('net_connection' in col) or ('application') in col or ('timezone') in col]"
   ]
  },
  {
   "cell_type": "code",
   "execution_count": 76,
   "metadata": {},
   "outputs": [],
   "source": [
    "cat_atrs = [cat for cat in cat_atrs if cat in train_df.columns and 'mean' not in cat and 'sum' not in cat and 'num' not in cat and 'predicted' not in cat]"
   ]
  },
  {
   "cell_type": "code",
   "execution_count": 77,
   "metadata": {},
   "outputs": [],
   "source": [
    "atrs = [atr for atr in train_df.columns if atr not in atrs_to_drop]"
   ]
  },
  {
   "cell_type": "code",
   "execution_count": 78,
   "metadata": {},
   "outputs": [],
   "source": [
    "pickle.dump(cat_atrs, open('cat_atrs', 'wb'))\n",
    "pickle.dump(atrs, open('atrs', 'wb'))"
   ]
  },
  {
   "cell_type": "code",
   "execution_count": 37,
   "metadata": {},
   "outputs": [],
   "source": [
    "cat_atrs = pickle.load(open('cat_atrs', 'rb'))\n",
    "atrs = pickle.load(open('atrs', 'rb'))"
   ]
  },
  {
   "cell_type": "code",
   "execution_count": 38,
   "metadata": {
    "collapsed": true,
    "jupyter": {
     "outputs_hidden": true
    }
   },
   "outputs": [
    {
     "data": {
      "text/plain": [
       "['day',\n",
       " 'weekday',\n",
       " 'hour',\n",
       " 'last_target_parq_1',\n",
       " 'top_target_parq_2',\n",
       " 'predicted_target',\n",
       " 'top_target_parq_5',\n",
       " 'top_target_parq_4',\n",
       " 'top_target_parq_3',\n",
       " 'last_target_parq_3',\n",
       " 'last_target_parq_2',\n",
       " 'last_target_parq_5',\n",
       " 'last_target_parq_4',\n",
       " 'top_target_parq_1',\n",
       " 'target_1',\n",
       " 'target_2',\n",
       " 'target_3',\n",
       " 'target_4',\n",
       " 'target_5',\n",
       " 'target_6',\n",
       " 'target_7',\n",
       " 'target_8',\n",
       " 'target_9',\n",
       " 'target_10',\n",
       " 'top_target',\n",
       " 'top_target_2',\n",
       " 'top_target_3',\n",
       " 'event_name_first_prev_1',\n",
       " 'device_is_webview_last_prev_1',\n",
       " 'net_connection_type_last_prev_2',\n",
       " 'event_category_first_prev_1',\n",
       " 'event_name_last_prev_2',\n",
       " 'application_id_first_prev_1',\n",
       " 'event_type_first_prev_1',\n",
       " 'timezone_prev_2',\n",
       " 'device_screen_name_last_prev_2',\n",
       " 'event_name_last_prev_1',\n",
       " 'event_type_first_prev_2',\n",
       " 'device_screen_name_first_prev_1',\n",
       " 'application_id_last_prev_1',\n",
       " 'event_label_first_prev_2',\n",
       " 'event_category_first_prev_2',\n",
       " 'event_category_last_prev_2',\n",
       " 'net_connection_type_last_prev_1',\n",
       " 'event_label_last_prev_2',\n",
       " 'net_connection_tech_last_prev_1',\n",
       " 'page_urlhost_last_prev_2',\n",
       " 'application_id_first_prev_2',\n",
       " 'page_urlpath_full_first_prev_2',\n",
       " 'net_connection_type_first_prev_1',\n",
       " 'timezone_last_prev_2',\n",
       " 'device_screen_name_first_prev_2',\n",
       " 'net_connection_tech_first_prev_2',\n",
       " 'timezone_first_prev_1',\n",
       " 'event_label_last_prev_1',\n",
       " 'device_is_webview_first_prev_1',\n",
       " 'page_urlhost_last_prev_1',\n",
       " 'event_type_last_prev_2',\n",
       " 'device_is_webview_first_prev_2',\n",
       " 'page_urlpath_full_last_prev_2',\n",
       " 'page_urlhost_first_prev_2',\n",
       " 'event_name_first_prev_2',\n",
       " 'device_screen_name_last_prev_1',\n",
       " 'event_label_first_prev_1',\n",
       " 'timezone_prev_1',\n",
       " 'page_urlpath_full_last_prev_1',\n",
       " 'net_connection_type_first_prev_2',\n",
       " 'page_urlpath_full_first_prev_1',\n",
       " 'event_type_last_prev_1',\n",
       " 'application_id_last_prev_2',\n",
       " 'timezone_last_prev_1',\n",
       " 'net_connection_tech_first_prev_1',\n",
       " 'event_category_last_prev_1',\n",
       " 'page_urlhost_first_prev_1',\n",
       " 'net_connection_tech_last_prev_2',\n",
       " 'device_is_webview_last_prev_2',\n",
       " 'timezone_first_prev_2']"
      ]
     },
     "execution_count": 38,
     "metadata": {},
     "output_type": "execute_result"
    }
   ],
   "source": [
    "cat_atrs"
   ]
  },
  {
   "cell_type": "code",
   "execution_count": 393,
   "metadata": {},
   "outputs": [],
   "source": [
    "for cat in cat_atrs:\n",
    "#     print(cat)\n",
    "    train_df.loc[train_df[cat].isnull(), cat] = 'nan'\n",
    "#     test_df.loc[test_df[cat].isnull(), cat] = 'nan'\n",
    "#     submit_df.loc[submit_df[cat].isnull(), cat] = 'nan'"
   ]
  },
  {
   "cell_type": "code",
   "execution_count": 392,
   "metadata": {},
   "outputs": [],
   "source": [
    "train_df = pd.read_pickle('/data/edmitrie/alfa_boosters/train_df_1kk.pickle')"
   ]
  },
  {
   "cell_type": "code",
   "execution_count": 2490,
   "metadata": {},
   "outputs": [],
   "source": [
    "#балансировка\n",
    "class_weights = (len(train_df)/ train_df.multi_class_target.value_counts() ).to_dict()"
   ]
  },
  {
   "cell_type": "code",
   "execution_count": 2491,
   "metadata": {},
   "outputs": [
    {
     "name": "stdout",
     "output_type": "stream",
     "text": [
      "CPU times: user 1min 9s, sys: 26.8 s, total: 1min 36s\n",
      "Wall time: 1min 36s\n"
     ]
    }
   ],
   "source": [
    "%%time\n",
    "\n",
    "train_df_less = pd.DataFrame()\n",
    "\n",
    "for col in  train_df['multi_class_target'].unique():\n",
    "    if col in ['credit_info', 'own_transfer', 'mobile_recharge', 'phone_money_transfer', 'card2card_transfer','chat','card_recharge', 'invest']:\n",
    "        frac = 1\n",
    "        n = None\n",
    "    else:\n",
    "        frac = None\n",
    "        n = 100000\n",
    "    \n",
    "    if col == 'credit_info':\n",
    "        frac = None\n",
    "        n = 50000\n",
    "    \n",
    "    train_df_less = pd.concat([train_df[train_df['multi_class_target'] == col].sample(frac=frac, n=n), train_df_less])"
   ]
  },
  {
   "cell_type": "code",
   "execution_count": 2492,
   "metadata": {},
   "outputs": [],
   "source": [
    "train_df_less.to_pickle('/data/edmitrie/alfa_boosters/train_df_less_ready.pickle')"
   ]
  },
  {
   "cell_type": "code",
   "execution_count": 2493,
   "metadata": {},
   "outputs": [],
   "source": [
    "# train_df_less.merge(test_df, on='session_id', how='inner').shape"
   ]
  },
  {
   "cell_type": "markdown",
   "metadata": {},
   "source": [
    "## Получение Антоновских признаков, не сработало"
   ]
  },
  {
   "cell_type": "code",
   "execution_count": 172,
   "metadata": {},
   "outputs": [],
   "source": [
    "anton_atrs_df = pd.read_pickle('/data/edmitrie/alfa_boosters/train_submit_df_time_target_2021_01_03.pickle')"
   ]
  },
  {
   "cell_type": "code",
   "execution_count": 189,
   "metadata": {},
   "outputs": [],
   "source": [
    "train_df_anton, sumbit_df_antnon = anton_atrs_df[anton_atrs_df['session_id'].notnull()], anton_atrs_df[anton_atrs_df['session_id'].isnull()]"
   ]
  },
  {
   "cell_type": "code",
   "execution_count": 215,
   "metadata": {},
   "outputs": [],
   "source": [
    "atrs_windows = [val for val in anton_atrs_df.columns.values if 'D' in val or 'W' in val or 'H' in val or 'M' in val] "
   ]
  },
  {
   "cell_type": "code",
   "execution_count": 221,
   "metadata": {
    "collapsed": true,
    "jupyter": {
     "outputs_hidden": true
    }
   },
   "outputs": [
    {
     "data": {
      "text/plain": [
       "['W_cumavg_target_prev_1_card2card_transfer',\n",
       " 'D_cumavg_target_prev_1_card2card_transfer',\n",
       " 'H_cumavg_target_prev_1_card2card_transfer',\n",
       " 'M10_cumavg_target_prev_1_card2card_transfer',\n",
       " 'M5_cumavg_target_prev_1_card2card_transfer',\n",
       " 'W_cumavg_target_prev_1_card_recharge',\n",
       " 'D_cumavg_target_prev_1_card_recharge',\n",
       " 'H_cumavg_target_prev_1_card_recharge',\n",
       " 'M10_cumavg_target_prev_1_card_recharge',\n",
       " 'M5_cumavg_target_prev_1_card_recharge',\n",
       " 'W_cumavg_target_prev_1_chat',\n",
       " 'D_cumavg_target_prev_1_chat',\n",
       " 'H_cumavg_target_prev_1_chat',\n",
       " 'M10_cumavg_target_prev_1_chat',\n",
       " 'M5_cumavg_target_prev_1_chat',\n",
       " 'W_cumavg_target_prev_1_credit_info',\n",
       " 'D_cumavg_target_prev_1_credit_info',\n",
       " 'H_cumavg_target_prev_1_credit_info',\n",
       " 'M10_cumavg_target_prev_1_credit_info',\n",
       " 'M5_cumavg_target_prev_1_credit_info',\n",
       " 'W_cumavg_target_prev_1_invest',\n",
       " 'D_cumavg_target_prev_1_invest',\n",
       " 'H_cumavg_target_prev_1_invest',\n",
       " 'M10_cumavg_target_prev_1_invest',\n",
       " 'M5_cumavg_target_prev_1_invest',\n",
       " 'W_cumavg_target_prev_1_main_screen',\n",
       " 'D_cumavg_target_prev_1_main_screen',\n",
       " 'H_cumavg_target_prev_1_main_screen',\n",
       " 'M10_cumavg_target_prev_1_main_screen',\n",
       " 'M5_cumavg_target_prev_1_main_screen',\n",
       " 'W_cumavg_target_prev_1_mobile_recharge',\n",
       " 'D_cumavg_target_prev_1_mobile_recharge',\n",
       " 'H_cumavg_target_prev_1_mobile_recharge',\n",
       " 'M10_cumavg_target_prev_1_mobile_recharge',\n",
       " 'M5_cumavg_target_prev_1_mobile_recharge',\n",
       " 'W_cumavg_target_prev_1_own_transfer',\n",
       " 'D_cumavg_target_prev_1_own_transfer',\n",
       " 'H_cumavg_target_prev_1_own_transfer',\n",
       " 'M10_cumavg_target_prev_1_own_transfer',\n",
       " 'M5_cumavg_target_prev_1_own_transfer',\n",
       " 'W_cumavg_target_prev_1_phone_money_transfer',\n",
       " 'D_cumavg_target_prev_1_phone_money_transfer',\n",
       " 'H_cumavg_target_prev_1_phone_money_transfer',\n",
       " 'M10_cumavg_target_prev_1_phone_money_transfer',\n",
       " 'M5_cumavg_target_prev_1_phone_money_transfer',\n",
       " 'W_cumavg_target_prev_1_statement',\n",
       " 'D_cumavg_target_prev_1_statement',\n",
       " 'H_cumavg_target_prev_1_statement',\n",
       " 'M10_cumavg_target_prev_1_statement',\n",
       " 'M5_cumavg_target_prev_1_statement',\n",
       " 'W_cumavg_target_prev_1_nan',\n",
       " 'D_cumavg_target_prev_1_nan',\n",
       " 'H_cumavg_target_prev_1_nan',\n",
       " 'M10_cumavg_target_prev_1_nan',\n",
       " 'M5_cumavg_target_prev_1_nan',\n",
       " 'prev_top_target_W',\n",
       " 'prev_top_target_D',\n",
       " 'prev_top_target_H']"
      ]
     },
     "execution_count": 221,
     "metadata": {},
     "output_type": "execute_result"
    }
   ],
   "source": [
    "atrs_windows"
   ]
  },
  {
   "cell_type": "code",
   "execution_count": 224,
   "metadata": {},
   "outputs": [],
   "source": [
    "anton_cat_atrs = [ 'prev_top_target_W','prev_top_target_D','prev_top_target_H']"
   ]
  },
  {
   "cell_type": "code",
   "execution_count": 225,
   "metadata": {},
   "outputs": [],
   "source": [
    "new_cat_atr = anton_cat_atrs + cat_atrs"
   ]
  },
  {
   "cell_type": "code",
   "execution_count": 216,
   "metadata": {
    "collapsed": true,
    "jupyter": {
     "outputs_hidden": true
    }
   },
   "outputs": [
    {
     "ename": "KeyError",
     "evalue": "\"None of ['session_id', 'client_pin'] are in the columns\"",
     "output_type": "error",
     "traceback": [
      "\u001b[0;31m---------------------------------------------------------------------------\u001b[0m",
      "\u001b[0;31mKeyError\u001b[0m                                  Traceback (most recent call last)",
      "\u001b[0;32m<ipython-input-216-710be7f6698b>\u001b[0m in \u001b[0;36m<module>\u001b[0;34m\u001b[0m\n\u001b[0;32m----> 1\u001b[0;31m \u001b[0mtrain_df_anton\u001b[0m\u001b[0;34m.\u001b[0m\u001b[0mset_index\u001b[0m\u001b[0;34m(\u001b[0m\u001b[0;34m[\u001b[0m\u001b[0;34m'session_id'\u001b[0m\u001b[0;34m,\u001b[0m \u001b[0;34m'client_pin'\u001b[0m\u001b[0;34m]\u001b[0m\u001b[0;34m,\u001b[0m\u001b[0minplace\u001b[0m\u001b[0;34m=\u001b[0m\u001b[0;32mTrue\u001b[0m\u001b[0;34m)\u001b[0m\u001b[0;34m\u001b[0m\u001b[0;34m\u001b[0m\u001b[0m\n\u001b[0m",
      "\u001b[0;32m~/.local/lib/python3.6/site-packages/pandas/core/frame.py\u001b[0m in \u001b[0;36mset_index\u001b[0;34m(self, keys, drop, append, inplace, verify_integrity)\u001b[0m\n\u001b[1;32m   4553\u001b[0m \u001b[0;34m\u001b[0m\u001b[0m\n\u001b[1;32m   4554\u001b[0m         \u001b[0;32mif\u001b[0m \u001b[0mmissing\u001b[0m\u001b[0;34m:\u001b[0m\u001b[0;34m\u001b[0m\u001b[0;34m\u001b[0m\u001b[0m\n\u001b[0;32m-> 4555\u001b[0;31m             \u001b[0;32mraise\u001b[0m \u001b[0mKeyError\u001b[0m\u001b[0;34m(\u001b[0m\u001b[0;34mf\"None of {missing} are in the columns\"\u001b[0m\u001b[0;34m)\u001b[0m\u001b[0;34m\u001b[0m\u001b[0;34m\u001b[0m\u001b[0m\n\u001b[0m\u001b[1;32m   4556\u001b[0m \u001b[0;34m\u001b[0m\u001b[0m\n\u001b[1;32m   4557\u001b[0m         \u001b[0;32mif\u001b[0m \u001b[0minplace\u001b[0m\u001b[0;34m:\u001b[0m\u001b[0;34m\u001b[0m\u001b[0;34m\u001b[0m\u001b[0m\n",
      "\u001b[0;31mKeyError\u001b[0m: \"None of ['session_id', 'client_pin'] are in the columns\""
     ]
    }
   ],
   "source": [
    "train_df_anton.set_index(['session_id', 'client_pin'],inplace=True)"
   ]
  },
  {
   "cell_type": "code",
   "execution_count": 218,
   "metadata": {},
   "outputs": [],
   "source": [
    "train_df_less = train_df_less.join(train_df_anton[atrs_windows])"
   ]
  },
  {
   "cell_type": "code",
   "execution_count": 229,
   "metadata": {},
   "outputs": [],
   "source": [
    "test_df = test_df.join(train_df_anton[atrs_windows])"
   ]
  },
  {
   "cell_type": "code",
   "execution_count": 226,
   "metadata": {},
   "outputs": [],
   "source": [
    "new_atrs  = atrs + atrs_windows"
   ]
  },
  {
   "cell_type": "markdown",
   "metadata": {},
   "source": [
    "### Применение lightgbm"
   ]
  },
  {
   "cell_type": "code",
   "execution_count": 3,
   "metadata": {},
   "outputs": [
    {
     "ename": "NameError",
     "evalue": "name 'pd' is not defined",
     "output_type": "error",
     "traceback": [
      "\u001b[0;31m---------------------------------------------------------------------------\u001b[0m",
      "\u001b[0;31mNameError\u001b[0m                                 Traceback (most recent call last)",
      "\u001b[0;32m<ipython-input-3-9d3e14bd95f6>\u001b[0m in \u001b[0;36m<module>\u001b[0;34m\u001b[0m\n\u001b[0;32m----> 1\u001b[0;31m \u001b[0mtrain_df_less\u001b[0m \u001b[0;34m=\u001b[0m \u001b[0mpd\u001b[0m\u001b[0;34m.\u001b[0m\u001b[0mread_pickle\u001b[0m\u001b[0;34m(\u001b[0m\u001b[0;34m'/data/edmitrie/alfa_boosters/train_df_less_ready.pickle'\u001b[0m\u001b[0;34m)\u001b[0m\u001b[0;34m\u001b[0m\u001b[0;34m\u001b[0m\u001b[0m\n\u001b[0m\u001b[1;32m      2\u001b[0m \u001b[0mtest_df\u001b[0m \u001b[0;34m=\u001b[0m \u001b[0mpd\u001b[0m\u001b[0;34m.\u001b[0m\u001b[0mread_pickle\u001b[0m\u001b[0;34m(\u001b[0m\u001b[0;34m'/data/edmitrie/alfa_boosters/test_df.pickle'\u001b[0m\u001b[0;34m)\u001b[0m\u001b[0;34m\u001b[0m\u001b[0;34m\u001b[0m\u001b[0m\n",
      "\u001b[0;31mNameError\u001b[0m: name 'pd' is not defined"
     ]
    }
   ],
   "source": [
    "train_df_less = pd.read_pickle('/data/edmitrie/alfa_boosters/train_df_less_ready.pickle')\n",
    "test_df = pd.read_pickle('/data/edmitrie/alfa_boosters/test_df.pickle')"
   ]
  },
  {
   "cell_type": "code",
   "execution_count": 201,
   "metadata": {},
   "outputs": [],
   "source": [
    "def evalerror(y_true, y_pred):\n",
    "    preds = np.reshape(y_pred, (y_true.shape[0], 10), order='F')\n",
    "    preds = preds.argmax(axis = 1)\n",
    "    f_score = f1_score(y_true, preds, average = 'macro')\n",
    "    \n",
    "    return 'f1_score', f_score, True"
   ]
  },
  {
   "cell_type": "code",
   "execution_count": 396,
   "metadata": {},
   "outputs": [],
   "source": [
    "for cat_atr in cat_atrs:\n",
    "    train_df_less[cat_atr] = train_df_less[cat_atr].astype('category')\n",
    "    test_df[cat_atr] = test_df[cat_atr].astype('category')\n",
    "    train_df[cat_atr] = train_df[cat_atr].astype('category')\n",
    "#     submit_df[cat_atr] = submit_df[cat_atr].astype('category')"
   ]
  },
  {
   "cell_type": "code",
   "execution_count": 231,
   "metadata": {},
   "outputs": [],
   "source": [
    "from lightgbm import LGBMClassifier"
   ]
  },
  {
   "cell_type": "code",
   "execution_count": 245,
   "metadata": {},
   "outputs": [],
   "source": [
    "lgbm = LGBMClassifier(objective='multiclass', reg_alpha=12, max_depth=10, min_split_gain = 0.7, subsample=0.7, n_estimators=320, n_jobs=60, random_state=SEED)"
   ]
  },
  {
   "cell_type": "code",
   "execution_count": 47,
   "metadata": {},
   "outputs": [],
   "source": [
    "cols_bigger = [atr for atr in atrs if 'bigger' in atr]"
   ]
  },
  {
   "cell_type": "code",
   "execution_count": 399,
   "metadata": {},
   "outputs": [],
   "source": [
    "for col in cols_bigger:\n",
    "    train_df_less[col] = train_df_less[col].astype(np.float32)\n",
    "    test_df[col] = test_df[col].astype(np.float32)\n",
    "    train_df[col] = train_df[col].astype(np.float32)"
   ]
  },
  {
   "cell_type": "code",
   "execution_count": 236,
   "metadata": {},
   "outputs": [],
   "source": [
    "atrs = [atr for atr in atrs if 'proba' not in atr or 'prev' in atr]"
   ]
  },
  {
   "cell_type": "code",
   "execution_count": 237,
   "metadata": {},
   "outputs": [],
   "source": [
    "train_df_less.loc[train_df_less['timezone_num_prev_2'] == 'nan','timezone_num_prev_2'] = 0\n",
    "train_df_less.loc[train_df_less['timezone_num_prev_1'] == 'nan','timezone_num_prev_1'] = 0\n"
   ]
  },
  {
   "cell_type": "code",
   "execution_count": 238,
   "metadata": {},
   "outputs": [],
   "source": [
    "train_df_less['timezone_num_prev_2'] = train_df_less['timezone_num_prev_2'].astype(int)\n",
    "train_df_less['timezone_num_prev_1'] = train_df_less['timezone_num_prev_1'].astype(int)"
   ]
  },
  {
   "cell_type": "code",
   "execution_count": 271,
   "metadata": {},
   "outputs": [],
   "source": [
    "from itertools import combinations"
   ]
  },
  {
   "cell_type": "code",
   "execution_count": 350,
   "metadata": {
    "jupyter": {
     "source_hidden": true
    }
   },
   "outputs": [],
   "source": [
    "# не даёт буста!!!\n",
    "\n",
    "targ_comb_cols = []\n",
    "\n",
    "for combin in combinations(range(1, 5), 2):\n",
    "    col = f'target_{\"_\".join(map(str, combin))}'\n",
    "    train_df_less[col] = ''\n",
    "    test_df[col] = ''\n",
    "    \n",
    "    targ_comb_cols.append(col)\n",
    "    \n",
    "    for el in combin:\n",
    "        train_df_less[col] += train_df_less[f'target_{el}'].astype(str)\n",
    "        test_df[col] += test_df[f'target_{el}'].astype(str)\n",
    "    \n",
    "    train_df_less[col] = train_df_less[col].astype('category')\n",
    "    test_df[col] = test_df[col].astype('category')\n",
    "\n",
    "# for combin in combinations(range(1, 6), 3):\n",
    "#     col = f'target_{\"_\".join(map(str, combin))}'\n",
    "#     train_df_less[col] = ''\n",
    "#     test_df[col] = ''\n",
    "    \n",
    "#     targ_comb_cols.append(col)\n",
    "    \n",
    "#     for el in combin:\n",
    "#         train_df_less[col] += train_df_less[f'target_{el}'].astype(str)\n",
    "#         test_df[col] += test_df[f'target_{el}'].astype(str)\n",
    "    \n",
    "#     train_df_less[col] = train_df_less[col].astype('category')\n",
    "#     test_df[col] = test_df[col].astype('category')\n",
    "    \n",
    "    \n"
   ]
  },
  {
   "cell_type": "code",
   "execution_count": 354,
   "metadata": {
    "collapsed": true,
    "jupyter": {
     "outputs_hidden": true
    }
   },
   "outputs": [
    {
     "data": {
      "text/plain": [
       "['top_target',\n",
       " 'target_1',\n",
       " 'top_target_2',\n",
       " 'prev_sum_parq_own_transfer',\n",
       " 'prev_sum_own_transfer',\n",
       " 'bigger_credit_info_card2card_transfer',\n",
       " 'sessions_number',\n",
       " 'bigger_card_recharge_card2card_transfer',\n",
       " 'seq_last_target_len',\n",
       " 'bigger_mobile_recharge_chat',\n",
       " 'prev_sum_parq_card2card_transfer',\n",
       " 'prev_sum_credit_info',\n",
       " 'hour',\n",
       " 'prev_sum_phone_money_transfer',\n",
       " 'device_screen_name_last_prev_1',\n",
       " 'day',\n",
       " 'prev_sum_statement',\n",
       " 'target_2',\n",
       " 'prev_sum_card2card_transfer',\n",
       " 'prev_sum_card_recharge',\n",
       " 'device_screen_name_Chat_mean_prev_1',\n",
       " 'target_3',\n",
       " 'prev_sum_parq_phone_money_transfer',\n",
       " 'bigger_phone_money_transfer_chat',\n",
       " 'target_4',\n",
       " 'device_screen_name_last_prev_2',\n",
       " 'timezone_prev_1',\n",
       " 'top_target_3',\n",
       " 'timezone_prev_2',\n",
       " 'target_5',\n",
       " 'prev_sum_parq_mobile_recharge',\n",
       " 'mean_diff_time_global_explotation',\n",
       " 'prev_sum_parq_invest',\n",
       " 'prev_sum_parq_card_recharge',\n",
       " 'target_6',\n",
       " 'time_diff_1_0',\n",
       " 'prev_sum_invest',\n",
       " 'target_7',\n",
       " 'prev_sum_parq_statement',\n",
       " 'device_screen_name_StatementFragment_mean_prev_1',\n",
       " 'target_8',\n",
       " 'event_category_Chat_mean_prev_1',\n",
       " 'target_9',\n",
       " 'prev_sum_parq_credit_info',\n",
       " 'last_target_parq_1',\n",
       " 'target_10',\n",
       " 'prev_sum_mobile_recharge',\n",
       " 'device_screen_name_CardToCardTransferFragment_mean_prev_1',\n",
       " 'bigger_own_transfer_card2card_transfer',\n",
       " 'top_target_parq_5',\n",
       " 'event_category_Investments_mean_prev_1',\n",
       " 'last_target_parq_3',\n",
       " 'time_diff_2_0',\n",
       " 'event_category_last_prev_1',\n",
       " 'prev_sum_parq_other',\n",
       " 'bigger_statement_card2card_transfer',\n",
       " 'bigger_mobile_recharge_card_recharge',\n",
       " 'top_target_parq_2',\n",
       " 'top_target_parq_3',\n",
       " 'event_name_last_prev_1',\n",
       " 'event_category_last_prev_2',\n",
       " 'prev_sum_parq_chat',\n",
       " 'top_target_parq_1',\n",
       " 'event_label_last_prev_1',\n",
       " 'device_screen_name_CreditInfoActivity_mean_prev_1',\n",
       " 'last_target_parq_4',\n",
       " 'weekday',\n",
       " 'prev_sum_chat',\n",
       " 'bigger_mobile_recharge_invest',\n",
       " 'top_target_parq_4',\n",
       " 'event_name_Expand_Accounts_mean_prev_1',\n",
       " 'last_target_parq_5',\n",
       " 'bigger_phone_money_transfer_card_recharge',\n",
       " 'event_name_last_prev_2',\n",
       " 'time_diff_3_0',\n",
       " 'bigger_chat_card2card_transfer',\n",
       " 'prev_sum_main_screen',\n",
       " 'mean_diff_time_global',\n",
       " 'time_diff_10_0',\n",
       " 'event_name_Expand_Accounts_mean_prev_2',\n",
       " 'event_name_first_prev_1',\n",
       " 'device_screen_name_first_prev_1',\n",
       " 'session_diff_time_prev_1',\n",
       " 'time_diff_2_1',\n",
       " 'event_label_first_prev_1',\n",
       " 'event_label_last_prev_2',\n",
       " 'time_diff_7_0',\n",
       " 'prev_sum_parq_main_screen',\n",
       " 'bigger_statement_own_transfer',\n",
       " 'last_target_parq_2',\n",
       " 'event_label_first_prev_2',\n",
       " 'device_screen_name_CreditInfoActivity_mean_prev_2',\n",
       " 'time_diff_8_0',\n",
       " 'time_diff_9_8',\n",
       " 'time_diff_9_0',\n",
       " 'time_diff_6_0',\n",
       " 'device_screen_name_first_prev_2',\n",
       " 'event_label_4930579a044a6143726f5a2dfca83203_mean_prev_1',\n",
       " 'time_diff_5_0',\n",
       " 'session_diff_time_prev_2',\n",
       " 'time_diff_10_9',\n",
       " 'time_diff_4_3',\n",
       " 'event_name_first_prev_2',\n",
       " 'time_diff_3_2',\n",
       " 'time_diff_6_5',\n",
       " 'device_screen_name_MobileRechargeActivity_mean_prev_1',\n",
       " 'device_screen_name_SignInActivity_mean_prev_1',\n",
       " 'time_diff_7_6',\n",
       " 'mean_session_diff_time_parq',\n",
       " 'time_diff_8_7',\n",
       " 'time_diff_3_1',\n",
       " 'bigger_mobile_recharge_credit_info',\n",
       " 'bigger_statement_credit_info',\n",
       " 'device_screen_name_RechargeChooseActivity_mean_prev_1',\n",
       " 'bigger_main_screen_own_transfer',\n",
       " 'time_diff_1_0_parq',\n",
       " 'time_diff_10_4',\n",
       " 'bigger_invest_card2card_transfer',\n",
       " 'time_diff_4_0',\n",
       " 'time_diff_5_4',\n",
       " 'event_name_Account_item_click_mean_prev_1',\n",
       " 'time_diff_10_1',\n",
       " 'timezone_last_prev_2',\n",
       " 'time_diff_9_7',\n",
       " 'timezone_last_prev_1',\n",
       " 'event_category_first_prev_1',\n",
       " 'mean_session_id_size_parq',\n",
       " 'time_diff_4_2',\n",
       " 'event_category_Bottom_Navigation_mean_prev_1',\n",
       " 'time_diff_6_4',\n",
       " 'time_diff_10_8',\n",
       " 'session_id_size_1_0_parq',\n",
       " 'bigger_chat_own_transfer',\n",
       " 'device_screen_name_SignInActivity_mean_prev_2',\n",
       " 'device_screen_name_Single_Statement_mean_prev_1',\n",
       " 'bigger_own_transfer_credit_info',\n",
       " 'time_diff_8_6',\n",
       " 'time_diff_4_1',\n",
       " 'bigger_chat_card_recharge',\n",
       " 'device_screen_name_other_mean_prev_1',\n",
       " 'event_name_other_mean_prev_1',\n",
       " 'time_diff_5_1',\n",
       " 'time_diff_5_3',\n",
       " 'session_id_size_prev_1',\n",
       " 'bigger_phone_money_transfer_credit_info',\n",
       " 'time_diff_10_7',\n",
       " 'event_category_Credit_Info_mean_prev_1',\n",
       " 'timezone_first_prev_1',\n",
       " 'event_name_Mobile_Recharge_click_mean_prev_1',\n",
       " 'device_screen_name_StatementFragment_mean_prev_2',\n",
       " 'device_screen_name_ChatNewFragment_mean_prev_1',\n",
       " 'timezone_first_prev_2',\n",
       " 'time_diff_9_6',\n",
       " 'time_diff_7_5',\n",
       " 'device_screen_name_OwnTransferActivity_mean_prev_1',\n",
       " 'device_screen_name_other_mean_prev_2',\n",
       " 'event_name_Click_>_Statements_screen_Tab_mean_prev_1',\n",
       " 'time_diff_9_5',\n",
       " 'event_label_05dfdf6b29e3e731a712f060c9cf8896_mean_prev_1',\n",
       " 'event_category_All_Payments_mean_prev_1',\n",
       " 'device_screen_name_RechargeActivity_mean_prev_2',\n",
       " 'time_diff_8_5',\n",
       " 'event_name_other_mean_prev_2',\n",
       " 'device_screen_name_MainListFragment_mean_prev_1',\n",
       " 'time_diff_7_1',\n",
       " 'device_screen_name_All_Payments_mean_prev_1',\n",
       " 'time_diff_10_2',\n",
       " 'event_category_Chat_mean_prev_2',\n",
       " 'time_diff_5_2',\n",
       " 'time_diff_8_1',\n",
       " 'time_diff_9_2',\n",
       " 'event_category_Application_Lifecycle_mean_prev_1',\n",
       " 'event_category_Recharge_mean_prev_1',\n",
       " 'time_diff_6_2',\n",
       " 'time_diff_9_1',\n",
       " 'time_diff_7_4',\n",
       " 'device_screen_name_OwnTransferActivity_mean_prev_2',\n",
       " 'time_diff_6_3',\n",
       " 'event_category_Main_Screen_mean_prev_1',\n",
       " 'event_category_first_prev_2',\n",
       " 'event_name_load_statement_bonus_mean_prev_1',\n",
       " 'session_id_size_prev_2',\n",
       " 'event_type_sv_mean_prev_2',\n",
       " 'device_screen_name_nan_mean_prev_1',\n",
       " 'event_name_Click_>_All_payments_screen_Tab_mean_prev_1',\n",
       " 'event_name_Account_item_click_mean_prev_2',\n",
       " 'time_diff_10_5',\n",
       " 'device_screen_name_Single_Statement_mean_prev_2',\n",
       " 'device_screen_name_CardToCardTransferFragment_mean_prev_2',\n",
       " 'time_diff_7_3',\n",
       " 'time_diff_8_4',\n",
       " 'bigger_phone_money_transfer_card2card_transfer',\n",
       " 'event_label_nan_mean_prev_2',\n",
       " 'event_name_nan_mean_prev_1',\n",
       " 'time_diff_7_2',\n",
       " 'time_diff_8_2',\n",
       " 'device_screen_name_All_Payments_mean_prev_2',\n",
       " 'device_screen_name_Main_list_mean_prev_1',\n",
       " 'event_type_sv_mean_prev_1',\n",
       " 'device_screen_name_MainListFragment_mean_prev_2',\n",
       " 'event_label_nan_mean_prev_1',\n",
       " 'device_screen_name_InvestmentsMainActivity_mean_prev_2',\n",
       " 'event_category_Application_Lifecycle_mean_prev_2',\n",
       " 'time_diff_9_3',\n",
       " 'device_screen_name_ClientPhoneTransferActivity_mean_prev_1',\n",
       " 'time_diff_10_3',\n",
       " 'time_diff_10_6',\n",
       " 'time_diff_8_3',\n",
       " 'device_screen_name_InvestmentsMainActivity_mean_prev_1',\n",
       " 'event_category_Push_mean_prev_1',\n",
       " 'event_category_Bottom_Navigation_mean_prev_2',\n",
       " 'device_screen_name_MainListOnWidgetsFragment_mean_prev_1']"
      ]
     },
     "execution_count": 354,
     "metadata": {},
     "output_type": "execute_result"
    }
   ],
   "source": [
    "train_test_split(test_size = 0.5)"
   ]
  },
  {
   "cell_type": "code",
   "execution_count": 402,
   "metadata": {
    "collapsed": true,
    "jupyter": {
     "outputs_hidden": true
    }
   },
   "outputs": [
    {
     "name": "stdout",
     "output_type": "stream",
     "text": [
      "Training until validation scores don't improve for 100 rounds\n",
      "[5]\tvalid_0's multi_logloss: 1.60937\tvalid_0's f1_score: 0.393445\n",
      "[10]\tvalid_0's multi_logloss: 1.50766\tvalid_0's f1_score: 0.405807\n",
      "[15]\tvalid_0's multi_logloss: 1.46878\tvalid_0's f1_score: 0.407204\n",
      "[20]\tvalid_0's multi_logloss: 1.4507\tvalid_0's f1_score: 0.407275\n",
      "[25]\tvalid_0's multi_logloss: 1.44223\tvalid_0's f1_score: 0.408705\n",
      "[30]\tvalid_0's multi_logloss: 1.43929\tvalid_0's f1_score: 0.407893\n",
      "[35]\tvalid_0's multi_logloss: 1.43594\tvalid_0's f1_score: 0.407413\n",
      "[40]\tvalid_0's multi_logloss: 1.43478\tvalid_0's f1_score: 0.4077\n",
      "[45]\tvalid_0's multi_logloss: 1.43294\tvalid_0's f1_score: 0.407375\n",
      "[50]\tvalid_0's multi_logloss: 1.43161\tvalid_0's f1_score: 0.407702\n",
      "[55]\tvalid_0's multi_logloss: 1.43054\tvalid_0's f1_score: 0.407723\n",
      "[60]\tvalid_0's multi_logloss: 1.42936\tvalid_0's f1_score: 0.407248\n",
      "[65]\tvalid_0's multi_logloss: 1.42847\tvalid_0's f1_score: 0.407836\n",
      "[70]\tvalid_0's multi_logloss: 1.42801\tvalid_0's f1_score: 0.408551\n",
      "[75]\tvalid_0's multi_logloss: 1.42757\tvalid_0's f1_score: 0.40901\n",
      "[80]\tvalid_0's multi_logloss: 1.42691\tvalid_0's f1_score: 0.409233\n",
      "[85]\tvalid_0's multi_logloss: 1.42636\tvalid_0's f1_score: 0.408913\n",
      "[90]\tvalid_0's multi_logloss: 1.42562\tvalid_0's f1_score: 0.40935\n",
      "[95]\tvalid_0's multi_logloss: 1.42506\tvalid_0's f1_score: 0.409567\n",
      "[100]\tvalid_0's multi_logloss: 1.42452\tvalid_0's f1_score: 0.409499\n",
      "[105]\tvalid_0's multi_logloss: 1.42433\tvalid_0's f1_score: 0.409568\n",
      "[110]\tvalid_0's multi_logloss: 1.42437\tvalid_0's f1_score: 0.409444\n",
      "[115]\tvalid_0's multi_logloss: 1.42433\tvalid_0's f1_score: 0.409603\n",
      "[120]\tvalid_0's multi_logloss: 1.42443\tvalid_0's f1_score: 0.409575\n",
      "[125]\tvalid_0's multi_logloss: 1.4244\tvalid_0's f1_score: 0.409833\n",
      "[130]\tvalid_0's multi_logloss: 1.42426\tvalid_0's f1_score: 0.409355\n",
      "[135]\tvalid_0's multi_logloss: 1.42424\tvalid_0's f1_score: 0.409681\n",
      "[140]\tvalid_0's multi_logloss: 1.42407\tvalid_0's f1_score: 0.409679\n",
      "[145]\tvalid_0's multi_logloss: 1.42386\tvalid_0's f1_score: 0.409582\n",
      "[150]\tvalid_0's multi_logloss: 1.4237\tvalid_0's f1_score: 0.410135\n",
      "[155]\tvalid_0's multi_logloss: 1.42387\tvalid_0's f1_score: 0.410097\n",
      "[160]\tvalid_0's multi_logloss: 1.42355\tvalid_0's f1_score: 0.410415\n",
      "[165]\tvalid_0's multi_logloss: 1.42324\tvalid_0's f1_score: 0.409911\n",
      "[170]\tvalid_0's multi_logloss: 1.42362\tvalid_0's f1_score: 0.410527\n",
      "[175]\tvalid_0's multi_logloss: 1.42364\tvalid_0's f1_score: 0.410121\n",
      "[180]\tvalid_0's multi_logloss: 1.42374\tvalid_0's f1_score: 0.409887\n",
      "[185]\tvalid_0's multi_logloss: 1.42363\tvalid_0's f1_score: 0.409591\n",
      "[190]\tvalid_0's multi_logloss: 1.42391\tvalid_0's f1_score: 0.409936\n",
      "[195]\tvalid_0's multi_logloss: 1.42425\tvalid_0's f1_score: 0.410039\n",
      "[200]\tvalid_0's multi_logloss: 1.42415\tvalid_0's f1_score: 0.409965\n",
      "[205]\tvalid_0's multi_logloss: 1.42413\tvalid_0's f1_score: 0.409879\n",
      "[210]\tvalid_0's multi_logloss: 1.42401\tvalid_0's f1_score: 0.40994\n",
      "[215]\tvalid_0's multi_logloss: 1.4243\tvalid_0's f1_score: 0.410156\n",
      "[220]\tvalid_0's multi_logloss: 1.42447\tvalid_0's f1_score: 0.409899\n",
      "[225]\tvalid_0's multi_logloss: 1.42431\tvalid_0's f1_score: 0.409532\n",
      "[230]\tvalid_0's multi_logloss: 1.42441\tvalid_0's f1_score: 0.409842\n",
      "[235]\tvalid_0's multi_logloss: 1.4241\tvalid_0's f1_score: 0.410062\n",
      "[240]\tvalid_0's multi_logloss: 1.42415\tvalid_0's f1_score: 0.410412\n",
      "[245]\tvalid_0's multi_logloss: 1.42435\tvalid_0's f1_score: 0.410028\n",
      "[250]\tvalid_0's multi_logloss: 1.42439\tvalid_0's f1_score: 0.410057\n",
      "[255]\tvalid_0's multi_logloss: 1.42431\tvalid_0's f1_score: 0.409926\n",
      "[260]\tvalid_0's multi_logloss: 1.42461\tvalid_0's f1_score: 0.409955\n",
      "[265]\tvalid_0's multi_logloss: 1.42468\tvalid_0's f1_score: 0.409741\n",
      "Early stopping, best iteration is:\n",
      "[165]\tvalid_0's multi_logloss: 1.42324\tvalid_0's f1_score: 0.409911\n"
     ]
    },
    {
     "data": {
      "text/plain": [
       "LGBMClassifier(boosting_type='gbdt', class_weight=None, colsample_bytree=1.0,\n",
       "               importance_type='split', learning_rate=0.1, max_depth=10,\n",
       "               min_child_samples=20, min_child_weight=0.001, min_split_gain=0.7,\n",
       "               n_estimators=320, n_jobs=60, num_leaves=31,\n",
       "               objective='multiclass', random_state=1, reg_alpha=12,\n",
       "               reg_lambda=0.0, silent=True, subsample=0.7,\n",
       "               subsample_for_bin=200000, subsample_freq=0)"
      ]
     },
     "execution_count": 402,
     "metadata": {},
     "output_type": "execute_result"
    }
   ],
   "source": [
    "lgbm.fit(train_df_less[new_atrs], train_df_less['multi_class_target'], eval_set=(test_df[new_atrs], test_df['multi_class_target']), eval_metric=evalerror, verbose=5, early_stopping_rounds=100)"
   ]
  },
  {
   "cell_type": "code",
   "execution_count": 543,
   "metadata": {},
   "outputs": [],
   "source": [
    "train_df_sampled, ecode_ftr_df = train_test_split(train_df_less, test_size = 0.5, stratify=train_df_less['multi_class_target'],random_state=SEED + 100)"
   ]
  },
  {
   "cell_type": "code",
   "execution_count": 544,
   "metadata": {},
   "outputs": [
    {
     "name": "stdout",
     "output_type": "stream",
     "text": [
      "[LightGBM] [Warning] Accuracy may be bad since you didn't explicitly set num_leaves OR 2^max_depth > num_leaves. (num_leaves=31).\n",
      "Training until validation scores don't improve for 100 rounds\n",
      "[5]\tvalid_0's multi_logloss: 1.61301\tvalid_0's f1_score: 0.392908\n",
      "[10]\tvalid_0's multi_logloss: 1.50982\tvalid_0's f1_score: 0.404058\n",
      "[15]\tvalid_0's multi_logloss: 1.4699\tvalid_0's f1_score: 0.404497\n",
      "[20]\tvalid_0's multi_logloss: 1.45395\tvalid_0's f1_score: 0.405766\n",
      "[25]\tvalid_0's multi_logloss: 1.44582\tvalid_0's f1_score: 0.4057\n",
      "[30]\tvalid_0's multi_logloss: 1.44381\tvalid_0's f1_score: 0.405312\n",
      "[35]\tvalid_0's multi_logloss: 1.44\tvalid_0's f1_score: 0.40543\n",
      "[40]\tvalid_0's multi_logloss: 1.43856\tvalid_0's f1_score: 0.405766\n",
      "[45]\tvalid_0's multi_logloss: 1.43657\tvalid_0's f1_score: 0.40579\n",
      "[50]\tvalid_0's multi_logloss: 1.435\tvalid_0's f1_score: 0.406111\n",
      "[55]\tvalid_0's multi_logloss: 1.43428\tvalid_0's f1_score: 0.405849\n",
      "[60]\tvalid_0's multi_logloss: 1.43294\tvalid_0's f1_score: 0.406398\n",
      "[65]\tvalid_0's multi_logloss: 1.43231\tvalid_0's f1_score: 0.406471\n",
      "[70]\tvalid_0's multi_logloss: 1.43303\tvalid_0's f1_score: 0.407458\n",
      "[75]\tvalid_0's multi_logloss: 1.43302\tvalid_0's f1_score: 0.407272\n",
      "[80]\tvalid_0's multi_logloss: 1.43299\tvalid_0's f1_score: 0.40714\n",
      "[85]\tvalid_0's multi_logloss: 1.43269\tvalid_0's f1_score: 0.407575\n",
      "[90]\tvalid_0's multi_logloss: 1.43195\tvalid_0's f1_score: 0.407506\n",
      "[95]\tvalid_0's multi_logloss: 1.43143\tvalid_0's f1_score: 0.407876\n",
      "[100]\tvalid_0's multi_logloss: 1.43103\tvalid_0's f1_score: 0.407583\n",
      "[105]\tvalid_0's multi_logloss: 1.43145\tvalid_0's f1_score: 0.407482\n",
      "[110]\tvalid_0's multi_logloss: 1.43173\tvalid_0's f1_score: 0.407188\n",
      "[115]\tvalid_0's multi_logloss: 1.43113\tvalid_0's f1_score: 0.407466\n",
      "[120]\tvalid_0's multi_logloss: 1.43084\tvalid_0's f1_score: 0.407161\n",
      "[125]\tvalid_0's multi_logloss: 1.43091\tvalid_0's f1_score: 0.407578\n",
      "[130]\tvalid_0's multi_logloss: 1.43067\tvalid_0's f1_score: 0.407716\n",
      "[135]\tvalid_0's multi_logloss: 1.43065\tvalid_0's f1_score: 0.407795\n",
      "[140]\tvalid_0's multi_logloss: 1.43052\tvalid_0's f1_score: 0.408016\n",
      "[145]\tvalid_0's multi_logloss: 1.43014\tvalid_0's f1_score: 0.408069\n",
      "[150]\tvalid_0's multi_logloss: 1.43032\tvalid_0's f1_score: 0.407781\n",
      "[155]\tvalid_0's multi_logloss: 1.43028\tvalid_0's f1_score: 0.408162\n",
      "[160]\tvalid_0's multi_logloss: 1.42998\tvalid_0's f1_score: 0.407887\n",
      "[165]\tvalid_0's multi_logloss: 1.43015\tvalid_0's f1_score: 0.408163\n",
      "[170]\tvalid_0's multi_logloss: 1.43038\tvalid_0's f1_score: 0.407698\n",
      "[175]\tvalid_0's multi_logloss: 1.43018\tvalid_0's f1_score: 0.407725\n",
      "[180]\tvalid_0's multi_logloss: 1.42952\tvalid_0's f1_score: 0.408128\n",
      "[185]\tvalid_0's multi_logloss: 1.42938\tvalid_0's f1_score: 0.407558\n",
      "[190]\tvalid_0's multi_logloss: 1.42918\tvalid_0's f1_score: 0.407909\n",
      "[195]\tvalid_0's multi_logloss: 1.42927\tvalid_0's f1_score: 0.407991\n",
      "[200]\tvalid_0's multi_logloss: 1.42883\tvalid_0's f1_score: 0.408064\n",
      "[205]\tvalid_0's multi_logloss: 1.42838\tvalid_0's f1_score: 0.408154\n",
      "[210]\tvalid_0's multi_logloss: 1.42873\tvalid_0's f1_score: 0.408266\n",
      "[215]\tvalid_0's multi_logloss: 1.42906\tvalid_0's f1_score: 0.408461\n",
      "[220]\tvalid_0's multi_logloss: 1.42926\tvalid_0's f1_score: 0.408032\n",
      "[225]\tvalid_0's multi_logloss: 1.42938\tvalid_0's f1_score: 0.408538\n",
      "[230]\tvalid_0's multi_logloss: 1.42942\tvalid_0's f1_score: 0.408437\n",
      "[235]\tvalid_0's multi_logloss: 1.42945\tvalid_0's f1_score: 0.408724\n",
      "[240]\tvalid_0's multi_logloss: 1.42972\tvalid_0's f1_score: 0.408879\n",
      "[245]\tvalid_0's multi_logloss: 1.42982\tvalid_0's f1_score: 0.408613\n",
      "[250]\tvalid_0's multi_logloss: 1.42995\tvalid_0's f1_score: 0.408303\n",
      "[255]\tvalid_0's multi_logloss: 1.42997\tvalid_0's f1_score: 0.408034\n",
      "[260]\tvalid_0's multi_logloss: 1.42995\tvalid_0's f1_score: 0.408072\n",
      "[265]\tvalid_0's multi_logloss: 1.42979\tvalid_0's f1_score: 0.408037\n",
      "[270]\tvalid_0's multi_logloss: 1.42953\tvalid_0's f1_score: 0.408248\n",
      "[275]\tvalid_0's multi_logloss: 1.42943\tvalid_0's f1_score: 0.408392\n",
      "[280]\tvalid_0's multi_logloss: 1.42944\tvalid_0's f1_score: 0.408265\n",
      "[285]\tvalid_0's multi_logloss: 1.42937\tvalid_0's f1_score: 0.408187\n",
      "[290]\tvalid_0's multi_logloss: 1.42927\tvalid_0's f1_score: 0.408409\n",
      "[295]\tvalid_0's multi_logloss: 1.42973\tvalid_0's f1_score: 0.408622\n",
      "[300]\tvalid_0's multi_logloss: 1.42984\tvalid_0's f1_score: 0.408615\n",
      "[305]\tvalid_0's multi_logloss: 1.42967\tvalid_0's f1_score: 0.408573\n",
      "Early stopping, best iteration is:\n",
      "[205]\tvalid_0's multi_logloss: 1.42838\tvalid_0's f1_score: 0.408154\n"
     ]
    },
    {
     "data": {
      "text/plain": [
       "LGBMClassifier(boosting_type='gbdt', class_weight=None, colsample_bytree=1.0,\n",
       "               importance_type='split', learning_rate=0.1, max_depth=10,\n",
       "               min_child_samples=20, min_child_weight=0.001, min_split_gain=0.7,\n",
       "               n_estimators=320, n_jobs=60, num_leaves=31,\n",
       "               objective='multiclass', random_state=1, reg_alpha=12,\n",
       "               reg_lambda=0.0, silent=True, subsample=0.7,\n",
       "               subsample_for_bin=200000, subsample_freq=0)"
      ]
     },
     "execution_count": 544,
     "metadata": {},
     "output_type": "execute_result"
    }
   ],
   "source": [
    "lgbm.fit(ecode_ftr_df[new_atrs], ecode_ftr_df['multi_class_target'], eval_set=(test_df[new_atrs], test_df['multi_class_target']), eval_metric=evalerror, verbose=5, early_stopping_rounds=100)"
   ]
  },
  {
   "cell_type": "code",
   "execution_count": 548,
   "metadata": {},
   "outputs": [],
   "source": [
    "buf = pd.DataFrame(lgbm.predict_proba(train_df_sampled[new_atrs]), index=train_df_sampled.index)"
   ]
  },
  {
   "cell_type": "code",
   "execution_count": 549,
   "metadata": {},
   "outputs": [],
   "source": [
    "buf_cols = buf.columns.values.tolist()"
   ]
  },
  {
   "cell_type": "code",
   "execution_count": 550,
   "metadata": {},
   "outputs": [],
   "source": [
    "train_df_sampled_all = pd.concat([buf, train_df_sampled], axis=1)"
   ]
  },
  {
   "cell_type": "code",
   "execution_count": 554,
   "metadata": {},
   "outputs": [],
   "source": [
    "test_df_all = pd.concat([pd.DataFrame(lgbm.predict_proba(test_df[new_atrs]), index=test_df.index), test_df], axis=1)"
   ]
  },
  {
   "cell_type": "code",
   "execution_count": 551,
   "metadata": {},
   "outputs": [],
   "source": [
    "lgbm_2 = LGBMClassifier(objective='multiclass', reg_alpha=12, max_depth=10, min_split_gain = 0.7, subsample=0.7, n_estimators=320, n_jobs=60, random_state=SEED)"
   ]
  },
  {
   "cell_type": "code",
   "execution_count": 555,
   "metadata": {},
   "outputs": [
    {
     "name": "stdout",
     "output_type": "stream",
     "text": [
      "[LightGBM] [Warning] Accuracy may be bad since you didn't explicitly set num_leaves OR 2^max_depth > num_leaves. (num_leaves=31).\n",
      "Training until validation scores don't improve for 100 rounds\n",
      "[5]\tvalid_0's multi_logloss: 1.58647\tvalid_0's f1_score: 0.409215\n",
      "[10]\tvalid_0's multi_logloss: 1.48744\tvalid_0's f1_score: 0.410673\n",
      "[15]\tvalid_0's multi_logloss: 1.45208\tvalid_0's f1_score: 0.409374\n",
      "[20]\tvalid_0's multi_logloss: 1.43853\tvalid_0's f1_score: 0.408335\n",
      "[25]\tvalid_0's multi_logloss: 1.43286\tvalid_0's f1_score: 0.407783\n",
      "[30]\tvalid_0's multi_logloss: 1.43017\tvalid_0's f1_score: 0.407265\n",
      "[35]\tvalid_0's multi_logloss: 1.42981\tvalid_0's f1_score: 0.407446\n",
      "[40]\tvalid_0's multi_logloss: 1.42993\tvalid_0's f1_score: 0.407085\n",
      "[45]\tvalid_0's multi_logloss: 1.42986\tvalid_0's f1_score: 0.406423\n",
      "[50]\tvalid_0's multi_logloss: 1.42947\tvalid_0's f1_score: 0.406118\n",
      "[55]\tvalid_0's multi_logloss: 1.42959\tvalid_0's f1_score: 0.406288\n",
      "[60]\tvalid_0's multi_logloss: 1.42999\tvalid_0's f1_score: 0.406151\n",
      "[65]\tvalid_0's multi_logloss: 1.43027\tvalid_0's f1_score: 0.405799\n",
      "[70]\tvalid_0's multi_logloss: 1.43014\tvalid_0's f1_score: 0.405639\n",
      "[75]\tvalid_0's multi_logloss: 1.43055\tvalid_0's f1_score: 0.405714\n",
      "[80]\tvalid_0's multi_logloss: 1.43034\tvalid_0's f1_score: 0.405919\n",
      "[85]\tvalid_0's multi_logloss: 1.43014\tvalid_0's f1_score: 0.406428\n",
      "[90]\tvalid_0's multi_logloss: 1.43027\tvalid_0's f1_score: 0.406213\n",
      "[95]\tvalid_0's multi_logloss: 1.43082\tvalid_0's f1_score: 0.40601\n",
      "[100]\tvalid_0's multi_logloss: 1.43084\tvalid_0's f1_score: 0.405992\n",
      "[105]\tvalid_0's multi_logloss: 1.43039\tvalid_0's f1_score: 0.406188\n",
      "Early stopping, best iteration is:\n",
      "[6]\tvalid_0's multi_logloss: 1.5568\tvalid_0's f1_score: 0.410801\n"
     ]
    },
    {
     "data": {
      "text/plain": [
       "LGBMClassifier(boosting_type='gbdt', class_weight=None, colsample_bytree=1.0,\n",
       "               importance_type='split', learning_rate=0.1, max_depth=10,\n",
       "               min_child_samples=20, min_child_weight=0.001, min_split_gain=0.7,\n",
       "               n_estimators=320, n_jobs=60, num_leaves=31,\n",
       "               objective='multiclass', random_state=1, reg_alpha=12,\n",
       "               reg_lambda=0.0, silent=True, subsample=0.7,\n",
       "               subsample_for_bin=200000, subsample_freq=0)"
      ]
     },
     "execution_count": 555,
     "metadata": {},
     "output_type": "execute_result"
    }
   ],
   "source": [
    "lgbm_2.fit(train_df_sampled_all[new_atrs + buf_cols], train_df_sampled_all['multi_class_target'], eval_set=(test_df_all[new_atrs + buf_cols], test_df_all['multi_class_target']), eval_metric=evalerror, verbose=5, early_stopping_rounds=100)"
   ]
  },
  {
   "cell_type": "code",
   "execution_count": 369,
   "metadata": {},
   "outputs": [],
   "source": [
    "def get_new_features(df):\n",
    "        for i in range(df.shape[0]):\n",
    "            if df['im'].iloc[:i].sum()/df['im'].sum() > 0.99:\n",
    "                break\n",
    "        return df['f'].iloc[:i].values.tolist()"
   ]
  },
  {
   "cell_type": "code",
   "execution_count": 370,
   "metadata": {},
   "outputs": [],
   "source": [
    "f_imp = pd.DataFrame(zip(lgbm_orig.feature_name_, lgbm_orig.feature_importances_), columns=['f', 'im']).sort_values(by='im', ascending=False)"
   ]
  },
  {
   "cell_type": "code",
   "execution_count": 371,
   "metadata": {},
   "outputs": [],
   "source": [
    "new_atrs = get_new_features(f_imp)"
   ]
  },
  {
   "cell_type": "code",
   "execution_count": 372,
   "metadata": {
    "collapsed": true,
    "jupyter": {
     "outputs_hidden": true
    }
   },
   "outputs": [
    {
     "name": "stdout",
     "output_type": "stream",
     "text": [
      "Training until validation scores don't improve for 100 rounds\n",
      "[5]\tvalid_0's multi_logloss: 1.60937\tvalid_0's f1_score: 0.393445\n",
      "[10]\tvalid_0's multi_logloss: 1.50766\tvalid_0's f1_score: 0.405807\n",
      "[15]\tvalid_0's multi_logloss: 1.46878\tvalid_0's f1_score: 0.407204\n",
      "[20]\tvalid_0's multi_logloss: 1.4507\tvalid_0's f1_score: 0.407275\n",
      "[25]\tvalid_0's multi_logloss: 1.44223\tvalid_0's f1_score: 0.408705\n",
      "[30]\tvalid_0's multi_logloss: 1.43929\tvalid_0's f1_score: 0.407893\n",
      "[35]\tvalid_0's multi_logloss: 1.43594\tvalid_0's f1_score: 0.407413\n",
      "[40]\tvalid_0's multi_logloss: 1.43478\tvalid_0's f1_score: 0.4077\n",
      "[45]\tvalid_0's multi_logloss: 1.43294\tvalid_0's f1_score: 0.407375\n",
      "[50]\tvalid_0's multi_logloss: 1.43161\tvalid_0's f1_score: 0.407702\n",
      "[55]\tvalid_0's multi_logloss: 1.43054\tvalid_0's f1_score: 0.407723\n",
      "[60]\tvalid_0's multi_logloss: 1.42936\tvalid_0's f1_score: 0.407248\n",
      "[65]\tvalid_0's multi_logloss: 1.42847\tvalid_0's f1_score: 0.407836\n",
      "[70]\tvalid_0's multi_logloss: 1.42801\tvalid_0's f1_score: 0.408551\n",
      "[75]\tvalid_0's multi_logloss: 1.42757\tvalid_0's f1_score: 0.40901\n",
      "[80]\tvalid_0's multi_logloss: 1.42691\tvalid_0's f1_score: 0.409233\n",
      "[85]\tvalid_0's multi_logloss: 1.42636\tvalid_0's f1_score: 0.408913\n",
      "[90]\tvalid_0's multi_logloss: 1.42562\tvalid_0's f1_score: 0.40935\n",
      "[95]\tvalid_0's multi_logloss: 1.42506\tvalid_0's f1_score: 0.409567\n",
      "[100]\tvalid_0's multi_logloss: 1.42452\tvalid_0's f1_score: 0.409499\n",
      "[105]\tvalid_0's multi_logloss: 1.42433\tvalid_0's f1_score: 0.409568\n",
      "[110]\tvalid_0's multi_logloss: 1.42437\tvalid_0's f1_score: 0.409444\n",
      "[115]\tvalid_0's multi_logloss: 1.42433\tvalid_0's f1_score: 0.409603\n",
      "[120]\tvalid_0's multi_logloss: 1.42443\tvalid_0's f1_score: 0.409575\n",
      "[125]\tvalid_0's multi_logloss: 1.4244\tvalid_0's f1_score: 0.409833\n",
      "[130]\tvalid_0's multi_logloss: 1.42426\tvalid_0's f1_score: 0.409355\n",
      "[135]\tvalid_0's multi_logloss: 1.42424\tvalid_0's f1_score: 0.409681\n",
      "[140]\tvalid_0's multi_logloss: 1.42407\tvalid_0's f1_score: 0.409679\n",
      "[145]\tvalid_0's multi_logloss: 1.42386\tvalid_0's f1_score: 0.409582\n",
      "[150]\tvalid_0's multi_logloss: 1.4237\tvalid_0's f1_score: 0.410135\n",
      "[155]\tvalid_0's multi_logloss: 1.42387\tvalid_0's f1_score: 0.410097\n",
      "[160]\tvalid_0's multi_logloss: 1.42355\tvalid_0's f1_score: 0.410415\n",
      "[165]\tvalid_0's multi_logloss: 1.42324\tvalid_0's f1_score: 0.409911\n",
      "[170]\tvalid_0's multi_logloss: 1.42362\tvalid_0's f1_score: 0.410527\n",
      "[175]\tvalid_0's multi_logloss: 1.42364\tvalid_0's f1_score: 0.410121\n",
      "[180]\tvalid_0's multi_logloss: 1.42374\tvalid_0's f1_score: 0.409887\n",
      "[185]\tvalid_0's multi_logloss: 1.42363\tvalid_0's f1_score: 0.409591\n",
      "[190]\tvalid_0's multi_logloss: 1.42391\tvalid_0's f1_score: 0.409936\n",
      "[195]\tvalid_0's multi_logloss: 1.42425\tvalid_0's f1_score: 0.410039\n",
      "[200]\tvalid_0's multi_logloss: 1.42415\tvalid_0's f1_score: 0.409965\n",
      "[205]\tvalid_0's multi_logloss: 1.42413\tvalid_0's f1_score: 0.409879\n",
      "[210]\tvalid_0's multi_logloss: 1.42401\tvalid_0's f1_score: 0.40994\n",
      "[215]\tvalid_0's multi_logloss: 1.4243\tvalid_0's f1_score: 0.410156\n",
      "[220]\tvalid_0's multi_logloss: 1.42447\tvalid_0's f1_score: 0.409899\n",
      "[225]\tvalid_0's multi_logloss: 1.42431\tvalid_0's f1_score: 0.409532\n",
      "[230]\tvalid_0's multi_logloss: 1.42441\tvalid_0's f1_score: 0.409842\n",
      "[235]\tvalid_0's multi_logloss: 1.4241\tvalid_0's f1_score: 0.410062\n",
      "[240]\tvalid_0's multi_logloss: 1.42415\tvalid_0's f1_score: 0.410412\n",
      "[245]\tvalid_0's multi_logloss: 1.42435\tvalid_0's f1_score: 0.410028\n",
      "[250]\tvalid_0's multi_logloss: 1.42439\tvalid_0's f1_score: 0.410057\n",
      "[255]\tvalid_0's multi_logloss: 1.42431\tvalid_0's f1_score: 0.409926\n",
      "[260]\tvalid_0's multi_logloss: 1.42461\tvalid_0's f1_score: 0.409955\n",
      "[265]\tvalid_0's multi_logloss: 1.42468\tvalid_0's f1_score: 0.409741\n",
      "Early stopping, best iteration is:\n",
      "[165]\tvalid_0's multi_logloss: 1.42324\tvalid_0's f1_score: 0.409911\n"
     ]
    },
    {
     "data": {
      "text/plain": [
       "LGBMClassifier(boosting_type='gbdt', class_weight=None, colsample_bytree=1.0,\n",
       "               importance_type='split', learning_rate=0.1, max_depth=10,\n",
       "               min_child_samples=20, min_child_weight=0.001, min_split_gain=0.7,\n",
       "               n_estimators=320, n_jobs=60, num_leaves=31,\n",
       "               objective='multiclass', random_state=1, reg_alpha=12,\n",
       "               reg_lambda=0.0, silent=True, subsample=0.7,\n",
       "               subsample_for_bin=200000, subsample_freq=0)"
      ]
     },
     "execution_count": 372,
     "metadata": {},
     "output_type": "execute_result"
    }
   ],
   "source": [
    "lgbm.fit(train_df_less[new_atrs], train_df_less['multi_class_target'], eval_set=(test_df[new_atrs], test_df['multi_class_target']), eval_metric=evalerror, verbose=5, early_stopping_rounds=100)"
   ]
  },
  {
   "cell_type": "markdown",
   "metadata": {},
   "source": [
    "## hyperopt для class_weight"
   ]
  },
  {
   "cell_type": "code",
   "execution_count": 645,
   "metadata": {},
   "outputs": [],
   "source": [
    "from hyperopt import hp, tpe, Trials, space_eval\n",
    "from hyperopt.fmin import fmin"
   ]
  },
  {
   "cell_type": "code",
   "execution_count": 621,
   "metadata": {},
   "outputs": [],
   "source": [
    "labels = test_df['multi_class_target'].unique()"
   ]
  },
  {
   "cell_type": "code",
   "execution_count": 638,
   "metadata": {},
   "outputs": [],
   "source": [
    "def get_loss_model_hp(params):\n",
    "    lgbm = LGBMClassifier(objective='multiclass', **params, reg_alpha=12, max_depth=10, min_split_gain = 0.7, subsample=0.7, n_estimators=320, n_jobs=60, random_state=SEED, )\n",
    "    \n",
    "    lgbm.fit(train_df_less[new_atrs], train_df_less['multi_class_target'], eval_set=(test_df[new_atrs], test_df['multi_class_target']), eval_metric=evalerror, verbose=False, early_stopping_rounds=100)\n",
    "    \n",
    "    metric = f1_score(test_df['multi_class_target'], lgbm.predict(test_df[new_atrs]), average='macro')\n",
    "          \n",
    "    print(datetime.datetime.now())\n",
    "    print(params, metric)\n",
    "    \n",
    "    return -metric"
   ]
  },
  {
   "cell_type": "code",
   "execution_count": 639,
   "metadata": {},
   "outputs": [],
   "source": [
    "par_space_catboost = {\n",
    "      'class_weight':  {el:hp.uniform(el, 0, 1)  for el in labels}\n",
    "}"
   ]
  },
  {
   "cell_type": "code",
   "execution_count": 640,
   "metadata": {},
   "outputs": [],
   "source": [
    "top_targets = [atr for atr in new_atrs if 'top' in atr]"
   ]
  },
  {
   "cell_type": "code",
   "execution_count": 641,
   "metadata": {},
   "outputs": [],
   "source": [
    "rstate = np.random.RandomState(SEED) "
   ]
  },
  {
   "cell_type": "code",
   "execution_count": 5,
   "metadata": {},
   "outputs": [],
   "source": [
    "# trial = Trials()\n",
    "# best = fmin(fn=get_loss_model_hp, space=par_space_catboost, algo=tpe.suggest, max_evals=300, rstate=rstate) "
   ]
  },
  {
   "cell_type": "code",
   "execution_count": 644,
   "metadata": {},
   "outputs": [
    {
     "data": {
      "text/plain": [
       "{'card2card_transfer': 0.6398475182669389,\n",
       " 'card_recharge': 0.4502000735911028,\n",
       " 'chat': 0.3815013547758437,\n",
       " 'credit_info': 0.46101125727352393,\n",
       " 'invest': 0.9321761812255462,\n",
       " 'main_screen': 0.982994897893273,\n",
       " 'mobile_recharge': 0.641212783884727,\n",
       " 'own_transfer': 0.6317591535575899,\n",
       " 'phone_money_transfer': 0.4600662111029351,\n",
       " 'statement': 0.6951657522904898}"
      ]
     },
     "execution_count": 644,
     "metadata": {},
     "output_type": "execute_result"
    }
   ],
   "source": [
    "best"
   ]
  },
  {
   "cell_type": "code",
   "execution_count": 652,
   "metadata": {},
   "outputs": [],
   "source": [
    "evaled = space_eval(par_space_catboost, best)"
   ]
  },
  {
   "cell_type": "code",
   "execution_count": 654,
   "metadata": {},
   "outputs": [],
   "source": [
    "lgbm = LGBMClassifier(objective='multiclass', class_weight = evaled['class_weight'], reg_alpha=12, max_depth=10, min_split_gain = 0.7, subsample=0.7, n_estimators=320, n_jobs=60, random_state=SEED, )"
   ]
  },
  {
   "cell_type": "code",
   "execution_count": 6,
   "metadata": {},
   "outputs": [],
   "source": [
    "# lgbm.fit(train_df_less[new_atrs], train_df_less['multi_class_target'], eval_set=(test_df[new_atrs], test_df['multi_class_target']), eval_metric=evalerror, verbose=5, early_stopping_rounds=100)"
   ]
  },
  {
   "cell_type": "code",
   "execution_count": 656,
   "metadata": {},
   "outputs": [
    {
     "data": {
      "text/plain": [
       "0.4147348802843952"
      ]
     },
     "execution_count": 656,
     "metadata": {},
     "output_type": "execute_result"
    }
   ],
   "source": [
    "f1_score(test_df['multi_class_target'], lgbm.predict(test_df[new_atrs]), average='macro')"
   ]
  },
  {
   "cell_type": "code",
   "execution_count": 404,
   "metadata": {},
   "outputs": [],
   "source": [
    "labels = test_df['multi_class_target'].unique()"
   ]
  },
  {
   "cell_type": "code",
   "execution_count": 405,
   "metadata": {},
   "outputs": [],
   "source": [
    "conf_matr_df = pd.DataFrame(confusion_matrix(test_df['multi_class_target'], lgbm.predict(test_df[new_atrs]), labels), columns=labels, index=labels)"
   ]
  },
  {
   "cell_type": "code",
   "execution_count": 386,
   "metadata": {},
   "outputs": [
    {
     "data": {
      "text/html": [
       "<div>\n",
       "<style scoped>\n",
       "    .dataframe tbody tr th:only-of-type {\n",
       "        vertical-align: middle;\n",
       "    }\n",
       "\n",
       "    .dataframe tbody tr th {\n",
       "        vertical-align: top;\n",
       "    }\n",
       "\n",
       "    .dataframe thead th {\n",
       "        text-align: right;\n",
       "    }\n",
       "</style>\n",
       "<table border=\"1\" class=\"dataframe\">\n",
       "  <thead>\n",
       "    <tr style=\"text-align: right;\">\n",
       "      <th></th>\n",
       "      <th>card_recharge</th>\n",
       "      <th>main_screen</th>\n",
       "      <th>credit_info</th>\n",
       "      <th>statement</th>\n",
       "      <th>phone_money_transfer</th>\n",
       "      <th>card2card_transfer</th>\n",
       "      <th>own_transfer</th>\n",
       "      <th>mobile_recharge</th>\n",
       "      <th>invest</th>\n",
       "      <th>chat</th>\n",
       "    </tr>\n",
       "  </thead>\n",
       "  <tbody>\n",
       "    <tr>\n",
       "      <th>card_recharge</th>\n",
       "      <td>1641</td>\n",
       "      <td>431</td>\n",
       "      <td>492</td>\n",
       "      <td>283</td>\n",
       "      <td>51</td>\n",
       "      <td>48</td>\n",
       "      <td>62</td>\n",
       "      <td>43</td>\n",
       "      <td>9</td>\n",
       "      <td>149</td>\n",
       "    </tr>\n",
       "    <tr>\n",
       "      <th>main_screen</th>\n",
       "      <td>1869</td>\n",
       "      <td>18665</td>\n",
       "      <td>3059</td>\n",
       "      <td>4321</td>\n",
       "      <td>1498</td>\n",
       "      <td>830</td>\n",
       "      <td>1247</td>\n",
       "      <td>1353</td>\n",
       "      <td>83</td>\n",
       "      <td>1152</td>\n",
       "    </tr>\n",
       "    <tr>\n",
       "      <th>credit_info</th>\n",
       "      <td>570</td>\n",
       "      <td>1267</td>\n",
       "      <td>6873</td>\n",
       "      <td>672</td>\n",
       "      <td>116</td>\n",
       "      <td>148</td>\n",
       "      <td>298</td>\n",
       "      <td>152</td>\n",
       "      <td>17</td>\n",
       "      <td>535</td>\n",
       "    </tr>\n",
       "    <tr>\n",
       "      <th>statement</th>\n",
       "      <td>592</td>\n",
       "      <td>2315</td>\n",
       "      <td>935</td>\n",
       "      <td>5972</td>\n",
       "      <td>824</td>\n",
       "      <td>393</td>\n",
       "      <td>630</td>\n",
       "      <td>695</td>\n",
       "      <td>41</td>\n",
       "      <td>539</td>\n",
       "    </tr>\n",
       "    <tr>\n",
       "      <th>phone_money_transfer</th>\n",
       "      <td>119</td>\n",
       "      <td>745</td>\n",
       "      <td>148</td>\n",
       "      <td>722</td>\n",
       "      <td>1411</td>\n",
       "      <td>199</td>\n",
       "      <td>341</td>\n",
       "      <td>299</td>\n",
       "      <td>16</td>\n",
       "      <td>129</td>\n",
       "    </tr>\n",
       "    <tr>\n",
       "      <th>card2card_transfer</th>\n",
       "      <td>98</td>\n",
       "      <td>464</td>\n",
       "      <td>178</td>\n",
       "      <td>343</td>\n",
       "      <td>206</td>\n",
       "      <td>797</td>\n",
       "      <td>171</td>\n",
       "      <td>189</td>\n",
       "      <td>4</td>\n",
       "      <td>93</td>\n",
       "    </tr>\n",
       "    <tr>\n",
       "      <th>own_transfer</th>\n",
       "      <td>76</td>\n",
       "      <td>349</td>\n",
       "      <td>228</td>\n",
       "      <td>334</td>\n",
       "      <td>218</td>\n",
       "      <td>90</td>\n",
       "      <td>1800</td>\n",
       "      <td>147</td>\n",
       "      <td>29</td>\n",
       "      <td>124</td>\n",
       "    </tr>\n",
       "    <tr>\n",
       "      <th>mobile_recharge</th>\n",
       "      <td>83</td>\n",
       "      <td>497</td>\n",
       "      <td>158</td>\n",
       "      <td>547</td>\n",
       "      <td>304</td>\n",
       "      <td>184</td>\n",
       "      <td>236</td>\n",
       "      <td>1257</td>\n",
       "      <td>4</td>\n",
       "      <td>67</td>\n",
       "    </tr>\n",
       "    <tr>\n",
       "      <th>invest</th>\n",
       "      <td>45</td>\n",
       "      <td>155</td>\n",
       "      <td>58</td>\n",
       "      <td>131</td>\n",
       "      <td>43</td>\n",
       "      <td>14</td>\n",
       "      <td>78</td>\n",
       "      <td>25</td>\n",
       "      <td>246</td>\n",
       "      <td>66</td>\n",
       "    </tr>\n",
       "    <tr>\n",
       "      <th>chat</th>\n",
       "      <td>239</td>\n",
       "      <td>834</td>\n",
       "      <td>531</td>\n",
       "      <td>641</td>\n",
       "      <td>133</td>\n",
       "      <td>90</td>\n",
       "      <td>202</td>\n",
       "      <td>123</td>\n",
       "      <td>22</td>\n",
       "      <td>1318</td>\n",
       "    </tr>\n",
       "  </tbody>\n",
       "</table>\n",
       "</div>"
      ],
      "text/plain": [
       "                      card_recharge  main_screen  credit_info  statement  \\\n",
       "card_recharge                  1641          431          492        283   \n",
       "main_screen                    1869        18665         3059       4321   \n",
       "credit_info                     570         1267         6873        672   \n",
       "statement                       592         2315          935       5972   \n",
       "phone_money_transfer            119          745          148        722   \n",
       "card2card_transfer               98          464          178        343   \n",
       "own_transfer                     76          349          228        334   \n",
       "mobile_recharge                  83          497          158        547   \n",
       "invest                           45          155           58        131   \n",
       "chat                            239          834          531        641   \n",
       "\n",
       "                      phone_money_transfer  card2card_transfer  own_transfer  \\\n",
       "card_recharge                           51                  48            62   \n",
       "main_screen                           1498                 830          1247   \n",
       "credit_info                            116                 148           298   \n",
       "statement                              824                 393           630   \n",
       "phone_money_transfer                  1411                 199           341   \n",
       "card2card_transfer                     206                 797           171   \n",
       "own_transfer                           218                  90          1800   \n",
       "mobile_recharge                        304                 184           236   \n",
       "invest                                  43                  14            78   \n",
       "chat                                   133                  90           202   \n",
       "\n",
       "                      mobile_recharge  invest  chat  \n",
       "card_recharge                      43       9   149  \n",
       "main_screen                      1353      83  1152  \n",
       "credit_info                       152      17   535  \n",
       "statement                         695      41   539  \n",
       "phone_money_transfer              299      16   129  \n",
       "card2card_transfer                189       4    93  \n",
       "own_transfer                      147      29   124  \n",
       "mobile_recharge                  1257       4    67  \n",
       "invest                             25     246    66  \n",
       "chat                              123      22  1318  "
      ]
     },
     "execution_count": 386,
     "metadata": {},
     "output_type": "execute_result"
    }
   ],
   "source": [
    "conf_matr_df"
   ]
  },
  {
   "cell_type": "code",
   "execution_count": null,
   "metadata": {},
   "outputs": [],
   "source": []
  },
  {
   "cell_type": "code",
   "execution_count": 382,
   "metadata": {},
   "outputs": [
    {
     "data": {
      "text/plain": [
       "861"
      ]
     },
     "execution_count": 382,
     "metadata": {},
     "output_type": "execute_result"
    }
   ],
   "source": [
    "np.sum(test_df['multi_class_target'] == 'invest')"
   ]
  },
  {
   "cell_type": "code",
   "execution_count": 385,
   "metadata": {},
   "outputs": [
    {
     "data": {
      "text/plain": [
       "861"
      ]
     },
     "execution_count": 385,
     "metadata": {},
     "output_type": "execute_result"
    }
   ],
   "source": [
    "conf_matr_df.loc['invest'].sum()"
   ]
  },
  {
   "cell_type": "code",
   "execution_count": null,
   "metadata": {},
   "outputs": [],
   "source": [
    " lgbm.predict(test_df[new_atrs]), labels"
   ]
  },
  {
   "cell_type": "code",
   "execution_count": 582,
   "metadata": {},
   "outputs": [],
   "source": [
    "res_probs_df = pd.DataFrame(lgbm.predict_proba(test_df[new_atrs]), columns=lgbm.classes_)"
   ]
  },
  {
   "cell_type": "code",
   "execution_count": 583,
   "metadata": {},
   "outputs": [],
   "source": [
    "prob_cols = res_probs_df.columns.values"
   ]
  },
  {
   "cell_type": "code",
   "execution_count": 584,
   "metadata": {},
   "outputs": [
    {
     "data": {
      "text/plain": [
       "array(['card2card_transfer', 'card_recharge', 'chat', 'credit_info',\n",
       "       'invest', 'main_screen', 'mobile_recharge', 'own_transfer',\n",
       "       'phone_money_transfer', 'statement'], dtype=object)"
      ]
     },
     "execution_count": 584,
     "metadata": {},
     "output_type": "execute_result"
    }
   ],
   "source": [
    "prob_cols"
   ]
  },
  {
   "cell_type": "code",
   "execution_count": 585,
   "metadata": {},
   "outputs": [],
   "source": [
    "res_probs_df['target'] = test_df.reset_index()['multi_class_target']"
   ]
  },
  {
   "cell_type": "code",
   "execution_count": 586,
   "metadata": {},
   "outputs": [],
   "source": [
    "res_probs_df['predicted_1'] = prob_cols[res_probs_df[prob_cols].values.argsort(1)[:, -1]]\n",
    "res_probs_df['predicted_2'] = prob_cols[res_probs_df[prob_cols].values.argsort(1)[:, -2]]\n",
    "# res_probs_df['predicted_3'] = prob_cols[res_probs_df[prob_cols].values.argsort(1)[:, -3]]\n",
    "# res_probs_df['predicted_4'] = prob_cols[res_probs_df[prob_cols].values.argsort(1)[:, -4]]"
   ]
  },
  {
   "cell_type": "code",
   "execution_count": 564,
   "metadata": {},
   "outputs": [
    {
     "data": {
      "text/plain": [
       "(58, 16)"
      ]
     },
     "execution_count": 564,
     "metadata": {},
     "output_type": "execute_result"
    }
   ],
   "source": [
    "res_probs_df[(res_probs_df['target'] == 'invest') & (res_probs_df['predicted_1'] == 'credit_info')].shape"
   ]
  },
  {
   "cell_type": "code",
   "execution_count": 588,
   "metadata": {},
   "outputs": [
    {
     "data": {
      "text/plain": [
       "0.40815365709638673"
      ]
     },
     "execution_count": 588,
     "metadata": {},
     "output_type": "execute_result"
    }
   ],
   "source": [
    "f1_score(res_probs_df['target'], res_probs_df['predicted_1'], average='macro')"
   ]
  },
  {
   "cell_type": "code",
   "execution_count": 567,
   "metadata": {},
   "outputs": [
    {
     "data": {
      "text/html": [
       "<div>\n",
       "<style scoped>\n",
       "    .dataframe tbody tr th:only-of-type {\n",
       "        vertical-align: middle;\n",
       "    }\n",
       "\n",
       "    .dataframe tbody tr th {\n",
       "        vertical-align: top;\n",
       "    }\n",
       "\n",
       "    .dataframe thead th {\n",
       "        text-align: right;\n",
       "    }\n",
       "</style>\n",
       "<table border=\"1\" class=\"dataframe\">\n",
       "  <thead>\n",
       "    <tr style=\"text-align: right;\">\n",
       "      <th></th>\n",
       "      <th>precision</th>\n",
       "      <th>recall</th>\n",
       "      <th>f1-score</th>\n",
       "      <th>support</th>\n",
       "    </tr>\n",
       "  </thead>\n",
       "  <tbody>\n",
       "    <tr>\n",
       "      <th>card2card_transfer</th>\n",
       "      <td>0.283006</td>\n",
       "      <td>0.316948</td>\n",
       "      <td>0.299017</td>\n",
       "      <td>2543.000000</td>\n",
       "    </tr>\n",
       "    <tr>\n",
       "      <th>card_recharge</th>\n",
       "      <td>0.329812</td>\n",
       "      <td>0.476784</td>\n",
       "      <td>0.389908</td>\n",
       "      <td>3209.000000</td>\n",
       "    </tr>\n",
       "    <tr>\n",
       "      <th>chat</th>\n",
       "      <td>0.307180</td>\n",
       "      <td>0.312606</td>\n",
       "      <td>0.309869</td>\n",
       "      <td>4133.000000</td>\n",
       "    </tr>\n",
       "    <tr>\n",
       "      <th>credit_info</th>\n",
       "      <td>0.535668</td>\n",
       "      <td>0.656555</td>\n",
       "      <td>0.589983</td>\n",
       "      <td>10648.000000</td>\n",
       "    </tr>\n",
       "    <tr>\n",
       "      <th>invest</th>\n",
       "      <td>0.551724</td>\n",
       "      <td>0.278746</td>\n",
       "      <td>0.370370</td>\n",
       "      <td>861.000000</td>\n",
       "    </tr>\n",
       "    <tr>\n",
       "      <th>main_screen</th>\n",
       "      <td>0.720402</td>\n",
       "      <td>0.553541</td>\n",
       "      <td>0.626043</td>\n",
       "      <td>34077.000000</td>\n",
       "    </tr>\n",
       "    <tr>\n",
       "      <th>mobile_recharge</th>\n",
       "      <td>0.285747</td>\n",
       "      <td>0.368894</td>\n",
       "      <td>0.322041</td>\n",
       "      <td>3337.000000</td>\n",
       "    </tr>\n",
       "    <tr>\n",
       "      <th>own_transfer</th>\n",
       "      <td>0.344714</td>\n",
       "      <td>0.523417</td>\n",
       "      <td>0.415673</td>\n",
       "      <td>3395.000000</td>\n",
       "    </tr>\n",
       "    <tr>\n",
       "      <th>phone_money_transfer</th>\n",
       "      <td>0.288925</td>\n",
       "      <td>0.348753</td>\n",
       "      <td>0.316032</td>\n",
       "      <td>4129.000000</td>\n",
       "    </tr>\n",
       "    <tr>\n",
       "      <th>statement</th>\n",
       "      <td>0.434017</td>\n",
       "      <td>0.451531</td>\n",
       "      <td>0.442601</td>\n",
       "      <td>12936.000000</td>\n",
       "    </tr>\n",
       "    <tr>\n",
       "      <th>accuracy</th>\n",
       "      <td>0.504756</td>\n",
       "      <td>0.504756</td>\n",
       "      <td>0.504756</td>\n",
       "      <td>0.504756</td>\n",
       "    </tr>\n",
       "    <tr>\n",
       "      <th>macro avg</th>\n",
       "      <td>0.408119</td>\n",
       "      <td>0.428777</td>\n",
       "      <td>0.408154</td>\n",
       "      <td>79268.000000</td>\n",
       "    </tr>\n",
       "    <tr>\n",
       "      <th>weighted avg</th>\n",
       "      <td>0.538765</td>\n",
       "      <td>0.504756</td>\n",
       "      <td>0.513994</td>\n",
       "      <td>79268.000000</td>\n",
       "    </tr>\n",
       "  </tbody>\n",
       "</table>\n",
       "</div>"
      ],
      "text/plain": [
       "                      precision    recall  f1-score       support\n",
       "card2card_transfer     0.283006  0.316948  0.299017   2543.000000\n",
       "card_recharge          0.329812  0.476784  0.389908   3209.000000\n",
       "chat                   0.307180  0.312606  0.309869   4133.000000\n",
       "credit_info            0.535668  0.656555  0.589983  10648.000000\n",
       "invest                 0.551724  0.278746  0.370370    861.000000\n",
       "main_screen            0.720402  0.553541  0.626043  34077.000000\n",
       "mobile_recharge        0.285747  0.368894  0.322041   3337.000000\n",
       "own_transfer           0.344714  0.523417  0.415673   3395.000000\n",
       "phone_money_transfer   0.288925  0.348753  0.316032   4129.000000\n",
       "statement              0.434017  0.451531  0.442601  12936.000000\n",
       "accuracy               0.504756  0.504756  0.504756      0.504756\n",
       "macro avg              0.408119  0.428777  0.408154  79268.000000\n",
       "weighted avg           0.538765  0.504756  0.513994  79268.000000"
      ]
     },
     "execution_count": 567,
     "metadata": {},
     "output_type": "execute_result"
    }
   ],
   "source": [
    "pd.DataFrame(classification_report(test_df['multi_class_target'], lgbm.predict(test_df[new_atrs]), output_dict=True)).T"
   ]
  },
  {
   "cell_type": "code",
   "execution_count": 608,
   "metadata": {},
   "outputs": [],
   "source": [
    "res_probs_df['predicted'] = res_probs_df['predicted_1']"
   ]
  },
  {
   "cell_type": "code",
   "execution_count": 598,
   "metadata": {},
   "outputs": [],
   "source": [
    "# res_probs_df.loc[(res_probs_df['predicted'] == 'credit_info') &  (res_probs_df['predicted_2'] == 'invest'),  'predicted'] = 'invest'\n",
    "# res_probs_df.loc[(res_probs_df['predicted'] == 'own_transfer') &  (res_probs_df['predicted_2'] == 'invest'),  'predicted'] = 'invest'\n",
    "# res_probs_df.loc[(res_probs_df['predicted'] == 'card_recharge') &  (res_probs_df['predicted_2'] == 'invest'),  'predicted'] = 'invest'\n",
    "# res_probs_df.loc[(res_probs_df['predicted'] == 'phone_money_transfer') &  (res_probs_df['predicted_2'] == 'invest'),  'predicted'] = 'invest'\n",
    "# res_probs_df.loc[(res_probs_df['predicted'] == 'statement') &  (res_probs_df['predicted_2'] == 'invest'), 'predicted'] = 'invest'\n",
    "# res_probs_df.loc[(res_probs_df['predicted_1'] == 'mobile_recharge') &  (res_probs_df['predicted_2'] == 'invest'), 'predicted'] = 'invest'"
   ]
  },
  {
   "cell_type": "code",
   "execution_count": 614,
   "metadata": {},
   "outputs": [
    {
     "name": "stdout",
     "output_type": "stream",
     "text": [
      "card2card_transfer 0.3\n",
      "card_recharge 0.18032786885245902\n",
      "chat 0.07741935483870968\n",
      "credit_info 0.1937984496124031\n",
      "invest 0.0425531914893617\n",
      "main_screen 0.44805608667941366\n",
      "mobile_recharge 0.3259493670886076\n",
      "own_transfer 0.5022222222222222\n",
      "phone_money_transfer 0.0\n",
      "statement 0.5216346153846154\n"
     ]
    }
   ],
   "source": [
    "for el in  prob_cols:\n",
    "    buf = res_probs_df[(res_probs_df['predicted_1'] == 'phone_money_transfer') & (res_probs_df['target'] == el)]\n",
    "    print(el, np.mean(buf['target'] == buf['predicted_2']))"
   ]
  },
  {
   "cell_type": "code",
   "execution_count": 615,
   "metadata": {},
   "outputs": [],
   "source": [
    "res_probs_df.loc[(res_probs_df['predicted'] == 'phone_money_transfer') &  (res_probs_df['predicted_2'] == 'own_transfer'),  'predicted'] = 'own_transfer'"
   ]
  },
  {
   "cell_type": "code",
   "execution_count": 616,
   "metadata": {},
   "outputs": [
    {
     "data": {
      "text/plain": [
       "0.39634841878425087"
      ]
     },
     "execution_count": 616,
     "metadata": {},
     "output_type": "execute_result"
    }
   ],
   "source": [
    "f1_score(res_probs_df['target'], res_probs_df['predicted'], average='macro')"
   ]
  },
  {
   "cell_type": "code",
   "execution_count": 581,
   "metadata": {},
   "outputs": [
    {
     "data": {
      "text/plain": [
       "0.37317628783257867"
      ]
     },
     "execution_count": 581,
     "metadata": {},
     "output_type": "execute_result"
    }
   ],
   "source": [
    "f1_score(res_probs_df['target'], res_probs_df['predicted'], average='macro')"
   ]
  },
  {
   "cell_type": "code",
   "execution_count": 540,
   "metadata": {
    "collapsed": true,
    "jupyter": {
     "outputs_hidden": true
    }
   },
   "outputs": [
    {
     "data": {
      "text/html": [
       "<div>\n",
       "<style scoped>\n",
       "    .dataframe tbody tr th:only-of-type {\n",
       "        vertical-align: middle;\n",
       "    }\n",
       "\n",
       "    .dataframe tbody tr th {\n",
       "        vertical-align: top;\n",
       "    }\n",
       "\n",
       "    .dataframe thead th {\n",
       "        text-align: right;\n",
       "    }\n",
       "</style>\n",
       "<table border=\"1\" class=\"dataframe\">\n",
       "  <thead>\n",
       "    <tr style=\"text-align: right;\">\n",
       "      <th></th>\n",
       "      <th>precision</th>\n",
       "      <th>recall</th>\n",
       "      <th>f1-score</th>\n",
       "      <th>support</th>\n",
       "    </tr>\n",
       "  </thead>\n",
       "  <tbody>\n",
       "    <tr>\n",
       "      <th>card2card_transfer</th>\n",
       "      <td>0.285356</td>\n",
       "      <td>0.313409</td>\n",
       "      <td>0.298726</td>\n",
       "      <td>2543.000000</td>\n",
       "    </tr>\n",
       "    <tr>\n",
       "      <th>card_recharge</th>\n",
       "      <td>0.307764</td>\n",
       "      <td>0.511374</td>\n",
       "      <td>0.384264</td>\n",
       "      <td>3209.000000</td>\n",
       "    </tr>\n",
       "    <tr>\n",
       "      <th>chat</th>\n",
       "      <td>0.315916</td>\n",
       "      <td>0.318897</td>\n",
       "      <td>0.317399</td>\n",
       "      <td>4133.000000</td>\n",
       "    </tr>\n",
       "    <tr>\n",
       "      <th>credit_info</th>\n",
       "      <td>0.542891</td>\n",
       "      <td>0.645473</td>\n",
       "      <td>0.589755</td>\n",
       "      <td>10648.000000</td>\n",
       "    </tr>\n",
       "    <tr>\n",
       "      <th>invest</th>\n",
       "      <td>0.522293</td>\n",
       "      <td>0.285714</td>\n",
       "      <td>0.369369</td>\n",
       "      <td>861.000000</td>\n",
       "    </tr>\n",
       "    <tr>\n",
       "      <th>main_screen</th>\n",
       "      <td>0.725643</td>\n",
       "      <td>0.547730</td>\n",
       "      <td>0.624258</td>\n",
       "      <td>34077.000000</td>\n",
       "    </tr>\n",
       "    <tr>\n",
       "      <th>mobile_recharge</th>\n",
       "      <td>0.293486</td>\n",
       "      <td>0.376686</td>\n",
       "      <td>0.329921</td>\n",
       "      <td>3337.000000</td>\n",
       "    </tr>\n",
       "    <tr>\n",
       "      <th>own_transfer</th>\n",
       "      <td>0.355380</td>\n",
       "      <td>0.530191</td>\n",
       "      <td>0.425532</td>\n",
       "      <td>3395.000000</td>\n",
       "    </tr>\n",
       "    <tr>\n",
       "      <th>phone_money_transfer</th>\n",
       "      <td>0.293714</td>\n",
       "      <td>0.341729</td>\n",
       "      <td>0.315907</td>\n",
       "      <td>4129.000000</td>\n",
       "    </tr>\n",
       "    <tr>\n",
       "      <th>statement</th>\n",
       "      <td>0.427610</td>\n",
       "      <td>0.461657</td>\n",
       "      <td>0.443982</td>\n",
       "      <td>12936.000000</td>\n",
       "    </tr>\n",
       "    <tr>\n",
       "      <th>accuracy</th>\n",
       "      <td>0.504365</td>\n",
       "      <td>0.504365</td>\n",
       "      <td>0.504365</td>\n",
       "      <td>0.504365</td>\n",
       "    </tr>\n",
       "    <tr>\n",
       "      <th>macro avg</th>\n",
       "      <td>0.407005</td>\n",
       "      <td>0.433286</td>\n",
       "      <td>0.409911</td>\n",
       "      <td>79268.000000</td>\n",
       "    </tr>\n",
       "    <tr>\n",
       "      <th>weighted avg</th>\n",
       "      <td>0.541294</td>\n",
       "      <td>0.504365</td>\n",
       "      <td>0.514312</td>\n",
       "      <td>79268.000000</td>\n",
       "    </tr>\n",
       "  </tbody>\n",
       "</table>\n",
       "</div>"
      ],
      "text/plain": [
       "                      precision    recall  f1-score       support\n",
       "card2card_transfer     0.285356  0.313409  0.298726   2543.000000\n",
       "card_recharge          0.307764  0.511374  0.384264   3209.000000\n",
       "chat                   0.315916  0.318897  0.317399   4133.000000\n",
       "credit_info            0.542891  0.645473  0.589755  10648.000000\n",
       "invest                 0.522293  0.285714  0.369369    861.000000\n",
       "main_screen            0.725643  0.547730  0.624258  34077.000000\n",
       "mobile_recharge        0.293486  0.376686  0.329921   3337.000000\n",
       "own_transfer           0.355380  0.530191  0.425532   3395.000000\n",
       "phone_money_transfer   0.293714  0.341729  0.315907   4129.000000\n",
       "statement              0.427610  0.461657  0.443982  12936.000000\n",
       "accuracy               0.504365  0.504365  0.504365      0.504365\n",
       "macro avg              0.407005  0.433286  0.409911  79268.000000\n",
       "weighted avg           0.541294  0.504365  0.514312  79268.000000"
      ]
     },
     "execution_count": 540,
     "metadata": {},
     "output_type": "execute_result"
    }
   ],
   "source": [
    "pd.DataFrame(classification_report(res_probs_df['target'], res_probs_df['predicted'], output_dict=True)).T"
   ]
  },
  {
   "cell_type": "code",
   "execution_count": null,
   "metadata": {},
   "outputs": [],
   "source": []
  },
  {
   "cell_type": "code",
   "execution_count": null,
   "metadata": {},
   "outputs": [],
   "source": []
  },
  {
   "cell_type": "code",
   "execution_count": 510,
   "metadata": {},
   "outputs": [
    {
     "data": {
      "text/plain": [
       "0.409177243509488"
      ]
     },
     "execution_count": 510,
     "metadata": {},
     "output_type": "execute_result"
    }
   ],
   "source": [
    "f1_score(res_probs_df['target'], res_probs_df['predicted'], average='macro')"
   ]
  },
  {
   "cell_type": "code",
   "execution_count": 453,
   "metadata": {
    "collapsed": true,
    "jupyter": {
     "outputs_hidden": true
    }
   },
   "outputs": [
    {
     "data": {
      "text/html": [
       "<div>\n",
       "<style scoped>\n",
       "    .dataframe tbody tr th:only-of-type {\n",
       "        vertical-align: middle;\n",
       "    }\n",
       "\n",
       "    .dataframe tbody tr th {\n",
       "        vertical-align: top;\n",
       "    }\n",
       "\n",
       "    .dataframe thead th {\n",
       "        text-align: right;\n",
       "    }\n",
       "</style>\n",
       "<table border=\"1\" class=\"dataframe\">\n",
       "  <thead>\n",
       "    <tr style=\"text-align: right;\">\n",
       "      <th></th>\n",
       "      <th>precision</th>\n",
       "      <th>recall</th>\n",
       "      <th>f1-score</th>\n",
       "      <th>support</th>\n",
       "    </tr>\n",
       "  </thead>\n",
       "  <tbody>\n",
       "    <tr>\n",
       "      <th>card2card_transfer</th>\n",
       "      <td>0.285356</td>\n",
       "      <td>0.313656</td>\n",
       "      <td>0.298838</td>\n",
       "      <td>2541.000000</td>\n",
       "    </tr>\n",
       "    <tr>\n",
       "      <th>card_recharge</th>\n",
       "      <td>0.307678</td>\n",
       "      <td>0.511229</td>\n",
       "      <td>0.384156</td>\n",
       "      <td>3206.000000</td>\n",
       "    </tr>\n",
       "    <tr>\n",
       "      <th>chat</th>\n",
       "      <td>0.315916</td>\n",
       "      <td>0.319670</td>\n",
       "      <td>0.317782</td>\n",
       "      <td>4123.000000</td>\n",
       "    </tr>\n",
       "    <tr>\n",
       "      <th>credit_info</th>\n",
       "      <td>0.543024</td>\n",
       "      <td>0.645361</td>\n",
       "      <td>0.589787</td>\n",
       "      <td>10639.000000</td>\n",
       "    </tr>\n",
       "    <tr>\n",
       "      <th>invest</th>\n",
       "      <td>0.610727</td>\n",
       "      <td>0.371970</td>\n",
       "      <td>0.462344</td>\n",
       "      <td>949.000000</td>\n",
       "    </tr>\n",
       "    <tr>\n",
       "      <th>main_screen</th>\n",
       "      <td>0.725643</td>\n",
       "      <td>0.547987</td>\n",
       "      <td>0.624425</td>\n",
       "      <td>34061.000000</td>\n",
       "    </tr>\n",
       "    <tr>\n",
       "      <th>mobile_recharge</th>\n",
       "      <td>0.293486</td>\n",
       "      <td>0.376912</td>\n",
       "      <td>0.330008</td>\n",
       "      <td>3335.000000</td>\n",
       "    </tr>\n",
       "    <tr>\n",
       "      <th>own_transfer</th>\n",
       "      <td>0.353954</td>\n",
       "      <td>0.526034</td>\n",
       "      <td>0.423169</td>\n",
       "      <td>3361.000000</td>\n",
       "    </tr>\n",
       "    <tr>\n",
       "      <th>phone_money_transfer</th>\n",
       "      <td>0.293860</td>\n",
       "      <td>0.341174</td>\n",
       "      <td>0.315754</td>\n",
       "      <td>4124.000000</td>\n",
       "    </tr>\n",
       "    <tr>\n",
       "      <th>statement</th>\n",
       "      <td>0.427610</td>\n",
       "      <td>0.461907</td>\n",
       "      <td>0.444097</td>\n",
       "      <td>12929.000000</td>\n",
       "    </tr>\n",
       "    <tr>\n",
       "      <th>accuracy</th>\n",
       "      <td>0.505147</td>\n",
       "      <td>0.505147</td>\n",
       "      <td>0.505147</td>\n",
       "      <td>0.505147</td>\n",
       "    </tr>\n",
       "    <tr>\n",
       "      <th>macro avg</th>\n",
       "      <td>0.415725</td>\n",
       "      <td>0.441590</td>\n",
       "      <td>0.419036</td>\n",
       "      <td>79268.000000</td>\n",
       "    </tr>\n",
       "    <tr>\n",
       "      <th>weighted avg</th>\n",
       "      <td>0.542411</td>\n",
       "      <td>0.505147</td>\n",
       "      <td>0.515340</td>\n",
       "      <td>79268.000000</td>\n",
       "    </tr>\n",
       "  </tbody>\n",
       "</table>\n",
       "</div>"
      ],
      "text/plain": [
       "                      precision    recall  f1-score       support\n",
       "card2card_transfer     0.285356  0.313656  0.298838   2541.000000\n",
       "card_recharge          0.307678  0.511229  0.384156   3206.000000\n",
       "chat                   0.315916  0.319670  0.317782   4123.000000\n",
       "credit_info            0.543024  0.645361  0.589787  10639.000000\n",
       "invest                 0.610727  0.371970  0.462344    949.000000\n",
       "main_screen            0.725643  0.547987  0.624425  34061.000000\n",
       "mobile_recharge        0.293486  0.376912  0.330008   3335.000000\n",
       "own_transfer           0.353954  0.526034  0.423169   3361.000000\n",
       "phone_money_transfer   0.293860  0.341174  0.315754   4124.000000\n",
       "statement              0.427610  0.461907  0.444097  12929.000000\n",
       "accuracy               0.505147  0.505147  0.505147      0.505147\n",
       "macro avg              0.415725  0.441590  0.419036  79268.000000\n",
       "weighted avg           0.542411  0.505147  0.515340  79268.000000"
      ]
     },
     "execution_count": 453,
     "metadata": {},
     "output_type": "execute_result"
    }
   ],
   "source": [
    "pd.DataFrame(classification_report(res_probs_df['target'], res_probs_df['predicted'], output_dict=True)).T"
   ]
  },
  {
   "cell_type": "code",
   "execution_count": null,
   "metadata": {},
   "outputs": [],
   "source": [
    "submit_df['prediction'] = lgbm.predict(submit_df)"
   ]
  },
  {
   "cell_type": "code",
   "execution_count": 465,
   "metadata": {},
   "outputs": [],
   "source": [
    "submit_df.set_index('client_pin', inplace=True)"
   ]
  },
  {
   "cell_type": "code",
   "execution_count": 491,
   "metadata": {},
   "outputs": [],
   "source": [
    "res_probs_df_submit = pd.DataFrame(lgbm.predict_proba(submit_df[new_atrs]), index=submit_df.index, columns=lgbm.classes_,)"
   ]
  },
  {
   "cell_type": "code",
   "execution_count": null,
   "metadata": {},
   "outputs": [],
   "source": [
    "res_probs_df_submit"
   ]
  },
  {
   "cell_type": "code",
   "execution_count": null,
   "metadata": {},
   "outputs": [],
   "source": []
  },
  {
   "cell_type": "code",
   "execution_count": 362,
   "metadata": {
    "collapsed": true,
    "jupyter": {
     "outputs_hidden": true
    }
   },
   "outputs": [
    {
     "name": "stdout",
     "output_type": "stream",
     "text": [
      "Training until validation scores don't improve for 100 rounds\n",
      "[5]\tvalid_0's multi_logloss: 1.60771\tvalid_0's f1_score: 0.398017\n",
      "[10]\tvalid_0's multi_logloss: 1.50591\tvalid_0's f1_score: 0.405514\n",
      "[15]\tvalid_0's multi_logloss: 1.46681\tvalid_0's f1_score: 0.407278\n",
      "[20]\tvalid_0's multi_logloss: 1.45163\tvalid_0's f1_score: 0.40704\n",
      "[25]\tvalid_0's multi_logloss: 1.44176\tvalid_0's f1_score: 0.408143\n",
      "[30]\tvalid_0's multi_logloss: 1.43798\tvalid_0's f1_score: 0.40788\n",
      "[35]\tvalid_0's multi_logloss: 1.43603\tvalid_0's f1_score: 0.407757\n",
      "[40]\tvalid_0's multi_logloss: 1.43358\tvalid_0's f1_score: 0.407727\n",
      "[45]\tvalid_0's multi_logloss: 1.43209\tvalid_0's f1_score: 0.408504\n",
      "[50]\tvalid_0's multi_logloss: 1.4313\tvalid_0's f1_score: 0.408956\n",
      "[55]\tvalid_0's multi_logloss: 1.43056\tvalid_0's f1_score: 0.408694\n",
      "[60]\tvalid_0's multi_logloss: 1.429\tvalid_0's f1_score: 0.409094\n",
      "[65]\tvalid_0's multi_logloss: 1.42851\tvalid_0's f1_score: 0.409408\n",
      "[70]\tvalid_0's multi_logloss: 1.42773\tvalid_0's f1_score: 0.410236\n",
      "[75]\tvalid_0's multi_logloss: 1.42704\tvalid_0's f1_score: 0.410316\n",
      "[80]\tvalid_0's multi_logloss: 1.42726\tvalid_0's f1_score: 0.410034\n",
      "[85]\tvalid_0's multi_logloss: 1.42621\tvalid_0's f1_score: 0.410896\n",
      "[90]\tvalid_0's multi_logloss: 1.42606\tvalid_0's f1_score: 0.410753\n",
      "[95]\tvalid_0's multi_logloss: 1.4258\tvalid_0's f1_score: 0.410743\n",
      "[100]\tvalid_0's multi_logloss: 1.42511\tvalid_0's f1_score: 0.411052\n",
      "[105]\tvalid_0's multi_logloss: 1.42517\tvalid_0's f1_score: 0.411351\n",
      "[110]\tvalid_0's multi_logloss: 1.42491\tvalid_0's f1_score: 0.410652\n",
      "[115]\tvalid_0's multi_logloss: 1.42457\tvalid_0's f1_score: 0.41053\n",
      "[120]\tvalid_0's multi_logloss: 1.42435\tvalid_0's f1_score: 0.410497\n",
      "[125]\tvalid_0's multi_logloss: 1.4245\tvalid_0's f1_score: 0.41091\n",
      "[130]\tvalid_0's multi_logloss: 1.42422\tvalid_0's f1_score: 0.41069\n",
      "[135]\tvalid_0's multi_logloss: 1.42445\tvalid_0's f1_score: 0.410454\n",
      "[140]\tvalid_0's multi_logloss: 1.42376\tvalid_0's f1_score: 0.410339\n",
      "[145]\tvalid_0's multi_logloss: 1.42355\tvalid_0's f1_score: 0.41011\n",
      "[150]\tvalid_0's multi_logloss: 1.42321\tvalid_0's f1_score: 0.410536\n",
      "[155]\tvalid_0's multi_logloss: 1.42299\tvalid_0's f1_score: 0.410682\n",
      "[160]\tvalid_0's multi_logloss: 1.42277\tvalid_0's f1_score: 0.410451\n",
      "[165]\tvalid_0's multi_logloss: 1.42304\tvalid_0's f1_score: 0.410796\n",
      "[170]\tvalid_0's multi_logloss: 1.42287\tvalid_0's f1_score: 0.41104\n",
      "[175]\tvalid_0's multi_logloss: 1.42271\tvalid_0's f1_score: 0.41077\n",
      "[180]\tvalid_0's multi_logloss: 1.4228\tvalid_0's f1_score: 0.410924\n",
      "[185]\tvalid_0's multi_logloss: 1.42279\tvalid_0's f1_score: 0.410796\n",
      "[190]\tvalid_0's multi_logloss: 1.42311\tvalid_0's f1_score: 0.410326\n",
      "[195]\tvalid_0's multi_logloss: 1.42271\tvalid_0's f1_score: 0.41035\n",
      "[200]\tvalid_0's multi_logloss: 1.42282\tvalid_0's f1_score: 0.410001\n",
      "[205]\tvalid_0's multi_logloss: 1.42284\tvalid_0's f1_score: 0.410191\n",
      "Early stopping, best iteration is:\n",
      "[105]\tvalid_0's multi_logloss: 1.42517\tvalid_0's f1_score: 0.411351\n"
     ]
    },
    {
     "data": {
      "text/plain": [
       "LGBMClassifier(boosting_type='gbdt', class_weight=None, colsample_bytree=1.0,\n",
       "               importance_type='split', learning_rate=0.1, max_depth=10,\n",
       "               min_child_samples=20, min_child_weight=0.001, min_split_gain=0.7,\n",
       "               n_estimators=320, n_jobs=60, num_leaves=31,\n",
       "               objective='multiclass', random_state=1, reg_alpha=12,\n",
       "               reg_lambda=0.0, silent=True, subsample=0.7,\n",
       "               subsample_for_bin=200000, subsample_freq=0)"
      ]
     },
     "execution_count": 362,
     "metadata": {},
     "output_type": "execute_result"
    }
   ],
   "source": [
    "lgbm.fit(target_encoder.transform(train_df_less[new_atrs + targ_comb_cols]), train_df_less['multi_class_target'], eval_set=(target_encoder.transform(test_df[new_atrs + targ_comb_cols]), test_df['multi_class_target']), eval_metric=evalerror, verbose=5, early_stopping_rounds=100)"
   ]
  },
  {
   "cell_type": "code",
   "execution_count": 326,
   "metadata": {},
   "outputs": [],
   "source": [
    "def get_new_features(df):\n",
    "        for i in range(df.shape[0]):\n",
    "            if df['im'].iloc[:i].sum()/df['im'].sum() > 0.99:\n",
    "                break\n",
    "        return df['f'].iloc[:i].values.tolist()"
   ]
  },
  {
   "cell_type": "code",
   "execution_count": 343,
   "metadata": {},
   "outputs": [],
   "source": [
    "from category_encoders.wrapper import PolynomialWrapper\n",
    "from category_encoders import *\n",
    "\n",
    "def get_target_encoder(df, cols, target):\n",
    "    enc = TargetEncoder(cols=cols)\n",
    "    wrapper = PolynomialWrapper(enc)\n",
    "    \n",
    "    wrapper.fit(df, target)\n",
    "    \n",
    "    return wrapper"
   ]
  },
  {
   "cell_type": "code",
   "execution_count": 351,
   "metadata": {},
   "outputs": [],
   "source": [
    "train_df_sampled, ecode_ftr_df = train_test_split(train_df_less, test_size = 0.2, stratify=train_df_less['multi_class_target'],random_state=SEED + 100)"
   ]
  },
  {
   "cell_type": "code",
   "execution_count": 360,
   "metadata": {},
   "outputs": [],
   "source": [
    "target_encoder = get_target_encoder(ecode_ftr_df[new_atrs + targ_comb_cols], targ_comb_cols + target_atrs, ecode_ftr_df['multi_class_target'])"
   ]
  },
  {
   "cell_type": "code",
   "execution_count": null,
   "metadata": {},
   "outputs": [],
   "source": [
    "# train_df_sampled, ecode_ftr_df = train_test_split(train_df_less, test_size = 0.2, stratify=train_df_less['multi_class_target'],random_state=SEED + 100)"
   ]
  },
  {
   "cell_type": "code",
   "execution_count": 366,
   "metadata": {
    "collapsed": true,
    "jupyter": {
     "outputs_hidden": true
    }
   },
   "outputs": [
    {
     "ename": "ValueError",
     "evalue": "Number of features of the model must match the input. Model n_features_ is 458 and input n_features is 212 ",
     "output_type": "error",
     "traceback": [
      "\u001b[0;31m---------------------------------------------------------------------------\u001b[0m",
      "\u001b[0;31mValueError\u001b[0m                                Traceback (most recent call last)",
      "\u001b[0;32m<ipython-input-366-430a54a43fbd>\u001b[0m in \u001b[0;36m<module>\u001b[0;34m\u001b[0m\n\u001b[0;32m----> 1\u001b[0;31m \u001b[0mclassification_report\u001b[0m\u001b[0;34m(\u001b[0m\u001b[0mtest_df\u001b[0m\u001b[0;34m[\u001b[0m\u001b[0;34m'multi_class_target'\u001b[0m\u001b[0;34m]\u001b[0m\u001b[0;34m,\u001b[0m \u001b[0mtarget_encoder\u001b[0m\u001b[0;34m.\u001b[0m\u001b[0mtransform\u001b[0m\u001b[0;34m(\u001b[0m\u001b[0mlgbm\u001b[0m\u001b[0;34m.\u001b[0m\u001b[0mpredict\u001b[0m\u001b[0;34m(\u001b[0m\u001b[0mtest_df\u001b[0m\u001b[0;34m[\u001b[0m\u001b[0mnew_atrs\u001b[0m\u001b[0;34m]\u001b[0m\u001b[0;34m)\u001b[0m\u001b[0;34m)\u001b[0m\u001b[0;34m,\u001b[0m \u001b[0moutput_dict\u001b[0m\u001b[0;34m=\u001b[0m\u001b[0;32mTrue\u001b[0m\u001b[0;34m)\u001b[0m\u001b[0;34m\u001b[0m\u001b[0;34m\u001b[0m\u001b[0m\n\u001b[0m",
      "\u001b[0;32m~/.local/lib/python3.6/site-packages/lightgbm/sklearn.py\u001b[0m in \u001b[0;36mpredict\u001b[0;34m(self, X, raw_score, start_iteration, num_iteration, pred_leaf, pred_contrib, **kwargs)\u001b[0m\n\u001b[1;32m    868\u001b[0m         \u001b[0;34m\"\"\"Docstring is inherited from the LGBMModel.\"\"\"\u001b[0m\u001b[0;34m\u001b[0m\u001b[0;34m\u001b[0m\u001b[0m\n\u001b[1;32m    869\u001b[0m         result = self.predict_proba(X, raw_score, start_iteration, num_iteration,\n\u001b[0;32m--> 870\u001b[0;31m                                     pred_leaf, pred_contrib, **kwargs)\n\u001b[0m\u001b[1;32m    871\u001b[0m         \u001b[0;32mif\u001b[0m \u001b[0mcallable\u001b[0m\u001b[0;34m(\u001b[0m\u001b[0mself\u001b[0m\u001b[0;34m.\u001b[0m\u001b[0m_objective\u001b[0m\u001b[0;34m)\u001b[0m \u001b[0;32mor\u001b[0m \u001b[0mraw_score\u001b[0m \u001b[0;32mor\u001b[0m \u001b[0mpred_leaf\u001b[0m \u001b[0;32mor\u001b[0m \u001b[0mpred_contrib\u001b[0m\u001b[0;34m:\u001b[0m\u001b[0;34m\u001b[0m\u001b[0;34m\u001b[0m\u001b[0m\n\u001b[1;32m    872\u001b[0m             \u001b[0;32mreturn\u001b[0m \u001b[0mresult\u001b[0m\u001b[0;34m\u001b[0m\u001b[0;34m\u001b[0m\u001b[0m\n",
      "\u001b[0;32m~/.local/lib/python3.6/site-packages/lightgbm/sklearn.py\u001b[0m in \u001b[0;36mpredict_proba\u001b[0;34m(self, X, raw_score, start_iteration, num_iteration, pred_leaf, pred_contrib, **kwargs)\u001b[0m\n\u001b[1;32m    921\u001b[0m         \"\"\"\n\u001b[1;32m    922\u001b[0m         result = super(LGBMClassifier, self).predict(X, raw_score, start_iteration, num_iteration,\n\u001b[0;32m--> 923\u001b[0;31m                                                      pred_leaf, pred_contrib, **kwargs)\n\u001b[0m\u001b[1;32m    924\u001b[0m         \u001b[0;32mif\u001b[0m \u001b[0mcallable\u001b[0m\u001b[0;34m(\u001b[0m\u001b[0mself\u001b[0m\u001b[0;34m.\u001b[0m\u001b[0m_objective\u001b[0m\u001b[0;34m)\u001b[0m \u001b[0;32mand\u001b[0m \u001b[0;32mnot\u001b[0m \u001b[0;34m(\u001b[0m\u001b[0mraw_score\u001b[0m \u001b[0;32mor\u001b[0m \u001b[0mpred_leaf\u001b[0m \u001b[0;32mor\u001b[0m \u001b[0mpred_contrib\u001b[0m\u001b[0;34m)\u001b[0m\u001b[0;34m:\u001b[0m\u001b[0;34m\u001b[0m\u001b[0;34m\u001b[0m\u001b[0m\n\u001b[1;32m    925\u001b[0m             warnings.warn(\"Cannot compute class probabilities or labels \"\n",
      "\u001b[0;32m~/.local/lib/python3.6/site-packages/lightgbm/sklearn.py\u001b[0m in \u001b[0;36mpredict\u001b[0;34m(self, X, raw_score, start_iteration, num_iteration, pred_leaf, pred_contrib, **kwargs)\u001b[0m\n\u001b[1;32m    684\u001b[0m                              \u001b[0;34m\"match the input. Model n_features_ is %s and \"\u001b[0m\u001b[0;34m\u001b[0m\u001b[0;34m\u001b[0m\u001b[0m\n\u001b[1;32m    685\u001b[0m                              \u001b[0;34m\"input n_features is %s \"\u001b[0m\u001b[0;34m\u001b[0m\u001b[0;34m\u001b[0m\u001b[0m\n\u001b[0;32m--> 686\u001b[0;31m                              % (self._n_features, n_features))\n\u001b[0m\u001b[1;32m    687\u001b[0m         return self._Booster.predict(X, raw_score=raw_score, start_iteration=start_iteration, num_iteration=num_iteration,\n\u001b[1;32m    688\u001b[0m                                      pred_leaf=pred_leaf, pred_contrib=pred_contrib, **kwargs)\n",
      "\u001b[0;31mValueError\u001b[0m: Number of features of the model must match the input. Model n_features_ is 458 and input n_features is 212 "
     ]
    }
   ],
   "source": [
    "classification_report(test_df['multi_class_target'], target_encoder.transform(lgbm.predict(target_encoder.transform(test_df[new_atrs])), output_dict=True)"
   ]
  },
  {
   "cell_type": "code",
   "execution_count": 59,
   "metadata": {},
   "outputs": [],
   "source": [
    "lgbm_orig = lgbm"
   ]
  },
  {
   "cell_type": "code",
   "execution_count": 60,
   "metadata": {},
   "outputs": [],
   "source": [
    "f_imp = pd.DataFrame(zip(lgbm_orig.feature_name_, lgbm_orig.feature_importances_), columns=['f', 'im']).sort_values(by='im', ascending=False)"
   ]
  },
  {
   "cell_type": "code",
   "execution_count": 61,
   "metadata": {},
   "outputs": [],
   "source": [
    "# pd.options.display.max_rows = 1000"
   ]
  },
  {
   "cell_type": "code",
   "execution_count": 2515,
   "metadata": {
    "collapsed": true,
    "jupyter": {
     "outputs_hidden": true
    }
   },
   "outputs": [
    {
     "ename": "KeyError",
     "evalue": "0",
     "output_type": "error",
     "traceback": [
      "\u001b[0;31m---------------------------------------------------------------------------\u001b[0m",
      "\u001b[0;31mKeyError\u001b[0m                                  Traceback (most recent call last)",
      "\u001b[0;32m~/.local/lib/python3.6/site-packages/pandas/core/indexes/base.py\u001b[0m in \u001b[0;36mget_loc\u001b[0;34m(self, key, method, tolerance)\u001b[0m\n\u001b[1;32m   2897\u001b[0m             \u001b[0;32mtry\u001b[0m\u001b[0;34m:\u001b[0m\u001b[0;34m\u001b[0m\u001b[0;34m\u001b[0m\u001b[0m\n\u001b[0;32m-> 2898\u001b[0;31m                 \u001b[0;32mreturn\u001b[0m \u001b[0mself\u001b[0m\u001b[0;34m.\u001b[0m\u001b[0m_engine\u001b[0m\u001b[0;34m.\u001b[0m\u001b[0mget_loc\u001b[0m\u001b[0;34m(\u001b[0m\u001b[0mcasted_key\u001b[0m\u001b[0;34m)\u001b[0m\u001b[0;34m\u001b[0m\u001b[0;34m\u001b[0m\u001b[0m\n\u001b[0m\u001b[1;32m   2899\u001b[0m             \u001b[0;32mexcept\u001b[0m \u001b[0mKeyError\u001b[0m \u001b[0;32mas\u001b[0m \u001b[0merr\u001b[0m\u001b[0;34m:\u001b[0m\u001b[0;34m\u001b[0m\u001b[0;34m\u001b[0m\u001b[0m\n",
      "\u001b[0;32mpandas/_libs/index.pyx\u001b[0m in \u001b[0;36mpandas._libs.index.IndexEngine.get_loc\u001b[0;34m()\u001b[0m\n",
      "\u001b[0;32mpandas/_libs/index.pyx\u001b[0m in \u001b[0;36mpandas._libs.index.IndexEngine.get_loc\u001b[0;34m()\u001b[0m\n",
      "\u001b[0;32mpandas/_libs/hashtable_class_helper.pxi\u001b[0m in \u001b[0;36mpandas._libs.hashtable.PyObjectHashTable.get_item\u001b[0;34m()\u001b[0m\n",
      "\u001b[0;32mpandas/_libs/hashtable_class_helper.pxi\u001b[0m in \u001b[0;36mpandas._libs.hashtable.PyObjectHashTable.get_item\u001b[0;34m()\u001b[0m\n",
      "\u001b[0;31mKeyError\u001b[0m: 0",
      "\nThe above exception was the direct cause of the following exception:\n",
      "\u001b[0;31mKeyError\u001b[0m                                  Traceback (most recent call last)",
      "\u001b[0;32m<ipython-input-2515-899ee1971882>\u001b[0m in \u001b[0;36m<module>\u001b[0;34m\u001b[0m\n\u001b[0;32m----> 1\u001b[0;31m \u001b[0mf_imp\u001b[0m\u001b[0;34m.\u001b[0m\u001b[0mhead\u001b[0m\u001b[0;34m(\u001b[0m\u001b[0mn\u001b[0m\u001b[0;34m=\u001b[0m\u001b[0;36m120\u001b[0m\u001b[0;34m)\u001b[0m\u001b[0;34m[\u001b[0m\u001b[0;36m0\u001b[0m\u001b[0;34m]\u001b[0m\u001b[0;34m.\u001b[0m\u001b[0mvalues\u001b[0m\u001b[0;34m\u001b[0m\u001b[0;34m\u001b[0m\u001b[0m\n\u001b[0m",
      "\u001b[0;32m~/.local/lib/python3.6/site-packages/pandas/core/frame.py\u001b[0m in \u001b[0;36m__getitem__\u001b[0;34m(self, key)\u001b[0m\n\u001b[1;32m   2904\u001b[0m             \u001b[0;32mif\u001b[0m \u001b[0mself\u001b[0m\u001b[0;34m.\u001b[0m\u001b[0mcolumns\u001b[0m\u001b[0;34m.\u001b[0m\u001b[0mnlevels\u001b[0m \u001b[0;34m>\u001b[0m \u001b[0;36m1\u001b[0m\u001b[0;34m:\u001b[0m\u001b[0;34m\u001b[0m\u001b[0;34m\u001b[0m\u001b[0m\n\u001b[1;32m   2905\u001b[0m                 \u001b[0;32mreturn\u001b[0m \u001b[0mself\u001b[0m\u001b[0;34m.\u001b[0m\u001b[0m_getitem_multilevel\u001b[0m\u001b[0;34m(\u001b[0m\u001b[0mkey\u001b[0m\u001b[0;34m)\u001b[0m\u001b[0;34m\u001b[0m\u001b[0;34m\u001b[0m\u001b[0m\n\u001b[0;32m-> 2906\u001b[0;31m             \u001b[0mindexer\u001b[0m \u001b[0;34m=\u001b[0m \u001b[0mself\u001b[0m\u001b[0;34m.\u001b[0m\u001b[0mcolumns\u001b[0m\u001b[0;34m.\u001b[0m\u001b[0mget_loc\u001b[0m\u001b[0;34m(\u001b[0m\u001b[0mkey\u001b[0m\u001b[0;34m)\u001b[0m\u001b[0;34m\u001b[0m\u001b[0;34m\u001b[0m\u001b[0m\n\u001b[0m\u001b[1;32m   2907\u001b[0m             \u001b[0;32mif\u001b[0m \u001b[0mis_integer\u001b[0m\u001b[0;34m(\u001b[0m\u001b[0mindexer\u001b[0m\u001b[0;34m)\u001b[0m\u001b[0;34m:\u001b[0m\u001b[0;34m\u001b[0m\u001b[0;34m\u001b[0m\u001b[0m\n\u001b[1;32m   2908\u001b[0m                 \u001b[0mindexer\u001b[0m \u001b[0;34m=\u001b[0m \u001b[0;34m[\u001b[0m\u001b[0mindexer\u001b[0m\u001b[0;34m]\u001b[0m\u001b[0;34m\u001b[0m\u001b[0;34m\u001b[0m\u001b[0m\n",
      "\u001b[0;32m~/.local/lib/python3.6/site-packages/pandas/core/indexes/base.py\u001b[0m in \u001b[0;36mget_loc\u001b[0;34m(self, key, method, tolerance)\u001b[0m\n\u001b[1;32m   2898\u001b[0m                 \u001b[0;32mreturn\u001b[0m \u001b[0mself\u001b[0m\u001b[0;34m.\u001b[0m\u001b[0m_engine\u001b[0m\u001b[0;34m.\u001b[0m\u001b[0mget_loc\u001b[0m\u001b[0;34m(\u001b[0m\u001b[0mcasted_key\u001b[0m\u001b[0;34m)\u001b[0m\u001b[0;34m\u001b[0m\u001b[0;34m\u001b[0m\u001b[0m\n\u001b[1;32m   2899\u001b[0m             \u001b[0;32mexcept\u001b[0m \u001b[0mKeyError\u001b[0m \u001b[0;32mas\u001b[0m \u001b[0merr\u001b[0m\u001b[0;34m:\u001b[0m\u001b[0;34m\u001b[0m\u001b[0;34m\u001b[0m\u001b[0m\n\u001b[0;32m-> 2900\u001b[0;31m                 \u001b[0;32mraise\u001b[0m \u001b[0mKeyError\u001b[0m\u001b[0;34m(\u001b[0m\u001b[0mkey\u001b[0m\u001b[0;34m)\u001b[0m \u001b[0;32mfrom\u001b[0m \u001b[0merr\u001b[0m\u001b[0;34m\u001b[0m\u001b[0;34m\u001b[0m\u001b[0m\n\u001b[0m\u001b[1;32m   2901\u001b[0m \u001b[0;34m\u001b[0m\u001b[0m\n\u001b[1;32m   2902\u001b[0m         \u001b[0;32mif\u001b[0m \u001b[0mtolerance\u001b[0m \u001b[0;32mis\u001b[0m \u001b[0;32mnot\u001b[0m \u001b[0;32mNone\u001b[0m\u001b[0;34m:\u001b[0m\u001b[0;34m\u001b[0m\u001b[0;34m\u001b[0m\u001b[0m\n",
      "\u001b[0;31mKeyError\u001b[0m: 0"
     ]
    }
   ],
   "source": [
    "f_imp.head(n=120)[0].values"
   ]
  },
  {
   "cell_type": "code",
   "execution_count": 62,
   "metadata": {},
   "outputs": [],
   "source": [
    "def get_new_features(df):\n",
    "        for i in range(df.shape[0]):\n",
    "            if df['im'].iloc[:i].sum()/df['im'].sum() > 0.9999:\n",
    "                break\n",
    "        return df['f'].iloc[:i].values.tolist()"
   ]
  },
  {
   "cell_type": "code",
   "execution_count": 63,
   "metadata": {},
   "outputs": [],
   "source": [
    "new_atrs = get_new_features(f_imp)"
   ]
  },
  {
   "cell_type": "raw",
   "metadata": {},
   "source": [
    "target encoding не помогает"
   ]
  },
  {
   "cell_type": "code",
   "execution_count": 2525,
   "metadata": {
    "collapsed": true,
    "jupyter": {
     "outputs_hidden": true
    }
   },
   "outputs": [
    {
     "name": "stdout",
     "output_type": "stream",
     "text": [
      "Training until validation scores don't improve for 100 rounds\n",
      "[5]\tvalid_0's multi_logloss: 1.60939\tvalid_0's f1_score: 0.392608\n",
      "[10]\tvalid_0's multi_logloss: 1.50724\tvalid_0's f1_score: 0.404997\n",
      "[15]\tvalid_0's multi_logloss: 1.46709\tvalid_0's f1_score: 0.406296\n",
      "[20]\tvalid_0's multi_logloss: 1.44798\tvalid_0's f1_score: 0.406961\n",
      "[25]\tvalid_0's multi_logloss: 1.43817\tvalid_0's f1_score: 0.407399\n",
      "[30]\tvalid_0's multi_logloss: 1.43185\tvalid_0's f1_score: 0.407598\n",
      "[35]\tvalid_0's multi_logloss: 1.429\tvalid_0's f1_score: 0.407719\n",
      "[40]\tvalid_0's multi_logloss: 1.42665\tvalid_0's f1_score: 0.40773\n",
      "[45]\tvalid_0's multi_logloss: 1.4249\tvalid_0's f1_score: 0.407826\n",
      "[50]\tvalid_0's multi_logloss: 1.4237\tvalid_0's f1_score: 0.407938\n",
      "[55]\tvalid_0's multi_logloss: 1.42302\tvalid_0's f1_score: 0.408715\n",
      "[60]\tvalid_0's multi_logloss: 1.42221\tvalid_0's f1_score: 0.408544\n",
      "[65]\tvalid_0's multi_logloss: 1.42176\tvalid_0's f1_score: 0.408279\n",
      "[70]\tvalid_0's multi_logloss: 1.4217\tvalid_0's f1_score: 0.408532\n",
      "[75]\tvalid_0's multi_logloss: 1.4214\tvalid_0's f1_score: 0.408726\n",
      "[80]\tvalid_0's multi_logloss: 1.42102\tvalid_0's f1_score: 0.408811\n",
      "[85]\tvalid_0's multi_logloss: 1.42069\tvalid_0's f1_score: 0.408783\n",
      "[90]\tvalid_0's multi_logloss: 1.4206\tvalid_0's f1_score: 0.408251\n",
      "[95]\tvalid_0's multi_logloss: 1.42049\tvalid_0's f1_score: 0.407993\n",
      "[100]\tvalid_0's multi_logloss: 1.42049\tvalid_0's f1_score: 0.408226\n",
      "[105]\tvalid_0's multi_logloss: 1.42062\tvalid_0's f1_score: 0.408438\n",
      "[110]\tvalid_0's multi_logloss: 1.42059\tvalid_0's f1_score: 0.408473\n",
      "[115]\tvalid_0's multi_logloss: 1.42051\tvalid_0's f1_score: 0.408064\n",
      "[120]\tvalid_0's multi_logloss: 1.42027\tvalid_0's f1_score: 0.408223\n",
      "[125]\tvalid_0's multi_logloss: 1.42027\tvalid_0's f1_score: 0.408666\n",
      "[130]\tvalid_0's multi_logloss: 1.42033\tvalid_0's f1_score: 0.408773\n",
      "[135]\tvalid_0's multi_logloss: 1.42042\tvalid_0's f1_score: 0.408817\n",
      "[140]\tvalid_0's multi_logloss: 1.42041\tvalid_0's f1_score: 0.409004\n",
      "[145]\tvalid_0's multi_logloss: 1.42057\tvalid_0's f1_score: 0.408321\n",
      "[150]\tvalid_0's multi_logloss: 1.42077\tvalid_0's f1_score: 0.408\n",
      "[155]\tvalid_0's multi_logloss: 1.42061\tvalid_0's f1_score: 0.408016\n",
      "[160]\tvalid_0's multi_logloss: 1.42088\tvalid_0's f1_score: 0.407972\n",
      "[165]\tvalid_0's multi_logloss: 1.42095\tvalid_0's f1_score: 0.407839\n",
      "[170]\tvalid_0's multi_logloss: 1.42115\tvalid_0's f1_score: 0.408411\n",
      "[175]\tvalid_0's multi_logloss: 1.42123\tvalid_0's f1_score: 0.408024\n",
      "[180]\tvalid_0's multi_logloss: 1.42109\tvalid_0's f1_score: 0.408269\n",
      "[185]\tvalid_0's multi_logloss: 1.42126\tvalid_0's f1_score: 0.408257\n",
      "[190]\tvalid_0's multi_logloss: 1.42145\tvalid_0's f1_score: 0.408083\n",
      "[195]\tvalid_0's multi_logloss: 1.42143\tvalid_0's f1_score: 0.408279\n",
      "[200]\tvalid_0's multi_logloss: 1.42157\tvalid_0's f1_score: 0.408671\n",
      "[205]\tvalid_0's multi_logloss: 1.42157\tvalid_0's f1_score: 0.40878\n",
      "[210]\tvalid_0's multi_logloss: 1.42142\tvalid_0's f1_score: 0.408461\n",
      "[215]\tvalid_0's multi_logloss: 1.42165\tvalid_0's f1_score: 0.408901\n",
      "[220]\tvalid_0's multi_logloss: 1.42174\tvalid_0's f1_score: 0.408874\n",
      "Early stopping, best iteration is:\n",
      "[122]\tvalid_0's multi_logloss: 1.42004\tvalid_0's f1_score: 0.40839\n"
     ]
    },
    {
     "data": {
      "text/plain": [
       "LGBMClassifier(boosting_type='gbdt', class_weight=None, colsample_bytree=1.0,\n",
       "               importance_type='split', learning_rate=0.1, max_depth=10,\n",
       "               min_child_samples=20, min_child_weight=0.001, min_split_gain=0.7,\n",
       "               n_estimators=250, n_jobs=60, num_leaves=31,\n",
       "               objective='multiclass', random_state=1, reg_alpha=12,\n",
       "               reg_lambda=0.0, silent=True, subsample=0.7,\n",
       "               subsample_for_bin=200000, subsample_freq=0)"
      ]
     },
     "execution_count": 2525,
     "metadata": {},
     "output_type": "execute_result"
    }
   ],
   "source": [
    "lgbm.fit(train_df_less[new_atrs], train_df_less['multi_class_target'], eval_set=(test_df[new_atrs], test_df['multi_class_target']), eval_metric=evalerror, verbose=5, early_stopping_rounds=100)"
   ]
  },
  {
   "cell_type": "code",
   "execution_count": 2650,
   "metadata": {},
   "outputs": [],
   "source": [
    "cat_atrs = [atr for atr in cat_atrs if atr in atrs]"
   ]
  },
  {
   "cell_type": "code",
   "execution_count": 64,
   "metadata": {},
   "outputs": [],
   "source": [
    "# train_df_less['timezone_num_prev_1'] = train_df_less['timezone_num_prev_1'].astype(np.float)\n",
    "# test_df['timezone_num_prev_1'] = test_df['timezone_num_prev_1'].astype(np.float)"
   ]
  },
  {
   "cell_type": "code",
   "execution_count": 86,
   "metadata": {},
   "outputs": [],
   "source": [
    "for atr in cat_atrs:\n",
    "    train_df_less[atr] = train_df_less[atr].astype('object')\n",
    "    train_df_less[atr].fillna('nan', inplace=True)\n",
    "    \n",
    "    test_df[atr] = test_df[atr].astype('object')\n",
    "    test_df[atr].fillna('nan', inplace=True)\n",
    "    \n",
    "    if str(test_df[atr].dtype) == 'float64':\n",
    "        train_df_less[atr] =   train_df_less[atr].astype(int)\n",
    "        test_df[atr] =   test_df[atr].astype(int)"
   ]
  },
  {
   "cell_type": "code",
   "execution_count": 99,
   "metadata": {},
   "outputs": [],
   "source": [
    "cv_clsf = cb.CatBoostClassifier(objective='MultiClass',custom_metric=['F1'], verbose=True, eval_metric='TotalF1:average=Macro', random_seed=SEED, n_estimators=550, one_hot_max_size=100, learning_rate=0.4)"
   ]
  },
  {
   "cell_type": "code",
   "execution_count": 100,
   "metadata": {
    "collapsed": true,
    "jupyter": {
     "outputs_hidden": true
    }
   },
   "outputs": [
    {
     "name": "stdout",
     "output_type": "stream",
     "text": [
      "0:\tlearn: 0.2703405\ttest: 0.2345578\tbest: 0.2345578 (0)\ttotal: 2.44s\tremaining: 22m 20s\n",
      "4:\tlearn: 0.4453213\ttest: 0.3676144\tbest: 0.3676144 (4)\ttotal: 11.4s\tremaining: 20m 42s\n",
      "8:\tlearn: 0.4615654\ttest: 0.3787277\tbest: 0.3787277 (8)\ttotal: 20.7s\tremaining: 20m 46s\n",
      "12:\tlearn: 0.4700501\ttest: 0.3863819\tbest: 0.3863819 (12)\ttotal: 29.5s\tremaining: 20m 20s\n",
      "16:\tlearn: 0.4740463\ttest: 0.3867700\tbest: 0.3873080 (14)\ttotal: 38.4s\tremaining: 20m 4s\n",
      "20:\tlearn: 0.4770293\ttest: 0.3890505\tbest: 0.3890505 (20)\ttotal: 47.4s\tremaining: 19m 54s\n",
      "24:\tlearn: 0.4794592\ttest: 0.3902320\tbest: 0.3902320 (24)\ttotal: 56.5s\tremaining: 19m 46s\n",
      "28:\tlearn: 0.4808927\ttest: 0.3914399\tbest: 0.3914399 (28)\ttotal: 1m 4s\tremaining: 19m 26s\n",
      "32:\tlearn: 0.4830589\ttest: 0.3940380\tbest: 0.3940380 (32)\ttotal: 1m 13s\tremaining: 19m 15s\n",
      "36:\tlearn: 0.4850002\ttest: 0.3951433\tbest: 0.3951433 (36)\ttotal: 1m 21s\tremaining: 18m 55s\n",
      "40:\tlearn: 0.4865550\ttest: 0.3962442\tbest: 0.3962442 (40)\ttotal: 1m 31s\tremaining: 18m 52s\n",
      "44:\tlearn: 0.4877141\ttest: 0.3970223\tbest: 0.3970660 (42)\ttotal: 1m 39s\tremaining: 18m 39s\n",
      "48:\tlearn: 0.4893977\ttest: 0.3981755\tbest: 0.3981755 (48)\ttotal: 1m 48s\tremaining: 18m 30s\n",
      "52:\tlearn: 0.4909528\ttest: 0.3984320\tbest: 0.3985006 (49)\ttotal: 1m 57s\tremaining: 18m 21s\n",
      "56:\tlearn: 0.4918960\ttest: 0.3992447\tbest: 0.3992447 (56)\ttotal: 2m 6s\tremaining: 18m 14s\n",
      "60:\tlearn: 0.4929669\ttest: 0.3990990\tbest: 0.3993779 (57)\ttotal: 2m 15s\tremaining: 18m 6s\n",
      "64:\tlearn: 0.4932386\ttest: 0.3988922\tbest: 0.3994526 (61)\ttotal: 2m 23s\tremaining: 17m 50s\n",
      "68:\tlearn: 0.4942326\ttest: 0.3998497\tbest: 0.3998497 (68)\ttotal: 2m 32s\tremaining: 17m 41s\n",
      "72:\tlearn: 0.4950848\ttest: 0.4002206\tbest: 0.4004757 (71)\ttotal: 2m 40s\tremaining: 17m 30s\n",
      "76:\tlearn: 0.4955546\ttest: 0.4000908\tbest: 0.4004757 (71)\ttotal: 2m 49s\tremaining: 17m 19s\n",
      "80:\tlearn: 0.4964910\ttest: 0.4006947\tbest: 0.4006947 (80)\ttotal: 2m 58s\tremaining: 17m 11s\n",
      "84:\tlearn: 0.4972792\ttest: 0.4000831\tbest: 0.4007870 (81)\ttotal: 3m 6s\tremaining: 17m 1s\n",
      "88:\tlearn: 0.4983578\ttest: 0.4004264\tbest: 0.4007870 (81)\ttotal: 3m 15s\tremaining: 16m 51s\n",
      "92:\tlearn: 0.4989131\ttest: 0.4009024\tbest: 0.4009024 (92)\ttotal: 3m 23s\tremaining: 16m 39s\n",
      "96:\tlearn: 0.4995040\ttest: 0.4015265\tbest: 0.4015265 (96)\ttotal: 3m 32s\tremaining: 16m 30s\n",
      "100:\tlearn: 0.5002642\ttest: 0.4024913\tbest: 0.4024913 (100)\ttotal: 3m 40s\tremaining: 16m 18s\n",
      "104:\tlearn: 0.5008765\ttest: 0.4015931\tbest: 0.4024913 (100)\ttotal: 3m 49s\tremaining: 16m 11s\n",
      "108:\tlearn: 0.5015574\ttest: 0.4022476\tbest: 0.4024913 (100)\ttotal: 3m 57s\tremaining: 15m 59s\n",
      "112:\tlearn: 0.5021874\ttest: 0.4025658\tbest: 0.4025796 (111)\ttotal: 4m 5s\tremaining: 15m 48s\n",
      "116:\tlearn: 0.5024960\ttest: 0.4020062\tbest: 0.4025796 (111)\ttotal: 4m 13s\tremaining: 15m 39s\n",
      "120:\tlearn: 0.5029530\ttest: 0.4024010\tbest: 0.4030023 (118)\ttotal: 4m 22s\tremaining: 15m 30s\n",
      "124:\tlearn: 0.5033010\ttest: 0.4025820\tbest: 0.4030023 (118)\ttotal: 4m 30s\tremaining: 15m 20s\n",
      "128:\tlearn: 0.5034788\ttest: 0.4025142\tbest: 0.4030023 (118)\ttotal: 4m 38s\tremaining: 15m 10s\n",
      "132:\tlearn: 0.5038407\ttest: 0.4028717\tbest: 0.4030023 (118)\ttotal: 4m 47s\tremaining: 15m 2s\n",
      "136:\tlearn: 0.5041517\ttest: 0.4028835\tbest: 0.4030023 (118)\ttotal: 4m 56s\tremaining: 14m 53s\n",
      "140:\tlearn: 0.5046102\ttest: 0.4031677\tbest: 0.4032998 (139)\ttotal: 5m 4s\tremaining: 14m 44s\n",
      "144:\tlearn: 0.5049849\ttest: 0.4029552\tbest: 0.4032998 (139)\ttotal: 5m 13s\tremaining: 14m 36s\n",
      "148:\tlearn: 0.5051463\ttest: 0.4030817\tbest: 0.4032998 (139)\ttotal: 5m 22s\tremaining: 14m 28s\n",
      "152:\tlearn: 0.5055890\ttest: 0.4034241\tbest: 0.4034241 (152)\ttotal: 5m 31s\tremaining: 14m 21s\n",
      "156:\tlearn: 0.5059734\ttest: 0.4035651\tbest: 0.4039880 (155)\ttotal: 5m 40s\tremaining: 14m 12s\n",
      "160:\tlearn: 0.5062739\ttest: 0.4033054\tbest: 0.4039880 (155)\ttotal: 5m 49s\tremaining: 14m 3s\n",
      "164:\tlearn: 0.5067269\ttest: 0.4042918\tbest: 0.4042918 (164)\ttotal: 5m 57s\tremaining: 13m 55s\n",
      "168:\tlearn: 0.5071280\ttest: 0.4043004\tbest: 0.4044012 (167)\ttotal: 6m 6s\tremaining: 13m 45s\n",
      "172:\tlearn: 0.5074289\ttest: 0.4045984\tbest: 0.4045984 (172)\ttotal: 6m 15s\tremaining: 13m 37s\n",
      "176:\tlearn: 0.5076787\ttest: 0.4046425\tbest: 0.4046425 (176)\ttotal: 6m 23s\tremaining: 13m 28s\n",
      "180:\tlearn: 0.5079723\ttest: 0.4044778\tbest: 0.4046425 (176)\ttotal: 6m 32s\tremaining: 13m 19s\n",
      "184:\tlearn: 0.5086034\ttest: 0.4039397\tbest: 0.4046425 (176)\ttotal: 6m 40s\tremaining: 13m 11s\n",
      "188:\tlearn: 0.5088725\ttest: 0.4039412\tbest: 0.4046425 (176)\ttotal: 6m 49s\tremaining: 13m 2s\n",
      "192:\tlearn: 0.5092559\ttest: 0.4040012\tbest: 0.4046425 (176)\ttotal: 6m 57s\tremaining: 12m 52s\n",
      "196:\tlearn: 0.5094227\ttest: 0.4038839\tbest: 0.4046425 (176)\ttotal: 7m 6s\tremaining: 12m 44s\n",
      "200:\tlearn: 0.5099796\ttest: 0.4037730\tbest: 0.4046425 (176)\ttotal: 7m 15s\tremaining: 12m 35s\n",
      "204:\tlearn: 0.5100152\ttest: 0.4038383\tbest: 0.4046425 (176)\ttotal: 7m 24s\tremaining: 12m 27s\n",
      "208:\tlearn: 0.5102153\ttest: 0.4038246\tbest: 0.4046425 (176)\ttotal: 7m 32s\tremaining: 12m 18s\n",
      "212:\tlearn: 0.5105341\ttest: 0.4036734\tbest: 0.4046425 (176)\ttotal: 7m 40s\tremaining: 12m 8s\n",
      "216:\tlearn: 0.5107781\ttest: 0.4046208\tbest: 0.4046425 (176)\ttotal: 7m 49s\tremaining: 12m\n",
      "220:\tlearn: 0.5110548\ttest: 0.4049073\tbest: 0.4049073 (220)\ttotal: 7m 58s\tremaining: 11m 51s\n",
      "224:\tlearn: 0.5112401\ttest: 0.4046519\tbest: 0.4049073 (220)\ttotal: 8m 6s\tremaining: 11m 43s\n",
      "228:\tlearn: 0.5115729\ttest: 0.4052442\tbest: 0.4055372 (226)\ttotal: 8m 15s\tremaining: 11m 34s\n",
      "232:\tlearn: 0.5118422\ttest: 0.4051692\tbest: 0.4055372 (226)\ttotal: 8m 24s\tremaining: 11m 25s\n",
      "236:\tlearn: 0.5119510\ttest: 0.4052215\tbest: 0.4055372 (226)\ttotal: 8m 33s\tremaining: 11m 17s\n",
      "240:\tlearn: 0.5119657\ttest: 0.4051778\tbest: 0.4055372 (226)\ttotal: 8m 41s\tremaining: 11m 8s\n",
      "244:\tlearn: 0.5123403\ttest: 0.4053252\tbest: 0.4055932 (243)\ttotal: 8m 50s\tremaining: 11m\n",
      "248:\tlearn: 0.5125331\ttest: 0.4051529\tbest: 0.4056103 (246)\ttotal: 8m 58s\tremaining: 10m 51s\n",
      "252:\tlearn: 0.5128257\ttest: 0.4050695\tbest: 0.4056103 (246)\ttotal: 9m 7s\tremaining: 10m 42s\n",
      "256:\tlearn: 0.5130141\ttest: 0.4050154\tbest: 0.4056103 (246)\ttotal: 9m 16s\tremaining: 10m 34s\n",
      "260:\tlearn: 0.5131971\ttest: 0.4057025\tbest: 0.4057025 (260)\ttotal: 9m 24s\tremaining: 10m 25s\n",
      "264:\tlearn: 0.5135022\ttest: 0.4056214\tbest: 0.4058045 (261)\ttotal: 9m 33s\tremaining: 10m 16s\n",
      "268:\tlearn: 0.5135784\ttest: 0.4054596\tbest: 0.4058045 (261)\ttotal: 9m 41s\tremaining: 10m 7s\n",
      "272:\tlearn: 0.5139685\ttest: 0.4054554\tbest: 0.4058045 (261)\ttotal: 9m 49s\tremaining: 9m 58s\n",
      "276:\tlearn: 0.5140322\ttest: 0.4057577\tbest: 0.4058045 (261)\ttotal: 9m 58s\tremaining: 9m 49s\n",
      "280:\tlearn: 0.5142032\ttest: 0.4057559\tbest: 0.4059127 (278)\ttotal: 10m 6s\tremaining: 9m 40s\n",
      "284:\tlearn: 0.5143937\ttest: 0.4052843\tbest: 0.4059127 (278)\ttotal: 10m 15s\tremaining: 9m 32s\n",
      "288:\tlearn: 0.5146724\ttest: 0.4051508\tbest: 0.4059127 (278)\ttotal: 10m 23s\tremaining: 9m 23s\n",
      "292:\tlearn: 0.5147557\ttest: 0.4057461\tbest: 0.4059127 (278)\ttotal: 10m 32s\tremaining: 9m 14s\n",
      "296:\tlearn: 0.5152228\ttest: 0.4055705\tbest: 0.4059127 (278)\ttotal: 10m 40s\tremaining: 9m 6s\n",
      "300:\tlearn: 0.5152513\ttest: 0.4060138\tbest: 0.4060138 (300)\ttotal: 10m 49s\tremaining: 8m 57s\n",
      "304:\tlearn: 0.5155446\ttest: 0.4056704\tbest: 0.4061410 (302)\ttotal: 10m 57s\tremaining: 8m 48s\n",
      "308:\tlearn: 0.5157170\ttest: 0.4060093\tbest: 0.4061410 (302)\ttotal: 11m 5s\tremaining: 8m 39s\n",
      "312:\tlearn: 0.5158574\ttest: 0.4060460\tbest: 0.4061410 (302)\ttotal: 11m 14s\tremaining: 8m 30s\n",
      "316:\tlearn: 0.5159729\ttest: 0.4061767\tbest: 0.4063079 (315)\ttotal: 11m 23s\tremaining: 8m 22s\n",
      "320:\tlearn: 0.5159965\ttest: 0.4059153\tbest: 0.4063079 (315)\ttotal: 11m 31s\tremaining: 8m 13s\n",
      "324:\tlearn: 0.5163569\ttest: 0.4065588\tbest: 0.4065588 (324)\ttotal: 11m 40s\tremaining: 8m 5s\n",
      "328:\tlearn: 0.5165732\ttest: 0.4060586\tbest: 0.4065588 (324)\ttotal: 11m 49s\tremaining: 7m 56s\n",
      "332:\tlearn: 0.5168488\ttest: 0.4063786\tbest: 0.4065588 (324)\ttotal: 11m 58s\tremaining: 7m 48s\n",
      "336:\tlearn: 0.5170396\ttest: 0.4065717\tbest: 0.4067221 (334)\ttotal: 12m 6s\tremaining: 7m 39s\n",
      "340:\tlearn: 0.5172402\ttest: 0.4059869\tbest: 0.4067221 (334)\ttotal: 12m 15s\tremaining: 7m 30s\n",
      "344:\tlearn: 0.5173867\ttest: 0.4062154\tbest: 0.4067221 (334)\ttotal: 12m 24s\tremaining: 7m 22s\n",
      "348:\tlearn: 0.5177373\ttest: 0.4053826\tbest: 0.4067221 (334)\ttotal: 12m 33s\tremaining: 7m 13s\n",
      "352:\tlearn: 0.5177842\ttest: 0.4059712\tbest: 0.4067221 (334)\ttotal: 12m 41s\tremaining: 7m 4s\n",
      "356:\tlearn: 0.5179361\ttest: 0.4056396\tbest: 0.4067221 (334)\ttotal: 12m 50s\tremaining: 6m 56s\n",
      "360:\tlearn: 0.5182361\ttest: 0.4053225\tbest: 0.4067221 (334)\ttotal: 12m 58s\tremaining: 6m 47s\n",
      "364:\tlearn: 0.5185365\ttest: 0.4050896\tbest: 0.4067221 (334)\ttotal: 13m 7s\tremaining: 6m 38s\n",
      "368:\tlearn: 0.5186495\ttest: 0.4056133\tbest: 0.4067221 (334)\ttotal: 13m 15s\tremaining: 6m 30s\n",
      "372:\tlearn: 0.5190360\ttest: 0.4053208\tbest: 0.4067221 (334)\ttotal: 13m 23s\tremaining: 6m 21s\n",
      "376:\tlearn: 0.5191794\ttest: 0.4058540\tbest: 0.4067221 (334)\ttotal: 13m 31s\tremaining: 6m 12s\n",
      "380:\tlearn: 0.5193342\ttest: 0.4056532\tbest: 0.4067221 (334)\ttotal: 13m 40s\tremaining: 6m 4s\n",
      "384:\tlearn: 0.5195953\ttest: 0.4058985\tbest: 0.4067221 (334)\ttotal: 13m 49s\tremaining: 5m 55s\n"
     ]
    },
    {
     "ename": "KeyboardInterrupt",
     "evalue": "",
     "output_type": "error",
     "traceback": [
      "\u001b[0;31m---------------------------------------------------------------------------\u001b[0m",
      "\u001b[0;31mKeyboardInterrupt\u001b[0m                         Traceback (most recent call last)",
      "\u001b[0;32m<ipython-input-100-7af1481aae23>\u001b[0m in \u001b[0;36m<module>\u001b[0;34m\u001b[0m\n\u001b[0;32m----> 1\u001b[0;31m \u001b[0mcv_clsf\u001b[0m\u001b[0;34m.\u001b[0m\u001b[0mfit\u001b[0m\u001b[0;34m(\u001b[0m\u001b[0mtrain_df_less\u001b[0m\u001b[0;34m[\u001b[0m\u001b[0matrs\u001b[0m\u001b[0;34m]\u001b[0m\u001b[0;34m,\u001b[0m \u001b[0mtrain_df_less\u001b[0m\u001b[0;34m[\u001b[0m\u001b[0;34m'multi_class_target'\u001b[0m\u001b[0;34m]\u001b[0m\u001b[0;34m,\u001b[0m \u001b[0meval_set\u001b[0m\u001b[0;34m=\u001b[0m\u001b[0;34m(\u001b[0m\u001b[0mtest_df\u001b[0m\u001b[0;34m[\u001b[0m\u001b[0matrs\u001b[0m\u001b[0;34m]\u001b[0m\u001b[0;34m,\u001b[0m \u001b[0mtest_df\u001b[0m\u001b[0;34m[\u001b[0m\u001b[0;34m'multi_class_target'\u001b[0m\u001b[0;34m]\u001b[0m\u001b[0;34m)\u001b[0m\u001b[0;34m,\u001b[0m \u001b[0mverbose\u001b[0m\u001b[0;34m=\u001b[0m\u001b[0;36m4\u001b[0m\u001b[0;34m,\u001b[0m \u001b[0muse_best_model\u001b[0m\u001b[0;34m=\u001b[0m\u001b[0;32mTrue\u001b[0m\u001b[0;34m,\u001b[0m \u001b[0mcat_features\u001b[0m\u001b[0;34m=\u001b[0m \u001b[0mcat_atrs\u001b[0m\u001b[0;34m,\u001b[0m \u001b[0mearly_stopping_rounds\u001b[0m\u001b[0;34m=\u001b[0m\u001b[0;36m120\u001b[0m\u001b[0;34m)\u001b[0m\u001b[0;34m\u001b[0m\u001b[0;34m\u001b[0m\u001b[0m\n\u001b[0m",
      "\u001b[0;32m~/.local/lib/python3.6/site-packages/catboost/core.py\u001b[0m in \u001b[0;36mfit\u001b[0;34m(self, X, y, cat_features, text_features, embedding_features, sample_weight, baseline, use_best_model, eval_set, verbose, logging_level, plot, column_description, verbose_eval, metric_period, silent, early_stopping_rounds, save_snapshot, snapshot_file, snapshot_interval, init_model)\u001b[0m\n\u001b[1;32m   4302\u001b[0m         self._fit(X, y, cat_features, text_features, embedding_features, None, sample_weight, None, None, None, None, baseline, use_best_model,\n\u001b[1;32m   4303\u001b[0m                   \u001b[0meval_set\u001b[0m\u001b[0;34m,\u001b[0m \u001b[0mverbose\u001b[0m\u001b[0;34m,\u001b[0m \u001b[0mlogging_level\u001b[0m\u001b[0;34m,\u001b[0m \u001b[0mplot\u001b[0m\u001b[0;34m,\u001b[0m \u001b[0mcolumn_description\u001b[0m\u001b[0;34m,\u001b[0m \u001b[0mverbose_eval\u001b[0m\u001b[0;34m,\u001b[0m \u001b[0mmetric_period\u001b[0m\u001b[0;34m,\u001b[0m\u001b[0;34m\u001b[0m\u001b[0;34m\u001b[0m\u001b[0m\n\u001b[0;32m-> 4304\u001b[0;31m                   silent, early_stopping_rounds, save_snapshot, snapshot_file, snapshot_interval, init_model)\n\u001b[0m\u001b[1;32m   4305\u001b[0m         \u001b[0;32mreturn\u001b[0m \u001b[0mself\u001b[0m\u001b[0;34m\u001b[0m\u001b[0;34m\u001b[0m\u001b[0m\n\u001b[1;32m   4306\u001b[0m \u001b[0;34m\u001b[0m\u001b[0m\n",
      "\u001b[0;32m~/.local/lib/python3.6/site-packages/catboost/core.py\u001b[0m in \u001b[0;36m_fit\u001b[0;34m(self, X, y, cat_features, text_features, embedding_features, pairs, sample_weight, group_id, group_weight, subgroup_id, pairs_weight, baseline, use_best_model, eval_set, verbose, logging_level, plot, column_description, verbose_eval, metric_period, silent, early_stopping_rounds, save_snapshot, snapshot_file, snapshot_interval, init_model)\u001b[0m\n\u001b[1;32m   1809\u001b[0m                 \u001b[0mparams\u001b[0m\u001b[0;34m,\u001b[0m\u001b[0;34m\u001b[0m\u001b[0;34m\u001b[0m\u001b[0m\n\u001b[1;32m   1810\u001b[0m                 \u001b[0mallow_clear_pool\u001b[0m\u001b[0;34m,\u001b[0m\u001b[0;34m\u001b[0m\u001b[0;34m\u001b[0m\u001b[0m\n\u001b[0;32m-> 1811\u001b[0;31m                 \u001b[0mtrain_params\u001b[0m\u001b[0;34m[\u001b[0m\u001b[0;34m\"init_model\"\u001b[0m\u001b[0;34m]\u001b[0m\u001b[0;34m\u001b[0m\u001b[0;34m\u001b[0m\u001b[0m\n\u001b[0m\u001b[1;32m   1812\u001b[0m             )\n\u001b[1;32m   1813\u001b[0m \u001b[0;34m\u001b[0m\u001b[0m\n",
      "\u001b[0;32m~/.local/lib/python3.6/site-packages/catboost/core.py\u001b[0m in \u001b[0;36m_train\u001b[0;34m(self, train_pool, test_pool, params, allow_clear_pool, init_model)\u001b[0m\n\u001b[1;32m   1256\u001b[0m \u001b[0;34m\u001b[0m\u001b[0m\n\u001b[1;32m   1257\u001b[0m     \u001b[0;32mdef\u001b[0m \u001b[0m_train\u001b[0m\u001b[0;34m(\u001b[0m\u001b[0mself\u001b[0m\u001b[0;34m,\u001b[0m \u001b[0mtrain_pool\u001b[0m\u001b[0;34m,\u001b[0m \u001b[0mtest_pool\u001b[0m\u001b[0;34m,\u001b[0m \u001b[0mparams\u001b[0m\u001b[0;34m,\u001b[0m \u001b[0mallow_clear_pool\u001b[0m\u001b[0;34m,\u001b[0m \u001b[0minit_model\u001b[0m\u001b[0;34m)\u001b[0m\u001b[0;34m:\u001b[0m\u001b[0;34m\u001b[0m\u001b[0;34m\u001b[0m\u001b[0m\n\u001b[0;32m-> 1258\u001b[0;31m         \u001b[0mself\u001b[0m\u001b[0;34m.\u001b[0m\u001b[0m_object\u001b[0m\u001b[0;34m.\u001b[0m\u001b[0m_train\u001b[0m\u001b[0;34m(\u001b[0m\u001b[0mtrain_pool\u001b[0m\u001b[0;34m,\u001b[0m \u001b[0mtest_pool\u001b[0m\u001b[0;34m,\u001b[0m \u001b[0mparams\u001b[0m\u001b[0;34m,\u001b[0m \u001b[0mallow_clear_pool\u001b[0m\u001b[0;34m,\u001b[0m \u001b[0minit_model\u001b[0m\u001b[0;34m.\u001b[0m\u001b[0m_object\u001b[0m \u001b[0;32mif\u001b[0m \u001b[0minit_model\u001b[0m \u001b[0;32melse\u001b[0m \u001b[0;32mNone\u001b[0m\u001b[0;34m)\u001b[0m\u001b[0;34m\u001b[0m\u001b[0;34m\u001b[0m\u001b[0m\n\u001b[0m\u001b[1;32m   1259\u001b[0m         \u001b[0mself\u001b[0m\u001b[0;34m.\u001b[0m\u001b[0m_set_trained_model_attributes\u001b[0m\u001b[0;34m(\u001b[0m\u001b[0;34m)\u001b[0m\u001b[0;34m\u001b[0m\u001b[0;34m\u001b[0m\u001b[0m\n\u001b[1;32m   1260\u001b[0m \u001b[0;34m\u001b[0m\u001b[0m\n",
      "\u001b[0;32m_catboost.pyx\u001b[0m in \u001b[0;36m_catboost._CatBoost._train\u001b[0;34m()\u001b[0m\n",
      "\u001b[0;32m_catboost.pyx\u001b[0m in \u001b[0;36m_catboost._CatBoost._train\u001b[0;34m()\u001b[0m\n",
      "\u001b[0;31mKeyboardInterrupt\u001b[0m: "
     ]
    }
   ],
   "source": [
    "cv_clsf.fit(train_df_less[atrs], train_df_less['multi_class_target'], eval_set=(test_df[atrs], test_df['multi_class_target']), verbose=4, use_best_model=True, cat_features= cat_atrs, early_stopping_rounds=120)"
   ]
  },
  {
   "cell_type": "code",
   "execution_count": 148,
   "metadata": {},
   "outputs": [],
   "source": [
    "def get_model_est_features_enc(model, metric, X, y, X_eval, y_eval):\n",
    "    k_fold = StratifiedKFold(5, shuffle=True, random_state=SEED)\n",
    "    metrics = []\n",
    "    models = []\n",
    "\n",
    "    for train_ind, test_ind in k_fold.split(X, y):\n",
    "        X_train, X_test = X.iloc[train_ind], X.iloc[test_ind]\n",
    "        y_train, y_test = y.iloc[train_ind], y.iloc[test_ind]\n",
    "        \n",
    "        model = LGBMClassifier(objective='multiclass', reg_alpha=12, max_depth=10, min_split_gain = 0.7, subsample=0.7, n_estimators=250, n_jobs=60, random_state=SEED)\n",
    "\n",
    "        model.fit(X_train, y_train, eval_set = (X_eval, y_eval), eval_metric=evalerror, early_stopping_rounds=100)\n",
    "        models.append(model)\n",
    "\n",
    "        metrics.append(metric(y_eval, model.predict(X_eval), average='macro'))\n",
    "        print(metrics[-1])\n",
    "\n",
    "    return models, metrics"
   ]
  },
  {
   "cell_type": "code",
   "execution_count": 149,
   "metadata": {
    "collapsed": true,
    "jupyter": {
     "outputs_hidden": true
    }
   },
   "outputs": [
    {
     "name": "stdout",
     "output_type": "stream",
     "text": [
      "[LightGBM] [Warning] Accuracy may be bad since you didn't explicitly set num_leaves OR 2^max_depth > num_leaves. (num_leaves=31).\n",
      "[1]\tvalid_0's multi_logloss: 1.84164\tvalid_0's f1_score: 0.201584\n",
      "Training until validation scores don't improve for 100 rounds\n",
      "[2]\tvalid_0's multi_logloss: 1.75707\tvalid_0's f1_score: 0.330918\n",
      "[3]\tvalid_0's multi_logloss: 1.6956\tvalid_0's f1_score: 0.371405\n",
      "[4]\tvalid_0's multi_logloss: 1.64853\tvalid_0's f1_score: 0.386328\n",
      "[5]\tvalid_0's multi_logloss: 1.61169\tvalid_0's f1_score: 0.392767\n",
      "[6]\tvalid_0's multi_logloss: 1.58134\tvalid_0's f1_score: 0.396712\n",
      "[7]\tvalid_0's multi_logloss: 1.55749\tvalid_0's f1_score: 0.399528\n",
      "[8]\tvalid_0's multi_logloss: 1.53789\tvalid_0's f1_score: 0.401999\n",
      "[9]\tvalid_0's multi_logloss: 1.52192\tvalid_0's f1_score: 0.403173\n",
      "[10]\tvalid_0's multi_logloss: 1.50875\tvalid_0's f1_score: 0.404285\n",
      "[11]\tvalid_0's multi_logloss: 1.49777\tvalid_0's f1_score: 0.404747\n",
      "[12]\tvalid_0's multi_logloss: 1.48893\tvalid_0's f1_score: 0.404721\n",
      "[13]\tvalid_0's multi_logloss: 1.48117\tvalid_0's f1_score: 0.404747\n",
      "[14]\tvalid_0's multi_logloss: 1.47446\tvalid_0's f1_score: 0.404898\n",
      "[15]\tvalid_0's multi_logloss: 1.46865\tvalid_0's f1_score: 0.404616\n",
      "[16]\tvalid_0's multi_logloss: 1.46357\tvalid_0's f1_score: 0.405014\n",
      "[17]\tvalid_0's multi_logloss: 1.45912\tvalid_0's f1_score: 0.404758\n",
      "[18]\tvalid_0's multi_logloss: 1.45546\tvalid_0's f1_score: 0.405691\n",
      "[19]\tvalid_0's multi_logloss: 1.45231\tvalid_0's f1_score: 0.405958\n",
      "[20]\tvalid_0's multi_logloss: 1.44964\tvalid_0's f1_score: 0.406226\n",
      "[21]\tvalid_0's multi_logloss: 1.44675\tvalid_0's f1_score: 0.406432\n",
      "[22]\tvalid_0's multi_logloss: 1.44435\tvalid_0's f1_score: 0.406497\n",
      "[23]\tvalid_0's multi_logloss: 1.44228\tvalid_0's f1_score: 0.407131\n",
      "[24]\tvalid_0's multi_logloss: 1.44064\tvalid_0's f1_score: 0.406854\n",
      "[25]\tvalid_0's multi_logloss: 1.43888\tvalid_0's f1_score: 0.40721\n",
      "[26]\tvalid_0's multi_logloss: 1.4374\tvalid_0's f1_score: 0.408046\n",
      "[27]\tvalid_0's multi_logloss: 1.43622\tvalid_0's f1_score: 0.408118\n",
      "[28]\tvalid_0's multi_logloss: 1.43484\tvalid_0's f1_score: 0.407763\n",
      "[29]\tvalid_0's multi_logloss: 1.43432\tvalid_0's f1_score: 0.40793\n",
      "[30]\tvalid_0's multi_logloss: 1.43325\tvalid_0's f1_score: 0.407745\n",
      "[31]\tvalid_0's multi_logloss: 1.43263\tvalid_0's f1_score: 0.408006\n",
      "[32]\tvalid_0's multi_logloss: 1.43177\tvalid_0's f1_score: 0.407989\n",
      "[33]\tvalid_0's multi_logloss: 1.43118\tvalid_0's f1_score: 0.408051\n",
      "[34]\tvalid_0's multi_logloss: 1.43066\tvalid_0's f1_score: 0.408007\n",
      "[35]\tvalid_0's multi_logloss: 1.43021\tvalid_0's f1_score: 0.408039\n",
      "[36]\tvalid_0's multi_logloss: 1.42961\tvalid_0's f1_score: 0.408223\n",
      "[37]\tvalid_0's multi_logloss: 1.42938\tvalid_0's f1_score: 0.407999\n",
      "[38]\tvalid_0's multi_logloss: 1.42912\tvalid_0's f1_score: 0.408092\n",
      "[39]\tvalid_0's multi_logloss: 1.42907\tvalid_0's f1_score: 0.408099\n",
      "[40]\tvalid_0's multi_logloss: 1.42872\tvalid_0's f1_score: 0.408281\n",
      "[41]\tvalid_0's multi_logloss: 1.42854\tvalid_0's f1_score: 0.408333\n",
      "[42]\tvalid_0's multi_logloss: 1.42806\tvalid_0's f1_score: 0.408805\n",
      "[43]\tvalid_0's multi_logloss: 1.42758\tvalid_0's f1_score: 0.408534\n",
      "[44]\tvalid_0's multi_logloss: 1.4273\tvalid_0's f1_score: 0.408091\n",
      "[45]\tvalid_0's multi_logloss: 1.42712\tvalid_0's f1_score: 0.408363\n",
      "[46]\tvalid_0's multi_logloss: 1.42705\tvalid_0's f1_score: 0.408427\n",
      "[47]\tvalid_0's multi_logloss: 1.42664\tvalid_0's f1_score: 0.408238\n",
      "[48]\tvalid_0's multi_logloss: 1.42653\tvalid_0's f1_score: 0.40799\n",
      "[49]\tvalid_0's multi_logloss: 1.42633\tvalid_0's f1_score: 0.408673\n",
      "[50]\tvalid_0's multi_logloss: 1.42608\tvalid_0's f1_score: 0.408764\n",
      "[51]\tvalid_0's multi_logloss: 1.42587\tvalid_0's f1_score: 0.408413\n",
      "[52]\tvalid_0's multi_logloss: 1.42575\tvalid_0's f1_score: 0.408831\n",
      "[53]\tvalid_0's multi_logloss: 1.42564\tvalid_0's f1_score: 0.408756\n",
      "[54]\tvalid_0's multi_logloss: 1.42547\tvalid_0's f1_score: 0.409152\n",
      "[55]\tvalid_0's multi_logloss: 1.42524\tvalid_0's f1_score: 0.409053\n",
      "[56]\tvalid_0's multi_logloss: 1.42509\tvalid_0's f1_score: 0.40915\n",
      "[57]\tvalid_0's multi_logloss: 1.42497\tvalid_0's f1_score: 0.408842\n",
      "[58]\tvalid_0's multi_logloss: 1.42474\tvalid_0's f1_score: 0.408875\n",
      "[59]\tvalid_0's multi_logloss: 1.4247\tvalid_0's f1_score: 0.409165\n",
      "[60]\tvalid_0's multi_logloss: 1.42474\tvalid_0's f1_score: 0.40926\n",
      "[61]\tvalid_0's multi_logloss: 1.4245\tvalid_0's f1_score: 0.409395\n",
      "[62]\tvalid_0's multi_logloss: 1.4245\tvalid_0's f1_score: 0.409731\n",
      "[63]\tvalid_0's multi_logloss: 1.42434\tvalid_0's f1_score: 0.40959\n",
      "[64]\tvalid_0's multi_logloss: 1.42443\tvalid_0's f1_score: 0.409391\n",
      "[65]\tvalid_0's multi_logloss: 1.42424\tvalid_0's f1_score: 0.409379\n",
      "[66]\tvalid_0's multi_logloss: 1.42383\tvalid_0's f1_score: 0.409197\n",
      "[67]\tvalid_0's multi_logloss: 1.42362\tvalid_0's f1_score: 0.409338\n",
      "[68]\tvalid_0's multi_logloss: 1.42345\tvalid_0's f1_score: 0.409077\n",
      "[69]\tvalid_0's multi_logloss: 1.42354\tvalid_0's f1_score: 0.408909\n",
      "[70]\tvalid_0's multi_logloss: 1.42349\tvalid_0's f1_score: 0.408913\n",
      "[71]\tvalid_0's multi_logloss: 1.4233\tvalid_0's f1_score: 0.408808\n",
      "[72]\tvalid_0's multi_logloss: 1.42328\tvalid_0's f1_score: 0.408805\n",
      "[73]\tvalid_0's multi_logloss: 1.42336\tvalid_0's f1_score: 0.409045\n",
      "[74]\tvalid_0's multi_logloss: 1.42316\tvalid_0's f1_score: 0.409083\n",
      "[75]\tvalid_0's multi_logloss: 1.4229\tvalid_0's f1_score: 0.40903\n",
      "[76]\tvalid_0's multi_logloss: 1.42305\tvalid_0's f1_score: 0.408914\n",
      "[77]\tvalid_0's multi_logloss: 1.42273\tvalid_0's f1_score: 0.408626\n",
      "[78]\tvalid_0's multi_logloss: 1.42275\tvalid_0's f1_score: 0.408992\n",
      "[79]\tvalid_0's multi_logloss: 1.42279\tvalid_0's f1_score: 0.408518\n",
      "[80]\tvalid_0's multi_logloss: 1.42252\tvalid_0's f1_score: 0.409057\n",
      "[81]\tvalid_0's multi_logloss: 1.42232\tvalid_0's f1_score: 0.409183\n",
      "[82]\tvalid_0's multi_logloss: 1.42206\tvalid_0's f1_score: 0.409068\n",
      "[83]\tvalid_0's multi_logloss: 1.42203\tvalid_0's f1_score: 0.408666\n",
      "[84]\tvalid_0's multi_logloss: 1.42178\tvalid_0's f1_score: 0.408776\n",
      "[85]\tvalid_0's multi_logloss: 1.42192\tvalid_0's f1_score: 0.408799\n",
      "[86]\tvalid_0's multi_logloss: 1.42197\tvalid_0's f1_score: 0.408916\n",
      "[87]\tvalid_0's multi_logloss: 1.42198\tvalid_0's f1_score: 0.408689\n",
      "[88]\tvalid_0's multi_logloss: 1.42192\tvalid_0's f1_score: 0.408767\n",
      "[89]\tvalid_0's multi_logloss: 1.42166\tvalid_0's f1_score: 0.408465\n",
      "[90]\tvalid_0's multi_logloss: 1.42168\tvalid_0's f1_score: 0.408234\n",
      "[91]\tvalid_0's multi_logloss: 1.42157\tvalid_0's f1_score: 0.408364\n",
      "[92]\tvalid_0's multi_logloss: 1.4214\tvalid_0's f1_score: 0.408124\n",
      "[93]\tvalid_0's multi_logloss: 1.42125\tvalid_0's f1_score: 0.408531\n",
      "[94]\tvalid_0's multi_logloss: 1.42126\tvalid_0's f1_score: 0.408238\n",
      "[95]\tvalid_0's multi_logloss: 1.42114\tvalid_0's f1_score: 0.408404\n",
      "[96]\tvalid_0's multi_logloss: 1.42108\tvalid_0's f1_score: 0.408631\n",
      "[97]\tvalid_0's multi_logloss: 1.42111\tvalid_0's f1_score: 0.408796\n",
      "[98]\tvalid_0's multi_logloss: 1.421\tvalid_0's f1_score: 0.408816\n",
      "[99]\tvalid_0's multi_logloss: 1.42083\tvalid_0's f1_score: 0.408773\n",
      "[100]\tvalid_0's multi_logloss: 1.42071\tvalid_0's f1_score: 0.408472\n",
      "[101]\tvalid_0's multi_logloss: 1.42065\tvalid_0's f1_score: 0.408711\n",
      "[102]\tvalid_0's multi_logloss: 1.42055\tvalid_0's f1_score: 0.408975\n",
      "[103]\tvalid_0's multi_logloss: 1.42058\tvalid_0's f1_score: 0.40872\n",
      "[104]\tvalid_0's multi_logloss: 1.42067\tvalid_0's f1_score: 0.408186\n",
      "[105]\tvalid_0's multi_logloss: 1.42052\tvalid_0's f1_score: 0.408546\n",
      "[106]\tvalid_0's multi_logloss: 1.42081\tvalid_0's f1_score: 0.408474\n",
      "[107]\tvalid_0's multi_logloss: 1.42092\tvalid_0's f1_score: 0.408609\n",
      "[108]\tvalid_0's multi_logloss: 1.42105\tvalid_0's f1_score: 0.408717\n",
      "[109]\tvalid_0's multi_logloss: 1.4211\tvalid_0's f1_score: 0.408592\n",
      "[110]\tvalid_0's multi_logloss: 1.42112\tvalid_0's f1_score: 0.40852\n",
      "[111]\tvalid_0's multi_logloss: 1.42096\tvalid_0's f1_score: 0.408277\n",
      "[112]\tvalid_0's multi_logloss: 1.42098\tvalid_0's f1_score: 0.408169\n",
      "[113]\tvalid_0's multi_logloss: 1.42076\tvalid_0's f1_score: 0.408166\n",
      "[114]\tvalid_0's multi_logloss: 1.4207\tvalid_0's f1_score: 0.408447\n",
      "[115]\tvalid_0's multi_logloss: 1.4207\tvalid_0's f1_score: 0.408462\n",
      "[116]\tvalid_0's multi_logloss: 1.42072\tvalid_0's f1_score: 0.408637\n",
      "[117]\tvalid_0's multi_logloss: 1.42076\tvalid_0's f1_score: 0.408609\n",
      "[118]\tvalid_0's multi_logloss: 1.42063\tvalid_0's f1_score: 0.409124\n",
      "[119]\tvalid_0's multi_logloss: 1.42057\tvalid_0's f1_score: 0.409035\n",
      "[120]\tvalid_0's multi_logloss: 1.42045\tvalid_0's f1_score: 0.408994\n",
      "[121]\tvalid_0's multi_logloss: 1.42054\tvalid_0's f1_score: 0.408969\n",
      "[122]\tvalid_0's multi_logloss: 1.42057\tvalid_0's f1_score: 0.408979\n",
      "[123]\tvalid_0's multi_logloss: 1.42058\tvalid_0's f1_score: 0.409025\n",
      "[124]\tvalid_0's multi_logloss: 1.42062\tvalid_0's f1_score: 0.409019\n",
      "[125]\tvalid_0's multi_logloss: 1.42053\tvalid_0's f1_score: 0.409114\n",
      "[126]\tvalid_0's multi_logloss: 1.4203\tvalid_0's f1_score: 0.408964\n",
      "[127]\tvalid_0's multi_logloss: 1.42038\tvalid_0's f1_score: 0.409139\n",
      "[128]\tvalid_0's multi_logloss: 1.4204\tvalid_0's f1_score: 0.409223\n",
      "[129]\tvalid_0's multi_logloss: 1.42054\tvalid_0's f1_score: 0.409469\n",
      "[130]\tvalid_0's multi_logloss: 1.42055\tvalid_0's f1_score: 0.409171\n",
      "[131]\tvalid_0's multi_logloss: 1.42054\tvalid_0's f1_score: 0.409538\n",
      "[132]\tvalid_0's multi_logloss: 1.4204\tvalid_0's f1_score: 0.409499\n",
      "[133]\tvalid_0's multi_logloss: 1.42039\tvalid_0's f1_score: 0.409384\n",
      "[134]\tvalid_0's multi_logloss: 1.42034\tvalid_0's f1_score: 0.409276\n",
      "[135]\tvalid_0's multi_logloss: 1.42028\tvalid_0's f1_score: 0.409282\n",
      "[136]\tvalid_0's multi_logloss: 1.42023\tvalid_0's f1_score: 0.40937\n",
      "[137]\tvalid_0's multi_logloss: 1.42013\tvalid_0's f1_score: 0.409568\n",
      "[138]\tvalid_0's multi_logloss: 1.42013\tvalid_0's f1_score: 0.409624\n",
      "[139]\tvalid_0's multi_logloss: 1.41991\tvalid_0's f1_score: 0.40957\n",
      "[140]\tvalid_0's multi_logloss: 1.41989\tvalid_0's f1_score: 0.40959\n",
      "[141]\tvalid_0's multi_logloss: 1.42008\tvalid_0's f1_score: 0.409208\n",
      "[142]\tvalid_0's multi_logloss: 1.42019\tvalid_0's f1_score: 0.409656\n",
      "[143]\tvalid_0's multi_logloss: 1.42025\tvalid_0's f1_score: 0.40943\n",
      "[144]\tvalid_0's multi_logloss: 1.42024\tvalid_0's f1_score: 0.409478\n",
      "[145]\tvalid_0's multi_logloss: 1.42024\tvalid_0's f1_score: 0.409793\n",
      "[146]\tvalid_0's multi_logloss: 1.4202\tvalid_0's f1_score: 0.40995\n",
      "[147]\tvalid_0's multi_logloss: 1.42028\tvalid_0's f1_score: 0.410065\n",
      "[148]\tvalid_0's multi_logloss: 1.42026\tvalid_0's f1_score: 0.410015\n",
      "[149]\tvalid_0's multi_logloss: 1.42037\tvalid_0's f1_score: 0.409995\n",
      "[150]\tvalid_0's multi_logloss: 1.42022\tvalid_0's f1_score: 0.409936\n",
      "[151]\tvalid_0's multi_logloss: 1.42018\tvalid_0's f1_score: 0.409817\n",
      "[152]\tvalid_0's multi_logloss: 1.42013\tvalid_0's f1_score: 0.409703\n",
      "[153]\tvalid_0's multi_logloss: 1.41999\tvalid_0's f1_score: 0.409645\n",
      "[154]\tvalid_0's multi_logloss: 1.42004\tvalid_0's f1_score: 0.409876\n",
      "[155]\tvalid_0's multi_logloss: 1.42014\tvalid_0's f1_score: 0.410009\n",
      "[156]\tvalid_0's multi_logloss: 1.42013\tvalid_0's f1_score: 0.409949\n",
      "[157]\tvalid_0's multi_logloss: 1.41989\tvalid_0's f1_score: 0.409834\n",
      "[158]\tvalid_0's multi_logloss: 1.41996\tvalid_0's f1_score: 0.410034\n",
      "[159]\tvalid_0's multi_logloss: 1.41995\tvalid_0's f1_score: 0.410115\n",
      "[160]\tvalid_0's multi_logloss: 1.42\tvalid_0's f1_score: 0.410139\n",
      "[161]\tvalid_0's multi_logloss: 1.41991\tvalid_0's f1_score: 0.410002\n",
      "[162]\tvalid_0's multi_logloss: 1.41994\tvalid_0's f1_score: 0.409948\n",
      "[163]\tvalid_0's multi_logloss: 1.41988\tvalid_0's f1_score: 0.409826\n",
      "[164]\tvalid_0's multi_logloss: 1.41981\tvalid_0's f1_score: 0.40972\n",
      "[165]\tvalid_0's multi_logloss: 1.41989\tvalid_0's f1_score: 0.409643\n",
      "[166]\tvalid_0's multi_logloss: 1.41982\tvalid_0's f1_score: 0.409965\n",
      "[167]\tvalid_0's multi_logloss: 1.41975\tvalid_0's f1_score: 0.409966\n",
      "[168]\tvalid_0's multi_logloss: 1.41982\tvalid_0's f1_score: 0.409953\n",
      "[169]\tvalid_0's multi_logloss: 1.41982\tvalid_0's f1_score: 0.409993\n",
      "[170]\tvalid_0's multi_logloss: 1.41981\tvalid_0's f1_score: 0.409808\n",
      "[171]\tvalid_0's multi_logloss: 1.41975\tvalid_0's f1_score: 0.409902\n",
      "[172]\tvalid_0's multi_logloss: 1.41969\tvalid_0's f1_score: 0.410131\n",
      "[173]\tvalid_0's multi_logloss: 1.41972\tvalid_0's f1_score: 0.410088\n",
      "[174]\tvalid_0's multi_logloss: 1.41979\tvalid_0's f1_score: 0.409878\n",
      "[175]\tvalid_0's multi_logloss: 1.41975\tvalid_0's f1_score: 0.40992\n",
      "[176]\tvalid_0's multi_logloss: 1.41973\tvalid_0's f1_score: 0.410055\n",
      "[177]\tvalid_0's multi_logloss: 1.41979\tvalid_0's f1_score: 0.41007\n",
      "[178]\tvalid_0's multi_logloss: 1.41988\tvalid_0's f1_score: 0.410219\n",
      "[179]\tvalid_0's multi_logloss: 1.41989\tvalid_0's f1_score: 0.410264\n",
      "[180]\tvalid_0's multi_logloss: 1.4199\tvalid_0's f1_score: 0.410097\n",
      "[181]\tvalid_0's multi_logloss: 1.42002\tvalid_0's f1_score: 0.410208\n",
      "[182]\tvalid_0's multi_logloss: 1.42005\tvalid_0's f1_score: 0.410093\n",
      "[183]\tvalid_0's multi_logloss: 1.42008\tvalid_0's f1_score: 0.409798\n",
      "[184]\tvalid_0's multi_logloss: 1.42001\tvalid_0's f1_score: 0.409647\n",
      "[185]\tvalid_0's multi_logloss: 1.4201\tvalid_0's f1_score: 0.409494\n",
      "[186]\tvalid_0's multi_logloss: 1.42019\tvalid_0's f1_score: 0.409809\n",
      "[187]\tvalid_0's multi_logloss: 1.42024\tvalid_0's f1_score: 0.409945\n",
      "[188]\tvalid_0's multi_logloss: 1.4202\tvalid_0's f1_score: 0.409699\n",
      "[189]\tvalid_0's multi_logloss: 1.42031\tvalid_0's f1_score: 0.409661\n",
      "[190]\tvalid_0's multi_logloss: 1.42033\tvalid_0's f1_score: 0.410041\n",
      "[191]\tvalid_0's multi_logloss: 1.42031\tvalid_0's f1_score: 0.409983\n",
      "[192]\tvalid_0's multi_logloss: 1.42024\tvalid_0's f1_score: 0.409787\n",
      "[193]\tvalid_0's multi_logloss: 1.42029\tvalid_0's f1_score: 0.40983\n",
      "[194]\tvalid_0's multi_logloss: 1.42028\tvalid_0's f1_score: 0.409725\n",
      "[195]\tvalid_0's multi_logloss: 1.4203\tvalid_0's f1_score: 0.409892\n",
      "[196]\tvalid_0's multi_logloss: 1.42027\tvalid_0's f1_score: 0.40993\n",
      "[197]\tvalid_0's multi_logloss: 1.4201\tvalid_0's f1_score: 0.410002\n",
      "[198]\tvalid_0's multi_logloss: 1.42001\tvalid_0's f1_score: 0.409691\n",
      "[199]\tvalid_0's multi_logloss: 1.42002\tvalid_0's f1_score: 0.409529\n",
      "[200]\tvalid_0's multi_logloss: 1.42\tvalid_0's f1_score: 0.40937\n",
      "[201]\tvalid_0's multi_logloss: 1.41995\tvalid_0's f1_score: 0.409593\n",
      "[202]\tvalid_0's multi_logloss: 1.41991\tvalid_0's f1_score: 0.409578\n",
      "[203]\tvalid_0's multi_logloss: 1.42\tvalid_0's f1_score: 0.40962\n",
      "[204]\tvalid_0's multi_logloss: 1.41998\tvalid_0's f1_score: 0.409539\n",
      "[205]\tvalid_0's multi_logloss: 1.41994\tvalid_0's f1_score: 0.409593\n",
      "[206]\tvalid_0's multi_logloss: 1.41991\tvalid_0's f1_score: 0.409625\n",
      "[207]\tvalid_0's multi_logloss: 1.41989\tvalid_0's f1_score: 0.409527\n",
      "[208]\tvalid_0's multi_logloss: 1.41992\tvalid_0's f1_score: 0.409701\n",
      "[209]\tvalid_0's multi_logloss: 1.41986\tvalid_0's f1_score: 0.409569\n",
      "[210]\tvalid_0's multi_logloss: 1.41993\tvalid_0's f1_score: 0.409267\n",
      "[211]\tvalid_0's multi_logloss: 1.41997\tvalid_0's f1_score: 0.409381\n",
      "[212]\tvalid_0's multi_logloss: 1.41999\tvalid_0's f1_score: 0.409412\n",
      "[213]\tvalid_0's multi_logloss: 1.41999\tvalid_0's f1_score: 0.409423\n",
      "[214]\tvalid_0's multi_logloss: 1.41988\tvalid_0's f1_score: 0.40943\n",
      "[215]\tvalid_0's multi_logloss: 1.41993\tvalid_0's f1_score: 0.409527\n",
      "[216]\tvalid_0's multi_logloss: 1.41996\tvalid_0's f1_score: 0.409457\n",
      "[217]\tvalid_0's multi_logloss: 1.42013\tvalid_0's f1_score: 0.409264\n",
      "[218]\tvalid_0's multi_logloss: 1.42022\tvalid_0's f1_score: 0.409267\n",
      "[219]\tvalid_0's multi_logloss: 1.42025\tvalid_0's f1_score: 0.409243\n",
      "[220]\tvalid_0's multi_logloss: 1.42026\tvalid_0's f1_score: 0.409453\n",
      "[221]\tvalid_0's multi_logloss: 1.42027\tvalid_0's f1_score: 0.409182\n",
      "[222]\tvalid_0's multi_logloss: 1.42033\tvalid_0's f1_score: 0.409145\n",
      "[223]\tvalid_0's multi_logloss: 1.42035\tvalid_0's f1_score: 0.409212\n",
      "[224]\tvalid_0's multi_logloss: 1.42032\tvalid_0's f1_score: 0.409161\n",
      "[225]\tvalid_0's multi_logloss: 1.42038\tvalid_0's f1_score: 0.409242\n",
      "[226]\tvalid_0's multi_logloss: 1.4203\tvalid_0's f1_score: 0.40933\n",
      "[227]\tvalid_0's multi_logloss: 1.42025\tvalid_0's f1_score: 0.409349\n",
      "[228]\tvalid_0's multi_logloss: 1.42025\tvalid_0's f1_score: 0.409248\n",
      "[229]\tvalid_0's multi_logloss: 1.42035\tvalid_0's f1_score: 0.409446\n",
      "[230]\tvalid_0's multi_logloss: 1.42039\tvalid_0's f1_score: 0.409452\n",
      "[231]\tvalid_0's multi_logloss: 1.42039\tvalid_0's f1_score: 0.409239\n",
      "[232]\tvalid_0's multi_logloss: 1.42044\tvalid_0's f1_score: 0.408768\n",
      "[233]\tvalid_0's multi_logloss: 1.42048\tvalid_0's f1_score: 0.408761\n",
      "[234]\tvalid_0's multi_logloss: 1.42042\tvalid_0's f1_score: 0.408973\n",
      "[235]\tvalid_0's multi_logloss: 1.42036\tvalid_0's f1_score: 0.409086\n",
      "[236]\tvalid_0's multi_logloss: 1.42041\tvalid_0's f1_score: 0.409113\n",
      "[237]\tvalid_0's multi_logloss: 1.4205\tvalid_0's f1_score: 0.409148\n",
      "[238]\tvalid_0's multi_logloss: 1.42045\tvalid_0's f1_score: 0.409184\n",
      "[239]\tvalid_0's multi_logloss: 1.42039\tvalid_0's f1_score: 0.409038\n",
      "[240]\tvalid_0's multi_logloss: 1.4204\tvalid_0's f1_score: 0.408948\n",
      "[241]\tvalid_0's multi_logloss: 1.42043\tvalid_0's f1_score: 0.408872\n",
      "[242]\tvalid_0's multi_logloss: 1.42049\tvalid_0's f1_score: 0.408825\n",
      "[243]\tvalid_0's multi_logloss: 1.42061\tvalid_0's f1_score: 0.408675\n",
      "[244]\tvalid_0's multi_logloss: 1.42073\tvalid_0's f1_score: 0.408499\n",
      "[245]\tvalid_0's multi_logloss: 1.42074\tvalid_0's f1_score: 0.408734\n",
      "[246]\tvalid_0's multi_logloss: 1.4207\tvalid_0's f1_score: 0.408731\n",
      "[247]\tvalid_0's multi_logloss: 1.4207\tvalid_0's f1_score: 0.408785\n",
      "[248]\tvalid_0's multi_logloss: 1.42067\tvalid_0's f1_score: 0.408756\n",
      "[249]\tvalid_0's multi_logloss: 1.42064\tvalid_0's f1_score: 0.408783\n",
      "[250]\tvalid_0's multi_logloss: 1.42067\tvalid_0's f1_score: 0.40856\n",
      "Did not meet early stopping. Best iteration is:\n",
      "[172]\tvalid_0's multi_logloss: 1.41969\tvalid_0's f1_score: 0.410131\n",
      "0.4101314761770373\n",
      "[LightGBM] [Warning] Accuracy may be bad since you didn't explicitly set num_leaves OR 2^max_depth > num_leaves. (num_leaves=31).\n",
      "[1]\tvalid_0's multi_logloss: 1.84097\tvalid_0's f1_score: 0.200083\n",
      "Training until validation scores don't improve for 100 rounds\n",
      "[2]\tvalid_0's multi_logloss: 1.75588\tvalid_0's f1_score: 0.33093\n",
      "[3]\tvalid_0's multi_logloss: 1.69462\tvalid_0's f1_score: 0.371874\n",
      "[4]\tvalid_0's multi_logloss: 1.64776\tvalid_0's f1_score: 0.387079\n",
      "[5]\tvalid_0's multi_logloss: 1.61095\tvalid_0's f1_score: 0.392635\n",
      "[6]\tvalid_0's multi_logloss: 1.58111\tvalid_0's f1_score: 0.397085\n",
      "[7]\tvalid_0's multi_logloss: 1.55731\tvalid_0's f1_score: 0.399896\n",
      "[8]\tvalid_0's multi_logloss: 1.53795\tvalid_0's f1_score: 0.401933\n",
      "[9]\tvalid_0's multi_logloss: 1.52235\tvalid_0's f1_score: 0.403414\n",
      "[10]\tvalid_0's multi_logloss: 1.50888\tvalid_0's f1_score: 0.403888\n",
      "[11]\tvalid_0's multi_logloss: 1.49799\tvalid_0's f1_score: 0.40472\n",
      "[12]\tvalid_0's multi_logloss: 1.48893\tvalid_0's f1_score: 0.404786\n",
      "[13]\tvalid_0's multi_logloss: 1.48138\tvalid_0's f1_score: 0.404619\n",
      "[14]\tvalid_0's multi_logloss: 1.47469\tvalid_0's f1_score: 0.405027\n",
      "[15]\tvalid_0's multi_logloss: 1.46905\tvalid_0's f1_score: 0.404967\n",
      "[16]\tvalid_0's multi_logloss: 1.46399\tvalid_0's f1_score: 0.405847\n",
      "[17]\tvalid_0's multi_logloss: 1.45955\tvalid_0's f1_score: 0.405465\n",
      "[18]\tvalid_0's multi_logloss: 1.45585\tvalid_0's f1_score: 0.405715\n",
      "[19]\tvalid_0's multi_logloss: 1.45238\tvalid_0's f1_score: 0.405712\n",
      "[20]\tvalid_0's multi_logloss: 1.44976\tvalid_0's f1_score: 0.405952\n",
      "[21]\tvalid_0's multi_logloss: 1.4471\tvalid_0's f1_score: 0.406404\n",
      "[22]\tvalid_0's multi_logloss: 1.44493\tvalid_0's f1_score: 0.406449\n",
      "[23]\tvalid_0's multi_logloss: 1.4429\tvalid_0's f1_score: 0.406803\n",
      "[24]\tvalid_0's multi_logloss: 1.44127\tvalid_0's f1_score: 0.40685\n",
      "[25]\tvalid_0's multi_logloss: 1.44027\tvalid_0's f1_score: 0.407045\n",
      "[26]\tvalid_0's multi_logloss: 1.43886\tvalid_0's f1_score: 0.40686\n",
      "[27]\tvalid_0's multi_logloss: 1.43761\tvalid_0's f1_score: 0.40677\n",
      "[28]\tvalid_0's multi_logloss: 1.43673\tvalid_0's f1_score: 0.40673\n",
      "[29]\tvalid_0's multi_logloss: 1.43584\tvalid_0's f1_score: 0.406508\n",
      "[30]\tvalid_0's multi_logloss: 1.43483\tvalid_0's f1_score: 0.406561\n",
      "[31]\tvalid_0's multi_logloss: 1.43396\tvalid_0's f1_score: 0.406089\n",
      "[32]\tvalid_0's multi_logloss: 1.43373\tvalid_0's f1_score: 0.406245\n",
      "[33]\tvalid_0's multi_logloss: 1.43314\tvalid_0's f1_score: 0.406503\n",
      "[34]\tvalid_0's multi_logloss: 1.43256\tvalid_0's f1_score: 0.405948\n",
      "[35]\tvalid_0's multi_logloss: 1.43195\tvalid_0's f1_score: 0.406419\n",
      "[36]\tvalid_0's multi_logloss: 1.43119\tvalid_0's f1_score: 0.406348\n",
      "[37]\tvalid_0's multi_logloss: 1.4309\tvalid_0's f1_score: 0.406581\n",
      "[38]\tvalid_0's multi_logloss: 1.4303\tvalid_0's f1_score: 0.406619\n",
      "[39]\tvalid_0's multi_logloss: 1.42989\tvalid_0's f1_score: 0.407302\n",
      "[40]\tvalid_0's multi_logloss: 1.42996\tvalid_0's f1_score: 0.406729\n",
      "[41]\tvalid_0's multi_logloss: 1.42915\tvalid_0's f1_score: 0.4068\n",
      "[42]\tvalid_0's multi_logloss: 1.42896\tvalid_0's f1_score: 0.406974\n",
      "[43]\tvalid_0's multi_logloss: 1.42834\tvalid_0's f1_score: 0.407198\n",
      "[44]\tvalid_0's multi_logloss: 1.42821\tvalid_0's f1_score: 0.406809\n",
      "[45]\tvalid_0's multi_logloss: 1.42811\tvalid_0's f1_score: 0.406936\n",
      "[46]\tvalid_0's multi_logloss: 1.42761\tvalid_0's f1_score: 0.406851\n",
      "[47]\tvalid_0's multi_logloss: 1.42713\tvalid_0's f1_score: 0.407232\n",
      "[48]\tvalid_0's multi_logloss: 1.42708\tvalid_0's f1_score: 0.407321\n",
      "[49]\tvalid_0's multi_logloss: 1.4271\tvalid_0's f1_score: 0.407252\n",
      "[50]\tvalid_0's multi_logloss: 1.42697\tvalid_0's f1_score: 0.407197\n",
      "[51]\tvalid_0's multi_logloss: 1.42674\tvalid_0's f1_score: 0.407148\n",
      "[52]\tvalid_0's multi_logloss: 1.42637\tvalid_0's f1_score: 0.407307\n",
      "[53]\tvalid_0's multi_logloss: 1.42605\tvalid_0's f1_score: 0.406449\n",
      "[54]\tvalid_0's multi_logloss: 1.42578\tvalid_0's f1_score: 0.406758\n",
      "[55]\tvalid_0's multi_logloss: 1.42556\tvalid_0's f1_score: 0.407\n",
      "[56]\tvalid_0's multi_logloss: 1.42568\tvalid_0's f1_score: 0.406701\n",
      "[57]\tvalid_0's multi_logloss: 1.42585\tvalid_0's f1_score: 0.406957\n",
      "[58]\tvalid_0's multi_logloss: 1.42531\tvalid_0's f1_score: 0.407039\n",
      "[59]\tvalid_0's multi_logloss: 1.42513\tvalid_0's f1_score: 0.406573\n",
      "[60]\tvalid_0's multi_logloss: 1.42505\tvalid_0's f1_score: 0.406438\n",
      "[61]\tvalid_0's multi_logloss: 1.425\tvalid_0's f1_score: 0.406686\n",
      "[62]\tvalid_0's multi_logloss: 1.42461\tvalid_0's f1_score: 0.406703\n",
      "[63]\tvalid_0's multi_logloss: 1.42471\tvalid_0's f1_score: 0.406945\n",
      "[64]\tvalid_0's multi_logloss: 1.42466\tvalid_0's f1_score: 0.406821\n",
      "[65]\tvalid_0's multi_logloss: 1.4246\tvalid_0's f1_score: 0.407255\n",
      "[66]\tvalid_0's multi_logloss: 1.4246\tvalid_0's f1_score: 0.407216\n",
      "[67]\tvalid_0's multi_logloss: 1.42446\tvalid_0's f1_score: 0.407144\n",
      "[68]\tvalid_0's multi_logloss: 1.42423\tvalid_0's f1_score: 0.407076\n",
      "[69]\tvalid_0's multi_logloss: 1.42414\tvalid_0's f1_score: 0.407145\n",
      "[70]\tvalid_0's multi_logloss: 1.42417\tvalid_0's f1_score: 0.407359\n",
      "[71]\tvalid_0's multi_logloss: 1.42406\tvalid_0's f1_score: 0.407547\n",
      "[72]\tvalid_0's multi_logloss: 1.42403\tvalid_0's f1_score: 0.407773\n",
      "[73]\tvalid_0's multi_logloss: 1.42374\tvalid_0's f1_score: 0.407946\n",
      "[74]\tvalid_0's multi_logloss: 1.42381\tvalid_0's f1_score: 0.407821\n",
      "[75]\tvalid_0's multi_logloss: 1.42377\tvalid_0's f1_score: 0.407544\n",
      "[76]\tvalid_0's multi_logloss: 1.42353\tvalid_0's f1_score: 0.407918\n",
      "[77]\tvalid_0's multi_logloss: 1.42354\tvalid_0's f1_score: 0.407972\n",
      "[78]\tvalid_0's multi_logloss: 1.42365\tvalid_0's f1_score: 0.408022\n",
      "[79]\tvalid_0's multi_logloss: 1.4237\tvalid_0's f1_score: 0.408126\n",
      "[80]\tvalid_0's multi_logloss: 1.42371\tvalid_0's f1_score: 0.407955\n",
      "[81]\tvalid_0's multi_logloss: 1.42375\tvalid_0's f1_score: 0.40777\n",
      "[82]\tvalid_0's multi_logloss: 1.42359\tvalid_0's f1_score: 0.40773\n",
      "[83]\tvalid_0's multi_logloss: 1.42354\tvalid_0's f1_score: 0.407555\n",
      "[84]\tvalid_0's multi_logloss: 1.42346\tvalid_0's f1_score: 0.407161\n",
      "[85]\tvalid_0's multi_logloss: 1.42344\tvalid_0's f1_score: 0.407453\n",
      "[86]\tvalid_0's multi_logloss: 1.42337\tvalid_0's f1_score: 0.407555\n",
      "[87]\tvalid_0's multi_logloss: 1.42335\tvalid_0's f1_score: 0.407782\n",
      "[88]\tvalid_0's multi_logloss: 1.42334\tvalid_0's f1_score: 0.407714\n",
      "[89]\tvalid_0's multi_logloss: 1.42338\tvalid_0's f1_score: 0.407532\n",
      "[90]\tvalid_0's multi_logloss: 1.42344\tvalid_0's f1_score: 0.407214\n",
      "[91]\tvalid_0's multi_logloss: 1.42336\tvalid_0's f1_score: 0.407234\n",
      "[92]\tvalid_0's multi_logloss: 1.42324\tvalid_0's f1_score: 0.407619\n",
      "[93]\tvalid_0's multi_logloss: 1.4233\tvalid_0's f1_score: 0.407794\n",
      "[94]\tvalid_0's multi_logloss: 1.42327\tvalid_0's f1_score: 0.408006\n",
      "[95]\tvalid_0's multi_logloss: 1.42336\tvalid_0's f1_score: 0.407469\n",
      "[96]\tvalid_0's multi_logloss: 1.42334\tvalid_0's f1_score: 0.407536\n",
      "[97]\tvalid_0's multi_logloss: 1.42323\tvalid_0's f1_score: 0.407208\n",
      "[98]\tvalid_0's multi_logloss: 1.4231\tvalid_0's f1_score: 0.407192\n",
      "[99]\tvalid_0's multi_logloss: 1.42291\tvalid_0's f1_score: 0.407379\n",
      "[100]\tvalid_0's multi_logloss: 1.42301\tvalid_0's f1_score: 0.407305\n",
      "[101]\tvalid_0's multi_logloss: 1.42299\tvalid_0's f1_score: 0.407166\n",
      "[102]\tvalid_0's multi_logloss: 1.42296\tvalid_0's f1_score: 0.407204\n",
      "[103]\tvalid_0's multi_logloss: 1.42284\tvalid_0's f1_score: 0.407248\n",
      "[104]\tvalid_0's multi_logloss: 1.42272\tvalid_0's f1_score: 0.407151\n",
      "[105]\tvalid_0's multi_logloss: 1.4229\tvalid_0's f1_score: 0.406929\n",
      "[106]\tvalid_0's multi_logloss: 1.42291\tvalid_0's f1_score: 0.406914\n",
      "[107]\tvalid_0's multi_logloss: 1.42297\tvalid_0's f1_score: 0.407265\n",
      "[108]\tvalid_0's multi_logloss: 1.42285\tvalid_0's f1_score: 0.407286\n",
      "[109]\tvalid_0's multi_logloss: 1.42276\tvalid_0's f1_score: 0.406948\n",
      "[110]\tvalid_0's multi_logloss: 1.42284\tvalid_0's f1_score: 0.407097\n",
      "[111]\tvalid_0's multi_logloss: 1.42279\tvalid_0's f1_score: 0.407133\n",
      "[112]\tvalid_0's multi_logloss: 1.42274\tvalid_0's f1_score: 0.407438\n",
      "[113]\tvalid_0's multi_logloss: 1.42255\tvalid_0's f1_score: 0.407599\n",
      "[114]\tvalid_0's multi_logloss: 1.42251\tvalid_0's f1_score: 0.407658\n",
      "[115]\tvalid_0's multi_logloss: 1.42246\tvalid_0's f1_score: 0.407453\n",
      "[116]\tvalid_0's multi_logloss: 1.42247\tvalid_0's f1_score: 0.407501\n",
      "[117]\tvalid_0's multi_logloss: 1.42239\tvalid_0's f1_score: 0.407626\n",
      "[118]\tvalid_0's multi_logloss: 1.42241\tvalid_0's f1_score: 0.407589\n",
      "[119]\tvalid_0's multi_logloss: 1.42247\tvalid_0's f1_score: 0.407626\n",
      "[120]\tvalid_0's multi_logloss: 1.4225\tvalid_0's f1_score: 0.407543\n",
      "[121]\tvalid_0's multi_logloss: 1.42257\tvalid_0's f1_score: 0.407561\n",
      "[122]\tvalid_0's multi_logloss: 1.42246\tvalid_0's f1_score: 0.407702\n",
      "[123]\tvalid_0's multi_logloss: 1.42259\tvalid_0's f1_score: 0.40763\n",
      "[124]\tvalid_0's multi_logloss: 1.4226\tvalid_0's f1_score: 0.407442\n",
      "[125]\tvalid_0's multi_logloss: 1.42245\tvalid_0's f1_score: 0.407571\n",
      "[126]\tvalid_0's multi_logloss: 1.42234\tvalid_0's f1_score: 0.407589\n",
      "[127]\tvalid_0's multi_logloss: 1.42233\tvalid_0's f1_score: 0.407699\n",
      "[128]\tvalid_0's multi_logloss: 1.42229\tvalid_0's f1_score: 0.407494\n",
      "[129]\tvalid_0's multi_logloss: 1.42227\tvalid_0's f1_score: 0.407623\n",
      "[130]\tvalid_0's multi_logloss: 1.42237\tvalid_0's f1_score: 0.408118\n",
      "[131]\tvalid_0's multi_logloss: 1.42252\tvalid_0's f1_score: 0.408199\n",
      "[132]\tvalid_0's multi_logloss: 1.42247\tvalid_0's f1_score: 0.408191\n",
      "[133]\tvalid_0's multi_logloss: 1.42256\tvalid_0's f1_score: 0.407907\n",
      "[134]\tvalid_0's multi_logloss: 1.42258\tvalid_0's f1_score: 0.408016\n",
      "[135]\tvalid_0's multi_logloss: 1.42255\tvalid_0's f1_score: 0.408288\n",
      "[136]\tvalid_0's multi_logloss: 1.42247\tvalid_0's f1_score: 0.407983\n",
      "[137]\tvalid_0's multi_logloss: 1.42244\tvalid_0's f1_score: 0.408032\n",
      "[138]\tvalid_0's multi_logloss: 1.42252\tvalid_0's f1_score: 0.407711\n",
      "[139]\tvalid_0's multi_logloss: 1.42254\tvalid_0's f1_score: 0.407582\n",
      "[140]\tvalid_0's multi_logloss: 1.42259\tvalid_0's f1_score: 0.407548\n",
      "[141]\tvalid_0's multi_logloss: 1.4225\tvalid_0's f1_score: 0.407285\n",
      "[142]\tvalid_0's multi_logloss: 1.42249\tvalid_0's f1_score: 0.40698\n",
      "[143]\tvalid_0's multi_logloss: 1.42238\tvalid_0's f1_score: 0.406859\n",
      "[144]\tvalid_0's multi_logloss: 1.42237\tvalid_0's f1_score: 0.407156\n",
      "[145]\tvalid_0's multi_logloss: 1.42223\tvalid_0's f1_score: 0.407253\n",
      "[146]\tvalid_0's multi_logloss: 1.4222\tvalid_0's f1_score: 0.407291\n",
      "[147]\tvalid_0's multi_logloss: 1.42222\tvalid_0's f1_score: 0.407534\n",
      "[148]\tvalid_0's multi_logloss: 1.42226\tvalid_0's f1_score: 0.4075\n",
      "[149]\tvalid_0's multi_logloss: 1.4222\tvalid_0's f1_score: 0.407476\n",
      "[150]\tvalid_0's multi_logloss: 1.42238\tvalid_0's f1_score: 0.407501\n",
      "[151]\tvalid_0's multi_logloss: 1.4223\tvalid_0's f1_score: 0.407358\n",
      "[152]\tvalid_0's multi_logloss: 1.42233\tvalid_0's f1_score: 0.407147\n",
      "[153]\tvalid_0's multi_logloss: 1.42235\tvalid_0's f1_score: 0.40704\n",
      "[154]\tvalid_0's multi_logloss: 1.42225\tvalid_0's f1_score: 0.406984\n",
      "[155]\tvalid_0's multi_logloss: 1.42234\tvalid_0's f1_score: 0.407079\n",
      "[156]\tvalid_0's multi_logloss: 1.42249\tvalid_0's f1_score: 0.406755\n",
      "[157]\tvalid_0's multi_logloss: 1.42242\tvalid_0's f1_score: 0.406937\n",
      "[158]\tvalid_0's multi_logloss: 1.42251\tvalid_0's f1_score: 0.406725\n",
      "[159]\tvalid_0's multi_logloss: 1.42258\tvalid_0's f1_score: 0.406928\n",
      "[160]\tvalid_0's multi_logloss: 1.42253\tvalid_0's f1_score: 0.406905\n",
      "[161]\tvalid_0's multi_logloss: 1.4225\tvalid_0's f1_score: 0.407387\n",
      "[162]\tvalid_0's multi_logloss: 1.42253\tvalid_0's f1_score: 0.407483\n",
      "[163]\tvalid_0's multi_logloss: 1.42246\tvalid_0's f1_score: 0.407516\n",
      "[164]\tvalid_0's multi_logloss: 1.42248\tvalid_0's f1_score: 0.40732\n",
      "[165]\tvalid_0's multi_logloss: 1.42257\tvalid_0's f1_score: 0.407501\n",
      "[166]\tvalid_0's multi_logloss: 1.42258\tvalid_0's f1_score: 0.407089\n",
      "[167]\tvalid_0's multi_logloss: 1.42263\tvalid_0's f1_score: 0.407177\n",
      "[168]\tvalid_0's multi_logloss: 1.42251\tvalid_0's f1_score: 0.40734\n",
      "[169]\tvalid_0's multi_logloss: 1.42241\tvalid_0's f1_score: 0.407386\n",
      "[170]\tvalid_0's multi_logloss: 1.4225\tvalid_0's f1_score: 0.407286\n",
      "[171]\tvalid_0's multi_logloss: 1.42252\tvalid_0's f1_score: 0.407434\n",
      "[172]\tvalid_0's multi_logloss: 1.42247\tvalid_0's f1_score: 0.407716\n",
      "[173]\tvalid_0's multi_logloss: 1.42229\tvalid_0's f1_score: 0.40783\n",
      "[174]\tvalid_0's multi_logloss: 1.42224\tvalid_0's f1_score: 0.407521\n",
      "[175]\tvalid_0's multi_logloss: 1.42236\tvalid_0's f1_score: 0.407415\n",
      "[176]\tvalid_0's multi_logloss: 1.42233\tvalid_0's f1_score: 0.407508\n",
      "[177]\tvalid_0's multi_logloss: 1.4223\tvalid_0's f1_score: 0.407344\n",
      "[178]\tvalid_0's multi_logloss: 1.42233\tvalid_0's f1_score: 0.407254\n",
      "[179]\tvalid_0's multi_logloss: 1.4222\tvalid_0's f1_score: 0.40753\n",
      "[180]\tvalid_0's multi_logloss: 1.42227\tvalid_0's f1_score: 0.407415\n",
      "[181]\tvalid_0's multi_logloss: 1.42228\tvalid_0's f1_score: 0.407679\n",
      "[182]\tvalid_0's multi_logloss: 1.42224\tvalid_0's f1_score: 0.407775\n",
      "[183]\tvalid_0's multi_logloss: 1.42217\tvalid_0's f1_score: 0.407632\n",
      "[184]\tvalid_0's multi_logloss: 1.42207\tvalid_0's f1_score: 0.407923\n",
      "[185]\tvalid_0's multi_logloss: 1.42236\tvalid_0's f1_score: 0.407684\n",
      "[186]\tvalid_0's multi_logloss: 1.42243\tvalid_0's f1_score: 0.407888\n",
      "[187]\tvalid_0's multi_logloss: 1.42238\tvalid_0's f1_score: 0.407654\n",
      "[188]\tvalid_0's multi_logloss: 1.42257\tvalid_0's f1_score: 0.407733\n",
      "[189]\tvalid_0's multi_logloss: 1.42255\tvalid_0's f1_score: 0.407587\n",
      "[190]\tvalid_0's multi_logloss: 1.42254\tvalid_0's f1_score: 0.407506\n",
      "[191]\tvalid_0's multi_logloss: 1.42262\tvalid_0's f1_score: 0.407684\n",
      "[192]\tvalid_0's multi_logloss: 1.42259\tvalid_0's f1_score: 0.407639\n",
      "[193]\tvalid_0's multi_logloss: 1.42269\tvalid_0's f1_score: 0.407735\n",
      "[194]\tvalid_0's multi_logloss: 1.42264\tvalid_0's f1_score: 0.407788\n",
      "[195]\tvalid_0's multi_logloss: 1.4225\tvalid_0's f1_score: 0.407571\n",
      "[196]\tvalid_0's multi_logloss: 1.42242\tvalid_0's f1_score: 0.407646\n",
      "[197]\tvalid_0's multi_logloss: 1.4224\tvalid_0's f1_score: 0.407786\n",
      "[198]\tvalid_0's multi_logloss: 1.42238\tvalid_0's f1_score: 0.407896\n",
      "[199]\tvalid_0's multi_logloss: 1.42246\tvalid_0's f1_score: 0.407625\n",
      "[200]\tvalid_0's multi_logloss: 1.42244\tvalid_0's f1_score: 0.407413\n",
      "[201]\tvalid_0's multi_logloss: 1.42257\tvalid_0's f1_score: 0.407319\n",
      "[202]\tvalid_0's multi_logloss: 1.42254\tvalid_0's f1_score: 0.407479\n",
      "[203]\tvalid_0's multi_logloss: 1.42262\tvalid_0's f1_score: 0.407413\n",
      "[204]\tvalid_0's multi_logloss: 1.42263\tvalid_0's f1_score: 0.407221\n",
      "[205]\tvalid_0's multi_logloss: 1.42262\tvalid_0's f1_score: 0.407294\n",
      "[206]\tvalid_0's multi_logloss: 1.42268\tvalid_0's f1_score: 0.407273\n",
      "[207]\tvalid_0's multi_logloss: 1.42263\tvalid_0's f1_score: 0.407528\n",
      "[208]\tvalid_0's multi_logloss: 1.42259\tvalid_0's f1_score: 0.407461\n",
      "[209]\tvalid_0's multi_logloss: 1.42274\tvalid_0's f1_score: 0.407333\n",
      "[210]\tvalid_0's multi_logloss: 1.42282\tvalid_0's f1_score: 0.407295\n",
      "[211]\tvalid_0's multi_logloss: 1.4228\tvalid_0's f1_score: 0.407476\n",
      "[212]\tvalid_0's multi_logloss: 1.42286\tvalid_0's f1_score: 0.407313\n",
      "[213]\tvalid_0's multi_logloss: 1.4228\tvalid_0's f1_score: 0.407257\n",
      "[214]\tvalid_0's multi_logloss: 1.42282\tvalid_0's f1_score: 0.407252\n",
      "[215]\tvalid_0's multi_logloss: 1.4229\tvalid_0's f1_score: 0.407505\n",
      "[216]\tvalid_0's multi_logloss: 1.42284\tvalid_0's f1_score: 0.40744\n",
      "[217]\tvalid_0's multi_logloss: 1.42283\tvalid_0's f1_score: 0.407432\n",
      "[218]\tvalid_0's multi_logloss: 1.42286\tvalid_0's f1_score: 0.407118\n",
      "[219]\tvalid_0's multi_logloss: 1.42274\tvalid_0's f1_score: 0.407149\n",
      "[220]\tvalid_0's multi_logloss: 1.42293\tvalid_0's f1_score: 0.407345\n",
      "[221]\tvalid_0's multi_logloss: 1.42292\tvalid_0's f1_score: 0.407278\n",
      "[222]\tvalid_0's multi_logloss: 1.42286\tvalid_0's f1_score: 0.407161\n",
      "[223]\tvalid_0's multi_logloss: 1.42286\tvalid_0's f1_score: 0.407137\n",
      "[224]\tvalid_0's multi_logloss: 1.42289\tvalid_0's f1_score: 0.407228\n",
      "[225]\tvalid_0's multi_logloss: 1.42297\tvalid_0's f1_score: 0.407188\n",
      "[226]\tvalid_0's multi_logloss: 1.42298\tvalid_0's f1_score: 0.407088\n",
      "[227]\tvalid_0's multi_logloss: 1.42306\tvalid_0's f1_score: 0.406936\n",
      "[228]\tvalid_0's multi_logloss: 1.42291\tvalid_0's f1_score: 0.407103\n",
      "[229]\tvalid_0's multi_logloss: 1.42296\tvalid_0's f1_score: 0.407284\n",
      "[230]\tvalid_0's multi_logloss: 1.42294\tvalid_0's f1_score: 0.407408\n",
      "[231]\tvalid_0's multi_logloss: 1.42275\tvalid_0's f1_score: 0.407392\n",
      "[232]\tvalid_0's multi_logloss: 1.4228\tvalid_0's f1_score: 0.407231\n",
      "[233]\tvalid_0's multi_logloss: 1.4227\tvalid_0's f1_score: 0.407004\n",
      "[234]\tvalid_0's multi_logloss: 1.42294\tvalid_0's f1_score: 0.406974\n",
      "[235]\tvalid_0's multi_logloss: 1.42302\tvalid_0's f1_score: 0.406906\n",
      "Early stopping, best iteration is:\n",
      "[135]\tvalid_0's multi_logloss: 1.42255\tvalid_0's f1_score: 0.408288\n",
      "0.40828825361042387\n",
      "[LightGBM] [Warning] Accuracy may be bad since you didn't explicitly set num_leaves OR 2^max_depth > num_leaves. (num_leaves=31).\n",
      "[1]\tvalid_0's multi_logloss: 1.84088\tvalid_0's f1_score: 0.199988\n",
      "Training until validation scores don't improve for 100 rounds\n",
      "[2]\tvalid_0's multi_logloss: 1.75511\tvalid_0's f1_score: 0.332655\n",
      "[3]\tvalid_0's multi_logloss: 1.69372\tvalid_0's f1_score: 0.373148\n",
      "[4]\tvalid_0's multi_logloss: 1.6466\tvalid_0's f1_score: 0.386355\n",
      "[5]\tvalid_0's multi_logloss: 1.61017\tvalid_0's f1_score: 0.39396\n",
      "[6]\tvalid_0's multi_logloss: 1.5807\tvalid_0's f1_score: 0.397915\n",
      "[7]\tvalid_0's multi_logloss: 1.55662\tvalid_0's f1_score: 0.400968\n",
      "[8]\tvalid_0's multi_logloss: 1.53669\tvalid_0's f1_score: 0.40241\n",
      "[9]\tvalid_0's multi_logloss: 1.52072\tvalid_0's f1_score: 0.403278\n",
      "[10]\tvalid_0's multi_logloss: 1.50738\tvalid_0's f1_score: 0.404853\n",
      "[11]\tvalid_0's multi_logloss: 1.49636\tvalid_0's f1_score: 0.40498\n",
      "[12]\tvalid_0's multi_logloss: 1.48753\tvalid_0's f1_score: 0.405364\n",
      "[13]\tvalid_0's multi_logloss: 1.48009\tvalid_0's f1_score: 0.40546\n",
      "[14]\tvalid_0's multi_logloss: 1.47339\tvalid_0's f1_score: 0.405877\n",
      "[15]\tvalid_0's multi_logloss: 1.46768\tvalid_0's f1_score: 0.406306\n",
      "[16]\tvalid_0's multi_logloss: 1.46298\tvalid_0's f1_score: 0.406205\n",
      "[17]\tvalid_0's multi_logloss: 1.4587\tvalid_0's f1_score: 0.406272\n",
      "[18]\tvalid_0's multi_logloss: 1.45511\tvalid_0's f1_score: 0.406522\n",
      "[19]\tvalid_0's multi_logloss: 1.4523\tvalid_0's f1_score: 0.406508\n",
      "[20]\tvalid_0's multi_logloss: 1.44935\tvalid_0's f1_score: 0.406967\n",
      "[21]\tvalid_0's multi_logloss: 1.44704\tvalid_0's f1_score: 0.40724\n",
      "[22]\tvalid_0's multi_logloss: 1.44476\tvalid_0's f1_score: 0.407199\n",
      "[23]\tvalid_0's multi_logloss: 1.44305\tvalid_0's f1_score: 0.407384\n",
      "[24]\tvalid_0's multi_logloss: 1.4414\tvalid_0's f1_score: 0.407269\n",
      "[25]\tvalid_0's multi_logloss: 1.44005\tvalid_0's f1_score: 0.407571\n",
      "[26]\tvalid_0's multi_logloss: 1.43856\tvalid_0's f1_score: 0.407332\n",
      "[27]\tvalid_0's multi_logloss: 1.43748\tvalid_0's f1_score: 0.407572\n",
      "[28]\tvalid_0's multi_logloss: 1.43646\tvalid_0's f1_score: 0.407199\n",
      "[29]\tvalid_0's multi_logloss: 1.4356\tvalid_0's f1_score: 0.40746\n",
      "[30]\tvalid_0's multi_logloss: 1.43502\tvalid_0's f1_score: 0.407504\n",
      "[31]\tvalid_0's multi_logloss: 1.43431\tvalid_0's f1_score: 0.407518\n",
      "[32]\tvalid_0's multi_logloss: 1.43367\tvalid_0's f1_score: 0.407447\n",
      "[33]\tvalid_0's multi_logloss: 1.43273\tvalid_0's f1_score: 0.40757\n",
      "[34]\tvalid_0's multi_logloss: 1.43232\tvalid_0's f1_score: 0.407833\n",
      "[35]\tvalid_0's multi_logloss: 1.43177\tvalid_0's f1_score: 0.407722\n",
      "[36]\tvalid_0's multi_logloss: 1.43131\tvalid_0's f1_score: 0.407779\n",
      "[37]\tvalid_0's multi_logloss: 1.43076\tvalid_0's f1_score: 0.408216\n",
      "[38]\tvalid_0's multi_logloss: 1.43006\tvalid_0's f1_score: 0.408252\n",
      "[39]\tvalid_0's multi_logloss: 1.42972\tvalid_0's f1_score: 0.40844\n",
      "[40]\tvalid_0's multi_logloss: 1.42933\tvalid_0's f1_score: 0.408672\n",
      "[41]\tvalid_0's multi_logloss: 1.4292\tvalid_0's f1_score: 0.408038\n",
      "[42]\tvalid_0's multi_logloss: 1.42901\tvalid_0's f1_score: 0.407917\n",
      "[43]\tvalid_0's multi_logloss: 1.4289\tvalid_0's f1_score: 0.407917\n",
      "[44]\tvalid_0's multi_logloss: 1.42873\tvalid_0's f1_score: 0.407701\n",
      "[45]\tvalid_0's multi_logloss: 1.42843\tvalid_0's f1_score: 0.407576\n",
      "[46]\tvalid_0's multi_logloss: 1.42837\tvalid_0's f1_score: 0.407623\n",
      "[47]\tvalid_0's multi_logloss: 1.42799\tvalid_0's f1_score: 0.407538\n",
      "[48]\tvalid_0's multi_logloss: 1.42777\tvalid_0's f1_score: 0.408117\n",
      "[49]\tvalid_0's multi_logloss: 1.42755\tvalid_0's f1_score: 0.407799\n",
      "[50]\tvalid_0's multi_logloss: 1.42711\tvalid_0's f1_score: 0.407239\n",
      "[51]\tvalid_0's multi_logloss: 1.42685\tvalid_0's f1_score: 0.407909\n",
      "[52]\tvalid_0's multi_logloss: 1.42657\tvalid_0's f1_score: 0.407561\n",
      "[53]\tvalid_0's multi_logloss: 1.42641\tvalid_0's f1_score: 0.407431\n",
      "[54]\tvalid_0's multi_logloss: 1.42638\tvalid_0's f1_score: 0.407953\n",
      "[55]\tvalid_0's multi_logloss: 1.42601\tvalid_0's f1_score: 0.407978\n",
      "[56]\tvalid_0's multi_logloss: 1.42586\tvalid_0's f1_score: 0.408168\n",
      "[57]\tvalid_0's multi_logloss: 1.4262\tvalid_0's f1_score: 0.408053\n",
      "[58]\tvalid_0's multi_logloss: 1.426\tvalid_0's f1_score: 0.40802\n",
      "[59]\tvalid_0's multi_logloss: 1.42597\tvalid_0's f1_score: 0.407997\n",
      "[60]\tvalid_0's multi_logloss: 1.42625\tvalid_0's f1_score: 0.407487\n",
      "[61]\tvalid_0's multi_logloss: 1.4261\tvalid_0's f1_score: 0.407622\n",
      "[62]\tvalid_0's multi_logloss: 1.42589\tvalid_0's f1_score: 0.407879\n",
      "[63]\tvalid_0's multi_logloss: 1.42557\tvalid_0's f1_score: 0.407956\n",
      "[64]\tvalid_0's multi_logloss: 1.42536\tvalid_0's f1_score: 0.407711\n",
      "[65]\tvalid_0's multi_logloss: 1.42525\tvalid_0's f1_score: 0.407664\n",
      "[66]\tvalid_0's multi_logloss: 1.42504\tvalid_0's f1_score: 0.407509\n",
      "[67]\tvalid_0's multi_logloss: 1.42497\tvalid_0's f1_score: 0.407891\n",
      "[68]\tvalid_0's multi_logloss: 1.42525\tvalid_0's f1_score: 0.408032\n",
      "[69]\tvalid_0's multi_logloss: 1.42526\tvalid_0's f1_score: 0.408176\n",
      "[70]\tvalid_0's multi_logloss: 1.42517\tvalid_0's f1_score: 0.408119\n",
      "[71]\tvalid_0's multi_logloss: 1.42498\tvalid_0's f1_score: 0.408076\n",
      "[72]\tvalid_0's multi_logloss: 1.42502\tvalid_0's f1_score: 0.407839\n",
      "[73]\tvalid_0's multi_logloss: 1.42508\tvalid_0's f1_score: 0.407987\n",
      "[74]\tvalid_0's multi_logloss: 1.42524\tvalid_0's f1_score: 0.408001\n",
      "[75]\tvalid_0's multi_logloss: 1.42526\tvalid_0's f1_score: 0.408075\n",
      "[76]\tvalid_0's multi_logloss: 1.42527\tvalid_0's f1_score: 0.408189\n",
      "[77]\tvalid_0's multi_logloss: 1.42507\tvalid_0's f1_score: 0.408245\n",
      "[78]\tvalid_0's multi_logloss: 1.42502\tvalid_0's f1_score: 0.408335\n",
      "[79]\tvalid_0's multi_logloss: 1.42493\tvalid_0's f1_score: 0.40825\n",
      "[80]\tvalid_0's multi_logloss: 1.42492\tvalid_0's f1_score: 0.408375\n",
      "[81]\tvalid_0's multi_logloss: 1.42479\tvalid_0's f1_score: 0.408272\n",
      "[82]\tvalid_0's multi_logloss: 1.42461\tvalid_0's f1_score: 0.408592\n",
      "[83]\tvalid_0's multi_logloss: 1.42446\tvalid_0's f1_score: 0.408446\n",
      "[84]\tvalid_0's multi_logloss: 1.42482\tvalid_0's f1_score: 0.408521\n",
      "[85]\tvalid_0's multi_logloss: 1.42452\tvalid_0's f1_score: 0.408807\n",
      "[86]\tvalid_0's multi_logloss: 1.42447\tvalid_0's f1_score: 0.408629\n",
      "[87]\tvalid_0's multi_logloss: 1.42436\tvalid_0's f1_score: 0.408438\n",
      "[88]\tvalid_0's multi_logloss: 1.42455\tvalid_0's f1_score: 0.408625\n",
      "[89]\tvalid_0's multi_logloss: 1.42461\tvalid_0's f1_score: 0.408391\n",
      "[90]\tvalid_0's multi_logloss: 1.42459\tvalid_0's f1_score: 0.408469\n",
      "[91]\tvalid_0's multi_logloss: 1.42458\tvalid_0's f1_score: 0.408335\n",
      "[92]\tvalid_0's multi_logloss: 1.42441\tvalid_0's f1_score: 0.408297\n",
      "[93]\tvalid_0's multi_logloss: 1.42453\tvalid_0's f1_score: 0.408227\n",
      "[94]\tvalid_0's multi_logloss: 1.4244\tvalid_0's f1_score: 0.408178\n",
      "[95]\tvalid_0's multi_logloss: 1.42433\tvalid_0's f1_score: 0.408324\n",
      "[96]\tvalid_0's multi_logloss: 1.4241\tvalid_0's f1_score: 0.408124\n",
      "[97]\tvalid_0's multi_logloss: 1.42399\tvalid_0's f1_score: 0.407999\n",
      "[98]\tvalid_0's multi_logloss: 1.42383\tvalid_0's f1_score: 0.408162\n",
      "[99]\tvalid_0's multi_logloss: 1.42371\tvalid_0's f1_score: 0.408184\n",
      "[100]\tvalid_0's multi_logloss: 1.42373\tvalid_0's f1_score: 0.408573\n",
      "[101]\tvalid_0's multi_logloss: 1.42358\tvalid_0's f1_score: 0.408167\n",
      "[102]\tvalid_0's multi_logloss: 1.42361\tvalid_0's f1_score: 0.408085\n",
      "[103]\tvalid_0's multi_logloss: 1.42348\tvalid_0's f1_score: 0.408219\n",
      "[104]\tvalid_0's multi_logloss: 1.42345\tvalid_0's f1_score: 0.408676\n",
      "[105]\tvalid_0's multi_logloss: 1.42331\tvalid_0's f1_score: 0.408457\n",
      "[106]\tvalid_0's multi_logloss: 1.4235\tvalid_0's f1_score: 0.408264\n",
      "[107]\tvalid_0's multi_logloss: 1.42348\tvalid_0's f1_score: 0.408312\n",
      "[108]\tvalid_0's multi_logloss: 1.42354\tvalid_0's f1_score: 0.408293\n",
      "[109]\tvalid_0's multi_logloss: 1.42372\tvalid_0's f1_score: 0.408425\n",
      "[110]\tvalid_0's multi_logloss: 1.42385\tvalid_0's f1_score: 0.408239\n",
      "[111]\tvalid_0's multi_logloss: 1.42371\tvalid_0's f1_score: 0.408449\n",
      "[112]\tvalid_0's multi_logloss: 1.42368\tvalid_0's f1_score: 0.408361\n",
      "[113]\tvalid_0's multi_logloss: 1.4237\tvalid_0's f1_score: 0.408536\n",
      "[114]\tvalid_0's multi_logloss: 1.4237\tvalid_0's f1_score: 0.408226\n",
      "[115]\tvalid_0's multi_logloss: 1.42369\tvalid_0's f1_score: 0.408252\n",
      "[116]\tvalid_0's multi_logloss: 1.42363\tvalid_0's f1_score: 0.408107\n",
      "[117]\tvalid_0's multi_logloss: 1.42372\tvalid_0's f1_score: 0.40827\n",
      "[118]\tvalid_0's multi_logloss: 1.42356\tvalid_0's f1_score: 0.407999\n",
      "[119]\tvalid_0's multi_logloss: 1.4236\tvalid_0's f1_score: 0.408109\n",
      "[120]\tvalid_0's multi_logloss: 1.42347\tvalid_0's f1_score: 0.408229\n",
      "[121]\tvalid_0's multi_logloss: 1.42349\tvalid_0's f1_score: 0.408259\n",
      "[122]\tvalid_0's multi_logloss: 1.42344\tvalid_0's f1_score: 0.408609\n",
      "[123]\tvalid_0's multi_logloss: 1.4234\tvalid_0's f1_score: 0.408681\n",
      "[124]\tvalid_0's multi_logloss: 1.42344\tvalid_0's f1_score: 0.408584\n",
      "[125]\tvalid_0's multi_logloss: 1.4235\tvalid_0's f1_score: 0.408602\n",
      "[126]\tvalid_0's multi_logloss: 1.42348\tvalid_0's f1_score: 0.408338\n",
      "[127]\tvalid_0's multi_logloss: 1.42369\tvalid_0's f1_score: 0.408277\n",
      "[128]\tvalid_0's multi_logloss: 1.42363\tvalid_0's f1_score: 0.408393\n",
      "[129]\tvalid_0's multi_logloss: 1.42359\tvalid_0's f1_score: 0.408309\n",
      "[130]\tvalid_0's multi_logloss: 1.42372\tvalid_0's f1_score: 0.408166\n",
      "[131]\tvalid_0's multi_logloss: 1.42359\tvalid_0's f1_score: 0.408075\n",
      "[132]\tvalid_0's multi_logloss: 1.42365\tvalid_0's f1_score: 0.408389\n",
      "[133]\tvalid_0's multi_logloss: 1.4237\tvalid_0's f1_score: 0.408405\n",
      "[134]\tvalid_0's multi_logloss: 1.42371\tvalid_0's f1_score: 0.408538\n",
      "[135]\tvalid_0's multi_logloss: 1.42361\tvalid_0's f1_score: 0.40855\n",
      "[136]\tvalid_0's multi_logloss: 1.42367\tvalid_0's f1_score: 0.408726\n",
      "[137]\tvalid_0's multi_logloss: 1.42361\tvalid_0's f1_score: 0.408709\n",
      "[138]\tvalid_0's multi_logloss: 1.42365\tvalid_0's f1_score: 0.408507\n",
      "[139]\tvalid_0's multi_logloss: 1.42367\tvalid_0's f1_score: 0.408516\n",
      "[140]\tvalid_0's multi_logloss: 1.42366\tvalid_0's f1_score: 0.408491\n",
      "[141]\tvalid_0's multi_logloss: 1.42354\tvalid_0's f1_score: 0.408654\n",
      "[142]\tvalid_0's multi_logloss: 1.42359\tvalid_0's f1_score: 0.4084\n",
      "[143]\tvalid_0's multi_logloss: 1.4235\tvalid_0's f1_score: 0.408467\n",
      "[144]\tvalid_0's multi_logloss: 1.42343\tvalid_0's f1_score: 0.408716\n",
      "[145]\tvalid_0's multi_logloss: 1.42336\tvalid_0's f1_score: 0.408746\n",
      "[146]\tvalid_0's multi_logloss: 1.42337\tvalid_0's f1_score: 0.408662\n",
      "[147]\tvalid_0's multi_logloss: 1.42332\tvalid_0's f1_score: 0.408387\n",
      "[148]\tvalid_0's multi_logloss: 1.4234\tvalid_0's f1_score: 0.408508\n",
      "[149]\tvalid_0's multi_logloss: 1.42346\tvalid_0's f1_score: 0.408492\n",
      "[150]\tvalid_0's multi_logloss: 1.42349\tvalid_0's f1_score: 0.408542\n",
      "[151]\tvalid_0's multi_logloss: 1.42335\tvalid_0's f1_score: 0.408888\n",
      "[152]\tvalid_0's multi_logloss: 1.4233\tvalid_0's f1_score: 0.408582\n",
      "[153]\tvalid_0's multi_logloss: 1.4233\tvalid_0's f1_score: 0.408639\n",
      "[154]\tvalid_0's multi_logloss: 1.42327\tvalid_0's f1_score: 0.408627\n",
      "[155]\tvalid_0's multi_logloss: 1.42328\tvalid_0's f1_score: 0.408634\n",
      "[156]\tvalid_0's multi_logloss: 1.42328\tvalid_0's f1_score: 0.408767\n",
      "[157]\tvalid_0's multi_logloss: 1.42333\tvalid_0's f1_score: 0.408496\n",
      "[158]\tvalid_0's multi_logloss: 1.42344\tvalid_0's f1_score: 0.408432\n",
      "[159]\tvalid_0's multi_logloss: 1.42335\tvalid_0's f1_score: 0.408516\n",
      "[160]\tvalid_0's multi_logloss: 1.42342\tvalid_0's f1_score: 0.408631\n",
      "[161]\tvalid_0's multi_logloss: 1.42341\tvalid_0's f1_score: 0.408972\n",
      "[162]\tvalid_0's multi_logloss: 1.42338\tvalid_0's f1_score: 0.408946\n",
      "[163]\tvalid_0's multi_logloss: 1.42334\tvalid_0's f1_score: 0.408918\n",
      "[164]\tvalid_0's multi_logloss: 1.42334\tvalid_0's f1_score: 0.408923\n",
      "[165]\tvalid_0's multi_logloss: 1.4235\tvalid_0's f1_score: 0.408913\n",
      "[166]\tvalid_0's multi_logloss: 1.42343\tvalid_0's f1_score: 0.408744\n",
      "[167]\tvalid_0's multi_logloss: 1.42342\tvalid_0's f1_score: 0.408606\n",
      "[168]\tvalid_0's multi_logloss: 1.42358\tvalid_0's f1_score: 0.408544\n",
      "[169]\tvalid_0's multi_logloss: 1.42353\tvalid_0's f1_score: 0.408517\n",
      "[170]\tvalid_0's multi_logloss: 1.42347\tvalid_0's f1_score: 0.408723\n",
      "[171]\tvalid_0's multi_logloss: 1.42345\tvalid_0's f1_score: 0.40866\n",
      "[172]\tvalid_0's multi_logloss: 1.42352\tvalid_0's f1_score: 0.408537\n",
      "[173]\tvalid_0's multi_logloss: 1.42352\tvalid_0's f1_score: 0.408274\n",
      "[174]\tvalid_0's multi_logloss: 1.42353\tvalid_0's f1_score: 0.40828\n",
      "[175]\tvalid_0's multi_logloss: 1.42347\tvalid_0's f1_score: 0.408516\n",
      "[176]\tvalid_0's multi_logloss: 1.42353\tvalid_0's f1_score: 0.408646\n",
      "[177]\tvalid_0's multi_logloss: 1.4235\tvalid_0's f1_score: 0.408455\n",
      "[178]\tvalid_0's multi_logloss: 1.4235\tvalid_0's f1_score: 0.408419\n",
      "[179]\tvalid_0's multi_logloss: 1.42357\tvalid_0's f1_score: 0.408352\n",
      "[180]\tvalid_0's multi_logloss: 1.42357\tvalid_0's f1_score: 0.408372\n",
      "[181]\tvalid_0's multi_logloss: 1.42378\tvalid_0's f1_score: 0.408265\n",
      "[182]\tvalid_0's multi_logloss: 1.42371\tvalid_0's f1_score: 0.408453\n",
      "[183]\tvalid_0's multi_logloss: 1.42373\tvalid_0's f1_score: 0.408331\n",
      "[184]\tvalid_0's multi_logloss: 1.42364\tvalid_0's f1_score: 0.408304\n",
      "[185]\tvalid_0's multi_logloss: 1.42372\tvalid_0's f1_score: 0.40833\n",
      "[186]\tvalid_0's multi_logloss: 1.42373\tvalid_0's f1_score: 0.408197\n",
      "[187]\tvalid_0's multi_logloss: 1.42361\tvalid_0's f1_score: 0.40857\n",
      "[188]\tvalid_0's multi_logloss: 1.42375\tvalid_0's f1_score: 0.408336\n",
      "[189]\tvalid_0's multi_logloss: 1.42376\tvalid_0's f1_score: 0.408202\n",
      "[190]\tvalid_0's multi_logloss: 1.42384\tvalid_0's f1_score: 0.408226\n",
      "[191]\tvalid_0's multi_logloss: 1.42394\tvalid_0's f1_score: 0.407914\n",
      "[192]\tvalid_0's multi_logloss: 1.42393\tvalid_0's f1_score: 0.407821\n",
      "[193]\tvalid_0's multi_logloss: 1.42391\tvalid_0's f1_score: 0.407723\n",
      "[194]\tvalid_0's multi_logloss: 1.4239\tvalid_0's f1_score: 0.407905\n",
      "[195]\tvalid_0's multi_logloss: 1.42404\tvalid_0's f1_score: 0.408044\n",
      "[196]\tvalid_0's multi_logloss: 1.42413\tvalid_0's f1_score: 0.408098\n",
      "[197]\tvalid_0's multi_logloss: 1.42411\tvalid_0's f1_score: 0.407668\n",
      "[198]\tvalid_0's multi_logloss: 1.4241\tvalid_0's f1_score: 0.407815\n",
      "[199]\tvalid_0's multi_logloss: 1.42416\tvalid_0's f1_score: 0.407939\n",
      "[200]\tvalid_0's multi_logloss: 1.42413\tvalid_0's f1_score: 0.407986\n",
      "[201]\tvalid_0's multi_logloss: 1.42409\tvalid_0's f1_score: 0.407893\n",
      "[202]\tvalid_0's multi_logloss: 1.42434\tvalid_0's f1_score: 0.407878\n",
      "[203]\tvalid_0's multi_logloss: 1.42435\tvalid_0's f1_score: 0.408139\n",
      "[204]\tvalid_0's multi_logloss: 1.42441\tvalid_0's f1_score: 0.408116\n",
      "[205]\tvalid_0's multi_logloss: 1.42437\tvalid_0's f1_score: 0.40835\n",
      "[206]\tvalid_0's multi_logloss: 1.42443\tvalid_0's f1_score: 0.408514\n",
      "[207]\tvalid_0's multi_logloss: 1.42439\tvalid_0's f1_score: 0.408503\n",
      "[208]\tvalid_0's multi_logloss: 1.42441\tvalid_0's f1_score: 0.408642\n",
      "[209]\tvalid_0's multi_logloss: 1.42443\tvalid_0's f1_score: 0.408796\n",
      "[210]\tvalid_0's multi_logloss: 1.42442\tvalid_0's f1_score: 0.408913\n",
      "[211]\tvalid_0's multi_logloss: 1.42451\tvalid_0's f1_score: 0.408868\n",
      "[212]\tvalid_0's multi_logloss: 1.42444\tvalid_0's f1_score: 0.408976\n",
      "[213]\tvalid_0's multi_logloss: 1.42444\tvalid_0's f1_score: 0.40885\n",
      "[214]\tvalid_0's multi_logloss: 1.42456\tvalid_0's f1_score: 0.408821\n",
      "[215]\tvalid_0's multi_logloss: 1.42458\tvalid_0's f1_score: 0.408442\n",
      "[216]\tvalid_0's multi_logloss: 1.42457\tvalid_0's f1_score: 0.408428\n",
      "[217]\tvalid_0's multi_logloss: 1.42463\tvalid_0's f1_score: 0.408455\n",
      "[218]\tvalid_0's multi_logloss: 1.42463\tvalid_0's f1_score: 0.408617\n",
      "[219]\tvalid_0's multi_logloss: 1.4246\tvalid_0's f1_score: 0.408423\n",
      "[220]\tvalid_0's multi_logloss: 1.42474\tvalid_0's f1_score: 0.408651\n",
      "[221]\tvalid_0's multi_logloss: 1.42468\tvalid_0's f1_score: 0.408617\n",
      "[222]\tvalid_0's multi_logloss: 1.42466\tvalid_0's f1_score: 0.408433\n",
      "[223]\tvalid_0's multi_logloss: 1.42464\tvalid_0's f1_score: 0.408568\n",
      "[224]\tvalid_0's multi_logloss: 1.42468\tvalid_0's f1_score: 0.408287\n",
      "[225]\tvalid_0's multi_logloss: 1.42469\tvalid_0's f1_score: 0.408615\n",
      "[226]\tvalid_0's multi_logloss: 1.42467\tvalid_0's f1_score: 0.408459\n",
      "[227]\tvalid_0's multi_logloss: 1.42455\tvalid_0's f1_score: 0.408616\n",
      "[228]\tvalid_0's multi_logloss: 1.42459\tvalid_0's f1_score: 0.408644\n",
      "[229]\tvalid_0's multi_logloss: 1.42462\tvalid_0's f1_score: 0.408586\n",
      "[230]\tvalid_0's multi_logloss: 1.42464\tvalid_0's f1_score: 0.408483\n",
      "[231]\tvalid_0's multi_logloss: 1.42456\tvalid_0's f1_score: 0.408572\n",
      "[232]\tvalid_0's multi_logloss: 1.42457\tvalid_0's f1_score: 0.408638\n",
      "[233]\tvalid_0's multi_logloss: 1.42464\tvalid_0's f1_score: 0.408574\n",
      "[234]\tvalid_0's multi_logloss: 1.42471\tvalid_0's f1_score: 0.40859\n",
      "[235]\tvalid_0's multi_logloss: 1.42466\tvalid_0's f1_score: 0.408705\n",
      "[236]\tvalid_0's multi_logloss: 1.42464\tvalid_0's f1_score: 0.408822\n",
      "[237]\tvalid_0's multi_logloss: 1.42479\tvalid_0's f1_score: 0.40874\n",
      "[238]\tvalid_0's multi_logloss: 1.42475\tvalid_0's f1_score: 0.408522\n",
      "[239]\tvalid_0's multi_logloss: 1.42472\tvalid_0's f1_score: 0.408417\n",
      "[240]\tvalid_0's multi_logloss: 1.42466\tvalid_0's f1_score: 0.408237\n",
      "[241]\tvalid_0's multi_logloss: 1.4247\tvalid_0's f1_score: 0.40837\n",
      "[242]\tvalid_0's multi_logloss: 1.42475\tvalid_0's f1_score: 0.408329\n",
      "[243]\tvalid_0's multi_logloss: 1.42478\tvalid_0's f1_score: 0.408406\n",
      "[244]\tvalid_0's multi_logloss: 1.42474\tvalid_0's f1_score: 0.408225\n",
      "[245]\tvalid_0's multi_logloss: 1.4247\tvalid_0's f1_score: 0.408459\n",
      "[246]\tvalid_0's multi_logloss: 1.42459\tvalid_0's f1_score: 0.408452\n",
      "[247]\tvalid_0's multi_logloss: 1.42459\tvalid_0's f1_score: 0.408351\n",
      "[248]\tvalid_0's multi_logloss: 1.42454\tvalid_0's f1_score: 0.408281\n",
      "[249]\tvalid_0's multi_logloss: 1.42461\tvalid_0's f1_score: 0.408588\n",
      "[250]\tvalid_0's multi_logloss: 1.42461\tvalid_0's f1_score: 0.408444\n",
      "Did not meet early stopping. Best iteration is:\n",
      "[154]\tvalid_0's multi_logloss: 1.42327\tvalid_0's f1_score: 0.408627\n",
      "0.40862657670707725\n",
      "[LightGBM] [Warning] Accuracy may be bad since you didn't explicitly set num_leaves OR 2^max_depth > num_leaves. (num_leaves=31).\n",
      "[1]\tvalid_0's multi_logloss: 1.84077\tvalid_0's f1_score: 0.214247\n",
      "Training until validation scores don't improve for 100 rounds\n",
      "[2]\tvalid_0's multi_logloss: 1.75538\tvalid_0's f1_score: 0.333051\n",
      "[3]\tvalid_0's multi_logloss: 1.69428\tvalid_0's f1_score: 0.373339\n",
      "[4]\tvalid_0's multi_logloss: 1.64719\tvalid_0's f1_score: 0.385826\n",
      "[5]\tvalid_0's multi_logloss: 1.6106\tvalid_0's f1_score: 0.391765\n",
      "[6]\tvalid_0's multi_logloss: 1.58071\tvalid_0's f1_score: 0.396129\n",
      "[7]\tvalid_0's multi_logloss: 1.55653\tvalid_0's f1_score: 0.398792\n",
      "[8]\tvalid_0's multi_logloss: 1.53731\tvalid_0's f1_score: 0.401312\n",
      "[9]\tvalid_0's multi_logloss: 1.52098\tvalid_0's f1_score: 0.403847\n",
      "[10]\tvalid_0's multi_logloss: 1.50742\tvalid_0's f1_score: 0.404294\n",
      "[11]\tvalid_0's multi_logloss: 1.49675\tvalid_0's f1_score: 0.4048\n",
      "[12]\tvalid_0's multi_logloss: 1.48748\tvalid_0's f1_score: 0.40522\n",
      "[13]\tvalid_0's multi_logloss: 1.47961\tvalid_0's f1_score: 0.406449\n",
      "[14]\tvalid_0's multi_logloss: 1.4733\tvalid_0's f1_score: 0.406109\n",
      "[15]\tvalid_0's multi_logloss: 1.46735\tvalid_0's f1_score: 0.406291\n",
      "[16]\tvalid_0's multi_logloss: 1.46228\tvalid_0's f1_score: 0.40597\n",
      "[17]\tvalid_0's multi_logloss: 1.4579\tvalid_0's f1_score: 0.40637\n",
      "[18]\tvalid_0's multi_logloss: 1.45392\tvalid_0's f1_score: 0.406884\n",
      "[19]\tvalid_0's multi_logloss: 1.451\tvalid_0's f1_score: 0.407045\n",
      "[20]\tvalid_0's multi_logloss: 1.44801\tvalid_0's f1_score: 0.407027\n",
      "[21]\tvalid_0's multi_logloss: 1.44604\tvalid_0's f1_score: 0.407407\n",
      "[22]\tvalid_0's multi_logloss: 1.44412\tvalid_0's f1_score: 0.407746\n",
      "[23]\tvalid_0's multi_logloss: 1.44221\tvalid_0's f1_score: 0.407468\n",
      "[24]\tvalid_0's multi_logloss: 1.4404\tvalid_0's f1_score: 0.407146\n",
      "[25]\tvalid_0's multi_logloss: 1.43901\tvalid_0's f1_score: 0.407068\n",
      "[26]\tvalid_0's multi_logloss: 1.43782\tvalid_0's f1_score: 0.407176\n",
      "[27]\tvalid_0's multi_logloss: 1.43637\tvalid_0's f1_score: 0.407284\n",
      "[28]\tvalid_0's multi_logloss: 1.43528\tvalid_0's f1_score: 0.406708\n",
      "[29]\tvalid_0's multi_logloss: 1.43437\tvalid_0's f1_score: 0.407233\n",
      "[30]\tvalid_0's multi_logloss: 1.43346\tvalid_0's f1_score: 0.407241\n",
      "[31]\tvalid_0's multi_logloss: 1.43285\tvalid_0's f1_score: 0.407281\n",
      "[32]\tvalid_0's multi_logloss: 1.43224\tvalid_0's f1_score: 0.407587\n",
      "[33]\tvalid_0's multi_logloss: 1.43162\tvalid_0's f1_score: 0.407913\n",
      "[34]\tvalid_0's multi_logloss: 1.43098\tvalid_0's f1_score: 0.407616\n",
      "[35]\tvalid_0's multi_logloss: 1.43024\tvalid_0's f1_score: 0.40746\n",
      "[36]\tvalid_0's multi_logloss: 1.43007\tvalid_0's f1_score: 0.407615\n",
      "[37]\tvalid_0's multi_logloss: 1.42948\tvalid_0's f1_score: 0.407677\n",
      "[38]\tvalid_0's multi_logloss: 1.42906\tvalid_0's f1_score: 0.407316\n",
      "[39]\tvalid_0's multi_logloss: 1.42863\tvalid_0's f1_score: 0.407081\n",
      "[40]\tvalid_0's multi_logloss: 1.42843\tvalid_0's f1_score: 0.407205\n",
      "[41]\tvalid_0's multi_logloss: 1.42815\tvalid_0's f1_score: 0.407469\n",
      "[42]\tvalid_0's multi_logloss: 1.42827\tvalid_0's f1_score: 0.407372\n",
      "[43]\tvalid_0's multi_logloss: 1.42796\tvalid_0's f1_score: 0.407665\n",
      "[44]\tvalid_0's multi_logloss: 1.42757\tvalid_0's f1_score: 0.40747\n",
      "[45]\tvalid_0's multi_logloss: 1.4273\tvalid_0's f1_score: 0.407366\n",
      "[46]\tvalid_0's multi_logloss: 1.42713\tvalid_0's f1_score: 0.407732\n",
      "[47]\tvalid_0's multi_logloss: 1.42681\tvalid_0's f1_score: 0.407407\n",
      "[48]\tvalid_0's multi_logloss: 1.4262\tvalid_0's f1_score: 0.407767\n",
      "[49]\tvalid_0's multi_logloss: 1.42578\tvalid_0's f1_score: 0.407841\n",
      "[50]\tvalid_0's multi_logloss: 1.42565\tvalid_0's f1_score: 0.408252\n",
      "[51]\tvalid_0's multi_logloss: 1.42572\tvalid_0's f1_score: 0.408276\n",
      "[52]\tvalid_0's multi_logloss: 1.42585\tvalid_0's f1_score: 0.408256\n",
      "[53]\tvalid_0's multi_logloss: 1.4258\tvalid_0's f1_score: 0.40833\n",
      "[54]\tvalid_0's multi_logloss: 1.42567\tvalid_0's f1_score: 0.408161\n",
      "[55]\tvalid_0's multi_logloss: 1.42544\tvalid_0's f1_score: 0.407857\n",
      "[56]\tvalid_0's multi_logloss: 1.42539\tvalid_0's f1_score: 0.408278\n",
      "[57]\tvalid_0's multi_logloss: 1.42522\tvalid_0's f1_score: 0.407865\n",
      "[58]\tvalid_0's multi_logloss: 1.42496\tvalid_0's f1_score: 0.408633\n",
      "[59]\tvalid_0's multi_logloss: 1.42471\tvalid_0's f1_score: 0.408352\n",
      "[60]\tvalid_0's multi_logloss: 1.42475\tvalid_0's f1_score: 0.40834\n",
      "[61]\tvalid_0's multi_logloss: 1.42466\tvalid_0's f1_score: 0.408289\n",
      "[62]\tvalid_0's multi_logloss: 1.42443\tvalid_0's f1_score: 0.40836\n",
      "[63]\tvalid_0's multi_logloss: 1.42433\tvalid_0's f1_score: 0.408453\n",
      "[64]\tvalid_0's multi_logloss: 1.42431\tvalid_0's f1_score: 0.40847\n",
      "[65]\tvalid_0's multi_logloss: 1.42421\tvalid_0's f1_score: 0.408576\n",
      "[66]\tvalid_0's multi_logloss: 1.42398\tvalid_0's f1_score: 0.408664\n",
      "[67]\tvalid_0's multi_logloss: 1.42414\tvalid_0's f1_score: 0.408636\n",
      "[68]\tvalid_0's multi_logloss: 1.42403\tvalid_0's f1_score: 0.408361\n",
      "[69]\tvalid_0's multi_logloss: 1.42366\tvalid_0's f1_score: 0.408282\n",
      "[70]\tvalid_0's multi_logloss: 1.42382\tvalid_0's f1_score: 0.408649\n",
      "[71]\tvalid_0's multi_logloss: 1.42381\tvalid_0's f1_score: 0.40874\n",
      "[72]\tvalid_0's multi_logloss: 1.42367\tvalid_0's f1_score: 0.408693\n",
      "[73]\tvalid_0's multi_logloss: 1.42365\tvalid_0's f1_score: 0.408727\n",
      "[74]\tvalid_0's multi_logloss: 1.42342\tvalid_0's f1_score: 0.408817\n",
      "[75]\tvalid_0's multi_logloss: 1.42349\tvalid_0's f1_score: 0.409132\n",
      "[76]\tvalid_0's multi_logloss: 1.42338\tvalid_0's f1_score: 0.409176\n",
      "[77]\tvalid_0's multi_logloss: 1.42343\tvalid_0's f1_score: 0.409044\n",
      "[78]\tvalid_0's multi_logloss: 1.42312\tvalid_0's f1_score: 0.40912\n",
      "[79]\tvalid_0's multi_logloss: 1.42331\tvalid_0's f1_score: 0.408989\n",
      "[80]\tvalid_0's multi_logloss: 1.42322\tvalid_0's f1_score: 0.40873\n",
      "[81]\tvalid_0's multi_logloss: 1.42301\tvalid_0's f1_score: 0.408897\n",
      "[82]\tvalid_0's multi_logloss: 1.42297\tvalid_0's f1_score: 0.408703\n",
      "[83]\tvalid_0's multi_logloss: 1.42312\tvalid_0's f1_score: 0.408492\n",
      "[84]\tvalid_0's multi_logloss: 1.42288\tvalid_0's f1_score: 0.408658\n",
      "[85]\tvalid_0's multi_logloss: 1.42281\tvalid_0's f1_score: 0.408749\n",
      "[86]\tvalid_0's multi_logloss: 1.42313\tvalid_0's f1_score: 0.408583\n",
      "[87]\tvalid_0's multi_logloss: 1.42325\tvalid_0's f1_score: 0.408784\n",
      "[88]\tvalid_0's multi_logloss: 1.42312\tvalid_0's f1_score: 0.408671\n",
      "[89]\tvalid_0's multi_logloss: 1.42304\tvalid_0's f1_score: 0.40881\n",
      "[90]\tvalid_0's multi_logloss: 1.42306\tvalid_0's f1_score: 0.408915\n",
      "[91]\tvalid_0's multi_logloss: 1.42306\tvalid_0's f1_score: 0.409106\n",
      "[92]\tvalid_0's multi_logloss: 1.42299\tvalid_0's f1_score: 0.409156\n",
      "[93]\tvalid_0's multi_logloss: 1.42304\tvalid_0's f1_score: 0.409077\n",
      "[94]\tvalid_0's multi_logloss: 1.42296\tvalid_0's f1_score: 0.408799\n",
      "[95]\tvalid_0's multi_logloss: 1.4229\tvalid_0's f1_score: 0.408731\n",
      "[96]\tvalid_0's multi_logloss: 1.4229\tvalid_0's f1_score: 0.408672\n",
      "[97]\tvalid_0's multi_logloss: 1.42287\tvalid_0's f1_score: 0.40869\n",
      "[98]\tvalid_0's multi_logloss: 1.42271\tvalid_0's f1_score: 0.408978\n",
      "[99]\tvalid_0's multi_logloss: 1.42271\tvalid_0's f1_score: 0.408678\n",
      "[100]\tvalid_0's multi_logloss: 1.42264\tvalid_0's f1_score: 0.408643\n",
      "[101]\tvalid_0's multi_logloss: 1.4227\tvalid_0's f1_score: 0.408298\n",
      "[102]\tvalid_0's multi_logloss: 1.42262\tvalid_0's f1_score: 0.408171\n",
      "[103]\tvalid_0's multi_logloss: 1.42274\tvalid_0's f1_score: 0.408163\n",
      "[104]\tvalid_0's multi_logloss: 1.42276\tvalid_0's f1_score: 0.408327\n",
      "[105]\tvalid_0's multi_logloss: 1.42277\tvalid_0's f1_score: 0.408106\n",
      "[106]\tvalid_0's multi_logloss: 1.42287\tvalid_0's f1_score: 0.408322\n",
      "[107]\tvalid_0's multi_logloss: 1.42279\tvalid_0's f1_score: 0.408212\n",
      "[108]\tvalid_0's multi_logloss: 1.42289\tvalid_0's f1_score: 0.407998\n",
      "[109]\tvalid_0's multi_logloss: 1.42288\tvalid_0's f1_score: 0.408036\n",
      "[110]\tvalid_0's multi_logloss: 1.4229\tvalid_0's f1_score: 0.408115\n",
      "[111]\tvalid_0's multi_logloss: 1.42291\tvalid_0's f1_score: 0.408504\n",
      "[112]\tvalid_0's multi_logloss: 1.42285\tvalid_0's f1_score: 0.408389\n",
      "[113]\tvalid_0's multi_logloss: 1.42287\tvalid_0's f1_score: 0.408405\n",
      "[114]\tvalid_0's multi_logloss: 1.42287\tvalid_0's f1_score: 0.408474\n",
      "[115]\tvalid_0's multi_logloss: 1.42284\tvalid_0's f1_score: 0.408566\n",
      "[116]\tvalid_0's multi_logloss: 1.42265\tvalid_0's f1_score: 0.408393\n",
      "[117]\tvalid_0's multi_logloss: 1.42268\tvalid_0's f1_score: 0.408284\n",
      "[118]\tvalid_0's multi_logloss: 1.42252\tvalid_0's f1_score: 0.408313\n",
      "[119]\tvalid_0's multi_logloss: 1.42239\tvalid_0's f1_score: 0.408369\n",
      "[120]\tvalid_0's multi_logloss: 1.42242\tvalid_0's f1_score: 0.408158\n",
      "[121]\tvalid_0's multi_logloss: 1.42242\tvalid_0's f1_score: 0.408395\n",
      "[122]\tvalid_0's multi_logloss: 1.42233\tvalid_0's f1_score: 0.408273\n",
      "[123]\tvalid_0's multi_logloss: 1.42234\tvalid_0's f1_score: 0.408331\n",
      "[124]\tvalid_0's multi_logloss: 1.42231\tvalid_0's f1_score: 0.408421\n",
      "[125]\tvalid_0's multi_logloss: 1.42242\tvalid_0's f1_score: 0.408432\n",
      "[126]\tvalid_0's multi_logloss: 1.42244\tvalid_0's f1_score: 0.408702\n",
      "[127]\tvalid_0's multi_logloss: 1.42253\tvalid_0's f1_score: 0.408578\n",
      "[128]\tvalid_0's multi_logloss: 1.42254\tvalid_0's f1_score: 0.408354\n",
      "[129]\tvalid_0's multi_logloss: 1.42258\tvalid_0's f1_score: 0.408115\n",
      "[130]\tvalid_0's multi_logloss: 1.42253\tvalid_0's f1_score: 0.408141\n",
      "[131]\tvalid_0's multi_logloss: 1.42254\tvalid_0's f1_score: 0.408085\n",
      "[132]\tvalid_0's multi_logloss: 1.42257\tvalid_0's f1_score: 0.408109\n",
      "[133]\tvalid_0's multi_logloss: 1.42256\tvalid_0's f1_score: 0.408387\n",
      "[134]\tvalid_0's multi_logloss: 1.42265\tvalid_0's f1_score: 0.408614\n",
      "[135]\tvalid_0's multi_logloss: 1.42263\tvalid_0's f1_score: 0.40889\n",
      "[136]\tvalid_0's multi_logloss: 1.42259\tvalid_0's f1_score: 0.409064\n",
      "[137]\tvalid_0's multi_logloss: 1.42228\tvalid_0's f1_score: 0.409244\n",
      "[138]\tvalid_0's multi_logloss: 1.42241\tvalid_0's f1_score: 0.408958\n",
      "[139]\tvalid_0's multi_logloss: 1.42253\tvalid_0's f1_score: 0.409113\n",
      "[140]\tvalid_0's multi_logloss: 1.42253\tvalid_0's f1_score: 0.408978\n",
      "[141]\tvalid_0's multi_logloss: 1.42263\tvalid_0's f1_score: 0.408648\n",
      "[142]\tvalid_0's multi_logloss: 1.42261\tvalid_0's f1_score: 0.409059\n",
      "[143]\tvalid_0's multi_logloss: 1.42262\tvalid_0's f1_score: 0.40871\n",
      "[144]\tvalid_0's multi_logloss: 1.4226\tvalid_0's f1_score: 0.408572\n",
      "[145]\tvalid_0's multi_logloss: 1.42274\tvalid_0's f1_score: 0.408582\n",
      "[146]\tvalid_0's multi_logloss: 1.42279\tvalid_0's f1_score: 0.408828\n",
      "[147]\tvalid_0's multi_logloss: 1.42283\tvalid_0's f1_score: 0.408883\n",
      "[148]\tvalid_0's multi_logloss: 1.42287\tvalid_0's f1_score: 0.408947\n",
      "[149]\tvalid_0's multi_logloss: 1.42274\tvalid_0's f1_score: 0.408831\n",
      "[150]\tvalid_0's multi_logloss: 1.42276\tvalid_0's f1_score: 0.408629\n",
      "[151]\tvalid_0's multi_logloss: 1.42271\tvalid_0's f1_score: 0.408591\n",
      "[152]\tvalid_0's multi_logloss: 1.42274\tvalid_0's f1_score: 0.408571\n",
      "[153]\tvalid_0's multi_logloss: 1.42285\tvalid_0's f1_score: 0.408383\n",
      "[154]\tvalid_0's multi_logloss: 1.42286\tvalid_0's f1_score: 0.408511\n",
      "[155]\tvalid_0's multi_logloss: 1.42288\tvalid_0's f1_score: 0.408654\n",
      "[156]\tvalid_0's multi_logloss: 1.42293\tvalid_0's f1_score: 0.408682\n",
      "[157]\tvalid_0's multi_logloss: 1.42298\tvalid_0's f1_score: 0.40885\n",
      "[158]\tvalid_0's multi_logloss: 1.42293\tvalid_0's f1_score: 0.408959\n",
      "[159]\tvalid_0's multi_logloss: 1.42296\tvalid_0's f1_score: 0.408725\n",
      "[160]\tvalid_0's multi_logloss: 1.4229\tvalid_0's f1_score: 0.408716\n",
      "[161]\tvalid_0's multi_logloss: 1.42295\tvalid_0's f1_score: 0.408711\n",
      "[162]\tvalid_0's multi_logloss: 1.42297\tvalid_0's f1_score: 0.408956\n",
      "[163]\tvalid_0's multi_logloss: 1.42291\tvalid_0's f1_score: 0.408952\n",
      "[164]\tvalid_0's multi_logloss: 1.42299\tvalid_0's f1_score: 0.408747\n",
      "[165]\tvalid_0's multi_logloss: 1.42308\tvalid_0's f1_score: 0.408893\n",
      "[166]\tvalid_0's multi_logloss: 1.42321\tvalid_0's f1_score: 0.408714\n",
      "[167]\tvalid_0's multi_logloss: 1.42329\tvalid_0's f1_score: 0.408603\n",
      "[168]\tvalid_0's multi_logloss: 1.42334\tvalid_0's f1_score: 0.408574\n",
      "[169]\tvalid_0's multi_logloss: 1.42328\tvalid_0's f1_score: 0.408631\n",
      "[170]\tvalid_0's multi_logloss: 1.42334\tvalid_0's f1_score: 0.408597\n",
      "[171]\tvalid_0's multi_logloss: 1.42324\tvalid_0's f1_score: 0.408858\n",
      "[172]\tvalid_0's multi_logloss: 1.42328\tvalid_0's f1_score: 0.408916\n",
      "[173]\tvalid_0's multi_logloss: 1.4234\tvalid_0's f1_score: 0.408844\n",
      "[174]\tvalid_0's multi_logloss: 1.42343\tvalid_0's f1_score: 0.408978\n",
      "[175]\tvalid_0's multi_logloss: 1.42332\tvalid_0's f1_score: 0.40899\n",
      "[176]\tvalid_0's multi_logloss: 1.42333\tvalid_0's f1_score: 0.409157\n",
      "[177]\tvalid_0's multi_logloss: 1.42335\tvalid_0's f1_score: 0.409223\n",
      "[178]\tvalid_0's multi_logloss: 1.4237\tvalid_0's f1_score: 0.409011\n",
      "[179]\tvalid_0's multi_logloss: 1.42375\tvalid_0's f1_score: 0.408631\n",
      "[180]\tvalid_0's multi_logloss: 1.42366\tvalid_0's f1_score: 0.408778\n",
      "[181]\tvalid_0's multi_logloss: 1.42371\tvalid_0's f1_score: 0.408789\n",
      "[182]\tvalid_0's multi_logloss: 1.42381\tvalid_0's f1_score: 0.408474\n",
      "[183]\tvalid_0's multi_logloss: 1.42387\tvalid_0's f1_score: 0.408677\n",
      "[184]\tvalid_0's multi_logloss: 1.42397\tvalid_0's f1_score: 0.40871\n",
      "[185]\tvalid_0's multi_logloss: 1.42396\tvalid_0's f1_score: 0.408813\n",
      "[186]\tvalid_0's multi_logloss: 1.42386\tvalid_0's f1_score: 0.408862\n",
      "[187]\tvalid_0's multi_logloss: 1.4239\tvalid_0's f1_score: 0.408896\n",
      "[188]\tvalid_0's multi_logloss: 1.42384\tvalid_0's f1_score: 0.408808\n",
      "[189]\tvalid_0's multi_logloss: 1.42378\tvalid_0's f1_score: 0.408788\n",
      "[190]\tvalid_0's multi_logloss: 1.42371\tvalid_0's f1_score: 0.408872\n",
      "[191]\tvalid_0's multi_logloss: 1.42372\tvalid_0's f1_score: 0.408782\n",
      "[192]\tvalid_0's multi_logloss: 1.42374\tvalid_0's f1_score: 0.40886\n",
      "[193]\tvalid_0's multi_logloss: 1.42368\tvalid_0's f1_score: 0.408778\n",
      "[194]\tvalid_0's multi_logloss: 1.42359\tvalid_0's f1_score: 0.408659\n",
      "[195]\tvalid_0's multi_logloss: 1.42349\tvalid_0's f1_score: 0.408677\n",
      "[196]\tvalid_0's multi_logloss: 1.42348\tvalid_0's f1_score: 0.408671\n",
      "[197]\tvalid_0's multi_logloss: 1.42364\tvalid_0's f1_score: 0.40869\n",
      "[198]\tvalid_0's multi_logloss: 1.42369\tvalid_0's f1_score: 0.408707\n",
      "[199]\tvalid_0's multi_logloss: 1.42368\tvalid_0's f1_score: 0.408644\n",
      "[200]\tvalid_0's multi_logloss: 1.42367\tvalid_0's f1_score: 0.408705\n",
      "[201]\tvalid_0's multi_logloss: 1.4236\tvalid_0's f1_score: 0.408574\n",
      "[202]\tvalid_0's multi_logloss: 1.42358\tvalid_0's f1_score: 0.408522\n",
      "[203]\tvalid_0's multi_logloss: 1.42355\tvalid_0's f1_score: 0.40865\n",
      "[204]\tvalid_0's multi_logloss: 1.42353\tvalid_0's f1_score: 0.408932\n",
      "[205]\tvalid_0's multi_logloss: 1.42353\tvalid_0's f1_score: 0.408959\n",
      "[206]\tvalid_0's multi_logloss: 1.42361\tvalid_0's f1_score: 0.408933\n",
      "[207]\tvalid_0's multi_logloss: 1.42358\tvalid_0's f1_score: 0.408626\n",
      "[208]\tvalid_0's multi_logloss: 1.42361\tvalid_0's f1_score: 0.408752\n",
      "[209]\tvalid_0's multi_logloss: 1.42357\tvalid_0's f1_score: 0.408697\n",
      "[210]\tvalid_0's multi_logloss: 1.4237\tvalid_0's f1_score: 0.408573\n",
      "[211]\tvalid_0's multi_logloss: 1.42373\tvalid_0's f1_score: 0.408534\n",
      "[212]\tvalid_0's multi_logloss: 1.42375\tvalid_0's f1_score: 0.408694\n",
      "[213]\tvalid_0's multi_logloss: 1.42378\tvalid_0's f1_score: 0.408615\n",
      "[214]\tvalid_0's multi_logloss: 1.4238\tvalid_0's f1_score: 0.408637\n",
      "[215]\tvalid_0's multi_logloss: 1.4237\tvalid_0's f1_score: 0.408541\n",
      "[216]\tvalid_0's multi_logloss: 1.42372\tvalid_0's f1_score: 0.408617\n",
      "[217]\tvalid_0's multi_logloss: 1.4237\tvalid_0's f1_score: 0.408593\n",
      "[218]\tvalid_0's multi_logloss: 1.42361\tvalid_0's f1_score: 0.408527\n",
      "[219]\tvalid_0's multi_logloss: 1.42367\tvalid_0's f1_score: 0.408573\n",
      "[220]\tvalid_0's multi_logloss: 1.4237\tvalid_0's f1_score: 0.408564\n",
      "[221]\tvalid_0's multi_logloss: 1.42379\tvalid_0's f1_score: 0.408627\n",
      "[222]\tvalid_0's multi_logloss: 1.42389\tvalid_0's f1_score: 0.408436\n",
      "[223]\tvalid_0's multi_logloss: 1.42387\tvalid_0's f1_score: 0.408706\n",
      "[224]\tvalid_0's multi_logloss: 1.42384\tvalid_0's f1_score: 0.408691\n",
      "[225]\tvalid_0's multi_logloss: 1.42386\tvalid_0's f1_score: 0.408845\n",
      "[226]\tvalid_0's multi_logloss: 1.42386\tvalid_0's f1_score: 0.408762\n",
      "[227]\tvalid_0's multi_logloss: 1.42383\tvalid_0's f1_score: 0.408849\n",
      "[228]\tvalid_0's multi_logloss: 1.42383\tvalid_0's f1_score: 0.409086\n",
      "[229]\tvalid_0's multi_logloss: 1.42376\tvalid_0's f1_score: 0.408886\n",
      "[230]\tvalid_0's multi_logloss: 1.42378\tvalid_0's f1_score: 0.40872\n",
      "[231]\tvalid_0's multi_logloss: 1.42379\tvalid_0's f1_score: 0.408753\n",
      "[232]\tvalid_0's multi_logloss: 1.42381\tvalid_0's f1_score: 0.40864\n",
      "[233]\tvalid_0's multi_logloss: 1.424\tvalid_0's f1_score: 0.408616\n",
      "[234]\tvalid_0's multi_logloss: 1.42401\tvalid_0's f1_score: 0.408435\n",
      "[235]\tvalid_0's multi_logloss: 1.42409\tvalid_0's f1_score: 0.40847\n",
      "[236]\tvalid_0's multi_logloss: 1.42411\tvalid_0's f1_score: 0.408385\n",
      "[237]\tvalid_0's multi_logloss: 1.42422\tvalid_0's f1_score: 0.408481\n",
      "Early stopping, best iteration is:\n",
      "[137]\tvalid_0's multi_logloss: 1.42228\tvalid_0's f1_score: 0.409244\n",
      "0.40924425495711514\n",
      "[LightGBM] [Warning] Accuracy may be bad since you didn't explicitly set num_leaves OR 2^max_depth > num_leaves. (num_leaves=31).\n",
      "[1]\tvalid_0's multi_logloss: 1.84069\tvalid_0's f1_score: 0.212594\n",
      "Training until validation scores don't improve for 100 rounds\n",
      "[2]\tvalid_0's multi_logloss: 1.75544\tvalid_0's f1_score: 0.336694\n",
      "[3]\tvalid_0's multi_logloss: 1.69359\tvalid_0's f1_score: 0.370908\n",
      "[4]\tvalid_0's multi_logloss: 1.64669\tvalid_0's f1_score: 0.386114\n",
      "[5]\tvalid_0's multi_logloss: 1.60959\tvalid_0's f1_score: 0.39336\n",
      "[6]\tvalid_0's multi_logloss: 1.57973\tvalid_0's f1_score: 0.397294\n",
      "[7]\tvalid_0's multi_logloss: 1.55582\tvalid_0's f1_score: 0.399704\n",
      "[8]\tvalid_0's multi_logloss: 1.53655\tvalid_0's f1_score: 0.402023\n",
      "[9]\tvalid_0's multi_logloss: 1.5208\tvalid_0's f1_score: 0.403172\n",
      "[10]\tvalid_0's multi_logloss: 1.50762\tvalid_0's f1_score: 0.404833\n",
      "[11]\tvalid_0's multi_logloss: 1.49654\tvalid_0's f1_score: 0.404862\n",
      "[12]\tvalid_0's multi_logloss: 1.48741\tvalid_0's f1_score: 0.405197\n",
      "[13]\tvalid_0's multi_logloss: 1.47972\tvalid_0's f1_score: 0.405765\n",
      "[14]\tvalid_0's multi_logloss: 1.47352\tvalid_0's f1_score: 0.405174\n",
      "[15]\tvalid_0's multi_logloss: 1.46784\tvalid_0's f1_score: 0.406102\n",
      "[16]\tvalid_0's multi_logloss: 1.46307\tvalid_0's f1_score: 0.405739\n",
      "[17]\tvalid_0's multi_logloss: 1.45885\tvalid_0's f1_score: 0.405571\n",
      "[18]\tvalid_0's multi_logloss: 1.45528\tvalid_0's f1_score: 0.406039\n",
      "[19]\tvalid_0's multi_logloss: 1.45224\tvalid_0's f1_score: 0.406357\n",
      "[20]\tvalid_0's multi_logloss: 1.44928\tvalid_0's f1_score: 0.406533\n",
      "[21]\tvalid_0's multi_logloss: 1.44695\tvalid_0's f1_score: 0.406265\n",
      "[22]\tvalid_0's multi_logloss: 1.44527\tvalid_0's f1_score: 0.406081\n",
      "[23]\tvalid_0's multi_logloss: 1.44365\tvalid_0's f1_score: 0.405671\n",
      "[24]\tvalid_0's multi_logloss: 1.44172\tvalid_0's f1_score: 0.405969\n",
      "[25]\tvalid_0's multi_logloss: 1.4401\tvalid_0's f1_score: 0.406033\n",
      "[26]\tvalid_0's multi_logloss: 1.43845\tvalid_0's f1_score: 0.405998\n",
      "[27]\tvalid_0's multi_logloss: 1.43736\tvalid_0's f1_score: 0.406091\n",
      "[28]\tvalid_0's multi_logloss: 1.43645\tvalid_0's f1_score: 0.405943\n",
      "[29]\tvalid_0's multi_logloss: 1.43536\tvalid_0's f1_score: 0.40584\n",
      "[30]\tvalid_0's multi_logloss: 1.43468\tvalid_0's f1_score: 0.405763\n",
      "[31]\tvalid_0's multi_logloss: 1.43359\tvalid_0's f1_score: 0.40586\n",
      "[32]\tvalid_0's multi_logloss: 1.43299\tvalid_0's f1_score: 0.405342\n",
      "[33]\tvalid_0's multi_logloss: 1.43221\tvalid_0's f1_score: 0.405916\n",
      "[34]\tvalid_0's multi_logloss: 1.43158\tvalid_0's f1_score: 0.406065\n",
      "[35]\tvalid_0's multi_logloss: 1.43091\tvalid_0's f1_score: 0.406277\n",
      "[36]\tvalid_0's multi_logloss: 1.4303\tvalid_0's f1_score: 0.40626\n",
      "[37]\tvalid_0's multi_logloss: 1.42985\tvalid_0's f1_score: 0.405967\n",
      "[38]\tvalid_0's multi_logloss: 1.42936\tvalid_0's f1_score: 0.406144\n",
      "[39]\tvalid_0's multi_logloss: 1.42911\tvalid_0's f1_score: 0.406135\n",
      "[40]\tvalid_0's multi_logloss: 1.42835\tvalid_0's f1_score: 0.406078\n",
      "[41]\tvalid_0's multi_logloss: 1.42774\tvalid_0's f1_score: 0.40646\n",
      "[42]\tvalid_0's multi_logloss: 1.42742\tvalid_0's f1_score: 0.406553\n",
      "[43]\tvalid_0's multi_logloss: 1.42718\tvalid_0's f1_score: 0.406531\n",
      "[44]\tvalid_0's multi_logloss: 1.42712\tvalid_0's f1_score: 0.406538\n",
      "[45]\tvalid_0's multi_logloss: 1.42683\tvalid_0's f1_score: 0.406233\n",
      "[46]\tvalid_0's multi_logloss: 1.42678\tvalid_0's f1_score: 0.406217\n",
      "[47]\tvalid_0's multi_logloss: 1.42667\tvalid_0's f1_score: 0.40699\n",
      "[48]\tvalid_0's multi_logloss: 1.42611\tvalid_0's f1_score: 0.406664\n",
      "[49]\tvalid_0's multi_logloss: 1.42613\tvalid_0's f1_score: 0.406795\n",
      "[50]\tvalid_0's multi_logloss: 1.42603\tvalid_0's f1_score: 0.407018\n",
      "[51]\tvalid_0's multi_logloss: 1.42581\tvalid_0's f1_score: 0.40668\n",
      "[52]\tvalid_0's multi_logloss: 1.42609\tvalid_0's f1_score: 0.406613\n",
      "[53]\tvalid_0's multi_logloss: 1.42614\tvalid_0's f1_score: 0.406995\n",
      "[54]\tvalid_0's multi_logloss: 1.42598\tvalid_0's f1_score: 0.407041\n",
      "[55]\tvalid_0's multi_logloss: 1.42584\tvalid_0's f1_score: 0.407234\n",
      "[56]\tvalid_0's multi_logloss: 1.42575\tvalid_0's f1_score: 0.407079\n",
      "[57]\tvalid_0's multi_logloss: 1.42552\tvalid_0's f1_score: 0.407166\n",
      "[58]\tvalid_0's multi_logloss: 1.4251\tvalid_0's f1_score: 0.407302\n",
      "[59]\tvalid_0's multi_logloss: 1.42528\tvalid_0's f1_score: 0.40739\n",
      "[60]\tvalid_0's multi_logloss: 1.42521\tvalid_0's f1_score: 0.407586\n",
      "[61]\tvalid_0's multi_logloss: 1.4251\tvalid_0's f1_score: 0.407433\n",
      "[62]\tvalid_0's multi_logloss: 1.42505\tvalid_0's f1_score: 0.407677\n",
      "[63]\tvalid_0's multi_logloss: 1.42461\tvalid_0's f1_score: 0.407474\n",
      "[64]\tvalid_0's multi_logloss: 1.42439\tvalid_0's f1_score: 0.407527\n",
      "[65]\tvalid_0's multi_logloss: 1.42419\tvalid_0's f1_score: 0.407651\n",
      "[66]\tvalid_0's multi_logloss: 1.42408\tvalid_0's f1_score: 0.407527\n",
      "[67]\tvalid_0's multi_logloss: 1.42391\tvalid_0's f1_score: 0.407529\n",
      "[68]\tvalid_0's multi_logloss: 1.42389\tvalid_0's f1_score: 0.407516\n",
      "[69]\tvalid_0's multi_logloss: 1.42374\tvalid_0's f1_score: 0.407772\n",
      "[70]\tvalid_0's multi_logloss: 1.42348\tvalid_0's f1_score: 0.407542\n",
      "[71]\tvalid_0's multi_logloss: 1.42351\tvalid_0's f1_score: 0.407553\n",
      "[72]\tvalid_0's multi_logloss: 1.4232\tvalid_0's f1_score: 0.407387\n",
      "[73]\tvalid_0's multi_logloss: 1.42306\tvalid_0's f1_score: 0.407379\n",
      "[74]\tvalid_0's multi_logloss: 1.42319\tvalid_0's f1_score: 0.407457\n",
      "[75]\tvalid_0's multi_logloss: 1.42316\tvalid_0's f1_score: 0.407002\n",
      "[76]\tvalid_0's multi_logloss: 1.4231\tvalid_0's f1_score: 0.407335\n",
      "[77]\tvalid_0's multi_logloss: 1.42318\tvalid_0's f1_score: 0.407342\n",
      "[78]\tvalid_0's multi_logloss: 1.42302\tvalid_0's f1_score: 0.406879\n",
      "[79]\tvalid_0's multi_logloss: 1.42308\tvalid_0's f1_score: 0.406859\n",
      "[80]\tvalid_0's multi_logloss: 1.42294\tvalid_0's f1_score: 0.406839\n",
      "[81]\tvalid_0's multi_logloss: 1.42281\tvalid_0's f1_score: 0.407131\n",
      "[82]\tvalid_0's multi_logloss: 1.42266\tvalid_0's f1_score: 0.407011\n",
      "[83]\tvalid_0's multi_logloss: 1.42235\tvalid_0's f1_score: 0.406938\n",
      "[84]\tvalid_0's multi_logloss: 1.42232\tvalid_0's f1_score: 0.406842\n",
      "[85]\tvalid_0's multi_logloss: 1.42243\tvalid_0's f1_score: 0.406914\n",
      "[86]\tvalid_0's multi_logloss: 1.42229\tvalid_0's f1_score: 0.40681\n",
      "[87]\tvalid_0's multi_logloss: 1.42221\tvalid_0's f1_score: 0.406809\n",
      "[88]\tvalid_0's multi_logloss: 1.4223\tvalid_0's f1_score: 0.406815\n",
      "[89]\tvalid_0's multi_logloss: 1.42226\tvalid_0's f1_score: 0.406883\n",
      "[90]\tvalid_0's multi_logloss: 1.42204\tvalid_0's f1_score: 0.40714\n",
      "[91]\tvalid_0's multi_logloss: 1.42192\tvalid_0's f1_score: 0.407452\n",
      "[92]\tvalid_0's multi_logloss: 1.42187\tvalid_0's f1_score: 0.40716\n",
      "[93]\tvalid_0's multi_logloss: 1.42179\tvalid_0's f1_score: 0.407234\n",
      "[94]\tvalid_0's multi_logloss: 1.42168\tvalid_0's f1_score: 0.407254\n",
      "[95]\tvalid_0's multi_logloss: 1.42162\tvalid_0's f1_score: 0.407075\n",
      "[96]\tvalid_0's multi_logloss: 1.42154\tvalid_0's f1_score: 0.407289\n",
      "[97]\tvalid_0's multi_logloss: 1.42156\tvalid_0's f1_score: 0.407782\n",
      "[98]\tvalid_0's multi_logloss: 1.42137\tvalid_0's f1_score: 0.407426\n",
      "[99]\tvalid_0's multi_logloss: 1.42135\tvalid_0's f1_score: 0.407225\n",
      "[100]\tvalid_0's multi_logloss: 1.42131\tvalid_0's f1_score: 0.407207\n",
      "[101]\tvalid_0's multi_logloss: 1.42115\tvalid_0's f1_score: 0.407358\n",
      "[102]\tvalid_0's multi_logloss: 1.42116\tvalid_0's f1_score: 0.407277\n",
      "[103]\tvalid_0's multi_logloss: 1.4211\tvalid_0's f1_score: 0.407369\n",
      "[104]\tvalid_0's multi_logloss: 1.42102\tvalid_0's f1_score: 0.407657\n",
      "[105]\tvalid_0's multi_logloss: 1.42094\tvalid_0's f1_score: 0.407624\n",
      "[106]\tvalid_0's multi_logloss: 1.42087\tvalid_0's f1_score: 0.407238\n",
      "[107]\tvalid_0's multi_logloss: 1.42088\tvalid_0's f1_score: 0.407493\n",
      "[108]\tvalid_0's multi_logloss: 1.42094\tvalid_0's f1_score: 0.407438\n",
      "[109]\tvalid_0's multi_logloss: 1.42083\tvalid_0's f1_score: 0.407521\n",
      "[110]\tvalid_0's multi_logloss: 1.42077\tvalid_0's f1_score: 0.407945\n",
      "[111]\tvalid_0's multi_logloss: 1.42074\tvalid_0's f1_score: 0.407979\n",
      "[112]\tvalid_0's multi_logloss: 1.42086\tvalid_0's f1_score: 0.407859\n",
      "[113]\tvalid_0's multi_logloss: 1.42089\tvalid_0's f1_score: 0.408119\n",
      "[114]\tvalid_0's multi_logloss: 1.42092\tvalid_0's f1_score: 0.408234\n",
      "[115]\tvalid_0's multi_logloss: 1.42092\tvalid_0's f1_score: 0.408229\n",
      "[116]\tvalid_0's multi_logloss: 1.4209\tvalid_0's f1_score: 0.408284\n",
      "[117]\tvalid_0's multi_logloss: 1.42096\tvalid_0's f1_score: 0.408499\n",
      "[118]\tvalid_0's multi_logloss: 1.42094\tvalid_0's f1_score: 0.40842\n",
      "[119]\tvalid_0's multi_logloss: 1.42084\tvalid_0's f1_score: 0.408195\n",
      "[120]\tvalid_0's multi_logloss: 1.42092\tvalid_0's f1_score: 0.408184\n",
      "[121]\tvalid_0's multi_logloss: 1.42091\tvalid_0's f1_score: 0.408126\n",
      "[122]\tvalid_0's multi_logloss: 1.42098\tvalid_0's f1_score: 0.408188\n",
      "[123]\tvalid_0's multi_logloss: 1.42102\tvalid_0's f1_score: 0.408205\n",
      "[124]\tvalid_0's multi_logloss: 1.42088\tvalid_0's f1_score: 0.408045\n",
      "[125]\tvalid_0's multi_logloss: 1.42086\tvalid_0's f1_score: 0.408216\n",
      "[126]\tvalid_0's multi_logloss: 1.42085\tvalid_0's f1_score: 0.408288\n",
      "[127]\tvalid_0's multi_logloss: 1.42086\tvalid_0's f1_score: 0.408408\n",
      "[128]\tvalid_0's multi_logloss: 1.42077\tvalid_0's f1_score: 0.408384\n",
      "[129]\tvalid_0's multi_logloss: 1.42075\tvalid_0's f1_score: 0.408166\n",
      "[130]\tvalid_0's multi_logloss: 1.42072\tvalid_0's f1_score: 0.408181\n",
      "[131]\tvalid_0's multi_logloss: 1.42059\tvalid_0's f1_score: 0.407965\n",
      "[132]\tvalid_0's multi_logloss: 1.4206\tvalid_0's f1_score: 0.408178\n",
      "[133]\tvalid_0's multi_logloss: 1.42049\tvalid_0's f1_score: 0.40828\n",
      "[134]\tvalid_0's multi_logloss: 1.42042\tvalid_0's f1_score: 0.408421\n",
      "[135]\tvalid_0's multi_logloss: 1.42065\tvalid_0's f1_score: 0.408311\n",
      "[136]\tvalid_0's multi_logloss: 1.42068\tvalid_0's f1_score: 0.408265\n",
      "[137]\tvalid_0's multi_logloss: 1.42066\tvalid_0's f1_score: 0.408106\n",
      "[138]\tvalid_0's multi_logloss: 1.42065\tvalid_0's f1_score: 0.408595\n",
      "[139]\tvalid_0's multi_logloss: 1.42053\tvalid_0's f1_score: 0.408522\n",
      "[140]\tvalid_0's multi_logloss: 1.42063\tvalid_0's f1_score: 0.408391\n",
      "[141]\tvalid_0's multi_logloss: 1.42062\tvalid_0's f1_score: 0.40818\n",
      "[142]\tvalid_0's multi_logloss: 1.42055\tvalid_0's f1_score: 0.408092\n",
      "[143]\tvalid_0's multi_logloss: 1.42038\tvalid_0's f1_score: 0.408316\n",
      "[144]\tvalid_0's multi_logloss: 1.42032\tvalid_0's f1_score: 0.408186\n",
      "[145]\tvalid_0's multi_logloss: 1.42039\tvalid_0's f1_score: 0.408365\n",
      "[146]\tvalid_0's multi_logloss: 1.42037\tvalid_0's f1_score: 0.408505\n",
      "[147]\tvalid_0's multi_logloss: 1.42044\tvalid_0's f1_score: 0.408583\n",
      "[148]\tvalid_0's multi_logloss: 1.4204\tvalid_0's f1_score: 0.408603\n",
      "[149]\tvalid_0's multi_logloss: 1.42033\tvalid_0's f1_score: 0.408614\n",
      "[150]\tvalid_0's multi_logloss: 1.42028\tvalid_0's f1_score: 0.4088\n",
      "[151]\tvalid_0's multi_logloss: 1.42026\tvalid_0's f1_score: 0.408562\n",
      "[152]\tvalid_0's multi_logloss: 1.42027\tvalid_0's f1_score: 0.408744\n",
      "[153]\tvalid_0's multi_logloss: 1.42031\tvalid_0's f1_score: 0.408687\n",
      "[154]\tvalid_0's multi_logloss: 1.42041\tvalid_0's f1_score: 0.40883\n",
      "[155]\tvalid_0's multi_logloss: 1.42043\tvalid_0's f1_score: 0.408942\n",
      "[156]\tvalid_0's multi_logloss: 1.42035\tvalid_0's f1_score: 0.40907\n",
      "[157]\tvalid_0's multi_logloss: 1.42046\tvalid_0's f1_score: 0.40928\n",
      "[158]\tvalid_0's multi_logloss: 1.42046\tvalid_0's f1_score: 0.409387\n",
      "[159]\tvalid_0's multi_logloss: 1.42063\tvalid_0's f1_score: 0.409395\n",
      "[160]\tvalid_0's multi_logloss: 1.42069\tvalid_0's f1_score: 0.409118\n",
      "[161]\tvalid_0's multi_logloss: 1.42062\tvalid_0's f1_score: 0.409009\n",
      "[162]\tvalid_0's multi_logloss: 1.42053\tvalid_0's f1_score: 0.409102\n",
      "[163]\tvalid_0's multi_logloss: 1.42051\tvalid_0's f1_score: 0.409112\n",
      "[164]\tvalid_0's multi_logloss: 1.42063\tvalid_0's f1_score: 0.40934\n",
      "[165]\tvalid_0's multi_logloss: 1.42062\tvalid_0's f1_score: 0.409237\n",
      "[166]\tvalid_0's multi_logloss: 1.42059\tvalid_0's f1_score: 0.409183\n",
      "[167]\tvalid_0's multi_logloss: 1.42051\tvalid_0's f1_score: 0.409169\n",
      "[168]\tvalid_0's multi_logloss: 1.42053\tvalid_0's f1_score: 0.408938\n",
      "[169]\tvalid_0's multi_logloss: 1.4205\tvalid_0's f1_score: 0.408767\n",
      "[170]\tvalid_0's multi_logloss: 1.42044\tvalid_0's f1_score: 0.408985\n",
      "[171]\tvalid_0's multi_logloss: 1.4204\tvalid_0's f1_score: 0.409043\n",
      "[172]\tvalid_0's multi_logloss: 1.42037\tvalid_0's f1_score: 0.409007\n",
      "[173]\tvalid_0's multi_logloss: 1.42033\tvalid_0's f1_score: 0.408741\n",
      "[174]\tvalid_0's multi_logloss: 1.42042\tvalid_0's f1_score: 0.408579\n",
      "[175]\tvalid_0's multi_logloss: 1.42044\tvalid_0's f1_score: 0.408505\n",
      "[176]\tvalid_0's multi_logloss: 1.42043\tvalid_0's f1_score: 0.408569\n",
      "[177]\tvalid_0's multi_logloss: 1.42049\tvalid_0's f1_score: 0.408422\n",
      "[178]\tvalid_0's multi_logloss: 1.42052\tvalid_0's f1_score: 0.408322\n",
      "[179]\tvalid_0's multi_logloss: 1.4204\tvalid_0's f1_score: 0.408371\n",
      "[180]\tvalid_0's multi_logloss: 1.4204\tvalid_0's f1_score: 0.40845\n",
      "[181]\tvalid_0's multi_logloss: 1.42036\tvalid_0's f1_score: 0.408643\n",
      "[182]\tvalid_0's multi_logloss: 1.42041\tvalid_0's f1_score: 0.408682\n",
      "[183]\tvalid_0's multi_logloss: 1.42039\tvalid_0's f1_score: 0.408679\n",
      "[184]\tvalid_0's multi_logloss: 1.4204\tvalid_0's f1_score: 0.408681\n",
      "[185]\tvalid_0's multi_logloss: 1.42054\tvalid_0's f1_score: 0.408597\n",
      "[186]\tvalid_0's multi_logloss: 1.42055\tvalid_0's f1_score: 0.408507\n",
      "[187]\tvalid_0's multi_logloss: 1.42057\tvalid_0's f1_score: 0.40854\n",
      "[188]\tvalid_0's multi_logloss: 1.42058\tvalid_0's f1_score: 0.408643\n",
      "[189]\tvalid_0's multi_logloss: 1.42062\tvalid_0's f1_score: 0.408769\n",
      "[190]\tvalid_0's multi_logloss: 1.42067\tvalid_0's f1_score: 0.408811\n",
      "[191]\tvalid_0's multi_logloss: 1.42062\tvalid_0's f1_score: 0.408891\n",
      "[192]\tvalid_0's multi_logloss: 1.42063\tvalid_0's f1_score: 0.408692\n",
      "[193]\tvalid_0's multi_logloss: 1.42056\tvalid_0's f1_score: 0.408868\n",
      "[194]\tvalid_0's multi_logloss: 1.42063\tvalid_0's f1_score: 0.408809\n",
      "[195]\tvalid_0's multi_logloss: 1.42069\tvalid_0's f1_score: 0.408551\n",
      "[196]\tvalid_0's multi_logloss: 1.42063\tvalid_0's f1_score: 0.408616\n",
      "[197]\tvalid_0's multi_logloss: 1.4206\tvalid_0's f1_score: 0.40865\n",
      "[198]\tvalid_0's multi_logloss: 1.42049\tvalid_0's f1_score: 0.408608\n",
      "[199]\tvalid_0's multi_logloss: 1.42057\tvalid_0's f1_score: 0.408492\n",
      "[200]\tvalid_0's multi_logloss: 1.42047\tvalid_0's f1_score: 0.408639\n",
      "[201]\tvalid_0's multi_logloss: 1.42042\tvalid_0's f1_score: 0.408823\n",
      "[202]\tvalid_0's multi_logloss: 1.42039\tvalid_0's f1_score: 0.408793\n",
      "[203]\tvalid_0's multi_logloss: 1.42049\tvalid_0's f1_score: 0.408794\n",
      "[204]\tvalid_0's multi_logloss: 1.42047\tvalid_0's f1_score: 0.408567\n",
      "[205]\tvalid_0's multi_logloss: 1.42051\tvalid_0's f1_score: 0.408688\n",
      "[206]\tvalid_0's multi_logloss: 1.42042\tvalid_0's f1_score: 0.408721\n",
      "[207]\tvalid_0's multi_logloss: 1.42034\tvalid_0's f1_score: 0.408555\n",
      "[208]\tvalid_0's multi_logloss: 1.4204\tvalid_0's f1_score: 0.408281\n",
      "[209]\tvalid_0's multi_logloss: 1.4204\tvalid_0's f1_score: 0.408233\n",
      "[210]\tvalid_0's multi_logloss: 1.42044\tvalid_0's f1_score: 0.408174\n",
      "[211]\tvalid_0's multi_logloss: 1.42044\tvalid_0's f1_score: 0.40834\n",
      "[212]\tvalid_0's multi_logloss: 1.42041\tvalid_0's f1_score: 0.4084\n",
      "[213]\tvalid_0's multi_logloss: 1.42037\tvalid_0's f1_score: 0.408283\n",
      "[214]\tvalid_0's multi_logloss: 1.42026\tvalid_0's f1_score: 0.408565\n",
      "[215]\tvalid_0's multi_logloss: 1.42057\tvalid_0's f1_score: 0.408554\n",
      "[216]\tvalid_0's multi_logloss: 1.42066\tvalid_0's f1_score: 0.408506\n",
      "[217]\tvalid_0's multi_logloss: 1.42068\tvalid_0's f1_score: 0.408573\n",
      "[218]\tvalid_0's multi_logloss: 1.4205\tvalid_0's f1_score: 0.408726\n",
      "[219]\tvalid_0's multi_logloss: 1.42051\tvalid_0's f1_score: 0.408744\n",
      "[220]\tvalid_0's multi_logloss: 1.4203\tvalid_0's f1_score: 0.408679\n",
      "[221]\tvalid_0's multi_logloss: 1.42025\tvalid_0's f1_score: 0.408553\n",
      "[222]\tvalid_0's multi_logloss: 1.42011\tvalid_0's f1_score: 0.408566\n",
      "[223]\tvalid_0's multi_logloss: 1.42018\tvalid_0's f1_score: 0.408557\n",
      "[224]\tvalid_0's multi_logloss: 1.4201\tvalid_0's f1_score: 0.40879\n",
      "[225]\tvalid_0's multi_logloss: 1.42009\tvalid_0's f1_score: 0.408716\n",
      "[226]\tvalid_0's multi_logloss: 1.42009\tvalid_0's f1_score: 0.40871\n",
      "[227]\tvalid_0's multi_logloss: 1.4202\tvalid_0's f1_score: 0.408537\n",
      "[228]\tvalid_0's multi_logloss: 1.42023\tvalid_0's f1_score: 0.408575\n",
      "[229]\tvalid_0's multi_logloss: 1.42013\tvalid_0's f1_score: 0.408345\n",
      "[230]\tvalid_0's multi_logloss: 1.42031\tvalid_0's f1_score: 0.40854\n",
      "[231]\tvalid_0's multi_logloss: 1.4203\tvalid_0's f1_score: 0.408641\n",
      "[232]\tvalid_0's multi_logloss: 1.42034\tvalid_0's f1_score: 0.40855\n",
      "[233]\tvalid_0's multi_logloss: 1.42033\tvalid_0's f1_score: 0.408608\n",
      "[234]\tvalid_0's multi_logloss: 1.42032\tvalid_0's f1_score: 0.408784\n",
      "[235]\tvalid_0's multi_logloss: 1.42033\tvalid_0's f1_score: 0.408993\n",
      "[236]\tvalid_0's multi_logloss: 1.42039\tvalid_0's f1_score: 0.409013\n",
      "[237]\tvalid_0's multi_logloss: 1.42037\tvalid_0's f1_score: 0.409026\n",
      "[238]\tvalid_0's multi_logloss: 1.42027\tvalid_0's f1_score: 0.408883\n",
      "[239]\tvalid_0's multi_logloss: 1.42021\tvalid_0's f1_score: 0.40897\n",
      "[240]\tvalid_0's multi_logloss: 1.42023\tvalid_0's f1_score: 0.408905\n",
      "[241]\tvalid_0's multi_logloss: 1.42027\tvalid_0's f1_score: 0.409026\n",
      "[242]\tvalid_0's multi_logloss: 1.42019\tvalid_0's f1_score: 0.408662\n",
      "[243]\tvalid_0's multi_logloss: 1.4202\tvalid_0's f1_score: 0.408653\n",
      "[244]\tvalid_0's multi_logloss: 1.42023\tvalid_0's f1_score: 0.408749\n",
      "[245]\tvalid_0's multi_logloss: 1.42018\tvalid_0's f1_score: 0.408661\n",
      "[246]\tvalid_0's multi_logloss: 1.42024\tvalid_0's f1_score: 0.408852\n",
      "[247]\tvalid_0's multi_logloss: 1.42032\tvalid_0's f1_score: 0.408835\n",
      "[248]\tvalid_0's multi_logloss: 1.42055\tvalid_0's f1_score: 0.408837\n",
      "[249]\tvalid_0's multi_logloss: 1.42053\tvalid_0's f1_score: 0.408845\n",
      "[250]\tvalid_0's multi_logloss: 1.42054\tvalid_0's f1_score: 0.409001\n",
      "Did not meet early stopping. Best iteration is:\n",
      "[225]\tvalid_0's multi_logloss: 1.42009\tvalid_0's f1_score: 0.408716\n",
      "0.40871649472488764\n"
     ]
    }
   ],
   "source": [
    "models, metrics = get_model_est_features_enc(lgbm, f1_score, train_df_less[atrs], train_df_less['multi_class_target'], test_df[atrs], test_df['multi_class_target'])"
   ]
  },
  {
   "cell_type": "code",
   "execution_count": 167,
   "metadata": {},
   "outputs": [],
   "source": [
    "predicts = models[0].predict_proba(submit_df[atrs])"
   ]
  },
  {
   "cell_type": "code",
   "execution_count": 168,
   "metadata": {},
   "outputs": [
    {
     "name": "stdout",
     "output_type": "stream",
     "text": [
      "(79268, 10)\n",
      "(79268, 10)\n",
      "(79268, 10)\n",
      "(79268, 10)\n"
     ]
    }
   ],
   "source": [
    "for i in range(1, 5):\n",
    "    print(predicts.shape)\n",
    "    predicts += models[i].predict_proba(submit_df[atrs])"
   ]
  },
  {
   "cell_type": "code",
   "execution_count": 170,
   "metadata": {},
   "outputs": [],
   "source": [
    "submit_df['prediction'] = models[0].classes_[predicts.argmax(axis=-1)]"
   ]
  },
  {
   "cell_type": "code",
   "execution_count": 171,
   "metadata": {},
   "outputs": [],
   "source": [
    "submit_df[['client_pin', 'prediction']].to_csv('ensemble.csv', index=False)"
   ]
  },
  {
   "cell_type": "markdown",
   "metadata": {},
   "source": [
    "### Линейная регрессия"
   ]
  },
  {
   "cell_type": "code",
   "execution_count": 2526,
   "metadata": {},
   "outputs": [],
   "source": [
    "from sklearn.linear_model import LogisticRegression\n",
    "from sklearn.preprocessing import LabelEncoder\n",
    "\n",
    "import pickle"
   ]
  },
  {
   "cell_type": "code",
   "execution_count": 2527,
   "metadata": {},
   "outputs": [],
   "source": [
    "# clf = LogisticRegression()"
   ]
  },
  {
   "cell_type": "code",
   "execution_count": 2528,
   "metadata": {},
   "outputs": [],
   "source": [
    "dict_cols_categ = pickle.load(open('dict_usefull_ctgrs','rb'))"
   ]
  },
  {
   "cell_type": "code",
   "execution_count": 2529,
   "metadata": {},
   "outputs": [],
   "source": [
    "from category_encoders.wrapper import PolynomialWrapper\n",
    "from category_encoders import *\n",
    "\n",
    "def get_target_encoder(df, cols, target):\n",
    "    enc = TargetEncoder(cols=cols_to_encode)\n",
    "    wrapper = PolynomialWrapper(enc)\n",
    "    \n",
    "    wrapper.fit(ecode_ftr_df, ecode_ftr_df[target])\n",
    "    \n",
    "    return wrapper"
   ]
  },
  {
   "cell_type": "code",
   "execution_count": 2534,
   "metadata": {},
   "outputs": [],
   "source": [
    "target_encoding = [atr for atr in cat_atrs if 'prev' in atr]"
   ]
  },
  {
   "cell_type": "code",
   "execution_count": 2532,
   "metadata": {},
   "outputs": [],
   "source": [
    "# bigger_cols = [col for col in df.columns if 'bigger' in col]"
   ]
  },
  {
   "cell_type": "code",
   "execution_count": null,
   "metadata": {},
   "outputs": [],
   "source": [
    "prev_sum_cols = [col for col in df.columns.values if 'prev_sum' in col]"
   ]
  },
  {
   "cell_type": "code",
   "execution_count": null,
   "metadata": {},
   "outputs": [],
   "source": [
    "df.columns.values"
   ]
  },
  {
   "cell_type": "code",
   "execution_count": 2307,
   "metadata": {},
   "outputs": [],
   "source": [
    "train_df_atrs = [atr for atr in atrs if atr in df.columns.values]"
   ]
  },
  {
   "cell_type": "code",
   "execution_count": 275,
   "metadata": {},
   "outputs": [],
   "source": [
    "mean_prev_ftrs = [atr for atr in atrs if 'mean_prev' in atr]"
   ]
  },
  {
   "cell_type": "code",
   "execution_count": 277,
   "metadata": {},
   "outputs": [
    {
     "data": {
      "text/plain": [
       "414"
      ]
     },
     "execution_count": 277,
     "metadata": {},
     "output_type": "execute_result"
    }
   ],
   "source": [
    "len(mean_prev_ftrs)"
   ]
  },
  {
   "cell_type": "code",
   "execution_count": 1747,
   "metadata": {},
   "outputs": [],
   "source": [
    "last_prev_atrs = [atr for atr in last_prev_atrs if atr not in ['page_urlhost_last_prev_1','device_is_webview_last_prev_1','page_urlpath_full_last_prev_1']]"
   ]
  },
  {
   "cell_type": "code",
   "execution_count": 2412,
   "metadata": {
    "collapsed": true,
    "jupyter": {
     "outputs_hidden": true
    }
   },
   "outputs": [
    {
     "data": {
      "text/plain": [
       "['bigger_mobile_recharge_statement',\n",
       " 'bigger_mobile_recharge_phone_money_transfer',\n",
       " 'bigger_mobile_recharge_chat',\n",
       " 'bigger_mobile_recharge_invest',\n",
       " 'bigger_mobile_recharge_main_screen',\n",
       " 'bigger_mobile_recharge_own_transfer',\n",
       " 'bigger_mobile_recharge_card_recharge',\n",
       " 'bigger_mobile_recharge_credit_info',\n",
       " 'bigger_mobile_recharge_card2card_transfer',\n",
       " 'bigger_statement_phone_money_transfer',\n",
       " 'bigger_statement_chat',\n",
       " 'bigger_statement_invest',\n",
       " 'bigger_statement_main_screen',\n",
       " 'bigger_statement_own_transfer',\n",
       " 'bigger_statement_card_recharge',\n",
       " 'bigger_statement_credit_info',\n",
       " 'bigger_statement_card2card_transfer',\n",
       " 'bigger_phone_money_transfer_chat',\n",
       " 'bigger_phone_money_transfer_invest',\n",
       " 'bigger_phone_money_transfer_main_screen',\n",
       " 'bigger_phone_money_transfer_own_transfer',\n",
       " 'bigger_phone_money_transfer_card_recharge',\n",
       " 'bigger_phone_money_transfer_credit_info',\n",
       " 'bigger_phone_money_transfer_card2card_transfer',\n",
       " 'bigger_chat_invest',\n",
       " 'bigger_chat_main_screen',\n",
       " 'bigger_chat_own_transfer',\n",
       " 'bigger_chat_card_recharge',\n",
       " 'bigger_chat_credit_info',\n",
       " 'bigger_chat_card2card_transfer',\n",
       " 'bigger_invest_main_screen',\n",
       " 'bigger_invest_own_transfer',\n",
       " 'bigger_invest_card_recharge',\n",
       " 'bigger_invest_credit_info',\n",
       " 'bigger_invest_card2card_transfer',\n",
       " 'bigger_main_screen_own_transfer',\n",
       " 'bigger_main_screen_card_recharge',\n",
       " 'bigger_main_screen_credit_info',\n",
       " 'bigger_main_screen_card2card_transfer',\n",
       " 'bigger_own_transfer_card_recharge',\n",
       " 'bigger_own_transfer_credit_info',\n",
       " 'bigger_own_transfer_card2card_transfer',\n",
       " 'bigger_card_recharge_credit_info',\n",
       " 'bigger_card_recharge_card2card_transfer',\n",
       " 'bigger_credit_info_card2card_transfer',\n",
       " 'prev_sum_card2card_transfer',\n",
       " 'prev_sum_card_recharge',\n",
       " 'prev_sum_chat',\n",
       " 'prev_sum_credit_info',\n",
       " 'prev_sum_invest',\n",
       " 'prev_sum_main_screen',\n",
       " 'prev_sum_mobile_recharge',\n",
       " 'prev_sum_own_transfer',\n",
       " 'prev_sum_phone_money_transfer',\n",
       " 'prev_sum_statement',\n",
       " 'weekday',\n",
       " 'day',\n",
       " 'hour',\n",
       " 'target_1',\n",
       " 'time_diff_1_0',\n",
       " 'target_2',\n",
       " 'time_diff_2_0',\n",
       " 'time_diff_2_1',\n",
       " 'target_3',\n",
       " 'time_diff_3_0',\n",
       " 'time_diff_3_1',\n",
       " 'time_diff_3_2',\n",
       " 'target_4',\n",
       " 'time_diff_4_0',\n",
       " 'time_diff_4_1',\n",
       " 'time_diff_4_2',\n",
       " 'time_diff_4_3',\n",
       " 'target_5',\n",
       " 'time_diff_5_0',\n",
       " 'time_diff_5_1',\n",
       " 'time_diff_5_2',\n",
       " 'time_diff_5_3',\n",
       " 'time_diff_5_4',\n",
       " 'target_6',\n",
       " 'time_diff_6_0',\n",
       " 'time_diff_6_1',\n",
       " 'time_diff_6_2',\n",
       " 'time_diff_6_3',\n",
       " 'time_diff_6_4',\n",
       " 'time_diff_6_5',\n",
       " 'target_7',\n",
       " 'time_diff_7_0',\n",
       " 'time_diff_7_1',\n",
       " 'time_diff_7_2',\n",
       " 'time_diff_7_3',\n",
       " 'time_diff_7_4',\n",
       " 'time_diff_7_5',\n",
       " 'time_diff_7_6',\n",
       " 'target_8',\n",
       " 'time_diff_8_0',\n",
       " 'time_diff_8_1',\n",
       " 'time_diff_8_2',\n",
       " 'time_diff_8_3',\n",
       " 'time_diff_8_4',\n",
       " 'time_diff_8_5',\n",
       " 'time_diff_8_6',\n",
       " 'time_diff_8_7',\n",
       " 'target_9',\n",
       " 'time_diff_9_0',\n",
       " 'time_diff_9_1',\n",
       " 'time_diff_9_2',\n",
       " 'time_diff_9_3',\n",
       " 'time_diff_9_4',\n",
       " 'time_diff_9_5',\n",
       " 'time_diff_9_6',\n",
       " 'time_diff_9_7',\n",
       " 'time_diff_9_8',\n",
       " 'target_10',\n",
       " 'time_diff_10_0',\n",
       " 'time_diff_10_1',\n",
       " 'time_diff_10_2',\n",
       " 'time_diff_10_3',\n",
       " 'time_diff_10_4',\n",
       " 'time_diff_10_5',\n",
       " 'time_diff_10_6',\n",
       " 'time_diff_10_7',\n",
       " 'time_diff_10_8',\n",
       " 'time_diff_10_9',\n",
       " 'mean_diff_time_global',\n",
       " 'mean_diff_time_global_explotation',\n",
       " 'sessions_number',\n",
       " 'seq_last_target_len',\n",
       " 'top_target',\n",
       " 'top_target_2',\n",
       " 'top_target_3']"
      ]
     },
     "execution_count": 2412,
     "metadata": {},
     "output_type": "execute_result"
    }
   ],
   "source": [
    "train_df_atrs"
   ]
  },
  {
   "cell_type": "code",
   "execution_count": 2262,
   "metadata": {},
   "outputs": [],
   "source": [
    "# cols = ['target_1','top_target','target_2','top_target_2','top_target_3','target_3', 'target_4','target_5','target_6', 'target_7','target_8','target_9','mean_diff_time_global', 'seq_last_target_len','day', 'weekday','hour','device_screen_name_last_prev_1','device_screen_name_last_prev_2','last_target_parq_1', 'last_target_parq_2','event_label_last_prev_1','timezone_prev_1','top_target_parq_1','time_diff_1_0','mean_diff_time_global_explotation','timezone_num_prev_1', 'time_diff_1_0_parq'] + prev_sum_cols + mean_prev_ftrs \n",
    "\n",
    "cols = list(set(cols))"
   ]
  },
  {
   "cell_type": "code",
   "execution_count": 2290,
   "metadata": {},
   "outputs": [],
   "source": [
    "cols = ['target_1','top_target','target_2','top_target_2','top_target_3','target_3', 'target_4','target_5','target_6', 'target_7','target_8','target_9','mean_diff_time_global', 'seq_last_target_len','day','weekday','hour','time_diff_1_0','mean_diff_time_global_explotation'] + bigger_cols #'last_target_parq_1','device_screen_name_last_prev_1']\n",
    "\n",
    "cols = list(set(cols))\n",
    "\n",
    "cols = train_df_atrs"
   ]
  },
  {
   "cell_type": "code",
   "execution_count": 2310,
   "metadata": {},
   "outputs": [],
   "source": [
    "# cat_cols = ['target_1', 'top_target','target_2','top_target_2','top_target_3','target_3','target_4','target_5','target_6', 'target_7','target_8', 'target_9','day', 'weekday','hour','last_target_parq_1','last_target_parq_2',]"
   ]
  },
  {
   "cell_type": "code",
   "execution_count": 2311,
   "metadata": {},
   "outputs": [],
   "source": [
    "cat_cols = ['target_1', 'top_target','target_2','top_target_2','top_target_3','target_3','target_4','target_5','target_6', 'target_7','target_8', 'target_9','day', 'weekday','hour']"
   ]
  },
  {
   "cell_type": "code",
   "execution_count": 2312,
   "metadata": {},
   "outputs": [],
   "source": [
    "train_df_lin = train_df_less.reset_index()[cols + ['multi_class_target', 'session_id', 'client_pin','timestamp']]\n",
    "test_df_lin = test_df.reset_index()[cols + ['multi_class_target','session_id','client_pin', 'timestamp']]\n",
    "submit_df_lin = submit_df[cols + ['client_pin']].reset_index(drop=True)\n",
    "\n",
    "train_df_lin['train'] = 1\n",
    "test_df_lin['train'] = 0\n",
    "submit_df_lin['train'] = -1"
   ]
  },
  {
   "cell_type": "code",
   "execution_count": 2313,
   "metadata": {},
   "outputs": [],
   "source": [
    "df_lin = pd.concat([train_df_lin, test_df_lin, submit_df_lin])"
   ]
  },
  {
   "cell_type": "code",
   "execution_count": 2314,
   "metadata": {},
   "outputs": [],
   "source": [
    "# df_lin['timezone_num_prev_1'] = df_lin['timezone_num_prev_1'].astype(int)\n",
    "# df_lin['timezone_num_prev_2'] = df_lin['timezone_num_prev_2'].astype(int)"
   ]
  },
  {
   "cell_type": "code",
   "execution_count": 2315,
   "metadata": {},
   "outputs": [],
   "source": [
    "df_lin = pd.get_dummies(df_lin, columns=cat_cols)"
   ]
  },
  {
   "cell_type": "code",
   "execution_count": 2316,
   "metadata": {},
   "outputs": [],
   "source": [
    "# df_lin['day'] = df_lin['day'].astype(np.float)\n",
    "# df_lin['weekday'] = df_lin['weekday'].astype(np.float)\n",
    "# df_lin['hour'] = df_lin['hour'].astype(np.float)"
   ]
  },
  {
   "cell_type": "code",
   "execution_count": 2317,
   "metadata": {},
   "outputs": [],
   "source": [
    "# cols_to_encode = ['device_screen_name_last_prev_1','device_screen_name_last_prev_2','event_label_last_prev_1','timezone_prev_1','top_target_parq_1'] #+ last_prev_atrs\n",
    "cols_to_encode = []#['device_screen_name_last_prev_1','page_urlpath_full_last_prev_1']   #last_prev_atrs + ['device_screen_name_last_prev_1','page_urlpath_full_last_prev_1'] \n",
    "cols_to_encode = list(set(cols_to_encode))"
   ]
  },
  {
   "cell_type": "code",
   "execution_count": 2318,
   "metadata": {},
   "outputs": [],
   "source": [
    "for col in cols_to_encode:\n",
    "    for key in dict_cols_categ:\n",
    "        if key in col:\n",
    "            print(col)\n",
    "            df_lin.loc[df_lin[col].apply(lambda x: x not in dict_cols_categ[key]), col] = 'other'"
   ]
  },
  {
   "cell_type": "code",
   "execution_count": 2319,
   "metadata": {},
   "outputs": [],
   "source": [
    "for col in cols_to_encode:\n",
    "    df_lin[col] = df_lin[col].astype('category')"
   ]
  },
  {
   "cell_type": "code",
   "execution_count": 2320,
   "metadata": {},
   "outputs": [],
   "source": [
    "train_df_lin, test_df_lin, submit_df_lin = df_lin[df_lin['train'] == 1], df_lin[df_lin['train'] == 0], df_lin[df_lin['train'] == -1]"
   ]
  },
  {
   "cell_type": "code",
   "execution_count": 2321,
   "metadata": {},
   "outputs": [],
   "source": [
    "train_df_sampled, ecode_ftr_df = train_test_split(train_df_lin, test_size = 0.2, stratify=train_df_lin['multi_class_target'],random_state=SEED + 100)"
   ]
  },
  {
   "cell_type": "code",
   "execution_count": 2323,
   "metadata": {},
   "outputs": [],
   "source": [
    "cols = [col for col in train_df_sampled.columns if col not in ['multi_class_target', 'train','client_pin','session_id','timestamp']]"
   ]
  },
  {
   "cell_type": "code",
   "execution_count": 2324,
   "metadata": {},
   "outputs": [],
   "source": [
    "# clf = LogisticRegression()"
   ]
  },
  {
   "cell_type": "code",
   "execution_count": 2325,
   "metadata": {},
   "outputs": [],
   "source": [
    "# %%time\n",
    "\n",
    "# clf.fit(train_df_sampled[cols].fillna(0), train_df_sampled['multi_class_target'])"
   ]
  },
  {
   "cell_type": "code",
   "execution_count": 2326,
   "metadata": {},
   "outputs": [],
   "source": [
    "# f1_score(lb_target.transform(test_df_lin['multi_class_target']), clf_lasso.predict(test_df_lin[cols].fillna(0)), average='macro')"
   ]
  },
  {
   "cell_type": "code",
   "execution_count": 2327,
   "metadata": {},
   "outputs": [],
   "source": [
    "# f1_score(test_df_lin['multi_class_target'], clf.predict(test_df_lin[cols]), average='macro')"
   ]
  },
  {
   "cell_type": "code",
   "execution_count": 2328,
   "metadata": {},
   "outputs": [],
   "source": [
    "# lgbm = LGBMClassifier(objective='multiclass', reg_alpha=12, max_depth=10, min_split_gain = 0.7, subsample=0.7, n_estimators=200, n_jobs=60, random_state=SEED)"
   ]
  },
  {
   "cell_type": "code",
   "execution_count": 2426,
   "metadata": {},
   "outputs": [],
   "source": [
    "lgbm = LGBMClassifier(objective='multiclass', reg_alpha=12, max_depth=10, min_split_gain = 0.7, subsample=0.7, n_estimators=210, n_jobs=64, random_state=SEED)"
   ]
  },
  {
   "cell_type": "code",
   "execution_count": 2427,
   "metadata": {},
   "outputs": [],
   "source": [
    "train_df_sampled.sort_values(by='timestamp', inplace=True)"
   ]
  },
  {
   "cell_type": "code",
   "execution_count": 2428,
   "metadata": {},
   "outputs": [],
   "source": [
    "eval_df = train_df_sampled.groupby('client_pin').tail(1)"
   ]
  },
  {
   "cell_type": "code",
   "execution_count": 2429,
   "metadata": {},
   "outputs": [],
   "source": [
    "train_df_last = pd.merge(train_df_sampled, eval_df['session_id'], on='session_id', how='left', indicator=True)\n",
    "train_df_last = train_df_last[train_df_last['_merge'] == 'left_only']"
   ]
  },
  {
   "cell_type": "code",
   "execution_count": 2430,
   "metadata": {},
   "outputs": [
    {
     "data": {
      "text/plain": [
       "((410809, 312), (349205, 313))"
      ]
     },
     "execution_count": 2430,
     "metadata": {},
     "output_type": "execute_result"
    }
   ],
   "source": [
    "train_df_sampled.shape, train_df_last.shape"
   ]
  },
  {
   "cell_type": "code",
   "execution_count": 2432,
   "metadata": {},
   "outputs": [
    {
     "name": "stdout",
     "output_type": "stream",
     "text": [
      "Training until validation scores don't improve for 50 rounds\n",
      "[5]\tvalid_0's multi_logloss: 1.60166\tvalid_0's f1_score: 0.396026\n",
      "[10]\tvalid_0's multi_logloss: 1.50313\tvalid_0's f1_score: 0.403108\n",
      "[15]\tvalid_0's multi_logloss: 1.46747\tvalid_0's f1_score: 0.404425\n",
      "[20]\tvalid_0's multi_logloss: 1.45399\tvalid_0's f1_score: 0.404836\n",
      "[25]\tvalid_0's multi_logloss: 1.44878\tvalid_0's f1_score: 0.403564\n",
      "[30]\tvalid_0's multi_logloss: 1.44674\tvalid_0's f1_score: 0.40335\n",
      "[35]\tvalid_0's multi_logloss: 1.4453\tvalid_0's f1_score: 0.403394\n",
      "[40]\tvalid_0's multi_logloss: 1.44382\tvalid_0's f1_score: 0.404251\n",
      "[45]\tvalid_0's multi_logloss: 1.44268\tvalid_0's f1_score: 0.403945\n",
      "[50]\tvalid_0's multi_logloss: 1.44141\tvalid_0's f1_score: 0.404265\n",
      "[55]\tvalid_0's multi_logloss: 1.44055\tvalid_0's f1_score: 0.403835\n",
      "[60]\tvalid_0's multi_logloss: 1.4397\tvalid_0's f1_score: 0.404621\n",
      "[65]\tvalid_0's multi_logloss: 1.43922\tvalid_0's f1_score: 0.404303\n",
      "[70]\tvalid_0's multi_logloss: 1.43834\tvalid_0's f1_score: 0.403899\n",
      "Early stopping, best iteration is:\n",
      "[20]\tvalid_0's multi_logloss: 1.45399\tvalid_0's f1_score: 0.404836\n"
     ]
    },
    {
     "data": {
      "text/plain": [
       "LGBMClassifier(boosting_type='gbdt', class_weight=None, colsample_bytree=1.0,\n",
       "               importance_type='split', learning_rate=0.1, max_depth=10,\n",
       "               min_child_samples=20, min_child_weight=0.001, min_split_gain=0.7,\n",
       "               n_estimators=210, n_jobs=64, num_leaves=31,\n",
       "               objective='multiclass', random_state=1, reg_alpha=12,\n",
       "               reg_lambda=0.0, silent=True, subsample=0.7,\n",
       "               subsample_for_bin=200000, subsample_freq=0)"
      ]
     },
     "execution_count": 2432,
     "metadata": {},
     "output_type": "execute_result"
    }
   ],
   "source": [
    "lgbm.fit(train_df_sampled[cols], train_df_sampled['multi_class_target'], eval_set=(test_df_lin[cols], test_df_lin['multi_class_target']), eval_metric=evalerror, verbose=5, early_stopping_rounds=50)"
   ]
  },
  {
   "cell_type": "code",
   "execution_count": null,
   "metadata": {},
   "outputs": [],
   "source": []
  },
  {
   "cell_type": "code",
   "execution_count": null,
   "metadata": {},
   "outputs": [],
   "source": [
    "rfc = RandomForestClassifier(n_estimators = 300, n_jobs = 64, max_depth = 5, criterion='entropy', min_impurity_decrease = 1e-6, random_state=1)"
   ]
  },
  {
   "cell_type": "code",
   "execution_count": null,
   "metadata": {},
   "outputs": [],
   "source": [
    "rfc.fit()"
   ]
  },
  {
   "cell_type": "code",
   "execution_count": 2383,
   "metadata": {},
   "outputs": [
    {
     "data": {
      "text/plain": [
       "0.4058209441352839"
      ]
     },
     "execution_count": 2383,
     "metadata": {},
     "output_type": "execute_result"
    }
   ],
   "source": [
    "f1_score(test_df_lin['multi_class_target'], lgbm.predict(test_df_lin[new_atrs]), average='macro')"
   ]
  },
  {
   "cell_type": "code",
   "execution_count": null,
   "metadata": {},
   "outputs": [],
   "source": []
  },
  {
   "cell_type": "code",
   "execution_count": 2397,
   "metadata": {},
   "outputs": [],
   "source": [
    "df_f = pd.DataFrame(zip(lgbm.feature_name_, lgbm.booster_.feature_importance(importance_type='gain')\n",
    "), columns=['f', 'im']).sort_values(by='im', ascending=False)"
   ]
  },
  {
   "cell_type": "code",
   "execution_count": 2398,
   "metadata": {},
   "outputs": [],
   "source": [
    "def get_new_features(df):\n",
    "        for i in range(df.shape[0]):\n",
    "            if df['im'].iloc[:i].sum()/df['im'].sum() > 0.999:\n",
    "                break\n",
    "        return df['f'].iloc[:i].values.tolist()"
   ]
  },
  {
   "cell_type": "code",
   "execution_count": 2399,
   "metadata": {},
   "outputs": [],
   "source": [
    "new_atrs = get_new_features(df_f)"
   ]
  },
  {
   "cell_type": "code",
   "execution_count": 2437,
   "metadata": {},
   "outputs": [],
   "source": [
    "submit_df_lin['prediction'] = lgbm.predict(submit_df_lin[cols])"
   ]
  },
  {
   "cell_type": "code",
   "execution_count": 2438,
   "metadata": {},
   "outputs": [],
   "source": [
    "submit_df_lin[['client_pin', 'prediction']].to_csv('submission.csv', index=False)"
   ]
  },
  {
   "cell_type": "code",
   "execution_count": 1033,
   "metadata": {},
   "outputs": [],
   "source": [
    "submit_df_lin['prediction'] = cv_clsf.predict(submit_df_lin[new_atrs])"
   ]
  },
  {
   "cell_type": "code",
   "execution_count": 1034,
   "metadata": {},
   "outputs": [],
   "source": [
    "submit_df_lin[['client_pin','prediction']].to_csv('prediction_true.csv', index=False)"
   ]
  },
  {
   "cell_type": "code",
   "execution_count": 1029,
   "metadata": {
    "collapsed": true,
    "jupyter": {
     "outputs_hidden": true
    }
   },
   "outputs": [
    {
     "data": {
      "text/html": [
       "<div>\n",
       "<style scoped>\n",
       "    .dataframe tbody tr th:only-of-type {\n",
       "        vertical-align: middle;\n",
       "    }\n",
       "\n",
       "    .dataframe tbody tr th {\n",
       "        vertical-align: top;\n",
       "    }\n",
       "\n",
       "    .dataframe thead th {\n",
       "        text-align: right;\n",
       "    }\n",
       "</style>\n",
       "<table border=\"1\" class=\"dataframe\">\n",
       "  <thead>\n",
       "    <tr style=\"text-align: right;\">\n",
       "      <th></th>\n",
       "      <th>device_screen_name_Add_New_Card_mean_prev_2</th>\n",
       "      <th>event_label_a7e467750a990887bfeb95f9384e146b_mean_prev_1</th>\n",
       "      <th>page_urlpath_full_46f90bdc46d30317d072d4c67d6cbfda_mean_prev_1</th>\n",
       "      <th>device_screen_name_Credit_Info_mean_prev_2</th>\n",
       "      <th>page_urlhost_online.alfabank.ru_mean_prev_1</th>\n",
       "      <th>event_label_5b14bf081cdfdbd3b37a3acb75bc553c_mean_prev_2</th>\n",
       "      <th>net_connection_tech_LTE_mean_prev_1</th>\n",
       "      <th>net_connection_tech_HSDPA_mean_prev_2</th>\n",
       "      <th>event_name_Select_one_of_last_transfer_mean_prev_2</th>\n",
       "      <th>prev_sum_mobile_recharge</th>\n",
       "      <th>...</th>\n",
       "      <th>top_target_parq_1_card2card_transfer</th>\n",
       "      <th>event_label_last_prev_1_card2card_transfer</th>\n",
       "      <th>timezone_prev_1_card2card_transfer</th>\n",
       "      <th>device_screen_name_last_prev_2_card2card_transfer</th>\n",
       "      <th>device_screen_name_last_prev_1_invest</th>\n",
       "      <th>top_target_parq_1_invest</th>\n",
       "      <th>event_label_last_prev_1_invest</th>\n",
       "      <th>timezone_prev_1_invest</th>\n",
       "      <th>device_screen_name_last_prev_2_invest</th>\n",
       "      <th>prediction</th>\n",
       "    </tr>\n",
       "  </thead>\n",
       "  <tbody>\n",
       "    <tr>\n",
       "      <th>0</th>\n",
       "      <td>0.0</td>\n",
       "      <td>0.0</td>\n",
       "      <td>0.0</td>\n",
       "      <td>0.0</td>\n",
       "      <td>0.0</td>\n",
       "      <td>0.0</td>\n",
       "      <td>1.0</td>\n",
       "      <td>0.0</td>\n",
       "      <td>0.0</td>\n",
       "      <td>0.0</td>\n",
       "      <td>...</td>\n",
       "      <td>0.075713</td>\n",
       "      <td>0.063210</td>\n",
       "      <td>0.073499</td>\n",
       "      <td>0.080104</td>\n",
       "      <td>0.019348</td>\n",
       "      <td>0.019376</td>\n",
       "      <td>0.013211</td>\n",
       "      <td>1.853786e-02</td>\n",
       "      <td>0.040586</td>\n",
       "      <td>credit_info</td>\n",
       "    </tr>\n",
       "    <tr>\n",
       "      <th>1</th>\n",
       "      <td>0.0</td>\n",
       "      <td>0.0</td>\n",
       "      <td>0.0</td>\n",
       "      <td>0.0</td>\n",
       "      <td>0.0</td>\n",
       "      <td>0.0</td>\n",
       "      <td>0.0</td>\n",
       "      <td>0.0</td>\n",
       "      <td>0.0</td>\n",
       "      <td>2.0</td>\n",
       "      <td>...</td>\n",
       "      <td>0.075713</td>\n",
       "      <td>0.063210</td>\n",
       "      <td>0.073499</td>\n",
       "      <td>0.061309</td>\n",
       "      <td>0.021677</td>\n",
       "      <td>0.019376</td>\n",
       "      <td>0.013211</td>\n",
       "      <td>1.853786e-02</td>\n",
       "      <td>0.018698</td>\n",
       "      <td>statement</td>\n",
       "    </tr>\n",
       "    <tr>\n",
       "      <th>2</th>\n",
       "      <td>0.0</td>\n",
       "      <td>0.0</td>\n",
       "      <td>0.0</td>\n",
       "      <td>0.0</td>\n",
       "      <td>0.0</td>\n",
       "      <td>0.0</td>\n",
       "      <td>0.0</td>\n",
       "      <td>0.0</td>\n",
       "      <td>0.0</td>\n",
       "      <td>0.0</td>\n",
       "      <td>...</td>\n",
       "      <td>0.075713</td>\n",
       "      <td>0.063210</td>\n",
       "      <td>0.076061</td>\n",
       "      <td>0.063873</td>\n",
       "      <td>0.019348</td>\n",
       "      <td>0.019376</td>\n",
       "      <td>0.013211</td>\n",
       "      <td>2.335792e-02</td>\n",
       "      <td>0.018889</td>\n",
       "      <td>main_screen</td>\n",
       "    </tr>\n",
       "    <tr>\n",
       "      <th>3</th>\n",
       "      <td>0.0</td>\n",
       "      <td>0.0</td>\n",
       "      <td>0.0</td>\n",
       "      <td>0.0</td>\n",
       "      <td>0.0</td>\n",
       "      <td>0.0</td>\n",
       "      <td>0.0</td>\n",
       "      <td>0.0</td>\n",
       "      <td>0.0</td>\n",
       "      <td>0.0</td>\n",
       "      <td>...</td>\n",
       "      <td>0.075713</td>\n",
       "      <td>0.078689</td>\n",
       "      <td>0.076061</td>\n",
       "      <td>0.074743</td>\n",
       "      <td>0.024724</td>\n",
       "      <td>0.019376</td>\n",
       "      <td>0.035585</td>\n",
       "      <td>2.335792e-02</td>\n",
       "      <td>0.025449</td>\n",
       "      <td>statement</td>\n",
       "    </tr>\n",
       "    <tr>\n",
       "      <th>4</th>\n",
       "      <td>0.0</td>\n",
       "      <td>0.0</td>\n",
       "      <td>0.0</td>\n",
       "      <td>0.0</td>\n",
       "      <td>0.0</td>\n",
       "      <td>0.0</td>\n",
       "      <td>0.0</td>\n",
       "      <td>0.0</td>\n",
       "      <td>0.0</td>\n",
       "      <td>15.0</td>\n",
       "      <td>...</td>\n",
       "      <td>0.075713</td>\n",
       "      <td>0.063210</td>\n",
       "      <td>0.050505</td>\n",
       "      <td>0.070144</td>\n",
       "      <td>0.019348</td>\n",
       "      <td>0.019376</td>\n",
       "      <td>0.013211</td>\n",
       "      <td>7.070707e-02</td>\n",
       "      <td>0.016187</td>\n",
       "      <td>mobile_recharge</td>\n",
       "    </tr>\n",
       "    <tr>\n",
       "      <th>...</th>\n",
       "      <td>...</td>\n",
       "      <td>...</td>\n",
       "      <td>...</td>\n",
       "      <td>...</td>\n",
       "      <td>...</td>\n",
       "      <td>...</td>\n",
       "      <td>...</td>\n",
       "      <td>...</td>\n",
       "      <td>...</td>\n",
       "      <td>...</td>\n",
       "      <td>...</td>\n",
       "      <td>...</td>\n",
       "      <td>...</td>\n",
       "      <td>...</td>\n",
       "      <td>...</td>\n",
       "      <td>...</td>\n",
       "      <td>...</td>\n",
       "      <td>...</td>\n",
       "      <td>...</td>\n",
       "      <td>...</td>\n",
       "      <td>...</td>\n",
       "    </tr>\n",
       "    <tr>\n",
       "      <th>79263</th>\n",
       "      <td>0.0</td>\n",
       "      <td>0.0</td>\n",
       "      <td>0.0</td>\n",
       "      <td>0.0</td>\n",
       "      <td>0.0</td>\n",
       "      <td>0.0</td>\n",
       "      <td>0.0</td>\n",
       "      <td>0.0</td>\n",
       "      <td>0.0</td>\n",
       "      <td>3.0</td>\n",
       "      <td>...</td>\n",
       "      <td>0.075713</td>\n",
       "      <td>0.063210</td>\n",
       "      <td>0.076061</td>\n",
       "      <td>0.063873</td>\n",
       "      <td>0.021677</td>\n",
       "      <td>0.019376</td>\n",
       "      <td>0.013211</td>\n",
       "      <td>2.335792e-02</td>\n",
       "      <td>0.018889</td>\n",
       "      <td>statement</td>\n",
       "    </tr>\n",
       "    <tr>\n",
       "      <th>79264</th>\n",
       "      <td>0.0</td>\n",
       "      <td>0.0</td>\n",
       "      <td>0.0</td>\n",
       "      <td>0.0</td>\n",
       "      <td>0.0</td>\n",
       "      <td>0.0</td>\n",
       "      <td>1.0</td>\n",
       "      <td>0.0</td>\n",
       "      <td>0.0</td>\n",
       "      <td>0.0</td>\n",
       "      <td>...</td>\n",
       "      <td>0.075361</td>\n",
       "      <td>0.078689</td>\n",
       "      <td>0.076061</td>\n",
       "      <td>0.080104</td>\n",
       "      <td>0.019348</td>\n",
       "      <td>0.007256</td>\n",
       "      <td>0.035585</td>\n",
       "      <td>2.335792e-02</td>\n",
       "      <td>0.040586</td>\n",
       "      <td>main_screen</td>\n",
       "    </tr>\n",
       "    <tr>\n",
       "      <th>79265</th>\n",
       "      <td>0.0</td>\n",
       "      <td>0.0</td>\n",
       "      <td>0.0</td>\n",
       "      <td>0.0</td>\n",
       "      <td>0.0</td>\n",
       "      <td>0.0</td>\n",
       "      <td>1.0</td>\n",
       "      <td>0.0</td>\n",
       "      <td>0.0</td>\n",
       "      <td>0.0</td>\n",
       "      <td>...</td>\n",
       "      <td>0.075713</td>\n",
       "      <td>0.063210</td>\n",
       "      <td>0.076061</td>\n",
       "      <td>0.056121</td>\n",
       "      <td>0.051707</td>\n",
       "      <td>0.019376</td>\n",
       "      <td>0.013211</td>\n",
       "      <td>2.335792e-02</td>\n",
       "      <td>0.009957</td>\n",
       "      <td>statement</td>\n",
       "    </tr>\n",
       "    <tr>\n",
       "      <th>79266</th>\n",
       "      <td>0.0</td>\n",
       "      <td>0.0</td>\n",
       "      <td>0.0</td>\n",
       "      <td>0.0</td>\n",
       "      <td>0.0</td>\n",
       "      <td>0.0</td>\n",
       "      <td>1.0</td>\n",
       "      <td>0.0</td>\n",
       "      <td>0.0</td>\n",
       "      <td>1.0</td>\n",
       "      <td>...</td>\n",
       "      <td>0.075713</td>\n",
       "      <td>0.063225</td>\n",
       "      <td>0.076061</td>\n",
       "      <td>0.058790</td>\n",
       "      <td>0.012681</td>\n",
       "      <td>0.019376</td>\n",
       "      <td>0.032790</td>\n",
       "      <td>2.335792e-02</td>\n",
       "      <td>0.013508</td>\n",
       "      <td>statement</td>\n",
       "    </tr>\n",
       "    <tr>\n",
       "      <th>79267</th>\n",
       "      <td>0.0</td>\n",
       "      <td>0.0</td>\n",
       "      <td>0.0</td>\n",
       "      <td>0.0</td>\n",
       "      <td>0.0</td>\n",
       "      <td>0.0</td>\n",
       "      <td>0.0</td>\n",
       "      <td>0.0</td>\n",
       "      <td>0.0</td>\n",
       "      <td>0.0</td>\n",
       "      <td>...</td>\n",
       "      <td>0.075713</td>\n",
       "      <td>0.063210</td>\n",
       "      <td>0.066667</td>\n",
       "      <td>0.063873</td>\n",
       "      <td>0.024724</td>\n",
       "      <td>0.019376</td>\n",
       "      <td>0.013211</td>\n",
       "      <td>1.759355e-08</td>\n",
       "      <td>0.018889</td>\n",
       "      <td>statement</td>\n",
       "    </tr>\n",
       "  </tbody>\n",
       "</table>\n",
       "<p>79268 rows × 695 columns</p>\n",
       "</div>"
      ],
      "text/plain": [
       "       device_screen_name_Add_New_Card_mean_prev_2  \\\n",
       "0                                              0.0   \n",
       "1                                              0.0   \n",
       "2                                              0.0   \n",
       "3                                              0.0   \n",
       "4                                              0.0   \n",
       "...                                            ...   \n",
       "79263                                          0.0   \n",
       "79264                                          0.0   \n",
       "79265                                          0.0   \n",
       "79266                                          0.0   \n",
       "79267                                          0.0   \n",
       "\n",
       "       event_label_a7e467750a990887bfeb95f9384e146b_mean_prev_1  \\\n",
       "0                                                    0.0          \n",
       "1                                                    0.0          \n",
       "2                                                    0.0          \n",
       "3                                                    0.0          \n",
       "4                                                    0.0          \n",
       "...                                                  ...          \n",
       "79263                                                0.0          \n",
       "79264                                                0.0          \n",
       "79265                                                0.0          \n",
       "79266                                                0.0          \n",
       "79267                                                0.0          \n",
       "\n",
       "       page_urlpath_full_46f90bdc46d30317d072d4c67d6cbfda_mean_prev_1  \\\n",
       "0                                                    0.0                \n",
       "1                                                    0.0                \n",
       "2                                                    0.0                \n",
       "3                                                    0.0                \n",
       "4                                                    0.0                \n",
       "...                                                  ...                \n",
       "79263                                                0.0                \n",
       "79264                                                0.0                \n",
       "79265                                                0.0                \n",
       "79266                                                0.0                \n",
       "79267                                                0.0                \n",
       "\n",
       "       device_screen_name_Credit_Info_mean_prev_2  \\\n",
       "0                                             0.0   \n",
       "1                                             0.0   \n",
       "2                                             0.0   \n",
       "3                                             0.0   \n",
       "4                                             0.0   \n",
       "...                                           ...   \n",
       "79263                                         0.0   \n",
       "79264                                         0.0   \n",
       "79265                                         0.0   \n",
       "79266                                         0.0   \n",
       "79267                                         0.0   \n",
       "\n",
       "       page_urlhost_online.alfabank.ru_mean_prev_1  \\\n",
       "0                                              0.0   \n",
       "1                                              0.0   \n",
       "2                                              0.0   \n",
       "3                                              0.0   \n",
       "4                                              0.0   \n",
       "...                                            ...   \n",
       "79263                                          0.0   \n",
       "79264                                          0.0   \n",
       "79265                                          0.0   \n",
       "79266                                          0.0   \n",
       "79267                                          0.0   \n",
       "\n",
       "       event_label_5b14bf081cdfdbd3b37a3acb75bc553c_mean_prev_2  \\\n",
       "0                                                    0.0          \n",
       "1                                                    0.0          \n",
       "2                                                    0.0          \n",
       "3                                                    0.0          \n",
       "4                                                    0.0          \n",
       "...                                                  ...          \n",
       "79263                                                0.0          \n",
       "79264                                                0.0          \n",
       "79265                                                0.0          \n",
       "79266                                                0.0          \n",
       "79267                                                0.0          \n",
       "\n",
       "       net_connection_tech_LTE_mean_prev_1  \\\n",
       "0                                      1.0   \n",
       "1                                      0.0   \n",
       "2                                      0.0   \n",
       "3                                      0.0   \n",
       "4                                      0.0   \n",
       "...                                    ...   \n",
       "79263                                  0.0   \n",
       "79264                                  1.0   \n",
       "79265                                  1.0   \n",
       "79266                                  1.0   \n",
       "79267                                  0.0   \n",
       "\n",
       "       net_connection_tech_HSDPA_mean_prev_2  \\\n",
       "0                                        0.0   \n",
       "1                                        0.0   \n",
       "2                                        0.0   \n",
       "3                                        0.0   \n",
       "4                                        0.0   \n",
       "...                                      ...   \n",
       "79263                                    0.0   \n",
       "79264                                    0.0   \n",
       "79265                                    0.0   \n",
       "79266                                    0.0   \n",
       "79267                                    0.0   \n",
       "\n",
       "       event_name_Select_one_of_last_transfer_mean_prev_2  \\\n",
       "0                                                    0.0    \n",
       "1                                                    0.0    \n",
       "2                                                    0.0    \n",
       "3                                                    0.0    \n",
       "4                                                    0.0    \n",
       "...                                                  ...    \n",
       "79263                                                0.0    \n",
       "79264                                                0.0    \n",
       "79265                                                0.0    \n",
       "79266                                                0.0    \n",
       "79267                                                0.0    \n",
       "\n",
       "       prev_sum_mobile_recharge  ...  top_target_parq_1_card2card_transfer  \\\n",
       "0                           0.0  ...                              0.075713   \n",
       "1                           2.0  ...                              0.075713   \n",
       "2                           0.0  ...                              0.075713   \n",
       "3                           0.0  ...                              0.075713   \n",
       "4                          15.0  ...                              0.075713   \n",
       "...                         ...  ...                                   ...   \n",
       "79263                       3.0  ...                              0.075713   \n",
       "79264                       0.0  ...                              0.075361   \n",
       "79265                       0.0  ...                              0.075713   \n",
       "79266                       1.0  ...                              0.075713   \n",
       "79267                       0.0  ...                              0.075713   \n",
       "\n",
       "       event_label_last_prev_1_card2card_transfer  \\\n",
       "0                                        0.063210   \n",
       "1                                        0.063210   \n",
       "2                                        0.063210   \n",
       "3                                        0.078689   \n",
       "4                                        0.063210   \n",
       "...                                           ...   \n",
       "79263                                    0.063210   \n",
       "79264                                    0.078689   \n",
       "79265                                    0.063210   \n",
       "79266                                    0.063225   \n",
       "79267                                    0.063210   \n",
       "\n",
       "       timezone_prev_1_card2card_transfer  \\\n",
       "0                                0.073499   \n",
       "1                                0.073499   \n",
       "2                                0.076061   \n",
       "3                                0.076061   \n",
       "4                                0.050505   \n",
       "...                                   ...   \n",
       "79263                            0.076061   \n",
       "79264                            0.076061   \n",
       "79265                            0.076061   \n",
       "79266                            0.076061   \n",
       "79267                            0.066667   \n",
       "\n",
       "       device_screen_name_last_prev_2_card2card_transfer  \\\n",
       "0                                               0.080104   \n",
       "1                                               0.061309   \n",
       "2                                               0.063873   \n",
       "3                                               0.074743   \n",
       "4                                               0.070144   \n",
       "...                                                  ...   \n",
       "79263                                           0.063873   \n",
       "79264                                           0.080104   \n",
       "79265                                           0.056121   \n",
       "79266                                           0.058790   \n",
       "79267                                           0.063873   \n",
       "\n",
       "       device_screen_name_last_prev_1_invest  top_target_parq_1_invest  \\\n",
       "0                                   0.019348                  0.019376   \n",
       "1                                   0.021677                  0.019376   \n",
       "2                                   0.019348                  0.019376   \n",
       "3                                   0.024724                  0.019376   \n",
       "4                                   0.019348                  0.019376   \n",
       "...                                      ...                       ...   \n",
       "79263                               0.021677                  0.019376   \n",
       "79264                               0.019348                  0.007256   \n",
       "79265                               0.051707                  0.019376   \n",
       "79266                               0.012681                  0.019376   \n",
       "79267                               0.024724                  0.019376   \n",
       "\n",
       "       event_label_last_prev_1_invest  timezone_prev_1_invest  \\\n",
       "0                            0.013211            1.853786e-02   \n",
       "1                            0.013211            1.853786e-02   \n",
       "2                            0.013211            2.335792e-02   \n",
       "3                            0.035585            2.335792e-02   \n",
       "4                            0.013211            7.070707e-02   \n",
       "...                               ...                     ...   \n",
       "79263                        0.013211            2.335792e-02   \n",
       "79264                        0.035585            2.335792e-02   \n",
       "79265                        0.013211            2.335792e-02   \n",
       "79266                        0.032790            2.335792e-02   \n",
       "79267                        0.013211            1.759355e-08   \n",
       "\n",
       "       device_screen_name_last_prev_2_invest       prediction  \n",
       "0                                   0.040586      credit_info  \n",
       "1                                   0.018698        statement  \n",
       "2                                   0.018889      main_screen  \n",
       "3                                   0.025449        statement  \n",
       "4                                   0.016187  mobile_recharge  \n",
       "...                                      ...              ...  \n",
       "79263                               0.018889        statement  \n",
       "79264                               0.040586      main_screen  \n",
       "79265                               0.009957        statement  \n",
       "79266                               0.013508        statement  \n",
       "79267                               0.018889        statement  \n",
       "\n",
       "[79268 rows x 695 columns]"
      ]
     },
     "execution_count": 1029,
     "metadata": {},
     "output_type": "execute_result"
    }
   ],
   "source": [
    "# submit_df_lin"
   ]
  },
  {
   "cell_type": "code",
   "execution_count": 1030,
   "metadata": {},
   "outputs": [
    {
     "data": {
      "text/plain": [
       "(79268, 1680)"
      ]
     },
     "execution_count": 1030,
     "metadata": {},
     "output_type": "execute_result"
    }
   ],
   "source": [
    "submit_df.shape"
   ]
  },
  {
   "cell_type": "code",
   "execution_count": 1880,
   "metadata": {},
   "outputs": [],
   "source": [
    "train_df_lin['event_name_last_prev_1'] = train_df_lin['event_name_last_prev_1'].astype('category')"
   ]
  },
  {
   "cell_type": "code",
   "execution_count": 1881,
   "metadata": {},
   "outputs": [],
   "source": [
    "test_df_lin['event_name_last_prev_1'] = test_df_lin['event_name_last_prev_1'].astype('category')"
   ]
  },
  {
   "cell_type": "code",
   "execution_count": 1406,
   "metadata": {},
   "outputs": [],
   "source": [
    "cv_clsf = cb.CatBoostClassifier(objective='MultiClass', custom_metric=['F1'], verbose=True, eval_metric='TotalF1:average=Macro', random_seed=SEED, n_estimators=300)"
   ]
  },
  {
   "cell_type": "code",
   "execution_count": 1407,
   "metadata": {
    "collapsed": true,
    "jupyter": {
     "outputs_hidden": true
    }
   },
   "outputs": [
    {
     "name": "stdout",
     "output_type": "stream",
     "text": [
      "Learning rate set to 0.192904\n",
      "0:\tlearn: 0.2973776\ttest: 0.2519364\tbest: 0.2519364 (0)\ttotal: 210ms\tremaining: 1m 2s\n",
      "4:\tlearn: 0.4286034\ttest: 0.3667490\tbest: 0.3667490 (4)\ttotal: 897ms\tremaining: 52.9s\n",
      "8:\tlearn: 0.4455357\ttest: 0.3801044\tbest: 0.3801044 (8)\ttotal: 1.77s\tremaining: 57.2s\n",
      "12:\tlearn: 0.4604595\ttest: 0.3900292\tbest: 0.3900292 (12)\ttotal: 2.52s\tremaining: 55.7s\n",
      "16:\tlearn: 0.4657432\ttest: 0.3927874\tbest: 0.3928165 (15)\ttotal: 3.28s\tremaining: 54.6s\n",
      "20:\tlearn: 0.4717303\ttest: 0.3965542\tbest: 0.3965542 (20)\ttotal: 3.98s\tremaining: 52.9s\n",
      "24:\tlearn: 0.4747176\ttest: 0.3976446\tbest: 0.3976446 (24)\ttotal: 4.68s\tremaining: 51.5s\n",
      "28:\tlearn: 0.4774744\ttest: 0.3987837\tbest: 0.3987837 (28)\ttotal: 5.26s\tremaining: 49.2s\n",
      "32:\tlearn: 0.4793774\ttest: 0.3992544\tbest: 0.3992544 (32)\ttotal: 5.9s\tremaining: 47.7s\n",
      "36:\tlearn: 0.4817215\ttest: 0.3995428\tbest: 0.3995428 (36)\ttotal: 6.57s\tremaining: 46.7s\n",
      "40:\tlearn: 0.4831824\ttest: 0.4010462\tbest: 0.4011520 (39)\ttotal: 7.26s\tremaining: 45.9s\n",
      "44:\tlearn: 0.4844550\ttest: 0.4008028\tbest: 0.4014664 (41)\ttotal: 7.94s\tremaining: 45s\n",
      "48:\tlearn: 0.4857139\ttest: 0.4009765\tbest: 0.4014664 (41)\ttotal: 8.66s\tremaining: 44.4s\n",
      "52:\tlearn: 0.4863678\ttest: 0.4020476\tbest: 0.4021824 (50)\ttotal: 9.41s\tremaining: 43.9s\n",
      "56:\tlearn: 0.4870387\ttest: 0.4022857\tbest: 0.4024250 (55)\ttotal: 10.1s\tremaining: 43.1s\n",
      "60:\tlearn: 0.4875236\ttest: 0.4026882\tbest: 0.4026891 (59)\ttotal: 10.9s\tremaining: 42.5s\n",
      "64:\tlearn: 0.4880097\ttest: 0.4031252\tbest: 0.4031921 (61)\ttotal: 11.6s\tremaining: 42s\n",
      "68:\tlearn: 0.4884573\ttest: 0.4033839\tbest: 0.4033839 (68)\ttotal: 12.3s\tremaining: 41.3s\n",
      "72:\tlearn: 0.4893608\ttest: 0.4036666\tbest: 0.4036922 (71)\ttotal: 13.1s\tremaining: 40.6s\n",
      "76:\tlearn: 0.4897575\ttest: 0.4036560\tbest: 0.4039144 (75)\ttotal: 13.8s\tremaining: 39.9s\n",
      "80:\tlearn: 0.4901033\ttest: 0.4038045\tbest: 0.4041102 (77)\ttotal: 14.5s\tremaining: 39.2s\n",
      "84:\tlearn: 0.4904588\ttest: 0.4039255\tbest: 0.4043451 (83)\ttotal: 15.3s\tremaining: 38.7s\n",
      "88:\tlearn: 0.4911140\ttest: 0.4044593\tbest: 0.4044593 (88)\ttotal: 16s\tremaining: 37.9s\n",
      "92:\tlearn: 0.4916605\ttest: 0.4043010\tbest: 0.4047249 (90)\ttotal: 16.7s\tremaining: 37.2s\n",
      "96:\tlearn: 0.4921772\ttest: 0.4042149\tbest: 0.4047249 (90)\ttotal: 17.4s\tremaining: 36.4s\n",
      "100:\tlearn: 0.4928289\ttest: 0.4038990\tbest: 0.4047249 (90)\ttotal: 18.1s\tremaining: 35.6s\n",
      "104:\tlearn: 0.4932546\ttest: 0.4039949\tbest: 0.4047249 (90)\ttotal: 18.7s\tremaining: 34.7s\n",
      "108:\tlearn: 0.4936324\ttest: 0.4039645\tbest: 0.4047249 (90)\ttotal: 19.4s\tremaining: 34s\n",
      "112:\tlearn: 0.4940250\ttest: 0.4047943\tbest: 0.4047943 (112)\ttotal: 20.1s\tremaining: 33.2s\n",
      "116:\tlearn: 0.4943616\ttest: 0.4046877\tbest: 0.4048576 (115)\ttotal: 20.7s\tremaining: 32.4s\n",
      "120:\tlearn: 0.4946327\ttest: 0.4048257\tbest: 0.4048576 (115)\ttotal: 21.5s\tremaining: 31.8s\n",
      "124:\tlearn: 0.4947632\ttest: 0.4047270\tbest: 0.4050848 (121)\ttotal: 22.2s\tremaining: 31.1s\n",
      "128:\tlearn: 0.4950283\ttest: 0.4045941\tbest: 0.4050848 (121)\ttotal: 23s\tremaining: 30.5s\n",
      "132:\tlearn: 0.4953824\ttest: 0.4042339\tbest: 0.4050848 (121)\ttotal: 23.7s\tremaining: 29.8s\n",
      "136:\tlearn: 0.4957199\ttest: 0.4039140\tbest: 0.4050848 (121)\ttotal: 24.3s\tremaining: 28.9s\n",
      "140:\tlearn: 0.4961162\ttest: 0.4037754\tbest: 0.4050848 (121)\ttotal: 24.9s\tremaining: 28.1s\n",
      "144:\tlearn: 0.4964009\ttest: 0.4036318\tbest: 0.4050848 (121)\ttotal: 25.5s\tremaining: 27.3s\n",
      "148:\tlearn: 0.4968562\ttest: 0.4036378\tbest: 0.4050848 (121)\ttotal: 26.2s\tremaining: 26.5s\n",
      "152:\tlearn: 0.4969410\ttest: 0.4037354\tbest: 0.4050848 (121)\ttotal: 26.8s\tremaining: 25.7s\n",
      "156:\tlearn: 0.4971815\ttest: 0.4040017\tbest: 0.4050848 (121)\ttotal: 27.4s\tremaining: 25s\n",
      "160:\tlearn: 0.4976155\ttest: 0.4038665\tbest: 0.4050848 (121)\ttotal: 28s\tremaining: 24.2s\n",
      "164:\tlearn: 0.4978262\ttest: 0.4038485\tbest: 0.4050848 (121)\ttotal: 28.7s\tremaining: 23.5s\n",
      "168:\tlearn: 0.4980501\ttest: 0.4035740\tbest: 0.4050848 (121)\ttotal: 29.4s\tremaining: 22.8s\n",
      "172:\tlearn: 0.4982719\ttest: 0.4039588\tbest: 0.4050848 (121)\ttotal: 30.1s\tremaining: 22.1s\n",
      "176:\tlearn: 0.4986576\ttest: 0.4042446\tbest: 0.4050848 (121)\ttotal: 30.9s\tremaining: 21.5s\n",
      "180:\tlearn: 0.4989986\ttest: 0.4040301\tbest: 0.4050848 (121)\ttotal: 31.6s\tremaining: 20.7s\n",
      "184:\tlearn: 0.4993654\ttest: 0.4045496\tbest: 0.4050848 (121)\ttotal: 32.2s\tremaining: 20s\n",
      "188:\tlearn: 0.4995406\ttest: 0.4041190\tbest: 0.4050848 (121)\ttotal: 32.8s\tremaining: 19.3s\n",
      "192:\tlearn: 0.4998894\ttest: 0.4043855\tbest: 0.4050848 (121)\ttotal: 33.4s\tremaining: 18.5s\n",
      "196:\tlearn: 0.4998758\ttest: 0.4041952\tbest: 0.4050848 (121)\ttotal: 34.1s\tremaining: 17.8s\n",
      "200:\tlearn: 0.5000029\ttest: 0.4040105\tbest: 0.4050848 (121)\ttotal: 34.8s\tremaining: 17.1s\n",
      "Stopped by overfitting detector  (80 iterations wait)\n",
      "\n",
      "bestTest = 0.4050848166\n",
      "bestIteration = 121\n",
      "\n",
      "Shrink model to first 122 iterations.\n"
     ]
    },
    {
     "data": {
      "text/plain": [
       "<catboost.core.CatBoostClassifier at 0x7fcbe7ec4390>"
      ]
     },
     "execution_count": 1407,
     "metadata": {},
     "output_type": "execute_result"
    }
   ],
   "source": [
    "cv_clsf.fit(train_df_sampled[cols], train_df_sampled['multi_class_target'], eval_set=(test_df_lin[cols], test_df_lin['multi_class_target']), verbose=4, use_best_model=True, early_stopping_rounds=80)"
   ]
  },
  {
   "cell_type": "code",
   "execution_count": 1098,
   "metadata": {},
   "outputs": [
    {
     "name": "stdout",
     "output_type": "stream",
     "text": [
      "CPU times: user 2min 7s, sys: 7.71 s, total: 2min 15s\n",
      "Wall time: 39.3 s\n"
     ]
    }
   ],
   "source": [
    "%%time\n",
    "\n",
    "f1_scores = []\n",
    "for i in range(1100):\n",
    "#     print(i)\n",
    "    data = test_df_lin.sample(n=1000, random_state=i)\n",
    "    f1_scores.append(f1_score(data['multi_class_target'], cv_clsf.predict(data[new_atrs]), average='macro'))"
   ]
  },
  {
   "cell_type": "code",
   "execution_count": 1099,
   "metadata": {},
   "outputs": [
    {
     "data": {
      "text/plain": [
       "0.4104406846396466"
      ]
     },
     "execution_count": 1099,
     "metadata": {},
     "output_type": "execute_result"
    }
   ],
   "source": [
    "np.mean(f1_scores)"
   ]
  },
  {
   "cell_type": "code",
   "execution_count": null,
   "metadata": {},
   "outputs": [],
   "source": [
    "f1_score(test_df_lin['multi_class_target'], lgbm.classes_[np.argmax(lgbm.predict_proba(test_df_lin[cols]) +  cv_clsf.predict_proba(test_df_lin[cols]), axis=1)])"
   ]
  },
  {
   "cell_type": "markdown",
   "metadata": {},
   "source": [
    "### Применение нейронки"
   ]
  },
  {
   "cell_type": "code",
   "execution_count": 2418,
   "metadata": {},
   "outputs": [],
   "source": [
    "from torch import nn\n",
    "import torch"
   ]
  },
  {
   "cell_type": "code",
   "execution_count": 2419,
   "metadata": {},
   "outputs": [],
   "source": [
    "class MLPclassifier(nn.Module):\n",
    "    def __init__(self):\n",
    "        super(MLPclassifier, self).__init__()\n",
    "        self.linear_1 = nn.Linear(len(cols), 100)\n",
    "#         self.batch_norm = nn.BatchNorm1d(100)\n",
    "#         self.linear_2 = nn.Linear(300, 300)\n",
    "#         self.linear_3 = nn.Linear(300, 150)\n",
    "        self.linear_out = nn.Linear(100, len(df_lin['multi_class_target'].unique()))\n",
    "    def forward(self, x):\n",
    "        x = nn.functional.relu(self.linear_1(x))\n",
    "                \n",
    "#         x = self.batch_norm(x)\n",
    "#         x = nn.functional.relu(self.linear_2(x))\n",
    "#         x = nn.functional.relu(self.linear_3(x))\n",
    "\n",
    "        output = self.linear_out(x)\n",
    "        return output"
   ]
  },
  {
   "cell_type": "code",
   "execution_count": 2420,
   "metadata": {},
   "outputs": [],
   "source": [
    "from sklearn.preprocessing import MinMaxScaler"
   ]
  },
  {
   "cell_type": "code",
   "execution_count": 2421,
   "metadata": {},
   "outputs": [],
   "source": [
    "X_train, X_test = train_df_sampled[cols], test_df_lin[cols]\n",
    "y_train, y_test = train_df_sampled['multi_class_target'], test_df_lin['multi_class_target']"
   ]
  },
  {
   "cell_type": "code",
   "execution_count": 2422,
   "metadata": {},
   "outputs": [],
   "source": [
    "lb_target = LabelEncoder()\n",
    "lb_target.fit(train_df_lin['multi_class_target'])\n",
    "\n",
    "y_train = lb_target.transform(y_train)\n",
    "y_test = lb_target.transform(y_test)"
   ]
  },
  {
   "cell_type": "code",
   "execution_count": 2423,
   "metadata": {
    "collapsed": true,
    "jupyter": {
     "outputs_hidden": true
    }
   },
   "outputs": [
    {
     "ename": "ValueError",
     "evalue": "could not convert string to float: 'statement'",
     "output_type": "error",
     "traceback": [
      "\u001b[0;31m---------------------------------------------------------------------------\u001b[0m",
      "\u001b[0;31mValueError\u001b[0m                                Traceback (most recent call last)",
      "\u001b[0;32m<ipython-input-2423-243b2c3db34a>\u001b[0m in \u001b[0;36m<module>\u001b[0;34m\u001b[0m\n\u001b[1;32m      1\u001b[0m \u001b[0mscaler\u001b[0m \u001b[0;34m=\u001b[0m \u001b[0mMinMaxScaler\u001b[0m\u001b[0;34m(\u001b[0m\u001b[0;34m)\u001b[0m\u001b[0;34m\u001b[0m\u001b[0;34m\u001b[0m\u001b[0m\n\u001b[0;32m----> 2\u001b[0;31m \u001b[0mscaler\u001b[0m\u001b[0;34m.\u001b[0m\u001b[0mfit\u001b[0m\u001b[0;34m(\u001b[0m\u001b[0mX_train\u001b[0m\u001b[0;34m)\u001b[0m\u001b[0;34m\u001b[0m\u001b[0;34m\u001b[0m\u001b[0m\n\u001b[0m\u001b[1;32m      3\u001b[0m \u001b[0mX_train\u001b[0m \u001b[0;34m=\u001b[0m \u001b[0mscaler\u001b[0m\u001b[0;34m.\u001b[0m\u001b[0mtransform\u001b[0m\u001b[0;34m(\u001b[0m\u001b[0mX_train\u001b[0m\u001b[0;34m)\u001b[0m\u001b[0;34m\u001b[0m\u001b[0;34m\u001b[0m\u001b[0m\n\u001b[1;32m      4\u001b[0m \u001b[0mX_test\u001b[0m \u001b[0;34m=\u001b[0m \u001b[0mscaler\u001b[0m\u001b[0;34m.\u001b[0m\u001b[0mtransform\u001b[0m\u001b[0;34m(\u001b[0m\u001b[0mX_test\u001b[0m\u001b[0;34m)\u001b[0m\u001b[0;34m\u001b[0m\u001b[0;34m\u001b[0m\u001b[0m\n",
      "\u001b[0;32m~/.local/lib/python3.6/site-packages/sklearn/preprocessing/data.py\u001b[0m in \u001b[0;36mfit\u001b[0;34m(self, X, y)\u001b[0m\n\u001b[1;32m    323\u001b[0m         \u001b[0;31m# Reset internal state before fitting\u001b[0m\u001b[0;34m\u001b[0m\u001b[0;34m\u001b[0m\u001b[0;34m\u001b[0m\u001b[0m\n\u001b[1;32m    324\u001b[0m         \u001b[0mself\u001b[0m\u001b[0;34m.\u001b[0m\u001b[0m_reset\u001b[0m\u001b[0;34m(\u001b[0m\u001b[0;34m)\u001b[0m\u001b[0;34m\u001b[0m\u001b[0;34m\u001b[0m\u001b[0m\n\u001b[0;32m--> 325\u001b[0;31m         \u001b[0;32mreturn\u001b[0m \u001b[0mself\u001b[0m\u001b[0;34m.\u001b[0m\u001b[0mpartial_fit\u001b[0m\u001b[0;34m(\u001b[0m\u001b[0mX\u001b[0m\u001b[0;34m,\u001b[0m \u001b[0my\u001b[0m\u001b[0;34m)\u001b[0m\u001b[0;34m\u001b[0m\u001b[0;34m\u001b[0m\u001b[0m\n\u001b[0m\u001b[1;32m    326\u001b[0m \u001b[0;34m\u001b[0m\u001b[0m\n\u001b[1;32m    327\u001b[0m     \u001b[0;32mdef\u001b[0m \u001b[0mpartial_fit\u001b[0m\u001b[0;34m(\u001b[0m\u001b[0mself\u001b[0m\u001b[0;34m,\u001b[0m \u001b[0mX\u001b[0m\u001b[0;34m,\u001b[0m \u001b[0my\u001b[0m\u001b[0;34m=\u001b[0m\u001b[0;32mNone\u001b[0m\u001b[0;34m)\u001b[0m\u001b[0;34m:\u001b[0m\u001b[0;34m\u001b[0m\u001b[0;34m\u001b[0m\u001b[0m\n",
      "\u001b[0;32m~/.local/lib/python3.6/site-packages/sklearn/preprocessing/data.py\u001b[0m in \u001b[0;36mpartial_fit\u001b[0;34m(self, X, y)\u001b[0m\n\u001b[1;32m    351\u001b[0m         X = check_array(X, copy=self.copy,\n\u001b[1;32m    352\u001b[0m                         \u001b[0mestimator\u001b[0m\u001b[0;34m=\u001b[0m\u001b[0mself\u001b[0m\u001b[0;34m,\u001b[0m \u001b[0mdtype\u001b[0m\u001b[0;34m=\u001b[0m\u001b[0mFLOAT_DTYPES\u001b[0m\u001b[0;34m,\u001b[0m\u001b[0;34m\u001b[0m\u001b[0;34m\u001b[0m\u001b[0m\n\u001b[0;32m--> 353\u001b[0;31m                         force_all_finite=\"allow-nan\")\n\u001b[0m\u001b[1;32m    354\u001b[0m \u001b[0;34m\u001b[0m\u001b[0m\n\u001b[1;32m    355\u001b[0m         \u001b[0mdata_min\u001b[0m \u001b[0;34m=\u001b[0m \u001b[0mnp\u001b[0m\u001b[0;34m.\u001b[0m\u001b[0mnanmin\u001b[0m\u001b[0;34m(\u001b[0m\u001b[0mX\u001b[0m\u001b[0;34m,\u001b[0m \u001b[0maxis\u001b[0m\u001b[0;34m=\u001b[0m\u001b[0;36m0\u001b[0m\u001b[0;34m)\u001b[0m\u001b[0;34m\u001b[0m\u001b[0;34m\u001b[0m\u001b[0m\n",
      "\u001b[0;32m~/.local/lib/python3.6/site-packages/sklearn/utils/validation.py\u001b[0m in \u001b[0;36mcheck_array\u001b[0;34m(array, accept_sparse, accept_large_sparse, dtype, order, copy, force_all_finite, ensure_2d, allow_nd, ensure_min_samples, ensure_min_features, warn_on_dtype, estimator)\u001b[0m\n\u001b[1;32m    494\u001b[0m             \u001b[0;32mtry\u001b[0m\u001b[0;34m:\u001b[0m\u001b[0;34m\u001b[0m\u001b[0;34m\u001b[0m\u001b[0m\n\u001b[1;32m    495\u001b[0m                 \u001b[0mwarnings\u001b[0m\u001b[0;34m.\u001b[0m\u001b[0msimplefilter\u001b[0m\u001b[0;34m(\u001b[0m\u001b[0;34m'error'\u001b[0m\u001b[0;34m,\u001b[0m \u001b[0mComplexWarning\u001b[0m\u001b[0;34m)\u001b[0m\u001b[0;34m\u001b[0m\u001b[0;34m\u001b[0m\u001b[0m\n\u001b[0;32m--> 496\u001b[0;31m                 \u001b[0marray\u001b[0m \u001b[0;34m=\u001b[0m \u001b[0mnp\u001b[0m\u001b[0;34m.\u001b[0m\u001b[0masarray\u001b[0m\u001b[0;34m(\u001b[0m\u001b[0marray\u001b[0m\u001b[0;34m,\u001b[0m \u001b[0mdtype\u001b[0m\u001b[0;34m=\u001b[0m\u001b[0mdtype\u001b[0m\u001b[0;34m,\u001b[0m \u001b[0morder\u001b[0m\u001b[0;34m=\u001b[0m\u001b[0morder\u001b[0m\u001b[0;34m)\u001b[0m\u001b[0;34m\u001b[0m\u001b[0;34m\u001b[0m\u001b[0m\n\u001b[0m\u001b[1;32m    497\u001b[0m             \u001b[0;32mexcept\u001b[0m \u001b[0mComplexWarning\u001b[0m\u001b[0;34m:\u001b[0m\u001b[0;34m\u001b[0m\u001b[0;34m\u001b[0m\u001b[0m\n\u001b[1;32m    498\u001b[0m                 raise ValueError(\"Complex data not supported\\n\"\n",
      "\u001b[0;32m~/.local/lib/python3.6/site-packages/numpy/core/_asarray.py\u001b[0m in \u001b[0;36masarray\u001b[0;34m(a, dtype, order)\u001b[0m\n\u001b[1;32m     83\u001b[0m \u001b[0;34m\u001b[0m\u001b[0m\n\u001b[1;32m     84\u001b[0m     \"\"\"\n\u001b[0;32m---> 85\u001b[0;31m     \u001b[0;32mreturn\u001b[0m \u001b[0marray\u001b[0m\u001b[0;34m(\u001b[0m\u001b[0ma\u001b[0m\u001b[0;34m,\u001b[0m \u001b[0mdtype\u001b[0m\u001b[0;34m,\u001b[0m \u001b[0mcopy\u001b[0m\u001b[0;34m=\u001b[0m\u001b[0;32mFalse\u001b[0m\u001b[0;34m,\u001b[0m \u001b[0morder\u001b[0m\u001b[0;34m=\u001b[0m\u001b[0morder\u001b[0m\u001b[0;34m)\u001b[0m\u001b[0;34m\u001b[0m\u001b[0;34m\u001b[0m\u001b[0m\n\u001b[0m\u001b[1;32m     86\u001b[0m \u001b[0;34m\u001b[0m\u001b[0m\n\u001b[1;32m     87\u001b[0m \u001b[0;34m\u001b[0m\u001b[0m\n",
      "\u001b[0;32m~/.local/lib/python3.6/site-packages/pandas/core/generic.py\u001b[0m in \u001b[0;36m__array__\u001b[0;34m(self, dtype)\u001b[0m\n\u001b[1;32m   1779\u001b[0m \u001b[0;34m\u001b[0m\u001b[0m\n\u001b[1;32m   1780\u001b[0m     \u001b[0;32mdef\u001b[0m \u001b[0m__array__\u001b[0m\u001b[0;34m(\u001b[0m\u001b[0mself\u001b[0m\u001b[0;34m,\u001b[0m \u001b[0mdtype\u001b[0m\u001b[0;34m=\u001b[0m\u001b[0;32mNone\u001b[0m\u001b[0;34m)\u001b[0m \u001b[0;34m->\u001b[0m \u001b[0mnp\u001b[0m\u001b[0;34m.\u001b[0m\u001b[0mndarray\u001b[0m\u001b[0;34m:\u001b[0m\u001b[0;34m\u001b[0m\u001b[0;34m\u001b[0m\u001b[0m\n\u001b[0;32m-> 1781\u001b[0;31m         \u001b[0;32mreturn\u001b[0m \u001b[0mnp\u001b[0m\u001b[0;34m.\u001b[0m\u001b[0masarray\u001b[0m\u001b[0;34m(\u001b[0m\u001b[0mself\u001b[0m\u001b[0;34m.\u001b[0m\u001b[0m_values\u001b[0m\u001b[0;34m,\u001b[0m \u001b[0mdtype\u001b[0m\u001b[0;34m=\u001b[0m\u001b[0mdtype\u001b[0m\u001b[0;34m)\u001b[0m\u001b[0;34m\u001b[0m\u001b[0;34m\u001b[0m\u001b[0m\n\u001b[0m\u001b[1;32m   1782\u001b[0m \u001b[0;34m\u001b[0m\u001b[0m\n\u001b[1;32m   1783\u001b[0m     \u001b[0;32mdef\u001b[0m \u001b[0m__array_wrap__\u001b[0m\u001b[0;34m(\u001b[0m\u001b[0mself\u001b[0m\u001b[0;34m,\u001b[0m \u001b[0mresult\u001b[0m\u001b[0;34m,\u001b[0m \u001b[0mcontext\u001b[0m\u001b[0;34m=\u001b[0m\u001b[0;32mNone\u001b[0m\u001b[0;34m)\u001b[0m\u001b[0;34m:\u001b[0m\u001b[0;34m\u001b[0m\u001b[0;34m\u001b[0m\u001b[0m\n",
      "\u001b[0;32m~/.local/lib/python3.6/site-packages/numpy/core/_asarray.py\u001b[0m in \u001b[0;36masarray\u001b[0;34m(a, dtype, order)\u001b[0m\n\u001b[1;32m     83\u001b[0m \u001b[0;34m\u001b[0m\u001b[0m\n\u001b[1;32m     84\u001b[0m     \"\"\"\n\u001b[0;32m---> 85\u001b[0;31m     \u001b[0;32mreturn\u001b[0m \u001b[0marray\u001b[0m\u001b[0;34m(\u001b[0m\u001b[0ma\u001b[0m\u001b[0;34m,\u001b[0m \u001b[0mdtype\u001b[0m\u001b[0;34m,\u001b[0m \u001b[0mcopy\u001b[0m\u001b[0;34m=\u001b[0m\u001b[0;32mFalse\u001b[0m\u001b[0;34m,\u001b[0m \u001b[0morder\u001b[0m\u001b[0;34m=\u001b[0m\u001b[0morder\u001b[0m\u001b[0;34m)\u001b[0m\u001b[0;34m\u001b[0m\u001b[0;34m\u001b[0m\u001b[0m\n\u001b[0m\u001b[1;32m     86\u001b[0m \u001b[0;34m\u001b[0m\u001b[0m\n\u001b[1;32m     87\u001b[0m \u001b[0;34m\u001b[0m\u001b[0m\n",
      "\u001b[0;31mValueError\u001b[0m: could not convert string to float: 'statement'"
     ]
    }
   ],
   "source": [
    "scaler = MinMaxScaler()\n",
    "scaler.fit(X_train)\n",
    "\n",
    "X_train = scaler.transform(X_train)\n",
    "X_test = scaler.transform(X_test)"
   ]
  },
  {
   "cell_type": "code",
   "execution_count": null,
   "metadata": {},
   "outputs": [],
   "source": [
    "from sklearn.preprocessing import StandardScaler"
   ]
  },
  {
   "cell_type": "code",
   "execution_count": null,
   "metadata": {},
   "outputs": [],
   "source": [
    "ml_class = MLPclassifier()\n",
    "ml_class.train()"
   ]
  },
  {
   "cell_type": "code",
   "execution_count": null,
   "metadata": {},
   "outputs": [],
   "source": [
    "learning_rate = 1e-5\n",
    "optimizer = torch.optim.Adam(ml_class.parameters(), lr=learning_rate, weight_decay=0.2)\n",
    "\n",
    "loss_fn = torch.nn.CrossEntropyLoss()"
   ]
  },
  {
   "cell_type": "code",
   "execution_count": null,
   "metadata": {},
   "outputs": [],
   "source": [
    "optimizer = torch.optim.RMSprop(ml_class.parameters(), lr=learning_rate, weight_decay=0.2)"
   ]
  },
  {
   "cell_type": "code",
   "execution_count": null,
   "metadata": {},
   "outputs": [],
   "source": [
    "torch_tensor_test = torch.from_numpy(x_b.astype(np.float32))    "
   ]
  },
  {
   "cell_type": "code",
   "execution_count": null,
   "metadata": {},
   "outputs": [],
   "source": [
    "# learning_rate = 1e-3\n",
    "\n",
    "# optimizer = torch.optim.Adam(ml_class.parameters(), lr=learning_rate, weight_decay=0)\n",
    "# # scheduler = torch.optim.lr_scheduler.CosineAnnealingLR(optimizer, 20)"
   ]
  },
  {
   "cell_type": "code",
   "execution_count": null,
   "metadata": {},
   "outputs": [],
   "source": [
    "def weight_reset(m):\n",
    "    if isinstance(m, nn.Conv2d) or isinstance(m, nn.Linear):\n",
    "        m.reset_parameters()"
   ]
  },
  {
   "cell_type": "code",
   "execution_count": null,
   "metadata": {},
   "outputs": [],
   "source": [
    "torch.manual_seed(SEED)\n",
    "ml_class.apply(weight_reset)"
   ]
  },
  {
   "cell_type": "code",
   "execution_count": null,
   "metadata": {},
   "outputs": [],
   "source": [
    "steps = 20"
   ]
  },
  {
   "cell_type": "code",
   "execution_count": null,
   "metadata": {},
   "outputs": [],
   "source": [
    "learning_rate = 0.1\n",
    "weight_decay = 0.005\n",
    "momentum = 0.9\n",
    "\n",
    "optimizer = torch.optim.SGD(ml_class.parameters(), lr=learning_rate, weight_decay=weight_decay, momentum=momentum)\n",
    "\n",
    "scheduler = torch.optim.lr_scheduler.CosineAnnealingLR(optimizer, steps)\n",
    "\n",
    "loss_fn = torch.nn.CrossEntropyLoss()"
   ]
  },
  {
   "cell_type": "code",
   "execution_count": 2424,
   "metadata": {
    "collapsed": true,
    "jupyter": {
     "outputs_hidden": true
    }
   },
   "outputs": [
    {
     "ename": "ValueError",
     "evalue": "could not convert string to float: 'main_screen'",
     "output_type": "error",
     "traceback": [
      "\u001b[0;31m---------------------------------------------------------------------------\u001b[0m",
      "\u001b[0;31mValueError\u001b[0m                                Traceback (most recent call last)",
      "\u001b[0;32m<ipython-input-2424-391b08f5b6c5>\u001b[0m in \u001b[0;36m<module>\u001b[0;34m\u001b[0m\n\u001b[0;32m----> 1\u001b[0;31m \u001b[0mtorch_tensor_test\u001b[0m \u001b[0;34m=\u001b[0m \u001b[0mtorch\u001b[0m\u001b[0;34m.\u001b[0m\u001b[0mfrom_numpy\u001b[0m\u001b[0;34m(\u001b[0m\u001b[0mX_test\u001b[0m\u001b[0;34m.\u001b[0m\u001b[0mastype\u001b[0m\u001b[0;34m(\u001b[0m\u001b[0mnp\u001b[0m\u001b[0;34m.\u001b[0m\u001b[0mfloat32\u001b[0m\u001b[0;34m)\u001b[0m\u001b[0;34m)\u001b[0m\u001b[0;34m\u001b[0m\u001b[0;34m\u001b[0m\u001b[0m\n\u001b[0m\u001b[1;32m      2\u001b[0m \u001b[0;34m\u001b[0m\u001b[0m\n\u001b[1;32m      3\u001b[0m \u001b[0;32mfor\u001b[0m \u001b[0mt\u001b[0m \u001b[0;32min\u001b[0m \u001b[0mrange\u001b[0m\u001b[0;34m(\u001b[0m\u001b[0;36m3000\u001b[0m\u001b[0;34m)\u001b[0m\u001b[0;34m:\u001b[0m\u001b[0;34m\u001b[0m\u001b[0;34m\u001b[0m\u001b[0m\n\u001b[1;32m      4\u001b[0m     \u001b[0mnp\u001b[0m\u001b[0;34m.\u001b[0m\u001b[0mrandom\u001b[0m\u001b[0;34m.\u001b[0m\u001b[0mseed\u001b[0m\u001b[0;34m(\u001b[0m\u001b[0mt\u001b[0m\u001b[0;34m)\u001b[0m\u001b[0;34m\u001b[0m\u001b[0;34m\u001b[0m\u001b[0m\n\u001b[1;32m      5\u001b[0m \u001b[0;34m\u001b[0m\u001b[0m\n",
      "\u001b[0;32m~/.local/lib/python3.6/site-packages/pandas/core/generic.py\u001b[0m in \u001b[0;36mastype\u001b[0;34m(self, dtype, copy, errors)\u001b[0m\n\u001b[1;32m   5546\u001b[0m         \u001b[0;32melse\u001b[0m\u001b[0;34m:\u001b[0m\u001b[0;34m\u001b[0m\u001b[0;34m\u001b[0m\u001b[0m\n\u001b[1;32m   5547\u001b[0m             \u001b[0;31m# else, only a single dtype is given\u001b[0m\u001b[0;34m\u001b[0m\u001b[0;34m\u001b[0m\u001b[0;34m\u001b[0m\u001b[0m\n\u001b[0;32m-> 5548\u001b[0;31m             \u001b[0mnew_data\u001b[0m \u001b[0;34m=\u001b[0m \u001b[0mself\u001b[0m\u001b[0;34m.\u001b[0m\u001b[0m_mgr\u001b[0m\u001b[0;34m.\u001b[0m\u001b[0mastype\u001b[0m\u001b[0;34m(\u001b[0m\u001b[0mdtype\u001b[0m\u001b[0;34m=\u001b[0m\u001b[0mdtype\u001b[0m\u001b[0;34m,\u001b[0m \u001b[0mcopy\u001b[0m\u001b[0;34m=\u001b[0m\u001b[0mcopy\u001b[0m\u001b[0;34m,\u001b[0m \u001b[0merrors\u001b[0m\u001b[0;34m=\u001b[0m\u001b[0merrors\u001b[0m\u001b[0;34m,\u001b[0m\u001b[0;34m)\u001b[0m\u001b[0;34m\u001b[0m\u001b[0;34m\u001b[0m\u001b[0m\n\u001b[0m\u001b[1;32m   5549\u001b[0m             \u001b[0;32mreturn\u001b[0m \u001b[0mself\u001b[0m\u001b[0;34m.\u001b[0m\u001b[0m_constructor\u001b[0m\u001b[0;34m(\u001b[0m\u001b[0mnew_data\u001b[0m\u001b[0;34m)\u001b[0m\u001b[0;34m.\u001b[0m\u001b[0m__finalize__\u001b[0m\u001b[0;34m(\u001b[0m\u001b[0mself\u001b[0m\u001b[0;34m,\u001b[0m \u001b[0mmethod\u001b[0m\u001b[0;34m=\u001b[0m\u001b[0;34m\"astype\"\u001b[0m\u001b[0;34m)\u001b[0m\u001b[0;34m\u001b[0m\u001b[0;34m\u001b[0m\u001b[0m\n\u001b[1;32m   5550\u001b[0m \u001b[0;34m\u001b[0m\u001b[0m\n",
      "\u001b[0;32m~/.local/lib/python3.6/site-packages/pandas/core/internals/managers.py\u001b[0m in \u001b[0;36mastype\u001b[0;34m(self, dtype, copy, errors)\u001b[0m\n\u001b[1;32m    602\u001b[0m         \u001b[0mself\u001b[0m\u001b[0;34m,\u001b[0m \u001b[0mdtype\u001b[0m\u001b[0;34m,\u001b[0m \u001b[0mcopy\u001b[0m\u001b[0;34m:\u001b[0m \u001b[0mbool\u001b[0m \u001b[0;34m=\u001b[0m \u001b[0;32mFalse\u001b[0m\u001b[0;34m,\u001b[0m \u001b[0merrors\u001b[0m\u001b[0;34m:\u001b[0m \u001b[0mstr\u001b[0m \u001b[0;34m=\u001b[0m \u001b[0;34m\"raise\"\u001b[0m\u001b[0;34m\u001b[0m\u001b[0;34m\u001b[0m\u001b[0m\n\u001b[1;32m    603\u001b[0m     ) -> \"BlockManager\":\n\u001b[0;32m--> 604\u001b[0;31m         \u001b[0;32mreturn\u001b[0m \u001b[0mself\u001b[0m\u001b[0;34m.\u001b[0m\u001b[0mapply\u001b[0m\u001b[0;34m(\u001b[0m\u001b[0;34m\"astype\"\u001b[0m\u001b[0;34m,\u001b[0m \u001b[0mdtype\u001b[0m\u001b[0;34m=\u001b[0m\u001b[0mdtype\u001b[0m\u001b[0;34m,\u001b[0m \u001b[0mcopy\u001b[0m\u001b[0;34m=\u001b[0m\u001b[0mcopy\u001b[0m\u001b[0;34m,\u001b[0m \u001b[0merrors\u001b[0m\u001b[0;34m=\u001b[0m\u001b[0merrors\u001b[0m\u001b[0;34m)\u001b[0m\u001b[0;34m\u001b[0m\u001b[0;34m\u001b[0m\u001b[0m\n\u001b[0m\u001b[1;32m    605\u001b[0m \u001b[0;34m\u001b[0m\u001b[0m\n\u001b[1;32m    606\u001b[0m     def convert(\n",
      "\u001b[0;32m~/.local/lib/python3.6/site-packages/pandas/core/internals/managers.py\u001b[0m in \u001b[0;36mapply\u001b[0;34m(self, f, align_keys, **kwargs)\u001b[0m\n\u001b[1;32m    407\u001b[0m                 \u001b[0mapplied\u001b[0m \u001b[0;34m=\u001b[0m \u001b[0mb\u001b[0m\u001b[0;34m.\u001b[0m\u001b[0mapply\u001b[0m\u001b[0;34m(\u001b[0m\u001b[0mf\u001b[0m\u001b[0;34m,\u001b[0m \u001b[0;34m**\u001b[0m\u001b[0mkwargs\u001b[0m\u001b[0;34m)\u001b[0m\u001b[0;34m\u001b[0m\u001b[0;34m\u001b[0m\u001b[0m\n\u001b[1;32m    408\u001b[0m             \u001b[0;32melse\u001b[0m\u001b[0;34m:\u001b[0m\u001b[0;34m\u001b[0m\u001b[0;34m\u001b[0m\u001b[0m\n\u001b[0;32m--> 409\u001b[0;31m                 \u001b[0mapplied\u001b[0m \u001b[0;34m=\u001b[0m \u001b[0mgetattr\u001b[0m\u001b[0;34m(\u001b[0m\u001b[0mb\u001b[0m\u001b[0;34m,\u001b[0m \u001b[0mf\u001b[0m\u001b[0;34m)\u001b[0m\u001b[0;34m(\u001b[0m\u001b[0;34m**\u001b[0m\u001b[0mkwargs\u001b[0m\u001b[0;34m)\u001b[0m\u001b[0;34m\u001b[0m\u001b[0;34m\u001b[0m\u001b[0m\n\u001b[0m\u001b[1;32m    410\u001b[0m             \u001b[0mresult_blocks\u001b[0m \u001b[0;34m=\u001b[0m \u001b[0m_extend_blocks\u001b[0m\u001b[0;34m(\u001b[0m\u001b[0mapplied\u001b[0m\u001b[0;34m,\u001b[0m \u001b[0mresult_blocks\u001b[0m\u001b[0;34m)\u001b[0m\u001b[0;34m\u001b[0m\u001b[0;34m\u001b[0m\u001b[0m\n\u001b[1;32m    411\u001b[0m \u001b[0;34m\u001b[0m\u001b[0m\n",
      "\u001b[0;32m~/.local/lib/python3.6/site-packages/pandas/core/internals/blocks.py\u001b[0m in \u001b[0;36mastype\u001b[0;34m(self, dtype, copy, errors)\u001b[0m\n\u001b[1;32m    568\u001b[0m         \u001b[0;32mif\u001b[0m \u001b[0mself\u001b[0m\u001b[0;34m.\u001b[0m\u001b[0mis_extension\u001b[0m\u001b[0;34m:\u001b[0m\u001b[0;34m\u001b[0m\u001b[0;34m\u001b[0m\u001b[0m\n\u001b[1;32m    569\u001b[0m             \u001b[0;32mtry\u001b[0m\u001b[0;34m:\u001b[0m\u001b[0;34m\u001b[0m\u001b[0;34m\u001b[0m\u001b[0m\n\u001b[0;32m--> 570\u001b[0;31m                 \u001b[0mvalues\u001b[0m \u001b[0;34m=\u001b[0m \u001b[0mself\u001b[0m\u001b[0;34m.\u001b[0m\u001b[0mvalues\u001b[0m\u001b[0;34m.\u001b[0m\u001b[0mastype\u001b[0m\u001b[0;34m(\u001b[0m\u001b[0mdtype\u001b[0m\u001b[0;34m)\u001b[0m\u001b[0;34m\u001b[0m\u001b[0;34m\u001b[0m\u001b[0m\n\u001b[0m\u001b[1;32m    571\u001b[0m             \u001b[0;32mexcept\u001b[0m \u001b[0;34m(\u001b[0m\u001b[0mValueError\u001b[0m\u001b[0;34m,\u001b[0m \u001b[0mTypeError\u001b[0m\u001b[0;34m)\u001b[0m\u001b[0;34m:\u001b[0m\u001b[0;34m\u001b[0m\u001b[0;34m\u001b[0m\u001b[0m\n\u001b[1;32m    572\u001b[0m                 \u001b[0;32mif\u001b[0m \u001b[0merrors\u001b[0m \u001b[0;34m==\u001b[0m \u001b[0;34m\"ignore\"\u001b[0m\u001b[0;34m:\u001b[0m\u001b[0;34m\u001b[0m\u001b[0;34m\u001b[0m\u001b[0m\n",
      "\u001b[0;32m~/.local/lib/python3.6/site-packages/pandas/core/arrays/categorical.py\u001b[0m in \u001b[0;36mastype\u001b[0;34m(self, dtype, copy)\u001b[0m\n\u001b[1;32m    476\u001b[0m         \u001b[0;32mif\u001b[0m \u001b[0mis_integer_dtype\u001b[0m\u001b[0;34m(\u001b[0m\u001b[0mdtype\u001b[0m\u001b[0;34m)\u001b[0m \u001b[0;32mand\u001b[0m \u001b[0mself\u001b[0m\u001b[0;34m.\u001b[0m\u001b[0misna\u001b[0m\u001b[0;34m(\u001b[0m\u001b[0;34m)\u001b[0m\u001b[0;34m.\u001b[0m\u001b[0many\u001b[0m\u001b[0;34m(\u001b[0m\u001b[0;34m)\u001b[0m\u001b[0;34m:\u001b[0m\u001b[0;34m\u001b[0m\u001b[0;34m\u001b[0m\u001b[0m\n\u001b[1;32m    477\u001b[0m             \u001b[0;32mraise\u001b[0m \u001b[0mValueError\u001b[0m\u001b[0;34m(\u001b[0m\u001b[0;34m\"Cannot convert float NaN to integer\"\u001b[0m\u001b[0;34m)\u001b[0m\u001b[0;34m\u001b[0m\u001b[0;34m\u001b[0m\u001b[0m\n\u001b[0;32m--> 478\u001b[0;31m         \u001b[0;32mreturn\u001b[0m \u001b[0mnp\u001b[0m\u001b[0;34m.\u001b[0m\u001b[0marray\u001b[0m\u001b[0;34m(\u001b[0m\u001b[0mself\u001b[0m\u001b[0;34m,\u001b[0m \u001b[0mdtype\u001b[0m\u001b[0;34m=\u001b[0m\u001b[0mdtype\u001b[0m\u001b[0;34m,\u001b[0m \u001b[0mcopy\u001b[0m\u001b[0;34m=\u001b[0m\u001b[0mcopy\u001b[0m\u001b[0;34m)\u001b[0m\u001b[0;34m\u001b[0m\u001b[0;34m\u001b[0m\u001b[0m\n\u001b[0m\u001b[1;32m    479\u001b[0m \u001b[0;34m\u001b[0m\u001b[0m\n\u001b[1;32m    480\u001b[0m     \u001b[0;34m@\u001b[0m\u001b[0mcache_readonly\u001b[0m\u001b[0;34m\u001b[0m\u001b[0;34m\u001b[0m\u001b[0m\n",
      "\u001b[0;32m~/.local/lib/python3.6/site-packages/pandas/core/arrays/categorical.py\u001b[0m in \u001b[0;36m__array__\u001b[0;34m(self, dtype)\u001b[0m\n\u001b[1;32m   1252\u001b[0m         \u001b[0mret\u001b[0m \u001b[0;34m=\u001b[0m \u001b[0mtake_1d\u001b[0m\u001b[0;34m(\u001b[0m\u001b[0mself\u001b[0m\u001b[0;34m.\u001b[0m\u001b[0mcategories\u001b[0m\u001b[0;34m.\u001b[0m\u001b[0mvalues\u001b[0m\u001b[0;34m,\u001b[0m \u001b[0mself\u001b[0m\u001b[0;34m.\u001b[0m\u001b[0m_codes\u001b[0m\u001b[0;34m)\u001b[0m\u001b[0;34m\u001b[0m\u001b[0;34m\u001b[0m\u001b[0m\n\u001b[1;32m   1253\u001b[0m         \u001b[0;32mif\u001b[0m \u001b[0mdtype\u001b[0m \u001b[0;32mand\u001b[0m \u001b[0;32mnot\u001b[0m \u001b[0mis_dtype_equal\u001b[0m\u001b[0;34m(\u001b[0m\u001b[0mdtype\u001b[0m\u001b[0;34m,\u001b[0m \u001b[0mself\u001b[0m\u001b[0;34m.\u001b[0m\u001b[0mcategories\u001b[0m\u001b[0;34m.\u001b[0m\u001b[0mdtype\u001b[0m\u001b[0;34m)\u001b[0m\u001b[0;34m:\u001b[0m\u001b[0;34m\u001b[0m\u001b[0;34m\u001b[0m\u001b[0m\n\u001b[0;32m-> 1254\u001b[0;31m             \u001b[0;32mreturn\u001b[0m \u001b[0mnp\u001b[0m\u001b[0;34m.\u001b[0m\u001b[0masarray\u001b[0m\u001b[0;34m(\u001b[0m\u001b[0mret\u001b[0m\u001b[0;34m,\u001b[0m \u001b[0mdtype\u001b[0m\u001b[0;34m)\u001b[0m\u001b[0;34m\u001b[0m\u001b[0;34m\u001b[0m\u001b[0m\n\u001b[0m\u001b[1;32m   1255\u001b[0m         \u001b[0;32mif\u001b[0m \u001b[0mis_extension_array_dtype\u001b[0m\u001b[0;34m(\u001b[0m\u001b[0mret\u001b[0m\u001b[0;34m)\u001b[0m\u001b[0;34m:\u001b[0m\u001b[0;34m\u001b[0m\u001b[0;34m\u001b[0m\u001b[0m\n\u001b[1;32m   1256\u001b[0m             \u001b[0;31m# When we're a Categorical[ExtensionArray], like Interval,\u001b[0m\u001b[0;34m\u001b[0m\u001b[0;34m\u001b[0m\u001b[0;34m\u001b[0m\u001b[0m\n",
      "\u001b[0;32m~/.local/lib/python3.6/site-packages/numpy/core/_asarray.py\u001b[0m in \u001b[0;36masarray\u001b[0;34m(a, dtype, order)\u001b[0m\n\u001b[1;32m     83\u001b[0m \u001b[0;34m\u001b[0m\u001b[0m\n\u001b[1;32m     84\u001b[0m     \"\"\"\n\u001b[0;32m---> 85\u001b[0;31m     \u001b[0;32mreturn\u001b[0m \u001b[0marray\u001b[0m\u001b[0;34m(\u001b[0m\u001b[0ma\u001b[0m\u001b[0;34m,\u001b[0m \u001b[0mdtype\u001b[0m\u001b[0;34m,\u001b[0m \u001b[0mcopy\u001b[0m\u001b[0;34m=\u001b[0m\u001b[0;32mFalse\u001b[0m\u001b[0;34m,\u001b[0m \u001b[0morder\u001b[0m\u001b[0;34m=\u001b[0m\u001b[0morder\u001b[0m\u001b[0;34m)\u001b[0m\u001b[0;34m\u001b[0m\u001b[0;34m\u001b[0m\u001b[0m\n\u001b[0m\u001b[1;32m     86\u001b[0m \u001b[0;34m\u001b[0m\u001b[0m\n\u001b[1;32m     87\u001b[0m \u001b[0;34m\u001b[0m\u001b[0m\n",
      "\u001b[0;31mValueError\u001b[0m: could not convert string to float: 'main_screen'"
     ]
    }
   ],
   "source": [
    "torch_tensor_test = torch.from_numpy(X_test.astype(np.float32))\n",
    "\n",
    "for t in range(3000):\n",
    "    np.random.seed(t)\n",
    "    \n",
    "    ind_train = np.random.choice(X_train.shape[0], int(3e4), replace=False)\n",
    "    \n",
    "    x, y = X_train[ind_train], y_train[ind_train]\n",
    "    \n",
    "    torch_tensor = torch.from_numpy(x.astype(np.float32))\n",
    "    torch_tensor_target = torch.from_numpy(y)\n",
    "\n",
    "    y_pred = ml_class(torch_tensor)\n",
    "    loss = loss_fn(y_pred, torch_tensor_target)\n",
    "   \n",
    "    loss.backward()\n",
    "    optimizer.step()\n",
    "    optimizer.zero_grad()\n",
    "    \n",
    "    scheduler.step()\n",
    "    \n",
    "    if t% steps == 0:\n",
    "        print('На трейне:', loss)\n",
    "        print('На трейне f1:', f1_score(y, y_pred.argmax(dim=-1).cpu().detach().numpy(), average='macro'))\n",
    "        scheduler = torch.optim.lr_scheduler.CosineAnnealingLR(optimizer, steps)\n",
    "        y_pred = ml_class(torch_tensor_test).argmax(dim=-1).cpu().detach().numpy()\n",
    "        print(f1_score(y_test, y_pred, average='macro'))"
   ]
  },
  {
   "cell_type": "code",
   "execution_count": 2855,
   "metadata": {},
   "outputs": [
    {
     "data": {
      "text/plain": [
       "array([[0.        , 0.        , 0.00382777, ..., 0.03536412, 0.03136918,\n",
       "        0.00547327],\n",
       "       [0.        , 0.        , 0.01056873, ..., 0.01496774, 0.03136918,\n",
       "        0.00561277],\n",
       "       [0.        , 0.        , 0.00973864, ..., 0.04549195, 0.04546028,\n",
       "        0.02091962],\n",
       "       ...,\n",
       "       [0.09097706, 0.        , 0.26422826, ..., 0.02556818, 0.03136918,\n",
       "        0.02091962],\n",
       "       [0.00328901, 0.        , 0.00050704, ..., 0.04549195, 0.03136918,\n",
       "        0.04621706],\n",
       "       [0.01014549, 0.00200401, 0.00066603, ..., 0.01496774, 0.03136918,\n",
       "        0.02091962]])"
      ]
     },
     "execution_count": 2855,
     "metadata": {},
     "output_type": "execute_result"
    }
   ],
   "source": [
    "X_test"
   ]
  },
  {
   "cell_type": "markdown",
   "metadata": {},
   "source": [
    "### Применение catboost"
   ]
  },
  {
   "cell_type": "code",
   "execution_count": 112,
   "metadata": {},
   "outputs": [],
   "source": [
    "cv_clsf = cb.CatBoostClassifier(objective='MultiClass', custom_metric=['F1'], verbose=True, eval_metric='TotalF1:average=Macro', random_seed=SEED)"
   ]
  },
  {
   "cell_type": "code",
   "execution_count": 114,
   "metadata": {
    "collapsed": true,
    "jupyter": {
     "outputs_hidden": true
    }
   },
   "outputs": [
    {
     "ename": "KeyboardInterrupt",
     "evalue": "",
     "output_type": "error",
     "traceback": [
      "\u001b[0;31m---------------------------------------------------------------------------\u001b[0m",
      "\u001b[0;31mKeyboardInterrupt\u001b[0m                         Traceback (most recent call last)",
      "\u001b[0;32m<ipython-input-114-af880a1ca364>\u001b[0m in \u001b[0;36m<module>\u001b[0;34m\u001b[0m\n\u001b[0;32m----> 1\u001b[0;31m \u001b[0mcv_clsf\u001b[0m\u001b[0;34m.\u001b[0m\u001b[0mfit\u001b[0m\u001b[0;34m(\u001b[0m\u001b[0mtrain_df_less\u001b[0m\u001b[0;34m[\u001b[0m\u001b[0matrs\u001b[0m\u001b[0;34m]\u001b[0m\u001b[0;34m,\u001b[0m \u001b[0mtrain_df_less\u001b[0m\u001b[0;34m[\u001b[0m\u001b[0;34m'multi_class_target'\u001b[0m\u001b[0;34m]\u001b[0m\u001b[0;34m,\u001b[0m \u001b[0meval_set\u001b[0m\u001b[0;34m=\u001b[0m\u001b[0;34m(\u001b[0m\u001b[0mtest_df\u001b[0m\u001b[0;34m[\u001b[0m\u001b[0matrs\u001b[0m\u001b[0;34m]\u001b[0m\u001b[0;34m,\u001b[0m \u001b[0mtest_df\u001b[0m\u001b[0;34m[\u001b[0m\u001b[0;34m'multi_class_target'\u001b[0m\u001b[0;34m]\u001b[0m\u001b[0;34m)\u001b[0m\u001b[0;34m,\u001b[0m \u001b[0mverbose\u001b[0m\u001b[0;34m=\u001b[0m\u001b[0;36m4\u001b[0m\u001b[0;34m,\u001b[0m \u001b[0mcat_features\u001b[0m\u001b[0;34m=\u001b[0m\u001b[0mcat_atrs\u001b[0m\u001b[0;34m,\u001b[0m \u001b[0muse_best_model\u001b[0m\u001b[0;34m=\u001b[0m\u001b[0;32mTrue\u001b[0m\u001b[0;34m,\u001b[0m \u001b[0mearly_stopping_rounds\u001b[0m\u001b[0;34m=\u001b[0m\u001b[0;36m50\u001b[0m\u001b[0;34m)\u001b[0m\u001b[0;34m\u001b[0m\u001b[0;34m\u001b[0m\u001b[0m\n\u001b[0m",
      "\u001b[0;32m~/.local/lib/python3.6/site-packages/catboost/core.py\u001b[0m in \u001b[0;36mfit\u001b[0;34m(self, X, y, cat_features, text_features, embedding_features, sample_weight, baseline, use_best_model, eval_set, verbose, logging_level, plot, column_description, verbose_eval, metric_period, silent, early_stopping_rounds, save_snapshot, snapshot_file, snapshot_interval, init_model)\u001b[0m\n\u001b[1;32m   4302\u001b[0m         self._fit(X, y, cat_features, text_features, embedding_features, None, sample_weight, None, None, None, None, baseline, use_best_model,\n\u001b[1;32m   4303\u001b[0m                   \u001b[0meval_set\u001b[0m\u001b[0;34m,\u001b[0m \u001b[0mverbose\u001b[0m\u001b[0;34m,\u001b[0m \u001b[0mlogging_level\u001b[0m\u001b[0;34m,\u001b[0m \u001b[0mplot\u001b[0m\u001b[0;34m,\u001b[0m \u001b[0mcolumn_description\u001b[0m\u001b[0;34m,\u001b[0m \u001b[0mverbose_eval\u001b[0m\u001b[0;34m,\u001b[0m \u001b[0mmetric_period\u001b[0m\u001b[0;34m,\u001b[0m\u001b[0;34m\u001b[0m\u001b[0;34m\u001b[0m\u001b[0m\n\u001b[0;32m-> 4304\u001b[0;31m                   silent, early_stopping_rounds, save_snapshot, snapshot_file, snapshot_interval, init_model)\n\u001b[0m\u001b[1;32m   4305\u001b[0m         \u001b[0;32mreturn\u001b[0m \u001b[0mself\u001b[0m\u001b[0;34m\u001b[0m\u001b[0;34m\u001b[0m\u001b[0m\n\u001b[1;32m   4306\u001b[0m \u001b[0;34m\u001b[0m\u001b[0m\n",
      "\u001b[0;32m~/.local/lib/python3.6/site-packages/catboost/core.py\u001b[0m in \u001b[0;36m_fit\u001b[0;34m(self, X, y, cat_features, text_features, embedding_features, pairs, sample_weight, group_id, group_weight, subgroup_id, pairs_weight, baseline, use_best_model, eval_set, verbose, logging_level, plot, column_description, verbose_eval, metric_period, silent, early_stopping_rounds, save_snapshot, snapshot_file, snapshot_interval, init_model)\u001b[0m\n\u001b[1;32m   1797\u001b[0m             \u001b[0muse_best_model\u001b[0m\u001b[0;34m,\u001b[0m \u001b[0meval_set\u001b[0m\u001b[0;34m,\u001b[0m \u001b[0mverbose\u001b[0m\u001b[0;34m,\u001b[0m \u001b[0mlogging_level\u001b[0m\u001b[0;34m,\u001b[0m \u001b[0mplot\u001b[0m\u001b[0;34m,\u001b[0m\u001b[0;34m\u001b[0m\u001b[0;34m\u001b[0m\u001b[0m\n\u001b[1;32m   1798\u001b[0m             \u001b[0mcolumn_description\u001b[0m\u001b[0;34m,\u001b[0m \u001b[0mverbose_eval\u001b[0m\u001b[0;34m,\u001b[0m \u001b[0mmetric_period\u001b[0m\u001b[0;34m,\u001b[0m \u001b[0msilent\u001b[0m\u001b[0;34m,\u001b[0m \u001b[0mearly_stopping_rounds\u001b[0m\u001b[0;34m,\u001b[0m\u001b[0;34m\u001b[0m\u001b[0;34m\u001b[0m\u001b[0m\n\u001b[0;32m-> 1799\u001b[0;31m             \u001b[0msave_snapshot\u001b[0m\u001b[0;34m,\u001b[0m \u001b[0msnapshot_file\u001b[0m\u001b[0;34m,\u001b[0m \u001b[0msnapshot_interval\u001b[0m\u001b[0;34m,\u001b[0m \u001b[0minit_model\u001b[0m\u001b[0;34m\u001b[0m\u001b[0;34m\u001b[0m\u001b[0m\n\u001b[0m\u001b[1;32m   1800\u001b[0m         )\n\u001b[1;32m   1801\u001b[0m         \u001b[0mparams\u001b[0m \u001b[0;34m=\u001b[0m \u001b[0mtrain_params\u001b[0m\u001b[0;34m[\u001b[0m\u001b[0;34m\"params\"\u001b[0m\u001b[0;34m]\u001b[0m\u001b[0;34m\u001b[0m\u001b[0;34m\u001b[0m\u001b[0m\n",
      "\u001b[0;32m~/.local/lib/python3.6/site-packages/catboost/core.py\u001b[0m in \u001b[0;36m_prepare_train_params\u001b[0;34m(self, X, y, cat_features, text_features, embedding_features, pairs, sample_weight, group_id, group_weight, subgroup_id, pairs_weight, baseline, use_best_model, eval_set, verbose, logging_level, plot, column_description, verbose_eval, metric_period, silent, early_stopping_rounds, save_snapshot, snapshot_file, snapshot_interval, init_model)\u001b[0m\n\u001b[1;32m   1684\u001b[0m         train_pool = _build_train_pool(X, y, cat_features, text_features, embedding_features, pairs,\n\u001b[1;32m   1685\u001b[0m                                        \u001b[0msample_weight\u001b[0m\u001b[0;34m,\u001b[0m \u001b[0mgroup_id\u001b[0m\u001b[0;34m,\u001b[0m \u001b[0mgroup_weight\u001b[0m\u001b[0;34m,\u001b[0m \u001b[0msubgroup_id\u001b[0m\u001b[0;34m,\u001b[0m \u001b[0mpairs_weight\u001b[0m\u001b[0;34m,\u001b[0m\u001b[0;34m\u001b[0m\u001b[0;34m\u001b[0m\u001b[0m\n\u001b[0;32m-> 1686\u001b[0;31m                                        baseline, column_description)\n\u001b[0m\u001b[1;32m   1687\u001b[0m         \u001b[0;32mif\u001b[0m \u001b[0mtrain_pool\u001b[0m\u001b[0;34m.\u001b[0m\u001b[0mis_empty_\u001b[0m\u001b[0;34m:\u001b[0m\u001b[0;34m\u001b[0m\u001b[0;34m\u001b[0m\u001b[0m\n\u001b[1;32m   1688\u001b[0m             \u001b[0;32mraise\u001b[0m \u001b[0mCatBoostError\u001b[0m\u001b[0;34m(\u001b[0m\u001b[0;34m\"X is empty.\"\u001b[0m\u001b[0;34m)\u001b[0m\u001b[0;34m\u001b[0m\u001b[0;34m\u001b[0m\u001b[0m\n",
      "\u001b[0;32m~/.local/lib/python3.6/site-packages/catboost/core.py\u001b[0m in \u001b[0;36m_build_train_pool\u001b[0;34m(X, y, cat_features, text_features, embedding_features, pairs, sample_weight, group_id, group_weight, subgroup_id, pairs_weight, baseline, column_description)\u001b[0m\n\u001b[1;32m    983\u001b[0m             \u001b[0;32mraise\u001b[0m \u001b[0mCatBoostError\u001b[0m\u001b[0;34m(\u001b[0m\u001b[0;34m\"y has not initialized in fit(): X is not catboost.Pool object, y must be not None in fit().\"\u001b[0m\u001b[0;34m)\u001b[0m\u001b[0;34m\u001b[0m\u001b[0;34m\u001b[0m\u001b[0m\n\u001b[1;32m    984\u001b[0m         train_pool = Pool(X, y, cat_features=cat_features, text_features=text_features, embedding_features=embedding_features, pairs=pairs, weight=sample_weight, group_id=group_id,\n\u001b[0;32m--> 985\u001b[0;31m                           group_weight=group_weight, subgroup_id=subgroup_id, pairs_weight=pairs_weight, baseline=baseline)\n\u001b[0m\u001b[1;32m    986\u001b[0m     \u001b[0;32mreturn\u001b[0m \u001b[0mtrain_pool\u001b[0m\u001b[0;34m\u001b[0m\u001b[0;34m\u001b[0m\u001b[0m\n\u001b[1;32m    987\u001b[0m \u001b[0;34m\u001b[0m\u001b[0m\n",
      "\u001b[0;32m~/.local/lib/python3.6/site-packages/catboost/core.py\u001b[0m in \u001b[0;36m__init__\u001b[0;34m(self, data, label, cat_features, text_features, embedding_features, column_description, pairs, delimiter, has_header, ignore_csv_quoting, weight, group_id, group_weight, subgroup_id, pairs_weight, baseline, feature_names, thread_count)\u001b[0m\n\u001b[1;32m    453\u001b[0m                     )\n\u001b[1;32m    454\u001b[0m \u001b[0;34m\u001b[0m\u001b[0m\n\u001b[0;32m--> 455\u001b[0;31m                 \u001b[0mself\u001b[0m\u001b[0;34m.\u001b[0m\u001b[0m_init\u001b[0m\u001b[0;34m(\u001b[0m\u001b[0mdata\u001b[0m\u001b[0;34m,\u001b[0m \u001b[0mlabel\u001b[0m\u001b[0;34m,\u001b[0m \u001b[0mcat_features\u001b[0m\u001b[0;34m,\u001b[0m \u001b[0mtext_features\u001b[0m\u001b[0;34m,\u001b[0m \u001b[0membedding_features\u001b[0m\u001b[0;34m,\u001b[0m \u001b[0mpairs\u001b[0m\u001b[0;34m,\u001b[0m \u001b[0mweight\u001b[0m\u001b[0;34m,\u001b[0m \u001b[0mgroup_id\u001b[0m\u001b[0;34m,\u001b[0m \u001b[0mgroup_weight\u001b[0m\u001b[0;34m,\u001b[0m \u001b[0msubgroup_id\u001b[0m\u001b[0;34m,\u001b[0m \u001b[0mpairs_weight\u001b[0m\u001b[0;34m,\u001b[0m \u001b[0mbaseline\u001b[0m\u001b[0;34m,\u001b[0m \u001b[0mfeature_names\u001b[0m\u001b[0;34m,\u001b[0m \u001b[0mthread_count\u001b[0m\u001b[0;34m)\u001b[0m\u001b[0;34m\u001b[0m\u001b[0;34m\u001b[0m\u001b[0m\n\u001b[0m\u001b[1;32m    456\u001b[0m         \u001b[0msuper\u001b[0m\u001b[0;34m(\u001b[0m\u001b[0mPool\u001b[0m\u001b[0;34m,\u001b[0m \u001b[0mself\u001b[0m\u001b[0;34m)\u001b[0m\u001b[0;34m.\u001b[0m\u001b[0m__init__\u001b[0m\u001b[0;34m(\u001b[0m\u001b[0;34m)\u001b[0m\u001b[0;34m\u001b[0m\u001b[0;34m\u001b[0m\u001b[0m\n\u001b[1;32m    457\u001b[0m \u001b[0;34m\u001b[0m\u001b[0m\n",
      "\u001b[0;32m~/.local/lib/python3.6/site-packages/catboost/core.py\u001b[0m in \u001b[0;36m_init\u001b[0;34m(self, data, label, cat_features, text_features, embedding_features, pairs, weight, group_id, group_weight, subgroup_id, pairs_weight, baseline, feature_names, thread_count)\u001b[0m\n\u001b[1;32m    964\u001b[0m             \u001b[0mbaseline\u001b[0m \u001b[0;34m=\u001b[0m \u001b[0mnp\u001b[0m\u001b[0;34m.\u001b[0m\u001b[0mreshape\u001b[0m\u001b[0;34m(\u001b[0m\u001b[0mbaseline\u001b[0m\u001b[0;34m,\u001b[0m \u001b[0;34m(\u001b[0m\u001b[0msamples_count\u001b[0m\u001b[0;34m,\u001b[0m \u001b[0;34m-\u001b[0m\u001b[0;36m1\u001b[0m\u001b[0;34m)\u001b[0m\u001b[0;34m)\u001b[0m\u001b[0;34m\u001b[0m\u001b[0;34m\u001b[0m\u001b[0m\n\u001b[1;32m    965\u001b[0m             \u001b[0mself\u001b[0m\u001b[0;34m.\u001b[0m\u001b[0m_check_baseline_shape\u001b[0m\u001b[0;34m(\u001b[0m\u001b[0mbaseline\u001b[0m\u001b[0;34m,\u001b[0m \u001b[0msamples_count\u001b[0m\u001b[0;34m)\u001b[0m\u001b[0;34m\u001b[0m\u001b[0;34m\u001b[0m\u001b[0m\n\u001b[0;32m--> 966\u001b[0;31m         \u001b[0mself\u001b[0m\u001b[0;34m.\u001b[0m\u001b[0m_init_pool\u001b[0m\u001b[0;34m(\u001b[0m\u001b[0mdata\u001b[0m\u001b[0;34m,\u001b[0m \u001b[0mlabel\u001b[0m\u001b[0;34m,\u001b[0m \u001b[0mcat_features\u001b[0m\u001b[0;34m,\u001b[0m \u001b[0mtext_features\u001b[0m\u001b[0;34m,\u001b[0m \u001b[0membedding_features\u001b[0m\u001b[0;34m,\u001b[0m \u001b[0mpairs\u001b[0m\u001b[0;34m,\u001b[0m \u001b[0mweight\u001b[0m\u001b[0;34m,\u001b[0m \u001b[0mgroup_id\u001b[0m\u001b[0;34m,\u001b[0m \u001b[0mgroup_weight\u001b[0m\u001b[0;34m,\u001b[0m \u001b[0msubgroup_id\u001b[0m\u001b[0;34m,\u001b[0m \u001b[0mpairs_weight\u001b[0m\u001b[0;34m,\u001b[0m \u001b[0mbaseline\u001b[0m\u001b[0;34m,\u001b[0m \u001b[0mfeature_names\u001b[0m\u001b[0;34m,\u001b[0m \u001b[0mthread_count\u001b[0m\u001b[0;34m)\u001b[0m\u001b[0;34m\u001b[0m\u001b[0;34m\u001b[0m\u001b[0m\n\u001b[0m\u001b[1;32m    967\u001b[0m \u001b[0;34m\u001b[0m\u001b[0m\n\u001b[1;32m    968\u001b[0m \u001b[0;34m\u001b[0m\u001b[0m\n",
      "\u001b[0;32m_catboost.pyx\u001b[0m in \u001b[0;36m_catboost._PoolBase._init_pool\u001b[0;34m()\u001b[0m\n",
      "\u001b[0;32m_catboost.pyx\u001b[0m in \u001b[0;36m_catboost._PoolBase._init_pool\u001b[0;34m()\u001b[0m\n",
      "\u001b[0;32m_catboost.pyx\u001b[0m in \u001b[0;36m_catboost._PoolBase._init_features_order_layout_pool\u001b[0;34m()\u001b[0m\n",
      "\u001b[0;32m_catboost.pyx\u001b[0m in \u001b[0;36m_catboost._set_features_order_data_pd_data_frame\u001b[0;34m()\u001b[0m\n",
      "\u001b[0;32m~/.local/lib/python3.6/site-packages/pandas/core/frame.py\u001b[0m in \u001b[0;36miteritems\u001b[0;34m(self)\u001b[0m\n\u001b[1;32m    962\u001b[0m     \u001b[0;34m@\u001b[0m\u001b[0mAppender\u001b[0m\u001b[0;34m(\u001b[0m\u001b[0m_shared_docs\u001b[0m\u001b[0;34m[\u001b[0m\u001b[0;34m\"items\"\u001b[0m\u001b[0;34m]\u001b[0m\u001b[0;34m)\u001b[0m\u001b[0;34m\u001b[0m\u001b[0;34m\u001b[0m\u001b[0m\n\u001b[1;32m    963\u001b[0m     \u001b[0;32mdef\u001b[0m \u001b[0miteritems\u001b[0m\u001b[0;34m(\u001b[0m\u001b[0mself\u001b[0m\u001b[0;34m)\u001b[0m \u001b[0;34m->\u001b[0m \u001b[0mIterable\u001b[0m\u001b[0;34m[\u001b[0m\u001b[0mTuple\u001b[0m\u001b[0;34m[\u001b[0m\u001b[0mLabel\u001b[0m\u001b[0;34m,\u001b[0m \u001b[0mSeries\u001b[0m\u001b[0;34m]\u001b[0m\u001b[0;34m]\u001b[0m\u001b[0;34m:\u001b[0m\u001b[0;34m\u001b[0m\u001b[0;34m\u001b[0m\u001b[0m\n\u001b[0;32m--> 964\u001b[0;31m         \u001b[0;32myield\u001b[0m \u001b[0;32mfrom\u001b[0m \u001b[0mself\u001b[0m\u001b[0;34m.\u001b[0m\u001b[0mitems\u001b[0m\u001b[0;34m(\u001b[0m\u001b[0;34m)\u001b[0m\u001b[0;34m\u001b[0m\u001b[0;34m\u001b[0m\u001b[0m\n\u001b[0m\u001b[1;32m    965\u001b[0m \u001b[0;34m\u001b[0m\u001b[0m\n\u001b[1;32m    966\u001b[0m     \u001b[0;32mdef\u001b[0m \u001b[0miterrows\u001b[0m\u001b[0;34m(\u001b[0m\u001b[0mself\u001b[0m\u001b[0;34m)\u001b[0m \u001b[0;34m->\u001b[0m \u001b[0mIterable\u001b[0m\u001b[0;34m[\u001b[0m\u001b[0mTuple\u001b[0m\u001b[0;34m[\u001b[0m\u001b[0mLabel\u001b[0m\u001b[0;34m,\u001b[0m \u001b[0mSeries\u001b[0m\u001b[0;34m]\u001b[0m\u001b[0;34m]\u001b[0m\u001b[0;34m:\u001b[0m\u001b[0;34m\u001b[0m\u001b[0;34m\u001b[0m\u001b[0m\n",
      "\u001b[0;32m~/.local/lib/python3.6/site-packages/pandas/core/frame.py\u001b[0m in \u001b[0;36mitems\u001b[0;34m(self)\u001b[0m\n\u001b[1;32m    955\u001b[0m         \u001b[0;32mif\u001b[0m \u001b[0mself\u001b[0m\u001b[0;34m.\u001b[0m\u001b[0mcolumns\u001b[0m\u001b[0;34m.\u001b[0m\u001b[0mis_unique\u001b[0m \u001b[0;32mand\u001b[0m \u001b[0mhasattr\u001b[0m\u001b[0;34m(\u001b[0m\u001b[0mself\u001b[0m\u001b[0;34m,\u001b[0m \u001b[0;34m\"_item_cache\"\u001b[0m\u001b[0;34m)\u001b[0m\u001b[0;34m:\u001b[0m\u001b[0;34m\u001b[0m\u001b[0;34m\u001b[0m\u001b[0m\n\u001b[1;32m    956\u001b[0m             \u001b[0;32mfor\u001b[0m \u001b[0mk\u001b[0m \u001b[0;32min\u001b[0m \u001b[0mself\u001b[0m\u001b[0;34m.\u001b[0m\u001b[0mcolumns\u001b[0m\u001b[0;34m:\u001b[0m\u001b[0;34m\u001b[0m\u001b[0;34m\u001b[0m\u001b[0m\n\u001b[0;32m--> 957\u001b[0;31m                 \u001b[0;32myield\u001b[0m \u001b[0mk\u001b[0m\u001b[0;34m,\u001b[0m \u001b[0mself\u001b[0m\u001b[0;34m.\u001b[0m\u001b[0m_get_item_cache\u001b[0m\u001b[0;34m(\u001b[0m\u001b[0mk\u001b[0m\u001b[0;34m)\u001b[0m\u001b[0;34m\u001b[0m\u001b[0;34m\u001b[0m\u001b[0m\n\u001b[0m\u001b[1;32m    958\u001b[0m         \u001b[0;32melse\u001b[0m\u001b[0;34m:\u001b[0m\u001b[0;34m\u001b[0m\u001b[0;34m\u001b[0m\u001b[0m\n\u001b[1;32m    959\u001b[0m             \u001b[0;32mfor\u001b[0m \u001b[0mi\u001b[0m\u001b[0;34m,\u001b[0m \u001b[0mk\u001b[0m \u001b[0;32min\u001b[0m \u001b[0menumerate\u001b[0m\u001b[0;34m(\u001b[0m\u001b[0mself\u001b[0m\u001b[0;34m.\u001b[0m\u001b[0mcolumns\u001b[0m\u001b[0;34m)\u001b[0m\u001b[0;34m:\u001b[0m\u001b[0;34m\u001b[0m\u001b[0;34m\u001b[0m\u001b[0m\n",
      "\u001b[0;31mKeyboardInterrupt\u001b[0m: "
     ]
    }
   ],
   "source": [
    "cv_clsf.fit(train_df_less[atrs], train_df_less['multi_class_target'], eval_set=(test_df[atrs], test_df['multi_class_target']), verbose=4, cat_features=cat_atrs, use_best_model=True, early_stopping_rounds=50)"
   ]
  },
  {
   "cell_type": "markdown",
   "metadata": {},
   "source": [
    "#### Отброс фичей c ненулевой важностью"
   ]
  },
  {
   "cell_type": "code",
   "execution_count": 879,
   "metadata": {
    "collapsed": true,
    "jupyter": {
     "outputs_hidden": true
    }
   },
   "outputs": [
    {
     "data": {
      "text/html": [
       "<div>\n",
       "<style scoped>\n",
       "    .dataframe tbody tr th:only-of-type {\n",
       "        vertical-align: middle;\n",
       "    }\n",
       "\n",
       "    .dataframe tbody tr th {\n",
       "        vertical-align: top;\n",
       "    }\n",
       "\n",
       "    .dataframe thead th {\n",
       "        text-align: right;\n",
       "    }\n",
       "</style>\n",
       "<table border=\"1\" class=\"dataframe\">\n",
       "  <thead>\n",
       "    <tr style=\"text-align: right;\">\n",
       "      <th></th>\n",
       "      <th>0</th>\n",
       "      <th>1</th>\n",
       "    </tr>\n",
       "  </thead>\n",
       "  <tbody>\n",
       "    <tr>\n",
       "      <th>127</th>\n",
       "      <td>top_target</td>\n",
       "      <td>18.184095</td>\n",
       "    </tr>\n",
       "    <tr>\n",
       "      <th>58</th>\n",
       "      <td>target_1</td>\n",
       "      <td>16.110004</td>\n",
       "    </tr>\n",
       "    <tr>\n",
       "      <th>60</th>\n",
       "      <td>target_2</td>\n",
       "      <td>5.693938</td>\n",
       "    </tr>\n",
       "    <tr>\n",
       "      <th>52</th>\n",
       "      <td>prev_sum_own_transfer</td>\n",
       "      <td>4.479359</td>\n",
       "    </tr>\n",
       "    <tr>\n",
       "      <th>128</th>\n",
       "      <td>top_target_2</td>\n",
       "      <td>3.770082</td>\n",
       "    </tr>\n",
       "    <tr>\n",
       "      <th>63</th>\n",
       "      <td>target_3</td>\n",
       "      <td>2.780499</td>\n",
       "    </tr>\n",
       "    <tr>\n",
       "      <th>44</th>\n",
       "      <td>bigger_credit_info_card2card_transfer</td>\n",
       "      <td>2.494685</td>\n",
       "    </tr>\n",
       "    <tr>\n",
       "      <th>48</th>\n",
       "      <td>prev_sum_credit_info</td>\n",
       "      <td>2.259087</td>\n",
       "    </tr>\n",
       "    <tr>\n",
       "      <th>46</th>\n",
       "      <td>prev_sum_card_recharge</td>\n",
       "      <td>2.221973</td>\n",
       "    </tr>\n",
       "    <tr>\n",
       "      <th>43</th>\n",
       "      <td>bigger_card_recharge_card2card_transfer</td>\n",
       "      <td>1.856740</td>\n",
       "    </tr>\n",
       "    <tr>\n",
       "      <th>67</th>\n",
       "      <td>target_4</td>\n",
       "      <td>1.848502</td>\n",
       "    </tr>\n",
       "    <tr>\n",
       "      <th>45</th>\n",
       "      <td>prev_sum_card2card_transfer</td>\n",
       "      <td>1.795614</td>\n",
       "    </tr>\n",
       "    <tr>\n",
       "      <th>144</th>\n",
       "      <td>device_screen_name_last</td>\n",
       "      <td>1.741028</td>\n",
       "    </tr>\n",
       "    <tr>\n",
       "      <th>53</th>\n",
       "      <td>prev_sum_phone_money_transfer</td>\n",
       "      <td>1.590393</td>\n",
       "    </tr>\n",
       "    <tr>\n",
       "      <th>51</th>\n",
       "      <td>prev_sum_mobile_recharge</td>\n",
       "      <td>1.569565</td>\n",
       "    </tr>\n",
       "    <tr>\n",
       "      <th>72</th>\n",
       "      <td>target_5</td>\n",
       "      <td>1.536542</td>\n",
       "    </tr>\n",
       "    <tr>\n",
       "      <th>39</th>\n",
       "      <td>bigger_own_transfer_card_recharge</td>\n",
       "      <td>1.485189</td>\n",
       "    </tr>\n",
       "    <tr>\n",
       "      <th>2</th>\n",
       "      <td>bigger_mobile_recharge_chat</td>\n",
       "      <td>1.394510</td>\n",
       "    </tr>\n",
       "    <tr>\n",
       "      <th>41</th>\n",
       "      <td>bigger_own_transfer_card2card_transfer</td>\n",
       "      <td>1.364420</td>\n",
       "    </tr>\n",
       "    <tr>\n",
       "      <th>54</th>\n",
       "      <td>prev_sum_statement</td>\n",
       "      <td>1.362122</td>\n",
       "    </tr>\n",
       "    <tr>\n",
       "      <th>133</th>\n",
       "      <td>application_id_first</td>\n",
       "      <td>1.354071</td>\n",
       "    </tr>\n",
       "    <tr>\n",
       "      <th>154</th>\n",
       "      <td>net_connection_type_last</td>\n",
       "      <td>1.230837</td>\n",
       "    </tr>\n",
       "    <tr>\n",
       "      <th>49</th>\n",
       "      <td>prev_sum_invest</td>\n",
       "      <td>1.128346</td>\n",
       "    </tr>\n",
       "    <tr>\n",
       "      <th>1</th>\n",
       "      <td>bigger_mobile_recharge_phone_money_transfer</td>\n",
       "      <td>1.106606</td>\n",
       "    </tr>\n",
       "    <tr>\n",
       "      <th>85</th>\n",
       "      <td>target_7</td>\n",
       "      <td>1.105388</td>\n",
       "    </tr>\n",
       "    <tr>\n",
       "      <th>129</th>\n",
       "      <td>top_target_3</td>\n",
       "      <td>1.065232</td>\n",
       "    </tr>\n",
       "    <tr>\n",
       "      <th>50</th>\n",
       "      <td>prev_sum_main_screen</td>\n",
       "      <td>0.972468</td>\n",
       "    </tr>\n",
       "    <tr>\n",
       "      <th>5</th>\n",
       "      <td>bigger_mobile_recharge_own_transfer</td>\n",
       "      <td>0.949284</td>\n",
       "    </tr>\n",
       "    <tr>\n",
       "      <th>0</th>\n",
       "      <td>bigger_mobile_recharge_statement</td>\n",
       "      <td>0.899994</td>\n",
       "    </tr>\n",
       "    <tr>\n",
       "      <th>17</th>\n",
       "      <td>bigger_phone_money_transfer_chat</td>\n",
       "      <td>0.876674</td>\n",
       "    </tr>\n",
       "    <tr>\n",
       "      <th>78</th>\n",
       "      <td>target_6</td>\n",
       "      <td>0.725832</td>\n",
       "    </tr>\n",
       "    <tr>\n",
       "      <th>93</th>\n",
       "      <td>target_8</td>\n",
       "      <td>0.723573</td>\n",
       "    </tr>\n",
       "    <tr>\n",
       "      <th>164</th>\n",
       "      <td>session_id_size_mean</td>\n",
       "      <td>0.717689</td>\n",
       "    </tr>\n",
       "    <tr>\n",
       "      <th>13</th>\n",
       "      <td>bigger_statement_own_transfer</td>\n",
       "      <td>0.702765</td>\n",
       "    </tr>\n",
       "    <tr>\n",
       "      <th>15</th>\n",
       "      <td>bigger_statement_credit_info</td>\n",
       "      <td>0.643260</td>\n",
       "    </tr>\n",
       "    <tr>\n",
       "      <th>29</th>\n",
       "      <td>bigger_chat_card2card_transfer</td>\n",
       "      <td>0.617155</td>\n",
       "    </tr>\n",
       "    <tr>\n",
       "      <th>112</th>\n",
       "      <td>target_10</td>\n",
       "      <td>0.575898</td>\n",
       "    </tr>\n",
       "    <tr>\n",
       "      <th>126</th>\n",
       "      <td>seq_last_target_len</td>\n",
       "      <td>0.566784</td>\n",
       "    </tr>\n",
       "    <tr>\n",
       "      <th>57</th>\n",
       "      <td>hour</td>\n",
       "      <td>0.559995</td>\n",
       "    </tr>\n",
       "    <tr>\n",
       "      <th>59</th>\n",
       "      <td>time_diff_1_0</td>\n",
       "      <td>0.559454</td>\n",
       "    </tr>\n",
       "    <tr>\n",
       "      <th>20</th>\n",
       "      <td>bigger_phone_money_transfer_own_transfer</td>\n",
       "      <td>0.522432</td>\n",
       "    </tr>\n",
       "    <tr>\n",
       "      <th>47</th>\n",
       "      <td>prev_sum_chat</td>\n",
       "      <td>0.495142</td>\n",
       "    </tr>\n",
       "    <tr>\n",
       "      <th>55</th>\n",
       "      <td>weekday</td>\n",
       "      <td>0.491383</td>\n",
       "    </tr>\n",
       "    <tr>\n",
       "      <th>124</th>\n",
       "      <td>mean_diff_time_global_explotation</td>\n",
       "      <td>0.488398</td>\n",
       "    </tr>\n",
       "    <tr>\n",
       "      <th>142</th>\n",
       "      <td>event_label_last</td>\n",
       "      <td>0.455402</td>\n",
       "    </tr>\n",
       "    <tr>\n",
       "      <th>102</th>\n",
       "      <td>target_9</td>\n",
       "      <td>0.447657</td>\n",
       "    </tr>\n",
       "    <tr>\n",
       "      <th>14</th>\n",
       "      <td>bigger_statement_card_recharge</td>\n",
       "      <td>0.416302</td>\n",
       "    </tr>\n",
       "    <tr>\n",
       "      <th>8</th>\n",
       "      <td>bigger_mobile_recharge_card2card_transfer</td>\n",
       "      <td>0.368100</td>\n",
       "    </tr>\n",
       "    <tr>\n",
       "      <th>23</th>\n",
       "      <td>bigger_phone_money_transfer_card2card_transfer</td>\n",
       "      <td>0.327857</td>\n",
       "    </tr>\n",
       "    <tr>\n",
       "      <th>6</th>\n",
       "      <td>bigger_mobile_recharge_card_recharge</td>\n",
       "      <td>0.251144</td>\n",
       "    </tr>\n",
       "    <tr>\n",
       "      <th>18</th>\n",
       "      <td>bigger_phone_money_transfer_invest</td>\n",
       "      <td>0.217024</td>\n",
       "    </tr>\n",
       "    <tr>\n",
       "      <th>40</th>\n",
       "      <td>bigger_own_transfer_credit_info</td>\n",
       "      <td>0.205138</td>\n",
       "    </tr>\n",
       "    <tr>\n",
       "      <th>34</th>\n",
       "      <td>bigger_invest_card2card_transfer</td>\n",
       "      <td>0.182288</td>\n",
       "    </tr>\n",
       "    <tr>\n",
       "      <th>149</th>\n",
       "      <td>page_urlhost_first</td>\n",
       "      <td>0.181845</td>\n",
       "    </tr>\n",
       "    <tr>\n",
       "      <th>22</th>\n",
       "      <td>bigger_phone_money_transfer_credit_info</td>\n",
       "      <td>0.176742</td>\n",
       "    </tr>\n",
       "    <tr>\n",
       "      <th>139</th>\n",
       "      <td>event_name_first</td>\n",
       "      <td>0.174938</td>\n",
       "    </tr>\n",
       "    <tr>\n",
       "      <th>26</th>\n",
       "      <td>bigger_chat_own_transfer</td>\n",
       "      <td>0.154481</td>\n",
       "    </tr>\n",
       "    <tr>\n",
       "      <th>153</th>\n",
       "      <td>net_connection_type_first</td>\n",
       "      <td>0.145546</td>\n",
       "    </tr>\n",
       "    <tr>\n",
       "      <th>3</th>\n",
       "      <td>bigger_mobile_recharge_invest</td>\n",
       "      <td>0.135541</td>\n",
       "    </tr>\n",
       "    <tr>\n",
       "      <th>114</th>\n",
       "      <td>time_diff_10_1</td>\n",
       "      <td>0.132043</td>\n",
       "    </tr>\n",
       "    <tr>\n",
       "      <th>9</th>\n",
       "      <td>bigger_statement_phone_money_transfer</td>\n",
       "      <td>0.126733</td>\n",
       "    </tr>\n",
       "    <tr>\n",
       "      <th>157</th>\n",
       "      <td>session_id_size</td>\n",
       "      <td>0.116086</td>\n",
       "    </tr>\n",
       "    <tr>\n",
       "      <th>21</th>\n",
       "      <td>bigger_phone_money_transfer_card_recharge</td>\n",
       "      <td>0.111958</td>\n",
       "    </tr>\n",
       "    <tr>\n",
       "      <th>156</th>\n",
       "      <td>net_connection_tech_last</td>\n",
       "      <td>0.110700</td>\n",
       "    </tr>\n",
       "    <tr>\n",
       "      <th>136</th>\n",
       "      <td>event_type_last</td>\n",
       "      <td>0.099421</td>\n",
       "    </tr>\n",
       "    <tr>\n",
       "      <th>4</th>\n",
       "      <td>bigger_mobile_recharge_main_screen</td>\n",
       "      <td>0.090098</td>\n",
       "    </tr>\n",
       "    <tr>\n",
       "      <th>135</th>\n",
       "      <td>event_type_first</td>\n",
       "      <td>0.088257</td>\n",
       "    </tr>\n",
       "    <tr>\n",
       "      <th>141</th>\n",
       "      <td>event_label_first</td>\n",
       "      <td>0.079552</td>\n",
       "    </tr>\n",
       "    <tr>\n",
       "      <th>161</th>\n",
       "      <td>session_diff_time_mean</td>\n",
       "      <td>0.076474</td>\n",
       "    </tr>\n",
       "    <tr>\n",
       "      <th>37</th>\n",
       "      <td>bigger_main_screen_credit_info</td>\n",
       "      <td>0.068775</td>\n",
       "    </tr>\n",
       "    <tr>\n",
       "      <th>134</th>\n",
       "      <td>application_id_last</td>\n",
       "      <td>0.067537</td>\n",
       "    </tr>\n",
       "    <tr>\n",
       "      <th>96</th>\n",
       "      <td>time_diff_8_2</td>\n",
       "      <td>0.063519</td>\n",
       "    </tr>\n",
       "    <tr>\n",
       "      <th>73</th>\n",
       "      <td>time_diff_5_0</td>\n",
       "      <td>0.051413</td>\n",
       "    </tr>\n",
       "    <tr>\n",
       "      <th>69</th>\n",
       "      <td>time_diff_4_1</td>\n",
       "      <td>0.043617</td>\n",
       "    </tr>\n",
       "    <tr>\n",
       "      <th>61</th>\n",
       "      <td>time_diff_2_0</td>\n",
       "      <td>0.036815</td>\n",
       "    </tr>\n",
       "    <tr>\n",
       "      <th>138</th>\n",
       "      <td>event_category_last</td>\n",
       "      <td>0.030862</td>\n",
       "    </tr>\n",
       "    <tr>\n",
       "      <th>150</th>\n",
       "      <td>page_urlhost_last</td>\n",
       "      <td>0.029910</td>\n",
       "    </tr>\n",
       "    <tr>\n",
       "      <th>79</th>\n",
       "      <td>time_diff_6_0</td>\n",
       "      <td>0.028364</td>\n",
       "    </tr>\n",
       "    <tr>\n",
       "      <th>137</th>\n",
       "      <td>event_category_first</td>\n",
       "      <td>0.025179</td>\n",
       "    </tr>\n",
       "    <tr>\n",
       "      <th>162</th>\n",
       "      <td>session_diff_time_explotation</td>\n",
       "      <td>0.025046</td>\n",
       "    </tr>\n",
       "    <tr>\n",
       "      <th>165</th>\n",
       "      <td>session_id_size_explotation</td>\n",
       "      <td>0.021996</td>\n",
       "    </tr>\n",
       "    <tr>\n",
       "      <th>86</th>\n",
       "      <td>time_diff_7_0</td>\n",
       "      <td>0.014898</td>\n",
       "    </tr>\n",
       "    <tr>\n",
       "      <th>143</th>\n",
       "      <td>device_screen_name_first</td>\n",
       "      <td>0.003733</td>\n",
       "    </tr>\n",
       "  </tbody>\n",
       "</table>\n",
       "</div>"
      ],
      "text/plain": [
       "                                                  0          1\n",
       "127                                      top_target  18.184095\n",
       "58                                         target_1  16.110004\n",
       "60                                         target_2   5.693938\n",
       "52                            prev_sum_own_transfer   4.479359\n",
       "128                                    top_target_2   3.770082\n",
       "63                                         target_3   2.780499\n",
       "44            bigger_credit_info_card2card_transfer   2.494685\n",
       "48                             prev_sum_credit_info   2.259087\n",
       "46                           prev_sum_card_recharge   2.221973\n",
       "43          bigger_card_recharge_card2card_transfer   1.856740\n",
       "67                                         target_4   1.848502\n",
       "45                      prev_sum_card2card_transfer   1.795614\n",
       "144                         device_screen_name_last   1.741028\n",
       "53                    prev_sum_phone_money_transfer   1.590393\n",
       "51                         prev_sum_mobile_recharge   1.569565\n",
       "72                                         target_5   1.536542\n",
       "39                bigger_own_transfer_card_recharge   1.485189\n",
       "2                       bigger_mobile_recharge_chat   1.394510\n",
       "41           bigger_own_transfer_card2card_transfer   1.364420\n",
       "54                               prev_sum_statement   1.362122\n",
       "133                            application_id_first   1.354071\n",
       "154                        net_connection_type_last   1.230837\n",
       "49                                  prev_sum_invest   1.128346\n",
       "1       bigger_mobile_recharge_phone_money_transfer   1.106606\n",
       "85                                         target_7   1.105388\n",
       "129                                    top_target_3   1.065232\n",
       "50                             prev_sum_main_screen   0.972468\n",
       "5               bigger_mobile_recharge_own_transfer   0.949284\n",
       "0                  bigger_mobile_recharge_statement   0.899994\n",
       "17                 bigger_phone_money_transfer_chat   0.876674\n",
       "78                                         target_6   0.725832\n",
       "93                                         target_8   0.723573\n",
       "164                            session_id_size_mean   0.717689\n",
       "13                    bigger_statement_own_transfer   0.702765\n",
       "15                     bigger_statement_credit_info   0.643260\n",
       "29                   bigger_chat_card2card_transfer   0.617155\n",
       "112                                       target_10   0.575898\n",
       "126                             seq_last_target_len   0.566784\n",
       "57                                             hour   0.559995\n",
       "59                                    time_diff_1_0   0.559454\n",
       "20         bigger_phone_money_transfer_own_transfer   0.522432\n",
       "47                                    prev_sum_chat   0.495142\n",
       "55                                          weekday   0.491383\n",
       "124               mean_diff_time_global_explotation   0.488398\n",
       "142                                event_label_last   0.455402\n",
       "102                                        target_9   0.447657\n",
       "14                   bigger_statement_card_recharge   0.416302\n",
       "8         bigger_mobile_recharge_card2card_transfer   0.368100\n",
       "23   bigger_phone_money_transfer_card2card_transfer   0.327857\n",
       "6              bigger_mobile_recharge_card_recharge   0.251144\n",
       "18               bigger_phone_money_transfer_invest   0.217024\n",
       "40                  bigger_own_transfer_credit_info   0.205138\n",
       "34                 bigger_invest_card2card_transfer   0.182288\n",
       "149                              page_urlhost_first   0.181845\n",
       "22          bigger_phone_money_transfer_credit_info   0.176742\n",
       "139                                event_name_first   0.174938\n",
       "26                         bigger_chat_own_transfer   0.154481\n",
       "153                       net_connection_type_first   0.145546\n",
       "3                     bigger_mobile_recharge_invest   0.135541\n",
       "114                                  time_diff_10_1   0.132043\n",
       "9             bigger_statement_phone_money_transfer   0.126733\n",
       "157                                 session_id_size   0.116086\n",
       "21        bigger_phone_money_transfer_card_recharge   0.111958\n",
       "156                        net_connection_tech_last   0.110700\n",
       "136                                 event_type_last   0.099421\n",
       "4                bigger_mobile_recharge_main_screen   0.090098\n",
       "135                                event_type_first   0.088257\n",
       "141                               event_label_first   0.079552\n",
       "161                          session_diff_time_mean   0.076474\n",
       "37                   bigger_main_screen_credit_info   0.068775\n",
       "134                             application_id_last   0.067537\n",
       "96                                    time_diff_8_2   0.063519\n",
       "73                                    time_diff_5_0   0.051413\n",
       "69                                    time_diff_4_1   0.043617\n",
       "61                                    time_diff_2_0   0.036815\n",
       "138                             event_category_last   0.030862\n",
       "150                               page_urlhost_last   0.029910\n",
       "79                                    time_diff_6_0   0.028364\n",
       "137                            event_category_first   0.025179\n",
       "162                   session_diff_time_explotation   0.025046\n",
       "165                     session_id_size_explotation   0.021996\n",
       "86                                    time_diff_7_0   0.014898\n",
       "143                        device_screen_name_first   0.003733"
      ]
     },
     "execution_count": 879,
     "metadata": {},
     "output_type": "execute_result"
    }
   ],
   "source": [
    "featue_importance = pd.DataFrame(zip(cv_clsf.feature_names_, cv_clsf.feature_importances_)).sort_values(by=1, ascending=False)\n",
    "featue_importance[featue_importance[1] != 0]"
   ]
  },
  {
   "cell_type": "code",
   "execution_count": 880,
   "metadata": {},
   "outputs": [],
   "source": [
    "featue_importance = featue_importance[featue_importance[1] != 0]"
   ]
  },
  {
   "cell_type": "code",
   "execution_count": 881,
   "metadata": {},
   "outputs": [],
   "source": [
    "new_features = featue_importance[0].values.tolist()"
   ]
  },
  {
   "cell_type": "code",
   "execution_count": 882,
   "metadata": {
    "collapsed": true,
    "jupyter": {
     "outputs_hidden": true
    }
   },
   "outputs": [
    {
     "name": "stdout",
     "output_type": "stream",
     "text": [
      "Learning rate set to 0.122333\n",
      "0:\tlearn: 0.3859987\ttest: 0.3341666\tbest: 0.3341666 (0)\ttotal: 3.21s\tremaining: 53m 27s\n",
      "4:\tlearn: 0.4290241\ttest: 0.3619413\tbest: 0.3619413 (4)\ttotal: 19.7s\tremaining: 1h 5m 18s\n",
      "8:\tlearn: 0.4363532\ttest: 0.3711523\tbest: 0.3711523 (8)\ttotal: 34.9s\tremaining: 1h 3m 59s\n",
      "12:\tlearn: 0.4503509\ttest: 0.3809214\tbest: 0.3809214 (12)\ttotal: 52s\tremaining: 1h 5m 48s\n",
      "16:\tlearn: 0.4562094\ttest: 0.3856448\tbest: 0.3856448 (16)\ttotal: 1m 9s\tremaining: 1h 7m 2s\n",
      "20:\tlearn: 0.4623137\ttest: 0.3898220\tbest: 0.3898220 (20)\ttotal: 1m 25s\tremaining: 1h 6m 38s\n",
      "24:\tlearn: 0.4709211\ttest: 0.3946393\tbest: 0.3946393 (24)\ttotal: 1m 42s\tremaining: 1h 6m 41s\n",
      "28:\tlearn: 0.4763981\ttest: 0.3968804\tbest: 0.3968804 (28)\ttotal: 2m 1s\tremaining: 1h 8m 4s\n",
      "32:\tlearn: 0.4797402\ttest: 0.3979614\tbest: 0.3979614 (32)\ttotal: 2m 19s\tremaining: 1h 8m 2s\n",
      "36:\tlearn: 0.4817473\ttest: 0.3985023\tbest: 0.3988719 (35)\ttotal: 2m 36s\tremaining: 1h 7m 41s\n",
      "40:\tlearn: 0.4838562\ttest: 0.4005579\tbest: 0.4005579 (40)\ttotal: 2m 55s\tremaining: 1h 8m 21s\n",
      "44:\tlearn: 0.4855496\ttest: 0.4002060\tbest: 0.4005579 (40)\ttotal: 3m 14s\tremaining: 1h 8m 51s\n",
      "48:\tlearn: 0.4870663\ttest: 0.4009187\tbest: 0.4009187 (48)\ttotal: 3m 33s\tremaining: 1h 9m 9s\n",
      "52:\tlearn: 0.4882515\ttest: 0.4014507\tbest: 0.4014507 (52)\ttotal: 3m 53s\tremaining: 1h 9m 35s\n",
      "56:\tlearn: 0.4892975\ttest: 0.4010852\tbest: 0.4014507 (52)\ttotal: 4m 13s\tremaining: 1h 9m 49s\n",
      "60:\tlearn: 0.4903718\ttest: 0.4013450\tbest: 0.4016241 (57)\ttotal: 4m 31s\tremaining: 1h 9m 38s\n",
      "64:\tlearn: 0.4909943\ttest: 0.4018690\tbest: 0.4018690 (64)\ttotal: 4m 51s\tremaining: 1h 9m 58s\n",
      "68:\tlearn: 0.4924424\ttest: 0.4028859\tbest: 0.4028859 (68)\ttotal: 5m 11s\tremaining: 1h 9m 59s\n",
      "72:\tlearn: 0.4932453\ttest: 0.4030938\tbest: 0.4032355 (71)\ttotal: 5m 32s\tremaining: 1h 10m 17s\n",
      "76:\tlearn: 0.4939519\ttest: 0.4031720\tbest: 0.4033440 (75)\ttotal: 5m 51s\tremaining: 1h 10m 18s\n",
      "80:\tlearn: 0.4947637\ttest: 0.4035585\tbest: 0.4035585 (80)\ttotal: 6m 9s\tremaining: 1h 9m 55s\n",
      "84:\tlearn: 0.4951543\ttest: 0.4039440\tbest: 0.4039440 (84)\ttotal: 6m 28s\tremaining: 1h 9m 45s\n",
      "88:\tlearn: 0.4956525\ttest: 0.4045497\tbest: 0.4045497 (88)\ttotal: 6m 49s\tremaining: 1h 9m 49s\n",
      "92:\tlearn: 0.4962789\ttest: 0.4048750\tbest: 0.4054340 (91)\ttotal: 7m 8s\tremaining: 1h 9m 43s\n",
      "96:\tlearn: 0.4970635\ttest: 0.4056793\tbest: 0.4056793 (96)\ttotal: 7m 28s\tremaining: 1h 9m 37s\n",
      "100:\tlearn: 0.4975264\ttest: 0.4059518\tbest: 0.4059518 (100)\ttotal: 7m 46s\tremaining: 1h 9m 10s\n",
      "104:\tlearn: 0.4980915\ttest: 0.4064684\tbest: 0.4064684 (104)\ttotal: 8m 4s\tremaining: 1h 8m 49s\n",
      "108:\tlearn: 0.4982530\ttest: 0.4061252\tbest: 0.4064684 (104)\ttotal: 8m 23s\tremaining: 1h 8m 36s\n",
      "112:\tlearn: 0.4986711\ttest: 0.4064524\tbest: 0.4064684 (104)\ttotal: 8m 39s\tremaining: 1h 7m 56s\n",
      "116:\tlearn: 0.4990832\ttest: 0.4064359\tbest: 0.4067061 (114)\ttotal: 8m 55s\tremaining: 1h 7m 24s\n",
      "120:\tlearn: 0.4993708\ttest: 0.4065482\tbest: 0.4067216 (119)\ttotal: 9m 12s\tremaining: 1h 6m 54s\n",
      "124:\tlearn: 0.4995695\ttest: 0.4065537\tbest: 0.4067216 (119)\ttotal: 9m 27s\tremaining: 1h 6m 10s\n",
      "128:\tlearn: 0.4999178\ttest: 0.4063252\tbest: 0.4067216 (119)\ttotal: 9m 42s\tremaining: 1h 5m 34s\n",
      "132:\tlearn: 0.5002596\ttest: 0.4066179\tbest: 0.4067216 (119)\ttotal: 9m 59s\tremaining: 1h 5m 5s\n",
      "136:\tlearn: 0.5006732\ttest: 0.4067562\tbest: 0.4067562 (136)\ttotal: 10m 14s\tremaining: 1h 4m 29s\n",
      "140:\tlearn: 0.5009155\ttest: 0.4070083\tbest: 0.4070083 (140)\ttotal: 10m 31s\tremaining: 1h 4m 10s\n",
      "144:\tlearn: 0.5013942\ttest: 0.4068624\tbest: 0.4070706 (143)\ttotal: 10m 49s\tremaining: 1h 3m 51s\n",
      "148:\tlearn: 0.5015504\ttest: 0.4067722\tbest: 0.4070706 (143)\ttotal: 11m 7s\tremaining: 1h 3m 33s\n",
      "152:\tlearn: 0.5019701\ttest: 0.4073524\tbest: 0.4073524 (152)\ttotal: 11m 25s\tremaining: 1h 3m 17s\n",
      "156:\tlearn: 0.5021418\ttest: 0.4072554\tbest: 0.4073524 (152)\ttotal: 11m 43s\tremaining: 1h 2m 59s\n",
      "160:\tlearn: 0.5025975\ttest: 0.4067615\tbest: 0.4073524 (152)\ttotal: 12m 1s\tremaining: 1h 2m 39s\n",
      "164:\tlearn: 0.5025841\ttest: 0.4068034\tbest: 0.4073524 (152)\ttotal: 12m 18s\tremaining: 1h 2m 14s\n",
      "168:\tlearn: 0.5030985\ttest: 0.4067956\tbest: 0.4073524 (152)\ttotal: 12m 35s\tremaining: 1h 1m 57s\n",
      "172:\tlearn: 0.5033697\ttest: 0.4072003\tbest: 0.4073524 (152)\ttotal: 12m 53s\tremaining: 1h 1m 39s\n",
      "176:\tlearn: 0.5035227\ttest: 0.4069422\tbest: 0.4073524 (152)\ttotal: 13m 12s\tremaining: 1h 1m 24s\n",
      "180:\tlearn: 0.5037187\ttest: 0.4068903\tbest: 0.4073524 (152)\ttotal: 13m 30s\tremaining: 1h 1m 7s\n",
      "184:\tlearn: 0.5038873\ttest: 0.4070514\tbest: 0.4073524 (152)\ttotal: 13m 49s\tremaining: 1h 55s\n",
      "188:\tlearn: 0.5041930\ttest: 0.4074089\tbest: 0.4074089 (188)\ttotal: 14m 7s\tremaining: 1h 38s\n",
      "192:\tlearn: 0.5046267\ttest: 0.4075471\tbest: 0.4075471 (192)\ttotal: 14m 27s\tremaining: 1h 27s\n",
      "196:\tlearn: 0.5048301\ttest: 0.4078805\tbest: 0.4078805 (196)\ttotal: 14m 43s\tremaining: 1h 2s\n",
      "200:\tlearn: 0.5050215\ttest: 0.4078587\tbest: 0.4080471 (199)\ttotal: 15m 1s\tremaining: 59m 44s\n",
      "204:\tlearn: 0.5053140\ttest: 0.4081136\tbest: 0.4081136 (204)\ttotal: 15m 19s\tremaining: 59m 24s\n",
      "208:\tlearn: 0.5054581\ttest: 0.4080539\tbest: 0.4081364 (207)\ttotal: 15m 35s\tremaining: 59m 1s\n",
      "212:\tlearn: 0.5055652\ttest: 0.4078131\tbest: 0.4081364 (207)\ttotal: 15m 54s\tremaining: 58m 47s\n",
      "216:\tlearn: 0.5058606\ttest: 0.4079659\tbest: 0.4081364 (207)\ttotal: 16m 13s\tremaining: 58m 33s\n",
      "220:\tlearn: 0.5059464\ttest: 0.4081148\tbest: 0.4082812 (219)\ttotal: 16m 31s\tremaining: 58m 13s\n",
      "224:\tlearn: 0.5061157\ttest: 0.4084137\tbest: 0.4084329 (223)\ttotal: 16m 49s\tremaining: 57m 58s\n",
      "228:\tlearn: 0.5062950\ttest: 0.4082769\tbest: 0.4084329 (223)\ttotal: 17m 7s\tremaining: 57m 39s\n",
      "232:\tlearn: 0.5064895\ttest: 0.4086150\tbest: 0.4086150 (232)\ttotal: 17m 24s\tremaining: 57m 17s\n",
      "236:\tlearn: 0.5067043\ttest: 0.4088563\tbest: 0.4088563 (236)\ttotal: 17m 45s\tremaining: 57m 10s\n",
      "240:\tlearn: 0.5069179\ttest: 0.4085533\tbest: 0.4089576 (238)\ttotal: 18m 5s\tremaining: 56m 57s\n",
      "244:\tlearn: 0.5070930\ttest: 0.4085342\tbest: 0.4089576 (238)\ttotal: 18m 22s\tremaining: 56m 37s\n",
      "248:\tlearn: 0.5072536\ttest: 0.4081792\tbest: 0.4089576 (238)\ttotal: 18m 41s\tremaining: 56m 22s\n",
      "252:\tlearn: 0.5074221\ttest: 0.4085171\tbest: 0.4089576 (238)\ttotal: 19m 2s\tremaining: 56m 14s\n",
      "256:\tlearn: 0.5076602\ttest: 0.4085459\tbest: 0.4089576 (238)\ttotal: 19m 21s\tremaining: 55m 57s\n",
      "260:\tlearn: 0.5077872\ttest: 0.4086866\tbest: 0.4089576 (238)\ttotal: 19m 38s\tremaining: 55m 37s\n",
      "264:\tlearn: 0.5078331\ttest: 0.4085435\tbest: 0.4089576 (238)\ttotal: 19m 58s\tremaining: 55m 25s\n",
      "268:\tlearn: 0.5079827\ttest: 0.4086637\tbest: 0.4089576 (238)\ttotal: 20m 16s\tremaining: 55m 5s\n",
      "272:\tlearn: 0.5081754\ttest: 0.4082558\tbest: 0.4089576 (238)\ttotal: 20m 35s\tremaining: 54m 50s\n",
      "276:\tlearn: 0.5083627\ttest: 0.4083058\tbest: 0.4089576 (238)\ttotal: 20m 55s\tremaining: 54m 35s\n",
      "280:\tlearn: 0.5084378\ttest: 0.4082633\tbest: 0.4089576 (238)\ttotal: 21m 12s\tremaining: 54m 15s\n",
      "284:\tlearn: 0.5084566\ttest: 0.4082945\tbest: 0.4089576 (238)\ttotal: 21m 32s\tremaining: 54m 2s\n",
      "288:\tlearn: 0.5084686\ttest: 0.4084413\tbest: 0.4089576 (238)\ttotal: 21m 52s\tremaining: 53m 49s\n",
      "292:\tlearn: 0.5087073\ttest: 0.4082578\tbest: 0.4089576 (238)\ttotal: 22m 13s\tremaining: 53m 37s\n",
      "296:\tlearn: 0.5089523\ttest: 0.4084268\tbest: 0.4089576 (238)\ttotal: 22m 30s\tremaining: 53m 17s\n",
      "300:\tlearn: 0.5090831\ttest: 0.4089102\tbest: 0.4089576 (238)\ttotal: 22m 49s\tremaining: 53m 1s\n",
      "304:\tlearn: 0.5093807\ttest: 0.4087977\tbest: 0.4089576 (238)\ttotal: 23m 8s\tremaining: 52m 43s\n",
      "308:\tlearn: 0.5095086\ttest: 0.4087668\tbest: 0.4089576 (238)\ttotal: 23m 29s\tremaining: 52m 32s\n",
      "312:\tlearn: 0.5096831\ttest: 0.4090888\tbest: 0.4090888 (312)\ttotal: 23m 50s\tremaining: 52m 20s\n",
      "316:\tlearn: 0.5099081\ttest: 0.4090227\tbest: 0.4090888 (312)\ttotal: 24m 10s\tremaining: 52m 6s\n",
      "320:\tlearn: 0.5099237\ttest: 0.4091025\tbest: 0.4093089 (318)\ttotal: 24m 32s\tremaining: 51m 53s\n",
      "324:\tlearn: 0.5100521\ttest: 0.4092209\tbest: 0.4093126 (322)\ttotal: 24m 54s\tremaining: 51m 43s\n",
      "328:\tlearn: 0.5101840\ttest: 0.4092952\tbest: 0.4094086 (327)\ttotal: 25m 13s\tremaining: 51m 27s\n",
      "332:\tlearn: 0.5102740\ttest: 0.4092557\tbest: 0.4095789 (329)\ttotal: 25m 32s\tremaining: 51m 10s\n",
      "336:\tlearn: 0.5104806\ttest: 0.4091661\tbest: 0.4095789 (329)\ttotal: 25m 53s\tremaining: 50m 55s\n",
      "340:\tlearn: 0.5105973\ttest: 0.4092894\tbest: 0.4095789 (329)\ttotal: 26m 14s\tremaining: 50m 42s\n",
      "344:\tlearn: 0.5105821\ttest: 0.4092253\tbest: 0.4095789 (329)\ttotal: 26m 33s\tremaining: 50m 25s\n",
      "348:\tlearn: 0.5108195\ttest: 0.4094302\tbest: 0.4095789 (329)\ttotal: 26m 54s\tremaining: 50m 11s\n",
      "352:\tlearn: 0.5107865\ttest: 0.4093374\tbest: 0.4095789 (329)\ttotal: 27m 15s\tremaining: 49m 57s\n",
      "356:\tlearn: 0.5109103\ttest: 0.4096240\tbest: 0.4096240 (356)\ttotal: 27m 35s\tremaining: 49m 42s\n",
      "360:\tlearn: 0.5110164\ttest: 0.4097234\tbest: 0.4097234 (360)\ttotal: 27m 57s\tremaining: 49m 29s\n",
      "364:\tlearn: 0.5110366\ttest: 0.4098082\tbest: 0.4099284 (363)\ttotal: 28m 17s\tremaining: 49m 13s\n",
      "368:\tlearn: 0.5111567\ttest: 0.4096430\tbest: 0.4099284 (363)\ttotal: 28m 37s\tremaining: 48m 57s\n",
      "372:\tlearn: 0.5113156\ttest: 0.4094911\tbest: 0.4099284 (363)\ttotal: 28m 59s\tremaining: 48m 44s\n",
      "376:\tlearn: 0.5113016\ttest: 0.4094558\tbest: 0.4099284 (363)\ttotal: 29m 21s\tremaining: 48m 31s\n",
      "380:\tlearn: 0.5114159\ttest: 0.4093772\tbest: 0.4099284 (363)\ttotal: 29m 43s\tremaining: 48m 16s\n",
      "384:\tlearn: 0.5113990\ttest: 0.4091601\tbest: 0.4099284 (363)\ttotal: 30m 3s\tremaining: 48m 1s\n",
      "388:\tlearn: 0.5116539\ttest: 0.4092493\tbest: 0.4099284 (363)\ttotal: 30m 23s\tremaining: 47m 44s\n",
      "392:\tlearn: 0.5117765\ttest: 0.4094341\tbest: 0.4099284 (363)\ttotal: 30m 44s\tremaining: 47m 29s\n",
      "396:\tlearn: 0.5118320\ttest: 0.4092724\tbest: 0.4099284 (363)\ttotal: 31m 6s\tremaining: 47m 14s\n",
      "400:\tlearn: 0.5119501\ttest: 0.4094366\tbest: 0.4099284 (363)\ttotal: 31m 26s\tremaining: 46m 57s\n",
      "404:\tlearn: 0.5120246\ttest: 0.4095828\tbest: 0.4099284 (363)\ttotal: 31m 47s\tremaining: 46m 42s\n",
      "408:\tlearn: 0.5120905\ttest: 0.4095060\tbest: 0.4099284 (363)\ttotal: 32m 7s\tremaining: 46m 25s\n",
      "412:\tlearn: 0.5121702\ttest: 0.4095422\tbest: 0.4099284 (363)\ttotal: 32m 29s\tremaining: 46m 10s\n",
      "416:\tlearn: 0.5123388\ttest: 0.4093582\tbest: 0.4099284 (363)\ttotal: 32m 49s\tremaining: 45m 53s\n",
      "420:\tlearn: 0.5124499\ttest: 0.4097347\tbest: 0.4099284 (363)\ttotal: 33m 11s\tremaining: 45m 38s\n",
      "424:\tlearn: 0.5125746\ttest: 0.4095932\tbest: 0.4099284 (363)\ttotal: 33m 32s\tremaining: 45m 22s\n",
      "428:\tlearn: 0.5126005\ttest: 0.4097284\tbest: 0.4099284 (363)\ttotal: 33m 53s\tremaining: 45m 6s\n",
      "432:\tlearn: 0.5126267\ttest: 0.4096547\tbest: 0.4099284 (363)\ttotal: 34m 14s\tremaining: 44m 50s\n",
      "436:\tlearn: 0.5126877\ttest: 0.4095971\tbest: 0.4099284 (363)\ttotal: 34m 36s\tremaining: 44m 35s\n",
      "440:\tlearn: 0.5127766\ttest: 0.4100129\tbest: 0.4100129 (440)\ttotal: 34m 57s\tremaining: 44m 19s\n",
      "444:\tlearn: 0.5129233\ttest: 0.4098675\tbest: 0.4100129 (440)\ttotal: 35m 18s\tremaining: 44m 2s\n",
      "448:\tlearn: 0.5129421\ttest: 0.4099697\tbest: 0.4100129 (440)\ttotal: 35m 39s\tremaining: 43m 45s\n",
      "452:\tlearn: 0.5129901\ttest: 0.4097509\tbest: 0.4100129 (440)\ttotal: 36m 1s\tremaining: 43m 30s\n",
      "456:\tlearn: 0.5131178\ttest: 0.4099492\tbest: 0.4101438 (455)\ttotal: 36m 20s\tremaining: 43m 11s\n",
      "460:\tlearn: 0.5131599\ttest: 0.4098905\tbest: 0.4101438 (455)\ttotal: 36m 39s\tremaining: 42m 52s\n",
      "464:\tlearn: 0.5133147\ttest: 0.4102187\tbest: 0.4102187 (464)\ttotal: 37m 1s\tremaining: 42m 35s\n",
      "468:\tlearn: 0.5133417\ttest: 0.4102485\tbest: 0.4103570 (467)\ttotal: 37m 22s\tremaining: 42m 18s\n",
      "472:\tlearn: 0.5134344\ttest: 0.4102916\tbest: 0.4103693 (471)\ttotal: 37m 41s\tremaining: 42m\n",
      "476:\tlearn: 0.5135101\ttest: 0.4104111\tbest: 0.4104111 (476)\ttotal: 38m\tremaining: 41m 40s\n",
      "480:\tlearn: 0.5136181\ttest: 0.4102227\tbest: 0.4104111 (476)\ttotal: 38m 20s\tremaining: 41m 21s\n",
      "484:\tlearn: 0.5136216\ttest: 0.4103222\tbest: 0.4104111 (476)\ttotal: 38m 39s\tremaining: 41m 3s\n",
      "488:\tlearn: 0.5137272\ttest: 0.4103613\tbest: 0.4104111 (476)\ttotal: 38m 59s\tremaining: 40m 44s\n",
      "492:\tlearn: 0.5137055\ttest: 0.4098148\tbest: 0.4104111 (476)\ttotal: 39m 17s\tremaining: 40m 24s\n",
      "496:\tlearn: 0.5138868\ttest: 0.4097309\tbest: 0.4104111 (476)\ttotal: 39m 37s\tremaining: 40m 5s\n",
      "500:\tlearn: 0.5139848\ttest: 0.4102385\tbest: 0.4104111 (476)\ttotal: 39m 55s\tremaining: 39m 46s\n",
      "504:\tlearn: 0.5140122\ttest: 0.4098320\tbest: 0.4104111 (476)\ttotal: 40m 17s\tremaining: 39m 29s\n",
      "508:\tlearn: 0.5140782\ttest: 0.4099880\tbest: 0.4104111 (476)\ttotal: 40m 37s\tremaining: 39m 11s\n",
      "512:\tlearn: 0.5141765\ttest: 0.4102497\tbest: 0.4104111 (476)\ttotal: 40m 57s\tremaining: 38m 53s\n",
      "516:\tlearn: 0.5142122\ttest: 0.4103826\tbest: 0.4104111 (476)\ttotal: 41m 19s\tremaining: 38m 36s\n",
      "520:\tlearn: 0.5143125\ttest: 0.4102255\tbest: 0.4104111 (476)\ttotal: 41m 39s\tremaining: 38m 18s\n",
      "524:\tlearn: 0.5143642\ttest: 0.4103363\tbest: 0.4104111 (476)\ttotal: 42m 1s\tremaining: 38m 1s\n",
      "528:\tlearn: 0.5143827\ttest: 0.4104762\tbest: 0.4105103 (527)\ttotal: 42m 23s\tremaining: 37m 44s\n",
      "532:\tlearn: 0.5145348\ttest: 0.4103801\tbest: 0.4105103 (527)\ttotal: 42m 44s\tremaining: 37m 27s\n",
      "536:\tlearn: 0.5144781\ttest: 0.4103977\tbest: 0.4105103 (527)\ttotal: 43m 5s\tremaining: 37m 9s\n",
      "540:\tlearn: 0.5145265\ttest: 0.4105423\tbest: 0.4105914 (539)\ttotal: 43m 27s\tremaining: 36m 52s\n",
      "544:\tlearn: 0.5146190\ttest: 0.4105658\tbest: 0.4106596 (542)\ttotal: 43m 48s\tremaining: 36m 34s\n",
      "548:\tlearn: 0.5147032\ttest: 0.4105226\tbest: 0.4106596 (542)\ttotal: 44m 9s\tremaining: 36m 16s\n",
      "552:\tlearn: 0.5146732\ttest: 0.4106511\tbest: 0.4108433 (549)\ttotal: 44m 31s\tremaining: 35m 59s\n",
      "556:\tlearn: 0.5147767\ttest: 0.4103571\tbest: 0.4108433 (549)\ttotal: 44m 53s\tremaining: 35m 42s\n",
      "560:\tlearn: 0.5148354\ttest: 0.4103236\tbest: 0.4108433 (549)\ttotal: 45m 15s\tremaining: 35m 24s\n",
      "564:\tlearn: 0.5148862\ttest: 0.4103684\tbest: 0.4108433 (549)\ttotal: 45m 36s\tremaining: 35m 6s\n",
      "568:\tlearn: 0.5149105\ttest: 0.4107303\tbest: 0.4108433 (549)\ttotal: 45m 58s\tremaining: 34m 49s\n",
      "572:\tlearn: 0.5149312\ttest: 0.4107814\tbest: 0.4108433 (549)\ttotal: 46m 20s\tremaining: 34m 31s\n",
      "576:\tlearn: 0.5150747\ttest: 0.4105559\tbest: 0.4108433 (549)\ttotal: 46m 39s\tremaining: 34m 12s\n",
      "580:\tlearn: 0.5151153\ttest: 0.4108579\tbest: 0.4108579 (580)\ttotal: 46m 58s\tremaining: 33m 52s\n",
      "584:\tlearn: 0.5151483\ttest: 0.4110958\tbest: 0.4110958 (584)\ttotal: 47m 19s\tremaining: 33m 34s\n",
      "588:\tlearn: 0.5152437\ttest: 0.4110747\tbest: 0.4110958 (584)\ttotal: 47m 39s\tremaining: 33m 15s\n",
      "592:\tlearn: 0.5153797\ttest: 0.4109609\tbest: 0.4110958 (584)\ttotal: 48m 1s\tremaining: 32m 57s\n",
      "596:\tlearn: 0.5154695\ttest: 0.4110130\tbest: 0.4111234 (595)\ttotal: 48m 23s\tremaining: 32m 40s\n",
      "600:\tlearn: 0.5155303\ttest: 0.4109879\tbest: 0.4111234 (595)\ttotal: 48m 45s\tremaining: 32m 22s\n",
      "604:\tlearn: 0.5155326\ttest: 0.4107955\tbest: 0.4111234 (595)\ttotal: 49m 7s\tremaining: 32m 4s\n",
      "608:\tlearn: 0.5154746\ttest: 0.4109338\tbest: 0.4111234 (595)\ttotal: 49m 29s\tremaining: 31m 46s\n",
      "612:\tlearn: 0.5155566\ttest: 0.4109063\tbest: 0.4111234 (595)\ttotal: 49m 50s\tremaining: 31m 27s\n",
      "616:\tlearn: 0.5155971\ttest: 0.4111480\tbest: 0.4111480 (616)\ttotal: 50m 11s\tremaining: 31m 9s\n",
      "620:\tlearn: 0.5157212\ttest: 0.4110456\tbest: 0.4112493 (618)\ttotal: 50m 32s\tremaining: 30m 50s\n",
      "624:\tlearn: 0.5157040\ttest: 0.4108688\tbest: 0.4112493 (618)\ttotal: 50m 54s\tremaining: 30m 32s\n",
      "628:\tlearn: 0.5157634\ttest: 0.4109605\tbest: 0.4112493 (618)\ttotal: 51m 13s\tremaining: 30m 13s\n",
      "632:\tlearn: 0.5158804\ttest: 0.4109302\tbest: 0.4112493 (618)\ttotal: 51m 34s\tremaining: 29m 54s\n",
      "636:\tlearn: 0.5159896\ttest: 0.4107366\tbest: 0.4112493 (618)\ttotal: 51m 54s\tremaining: 29m 34s\n",
      "640:\tlearn: 0.5160475\ttest: 0.4108757\tbest: 0.4112493 (618)\ttotal: 52m 16s\tremaining: 29m 16s\n",
      "644:\tlearn: 0.5160475\ttest: 0.4105756\tbest: 0.4112493 (618)\ttotal: 52m 38s\tremaining: 28m 58s\n",
      "648:\tlearn: 0.5160637\ttest: 0.4107723\tbest: 0.4112493 (618)\ttotal: 52m 59s\tremaining: 28m 39s\n",
      "652:\tlearn: 0.5161158\ttest: 0.4107962\tbest: 0.4112493 (618)\ttotal: 53m 20s\tremaining: 28m 20s\n",
      "656:\tlearn: 0.5161949\ttest: 0.4108219\tbest: 0.4112493 (618)\ttotal: 53m 41s\tremaining: 28m 2s\n",
      "660:\tlearn: 0.5162357\ttest: 0.4109269\tbest: 0.4112493 (618)\ttotal: 54m 4s\tremaining: 27m 43s\n",
      "664:\tlearn: 0.5163562\ttest: 0.4110931\tbest: 0.4112493 (618)\ttotal: 54m 25s\tremaining: 27m 25s\n",
      "668:\tlearn: 0.5164246\ttest: 0.4109820\tbest: 0.4112493 (618)\ttotal: 54m 47s\tremaining: 27m 6s\n",
      "672:\tlearn: 0.5164773\ttest: 0.4112136\tbest: 0.4112493 (618)\ttotal: 55m 9s\tremaining: 26m 48s\n",
      "676:\tlearn: 0.5165339\ttest: 0.4110302\tbest: 0.4112493 (618)\ttotal: 55m 31s\tremaining: 26m 29s\n",
      "680:\tlearn: 0.5165651\ttest: 0.4110879\tbest: 0.4112493 (618)\ttotal: 55m 52s\tremaining: 26m 10s\n",
      "684:\tlearn: 0.5166502\ttest: 0.4110926\tbest: 0.4112873 (682)\ttotal: 56m 14s\tremaining: 25m 51s\n",
      "688:\tlearn: 0.5166866\ttest: 0.4109477\tbest: 0.4112873 (682)\ttotal: 56m 36s\tremaining: 25m 33s\n",
      "692:\tlearn: 0.5167184\ttest: 0.4109277\tbest: 0.4112873 (682)\ttotal: 56m 57s\tremaining: 25m 14s\n",
      "696:\tlearn: 0.5168223\ttest: 0.4111383\tbest: 0.4112873 (682)\ttotal: 57m 19s\tremaining: 24m 55s\n",
      "700:\tlearn: 0.5168997\ttest: 0.4110527\tbest: 0.4112873 (682)\ttotal: 57m 40s\tremaining: 24m 36s\n",
      "704:\tlearn: 0.5169409\ttest: 0.4111441\tbest: 0.4112873 (682)\ttotal: 58m\tremaining: 24m 16s\n",
      "708:\tlearn: 0.5168952\ttest: 0.4111223\tbest: 0.4112873 (682)\ttotal: 58m 22s\tremaining: 23m 57s\n",
      "712:\tlearn: 0.5170611\ttest: 0.4109985\tbest: 0.4112873 (682)\ttotal: 58m 43s\tremaining: 23m 38s\n",
      "716:\tlearn: 0.5169870\ttest: 0.4109064\tbest: 0.4112873 (682)\ttotal: 59m 5s\tremaining: 23m 19s\n",
      "720:\tlearn: 0.5170503\ttest: 0.4108730\tbest: 0.4112873 (682)\ttotal: 59m 27s\tremaining: 23m\n",
      "724:\tlearn: 0.5171548\ttest: 0.4110234\tbest: 0.4112873 (682)\ttotal: 59m 49s\tremaining: 22m 41s\n",
      "728:\tlearn: 0.5171884\ttest: 0.4109884\tbest: 0.4112873 (682)\ttotal: 1h 11s\tremaining: 22m 22s\n",
      "732:\tlearn: 0.5172754\ttest: 0.4109431\tbest: 0.4112873 (682)\ttotal: 1h 31s\tremaining: 22m 2s\n",
      "736:\tlearn: 0.5172710\ttest: 0.4109957\tbest: 0.4112873 (682)\ttotal: 1h 53s\tremaining: 21m 43s\n",
      "740:\tlearn: 0.5173371\ttest: 0.4111186\tbest: 0.4112873 (682)\ttotal: 1h 1m 14s\tremaining: 21m 24s\n",
      "744:\tlearn: 0.5174033\ttest: 0.4110640\tbest: 0.4112873 (682)\ttotal: 1h 1m 35s\tremaining: 21m 5s\n",
      "748:\tlearn: 0.5174820\ttest: 0.4111039\tbest: 0.4112873 (682)\ttotal: 1h 1m 58s\tremaining: 20m 46s\n",
      "752:\tlearn: 0.5175170\ttest: 0.4110812\tbest: 0.4112873 (682)\ttotal: 1h 2m 17s\tremaining: 20m 25s\n",
      "756:\tlearn: 0.5175977\ttest: 0.4109292\tbest: 0.4112873 (682)\ttotal: 1h 2m 39s\tremaining: 20m 6s\n",
      "760:\tlearn: 0.5176550\ttest: 0.4110739\tbest: 0.4112873 (682)\ttotal: 1h 3m 1s\tremaining: 19m 47s\n",
      "764:\tlearn: 0.5176670\ttest: 0.4111762\tbest: 0.4112873 (682)\ttotal: 1h 3m 23s\tremaining: 19m 28s\n",
      "768:\tlearn: 0.5177596\ttest: 0.4109754\tbest: 0.4112873 (682)\ttotal: 1h 3m 44s\tremaining: 19m 8s\n",
      "772:\tlearn: 0.5177581\ttest: 0.4112062\tbest: 0.4112873 (682)\ttotal: 1h 4m 7s\tremaining: 18m 49s\n",
      "776:\tlearn: 0.5177655\ttest: 0.4109092\tbest: 0.4112873 (682)\ttotal: 1h 4m 29s\tremaining: 18m 30s\n",
      "780:\tlearn: 0.5177327\ttest: 0.4109071\tbest: 0.4112873 (682)\ttotal: 1h 4m 51s\tremaining: 18m 11s\n",
      "Stopped by overfitting detector  (100 iterations wait)\n",
      "\n",
      "bestTest = 0.4112873063\n",
      "bestIteration = 682\n",
      "\n",
      "Shrink model to first 683 iterations.\n"
     ]
    },
    {
     "data": {
      "text/plain": [
       "<catboost.core.CatBoostClassifier at 0x7fd25fbab898>"
      ]
     },
     "execution_count": 882,
     "metadata": {},
     "output_type": "execute_result"
    }
   ],
   "source": [
    "cv_clsf.fit(train_df_less[new_features], train_df_less['multi_class_target'], eval_set=(test_df[new_features], test_df['multi_class_target']), verbose=4, cat_features=[atr for atr in cat_atrs if atr in new_features], use_best_model=True, early_stopping_rounds=100)"
   ]
  },
  {
   "cell_type": "code",
   "execution_count": null,
   "metadata": {},
   "outputs": [],
   "source": []
  },
  {
   "cell_type": "markdown",
   "metadata": {},
   "source": [
    "### Более полная оценка точности на тестовой выборке"
   ]
  },
  {
   "cell_type": "code",
   "execution_count": 156,
   "metadata": {},
   "outputs": [
    {
     "ename": "NameError",
     "evalue": "name 'new_features' is not defined",
     "output_type": "error",
     "traceback": [
      "\u001b[0;31m---------------------------------------------------------------------------\u001b[0m",
      "\u001b[0;31mNameError\u001b[0m                                 Traceback (most recent call last)",
      "\u001b[0;32m<ipython-input-156-a056cff6cf25>\u001b[0m in \u001b[0;36m<module>\u001b[0;34m\u001b[0m\n\u001b[0;32m----> 1\u001b[0;31m \u001b[0mtest_df\u001b[0m\u001b[0;34m[\u001b[0m\u001b[0;34m'prediction'\u001b[0m\u001b[0;34m]\u001b[0m \u001b[0;34m=\u001b[0m \u001b[0mcv_clsf\u001b[0m\u001b[0;34m.\u001b[0m\u001b[0mpredict\u001b[0m\u001b[0;34m(\u001b[0m\u001b[0mtest_df\u001b[0m\u001b[0;34m[\u001b[0m\u001b[0mnew_features\u001b[0m\u001b[0;34m]\u001b[0m\u001b[0;34m)\u001b[0m\u001b[0;34m\u001b[0m\u001b[0;34m\u001b[0m\u001b[0m\n\u001b[0m",
      "\u001b[0;31mNameError\u001b[0m: name 'new_features' is not defined"
     ]
    }
   ],
   "source": [
    "test_df['prediction'] = cv_clsf.predict(test_df[new_features])"
   ]
  },
  {
   "cell_type": "code",
   "execution_count": 157,
   "metadata": {},
   "outputs": [],
   "source": [
    "from sklearn.metrics import classification_report"
   ]
  },
  {
   "cell_type": "code",
   "execution_count": 158,
   "metadata": {
    "collapsed": true,
    "jupyter": {
     "outputs_hidden": true
    }
   },
   "outputs": [
    {
     "ename": "KeyError",
     "evalue": "'prediction'",
     "output_type": "error",
     "traceback": [
      "\u001b[0;31m---------------------------------------------------------------------------\u001b[0m",
      "\u001b[0;31mKeyError\u001b[0m                                  Traceback (most recent call last)",
      "\u001b[0;32m~/.local/lib/python3.6/site-packages/pandas/core/indexes/base.py\u001b[0m in \u001b[0;36mget_loc\u001b[0;34m(self, key, method, tolerance)\u001b[0m\n\u001b[1;32m   2897\u001b[0m             \u001b[0;32mtry\u001b[0m\u001b[0;34m:\u001b[0m\u001b[0;34m\u001b[0m\u001b[0;34m\u001b[0m\u001b[0m\n\u001b[0;32m-> 2898\u001b[0;31m                 \u001b[0;32mreturn\u001b[0m \u001b[0mself\u001b[0m\u001b[0;34m.\u001b[0m\u001b[0m_engine\u001b[0m\u001b[0;34m.\u001b[0m\u001b[0mget_loc\u001b[0m\u001b[0;34m(\u001b[0m\u001b[0mcasted_key\u001b[0m\u001b[0;34m)\u001b[0m\u001b[0;34m\u001b[0m\u001b[0;34m\u001b[0m\u001b[0m\n\u001b[0m\u001b[1;32m   2899\u001b[0m             \u001b[0;32mexcept\u001b[0m \u001b[0mKeyError\u001b[0m \u001b[0;32mas\u001b[0m \u001b[0merr\u001b[0m\u001b[0;34m:\u001b[0m\u001b[0;34m\u001b[0m\u001b[0;34m\u001b[0m\u001b[0m\n",
      "\u001b[0;32mpandas/_libs/index.pyx\u001b[0m in \u001b[0;36mpandas._libs.index.IndexEngine.get_loc\u001b[0;34m()\u001b[0m\n",
      "\u001b[0;32mpandas/_libs/index.pyx\u001b[0m in \u001b[0;36mpandas._libs.index.IndexEngine.get_loc\u001b[0;34m()\u001b[0m\n",
      "\u001b[0;32mpandas/_libs/hashtable_class_helper.pxi\u001b[0m in \u001b[0;36mpandas._libs.hashtable.PyObjectHashTable.get_item\u001b[0;34m()\u001b[0m\n",
      "\u001b[0;32mpandas/_libs/hashtable_class_helper.pxi\u001b[0m in \u001b[0;36mpandas._libs.hashtable.PyObjectHashTable.get_item\u001b[0;34m()\u001b[0m\n",
      "\u001b[0;31mKeyError\u001b[0m: 'prediction'",
      "\nThe above exception was the direct cause of the following exception:\n",
      "\u001b[0;31mKeyError\u001b[0m                                  Traceback (most recent call last)",
      "\u001b[0;32m<ipython-input-158-439d3a952830>\u001b[0m in \u001b[0;36m<module>\u001b[0;34m\u001b[0m\n\u001b[0;32m----> 1\u001b[0;31m \u001b[0mpd\u001b[0m\u001b[0;34m.\u001b[0m\u001b[0mDataFrame\u001b[0m\u001b[0;34m(\u001b[0m\u001b[0mclassification_report\u001b[0m\u001b[0;34m(\u001b[0m\u001b[0mtest_df\u001b[0m\u001b[0;34m[\u001b[0m\u001b[0;34m'multi_class_target'\u001b[0m\u001b[0;34m]\u001b[0m\u001b[0;34m,\u001b[0m \u001b[0mtest_df\u001b[0m\u001b[0;34m[\u001b[0m\u001b[0;34m'prediction'\u001b[0m\u001b[0;34m]\u001b[0m\u001b[0;34m,\u001b[0m \u001b[0moutput_dict\u001b[0m\u001b[0;34m=\u001b[0m\u001b[0;32mTrue\u001b[0m\u001b[0;34m)\u001b[0m\u001b[0;34m)\u001b[0m\u001b[0;34m.\u001b[0m\u001b[0mtranspose\u001b[0m\u001b[0;34m(\u001b[0m\u001b[0;34m)\u001b[0m\u001b[0;34m\u001b[0m\u001b[0;34m\u001b[0m\u001b[0m\n\u001b[0m",
      "\u001b[0;32m~/.local/lib/python3.6/site-packages/pandas/core/frame.py\u001b[0m in \u001b[0;36m__getitem__\u001b[0;34m(self, key)\u001b[0m\n\u001b[1;32m   2904\u001b[0m             \u001b[0;32mif\u001b[0m \u001b[0mself\u001b[0m\u001b[0;34m.\u001b[0m\u001b[0mcolumns\u001b[0m\u001b[0;34m.\u001b[0m\u001b[0mnlevels\u001b[0m \u001b[0;34m>\u001b[0m \u001b[0;36m1\u001b[0m\u001b[0;34m:\u001b[0m\u001b[0;34m\u001b[0m\u001b[0;34m\u001b[0m\u001b[0m\n\u001b[1;32m   2905\u001b[0m                 \u001b[0;32mreturn\u001b[0m \u001b[0mself\u001b[0m\u001b[0;34m.\u001b[0m\u001b[0m_getitem_multilevel\u001b[0m\u001b[0;34m(\u001b[0m\u001b[0mkey\u001b[0m\u001b[0;34m)\u001b[0m\u001b[0;34m\u001b[0m\u001b[0;34m\u001b[0m\u001b[0m\n\u001b[0;32m-> 2906\u001b[0;31m             \u001b[0mindexer\u001b[0m \u001b[0;34m=\u001b[0m \u001b[0mself\u001b[0m\u001b[0;34m.\u001b[0m\u001b[0mcolumns\u001b[0m\u001b[0;34m.\u001b[0m\u001b[0mget_loc\u001b[0m\u001b[0;34m(\u001b[0m\u001b[0mkey\u001b[0m\u001b[0;34m)\u001b[0m\u001b[0;34m\u001b[0m\u001b[0;34m\u001b[0m\u001b[0m\n\u001b[0m\u001b[1;32m   2907\u001b[0m             \u001b[0;32mif\u001b[0m \u001b[0mis_integer\u001b[0m\u001b[0;34m(\u001b[0m\u001b[0mindexer\u001b[0m\u001b[0;34m)\u001b[0m\u001b[0;34m:\u001b[0m\u001b[0;34m\u001b[0m\u001b[0;34m\u001b[0m\u001b[0m\n\u001b[1;32m   2908\u001b[0m                 \u001b[0mindexer\u001b[0m \u001b[0;34m=\u001b[0m \u001b[0;34m[\u001b[0m\u001b[0mindexer\u001b[0m\u001b[0;34m]\u001b[0m\u001b[0;34m\u001b[0m\u001b[0;34m\u001b[0m\u001b[0m\n",
      "\u001b[0;32m~/.local/lib/python3.6/site-packages/pandas/core/indexes/base.py\u001b[0m in \u001b[0;36mget_loc\u001b[0;34m(self, key, method, tolerance)\u001b[0m\n\u001b[1;32m   2898\u001b[0m                 \u001b[0;32mreturn\u001b[0m \u001b[0mself\u001b[0m\u001b[0;34m.\u001b[0m\u001b[0m_engine\u001b[0m\u001b[0;34m.\u001b[0m\u001b[0mget_loc\u001b[0m\u001b[0;34m(\u001b[0m\u001b[0mcasted_key\u001b[0m\u001b[0;34m)\u001b[0m\u001b[0;34m\u001b[0m\u001b[0;34m\u001b[0m\u001b[0m\n\u001b[1;32m   2899\u001b[0m             \u001b[0;32mexcept\u001b[0m \u001b[0mKeyError\u001b[0m \u001b[0;32mas\u001b[0m \u001b[0merr\u001b[0m\u001b[0;34m:\u001b[0m\u001b[0;34m\u001b[0m\u001b[0;34m\u001b[0m\u001b[0m\n\u001b[0;32m-> 2900\u001b[0;31m                 \u001b[0;32mraise\u001b[0m \u001b[0mKeyError\u001b[0m\u001b[0;34m(\u001b[0m\u001b[0mkey\u001b[0m\u001b[0;34m)\u001b[0m \u001b[0;32mfrom\u001b[0m \u001b[0merr\u001b[0m\u001b[0;34m\u001b[0m\u001b[0;34m\u001b[0m\u001b[0m\n\u001b[0m\u001b[1;32m   2901\u001b[0m \u001b[0;34m\u001b[0m\u001b[0m\n\u001b[1;32m   2902\u001b[0m         \u001b[0;32mif\u001b[0m \u001b[0mtolerance\u001b[0m \u001b[0;32mis\u001b[0m \u001b[0;32mnot\u001b[0m \u001b[0;32mNone\u001b[0m\u001b[0;34m:\u001b[0m\u001b[0;34m\u001b[0m\u001b[0;34m\u001b[0m\u001b[0m\n",
      "\u001b[0;31mKeyError\u001b[0m: 'prediction'"
     ]
    }
   ],
   "source": [
    "pd.DataFrame(classification_report(test_df['multi_class_target'], test_df['prediction'], output_dict=True)).transpose()"
   ]
  },
  {
   "cell_type": "code",
   "execution_count": 821,
   "metadata": {},
   "outputs": [
    {
     "data": {
      "text/plain": [
       "28717                 statement\n",
       "47637               main_screen\n",
       "71964      phone_money_transfer\n",
       "104513              main_screen\n",
       "111031              main_screen\n",
       "                   ...         \n",
       "5144529               statement\n",
       "5144536             main_screen\n",
       "5144543             main_screen\n",
       "5144547            own_transfer\n",
       "5144562         mobile_recharge\n",
       "Name: multi_class_target, Length: 77631, dtype: object"
      ]
     },
     "execution_count": 821,
     "metadata": {},
     "output_type": "execute_result"
    }
   ],
   "source": [
    "test_df['multi_class_target']"
   ]
  },
  {
   "cell_type": "code",
   "execution_count": 822,
   "metadata": {},
   "outputs": [],
   "source": [
    "from sklearn.metrics import confusion_matrix"
   ]
  },
  {
   "cell_type": "code",
   "execution_count": 807,
   "metadata": {},
   "outputs": [],
   "source": [
    "labels=test_df['multi_class_target'].unique().tolist()"
   ]
  },
  {
   "cell_type": "code",
   "execution_count": 808,
   "metadata": {},
   "outputs": [
    {
     "data": {
      "text/html": [
       "<div>\n",
       "<style scoped>\n",
       "    .dataframe tbody tr th:only-of-type {\n",
       "        vertical-align: middle;\n",
       "    }\n",
       "\n",
       "    .dataframe tbody tr th {\n",
       "        vertical-align: top;\n",
       "    }\n",
       "\n",
       "    .dataframe thead th {\n",
       "        text-align: right;\n",
       "    }\n",
       "</style>\n",
       "<table border=\"1\" class=\"dataframe\">\n",
       "  <thead>\n",
       "    <tr style=\"text-align: right;\">\n",
       "      <th></th>\n",
       "      <th>statement</th>\n",
       "      <th>main_screen</th>\n",
       "      <th>phone_money_transfer</th>\n",
       "      <th>own_transfer</th>\n",
       "      <th>invest</th>\n",
       "      <th>credit_info</th>\n",
       "      <th>mobile_recharge</th>\n",
       "      <th>card2card_transfer</th>\n",
       "      <th>chat</th>\n",
       "      <th>card_recharge</th>\n",
       "    </tr>\n",
       "  </thead>\n",
       "  <tbody>\n",
       "    <tr>\n",
       "      <th>statement</th>\n",
       "      <td>5769</td>\n",
       "      <td>2207</td>\n",
       "      <td>751</td>\n",
       "      <td>638</td>\n",
       "      <td>49</td>\n",
       "      <td>1029</td>\n",
       "      <td>620</td>\n",
       "      <td>426</td>\n",
       "      <td>529</td>\n",
       "      <td>653</td>\n",
       "    </tr>\n",
       "    <tr>\n",
       "      <th>main_screen</th>\n",
       "      <td>4125</td>\n",
       "      <td>17713</td>\n",
       "      <td>1416</td>\n",
       "      <td>1314</td>\n",
       "      <td>116</td>\n",
       "      <td>3567</td>\n",
       "      <td>1255</td>\n",
       "      <td>859</td>\n",
       "      <td>1171</td>\n",
       "      <td>2041</td>\n",
       "    </tr>\n",
       "    <tr>\n",
       "      <th>phone_money_transfer</th>\n",
       "      <td>701</td>\n",
       "      <td>690</td>\n",
       "      <td>1351</td>\n",
       "      <td>361</td>\n",
       "      <td>25</td>\n",
       "      <td>169</td>\n",
       "      <td>260</td>\n",
       "      <td>230</td>\n",
       "      <td>110</td>\n",
       "      <td>138</td>\n",
       "    </tr>\n",
       "    <tr>\n",
       "      <th>own_transfer</th>\n",
       "      <td>272</td>\n",
       "      <td>299</td>\n",
       "      <td>200</td>\n",
       "      <td>1819</td>\n",
       "      <td>36</td>\n",
       "      <td>254</td>\n",
       "      <td>143</td>\n",
       "      <td>103</td>\n",
       "      <td>109</td>\n",
       "      <td>95</td>\n",
       "    </tr>\n",
       "    <tr>\n",
       "      <th>invest</th>\n",
       "      <td>88</td>\n",
       "      <td>136</td>\n",
       "      <td>39</td>\n",
       "      <td>78</td>\n",
       "      <td>258</td>\n",
       "      <td>58</td>\n",
       "      <td>18</td>\n",
       "      <td>21</td>\n",
       "      <td>59</td>\n",
       "      <td>49</td>\n",
       "    </tr>\n",
       "    <tr>\n",
       "      <th>credit_info</th>\n",
       "      <td>474</td>\n",
       "      <td>1024</td>\n",
       "      <td>101</td>\n",
       "      <td>312</td>\n",
       "      <td>20</td>\n",
       "      <td>7111</td>\n",
       "      <td>137</td>\n",
       "      <td>150</td>\n",
       "      <td>496</td>\n",
       "      <td>575</td>\n",
       "    </tr>\n",
       "    <tr>\n",
       "      <th>mobile_recharge</th>\n",
       "      <td>553</td>\n",
       "      <td>486</td>\n",
       "      <td>301</td>\n",
       "      <td>255</td>\n",
       "      <td>10</td>\n",
       "      <td>176</td>\n",
       "      <td>1164</td>\n",
       "      <td>188</td>\n",
       "      <td>65</td>\n",
       "      <td>95</td>\n",
       "    </tr>\n",
       "    <tr>\n",
       "      <th>card2card_transfer</th>\n",
       "      <td>317</td>\n",
       "      <td>413</td>\n",
       "      <td>189</td>\n",
       "      <td>169</td>\n",
       "      <td>10</td>\n",
       "      <td>190</td>\n",
       "      <td>178</td>\n",
       "      <td>809</td>\n",
       "      <td>89</td>\n",
       "      <td>113</td>\n",
       "    </tr>\n",
       "    <tr>\n",
       "      <th>chat</th>\n",
       "      <td>529</td>\n",
       "      <td>703</td>\n",
       "      <td>141</td>\n",
       "      <td>206</td>\n",
       "      <td>25</td>\n",
       "      <td>606</td>\n",
       "      <td>103</td>\n",
       "      <td>88</td>\n",
       "      <td>1281</td>\n",
       "      <td>252</td>\n",
       "    </tr>\n",
       "    <tr>\n",
       "      <th>card_recharge</th>\n",
       "      <td>208</td>\n",
       "      <td>352</td>\n",
       "      <td>44</td>\n",
       "      <td>65</td>\n",
       "      <td>7</td>\n",
       "      <td>540</td>\n",
       "      <td>33</td>\n",
       "      <td>50</td>\n",
       "      <td>133</td>\n",
       "      <td>1678</td>\n",
       "    </tr>\n",
       "  </tbody>\n",
       "</table>\n",
       "</div>"
      ],
      "text/plain": [
       "                      statement  main_screen  phone_money_transfer  \\\n",
       "statement                  5769         2207                   751   \n",
       "main_screen                4125        17713                  1416   \n",
       "phone_money_transfer        701          690                  1351   \n",
       "own_transfer                272          299                   200   \n",
       "invest                       88          136                    39   \n",
       "credit_info                 474         1024                   101   \n",
       "mobile_recharge             553          486                   301   \n",
       "card2card_transfer          317          413                   189   \n",
       "chat                        529          703                   141   \n",
       "card_recharge               208          352                    44   \n",
       "\n",
       "                      own_transfer  invest  credit_info  mobile_recharge  \\\n",
       "statement                      638      49         1029              620   \n",
       "main_screen                   1314     116         3567             1255   \n",
       "phone_money_transfer           361      25          169              260   \n",
       "own_transfer                  1819      36          254              143   \n",
       "invest                          78     258           58               18   \n",
       "credit_info                    312      20         7111              137   \n",
       "mobile_recharge                255      10          176             1164   \n",
       "card2card_transfer             169      10          190              178   \n",
       "chat                           206      25          606              103   \n",
       "card_recharge                   65       7          540               33   \n",
       "\n",
       "                      card2card_transfer  chat  card_recharge  \n",
       "statement                            426   529            653  \n",
       "main_screen                          859  1171           2041  \n",
       "phone_money_transfer                 230   110            138  \n",
       "own_transfer                         103   109             95  \n",
       "invest                                21    59             49  \n",
       "credit_info                          150   496            575  \n",
       "mobile_recharge                      188    65             95  \n",
       "card2card_transfer                   809    89            113  \n",
       "chat                                  88  1281            252  \n",
       "card_recharge                         50   133           1678  "
      ]
     },
     "execution_count": 808,
     "metadata": {},
     "output_type": "execute_result"
    }
   ],
   "source": [
    "pd.DataFrame(confusion_matrix(test_df['multi_class_target'], test_df['prediction'], labels=labels), columns=labels, index=labels)"
   ]
  },
  {
   "cell_type": "markdown",
   "metadata": {},
   "source": [
    "### Получение сабмит файла"
   ]
  },
  {
   "cell_type": "code",
   "execution_count": 823,
   "metadata": {},
   "outputs": [
    {
     "data": {
      "text/html": [
       "<div>\n",
       "<style scoped>\n",
       "    .dataframe tbody tr th:only-of-type {\n",
       "        vertical-align: middle;\n",
       "    }\n",
       "\n",
       "    .dataframe tbody tr th {\n",
       "        vertical-align: top;\n",
       "    }\n",
       "\n",
       "    .dataframe thead th {\n",
       "        text-align: right;\n",
       "    }\n",
       "</style>\n",
       "<table border=\"1\" class=\"dataframe\">\n",
       "  <thead>\n",
       "    <tr style=\"text-align: right;\">\n",
       "      <th></th>\n",
       "      <th>bigger_mobile_recharge_statement</th>\n",
       "      <th>bigger_mobile_recharge_phone_money_transfer</th>\n",
       "      <th>bigger_mobile_recharge_chat</th>\n",
       "      <th>bigger_mobile_recharge_invest</th>\n",
       "      <th>bigger_mobile_recharge_main_screen</th>\n",
       "      <th>bigger_mobile_recharge_own_transfer</th>\n",
       "      <th>bigger_mobile_recharge_card_recharge</th>\n",
       "      <th>bigger_mobile_recharge_credit_info</th>\n",
       "      <th>bigger_mobile_recharge_card2card_transfer</th>\n",
       "      <th>bigger_statement_phone_money_transfer</th>\n",
       "      <th>...</th>\n",
       "      <th>page_urlhost_last</th>\n",
       "      <th>page_urlpath_full_first</th>\n",
       "      <th>page_urlpath_full_last</th>\n",
       "      <th>net_connection_type_first</th>\n",
       "      <th>net_connection_type_last</th>\n",
       "      <th>net_connection_tech_first</th>\n",
       "      <th>net_connection_tech_last</th>\n",
       "      <th>session_id_size</th>\n",
       "      <th>session_diff_time</th>\n",
       "      <th>prediction</th>\n",
       "    </tr>\n",
       "  </thead>\n",
       "  <tbody>\n",
       "    <tr>\n",
       "      <th>4354786</th>\n",
       "      <td>0.0</td>\n",
       "      <td>0.0</td>\n",
       "      <td>0.0</td>\n",
       "      <td>0.0</td>\n",
       "      <td>0.0</td>\n",
       "      <td>0.0</td>\n",
       "      <td>0.0</td>\n",
       "      <td>0.0</td>\n",
       "      <td>0.0</td>\n",
       "      <td>0.0</td>\n",
       "      <td>...</td>\n",
       "      <td>nan</td>\n",
       "      <td>nan</td>\n",
       "      <td>nan</td>\n",
       "      <td>mobile</td>\n",
       "      <td>mobile</td>\n",
       "      <td>LTE</td>\n",
       "      <td>LTE</td>\n",
       "      <td>9.0</td>\n",
       "      <td>113.031</td>\n",
       "      <td>credit_info</td>\n",
       "    </tr>\n",
       "  </tbody>\n",
       "</table>\n",
       "<p>1 rows × 178 columns</p>\n",
       "</div>"
      ],
      "text/plain": [
       "         bigger_mobile_recharge_statement  \\\n",
       "4354786                               0.0   \n",
       "\n",
       "         bigger_mobile_recharge_phone_money_transfer  \\\n",
       "4354786                                          0.0   \n",
       "\n",
       "         bigger_mobile_recharge_chat  bigger_mobile_recharge_invest  \\\n",
       "4354786                          0.0                            0.0   \n",
       "\n",
       "         bigger_mobile_recharge_main_screen  \\\n",
       "4354786                                 0.0   \n",
       "\n",
       "         bigger_mobile_recharge_own_transfer  \\\n",
       "4354786                                  0.0   \n",
       "\n",
       "         bigger_mobile_recharge_card_recharge  \\\n",
       "4354786                                   0.0   \n",
       "\n",
       "         bigger_mobile_recharge_credit_info  \\\n",
       "4354786                                 0.0   \n",
       "\n",
       "         bigger_mobile_recharge_card2card_transfer  \\\n",
       "4354786                                        0.0   \n",
       "\n",
       "         bigger_statement_phone_money_transfer  ...  page_urlhost_last  \\\n",
       "4354786                                    0.0  ...                nan   \n",
       "\n",
       "         page_urlpath_full_first  page_urlpath_full_last  \\\n",
       "4354786                      nan                     nan   \n",
       "\n",
       "         net_connection_type_first  net_connection_type_last  \\\n",
       "4354786                     mobile                    mobile   \n",
       "\n",
       "         net_connection_tech_first  net_connection_tech_last  session_id_size  \\\n",
       "4354786                        LTE                       LTE              9.0   \n",
       "\n",
       "         session_diff_time   prediction  \n",
       "4354786            113.031  credit_info  \n",
       "\n",
       "[1 rows x 178 columns]"
      ]
     },
     "execution_count": 823,
     "metadata": {},
     "output_type": "execute_result"
    }
   ],
   "source": [
    "submit_df.head(n=1)"
   ]
  },
  {
   "cell_type": "code",
   "execution_count": 159,
   "metadata": {},
   "outputs": [],
   "source": [
    "submit_df['prediction'] = cv_clsf.predict(submit_df[atrs])"
   ]
  },
  {
   "cell_type": "code",
   "execution_count": 160,
   "metadata": {},
   "outputs": [],
   "source": [
    "submit_df[['client_pin', 'prediction']].to_csv('submit.csv', index=False)"
   ]
  },
  {
   "cell_type": "code",
   "execution_count": 112,
   "metadata": {
    "collapsed": true,
    "jupyter": {
     "outputs_hidden": true
    }
   },
   "outputs": [
    {
     "data": {
      "text/plain": [
       "['bigger_mobile_recharge_statement',\n",
       " 'bigger_mobile_recharge_phone_money_transfer',\n",
       " 'bigger_mobile_recharge_chat',\n",
       " 'bigger_mobile_recharge_invest',\n",
       " 'bigger_mobile_recharge_main_screen',\n",
       " 'bigger_mobile_recharge_own_transfer',\n",
       " 'bigger_mobile_recharge_card_recharge',\n",
       " 'bigger_mobile_recharge_credit_info',\n",
       " 'bigger_mobile_recharge_card2card_transfer',\n",
       " 'bigger_statement_phone_money_transfer',\n",
       " 'bigger_statement_chat',\n",
       " 'bigger_statement_invest',\n",
       " 'bigger_statement_main_screen',\n",
       " 'bigger_statement_own_transfer',\n",
       " 'bigger_statement_card_recharge',\n",
       " 'bigger_statement_credit_info',\n",
       " 'bigger_statement_card2card_transfer',\n",
       " 'bigger_phone_money_transfer_chat',\n",
       " 'bigger_phone_money_transfer_invest',\n",
       " 'bigger_phone_money_transfer_main_screen',\n",
       " 'bigger_phone_money_transfer_own_transfer',\n",
       " 'bigger_phone_money_transfer_card_recharge',\n",
       " 'bigger_phone_money_transfer_credit_info',\n",
       " 'bigger_phone_money_transfer_card2card_transfer',\n",
       " 'bigger_chat_invest',\n",
       " 'bigger_chat_main_screen',\n",
       " 'bigger_chat_own_transfer',\n",
       " 'bigger_chat_card_recharge',\n",
       " 'bigger_chat_credit_info',\n",
       " 'bigger_chat_card2card_transfer',\n",
       " 'bigger_invest_main_screen',\n",
       " 'bigger_invest_own_transfer',\n",
       " 'bigger_invest_card_recharge',\n",
       " 'bigger_invest_credit_info',\n",
       " 'bigger_invest_card2card_transfer',\n",
       " 'bigger_main_screen_own_transfer',\n",
       " 'bigger_main_screen_card_recharge',\n",
       " 'bigger_main_screen_credit_info',\n",
       " 'bigger_main_screen_card2card_transfer',\n",
       " 'bigger_own_transfer_card_recharge',\n",
       " 'bigger_own_transfer_credit_info',\n",
       " 'bigger_own_transfer_card2card_transfer',\n",
       " 'bigger_card_recharge_credit_info',\n",
       " 'bigger_card_recharge_card2card_transfer',\n",
       " 'bigger_credit_info_card2card_transfer',\n",
       " 'prev_sum_card2card_transfer',\n",
       " 'prev_sum_card_recharge',\n",
       " 'prev_sum_chat',\n",
       " 'prev_sum_credit_info',\n",
       " 'prev_sum_invest',\n",
       " 'prev_sum_main_screen',\n",
       " 'prev_sum_mobile_recharge',\n",
       " 'prev_sum_own_transfer',\n",
       " 'prev_sum_phone_money_transfer',\n",
       " 'prev_sum_statement',\n",
       " 'weekday',\n",
       " 'day',\n",
       " 'hour',\n",
       " 'target_1',\n",
       " 'time_diff_1_0',\n",
       " 'target_2',\n",
       " 'time_diff_2_0',\n",
       " 'time_diff_2_1',\n",
       " 'target_3',\n",
       " 'time_diff_3_0',\n",
       " 'time_diff_3_1',\n",
       " 'time_diff_3_2',\n",
       " 'target_4',\n",
       " 'time_diff_4_0',\n",
       " 'time_diff_4_1',\n",
       " 'time_diff_4_2',\n",
       " 'time_diff_4_3',\n",
       " 'target_5',\n",
       " 'time_diff_5_0',\n",
       " 'time_diff_5_1',\n",
       " 'time_diff_5_2',\n",
       " 'time_diff_5_3',\n",
       " 'time_diff_5_4',\n",
       " 'target_6',\n",
       " 'time_diff_6_0',\n",
       " 'time_diff_6_1',\n",
       " 'time_diff_6_2',\n",
       " 'time_diff_6_3',\n",
       " 'time_diff_6_4',\n",
       " 'time_diff_6_5',\n",
       " 'target_7',\n",
       " 'time_diff_7_0',\n",
       " 'time_diff_7_1',\n",
       " 'time_diff_7_2',\n",
       " 'time_diff_7_3',\n",
       " 'time_diff_7_4',\n",
       " 'time_diff_7_5',\n",
       " 'time_diff_7_6',\n",
       " 'target_8',\n",
       " 'time_diff_8_0',\n",
       " 'time_diff_8_1',\n",
       " 'time_diff_8_2',\n",
       " 'time_diff_8_3',\n",
       " 'time_diff_8_4',\n",
       " 'time_diff_8_5',\n",
       " 'time_diff_8_6',\n",
       " 'time_diff_8_7',\n",
       " 'target_9',\n",
       " 'time_diff_9_0',\n",
       " 'time_diff_9_1',\n",
       " 'time_diff_9_2',\n",
       " 'time_diff_9_3',\n",
       " 'time_diff_9_4',\n",
       " 'time_diff_9_5',\n",
       " 'time_diff_9_6',\n",
       " 'time_diff_9_7',\n",
       " 'time_diff_9_8',\n",
       " 'target_10',\n",
       " 'time_diff_10_0',\n",
       " 'time_diff_10_1',\n",
       " 'time_diff_10_2',\n",
       " 'time_diff_10_3',\n",
       " 'time_diff_10_4',\n",
       " 'time_diff_10_5',\n",
       " 'time_diff_10_6',\n",
       " 'time_diff_10_7',\n",
       " 'time_diff_10_8',\n",
       " 'time_diff_10_9',\n",
       " 'mean_diff_time_global',\n",
       " 'mean_diff_time_global_explotation',\n",
       " 'sessions_number',\n",
       " 'seq_last_target_len',\n",
       " 'top_target_x',\n",
       " 'top_target_2',\n",
       " 'top_target_3',\n",
       " 'last_target_1',\n",
       " 'last_target_2',\n",
       " 'last_target_3',\n",
       " 'last_target_4',\n",
       " 'last_target_5',\n",
       " 'top_target_y',\n",
       " 'proba_card2card_transfer',\n",
       " 'proba_card_recharge',\n",
       " 'proba_chat',\n",
       " 'proba_credit_info',\n",
       " 'proba_invest',\n",
       " 'proba_main_screen',\n",
       " 'proba_mobile_recharge',\n",
       " 'proba_own_transfer',\n",
       " 'proba_phone_money_transfer',\n",
       " 'proba_statement',\n",
       " 'session_diff_time',\n",
       " 'session_id_size']"
      ]
     },
     "execution_count": 112,
     "metadata": {},
     "output_type": "execute_result"
    }
   ],
   "source": [
    "atrs"
   ]
  },
  {
   "cell_type": "code",
   "execution_count": 73,
   "metadata": {},
   "outputs": [],
   "source": [
    "new_atr = [atr for atr in atrs if 'sum'  not in atr]"
   ]
  },
  {
   "cell_type": "code",
   "execution_count": 74,
   "metadata": {},
   "outputs": [
    {
     "name": "stdout",
     "output_type": "stream",
     "text": [
      "Training until validation scores don't improve for 50 rounds\n",
      "[5]\tvalid_0's multi_logloss: 1.59652\tvalid_0's f1_score: 0.3992\n",
      "[10]\tvalid_0's multi_logloss: 1.49918\tvalid_0's f1_score: 0.404926\n",
      "[15]\tvalid_0's multi_logloss: 1.46483\tvalid_0's f1_score: 0.405171\n",
      "[20]\tvalid_0's multi_logloss: 1.45161\tvalid_0's f1_score: 0.40493\n",
      "[25]\tvalid_0's multi_logloss: 1.44616\tvalid_0's f1_score: 0.404693\n",
      "[30]\tvalid_0's multi_logloss: 1.44368\tvalid_0's f1_score: 0.405082\n",
      "[35]\tvalid_0's multi_logloss: 1.44246\tvalid_0's f1_score: 0.404335\n",
      "[40]\tvalid_0's multi_logloss: 1.442\tvalid_0's f1_score: 0.40393\n",
      "[45]\tvalid_0's multi_logloss: 1.44147\tvalid_0's f1_score: 0.40429\n",
      "[50]\tvalid_0's multi_logloss: 1.4414\tvalid_0's f1_score: 0.404732\n",
      "[55]\tvalid_0's multi_logloss: 1.44122\tvalid_0's f1_score: 0.405071\n",
      "[60]\tvalid_0's multi_logloss: 1.44121\tvalid_0's f1_score: 0.405226\n",
      "[65]\tvalid_0's multi_logloss: 1.44092\tvalid_0's f1_score: 0.405185\n",
      "[70]\tvalid_0's multi_logloss: 1.44085\tvalid_0's f1_score: 0.40517\n",
      "[75]\tvalid_0's multi_logloss: 1.44093\tvalid_0's f1_score: 0.404836\n",
      "[80]\tvalid_0's multi_logloss: 1.44099\tvalid_0's f1_score: 0.404632\n",
      "[85]\tvalid_0's multi_logloss: 1.4409\tvalid_0's f1_score: 0.404482\n",
      "[90]\tvalid_0's multi_logloss: 1.44093\tvalid_0's f1_score: 0.405164\n",
      "[95]\tvalid_0's multi_logloss: 1.44089\tvalid_0's f1_score: 0.40548\n",
      "[100]\tvalid_0's multi_logloss: 1.44088\tvalid_0's f1_score: 0.405375\n",
      "[105]\tvalid_0's multi_logloss: 1.44122\tvalid_0's f1_score: 0.405171\n",
      "[110]\tvalid_0's multi_logloss: 1.44121\tvalid_0's f1_score: 0.405082\n",
      "[115]\tvalid_0's multi_logloss: 1.44111\tvalid_0's f1_score: 0.404587\n",
      "[120]\tvalid_0's multi_logloss: 1.44116\tvalid_0's f1_score: 0.404652\n",
      "[125]\tvalid_0's multi_logloss: 1.44133\tvalid_0's f1_score: 0.404721\n",
      "[130]\tvalid_0's multi_logloss: 1.44138\tvalid_0's f1_score: 0.405207\n",
      "Early stopping, best iteration is:\n",
      "[83]\tvalid_0's multi_logloss: 1.44072\tvalid_0's f1_score: 0.404938\n"
     ]
    },
    {
     "data": {
      "text/plain": [
       "LGBMClassifier(boosting_type='gbdt', class_weight=None, colsample_bytree=1.0,\n",
       "               importance_type='split', learning_rate=0.1, max_depth=5,\n",
       "               min_child_samples=20, min_child_weight=0.001, min_split_gain=0.7,\n",
       "               n_estimators=200, n_jobs=60, num_leaves=31,\n",
       "               objective='multiclass', random_state=1, reg_alpha=0.9,\n",
       "               reg_lambda=0.0, silent=True, subsample=0.7,\n",
       "               subsample_for_bin=200000, subsample_freq=0)"
      ]
     },
     "execution_count": 74,
     "metadata": {},
     "output_type": "execute_result"
    }
   ],
   "source": [
    "lgbm.fit(train_df_less[new_atr], train_df_less['multi_class_target'], eval_set=(test_df[new_atr], test_df['multi_class_target']), eval_metric=evalerror, verbose=5, early_stopping_rounds=50)"
   ]
  },
  {
   "cell_type": "code",
   "execution_count": 56,
   "metadata": {},
   "outputs": [],
   "source": [
    "prev_columns = [col for col in train_df_less.columns if 'prev_sum' in col]"
   ]
  },
  {
   "cell_type": "code",
   "execution_count": 58,
   "metadata": {},
   "outputs": [],
   "source": [
    "for col in prev_columns:\n",
    "    train_df_less['mean' + col.split('prev_sum')[1]] = train_df_less[col]/train_df_less['sessions_number']\n",
    "    test_df['mean' + col.split('prev_sum')[1]] = test_df[col]/test_df['sessions_number']"
   ]
  },
  {
   "cell_type": "code",
   "execution_count": 144,
   "metadata": {},
   "outputs": [],
   "source": [
    "# lgbm.fit(train_df_lgb[lgbm_atrs], train_df_lgb['multi_class_target'], eval_set=(test_df_lgb[lgbm_atrs], test_df_lgb['multi_class_target']), eval_metric=evalerror, verbose=20, early_stopping_rounds=100)"
   ]
  },
  {
   "cell_type": "code",
   "execution_count": 149,
   "metadata": {},
   "outputs": [
    {
     "data": {
      "text/plain": [
       "165"
      ]
     },
     "execution_count": 149,
     "metadata": {},
     "output_type": "execute_result"
    }
   ],
   "source": [
    "len(atrs)"
   ]
  },
  {
   "cell_type": "code",
   "execution_count": 168,
   "metadata": {},
   "outputs": [],
   "source": [
    "df_f = pd.DataFrame(zip(lgbm.feature_name_, lgbm.feature_importances_)).sort_values(by=1, ascending=False)"
   ]
  },
  {
   "cell_type": "code",
   "execution_count": 169,
   "metadata": {},
   "outputs": [
    {
     "data": {
      "text/plain": [
       "0.9848563968668407"
      ]
     },
     "execution_count": 169,
     "metadata": {},
     "output_type": "execute_result"
    }
   ],
   "source": [
    "df_f.iloc[:-50, 1].sum()/df_f[1].sum()"
   ]
  },
  {
   "cell_type": "code",
   "execution_count": 170,
   "metadata": {},
   "outputs": [],
   "source": [
    "new_features = df_f.iloc[:-40, 0].values"
   ]
  },
  {
   "cell_type": "code",
   "execution_count": 171,
   "metadata": {},
   "outputs": [],
   "source": [
    "lgbm_new = LGBMClassifier(objective='multiclass', reg_alpha=0.9, max_depth=5, min_split_gain = 0.7, subsample=0.7, n_estimators=200, n_jobs=60, random_state=SEED)"
   ]
  },
  {
   "cell_type": "code",
   "execution_count": 173,
   "metadata": {},
   "outputs": [
    {
     "name": "stdout",
     "output_type": "stream",
     "text": [
      "[LightGBM] [Warning] Accuracy may be bad since you didn't explicitly set num_leaves OR 2^max_depth > num_leaves. (num_leaves=31).\n",
      "Training until validation scores don't improve for 100 rounds\n",
      "[5]\tvalid_0's multi_logloss: 1.60118\tvalid_0's f1_score: 0.399173\n",
      "[10]\tvalid_0's multi_logloss: 1.4985\tvalid_0's f1_score: 0.408484\n",
      "[15]\tvalid_0's multi_logloss: 1.45821\tvalid_0's f1_score: 0.410954\n",
      "[20]\tvalid_0's multi_logloss: 1.43967\tvalid_0's f1_score: 0.410968\n",
      "[25]\tvalid_0's multi_logloss: 1.43152\tvalid_0's f1_score: 0.412343\n",
      "[30]\tvalid_0's multi_logloss: 1.42751\tvalid_0's f1_score: 0.412323\n",
      "[35]\tvalid_0's multi_logloss: 1.42555\tvalid_0's f1_score: 0.412411\n",
      "[40]\tvalid_0's multi_logloss: 1.42426\tvalid_0's f1_score: 0.412506\n",
      "[45]\tvalid_0's multi_logloss: 1.42366\tvalid_0's f1_score: 0.412644\n",
      "[50]\tvalid_0's multi_logloss: 1.42281\tvalid_0's f1_score: 0.41289\n",
      "[55]\tvalid_0's multi_logloss: 1.42246\tvalid_0's f1_score: 0.413762\n",
      "[60]\tvalid_0's multi_logloss: 1.42241\tvalid_0's f1_score: 0.413797\n",
      "[65]\tvalid_0's multi_logloss: 1.422\tvalid_0's f1_score: 0.414524\n",
      "[70]\tvalid_0's multi_logloss: 1.42191\tvalid_0's f1_score: 0.414512\n",
      "[75]\tvalid_0's multi_logloss: 1.42192\tvalid_0's f1_score: 0.414048\n",
      "[80]\tvalid_0's multi_logloss: 1.42169\tvalid_0's f1_score: 0.414236\n",
      "[85]\tvalid_0's multi_logloss: 1.42142\tvalid_0's f1_score: 0.414486\n",
      "[90]\tvalid_0's multi_logloss: 1.42118\tvalid_0's f1_score: 0.414409\n",
      "[95]\tvalid_0's multi_logloss: 1.42066\tvalid_0's f1_score: 0.413843\n",
      "[100]\tvalid_0's multi_logloss: 1.42004\tvalid_0's f1_score: 0.413495\n",
      "[105]\tvalid_0's multi_logloss: 1.41994\tvalid_0's f1_score: 0.41367\n",
      "[110]\tvalid_0's multi_logloss: 1.41992\tvalid_0's f1_score: 0.414148\n",
      "[115]\tvalid_0's multi_logloss: 1.42005\tvalid_0's f1_score: 0.414198\n",
      "[120]\tvalid_0's multi_logloss: 1.41973\tvalid_0's f1_score: 0.413979\n",
      "[125]\tvalid_0's multi_logloss: 1.41974\tvalid_0's f1_score: 0.413758\n",
      "[130]\tvalid_0's multi_logloss: 1.41969\tvalid_0's f1_score: 0.413962\n",
      "[135]\tvalid_0's multi_logloss: 1.41975\tvalid_0's f1_score: 0.413965\n",
      "[140]\tvalid_0's multi_logloss: 1.42005\tvalid_0's f1_score: 0.413651\n",
      "[145]\tvalid_0's multi_logloss: 1.41996\tvalid_0's f1_score: 0.413667\n",
      "[150]\tvalid_0's multi_logloss: 1.41982\tvalid_0's f1_score: 0.4137\n",
      "[155]\tvalid_0's multi_logloss: 1.41976\tvalid_0's f1_score: 0.413412\n",
      "[160]\tvalid_0's multi_logloss: 1.42015\tvalid_0's f1_score: 0.412948\n",
      "[165]\tvalid_0's multi_logloss: 1.42017\tvalid_0's f1_score: 0.413004\n",
      "Early stopping, best iteration is:\n",
      "[69]\tvalid_0's multi_logloss: 1.42171\tvalid_0's f1_score: 0.414736\n"
     ]
    },
    {
     "data": {
      "text/plain": [
       "LGBMClassifier(boosting_type='gbdt', class_weight=None, colsample_bytree=1.0,\n",
       "               importance_type='split', learning_rate=0.1, max_depth=5,\n",
       "               min_child_samples=20, min_child_weight=0.001, min_split_gain=0.7,\n",
       "               n_estimators=200, n_jobs=60, num_leaves=31,\n",
       "               objective='multiclass', random_state=1, reg_alpha=0.9,\n",
       "               reg_lambda=0.0, silent=True, subsample=0.7,\n",
       "               subsample_for_bin=200000, subsample_freq=0)"
      ]
     },
     "execution_count": 173,
     "metadata": {},
     "output_type": "execute_result"
    }
   ],
   "source": [
    "lgbm_new.fit(train_df_less[new_features], train_df_less['multi_class_target'], eval_set=(test_df[new_features], test_df['multi_class_target']), eval_metric=evalerror, verbose=5, early_stopping_rounds=50)"
   ]
  },
  {
   "cell_type": "code",
   "execution_count": 176,
   "metadata": {},
   "outputs": [
    {
     "data": {
      "text/plain": [
       "0.414607849230933"
      ]
     },
     "execution_count": 176,
     "metadata": {},
     "output_type": "execute_result"
    }
   ],
   "source": [
    "f1_score(test_df['multi_class_target'], cv_clsf.classes_[np.argmax(cv_clsf.predict_proba(test_df[atrs]) + lgbm.predict_proba(test_df[atrs]) + lgbm_new.predict_proba(test_df[new_features]), 1)], average='macro')"
   ]
  },
  {
   "cell_type": "code",
   "execution_count": 178,
   "metadata": {},
   "outputs": [],
   "source": [
    "submit_df['prediction'] = cv_clsf.classes_[np.argmax(cv_clsf.predict_proba(submit_df[atrs]) + lgbm.predict_proba(submit_df[atrs]) + lgbm_new.predict_proba(submit_df[new_features]), 1)]"
   ]
  },
  {
   "cell_type": "code",
   "execution_count": 179,
   "metadata": {},
   "outputs": [],
   "source": [
    "submit_df[['client_pin', 'prediction']].to_csv('blending.csv', index=False)"
   ]
  },
  {
   "cell_type": "markdown",
   "metadata": {},
   "source": [
    "### Применение xgboost"
   ]
  },
  {
   "cell_type": "code",
   "execution_count": 344,
   "metadata": {},
   "outputs": [],
   "source": [
    "from xgboost import XGBClassifier"
   ]
  },
  {
   "cell_type": "code",
   "execution_count": 361,
   "metadata": {},
   "outputs": [
    {
     "data": {
      "text/plain": [
       "'0.90'"
      ]
     },
     "execution_count": 361,
     "metadata": {},
     "output_type": "execute_result"
    }
   ],
   "source": [
    "import xgboost\n",
    "\n",
    "xgboost.__version__"
   ]
  },
  {
   "cell_type": "code",
   "execution_count": 362,
   "metadata": {},
   "outputs": [
    {
     "data": {
      "text/plain": [
       "array(['phone_money_transfer', 'main_screen', 'own_transfer',\n",
       "       'credit_info', 'chat', 'statement', 'card_recharge',\n",
       "       'card2card_transfer', 'mobile_recharge', 'invest'], dtype=object)"
      ]
     },
     "execution_count": 362,
     "metadata": {},
     "output_type": "execute_result"
    }
   ],
   "source": [
    "train_df['multi_class_target'].unique()"
   ]
  },
  {
   "cell_type": "code",
   "execution_count": null,
   "metadata": {},
   "outputs": [],
   "source": [
    "train_df_lgb['multi_class_target'].uni"
   ]
  },
  {
   "cell_type": "code",
   "execution_count": 357,
   "metadata": {},
   "outputs": [],
   "source": [
    "xgb = XGBClassifier(objective='multi:softmax', num_class=10)"
   ]
  },
  {
   "cell_type": "code",
   "execution_count": 368,
   "metadata": {},
   "outputs": [
    {
     "data": {
      "text/plain": [
       "array(['invest', 'mobile_recharge', 'card2card_transfer', 'card_recharge',\n",
       "       'statement', 'chat', 'credit_info', 'own_transfer', 'main_screen',\n",
       "       'phone_money_transfer'], dtype=object)"
      ]
     },
     "execution_count": 368,
     "metadata": {},
     "output_type": "execute_result"
    }
   ],
   "source": [
    "train_df_lgb['multi_class_target'].unique()"
   ]
  },
  {
   "cell_type": "code",
   "execution_count": 370,
   "metadata": {},
   "outputs": [
    {
     "data": {
      "text/plain": [
       "LabelEncoder()"
      ]
     },
     "execution_count": 370,
     "metadata": {},
     "output_type": "execute_result"
    }
   ],
   "source": [
    "lb_target = LabelEncoder()\n",
    "lb_target.fit(train_df_lgb['multi_class_target'])"
   ]
  },
  {
   "cell_type": "code",
   "execution_count": 373,
   "metadata": {},
   "outputs": [
    {
     "data": {
      "text/plain": [
       "array(['invest', 'mobile_recharge', 'card2card_transfer', 'card_recharge',\n",
       "       'statement', 'chat', 'credit_info', 'own_transfer', 'main_screen',\n",
       "       'phone_money_transfer'], dtype=object)"
      ]
     },
     "execution_count": 373,
     "metadata": {},
     "output_type": "execute_result"
    }
   ],
   "source": [
    "train_df_lgb['multi_class_target'].unique()"
   ]
  },
  {
   "cell_type": "code",
   "execution_count": 375,
   "metadata": {},
   "outputs": [
    {
     "data": {
      "text/plain": [
       "array(['statement', 'main_screen', 'phone_money_transfer', 'own_transfer',\n",
       "       'invest', 'credit_info', 'mobile_recharge', 'card2card_transfer',\n",
       "       'chat', 'card_recharge'], dtype=object)"
      ]
     },
     "execution_count": 375,
     "metadata": {},
     "output_type": "execute_result"
    }
   ],
   "source": [
    "test_df_lgb['multi_class_target'].unique()"
   ]
  },
  {
   "cell_type": "code",
   "execution_count": 382,
   "metadata": {
    "collapsed": true,
    "jupyter": {
     "outputs_hidden": true
    }
   },
   "outputs": [
    {
     "ename": "ValueError",
     "evalue": "y contains previously unseen labels: 3836.15",
     "output_type": "error",
     "traceback": [
      "\u001b[0;31m---------------------------------------------------------------------------\u001b[0m",
      "\u001b[0;31mKeyError\u001b[0m                                  Traceback (most recent call last)",
      "\u001b[0;32m~/.local/lib/python3.6/site-packages/sklearn/preprocessing/label.py\u001b[0m in \u001b[0;36m_encode_python\u001b[0;34m(values, uniques, encode)\u001b[0m\n\u001b[1;32m     63\u001b[0m         \u001b[0;32mtry\u001b[0m\u001b[0;34m:\u001b[0m\u001b[0;34m\u001b[0m\u001b[0;34m\u001b[0m\u001b[0m\n\u001b[0;32m---> 64\u001b[0;31m             \u001b[0mencoded\u001b[0m \u001b[0;34m=\u001b[0m \u001b[0mnp\u001b[0m\u001b[0;34m.\u001b[0m\u001b[0marray\u001b[0m\u001b[0;34m(\u001b[0m\u001b[0;34m[\u001b[0m\u001b[0mtable\u001b[0m\u001b[0;34m[\u001b[0m\u001b[0mv\u001b[0m\u001b[0;34m]\u001b[0m \u001b[0;32mfor\u001b[0m \u001b[0mv\u001b[0m \u001b[0;32min\u001b[0m \u001b[0mvalues\u001b[0m\u001b[0;34m]\u001b[0m\u001b[0;34m)\u001b[0m\u001b[0;34m\u001b[0m\u001b[0;34m\u001b[0m\u001b[0m\n\u001b[0m\u001b[1;32m     65\u001b[0m         \u001b[0;32mexcept\u001b[0m \u001b[0mKeyError\u001b[0m \u001b[0;32mas\u001b[0m \u001b[0me\u001b[0m\u001b[0;34m:\u001b[0m\u001b[0;34m\u001b[0m\u001b[0;34m\u001b[0m\u001b[0m\n",
      "\u001b[0;32m~/.local/lib/python3.6/site-packages/sklearn/preprocessing/label.py\u001b[0m in \u001b[0;36m<listcomp>\u001b[0;34m(.0)\u001b[0m\n\u001b[1;32m     63\u001b[0m         \u001b[0;32mtry\u001b[0m\u001b[0;34m:\u001b[0m\u001b[0;34m\u001b[0m\u001b[0;34m\u001b[0m\u001b[0m\n\u001b[0;32m---> 64\u001b[0;31m             \u001b[0mencoded\u001b[0m \u001b[0;34m=\u001b[0m \u001b[0mnp\u001b[0m\u001b[0;34m.\u001b[0m\u001b[0marray\u001b[0m\u001b[0;34m(\u001b[0m\u001b[0;34m[\u001b[0m\u001b[0mtable\u001b[0m\u001b[0;34m[\u001b[0m\u001b[0mv\u001b[0m\u001b[0;34m]\u001b[0m \u001b[0;32mfor\u001b[0m \u001b[0mv\u001b[0m \u001b[0;32min\u001b[0m \u001b[0mvalues\u001b[0m\u001b[0;34m]\u001b[0m\u001b[0;34m)\u001b[0m\u001b[0;34m\u001b[0m\u001b[0;34m\u001b[0m\u001b[0m\n\u001b[0m\u001b[1;32m     65\u001b[0m         \u001b[0;32mexcept\u001b[0m \u001b[0mKeyError\u001b[0m \u001b[0;32mas\u001b[0m \u001b[0me\u001b[0m\u001b[0;34m:\u001b[0m\u001b[0;34m\u001b[0m\u001b[0;34m\u001b[0m\u001b[0m\n",
      "\u001b[0;31mKeyError\u001b[0m: 3836.15",
      "\nDuring handling of the above exception, another exception occurred:\n",
      "\u001b[0;31mValueError\u001b[0m                                Traceback (most recent call last)",
      "\u001b[0;32m<ipython-input-382-aba20bafa6d2>\u001b[0m in \u001b[0;36m<module>\u001b[0;34m\u001b[0m\n\u001b[0;32m----> 1\u001b[0;31m \u001b[0mxgb\u001b[0m\u001b[0;34m.\u001b[0m\u001b[0mfit\u001b[0m\u001b[0;34m(\u001b[0m\u001b[0mtrain_df_lgb\u001b[0m\u001b[0;34m[\u001b[0m\u001b[0mlgbm_atrs\u001b[0m\u001b[0;34m]\u001b[0m\u001b[0;34m.\u001b[0m\u001b[0mvalues\u001b[0m\u001b[0;34m,\u001b[0m \u001b[0mlb\u001b[0m\u001b[0;34m.\u001b[0m\u001b[0mtransform\u001b[0m\u001b[0;34m(\u001b[0m\u001b[0mtrain_df_lgb\u001b[0m\u001b[0;34m[\u001b[0m\u001b[0;34m'multi_class_target'\u001b[0m\u001b[0;34m]\u001b[0m\u001b[0;34m.\u001b[0m\u001b[0mvalues\u001b[0m\u001b[0;34m)\u001b[0m\u001b[0;34m,\u001b[0m \u001b[0meval_set\u001b[0m\u001b[0;34m=\u001b[0m\u001b[0;34m(\u001b[0m\u001b[0mtest_df_lgb\u001b[0m\u001b[0;34m[\u001b[0m\u001b[0mlgbm_atrs\u001b[0m\u001b[0;34m]\u001b[0m\u001b[0;34m.\u001b[0m\u001b[0mvalues\u001b[0m\u001b[0;34m,\u001b[0m \u001b[0mlb\u001b[0m\u001b[0;34m.\u001b[0m\u001b[0mtransform\u001b[0m\u001b[0;34m(\u001b[0m\u001b[0mtest_df_lgb\u001b[0m\u001b[0;34m[\u001b[0m\u001b[0;34m'multi_class_target'\u001b[0m\u001b[0;34m]\u001b[0m\u001b[0;34m.\u001b[0m\u001b[0mvalues\u001b[0m\u001b[0;34m)\u001b[0m\u001b[0;34m)\u001b[0m\u001b[0;34m,\u001b[0m \u001b[0mverbose\u001b[0m\u001b[0;34m=\u001b[0m\u001b[0;36m5\u001b[0m\u001b[0;34m,\u001b[0m \u001b[0mearly_stopping_rounds\u001b[0m\u001b[0;34m=\u001b[0m\u001b[0;36m20\u001b[0m\u001b[0;34m)\u001b[0m\u001b[0;34m\u001b[0m\u001b[0;34m\u001b[0m\u001b[0m\n\u001b[0m",
      "\u001b[0;32m~/.local/lib/python3.6/site-packages/xgboost/sklearn.py\u001b[0m in \u001b[0;36mfit\u001b[0;34m(self, X, y, sample_weight, eval_set, eval_metric, early_stopping_rounds, verbose, xgb_model, sample_weight_eval_set, callbacks)\u001b[0m\n\u001b[1;32m    709\u001b[0m                         \u001b[0mmissing\u001b[0m\u001b[0;34m=\u001b[0m\u001b[0mself\u001b[0m\u001b[0;34m.\u001b[0m\u001b[0mmissing\u001b[0m\u001b[0;34m,\u001b[0m \u001b[0mweight\u001b[0m\u001b[0;34m=\u001b[0m\u001b[0msample_weight_eval_set\u001b[0m\u001b[0;34m[\u001b[0m\u001b[0mi\u001b[0m\u001b[0;34m]\u001b[0m\u001b[0;34m,\u001b[0m\u001b[0;34m\u001b[0m\u001b[0;34m\u001b[0m\u001b[0m\n\u001b[1;32m    710\u001b[0m                         nthread=self.n_jobs)\n\u001b[0;32m--> 711\u001b[0;31m                 \u001b[0;32mfor\u001b[0m \u001b[0mi\u001b[0m \u001b[0;32min\u001b[0m \u001b[0mrange\u001b[0m\u001b[0;34m(\u001b[0m\u001b[0mlen\u001b[0m\u001b[0;34m(\u001b[0m\u001b[0meval_set\u001b[0m\u001b[0;34m)\u001b[0m\u001b[0;34m)\u001b[0m\u001b[0;34m\u001b[0m\u001b[0;34m\u001b[0m\u001b[0m\n\u001b[0m\u001b[1;32m    712\u001b[0m             )\n\u001b[1;32m    713\u001b[0m             \u001b[0mnevals\u001b[0m \u001b[0;34m=\u001b[0m \u001b[0mlen\u001b[0m\u001b[0;34m(\u001b[0m\u001b[0mevals\u001b[0m\u001b[0;34m)\u001b[0m\u001b[0;34m\u001b[0m\u001b[0;34m\u001b[0m\u001b[0m\n",
      "\u001b[0;32m~/.local/lib/python3.6/site-packages/xgboost/sklearn.py\u001b[0m in \u001b[0;36m<genexpr>\u001b[0;34m(.0)\u001b[0m\n\u001b[1;32m    709\u001b[0m                         \u001b[0mmissing\u001b[0m\u001b[0;34m=\u001b[0m\u001b[0mself\u001b[0m\u001b[0;34m.\u001b[0m\u001b[0mmissing\u001b[0m\u001b[0;34m,\u001b[0m \u001b[0mweight\u001b[0m\u001b[0;34m=\u001b[0m\u001b[0msample_weight_eval_set\u001b[0m\u001b[0;34m[\u001b[0m\u001b[0mi\u001b[0m\u001b[0;34m]\u001b[0m\u001b[0;34m,\u001b[0m\u001b[0;34m\u001b[0m\u001b[0;34m\u001b[0m\u001b[0m\n\u001b[1;32m    710\u001b[0m                         nthread=self.n_jobs)\n\u001b[0;32m--> 711\u001b[0;31m                 \u001b[0;32mfor\u001b[0m \u001b[0mi\u001b[0m \u001b[0;32min\u001b[0m \u001b[0mrange\u001b[0m\u001b[0;34m(\u001b[0m\u001b[0mlen\u001b[0m\u001b[0;34m(\u001b[0m\u001b[0meval_set\u001b[0m\u001b[0;34m)\u001b[0m\u001b[0;34m)\u001b[0m\u001b[0;34m\u001b[0m\u001b[0;34m\u001b[0m\u001b[0m\n\u001b[0m\u001b[1;32m    712\u001b[0m             )\n\u001b[1;32m    713\u001b[0m             \u001b[0mnevals\u001b[0m \u001b[0;34m=\u001b[0m \u001b[0mlen\u001b[0m\u001b[0;34m(\u001b[0m\u001b[0mevals\u001b[0m\u001b[0;34m)\u001b[0m\u001b[0;34m\u001b[0m\u001b[0;34m\u001b[0m\u001b[0m\n",
      "\u001b[0;32m~/.local/lib/python3.6/site-packages/sklearn/preprocessing/label.py\u001b[0m in \u001b[0;36mtransform\u001b[0;34m(self, y)\u001b[0m\n\u001b[1;32m    255\u001b[0m             \u001b[0;32mreturn\u001b[0m \u001b[0mnp\u001b[0m\u001b[0;34m.\u001b[0m\u001b[0marray\u001b[0m\u001b[0;34m(\u001b[0m\u001b[0;34m[\u001b[0m\u001b[0;34m]\u001b[0m\u001b[0;34m)\u001b[0m\u001b[0;34m\u001b[0m\u001b[0;34m\u001b[0m\u001b[0m\n\u001b[1;32m    256\u001b[0m \u001b[0;34m\u001b[0m\u001b[0m\n\u001b[0;32m--> 257\u001b[0;31m         \u001b[0m_\u001b[0m\u001b[0;34m,\u001b[0m \u001b[0my\u001b[0m \u001b[0;34m=\u001b[0m \u001b[0m_encode\u001b[0m\u001b[0;34m(\u001b[0m\u001b[0my\u001b[0m\u001b[0;34m,\u001b[0m \u001b[0muniques\u001b[0m\u001b[0;34m=\u001b[0m\u001b[0mself\u001b[0m\u001b[0;34m.\u001b[0m\u001b[0mclasses_\u001b[0m\u001b[0;34m,\u001b[0m \u001b[0mencode\u001b[0m\u001b[0;34m=\u001b[0m\u001b[0;32mTrue\u001b[0m\u001b[0;34m)\u001b[0m\u001b[0;34m\u001b[0m\u001b[0;34m\u001b[0m\u001b[0m\n\u001b[0m\u001b[1;32m    258\u001b[0m         \u001b[0;32mreturn\u001b[0m \u001b[0my\u001b[0m\u001b[0;34m\u001b[0m\u001b[0;34m\u001b[0m\u001b[0m\n\u001b[1;32m    259\u001b[0m \u001b[0;34m\u001b[0m\u001b[0m\n",
      "\u001b[0;32m~/.local/lib/python3.6/site-packages/sklearn/preprocessing/label.py\u001b[0m in \u001b[0;36m_encode\u001b[0;34m(values, uniques, encode)\u001b[0m\n\u001b[1;32m    103\u001b[0m     \u001b[0;32mif\u001b[0m \u001b[0mvalues\u001b[0m\u001b[0;34m.\u001b[0m\u001b[0mdtype\u001b[0m \u001b[0;34m==\u001b[0m \u001b[0mobject\u001b[0m\u001b[0;34m:\u001b[0m\u001b[0;34m\u001b[0m\u001b[0;34m\u001b[0m\u001b[0m\n\u001b[1;32m    104\u001b[0m         \u001b[0;32mtry\u001b[0m\u001b[0;34m:\u001b[0m\u001b[0;34m\u001b[0m\u001b[0;34m\u001b[0m\u001b[0m\n\u001b[0;32m--> 105\u001b[0;31m             \u001b[0mres\u001b[0m \u001b[0;34m=\u001b[0m \u001b[0m_encode_python\u001b[0m\u001b[0;34m(\u001b[0m\u001b[0mvalues\u001b[0m\u001b[0;34m,\u001b[0m \u001b[0muniques\u001b[0m\u001b[0;34m,\u001b[0m \u001b[0mencode\u001b[0m\u001b[0;34m)\u001b[0m\u001b[0;34m\u001b[0m\u001b[0;34m\u001b[0m\u001b[0m\n\u001b[0m\u001b[1;32m    106\u001b[0m         \u001b[0;32mexcept\u001b[0m \u001b[0mTypeError\u001b[0m\u001b[0;34m:\u001b[0m\u001b[0;34m\u001b[0m\u001b[0;34m\u001b[0m\u001b[0m\n\u001b[1;32m    107\u001b[0m             \u001b[0;32mraise\u001b[0m \u001b[0mTypeError\u001b[0m\u001b[0;34m(\u001b[0m\u001b[0;34m\"argument must be a string or number\"\u001b[0m\u001b[0;34m)\u001b[0m\u001b[0;34m\u001b[0m\u001b[0;34m\u001b[0m\u001b[0m\n",
      "\u001b[0;32m~/.local/lib/python3.6/site-packages/sklearn/preprocessing/label.py\u001b[0m in \u001b[0;36m_encode_python\u001b[0;34m(values, uniques, encode)\u001b[0m\n\u001b[1;32m     65\u001b[0m         \u001b[0;32mexcept\u001b[0m \u001b[0mKeyError\u001b[0m \u001b[0;32mas\u001b[0m \u001b[0me\u001b[0m\u001b[0;34m:\u001b[0m\u001b[0;34m\u001b[0m\u001b[0;34m\u001b[0m\u001b[0m\n\u001b[1;32m     66\u001b[0m             raise ValueError(\"y contains previously unseen labels: %s\"\n\u001b[0;32m---> 67\u001b[0;31m                              % str(e))\n\u001b[0m\u001b[1;32m     68\u001b[0m         \u001b[0;32mreturn\u001b[0m \u001b[0muniques\u001b[0m\u001b[0;34m,\u001b[0m \u001b[0mencoded\u001b[0m\u001b[0;34m\u001b[0m\u001b[0;34m\u001b[0m\u001b[0m\n\u001b[1;32m     69\u001b[0m     \u001b[0;32melse\u001b[0m\u001b[0;34m:\u001b[0m\u001b[0;34m\u001b[0m\u001b[0;34m\u001b[0m\u001b[0m\n",
      "\u001b[0;31mValueError\u001b[0m: y contains previously unseen labels: 3836.15"
     ]
    }
   ],
   "source": [
    "xgb.fit(train_df_lgb[lgbm_atrs].values, lb.transform(train_df_lgb['multi_class_target'].values), eval_set=(test_df_lgb[lgbm_atrs].values, lb.transform(test_df_lgb['multi_class_target'].values)), verbose=5, early_stopping_rounds=20)"
   ]
  }
 ],
 "metadata": {
  "kernelspec": {
   "display_name": "Python 3.6",
   "language": "python36",
   "name": "python3.6"
  },
  "language_info": {
   "codemirror_mode": {
    "name": "ipython",
    "version": 3
   },
   "file_extension": ".py",
   "mimetype": "text/x-python",
   "name": "python",
   "nbconvert_exporter": "python",
   "pygments_lexer": "ipython3",
   "version": "3.6.8"
  }
 },
 "nbformat": 4,
 "nbformat_minor": 4
}
