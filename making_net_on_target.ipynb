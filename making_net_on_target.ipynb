{
 "cells": [
  {
   "cell_type": "code",
   "execution_count": 60,
   "metadata": {},
   "outputs": [],
   "source": [
    "import pandas as pd\n",
    "import pickle\n",
    "\n",
    "from sklearn.model_selection import TimeSeriesSplit\n",
    "\n",
    "from typing import Dict"
   ]
  },
  {
   "cell_type": "code",
   "execution_count": 61,
   "metadata": {},
   "outputs": [],
   "source": [
    "# df = pd.read_pickle('/data/edmitrie/alfa_boosters/net_atrs_first_net/part-00009.parquet.pckl')\n",
    "\n",
    "# from sklearn.preprocessing import LabelEncoder\n",
    "\n",
    "# lb_enc.fit(df[df['target'] !='nan']['target'].unique())\n",
    "# lb_enc = LabelEncoder()\n",
    "\n",
    "# lb_enc.fit(df[df['target'] !='nan']['target'].unique())"
   ]
  },
  {
   "cell_type": "code",
   "execution_count": 62,
   "metadata": {},
   "outputs": [],
   "source": [
    "lb_encoder = pickle.load(open('target_enc_2_net.pickle','rb'))"
   ]
  },
  {
   "cell_type": "code",
   "execution_count": 63,
   "metadata": {},
   "outputs": [],
   "source": [
    "df = pd.read_pickle('/data/edmitrie/alfa_boosters/net_atrs_first_net/part-00009.parquet.pckl')"
   ]
  },
  {
   "cell_type": "code",
   "execution_count": 64,
   "metadata": {},
   "outputs": [],
   "source": [
    "# df = pd.read_pickle('/data/edmitrie/alfa_boosters/df_atr_1_net.pickle')"
   ]
  },
  {
   "cell_type": "code",
   "execution_count": 65,
   "metadata": {},
   "outputs": [],
   "source": [
    "df = df[df['target'] != 'nan']"
   ]
  },
  {
   "cell_type": "code",
   "execution_count": 66,
   "metadata": {},
   "outputs": [],
   "source": [
    "df['target'] = lb_encoder.transform(df['target'])"
   ]
  },
  {
   "cell_type": "code",
   "execution_count": 67,
   "metadata": {},
   "outputs": [],
   "source": [
    "df['timestamp'] = pd.to_datetime(df['timestamp'])"
   ]
  },
  {
   "cell_type": "code",
   "execution_count": 68,
   "metadata": {},
   "outputs": [],
   "source": [
    "# df['timestamp']"
   ]
  },
  {
   "cell_type": "code",
   "execution_count": 69,
   "metadata": {},
   "outputs": [
    {
     "name": "stdout",
     "output_type": "stream",
     "text": [
      "CPU times: user 5.72 s, sys: 233 ms, total: 5.95 s\n",
      "Wall time: 5.93 s\n"
     ]
    }
   ],
   "source": [
    "%%time\n",
    "df = df.sort_values(by='timestamp')"
   ]
  },
  {
   "cell_type": "code",
   "execution_count": 70,
   "metadata": {},
   "outputs": [
    {
     "ename": "NameError",
     "evalue": "name 'train_test_df' is not defined",
     "output_type": "error",
     "traceback": [
      "\u001b[0;31m---------------------------------------------------------------------------\u001b[0m",
      "\u001b[0;31mNameError\u001b[0m                                 Traceback (most recent call last)",
      "\u001b[0;32m<ipython-input-70-3bcdd5713725>\u001b[0m in \u001b[0;36m<module>\u001b[0;34m\u001b[0m\n\u001b[0;32m----> 1\u001b[0;31m \u001b[0mtrain_test_df\u001b[0m\u001b[0;34m.\u001b[0m\u001b[0mgroupby\u001b[0m\u001b[0;34m(\u001b[0m\u001b[0;34m'client_pin'\u001b[0m\u001b[0;34m)\u001b[0m\u001b[0;34m.\u001b[0m\u001b[0msize\u001b[0m\u001b[0;34m(\u001b[0m\u001b[0;34m)\u001b[0m\u001b[0;34m.\u001b[0m\u001b[0mhist\u001b[0m\u001b[0;34m(\u001b[0m\u001b[0mlog\u001b[0m\u001b[0;34m=\u001b[0m\u001b[0;32mTrue\u001b[0m\u001b[0;34m)\u001b[0m\u001b[0;34m\u001b[0m\u001b[0;34m\u001b[0m\u001b[0m\n\u001b[0m",
      "\u001b[0;31mNameError\u001b[0m: name 'train_test_df' is not defined"
     ]
    }
   ],
   "source": [
    "# train_test_df.groupby('client_pin').size().hist(log=True)"
   ]
  },
  {
   "cell_type": "code",
   "execution_count": 72,
   "metadata": {},
   "outputs": [],
   "source": [
    "# train_test_df.groupby('client_pin').size().sort_values().head(n=70)"
   ]
  },
  {
   "cell_type": "code",
   "execution_count": null,
   "metadata": {},
   "outputs": [],
   "source": [
    "1, 2, 3, 4, 5, 6"
   ]
  },
  {
   "cell_type": "markdown",
   "metadata": {},
   "source": [
    "## Формирование валидационной,тестовой,трейн выборок"
   ]
  },
  {
   "cell_type": "code",
   "execution_count": 73,
   "metadata": {},
   "outputs": [],
   "source": [
    "import numpy as np"
   ]
  },
  {
   "cell_type": "code",
   "execution_count": 74,
   "metadata": {},
   "outputs": [],
   "source": [
    "gr_cl = df.groupby('client_pin').size()"
   ]
  },
  {
   "cell_type": "code",
   "execution_count": 75,
   "metadata": {},
   "outputs": [],
   "source": [
    "# use_clnts = pd.Series(gr_cl[gr_cl > 3].index)\n",
    "use_clnts = pd.Series(gr_cl[gr_cl > 2].index)"
   ]
  },
  {
   "cell_type": "code",
   "execution_count": 76,
   "metadata": {},
   "outputs": [],
   "source": [
    "train_test_df = df.merge(use_clnts, on='client_pin', how='inner')"
   ]
  },
  {
   "cell_type": "code",
   "execution_count": 77,
   "metadata": {},
   "outputs": [],
   "source": [
    "train_test_df.sort_values(by='timestamp', inplace=True)"
   ]
  },
  {
   "cell_type": "code",
   "execution_count": 78,
   "metadata": {},
   "outputs": [],
   "source": [
    "train_test_df['weekday'] = train_test_df['timestamp'].apply(lambda x: x.weekday())\n",
    "train_test_df['day'] = train_test_df['timestamp'].apply(lambda x: x.day)\n",
    "train_test_df['month'] = train_test_df['timestamp'].apply(lambda x: x.month)\n",
    "train_test_df['hour'] = train_test_df['timestamp'].apply(lambda x: x.hour)"
   ]
  },
  {
   "cell_type": "code",
   "execution_count": 102,
   "metadata": {},
   "outputs": [],
   "source": [
    "train_test_df['diff_time_1_0'] = train_test_df.groupby('client_pin')['timestamp'].shift(1)"
   ]
  },
  {
   "cell_type": "code",
   "execution_count": 103,
   "metadata": {},
   "outputs": [],
   "source": [
    "train_test_df['diff_time_1_0'] = (train_test_df['timestamp'] - train_test_df['diff_time_1_0'])/np.timedelta64(1,'m')"
   ]
  },
  {
   "cell_type": "code",
   "execution_count": 104,
   "metadata": {
    "collapsed": true,
    "jupyter": {
     "outputs_hidden": true
    }
   },
   "outputs": [
    {
     "data": {
      "text/plain": [
       "0                  NaN\n",
       "46                 NaN\n",
       "177                NaN\n",
       "277                NaN\n",
       "633                NaN\n",
       "              ...     \n",
       "497795     8805.361100\n",
       "294674      370.573050\n",
       "479635    16027.860317\n",
       "288104      488.707000\n",
       "398492    95545.743767\n",
       "Name: diff_time_1_0, Length: 498052, dtype: float64"
      ]
     },
     "execution_count": 104,
     "metadata": {},
     "output_type": "execute_result"
    }
   ],
   "source": [
    "train_test_df['diff_time_1_0']"
   ]
  },
  {
   "cell_type": "code",
   "execution_count": 482,
   "metadata": {},
   "outputs": [],
   "source": [
    "from sklearn.preprocessing import MinMaxScaler"
   ]
  },
  {
   "cell_type": "code",
   "execution_count": 484,
   "metadata": {},
   "outputs": [],
   "source": [
    "scaler = MinMaxScaler()"
   ]
  },
  {
   "cell_type": "code",
   "execution_count": 487,
   "metadata": {},
   "outputs": [],
   "source": [
    "train_test_df['diff_time_1_0'] = scaler.fit_transform(train_test_df[['diff_time_1_0']])"
   ]
  },
  {
   "cell_type": "code",
   "execution_count": 576,
   "metadata": {},
   "outputs": [],
   "source": [
    "train_test_df['diff_time_1_0'].fillna(0, inplace=True)"
   ]
  },
  {
   "cell_type": "code",
   "execution_count": 578,
   "metadata": {},
   "outputs": [],
   "source": [
    "train_df = train_test_df.groupby('client_pin').apply(lambda x: x.iloc[:-1])"
   ]
  },
  {
   "cell_type": "code",
   "execution_count": 579,
   "metadata": {},
   "outputs": [],
   "source": [
    "test_df = train_test_df"
   ]
  },
  {
   "cell_type": "code",
   "execution_count": 580,
   "metadata": {},
   "outputs": [],
   "source": [
    "# train_df = pd.merge(train_test_df, test_df['session_id'], how='left', indicator=True)"
   ]
  },
  {
   "cell_type": "code",
   "execution_count": 581,
   "metadata": {},
   "outputs": [],
   "source": [
    "# train_df = train_df[train_df['_merge'] == 'left_only']"
   ]
  },
  {
   "cell_type": "code",
   "execution_count": 582,
   "metadata": {},
   "outputs": [],
   "source": [
    "# train_df.shape, test_df.shape, valid_df.shape, df.shape"
   ]
  },
  {
   "cell_type": "raw",
   "metadata": {},
   "source": [
    "lightgbm baseline на 11 прошлых таргетах даёт 0.36"
   ]
  },
  {
   "cell_type": "code",
   "execution_count": 747,
   "metadata": {},
   "outputs": [],
   "source": [
    "from sklearn.preprocessing import MinMaxScaler"
   ]
  },
  {
   "cell_type": "markdown",
   "metadata": {},
   "source": [
    "## Формирование сэмплов под нейронку"
   ]
  },
  {
   "cell_type": "code",
   "execution_count": 768,
   "metadata": {},
   "outputs": [],
   "source": [
    "def truncate(x, num_last_transactions=750):\n",
    "    return x.values.transpose()[:, -num_last_transactions:].tolist()\n",
    "\n",
    "\n",
    "def transform_transactions_to_sequences(transactions_frame: pd.DataFrame,atrs,\n",
    "                                        num_last_transactions=300) -> pd.DataFrame:\n",
    "    return transactions_frame \\\n",
    "        .groupby(['client_pin'])[atrs] \\\n",
    "        .apply(lambda x: truncate(x, num_last_transactions=num_last_transactions)) \\\n",
    "        .reset_index().rename(columns={0: 'sequences'})\n"
   ]
  },
  {
   "cell_type": "code",
   "execution_count": 584,
   "metadata": {
    "jupyter": {
     "source_hidden": true
    }
   },
   "outputs": [],
   "source": [
    "def pad_sequence(array, max_len) -> np.array:\n",
    "    add_zeros = int(max_len - len(array[0]))\n",
    "    return np.array([list(x) + [0] * add_zeros for x in array])\n",
    "\n",
    "\n",
    "\n",
    "def create_padded_buckets(frame_of_sequences: pd.DataFrame, bucket_info: Dict[int, int],\n",
    "                          save_to_file_path=None, has_target=True):\n",
    "    frame_of_sequences['bucket_idx'] = frame_of_sequences.sequence_length.map(bucket_info)\n",
    "        \n",
    "    \n",
    "#     print(frame_of_sequences.sequence_length.max(), frame_of_sequences.sequence_length.min())\n",
    "        \n",
    "    padded_seq = []\n",
    "    targets = []\n",
    "    lengths = []\n",
    "    client_pin = []\n",
    "    \n",
    "#     print(frame_of_sequences.session_id.unique().shape)\n",
    "#     print(frame_of_sequences.bucket_idx.isnull().sum())\n",
    "\n",
    "    \n",
    "    from tqdm import tqdm\n",
    "\n",
    "    for size, bucket in frame_of_sequences.groupby('bucket_idx'):\n",
    "        padded_sequences = bucket.sequences.apply(lambda x: pad_sequence(x, size)).values\n",
    "        padded_sequences = np.array([np.array(x) for x in padded_sequences])\n",
    "        padded_seq.append(padded_sequences)\n",
    "        \n",
    "        if has_target:\n",
    "            targets.append(bucket.target.values)\n",
    "            \n",
    "#         print(bucket.sequence_length.shape)\n",
    "            \n",
    "        lengths.append(bucket.sequence_length.values)\n",
    "        client_pin.append(bucket.client_pin.values)        \n",
    "    \n",
    "\n",
    "    frame_of_sequences.drop(columns=['bucket_idx'], inplace=True)\n",
    "    \n",
    "    \n",
    "    if has_target:\n",
    "        dict_result = {\n",
    "            'padded_sequences':np.array(padded_seq),\n",
    "            'targets':np.array(targets),\n",
    "            'lengths': np.array(lengths),\n",
    "            'client': np.array(client_pin),\n",
    "        }\n",
    "    else:\n",
    "         dict_result = {\n",
    "            'padded_sequences':np.array(padded_seq),\n",
    "            'lengths': np.array(lengths),\n",
    "            'client': np.array(client_pin),\n",
    "        }\n",
    "\n",
    "    if save_to_file_path:\n",
    "        with open(save_to_file_path, 'wb') as f:\n",
    "            pickle.dump(dict_result, f)\n",
    "    return dict_result\n",
    "\n",
    "\n",
    "def create_buckets_from_transactions(df, atrs, file_name, submit=False):   \n",
    "    import tqdm\n",
    "    import os\n",
    "    \n",
    "    train_df = df\n",
    "    \n",
    "    \n",
    "    if not submit:\n",
    "        target = df.groupby('client_pin')[['target','session_id', 'timestamp']].last().reset_index()\n",
    "\n",
    "    #     return target\n",
    "\n",
    "        train_df = df.merge(target[['session_id']], on='session_id', how='left', indicator=True)\n",
    "        train_df = train_df[train_df['_merge'] == 'left_only']\n",
    "        \n",
    "        train_df.drop(columns='_merge', inplace=True)\n",
    "        \n",
    "    seq = transform_transactions_to_sequences(train_df, atrs)\n",
    "    \n",
    "#     print(seq)\n",
    "        \n",
    "    seq['sequence_length'] = seq.sequences.apply(lambda x: len(x[0]))\n",
    "    \n",
    "    if not submit:                \n",
    "        seq = seq.merge(target[['client_pin', 'target']], how='left', on='client_pin')\n",
    "    \n",
    "    mapping_seq_len_to_padded_len = pickle.load(open('buckets_info.pkl', 'rb'))\n",
    "    \n",
    "    if not submit:\n",
    "        processed_fragment =  create_padded_buckets(seq, mapping_seq_len_to_padded_len, has_target=True)    \n",
    "    else:\n",
    "        processed_fragment =  create_padded_buckets(seq, mapping_seq_len_to_padded_len, has_target=False)    \n",
    "    res = pd.DataFrame(processed_fragment)\n",
    "    res.to_pickle(file_name)\n",
    "    \n",
    "    return res"
   ]
  },
  {
   "cell_type": "code",
   "execution_count": 585,
   "metadata": {},
   "outputs": [],
   "source": [
    "def get_data_for_net(file_name):\n",
    "    print(file_name)\n",
    "\n",
    "    df = pd.read_pickle(file_name)\n",
    "    \n",
    "    print(file_name)\n",
    "    \n",
    "    df = df[df['target'] != 'nan']\n",
    "    \n",
    "    import pickle\n",
    "    \n",
    "    lb_encoder = pickle.load(open('target_enc_2_net.pickle','rb'))\n",
    "    \n",
    "    df['target'] = lb_encoder.transform( df['target'])\n",
    "    \n",
    "    df['timestamp'] = pd.to_datetime(df['timestamp'])\n",
    "    df.sort_values(by='timestamp', inplace=True)\n",
    "    \n",
    "    atrs = [col for col in df.columns if col not in ['client_pin', 'session_id', 'target', 'timestamp']]\n",
    "    \n",
    "    last_name = file_name.split('/')[-1]\n",
    "    \n",
    "    print('приступаю к сабмит файлу')\n",
    "    \n",
    "    create_buckets_from_transactions(df, f'/data/edmitrie/alfa_boosters/net_atrs_2_net/{last_name}_submit', submit=True)\n",
    "    \n",
    "    print('сабмит сохранил')\n",
    "    \n",
    "    gr_cl = df.groupby('client_pin').size()\n",
    "    use_clnts = pd.Series(gr_cl[gr_cl > 2].index)\n",
    "    \n",
    "    train_test_df = df.merge(use_clnts, on='client_pin', how='inner')\n",
    "    \n",
    "    train_df = train_test_df.groupby('client_pin').apply(lambda x: x.iloc[:-1]).reset_index(drop='True')\n",
    "    test_df = df\n",
    "    \n",
    "    train_df.sort_values(by='timestamp', inplace=True)\n",
    "    test_df.sort_values(by='timestamp', inplace=True)\n",
    "\n",
    "    create_buckets_from_transactions(train_df, f'/data/edmitrie/alfa_boosters/net_atrs_2_net/{last_name}_train')\n",
    "    \n",
    "    print('сохранил трейн')\n",
    "    \n",
    "    create_buckets_from_transactions(test_df, f'/data/edmitrie/alfa_boosters/net_atrs_2_net/{last_name}_test')  \n",
    "    print('сохранил тест')"
   ]
  },
  {
   "cell_type": "code",
   "execution_count": 769,
   "metadata": {},
   "outputs": [],
   "source": [
    "def get_data_for_net(file_name, cat_atrs, num_atrs):\n",
    "    atrs = cat_atrs + num_atrs\n",
    "    print(file_name)\n",
    "\n",
    "    df = pd.read_pickle(file_name)\n",
    "    \n",
    "    print(file_name)\n",
    "    \n",
    "    df = df[df['target'] != 'nan']\n",
    "    \n",
    "    import pickle\n",
    "    \n",
    "    lb_encoder = pickle.load(open('target_enc_2_net.pickle','rb'))\n",
    "    \n",
    "    df['target'] = lb_encoder.transform( df['target'])\n",
    "    \n",
    "    df['timestamp'] = pd.to_datetime(df['timestamp'])\n",
    "    df.sort_values(by='timestamp', inplace=True)\n",
    "        \n",
    "    last_name = file_name.split('/')[-1]\n",
    "    \n",
    "    print('приступаю к сабмит файлу')\n",
    "    \n",
    "    df['weekday'] = df['timestamp'].apply(lambda x: x.weekday())\n",
    "    df['day'] = df['timestamp'].apply(lambda x: x.day)\n",
    "    df['month'] = df['timestamp'].apply(lambda x: x.month)\n",
    "    df['hour'] = df['timestamp'].apply(lambda x: x.hour)\n",
    "    \n",
    "    df['diff_time_1_0'] = df.groupby('client_pin')['timestamp'].shift(1)\n",
    "    df['diff_time_1_0'] = (df['timestamp'] - df['diff_time_1_0'])/np.timedelta64(1,'m')\n",
    "    \n",
    "    df['diff_time_1_0'].fillna(0, inplace=True)\n",
    "        \n",
    "    scaler = MinMaxScaler()\n",
    "    \n",
    "    df['diff_time_1_0'] = scaler.fit_transform(df[['diff_time_1_0']])\n",
    "\n",
    "    create_buckets_from_transactions(df, atrs, f'/data/edmitrie/alfa_boosters/net_atrs_2_net/{last_name}_submit', submit=True)\n",
    "    \n",
    "    print('сабмит сохранил')\n",
    "    \n",
    "    gr_cl = df.groupby('client_pin').size()\n",
    "    use_clnts = pd.Series(gr_cl[gr_cl > 2].index)\n",
    "    \n",
    "    train_test_df = df.merge(use_clnts, on='client_pin', how='inner')\n",
    "    \n",
    "    train_df = train_test_df.groupby('client_pin').apply(lambda x: x.iloc[:-1]).reset_index(drop='True')\n",
    "    test_df = df\n",
    "    \n",
    "    train_df.sort_values(by='timestamp', inplace=True)\n",
    "    test_df.sort_values(by='timestamp', inplace=True)\n",
    "\n",
    "#     create_buckets_from_transactions(train_df, f'/data/edmitrie/alfa_boosters/net_atrs_2_net/{last_name}_train')\n",
    "\n",
    "    get_augmenteded_samples(train_df, cat_atrs, num_atrs, max_seq=300, file_to_save=f'/data/edmitrie/alfa_boosters/net_atrs_2_net/{last_name}_train')\n",
    "    \n",
    "    print('сохранил трейн')\n",
    "    \n",
    "    create_buckets_from_transactions(test_df, atrs, f'/data/edmitrie/alfa_boosters/net_atrs_2_net/{last_name}_test')  \n",
    "    print('сохранил тест')"
   ]
  },
  {
   "cell_type": "code",
   "execution_count": 749,
   "metadata": {},
   "outputs": [],
   "source": [
    "def get_augmenteded_samples(df, cat_atrs, num_atrs, max_seq, file_to_save=None):\n",
    "    def get_samples(df, window = 1, max_seq = 20):    \n",
    "        samples_n = len(df)\n",
    "\n",
    "        groups_number = samples_n // window\n",
    "\n",
    "        sec_seqs = [df.iloc[:(i+1)*window].iloc[-max_seq:].values for i in range(groups_number)]\n",
    "\n",
    "        if (samples_n % window) !=0:\n",
    "            sec_seqs.append(df.iloc[-max_seq:].values)\n",
    "\n",
    "        return sec_seqs\n",
    "    \n",
    "    df.reset_index(inplace=True, drop=True)\n",
    "    \n",
    "    atrs = cat_atrs + num_atrs\n",
    "    \n",
    "    agg_df = df.groupby('client_pin')[atrs].apply(lambda x: get_samples(x, max_seq=max_seq))\n",
    "    \n",
    "    agg_df = pd.DataFrame(agg_df.explode(), columns=['sequences'])\n",
    "        \n",
    "    agg_df['target'] = agg_df.sequences.apply(lambda x: x[-1][len(cat_atrs) - 1])\n",
    "    agg_df['sequences'] = agg_df.sequences.apply(lambda x: x[:-1])\n",
    "    agg_df['sequence_length'] = agg_df.sequences.apply(lambda x: len(x))\n",
    "    agg_df['sequences'] = agg_df['sequences'].apply(lambda x:[[el[i] for el in x] for i in range(len(atrs))])\n",
    "        \n",
    "#     agg_df['sequence_length'] = agg_df.sequences.apply(lambda x: len(x))\n",
    "    agg_df.reset_index(inplace=True)\n",
    "\n",
    "    mapping_seq_len_to_padded_len = pickle.load(open('buckets_info.pkl', 'rb'))\n",
    "\n",
    "    df = create_padded_buckets(agg_df, mapping_seq_len_to_padded_len, has_target=True, save_to_file_path=file_to_save)\n",
    "    \n",
    "    return df"
   ]
  },
  {
   "cell_type": "code",
   "execution_count": null,
   "metadata": {},
   "outputs": [],
   "source": [
    "[[1,], [2], [1], [2]], [[1, 2, 3, 4], [...]]"
   ]
  },
  {
   "cell_type": "code",
   "execution_count": 736,
   "metadata": {
    "collapsed": true,
    "jupyter": {
     "outputs_hidden": true
    }
   },
   "outputs": [
    {
     "ename": "KeyboardInterrupt",
     "evalue": "",
     "output_type": "error",
     "traceback": [
      "\u001b[0;31m---------------------------------------------------------------------------\u001b[0m",
      "\u001b[0;31mKeyboardInterrupt\u001b[0m                         Traceback (most recent call last)",
      "\u001b[0;32m<timed exec>\u001b[0m in \u001b[0;36m<module>\u001b[0;34m\u001b[0m\n",
      "\u001b[0;32m<ipython-input-584-abd7570854a9>\u001b[0m in \u001b[0;36mcreate_buckets_from_transactions\u001b[0;34m(df, atrs, file_name, submit)\u001b[0m\n\u001b[1;32m     72\u001b[0m     \u001b[0;31m#     return target\u001b[0m\u001b[0;34m\u001b[0m\u001b[0;34m\u001b[0m\u001b[0;34m\u001b[0m\u001b[0m\n\u001b[1;32m     73\u001b[0m \u001b[0;34m\u001b[0m\u001b[0m\n\u001b[0;32m---> 74\u001b[0;31m         \u001b[0mtrain_df\u001b[0m \u001b[0;34m=\u001b[0m \u001b[0mdf\u001b[0m\u001b[0;34m.\u001b[0m\u001b[0mmerge\u001b[0m\u001b[0;34m(\u001b[0m\u001b[0mtarget\u001b[0m\u001b[0;34m[\u001b[0m\u001b[0;34m[\u001b[0m\u001b[0;34m'session_id'\u001b[0m\u001b[0;34m]\u001b[0m\u001b[0;34m]\u001b[0m\u001b[0;34m,\u001b[0m \u001b[0mon\u001b[0m\u001b[0;34m=\u001b[0m\u001b[0;34m'session_id'\u001b[0m\u001b[0;34m,\u001b[0m \u001b[0mhow\u001b[0m\u001b[0;34m=\u001b[0m\u001b[0;34m'left'\u001b[0m\u001b[0;34m,\u001b[0m \u001b[0mindicator\u001b[0m\u001b[0;34m=\u001b[0m\u001b[0;32mTrue\u001b[0m\u001b[0;34m)\u001b[0m\u001b[0;34m\u001b[0m\u001b[0;34m\u001b[0m\u001b[0m\n\u001b[0m\u001b[1;32m     75\u001b[0m         \u001b[0mtrain_df\u001b[0m \u001b[0;34m=\u001b[0m \u001b[0mtrain_df\u001b[0m\u001b[0;34m[\u001b[0m\u001b[0mtrain_df\u001b[0m\u001b[0;34m[\u001b[0m\u001b[0;34m'_merge'\u001b[0m\u001b[0;34m]\u001b[0m \u001b[0;34m==\u001b[0m \u001b[0;34m'left_only'\u001b[0m\u001b[0;34m]\u001b[0m\u001b[0;34m\u001b[0m\u001b[0;34m\u001b[0m\u001b[0m\n\u001b[1;32m     76\u001b[0m \u001b[0;34m\u001b[0m\u001b[0m\n",
      "\u001b[0;32m~/.local/lib/python3.6/site-packages/pandas/core/frame.py\u001b[0m in \u001b[0;36mmerge\u001b[0;34m(self, right, how, on, left_on, right_on, left_index, right_index, sort, suffixes, copy, indicator, validate)\u001b[0m\n\u001b[1;32m   7961\u001b[0m             \u001b[0mcopy\u001b[0m\u001b[0;34m=\u001b[0m\u001b[0mcopy\u001b[0m\u001b[0;34m,\u001b[0m\u001b[0;34m\u001b[0m\u001b[0;34m\u001b[0m\u001b[0m\n\u001b[1;32m   7962\u001b[0m             \u001b[0mindicator\u001b[0m\u001b[0;34m=\u001b[0m\u001b[0mindicator\u001b[0m\u001b[0;34m,\u001b[0m\u001b[0;34m\u001b[0m\u001b[0;34m\u001b[0m\u001b[0m\n\u001b[0;32m-> 7963\u001b[0;31m             \u001b[0mvalidate\u001b[0m\u001b[0;34m=\u001b[0m\u001b[0mvalidate\u001b[0m\u001b[0;34m,\u001b[0m\u001b[0;34m\u001b[0m\u001b[0;34m\u001b[0m\u001b[0m\n\u001b[0m\u001b[1;32m   7964\u001b[0m         )\n\u001b[1;32m   7965\u001b[0m \u001b[0;34m\u001b[0m\u001b[0m\n",
      "\u001b[0;32m~/.local/lib/python3.6/site-packages/pandas/core/reshape/merge.py\u001b[0m in \u001b[0;36mmerge\u001b[0;34m(left, right, how, on, left_on, right_on, left_index, right_index, sort, suffixes, copy, indicator, validate)\u001b[0m\n\u001b[1;32m     87\u001b[0m         \u001b[0mvalidate\u001b[0m\u001b[0;34m=\u001b[0m\u001b[0mvalidate\u001b[0m\u001b[0;34m,\u001b[0m\u001b[0;34m\u001b[0m\u001b[0;34m\u001b[0m\u001b[0m\n\u001b[1;32m     88\u001b[0m     )\n\u001b[0;32m---> 89\u001b[0;31m     \u001b[0;32mreturn\u001b[0m \u001b[0mop\u001b[0m\u001b[0;34m.\u001b[0m\u001b[0mget_result\u001b[0m\u001b[0;34m(\u001b[0m\u001b[0;34m)\u001b[0m\u001b[0;34m\u001b[0m\u001b[0;34m\u001b[0m\u001b[0m\n\u001b[0m\u001b[1;32m     90\u001b[0m \u001b[0;34m\u001b[0m\u001b[0m\n\u001b[1;32m     91\u001b[0m \u001b[0;34m\u001b[0m\u001b[0m\n",
      "\u001b[0;32m~/.local/lib/python3.6/site-packages/pandas/core/reshape/merge.py\u001b[0m in \u001b[0;36mget_result\u001b[0;34m(self)\u001b[0m\n\u001b[1;32m    679\u001b[0m             \u001b[0maxes\u001b[0m\u001b[0;34m=\u001b[0m\u001b[0;34m[\u001b[0m\u001b[0mllabels\u001b[0m\u001b[0;34m.\u001b[0m\u001b[0mappend\u001b[0m\u001b[0;34m(\u001b[0m\u001b[0mrlabels\u001b[0m\u001b[0;34m)\u001b[0m\u001b[0;34m,\u001b[0m \u001b[0mjoin_index\u001b[0m\u001b[0;34m]\u001b[0m\u001b[0;34m,\u001b[0m\u001b[0;34m\u001b[0m\u001b[0;34m\u001b[0m\u001b[0m\n\u001b[1;32m    680\u001b[0m             \u001b[0mconcat_axis\u001b[0m\u001b[0;34m=\u001b[0m\u001b[0;36m0\u001b[0m\u001b[0;34m,\u001b[0m\u001b[0;34m\u001b[0m\u001b[0;34m\u001b[0m\u001b[0m\n\u001b[0;32m--> 681\u001b[0;31m             \u001b[0mcopy\u001b[0m\u001b[0;34m=\u001b[0m\u001b[0mself\u001b[0m\u001b[0;34m.\u001b[0m\u001b[0mcopy\u001b[0m\u001b[0;34m,\u001b[0m\u001b[0;34m\u001b[0m\u001b[0;34m\u001b[0m\u001b[0m\n\u001b[0m\u001b[1;32m    682\u001b[0m         )\n\u001b[1;32m    683\u001b[0m \u001b[0;34m\u001b[0m\u001b[0m\n",
      "\u001b[0;32m~/.local/lib/python3.6/site-packages/pandas/core/internals/concat.py\u001b[0m in \u001b[0;36mconcatenate_block_managers\u001b[0;34m(mgrs_indexers, axes, concat_axis, copy)\u001b[0m\n\u001b[1;32m     77\u001b[0m         \u001b[0;32melse\u001b[0m\u001b[0;34m:\u001b[0m\u001b[0;34m\u001b[0m\u001b[0;34m\u001b[0m\u001b[0m\n\u001b[1;32m     78\u001b[0m             b = make_block(\n\u001b[0;32m---> 79\u001b[0;31m                 \u001b[0m_concatenate_join_units\u001b[0m\u001b[0;34m(\u001b[0m\u001b[0mjoin_units\u001b[0m\u001b[0;34m,\u001b[0m \u001b[0mconcat_axis\u001b[0m\u001b[0;34m,\u001b[0m \u001b[0mcopy\u001b[0m\u001b[0;34m=\u001b[0m\u001b[0mcopy\u001b[0m\u001b[0;34m,\u001b[0m\u001b[0;34m)\u001b[0m\u001b[0;34m,\u001b[0m\u001b[0;34m\u001b[0m\u001b[0;34m\u001b[0m\u001b[0m\n\u001b[0m\u001b[1;32m     80\u001b[0m                 \u001b[0mplacement\u001b[0m\u001b[0;34m=\u001b[0m\u001b[0mplacement\u001b[0m\u001b[0;34m,\u001b[0m\u001b[0;34m\u001b[0m\u001b[0;34m\u001b[0m\u001b[0m\n\u001b[1;32m     81\u001b[0m             )\n",
      "\u001b[0;32m~/.local/lib/python3.6/site-packages/pandas/core/internals/concat.py\u001b[0m in \u001b[0;36m_concatenate_join_units\u001b[0;34m(join_units, concat_axis, copy)\u001b[0m\n\u001b[1;32m    316\u001b[0m     to_concat = [\n\u001b[1;32m    317\u001b[0m         \u001b[0mju\u001b[0m\u001b[0;34m.\u001b[0m\u001b[0mget_reindexed_values\u001b[0m\u001b[0;34m(\u001b[0m\u001b[0mempty_dtype\u001b[0m\u001b[0;34m=\u001b[0m\u001b[0mempty_dtype\u001b[0m\u001b[0;34m,\u001b[0m \u001b[0mupcasted_na\u001b[0m\u001b[0;34m=\u001b[0m\u001b[0mupcasted_na\u001b[0m\u001b[0;34m)\u001b[0m\u001b[0;34m\u001b[0m\u001b[0;34m\u001b[0m\u001b[0m\n\u001b[0;32m--> 318\u001b[0;31m         \u001b[0;32mfor\u001b[0m \u001b[0mju\u001b[0m \u001b[0;32min\u001b[0m \u001b[0mjoin_units\u001b[0m\u001b[0;34m\u001b[0m\u001b[0;34m\u001b[0m\u001b[0m\n\u001b[0m\u001b[1;32m    319\u001b[0m     ]\n\u001b[1;32m    320\u001b[0m \u001b[0;34m\u001b[0m\u001b[0m\n",
      "\u001b[0;32m~/.local/lib/python3.6/site-packages/pandas/core/internals/concat.py\u001b[0m in \u001b[0;36m<listcomp>\u001b[0;34m(.0)\u001b[0m\n\u001b[1;32m    316\u001b[0m     to_concat = [\n\u001b[1;32m    317\u001b[0m         \u001b[0mju\u001b[0m\u001b[0;34m.\u001b[0m\u001b[0mget_reindexed_values\u001b[0m\u001b[0;34m(\u001b[0m\u001b[0mempty_dtype\u001b[0m\u001b[0;34m=\u001b[0m\u001b[0mempty_dtype\u001b[0m\u001b[0;34m,\u001b[0m \u001b[0mupcasted_na\u001b[0m\u001b[0;34m=\u001b[0m\u001b[0mupcasted_na\u001b[0m\u001b[0;34m)\u001b[0m\u001b[0;34m\u001b[0m\u001b[0;34m\u001b[0m\u001b[0m\n\u001b[0;32m--> 318\u001b[0;31m         \u001b[0;32mfor\u001b[0m \u001b[0mju\u001b[0m \u001b[0;32min\u001b[0m \u001b[0mjoin_units\u001b[0m\u001b[0;34m\u001b[0m\u001b[0;34m\u001b[0m\u001b[0m\n\u001b[0m\u001b[1;32m    319\u001b[0m     ]\n\u001b[1;32m    320\u001b[0m \u001b[0;34m\u001b[0m\u001b[0m\n",
      "\u001b[0;32m~/.local/lib/python3.6/site-packages/pandas/core/internals/concat.py\u001b[0m in \u001b[0;36mget_reindexed_values\u001b[0;34m(self, empty_dtype, upcasted_na)\u001b[0m\n\u001b[1;32m    299\u001b[0m         \u001b[0;32melse\u001b[0m\u001b[0;34m:\u001b[0m\u001b[0;34m\u001b[0m\u001b[0;34m\u001b[0m\u001b[0m\n\u001b[1;32m    300\u001b[0m             \u001b[0;32mfor\u001b[0m \u001b[0max\u001b[0m\u001b[0;34m,\u001b[0m \u001b[0mindexer\u001b[0m \u001b[0;32min\u001b[0m \u001b[0mself\u001b[0m\u001b[0;34m.\u001b[0m\u001b[0mindexers\u001b[0m\u001b[0;34m.\u001b[0m\u001b[0mitems\u001b[0m\u001b[0;34m(\u001b[0m\u001b[0;34m)\u001b[0m\u001b[0;34m:\u001b[0m\u001b[0;34m\u001b[0m\u001b[0;34m\u001b[0m\u001b[0m\n\u001b[0;32m--> 301\u001b[0;31m                 \u001b[0mvalues\u001b[0m \u001b[0;34m=\u001b[0m \u001b[0malgos\u001b[0m\u001b[0;34m.\u001b[0m\u001b[0mtake_nd\u001b[0m\u001b[0;34m(\u001b[0m\u001b[0mvalues\u001b[0m\u001b[0;34m,\u001b[0m \u001b[0mindexer\u001b[0m\u001b[0;34m,\u001b[0m \u001b[0maxis\u001b[0m\u001b[0;34m=\u001b[0m\u001b[0max\u001b[0m\u001b[0;34m,\u001b[0m \u001b[0mfill_value\u001b[0m\u001b[0;34m=\u001b[0m\u001b[0mfill_value\u001b[0m\u001b[0;34m)\u001b[0m\u001b[0;34m\u001b[0m\u001b[0;34m\u001b[0m\u001b[0m\n\u001b[0m\u001b[1;32m    302\u001b[0m \u001b[0;34m\u001b[0m\u001b[0m\n\u001b[1;32m    303\u001b[0m         \u001b[0;32mreturn\u001b[0m \u001b[0mvalues\u001b[0m\u001b[0;34m\u001b[0m\u001b[0;34m\u001b[0m\u001b[0m\n",
      "\u001b[0;32m~/.local/lib/python3.6/site-packages/pandas/core/algorithms.py\u001b[0m in \u001b[0;36mtake_nd\u001b[0;34m(arr, indexer, axis, out, fill_value, allow_fill)\u001b[0m\n\u001b[1;32m   1735\u001b[0m         \u001b[0marr\u001b[0m\u001b[0;34m.\u001b[0m\u001b[0mndim\u001b[0m\u001b[0;34m,\u001b[0m \u001b[0marr\u001b[0m\u001b[0;34m.\u001b[0m\u001b[0mdtype\u001b[0m\u001b[0;34m,\u001b[0m \u001b[0mout\u001b[0m\u001b[0;34m.\u001b[0m\u001b[0mdtype\u001b[0m\u001b[0;34m,\u001b[0m \u001b[0maxis\u001b[0m\u001b[0;34m=\u001b[0m\u001b[0maxis\u001b[0m\u001b[0;34m,\u001b[0m \u001b[0mmask_info\u001b[0m\u001b[0;34m=\u001b[0m\u001b[0mmask_info\u001b[0m\u001b[0;34m\u001b[0m\u001b[0;34m\u001b[0m\u001b[0m\n\u001b[1;32m   1736\u001b[0m     )\n\u001b[0;32m-> 1737\u001b[0;31m     \u001b[0mfunc\u001b[0m\u001b[0;34m(\u001b[0m\u001b[0marr\u001b[0m\u001b[0;34m,\u001b[0m \u001b[0mindexer\u001b[0m\u001b[0;34m,\u001b[0m \u001b[0mout\u001b[0m\u001b[0;34m,\u001b[0m \u001b[0mfill_value\u001b[0m\u001b[0;34m)\u001b[0m\u001b[0;34m\u001b[0m\u001b[0;34m\u001b[0m\u001b[0m\n\u001b[0m\u001b[1;32m   1738\u001b[0m \u001b[0;34m\u001b[0m\u001b[0m\n\u001b[1;32m   1739\u001b[0m     \u001b[0;32mif\u001b[0m \u001b[0mflip_order\u001b[0m\u001b[0;34m:\u001b[0m\u001b[0;34m\u001b[0m\u001b[0;34m\u001b[0m\u001b[0m\n",
      "\u001b[0;31mKeyboardInterrupt\u001b[0m: "
     ]
    }
   ],
   "source": [
    "%%time\n",
    "atrs = ['hour', 'weekday', 'day', 'diff_time_1_0', 'target']\n",
    "cat_atrs = ['hour', 'weekday', 'day', 'target']\n",
    "num_atrs = ['diff_time_1_0']\n",
    "\n",
    "test_df_net = create_buckets_from_transactions(test_df, cat_atrs + num_atrs, 'chunks_data/processed_test_target_2_net.pkl')\n",
    "train_df_net = get_augmenteded_samples(train_df, cat_atrs, num_atrs, max_seq=200, file_to_save='chunks_data/processed_train_target_2_net.pkl' )\n",
    "\n",
    "# train_df_net = create_buckets_from_transactions(train_df, 'chunks_data/processed_train_target_2_net.pkl')\n",
    "# valid_df_net = create_buckets_from_transactions(valid_df, 'chunks_data/processed_valid_2_net.pkl')"
   ]
  },
  {
   "cell_type": "code",
   "execution_count": null,
   "metadata": {},
   "outputs": [],
   "source": []
  },
  {
   "cell_type": "code",
   "execution_count": 770,
   "metadata": {},
   "outputs": [
    {
     "name": "stdout",
     "output_type": "stream",
     "text": [
      "/data/edmitrie/alfa_boosters/net_atrs_first_net/part-00009.parquet.pckl\n",
      "/data/edmitrie/alfa_boosters/net_atrs_first_net/part-00009.parquet.pckl\n",
      "приступаю к сабмит файлу\n"
     ]
    },
    {
     "name": "stderr",
     "output_type": "stream",
     "text": [
      "/usr/local/lib/python3.6/site-packages/ipykernel_launcher.py:51: VisibleDeprecationWarning: Creating an ndarray from ragged nested sequences (which is a list-or-tuple of lists-or-tuples-or ndarrays with different lengths or shapes) is deprecated. If you meant to do this, you must specify 'dtype=object' when creating the ndarray\n",
      "/usr/local/lib/python3.6/site-packages/ipykernel_launcher.py:52: VisibleDeprecationWarning: Creating an ndarray from ragged nested sequences (which is a list-or-tuple of lists-or-tuples-or ndarrays with different lengths or shapes) is deprecated. If you meant to do this, you must specify 'dtype=object' when creating the ndarray\n",
      "/usr/local/lib/python3.6/site-packages/ipykernel_launcher.py:53: VisibleDeprecationWarning: Creating an ndarray from ragged nested sequences (which is a list-or-tuple of lists-or-tuples-or ndarrays with different lengths or shapes) is deprecated. If you meant to do this, you must specify 'dtype=object' when creating the ndarray\n"
     ]
    },
    {
     "name": "stdout",
     "output_type": "stream",
     "text": [
      "сабмит сохранил\n"
     ]
    },
    {
     "name": "stderr",
     "output_type": "stream",
     "text": [
      "/usr/local/lib/python3.6/site-packages/ipykernel_launcher.py:44: VisibleDeprecationWarning: Creating an ndarray from ragged nested sequences (which is a list-or-tuple of lists-or-tuples-or ndarrays with different lengths or shapes) is deprecated. If you meant to do this, you must specify 'dtype=object' when creating the ndarray\n",
      "/usr/local/lib/python3.6/site-packages/ipykernel_launcher.py:45: VisibleDeprecationWarning: Creating an ndarray from ragged nested sequences (which is a list-or-tuple of lists-or-tuples-or ndarrays with different lengths or shapes) is deprecated. If you meant to do this, you must specify 'dtype=object' when creating the ndarray\n",
      "/usr/local/lib/python3.6/site-packages/ipykernel_launcher.py:46: VisibleDeprecationWarning: Creating an ndarray from ragged nested sequences (which is a list-or-tuple of lists-or-tuples-or ndarrays with different lengths or shapes) is deprecated. If you meant to do this, you must specify 'dtype=object' when creating the ndarray\n",
      "/usr/local/lib/python3.6/site-packages/ipykernel_launcher.py:47: VisibleDeprecationWarning: Creating an ndarray from ragged nested sequences (which is a list-or-tuple of lists-or-tuples-or ndarrays with different lengths or shapes) is deprecated. If you meant to do this, you must specify 'dtype=object' when creating the ndarray\n"
     ]
    },
    {
     "name": "stdout",
     "output_type": "stream",
     "text": [
      "сохранил трейн\n",
      "сохранил тест\n",
      "/data/edmitrie/alfa_boosters/net_atrs_first_net/part-00000.parquet.pckl\n",
      "/data/edmitrie/alfa_boosters/net_atrs_first_net/part-00000.parquet.pckl\n",
      "приступаю к сабмит файлу\n"
     ]
    },
    {
     "name": "stderr",
     "output_type": "stream",
     "text": [
      "/usr/local/lib/python3.6/site-packages/ipykernel_launcher.py:51: VisibleDeprecationWarning: Creating an ndarray from ragged nested sequences (which is a list-or-tuple of lists-or-tuples-or ndarrays with different lengths or shapes) is deprecated. If you meant to do this, you must specify 'dtype=object' when creating the ndarray\n",
      "/usr/local/lib/python3.6/site-packages/ipykernel_launcher.py:52: VisibleDeprecationWarning: Creating an ndarray from ragged nested sequences (which is a list-or-tuple of lists-or-tuples-or ndarrays with different lengths or shapes) is deprecated. If you meant to do this, you must specify 'dtype=object' when creating the ndarray\n",
      "/usr/local/lib/python3.6/site-packages/ipykernel_launcher.py:53: VisibleDeprecationWarning: Creating an ndarray from ragged nested sequences (which is a list-or-tuple of lists-or-tuples-or ndarrays with different lengths or shapes) is deprecated. If you meant to do this, you must specify 'dtype=object' when creating the ndarray\n"
     ]
    },
    {
     "name": "stdout",
     "output_type": "stream",
     "text": [
      "сабмит сохранил\n"
     ]
    },
    {
     "name": "stderr",
     "output_type": "stream",
     "text": [
      "/usr/local/lib/python3.6/site-packages/ipykernel_launcher.py:44: VisibleDeprecationWarning: Creating an ndarray from ragged nested sequences (which is a list-or-tuple of lists-or-tuples-or ndarrays with different lengths or shapes) is deprecated. If you meant to do this, you must specify 'dtype=object' when creating the ndarray\n",
      "/usr/local/lib/python3.6/site-packages/ipykernel_launcher.py:45: VisibleDeprecationWarning: Creating an ndarray from ragged nested sequences (which is a list-or-tuple of lists-or-tuples-or ndarrays with different lengths or shapes) is deprecated. If you meant to do this, you must specify 'dtype=object' when creating the ndarray\n",
      "/usr/local/lib/python3.6/site-packages/ipykernel_launcher.py:46: VisibleDeprecationWarning: Creating an ndarray from ragged nested sequences (which is a list-or-tuple of lists-or-tuples-or ndarrays with different lengths or shapes) is deprecated. If you meant to do this, you must specify 'dtype=object' when creating the ndarray\n",
      "/usr/local/lib/python3.6/site-packages/ipykernel_launcher.py:47: VisibleDeprecationWarning: Creating an ndarray from ragged nested sequences (which is a list-or-tuple of lists-or-tuples-or ndarrays with different lengths or shapes) is deprecated. If you meant to do this, you must specify 'dtype=object' when creating the ndarray\n"
     ]
    },
    {
     "name": "stdout",
     "output_type": "stream",
     "text": [
      "сохранил трейн\n",
      "сохранил тест\n",
      "/data/edmitrie/alfa_boosters/net_atrs_first_net/part-00001.parquet.pckl\n",
      "/data/edmitrie/alfa_boosters/net_atrs_first_net/part-00001.parquet.pckl\n",
      "приступаю к сабмит файлу\n"
     ]
    },
    {
     "name": "stderr",
     "output_type": "stream",
     "text": [
      "/usr/local/lib/python3.6/site-packages/ipykernel_launcher.py:51: VisibleDeprecationWarning: Creating an ndarray from ragged nested sequences (which is a list-or-tuple of lists-or-tuples-or ndarrays with different lengths or shapes) is deprecated. If you meant to do this, you must specify 'dtype=object' when creating the ndarray\n",
      "/usr/local/lib/python3.6/site-packages/ipykernel_launcher.py:52: VisibleDeprecationWarning: Creating an ndarray from ragged nested sequences (which is a list-or-tuple of lists-or-tuples-or ndarrays with different lengths or shapes) is deprecated. If you meant to do this, you must specify 'dtype=object' when creating the ndarray\n",
      "/usr/local/lib/python3.6/site-packages/ipykernel_launcher.py:53: VisibleDeprecationWarning: Creating an ndarray from ragged nested sequences (which is a list-or-tuple of lists-or-tuples-or ndarrays with different lengths or shapes) is deprecated. If you meant to do this, you must specify 'dtype=object' when creating the ndarray\n"
     ]
    },
    {
     "name": "stdout",
     "output_type": "stream",
     "text": [
      "сабмит сохранил\n"
     ]
    },
    {
     "name": "stderr",
     "output_type": "stream",
     "text": [
      "/usr/local/lib/python3.6/site-packages/ipykernel_launcher.py:44: VisibleDeprecationWarning: Creating an ndarray from ragged nested sequences (which is a list-or-tuple of lists-or-tuples-or ndarrays with different lengths or shapes) is deprecated. If you meant to do this, you must specify 'dtype=object' when creating the ndarray\n",
      "/usr/local/lib/python3.6/site-packages/ipykernel_launcher.py:45: VisibleDeprecationWarning: Creating an ndarray from ragged nested sequences (which is a list-or-tuple of lists-or-tuples-or ndarrays with different lengths or shapes) is deprecated. If you meant to do this, you must specify 'dtype=object' when creating the ndarray\n",
      "/usr/local/lib/python3.6/site-packages/ipykernel_launcher.py:46: VisibleDeprecationWarning: Creating an ndarray from ragged nested sequences (which is a list-or-tuple of lists-or-tuples-or ndarrays with different lengths or shapes) is deprecated. If you meant to do this, you must specify 'dtype=object' when creating the ndarray\n",
      "/usr/local/lib/python3.6/site-packages/ipykernel_launcher.py:47: VisibleDeprecationWarning: Creating an ndarray from ragged nested sequences (which is a list-or-tuple of lists-or-tuples-or ndarrays with different lengths or shapes) is deprecated. If you meant to do this, you must specify 'dtype=object' when creating the ndarray\n"
     ]
    },
    {
     "name": "stdout",
     "output_type": "stream",
     "text": [
      "сохранил трейн\n",
      "сохранил тест\n",
      "/data/edmitrie/alfa_boosters/net_atrs_first_net/part-00003.parquet.pckl\n",
      "/data/edmitrie/alfa_boosters/net_atrs_first_net/part-00003.parquet.pckl\n",
      "приступаю к сабмит файлу\n"
     ]
    },
    {
     "name": "stderr",
     "output_type": "stream",
     "text": [
      "/usr/local/lib/python3.6/site-packages/ipykernel_launcher.py:51: VisibleDeprecationWarning: Creating an ndarray from ragged nested sequences (which is a list-or-tuple of lists-or-tuples-or ndarrays with different lengths or shapes) is deprecated. If you meant to do this, you must specify 'dtype=object' when creating the ndarray\n",
      "/usr/local/lib/python3.6/site-packages/ipykernel_launcher.py:52: VisibleDeprecationWarning: Creating an ndarray from ragged nested sequences (which is a list-or-tuple of lists-or-tuples-or ndarrays with different lengths or shapes) is deprecated. If you meant to do this, you must specify 'dtype=object' when creating the ndarray\n",
      "/usr/local/lib/python3.6/site-packages/ipykernel_launcher.py:53: VisibleDeprecationWarning: Creating an ndarray from ragged nested sequences (which is a list-or-tuple of lists-or-tuples-or ndarrays with different lengths or shapes) is deprecated. If you meant to do this, you must specify 'dtype=object' when creating the ndarray\n"
     ]
    },
    {
     "name": "stdout",
     "output_type": "stream",
     "text": [
      "сабмит сохранил\n"
     ]
    },
    {
     "name": "stderr",
     "output_type": "stream",
     "text": [
      "/usr/local/lib/python3.6/site-packages/ipykernel_launcher.py:44: VisibleDeprecationWarning: Creating an ndarray from ragged nested sequences (which is a list-or-tuple of lists-or-tuples-or ndarrays with different lengths or shapes) is deprecated. If you meant to do this, you must specify 'dtype=object' when creating the ndarray\n",
      "/usr/local/lib/python3.6/site-packages/ipykernel_launcher.py:45: VisibleDeprecationWarning: Creating an ndarray from ragged nested sequences (which is a list-or-tuple of lists-or-tuples-or ndarrays with different lengths or shapes) is deprecated. If you meant to do this, you must specify 'dtype=object' when creating the ndarray\n",
      "/usr/local/lib/python3.6/site-packages/ipykernel_launcher.py:46: VisibleDeprecationWarning: Creating an ndarray from ragged nested sequences (which is a list-or-tuple of lists-or-tuples-or ndarrays with different lengths or shapes) is deprecated. If you meant to do this, you must specify 'dtype=object' when creating the ndarray\n",
      "/usr/local/lib/python3.6/site-packages/ipykernel_launcher.py:47: VisibleDeprecationWarning: Creating an ndarray from ragged nested sequences (which is a list-or-tuple of lists-or-tuples-or ndarrays with different lengths or shapes) is deprecated. If you meant to do this, you must specify 'dtype=object' when creating the ndarray\n"
     ]
    },
    {
     "name": "stdout",
     "output_type": "stream",
     "text": [
      "сохранил трейн\n",
      "сохранил тест\n",
      "/data/edmitrie/alfa_boosters/net_atrs_first_net/part-00002.parquet.pckl\n",
      "/data/edmitrie/alfa_boosters/net_atrs_first_net/part-00002.parquet.pckl\n",
      "приступаю к сабмит файлу\n"
     ]
    },
    {
     "name": "stderr",
     "output_type": "stream",
     "text": [
      "/usr/local/lib/python3.6/site-packages/ipykernel_launcher.py:51: VisibleDeprecationWarning: Creating an ndarray from ragged nested sequences (which is a list-or-tuple of lists-or-tuples-or ndarrays with different lengths or shapes) is deprecated. If you meant to do this, you must specify 'dtype=object' when creating the ndarray\n",
      "/usr/local/lib/python3.6/site-packages/ipykernel_launcher.py:52: VisibleDeprecationWarning: Creating an ndarray from ragged nested sequences (which is a list-or-tuple of lists-or-tuples-or ndarrays with different lengths or shapes) is deprecated. If you meant to do this, you must specify 'dtype=object' when creating the ndarray\n",
      "/usr/local/lib/python3.6/site-packages/ipykernel_launcher.py:53: VisibleDeprecationWarning: Creating an ndarray from ragged nested sequences (which is a list-or-tuple of lists-or-tuples-or ndarrays with different lengths or shapes) is deprecated. If you meant to do this, you must specify 'dtype=object' when creating the ndarray\n"
     ]
    },
    {
     "name": "stdout",
     "output_type": "stream",
     "text": [
      "сабмит сохранил\n"
     ]
    },
    {
     "name": "stderr",
     "output_type": "stream",
     "text": [
      "/usr/local/lib/python3.6/site-packages/ipykernel_launcher.py:44: VisibleDeprecationWarning: Creating an ndarray from ragged nested sequences (which is a list-or-tuple of lists-or-tuples-or ndarrays with different lengths or shapes) is deprecated. If you meant to do this, you must specify 'dtype=object' when creating the ndarray\n",
      "/usr/local/lib/python3.6/site-packages/ipykernel_launcher.py:45: VisibleDeprecationWarning: Creating an ndarray from ragged nested sequences (which is a list-or-tuple of lists-or-tuples-or ndarrays with different lengths or shapes) is deprecated. If you meant to do this, you must specify 'dtype=object' when creating the ndarray\n",
      "/usr/local/lib/python3.6/site-packages/ipykernel_launcher.py:46: VisibleDeprecationWarning: Creating an ndarray from ragged nested sequences (which is a list-or-tuple of lists-or-tuples-or ndarrays with different lengths or shapes) is deprecated. If you meant to do this, you must specify 'dtype=object' when creating the ndarray\n",
      "/usr/local/lib/python3.6/site-packages/ipykernel_launcher.py:47: VisibleDeprecationWarning: Creating an ndarray from ragged nested sequences (which is a list-or-tuple of lists-or-tuples-or ndarrays with different lengths or shapes) is deprecated. If you meant to do this, you must specify 'dtype=object' when creating the ndarray\n"
     ]
    },
    {
     "name": "stdout",
     "output_type": "stream",
     "text": [
      "сохранил трейн\n",
      "сохранил тест\n",
      "/data/edmitrie/alfa_boosters/net_atrs_first_net/part-00004.parquet.pckl\n",
      "/data/edmitrie/alfa_boosters/net_atrs_first_net/part-00004.parquet.pckl\n",
      "приступаю к сабмит файлу\n"
     ]
    },
    {
     "name": "stderr",
     "output_type": "stream",
     "text": [
      "/usr/local/lib/python3.6/site-packages/ipykernel_launcher.py:51: VisibleDeprecationWarning: Creating an ndarray from ragged nested sequences (which is a list-or-tuple of lists-or-tuples-or ndarrays with different lengths or shapes) is deprecated. If you meant to do this, you must specify 'dtype=object' when creating the ndarray\n",
      "/usr/local/lib/python3.6/site-packages/ipykernel_launcher.py:52: VisibleDeprecationWarning: Creating an ndarray from ragged nested sequences (which is a list-or-tuple of lists-or-tuples-or ndarrays with different lengths or shapes) is deprecated. If you meant to do this, you must specify 'dtype=object' when creating the ndarray\n",
      "/usr/local/lib/python3.6/site-packages/ipykernel_launcher.py:53: VisibleDeprecationWarning: Creating an ndarray from ragged nested sequences (which is a list-or-tuple of lists-or-tuples-or ndarrays with different lengths or shapes) is deprecated. If you meant to do this, you must specify 'dtype=object' when creating the ndarray\n"
     ]
    },
    {
     "name": "stdout",
     "output_type": "stream",
     "text": [
      "сабмит сохранил\n"
     ]
    },
    {
     "name": "stderr",
     "output_type": "stream",
     "text": [
      "/usr/local/lib/python3.6/site-packages/ipykernel_launcher.py:44: VisibleDeprecationWarning: Creating an ndarray from ragged nested sequences (which is a list-or-tuple of lists-or-tuples-or ndarrays with different lengths or shapes) is deprecated. If you meant to do this, you must specify 'dtype=object' when creating the ndarray\n",
      "/usr/local/lib/python3.6/site-packages/ipykernel_launcher.py:45: VisibleDeprecationWarning: Creating an ndarray from ragged nested sequences (which is a list-or-tuple of lists-or-tuples-or ndarrays with different lengths or shapes) is deprecated. If you meant to do this, you must specify 'dtype=object' when creating the ndarray\n",
      "/usr/local/lib/python3.6/site-packages/ipykernel_launcher.py:46: VisibleDeprecationWarning: Creating an ndarray from ragged nested sequences (which is a list-or-tuple of lists-or-tuples-or ndarrays with different lengths or shapes) is deprecated. If you meant to do this, you must specify 'dtype=object' when creating the ndarray\n",
      "/usr/local/lib/python3.6/site-packages/ipykernel_launcher.py:47: VisibleDeprecationWarning: Creating an ndarray from ragged nested sequences (which is a list-or-tuple of lists-or-tuples-or ndarrays with different lengths or shapes) is deprecated. If you meant to do this, you must specify 'dtype=object' when creating the ndarray\n"
     ]
    },
    {
     "name": "stdout",
     "output_type": "stream",
     "text": [
      "сохранил трейн\n",
      "сохранил тест\n",
      "/data/edmitrie/alfa_boosters/net_atrs_first_net/part-00005.parquet.pckl\n",
      "/data/edmitrie/alfa_boosters/net_atrs_first_net/part-00005.parquet.pckl\n",
      "приступаю к сабмит файлу\n"
     ]
    },
    {
     "name": "stderr",
     "output_type": "stream",
     "text": [
      "/usr/local/lib/python3.6/site-packages/ipykernel_launcher.py:51: VisibleDeprecationWarning: Creating an ndarray from ragged nested sequences (which is a list-or-tuple of lists-or-tuples-or ndarrays with different lengths or shapes) is deprecated. If you meant to do this, you must specify 'dtype=object' when creating the ndarray\n",
      "/usr/local/lib/python3.6/site-packages/ipykernel_launcher.py:52: VisibleDeprecationWarning: Creating an ndarray from ragged nested sequences (which is a list-or-tuple of lists-or-tuples-or ndarrays with different lengths or shapes) is deprecated. If you meant to do this, you must specify 'dtype=object' when creating the ndarray\n",
      "/usr/local/lib/python3.6/site-packages/ipykernel_launcher.py:53: VisibleDeprecationWarning: Creating an ndarray from ragged nested sequences (which is a list-or-tuple of lists-or-tuples-or ndarrays with different lengths or shapes) is deprecated. If you meant to do this, you must specify 'dtype=object' when creating the ndarray\n"
     ]
    },
    {
     "name": "stdout",
     "output_type": "stream",
     "text": [
      "сабмит сохранил\n"
     ]
    },
    {
     "name": "stderr",
     "output_type": "stream",
     "text": [
      "/usr/local/lib/python3.6/site-packages/ipykernel_launcher.py:44: VisibleDeprecationWarning: Creating an ndarray from ragged nested sequences (which is a list-or-tuple of lists-or-tuples-or ndarrays with different lengths or shapes) is deprecated. If you meant to do this, you must specify 'dtype=object' when creating the ndarray\n",
      "/usr/local/lib/python3.6/site-packages/ipykernel_launcher.py:45: VisibleDeprecationWarning: Creating an ndarray from ragged nested sequences (which is a list-or-tuple of lists-or-tuples-or ndarrays with different lengths or shapes) is deprecated. If you meant to do this, you must specify 'dtype=object' when creating the ndarray\n",
      "/usr/local/lib/python3.6/site-packages/ipykernel_launcher.py:46: VisibleDeprecationWarning: Creating an ndarray from ragged nested sequences (which is a list-or-tuple of lists-or-tuples-or ndarrays with different lengths or shapes) is deprecated. If you meant to do this, you must specify 'dtype=object' when creating the ndarray\n",
      "/usr/local/lib/python3.6/site-packages/ipykernel_launcher.py:47: VisibleDeprecationWarning: Creating an ndarray from ragged nested sequences (which is a list-or-tuple of lists-or-tuples-or ndarrays with different lengths or shapes) is deprecated. If you meant to do this, you must specify 'dtype=object' when creating the ndarray\n"
     ]
    },
    {
     "name": "stdout",
     "output_type": "stream",
     "text": [
      "сохранил трейн\n",
      "сохранил тест\n",
      "/data/edmitrie/alfa_boosters/net_atrs_first_net/part-00006.parquet.pckl\n",
      "/data/edmitrie/alfa_boosters/net_atrs_first_net/part-00006.parquet.pckl\n",
      "приступаю к сабмит файлу\n"
     ]
    },
    {
     "name": "stderr",
     "output_type": "stream",
     "text": [
      "/usr/local/lib/python3.6/site-packages/ipykernel_launcher.py:51: VisibleDeprecationWarning: Creating an ndarray from ragged nested sequences (which is a list-or-tuple of lists-or-tuples-or ndarrays with different lengths or shapes) is deprecated. If you meant to do this, you must specify 'dtype=object' when creating the ndarray\n",
      "/usr/local/lib/python3.6/site-packages/ipykernel_launcher.py:52: VisibleDeprecationWarning: Creating an ndarray from ragged nested sequences (which is a list-or-tuple of lists-or-tuples-or ndarrays with different lengths or shapes) is deprecated. If you meant to do this, you must specify 'dtype=object' when creating the ndarray\n",
      "/usr/local/lib/python3.6/site-packages/ipykernel_launcher.py:53: VisibleDeprecationWarning: Creating an ndarray from ragged nested sequences (which is a list-or-tuple of lists-or-tuples-or ndarrays with different lengths or shapes) is deprecated. If you meant to do this, you must specify 'dtype=object' when creating the ndarray\n"
     ]
    },
    {
     "name": "stdout",
     "output_type": "stream",
     "text": [
      "сабмит сохранил\n"
     ]
    },
    {
     "name": "stderr",
     "output_type": "stream",
     "text": [
      "/usr/local/lib/python3.6/site-packages/ipykernel_launcher.py:44: VisibleDeprecationWarning: Creating an ndarray from ragged nested sequences (which is a list-or-tuple of lists-or-tuples-or ndarrays with different lengths or shapes) is deprecated. If you meant to do this, you must specify 'dtype=object' when creating the ndarray\n",
      "/usr/local/lib/python3.6/site-packages/ipykernel_launcher.py:45: VisibleDeprecationWarning: Creating an ndarray from ragged nested sequences (which is a list-or-tuple of lists-or-tuples-or ndarrays with different lengths or shapes) is deprecated. If you meant to do this, you must specify 'dtype=object' when creating the ndarray\n",
      "/usr/local/lib/python3.6/site-packages/ipykernel_launcher.py:46: VisibleDeprecationWarning: Creating an ndarray from ragged nested sequences (which is a list-or-tuple of lists-or-tuples-or ndarrays with different lengths or shapes) is deprecated. If you meant to do this, you must specify 'dtype=object' when creating the ndarray\n",
      "/usr/local/lib/python3.6/site-packages/ipykernel_launcher.py:47: VisibleDeprecationWarning: Creating an ndarray from ragged nested sequences (which is a list-or-tuple of lists-or-tuples-or ndarrays with different lengths or shapes) is deprecated. If you meant to do this, you must specify 'dtype=object' when creating the ndarray\n"
     ]
    },
    {
     "name": "stdout",
     "output_type": "stream",
     "text": [
      "сохранил трейн\n",
      "сохранил тест\n",
      "/data/edmitrie/alfa_boosters/net_atrs_first_net/part-00007.parquet.pckl\n",
      "/data/edmitrie/alfa_boosters/net_atrs_first_net/part-00007.parquet.pckl\n",
      "приступаю к сабмит файлу\n"
     ]
    },
    {
     "name": "stderr",
     "output_type": "stream",
     "text": [
      "/usr/local/lib/python3.6/site-packages/ipykernel_launcher.py:51: VisibleDeprecationWarning: Creating an ndarray from ragged nested sequences (which is a list-or-tuple of lists-or-tuples-or ndarrays with different lengths or shapes) is deprecated. If you meant to do this, you must specify 'dtype=object' when creating the ndarray\n",
      "/usr/local/lib/python3.6/site-packages/ipykernel_launcher.py:52: VisibleDeprecationWarning: Creating an ndarray from ragged nested sequences (which is a list-or-tuple of lists-or-tuples-or ndarrays with different lengths or shapes) is deprecated. If you meant to do this, you must specify 'dtype=object' when creating the ndarray\n",
      "/usr/local/lib/python3.6/site-packages/ipykernel_launcher.py:53: VisibleDeprecationWarning: Creating an ndarray from ragged nested sequences (which is a list-or-tuple of lists-or-tuples-or ndarrays with different lengths or shapes) is deprecated. If you meant to do this, you must specify 'dtype=object' when creating the ndarray\n"
     ]
    },
    {
     "name": "stdout",
     "output_type": "stream",
     "text": [
      "сабмит сохранил\n"
     ]
    },
    {
     "name": "stderr",
     "output_type": "stream",
     "text": [
      "/usr/local/lib/python3.6/site-packages/ipykernel_launcher.py:44: VisibleDeprecationWarning: Creating an ndarray from ragged nested sequences (which is a list-or-tuple of lists-or-tuples-or ndarrays with different lengths or shapes) is deprecated. If you meant to do this, you must specify 'dtype=object' when creating the ndarray\n",
      "/usr/local/lib/python3.6/site-packages/ipykernel_launcher.py:45: VisibleDeprecationWarning: Creating an ndarray from ragged nested sequences (which is a list-or-tuple of lists-or-tuples-or ndarrays with different lengths or shapes) is deprecated. If you meant to do this, you must specify 'dtype=object' when creating the ndarray\n",
      "/usr/local/lib/python3.6/site-packages/ipykernel_launcher.py:46: VisibleDeprecationWarning: Creating an ndarray from ragged nested sequences (which is a list-or-tuple of lists-or-tuples-or ndarrays with different lengths or shapes) is deprecated. If you meant to do this, you must specify 'dtype=object' when creating the ndarray\n",
      "/usr/local/lib/python3.6/site-packages/ipykernel_launcher.py:47: VisibleDeprecationWarning: Creating an ndarray from ragged nested sequences (which is a list-or-tuple of lists-or-tuples-or ndarrays with different lengths or shapes) is deprecated. If you meant to do this, you must specify 'dtype=object' when creating the ndarray\n"
     ]
    },
    {
     "name": "stdout",
     "output_type": "stream",
     "text": [
      "сохранил трейн\n",
      "сохранил тест\n",
      "/data/edmitrie/alfa_boosters/net_atrs_first_net/part-00008.parquet.pckl\n",
      "/data/edmitrie/alfa_boosters/net_atrs_first_net/part-00008.parquet.pckl\n",
      "приступаю к сабмит файлу\n"
     ]
    },
    {
     "name": "stderr",
     "output_type": "stream",
     "text": [
      "/usr/local/lib/python3.6/site-packages/ipykernel_launcher.py:51: VisibleDeprecationWarning: Creating an ndarray from ragged nested sequences (which is a list-or-tuple of lists-or-tuples-or ndarrays with different lengths or shapes) is deprecated. If you meant to do this, you must specify 'dtype=object' when creating the ndarray\n",
      "/usr/local/lib/python3.6/site-packages/ipykernel_launcher.py:52: VisibleDeprecationWarning: Creating an ndarray from ragged nested sequences (which is a list-or-tuple of lists-or-tuples-or ndarrays with different lengths or shapes) is deprecated. If you meant to do this, you must specify 'dtype=object' when creating the ndarray\n",
      "/usr/local/lib/python3.6/site-packages/ipykernel_launcher.py:53: VisibleDeprecationWarning: Creating an ndarray from ragged nested sequences (which is a list-or-tuple of lists-or-tuples-or ndarrays with different lengths or shapes) is deprecated. If you meant to do this, you must specify 'dtype=object' when creating the ndarray\n"
     ]
    },
    {
     "name": "stdout",
     "output_type": "stream",
     "text": [
      "сабмит сохранил\n"
     ]
    },
    {
     "name": "stderr",
     "output_type": "stream",
     "text": [
      "/usr/local/lib/python3.6/site-packages/ipykernel_launcher.py:44: VisibleDeprecationWarning: Creating an ndarray from ragged nested sequences (which is a list-or-tuple of lists-or-tuples-or ndarrays with different lengths or shapes) is deprecated. If you meant to do this, you must specify 'dtype=object' when creating the ndarray\n",
      "/usr/local/lib/python3.6/site-packages/ipykernel_launcher.py:45: VisibleDeprecationWarning: Creating an ndarray from ragged nested sequences (which is a list-or-tuple of lists-or-tuples-or ndarrays with different lengths or shapes) is deprecated. If you meant to do this, you must specify 'dtype=object' when creating the ndarray\n",
      "/usr/local/lib/python3.6/site-packages/ipykernel_launcher.py:46: VisibleDeprecationWarning: Creating an ndarray from ragged nested sequences (which is a list-or-tuple of lists-or-tuples-or ndarrays with different lengths or shapes) is deprecated. If you meant to do this, you must specify 'dtype=object' when creating the ndarray\n",
      "/usr/local/lib/python3.6/site-packages/ipykernel_launcher.py:47: VisibleDeprecationWarning: Creating an ndarray from ragged nested sequences (which is a list-or-tuple of lists-or-tuples-or ndarrays with different lengths or shapes) is deprecated. If you meant to do this, you must specify 'dtype=object' when creating the ndarray\n"
     ]
    },
    {
     "name": "stdout",
     "output_type": "stream",
     "text": [
      "сохранил трейн\n",
      "сохранил тест\n"
     ]
    }
   ],
   "source": [
    "import os\n",
    "\n",
    "DIR = '/data/edmitrie/alfa_boosters/net_atrs_first_net/'\n",
    "\n",
    "for file in os.listdir(DIR):\n",
    "    get_data_for_net(DIR + file, cat_atrs, num_atrs)"
   ]
  },
  {
   "cell_type": "code",
   "execution_count": null,
   "metadata": {},
   "outputs": [],
   "source": [
    "%%time\n",
    "# get_data_for_net('/data/edmitrie/alfa_boosters/net_atrs_first_net/part-00008.parquet.pckl')"
   ]
  },
  {
   "cell_type": "code",
   "execution_count": null,
   "metadata": {},
   "outputs": [],
   "source": [
    "# seq = transform_transactions_to_sequences(test_df, atrs)\n"
   ]
  },
  {
   "cell_type": "code",
   "execution_count": null,
   "metadata": {},
   "outputs": [],
   "source": [
    "# test_df_net = pd.read_pickle('chunks_data/processed_test_2_net.pkl')"
   ]
  },
  {
   "cell_type": "markdown",
   "metadata": {},
   "source": [
    "## Моделирование"
   ]
  },
  {
   "cell_type": "code",
   "execution_count": 589,
   "metadata": {},
   "outputs": [],
   "source": [
    "import torch\n",
    "import pandas as pd\n",
    "\n",
    "from torch import nn"
   ]
  },
  {
   "cell_type": "code",
   "execution_count": 590,
   "metadata": {},
   "outputs": [],
   "source": [
    "# test_df_net = pd.read_pickle('chunks_data/processed_test_2_net.pkl')\n",
    "# train_df_net = pd.read_pickle('chunks_data/processed_train_2_net.pkl')\n",
    "# # valid_df_net = pd.read_pickle('chunks_data/processed_valid_2_net.pkl')"
   ]
  },
  {
   "cell_type": "code",
   "execution_count": 591,
   "metadata": {},
   "outputs": [],
   "source": [
    "def batches_generator(list_of_paths,transaction_features, num_atrs, batch_size=32, shuffle=False, is_infinite=False,\n",
    "                      verbose=False, device=None, output_format='torch', is_train=True):\n",
    "    while True:\n",
    "        if shuffle:\n",
    "            np.random.shuffle(list_of_paths)\n",
    "\n",
    "        for path in list_of_paths:\n",
    "            if verbose:\n",
    "                print(f'reading {path}')\n",
    "            \n",
    "#             print(path)\n",
    "            \n",
    "            data = pd.read_pickle(path)\n",
    "\n",
    "            padded_sequences, targets, lengths = data['padded_sequences'], data['targets'], data['lengths']\n",
    "            \n",
    "            indices = np.arange(len(targets))\n",
    "\n",
    "            if shuffle:\n",
    "                np.random.shuffle(indices, )\n",
    "                \n",
    "                padded_sequences = padded_sequences[indices]\n",
    "                targets = targets[indices]\n",
    "                lengths = lengths[indices]\n",
    "\n",
    "            for idx in range(len(padded_sequences)):\n",
    "\n",
    "                bucket = padded_sequences[idx]\n",
    "                \n",
    "                if is_train:\n",
    "                    target = targets[idx]\n",
    "                    length = lengths[idx]\n",
    "                \n",
    "                for jdx in range(0, len(bucket), batch_size):\n",
    "                    batch_sequences = bucket[jdx: jdx + batch_size]\n",
    "                    \n",
    "                                        \n",
    "                    if is_train:\n",
    "                        batch_targets = target[jdx: jdx + batch_size]\n",
    "                        batch_length = length[jdx: jdx + batch_size]\n",
    "                        \n",
    "                    batch_sequences_last = [torch.LongTensor(batch_sequences[:, i]).to(device)\n",
    "                                       for i in range(len(transaction_features))]\n",
    "                    \n",
    "                    batch_sequences_last.append(torch.FloatTensor(batch_sequences[:, len(transaction_features):]).to(device))\n",
    "                                    \n",
    "                    if is_train:\n",
    "                        yield dict(transactions_features=batch_sequences_last,\n",
    "                                   label=torch.LongTensor(batch_targets).to(device),\n",
    "                                   lengths=torch.LongTensor(batch_length).to(device)\n",
    "                                  )\n",
    "                    else:\n",
    "                        yield dict(transactions_features=batch_sequences_last,\n",
    "                                   product=torch.LongTensor(batch_products).to(device),\n",
    "                                   lengths=torch.LongTensor(data['lengths']).to(device)\n",
    "                                   )\n",
    "        if not is_infinite:\n",
    "            break"
   ]
  },
  {
   "cell_type": "code",
   "execution_count": 592,
   "metadata": {},
   "outputs": [],
   "source": [
    "from sklearn.metrics import f1_score\n",
    "import os"
   ]
  },
  {
   "cell_type": "code",
   "execution_count": 593,
   "metadata": {},
   "outputs": [],
   "source": [
    "device='cuda'"
   ]
  },
  {
   "cell_type": "code",
   "execution_count": 782,
   "metadata": {},
   "outputs": [],
   "source": [
    "DIR = '/data/edmitrie/alfa_boosters/net_atrs_2_net/'"
   ]
  },
  {
   "cell_type": "code",
   "execution_count": 783,
   "metadata": {},
   "outputs": [
    {
     "data": {
      "text/plain": [
       "['/data/edmitrie/alfa_boosters/net_atrs_2_net/part-00008.parquet.pckl_train',\n",
       " '/data/edmitrie/alfa_boosters/net_atrs_2_net/part-00009.parquet.pckl_train',\n",
       " '/data/edmitrie/alfa_boosters/net_atrs_2_net/part-00000.parquet.pckl_train',\n",
       " '/data/edmitrie/alfa_boosters/net_atrs_2_net/part-00001.parquet.pckl_train',\n",
       " '/data/edmitrie/alfa_boosters/net_atrs_2_net/part-00003.parquet.pckl_train',\n",
       " '/data/edmitrie/alfa_boosters/net_atrs_2_net/part-00002.parquet.pckl_train',\n",
       " '/data/edmitrie/alfa_boosters/net_atrs_2_net/part-00004.parquet.pckl_train',\n",
       " '/data/edmitrie/alfa_boosters/net_atrs_2_net/part-00005.parquet.pckl_train',\n",
       " '/data/edmitrie/alfa_boosters/net_atrs_2_net/part-00006.parquet.pckl_train',\n",
       " '/data/edmitrie/alfa_boosters/net_atrs_2_net/part-00007.parquet.pckl_train']"
      ]
     },
     "execution_count": 783,
     "metadata": {},
     "output_type": "execute_result"
    }
   ],
   "source": [
    "[DIR + el for el in os.listdir(DIR) if 'train' in el]"
   ]
  },
  {
   "cell_type": "code",
   "execution_count": 732,
   "metadata": {},
   "outputs": [
    {
     "data": {
      "text/html": [
       "<div>\n",
       "<style scoped>\n",
       "    .dataframe tbody tr th:only-of-type {\n",
       "        vertical-align: middle;\n",
       "    }\n",
       "\n",
       "    .dataframe tbody tr th {\n",
       "        vertical-align: top;\n",
       "    }\n",
       "\n",
       "    .dataframe thead th {\n",
       "        text-align: right;\n",
       "    }\n",
       "</style>\n",
       "<table border=\"1\" class=\"dataframe\">\n",
       "  <thead>\n",
       "    <tr style=\"text-align: right;\">\n",
       "      <th></th>\n",
       "      <th>padded_sequences</th>\n",
       "      <th>targets</th>\n",
       "      <th>lengths</th>\n",
       "      <th>client</th>\n",
       "    </tr>\n",
       "  </thead>\n",
       "  <tbody>\n",
       "    <tr>\n",
       "      <th>0</th>\n",
       "      <td>[[[2, 5, 5, 9, 2]], [[3, 5, 3, 3, 3]], [[2, 0,...</td>\n",
       "      <td>[5, 3, 3, 1, 7, 5, 5, 2, 3, 5, 5, 2, 9, 5, 5, ...</td>\n",
       "      <td>[5, 5, 1, 2, 3, 1, 1, 3, 5, 4, 2, 2, 4, 3, 4, ...</td>\n",
       "      <td>[0013017a0c3a4d52814367706a6fb4e6, 003a8390e06...</td>\n",
       "    </tr>\n",
       "    <tr>\n",
       "      <th>1</th>\n",
       "      <td>[[[5, 5, 5, 5, 5, 5, 5, 5, 5, 5, 5, 5, 5]], [[...</td>\n",
       "      <td>[5, 5, 3, 3, 0, 6, 5, 1, 6, 2, 5, 3, 5, 5, 9, ...</td>\n",
       "      <td>[13, 8, 12, 7, 11, 10, 12, 12, 8, 13, 12, 6, 8...</td>\n",
       "      <td>[002f4de4ccba696382a2c045942adba5, 0109101437b...</td>\n",
       "    </tr>\n",
       "    <tr>\n",
       "      <th>2</th>\n",
       "      <td>[[[1, 3, 3, 3, 9, 3, 3, 3, 3, 3, 3, 3, 9, 9, 0...</td>\n",
       "      <td>[1, 8, 1, 5, 5, 5, 3, 5, 5, 5, 7, 9, 7, 5, 1, ...</td>\n",
       "      <td>[14, 17, 15, 19, 17, 20, 20, 18, 20, 19, 19, 1...</td>\n",
       "      <td>[00488fd7358b29b7ab9924f5509b4645, 009da692f13...</td>\n",
       "    </tr>\n",
       "    <tr>\n",
       "      <th>3</th>\n",
       "      <td>[[[5, 5, 5, 5, 5, 5, 5, 5, 5, 5, 5, 5, 5, 5, 5...</td>\n",
       "      <td>[5, 5, 9, 2, 0, 5, 5, 8, 3, 7, 3, 6, 5, 0, 5, ...</td>\n",
       "      <td>[21, 24, 25, 27, 22, 26, 24, 24, 24, 25, 23, 2...</td>\n",
       "      <td>[006c4ffd41de806fdd448aa8da2de4fb, 0291a8121e0...</td>\n",
       "    </tr>\n",
       "    <tr>\n",
       "      <th>4</th>\n",
       "      <td>[[[2, 9, 2, 3, 9, 3, 1, 1, 2, 9, 5, 9, 5, 1, 9...</td>\n",
       "      <td>[9, 9, 5, 5, 9, 5, 8, 5, 7, 5, 5, 5, 5, 5, 5, ...</td>\n",
       "      <td>[30, 29, 31, 34, 31, 29, 30, 33, 32, 34, 30, 3...</td>\n",
       "      <td>[006da09fb1c8c802b19155fe326498aa, 01821b37f01...</td>\n",
       "    </tr>\n",
       "    <tr>\n",
       "      <th>5</th>\n",
       "      <td>[[[2, 5, 2, 2, 5, 2, 5, 2, 2, 5, 5, 5, 2, 2, 2...</td>\n",
       "      <td>[5, 4, 5, 0, 5, 5, 3, 5, 3, 5, 2, 5, 9, 5, 2, ...</td>\n",
       "      <td>[37, 39, 43, 41, 39, 39, 38, 41, 38, 42, 41, 4...</td>\n",
       "      <td>[0011dab5a085273c80be9282b1c0c4de, 005fa922eb8...</td>\n",
       "    </tr>\n",
       "    <tr>\n",
       "      <th>6</th>\n",
       "      <td>[[[1, 1, 9, 2, 1, 5, 1, 2, 9, 1, 1, 1, 1, 1, 5...</td>\n",
       "      <td>[5, 6, 3, 5, 5, 2, 7, 9, 3, 5, 5, 5, 5, 5, 9, ...</td>\n",
       "      <td>[48, 44, 46, 44, 45, 50, 50, 46, 47, 47, 49, 4...</td>\n",
       "      <td>[0183363864a0d032dc3e35f4b798b731, 030b226252b...</td>\n",
       "    </tr>\n",
       "    <tr>\n",
       "      <th>7</th>\n",
       "      <td>[[[5, 5, 5, 5, 5, 5, 5, 5, 5, 5, 5, 5, 5, 5, 5...</td>\n",
       "      <td>[5, 8, 5, 5, 5, 5, 9, 5, 3, 2, 5, 5, 3, 8, 8, ...</td>\n",
       "      <td>[58, 58, 56, 53, 51, 51, 52, 55, 58, 52, 57, 5...</td>\n",
       "      <td>[013214d1fef11a990d31fbb86713106f, 01a1c3d59bf...</td>\n",
       "    </tr>\n",
       "    <tr>\n",
       "      <th>8</th>\n",
       "      <td>[[[5, 5, 5, 5, 9, 8, 5, 6, 5, 5, 5, 5, 5, 4, 5...</td>\n",
       "      <td>[5, 5, 9, 5, 5, 5, 8, 6, 5, 9, 5, 9, 5, 5, 5, ...</td>\n",
       "      <td>[60, 64, 61, 64, 62, 60, 61, 60, 59, 59, 62, 6...</td>\n",
       "      <td>[0022b12a2ec1645c8ecee1e77191e75b, 005b433727c...</td>\n",
       "    </tr>\n",
       "    <tr>\n",
       "      <th>9</th>\n",
       "      <td>[[[5, 9, 5, 5, 5, 5, 2, 5, 5, 5, 5, 5, 5, 5, 5...</td>\n",
       "      <td>[5, 5, 9, 3, 3, 9, 9, 5, 7, 0, 5, 5, 9, 7, 5, ...</td>\n",
       "      <td>[67, 72, 71, 72, 66, 68, 68, 66, 71, 70, 67, 6...</td>\n",
       "      <td>[0099a87930be9c04d0a4a26877023f13, 00fa0652549...</td>\n",
       "    </tr>\n",
       "    <tr>\n",
       "      <th>10</th>\n",
       "      <td>[[[9, 9, 9, 5, 9, 9, 5, 9, 5, 6, 9, 9, 9, 9, 5...</td>\n",
       "      <td>[5, 9, 5, 9, 9, 5, 5, 1, 0, 8, 5, 5, 9, 8, 5, ...</td>\n",
       "      <td>[74, 79, 80, 74, 73, 74, 76, 78, 76, 73, 79, 7...</td>\n",
       "      <td>[026e33d9c7509b3e7bf2ce90703873aa, 02dacb0498e...</td>\n",
       "    </tr>\n",
       "    <tr>\n",
       "      <th>11</th>\n",
       "      <td>[[[8, 5, 7, 5, 9, 5, 8, 5, 5, 5, 0, 5, 5, 5, 5...</td>\n",
       "      <td>[5, 6, 5, 3, 5, 9, 5, 5, 5, 9, 5, 4, 8, 3, 6, ...</td>\n",
       "      <td>[83, 83, 81, 81, 85, 83, 87, 82, 82, 85, 83, 8...</td>\n",
       "      <td>[01a453b356edf1bf752d4d6c25b0a2a4, 02d2fbf4fe8...</td>\n",
       "    </tr>\n",
       "    <tr>\n",
       "      <th>12</th>\n",
       "      <td>[[[0, 0, 0, 0, 0, 5, 0, 7, 0, 0, 5, 9, 7, 6, 5...</td>\n",
       "      <td>[7, 7, 6, 5, 6, 9, 5, 5, 3, 5, 5, 3, 9, 5, 5, ...</td>\n",
       "      <td>[88, 94, 93, 93, 90, 94, 89, 93, 90, 93, 88, 9...</td>\n",
       "      <td>[023057b3dadf19cd14043507404f0e3e, 03ddd911876...</td>\n",
       "    </tr>\n",
       "    <tr>\n",
       "      <th>13</th>\n",
       "      <td>[[[9, 6, 9, 6, 8, 5, 0, 5, 0, 5, 6, 2, 9, 0, 5...</td>\n",
       "      <td>[5, 5, 5, 8, 5, 9, 5, 5, 9, 2, 7, 8, 5, 5, 7, ...</td>\n",
       "      <td>[97, 100, 100, 100, 100, 100, 100, 100, 100, 1...</td>\n",
       "      <td>[000a540f0ea28469451d4a7ad9e9436d, 000da0402d3...</td>\n",
       "    </tr>\n",
       "  </tbody>\n",
       "</table>\n",
       "</div>"
      ],
      "text/plain": [
       "                                     padded_sequences  \\\n",
       "0   [[[2, 5, 5, 9, 2]], [[3, 5, 3, 3, 3]], [[2, 0,...   \n",
       "1   [[[5, 5, 5, 5, 5, 5, 5, 5, 5, 5, 5, 5, 5]], [[...   \n",
       "2   [[[1, 3, 3, 3, 9, 3, 3, 3, 3, 3, 3, 3, 9, 9, 0...   \n",
       "3   [[[5, 5, 5, 5, 5, 5, 5, 5, 5, 5, 5, 5, 5, 5, 5...   \n",
       "4   [[[2, 9, 2, 3, 9, 3, 1, 1, 2, 9, 5, 9, 5, 1, 9...   \n",
       "5   [[[2, 5, 2, 2, 5, 2, 5, 2, 2, 5, 5, 5, 2, 2, 2...   \n",
       "6   [[[1, 1, 9, 2, 1, 5, 1, 2, 9, 1, 1, 1, 1, 1, 5...   \n",
       "7   [[[5, 5, 5, 5, 5, 5, 5, 5, 5, 5, 5, 5, 5, 5, 5...   \n",
       "8   [[[5, 5, 5, 5, 9, 8, 5, 6, 5, 5, 5, 5, 5, 4, 5...   \n",
       "9   [[[5, 9, 5, 5, 5, 5, 2, 5, 5, 5, 5, 5, 5, 5, 5...   \n",
       "10  [[[9, 9, 9, 5, 9, 9, 5, 9, 5, 6, 9, 9, 9, 9, 5...   \n",
       "11  [[[8, 5, 7, 5, 9, 5, 8, 5, 5, 5, 0, 5, 5, 5, 5...   \n",
       "12  [[[0, 0, 0, 0, 0, 5, 0, 7, 0, 0, 5, 9, 7, 6, 5...   \n",
       "13  [[[9, 6, 9, 6, 8, 5, 0, 5, 0, 5, 6, 2, 9, 0, 5...   \n",
       "\n",
       "                                              targets  \\\n",
       "0   [5, 3, 3, 1, 7, 5, 5, 2, 3, 5, 5, 2, 9, 5, 5, ...   \n",
       "1   [5, 5, 3, 3, 0, 6, 5, 1, 6, 2, 5, 3, 5, 5, 9, ...   \n",
       "2   [1, 8, 1, 5, 5, 5, 3, 5, 5, 5, 7, 9, 7, 5, 1, ...   \n",
       "3   [5, 5, 9, 2, 0, 5, 5, 8, 3, 7, 3, 6, 5, 0, 5, ...   \n",
       "4   [9, 9, 5, 5, 9, 5, 8, 5, 7, 5, 5, 5, 5, 5, 5, ...   \n",
       "5   [5, 4, 5, 0, 5, 5, 3, 5, 3, 5, 2, 5, 9, 5, 2, ...   \n",
       "6   [5, 6, 3, 5, 5, 2, 7, 9, 3, 5, 5, 5, 5, 5, 9, ...   \n",
       "7   [5, 8, 5, 5, 5, 5, 9, 5, 3, 2, 5, 5, 3, 8, 8, ...   \n",
       "8   [5, 5, 9, 5, 5, 5, 8, 6, 5, 9, 5, 9, 5, 5, 5, ...   \n",
       "9   [5, 5, 9, 3, 3, 9, 9, 5, 7, 0, 5, 5, 9, 7, 5, ...   \n",
       "10  [5, 9, 5, 9, 9, 5, 5, 1, 0, 8, 5, 5, 9, 8, 5, ...   \n",
       "11  [5, 6, 5, 3, 5, 9, 5, 5, 5, 9, 5, 4, 8, 3, 6, ...   \n",
       "12  [7, 7, 6, 5, 6, 9, 5, 5, 3, 5, 5, 3, 9, 5, 5, ...   \n",
       "13  [5, 5, 5, 8, 5, 9, 5, 5, 9, 2, 7, 8, 5, 5, 7, ...   \n",
       "\n",
       "                                              lengths  \\\n",
       "0   [5, 5, 1, 2, 3, 1, 1, 3, 5, 4, 2, 2, 4, 3, 4, ...   \n",
       "1   [13, 8, 12, 7, 11, 10, 12, 12, 8, 13, 12, 6, 8...   \n",
       "2   [14, 17, 15, 19, 17, 20, 20, 18, 20, 19, 19, 1...   \n",
       "3   [21, 24, 25, 27, 22, 26, 24, 24, 24, 25, 23, 2...   \n",
       "4   [30, 29, 31, 34, 31, 29, 30, 33, 32, 34, 30, 3...   \n",
       "5   [37, 39, 43, 41, 39, 39, 38, 41, 38, 42, 41, 4...   \n",
       "6   [48, 44, 46, 44, 45, 50, 50, 46, 47, 47, 49, 4...   \n",
       "7   [58, 58, 56, 53, 51, 51, 52, 55, 58, 52, 57, 5...   \n",
       "8   [60, 64, 61, 64, 62, 60, 61, 60, 59, 59, 62, 6...   \n",
       "9   [67, 72, 71, 72, 66, 68, 68, 66, 71, 70, 67, 6...   \n",
       "10  [74, 79, 80, 74, 73, 74, 76, 78, 76, 73, 79, 7...   \n",
       "11  [83, 83, 81, 81, 85, 83, 87, 82, 82, 85, 83, 8...   \n",
       "12  [88, 94, 93, 93, 90, 94, 89, 93, 90, 93, 88, 9...   \n",
       "13  [97, 100, 100, 100, 100, 100, 100, 100, 100, 1...   \n",
       "\n",
       "                                               client  \n",
       "0   [0013017a0c3a4d52814367706a6fb4e6, 003a8390e06...  \n",
       "1   [002f4de4ccba696382a2c045942adba5, 0109101437b...  \n",
       "2   [00488fd7358b29b7ab9924f5509b4645, 009da692f13...  \n",
       "3   [006c4ffd41de806fdd448aa8da2de4fb, 0291a8121e0...  \n",
       "4   [006da09fb1c8c802b19155fe326498aa, 01821b37f01...  \n",
       "5   [0011dab5a085273c80be9282b1c0c4de, 005fa922eb8...  \n",
       "6   [0183363864a0d032dc3e35f4b798b731, 030b226252b...  \n",
       "7   [013214d1fef11a990d31fbb86713106f, 01a1c3d59bf...  \n",
       "8   [0022b12a2ec1645c8ecee1e77191e75b, 005b433727c...  \n",
       "9   [0099a87930be9c04d0a4a26877023f13, 00fa0652549...  \n",
       "10  [026e33d9c7509b3e7bf2ce90703873aa, 02dacb0498e...  \n",
       "11  [01a453b356edf1bf752d4d6c25b0a2a4, 02d2fbf4fe8...  \n",
       "12  [023057b3dadf19cd14043507404f0e3e, 03ddd911876...  \n",
       "13  [000a540f0ea28469451d4a7ad9e9436d, 000da0402d3...  "
      ]
     },
     "execution_count": 732,
     "metadata": {},
     "output_type": "execute_result"
    }
   ],
   "source": [
    "pickle.load(open('/data/edmitrie/alfa_boosters/net_atrs_2_net/part-00008.parquet.pckl_train','rb'))"
   ]
  },
  {
   "cell_type": "code",
   "execution_count": 784,
   "metadata": {},
   "outputs": [],
   "source": [
    "dataset_train = [DIR + el for el in os.listdir(DIR) if 'train' in el]\n",
    "# dataset_valid = ['chunks_data/processed_test_target_2_net.pkl']\n",
    "dataset_valid =  [DIR + el for el in os.listdir(DIR) if 'test' in el]"
   ]
  },
  {
   "cell_type": "code",
   "execution_count": 785,
   "metadata": {},
   "outputs": [
    {
     "data": {
      "text/plain": [
       "['/data/edmitrie/alfa_boosters/net_atrs_2_net/part-00008.parquet.pckl_test',\n",
       " '/data/edmitrie/alfa_boosters/net_atrs_2_net/part-00009.parquet.pckl_test',\n",
       " '/data/edmitrie/alfa_boosters/net_atrs_2_net/part-00000.parquet.pckl_test',\n",
       " '/data/edmitrie/alfa_boosters/net_atrs_2_net/part-00001.parquet.pckl_test',\n",
       " '/data/edmitrie/alfa_boosters/net_atrs_2_net/part-00003.parquet.pckl_test',\n",
       " '/data/edmitrie/alfa_boosters/net_atrs_2_net/part-00002.parquet.pckl_test',\n",
       " '/data/edmitrie/alfa_boosters/net_atrs_2_net/part-00004.parquet.pckl_test',\n",
       " '/data/edmitrie/alfa_boosters/net_atrs_2_net/part-00005.parquet.pckl_test',\n",
       " '/data/edmitrie/alfa_boosters/net_atrs_2_net/part-00006.parquet.pckl_test',\n",
       " '/data/edmitrie/alfa_boosters/net_atrs_2_net/part-00007.parquet.pckl_test']"
      ]
     },
     "execution_count": 785,
     "metadata": {},
     "output_type": "execute_result"
    }
   ],
   "source": [
    "dataset_valid"
   ]
  },
  {
   "cell_type": "code",
   "execution_count": 726,
   "metadata": {},
   "outputs": [
    {
     "data": {
      "text/plain": [
       "['/data/edmitrie/alfa_boosters/net_atrs_2_net/part-00008.parquet.pckl_train',\n",
       " '/data/edmitrie/alfa_boosters/net_atrs_2_net/part-00009.parquet.pckl_train',\n",
       " '/data/edmitrie/alfa_boosters/net_atrs_2_net/part-00000.parquet.pckl_train',\n",
       " '/data/edmitrie/alfa_boosters/net_atrs_2_net/part-00001.parquet.pckl_train',\n",
       " '/data/edmitrie/alfa_boosters/net_atrs_2_net/part-00003.parquet.pckl_train',\n",
       " '/data/edmitrie/alfa_boosters/net_atrs_2_net/part-00002.parquet.pckl_train',\n",
       " '/data/edmitrie/alfa_boosters/net_atrs_2_net/part-00004.parquet.pckl_train',\n",
       " '/data/edmitrie/alfa_boosters/net_atrs_2_net/part-00005.parquet.pckl_train',\n",
       " '/data/edmitrie/alfa_boosters/net_atrs_2_net/part-00006.parquet.pckl_train',\n",
       " '/data/edmitrie/alfa_boosters/net_atrs_2_net/part-00007.parquet.pckl_train']"
      ]
     },
     "execution_count": 726,
     "metadata": {},
     "output_type": "execute_result"
    }
   ],
   "source": [
    "dataset_train"
   ]
  },
  {
   "cell_type": "code",
   "execution_count": 723,
   "metadata": {},
   "outputs": [],
   "source": [
    "# dataset_train = ['chunks_data/processed_train_target_2_net.pkl']\n",
    "# dataset_valid = ['chunks_data/processed_test_target_2_net.pkl']"
   ]
  },
  {
   "cell_type": "code",
   "execution_count": 724,
   "metadata": {},
   "outputs": [],
   "source": [
    "from torch import nn"
   ]
  },
  {
   "cell_type": "code",
   "execution_count": 725,
   "metadata": {},
   "outputs": [],
   "source": [
    "import time\n",
    "\n",
    "time.sleep(1)"
   ]
  },
  {
   "cell_type": "code",
   "execution_count": 794,
   "metadata": {},
   "outputs": [],
   "source": [
    "def train_epoch(model, optimizer, cat_atrs, num_atrs, dataset_train, atrs, batch_size=64, shuffle=True,\n",
    "                print_loss_every_n_batches=10, device=None):\n",
    "    train_generator = batches_generator(dataset_train, cat_atrs, num_atrs, batch_size=batch_size, shuffle=shuffle,\n",
    "                                        device=device, is_train=True, output_format='torch')\n",
    "    \n",
    "    loss_function = nn.CrossEntropyLoss()\n",
    "\n",
    "    num_batches = 1\n",
    "    running_loss = 0.0\n",
    "\n",
    "    model.train()\n",
    "\n",
    "    for i, batch in enumerate(train_generator):\n",
    "#         print(batch['transactions_features'][0].shape)\n",
    "        \n",
    "        \n",
    "        _, output = model(batch['transactions_features'], batch['lengths'])\n",
    "        \n",
    "\n",
    "        batch_loss = loss_function(output, batch['label'])\n",
    "        \n",
    "        if i % print_loss_every_n_batches == 0:\n",
    "#             val_generator = batches_generator(dataset_valid, atrs, batch_size=batch_size, shuffle=False,\n",
    "#                                       device=device, is_train=True, output_format='torch')\n",
    "            model_os = []\n",
    "            targets_l = []\n",
    "            \n",
    "            valid_dataset = pd.read_pickle(dataset_valid[1])\n",
    "                        \n",
    "            for (seqs, targets, lengths) in zip(valid_dataset['padded_sequences'], valid_dataset['targets'], valid_dataset['lengths']):\n",
    "                batch_sequences = [torch.LongTensor(seqs[:, i]).to(device)\n",
    "                                       for i in range(len(cat_atrs))]\n",
    "                \n",
    "                batch_sequences.append(torch.FloatTensor(seqs[:, len(cat_atrs):]).to(device))\n",
    "                \n",
    "                \n",
    "                                    \n",
    "                lengths = torch.LongTensor(lengths).to(device)\n",
    "    \n",
    "                _, logits = model(batch_sequences, lengths)\n",
    "    \n",
    "                model_os.append(logits.argmax(axis=-1).detach().cpu().numpy().flatten())\n",
    "                targets_l.append(targets)\n",
    "            \n",
    "#             for batch_t in val_generator:\n",
    "                \n",
    "#                 _, output = model(batch_t['transactions_features'], batch_t['lengths'])\n",
    "#                 metrics.append(f1_score(batch_t['label'].detach().cpu().numpy().flatten(), output.argmax(axis=-1).detach().cpu().numpy().flatten(), average='macro'))\n",
    "                \n",
    "            print('Метрика на тесте', f1_score(np.concatenate(model_os), np.concatenate(targets_l), average='macro'))\n",
    "\n",
    "\n",
    "        batch_loss.backward()\n",
    "        optimizer.step()\n",
    "        optimizer.zero_grad()\n",
    "\n",
    "        running_loss += batch_loss\n",
    "        \n",
    "        if num_batches % print_loss_every_n_batches == 0:\n",
    "            print(f'Training loss after {num_batches} batches: {running_loss / num_batches}', end='\\r')\n",
    "        \n",
    "        num_batches += 1\n",
    "    \n",
    "    print(f'Training loss after epoch: {running_loss / num_batches}', end='\\r')"
   ]
  },
  {
   "cell_type": "code",
   "execution_count": 795,
   "metadata": {},
   "outputs": [],
   "source": [
    "class TransactionsRnn(nn.Module):\n",
    "    def __init__(self, embedding_projections, transaction_features, num_atrs, rnn_units=256, top_classifier_units=32, classes=10):\n",
    "        super(TransactionsRnn, self).__init__()\n",
    "        \n",
    "        self.embedding_projections = {feature:embedding_projections[feature] for feature in transaction_features}\n",
    "                \n",
    "        self._transaction_cat_embeddings = nn.ModuleList([self._create_embedding_projection(*embedding_projections[feature]) \n",
    "                                                          for feature in transaction_features])\n",
    "                                        \n",
    "#         self._gru = nn.GRU(input_size=sum([embedding_projections[x][1] for x in embedding_projections]),\n",
    "#                              hidden_size=rnn_units, batch_first=True, bidirectional=False)\n",
    "\n",
    "        self.transaction_features = transaction_features\n",
    "\n",
    "        self._gru = nn.LSTM(input_size=sum([self.embedding_projections[x][1] for x in self.embedding_projections]) + len(num_atrs),\n",
    "                              hidden_size=rnn_units, batch_first=True, bidirectional=False)\n",
    "        \n",
    "        self._hidden_size = rnn_units\n",
    "                \n",
    "        self._top_classifier = nn.Linear(in_features=rnn_units, \n",
    "                                         out_features=top_classifier_units)\n",
    "        \n",
    "        self._intermediate_activation = nn.ReLU()\n",
    "        \n",
    "        self._head = nn.Linear(in_features=top_classifier_units, out_features=classes)\n",
    "        \n",
    "        self.transaction_atrs = transaction_features\n",
    "        self.num_atrs = num_atrs\n",
    "    \n",
    "    def forward(self, transactions_cat_features, lengths):   \n",
    "        num_vector = transactions_cat_features[len(self.transaction_atrs)].permute(0, 2, 1)\n",
    "        \n",
    "        embeddings = [embedding(transactions_cat_features[i]) for i, embedding in enumerate(self._transaction_cat_embeddings)]\n",
    "        \n",
    "        embeddings.append(num_vector)\n",
    "        \n",
    "        concated_embeddings = torch.cat(embeddings, dim=-1)\n",
    "        \n",
    "#         print(concated_embeddings.shape)\n",
    "        \n",
    "#         print(concated_embeddings.shape)\n",
    "        \n",
    "#         print(concated_embeddings.shape)\n",
    "#         print(concated_embeddings.shape, lengths.shape)\n",
    "        \n",
    "        packed_inputs = torch.nn.utils.rnn.pack_padded_sequence(concated_embeddings, lengths, batch_first=True, enforce_sorted=False)\n",
    "        \n",
    "#         print(concated_embeddings.shape)\n",
    "            \n",
    "        final_hiddens = self._gru(packed_inputs)[1][0]\n",
    "                        \n",
    "        final_hiddens = final_hiddens.view(concated_embeddings.size(0), -1)\n",
    "                                                   \n",
    "        classification_hidden = self._top_classifier(final_hiddens)\n",
    "        activation = self._intermediate_activation(classification_hidden)\n",
    "        \n",
    "        logits = self._head(activation)\n",
    "        \n",
    "        return [final_hiddens, logits]\n",
    "    \n",
    "    @classmethod\n",
    "    def _create_embedding_projection(cls, cardinality, embed_size, padding_idx=0):\n",
    "        # +1 категория other ещё\n",
    "        return nn.Embedding(num_embeddings=cardinality + 1, embedding_dim=embed_size, padding_idx=padding_idx)"
   ]
  },
  {
   "cell_type": "code",
   "execution_count": 705,
   "metadata": {},
   "outputs": [],
   "source": [
    "import torch"
   ]
  },
  {
   "cell_type": "code",
   "execution_count": 706,
   "metadata": {},
   "outputs": [],
   "source": [
    "device = torch.device('cuda' if torch.cuda.is_available() else 'cpu')"
   ]
  },
  {
   "cell_type": "code",
   "execution_count": 707,
   "metadata": {},
   "outputs": [],
   "source": [
    "device = 'cuda'"
   ]
  },
  {
   "cell_type": "code",
   "execution_count": 708,
   "metadata": {},
   "outputs": [],
   "source": [
    "def emb_sz_rule(n_cat:int)->int: return min(600, round(1.6 * n_cat**0.56))\n",
    "\n",
    "embedding_projections = {'target':(10, emb_sz_rule(10)), 'weekday':(7, emb_sz_rule(7)),  'day':(31, emb_sz_rule(31)), 'hour':(24, emb_sz_rule(24)), 'month':(12,emb_sz_rule(12))}"
   ]
  },
  {
   "cell_type": "code",
   "execution_count": 709,
   "metadata": {},
   "outputs": [],
   "source": [
    "steps = 20"
   ]
  },
  {
   "cell_type": "code",
   "execution_count": 710,
   "metadata": {},
   "outputs": [],
   "source": [
    "num_epochs = 200\n",
    "train_batch_size = 512\n",
    "val_batch_szie = 256"
   ]
  },
  {
   "cell_type": "code",
   "execution_count": 711,
   "metadata": {},
   "outputs": [],
   "source": [
    "import numpy as np"
   ]
  },
  {
   "cell_type": "code",
   "execution_count": 712,
   "metadata": {},
   "outputs": [],
   "source": [
    "from sklearn.metrics import f1_score"
   ]
  },
  {
   "cell_type": "code",
   "execution_count": 713,
   "metadata": {},
   "outputs": [],
   "source": [
    "atrs = ['hour', 'target']"
   ]
  },
  {
   "cell_type": "code",
   "execution_count": 714,
   "metadata": {},
   "outputs": [
    {
     "data": {
      "text/plain": [
       "(['hour', 'weekday', 'day', 'target'], ['diff_time_1_0'])"
      ]
     },
     "execution_count": 714,
     "metadata": {},
     "output_type": "execute_result"
    }
   ],
   "source": [
    "cat_atrs, num_atrs"
   ]
  },
  {
   "cell_type": "code",
   "execution_count": 791,
   "metadata": {},
   "outputs": [],
   "source": [
    "model = TransactionsRnn(embedding_projections, cat_atrs, num_atrs)\n",
    "model = model.to(device)\n",
    "\n",
    "SEED = 3\n",
    "\n",
    "optimizer = torch.optim.Adam(lr=1e-3, params=model.parameters())"
   ]
  },
  {
   "cell_type": "code",
   "execution_count": 792,
   "metadata": {},
   "outputs": [
    {
     "data": {
      "text/plain": [
       "TransactionsRnn(\n",
       "  (_transaction_cat_embeddings): ModuleList(\n",
       "    (0): Embedding(25, 9, padding_idx=0)\n",
       "    (1): Embedding(8, 5, padding_idx=0)\n",
       "    (2): Embedding(32, 11, padding_idx=0)\n",
       "    (3): Embedding(11, 6, padding_idx=0)\n",
       "  )\n",
       "  (_gru): LSTM(32, 256, batch_first=True)\n",
       "  (_top_classifier): Linear(in_features=256, out_features=32, bias=True)\n",
       "  (_intermediate_activation): ReLU()\n",
       "  (_head): Linear(in_features=32, out_features=10, bias=True)\n",
       ")"
      ]
     },
     "execution_count": 792,
     "metadata": {},
     "output_type": "execute_result"
    }
   ],
   "source": [
    "model"
   ]
  },
  {
   "cell_type": "code",
   "execution_count": 796,
   "metadata": {},
   "outputs": [
    {
     "name": "stdout",
     "output_type": "stream",
     "text": [
      "Starting epoch 1\n",
      "Метрика на тесте 0.19568330188046457\n",
      "Метрика на тесте 0.30006821727935943353303670883179\n",
      "Метрика на тесте 0.3411202131124661.273321270942688\n",
      "Метрика на тесте 0.3719765706595035.239812970161438\n",
      "Метрика на тесте 0.3748954681767529.2350279092788696\n",
      "Метрика на тесте 0.3828662940343896.235181212425232\n",
      "Метрика на тесте 0.3816790061536331521725594997406\n",
      "Метрика на тесте 0.386750585108706632113021612167358\n",
      "Метрика на тесте 0.384421244622703662048617601394653\n",
      "Метрика на тесте 0.3767046303878807.2004958391189575\n",
      "Метрика на тесте 0.375244172880676242001031637191772\n",
      "Метрика на тесте 0.3961130735423766.197066068649292\n",
      "Метрика на тесте 0.36979034999265725193635106086731\n",
      "Метрика на тесте 0.378148442967063571906646490097046\n",
      "Метрика на тесте 0.3844247971229333.1883398294448853\n",
      "Метрика на тесте 0.35215963491226837188040018081665\n",
      "Метрика на тесте 0.389395719686523031906232833862305\n",
      "Метрика на тесте 0.37844361753350275187757134437561\n",
      "Метрика на тесте 0.3760252312311891.1872063875198364\n",
      "Метрика на тесте 0.381948697573574751829092502593994\n",
      "Starting epoch 2ter epoch: 1.1838767528533936\n",
      "Метрика на тесте 0.3921580400105612\n",
      "Метрика на тесте 0.37921385876512271840847730636597\n",
      "Метрика на тесте 0.380725266028322131593422889709473\n",
      "Метрика на тесте 0.3847750656382348.1480950117111206\n",
      "Метрика на тесте 0.3767253562039329.161088466644287\n",
      "Метрика на тесте 0.3838689742361244.170403003692627\n",
      "Метрика на тесте 0.3834908542157138.1617070436477661\n",
      "Метрика на тесте 0.3927582288089203.1619317531585693\n",
      "Метрика на тесте 0.3818383917796129.1575602293014526\n",
      "Метрика на тесте 0.3676543733473031.1570755243301392\n",
      "Метрика на тесте 0.3747631746128084.1601077318191528\n",
      "Метрика на тесте 0.386155138134416651587759256362915\n",
      "Метрика на тесте 0.37539429491109544157158613204956\n",
      "Метрика на тесте 0.3866000370419853.1570415496826172\n",
      "Метрика на тесте 0.3889431518487308.1564899682998657\n",
      "Метрика на тесте 0.379481356300840461584513187408447\n",
      "Метрика на тесте 0.3837921297552393.1626914739608765\n",
      "Метрика на тесте 0.3706971798152091.16045343875885\n",
      "Метрика на тесте 0.3738693576043116.1602065563201904\n",
      "Метрика на тесте 0.3895191374083449.1582415103912354\n",
      "Starting epoch 3ter epoch: 1.1600826978683472\n",
      "Метрика на тесте 0.3754924275257577\n",
      "Метрика на тесте 0.3634072910501318670790433883667\n",
      "Метрика на тесте 0.3670085308985711.1518162488937378\n",
      "Метрика на тесте 0.3824443222261497.1407972574234009\n",
      "Метрика на тесте 0.3794387487246443.1542165279388428\n",
      "Метрика на тесте 0.3851488519781503.164756178855896\n",
      "Метрика на тесте 0.3819590178948254.1558895111083984\n",
      "Метрика на тесте 0.385050047004980131559770107269287\n",
      "Метрика на тесте 0.3831280579499367.1520767211914062\n",
      "Метрика на тесте 0.381746948978048841533995866775513\n",
      "Метрика на тесте 0.3664849440351881.1586828231811523\n",
      "Метрика на тесте 0.368062029846804531575686931610107\n",
      "Метрика на тесте 0.381448202591568751564605236053467\n",
      "Метрика на тесте 0.3775065892938822.1541686058044434\n",
      "Метрика на тесте 0.3829431921437742.1543724536895752\n",
      "Метрика на тесте 0.377558639846323261562917232513428\n",
      "Метрика на тесте 0.3799471563512041.1603310108184814\n",
      "Метрика на тесте 0.383521476602852461581460237503052\n",
      "Метрика на тесте 0.385334570658777961580575704574585\n",
      "Метрика на тесте 0.384285845014041061552077531814575\n",
      "Starting epoch 4ter epoch: 1.156431794166565\n",
      "Метрика на тесте 0.3789630309068758\n",
      "Метрика на тесте 0.37783310560347283692585945129395\n",
      "Метрика на тесте 0.3818753237939422314382004737854\n",
      "Метрика на тесте 0.383627293214941271418206691741943\n",
      "Метрика на тесте 0.3760344923719779.1566567420959473\n",
      "Метрика на тесте 0.378921628766549831669797897338867\n",
      "Метрика на тесте 0.3801295249769868.1585901975631714\n",
      "Метрика на тесте 0.3710555002389305.1618437767028809\n",
      "Метрика на тесте 0.383889438747412161517506837844849\n",
      "Метрика на тесте 0.3820417027116985.153532862663269\n",
      "Метрика на тесте 0.3793359351928681.1570924520492554\n",
      "Метрика на тесте 0.3839801142483177.1569856405258179\n",
      "Метрика на тесте 0.3797677391954066.154218077659607\n",
      "Метрика на тесте 0.3832500300753697.1528759002685547\n",
      "Метрика на тесте 0.3864711918840592.1529793739318848\n",
      "Метрика на тесте 0.3834356840599717.1540851593017578\n",
      "Метрика на тесте 0.38340814367468357157508373260498\n",
      "Метрика на тесте 0.381368570974270351558129787445068\n",
      "Метрика на тесте 0.390621477267842351558921337127686\n",
      "Метрика на тесте 0.3797928650093891.1524271965026855\n",
      "Starting epoch 5ter epoch: 1.1538512706756592\n",
      "Метрика на тесте 0.36977625592241453\n",
      "Метрика на тесте 0.37723389825933457782641410827637\n",
      "Метрика на тесте 0.3786954500263026.1506043672561646\n",
      "Метрика на тесте 0.3608788646251579.1408028602600098\n",
      "Метрика на тесте 0.378702201415785761502459049224854\n",
      "Метрика на тесте 0.38060956023368947162592887878418\n",
      "Метрика на тесте 0.368097924835906251549608707427979\n",
      "Метрика на тесте 0.3754107700346704.1551768779754639\n",
      "Метрика на тесте 0.372599993006432151514471769332886\n",
      "Метрика на тесте 0.3818947416545907.1501436233520508\n",
      "Метрика на тесте 0.3731676808725939.1521482467651367\n",
      "Метрика на тесте 0.379440772413489561520582437515259\n",
      "Метрика на тесте 0.3727279415945267.1507246494293213\n",
      "Метрика на тесте 0.3734087826988734.1501697301864624\n",
      "Метрика на тесте 0.385177709931213141496045589447021\n",
      "Метрика на тесте 0.365521075018279741505581140518188\n",
      "Метрика на тесте 0.377011572023403131550734043121338\n",
      "Метрика на тесте 0.3790252672577588.1526241302490234\n",
      "Метрика на тесте 0.3781326710598317.1524438858032227\n",
      "Метрика на тесте 0.3783927502745942.1499426364898682\n",
      "Starting epoch 6ter epoch: 1.1514073610305786\n",
      "Метрика на тесте 0.3800444188471548\n",
      "Метрика на тесте 0.377305621836143.1682747602462769\n",
      "Метрика на тесте 0.3797694461145884.1439696550369263\n",
      "Метрика на тесте 0.38101578119445373134055256843567\n",
      "Метрика на тесте 0.376399907597519961467490196228027\n",
      "Метрика на тесте 0.382267592879141251548258066177368\n",
      "Метрика на тесте 0.380871427401421661472277641296387\n",
      "Метрика на тесте 0.3764441634742558.1503976583480835\n",
      "Метрика на тесте 0.3722914174855503.1476415395736694\n",
      "Метрика на тесте 0.36584912998520724147413969039917\n",
      "Метрика на тесте 0.382328734469454261507436037063599\n",
      "Метрика на тесте 0.3774277512092147.148795485496521\n",
      "Метрика на тесте 0.3814973588805214.1476223468780518\n",
      "Метрика на тесте 0.3763999535843721.1460816860198975\n",
      "Метрика на тесте 0.37955223276883465145775318145752\n",
      "Метрика на тесте 0.381789734143090141477012634277344\n",
      "Метрика на тесте 0.3917921560526819.1518453359603882\n",
      "Метрика на тесте 0.3903866102046723.1500681638717651\n",
      "Метрика на тесте 0.3807946109284105.150416612625122\n",
      "Метрика на тесте 0.3882240628331751.1475093364715576\n",
      "Starting epoch 7ter epoch: 1.1491016149520874\n",
      "Метрика на тесте 0.3765352634209745\n",
      "Метрика на тесте 0.3713594914548408160285234451294\n",
      "Метрика на тесте 0.38136534671741207138701319694519\n",
      "Метрика на тесте 0.371621071275516361285631656646729\n",
      "Метрика на тесте 0.3808061478778236.140876293182373\n",
      "Метрика на тесте 0.3742598215562548.1525059938430786\n",
      "Метрика на тесте 0.384640043598347361436340808868408\n",
      "Метрика на тесте 0.374462709741202661439170837402344\n",
      "Метрика на тесте 0.3796659961797225.141446828842163\n",
      "Метрика на тесте 0.383011613274067461412817239761353\n",
      "Метрика на тесте 0.369409092688594731447635889053345\n",
      "Метрика на тесте 0.377351761037020671449565887451172\n",
      "Метрика на тесте 0.386755262809040551432541608810425\n",
      "Метрика на тесте 0.377604115570398361425491571426392\n",
      "Метрика на тесте 0.386782238512516251424845457077026\n",
      "Метрика на тесте 0.3835946411987773.144301176071167\n",
      "Метрика на тесте 0.3785221794293746.1486941576004028\n",
      "Метрика на тесте 0.3635874460943953614728844165802\n",
      "Метрика на тесте 0.3688329482942038.1481525897979736\n",
      "Метрика на тесте 0.3720024536152373.1450588703155518\n",
      "Starting epoch 8ter epoch: 1.1465739011764526\n",
      "Метрика на тесте 0.378962389400981\n",
      "Метрика на тесте 0.37345754816752885579598188400269\n",
      "Метрика на тесте 0.3762225392365107.1320512294769287\n",
      "Метрика на тесте 0.37598798366399644127855896949768\n",
      "Метрика на тесте 0.3677991288569861.1419285535812378\n",
      "Метрика на тесте 0.3750165653261663.151652216911316\n",
      "Метрика на тесте 0.379740206738315771445480585098267\n",
      "Метрика на тесте 0.38726312544193925147971272468567\n",
      "Метрика на тесте 0.3670048540704772.139126181602478\n",
      "Метрика на тесте 0.372478691975634051400501728057861\n",
      "Метрика на тесте 0.3787341162867974.1441243886947632\n",
      "Метрика на тесте 0.3727496198870273.1440907716751099\n",
      "Метрика на тесте 0.3830730270207863.141334056854248\n",
      "Метрика на тесте 0.383548844232992351410071849822998\n",
      "Метрика на тесте 0.380151177668288541412405967712402\n",
      "Метрика на тесте 0.3723993855082514.1423039436340332\n",
      "Метрика на тесте 0.3793314229238346.1460886001586914\n",
      "Метрика на тесте 0.372373175536813041440461874008179\n",
      "Метрика на тесте 0.3743505586415521.144073247909546\n",
      "Метрика на тесте 0.3723184568616317.1422574520111084\n",
      "Starting epoch 9ter epoch: 1.1440811157226562\n",
      "Метрика на тесте 0.3694401443449786\n",
      "Метрика на тесте 0.37611334312834751640018224716187\n",
      "Метрика на тесте 0.3688228783694542.140049695968628\n",
      "Метрика на тесте 0.3694139382630396.1276823282241821\n",
      "Метрика на тесте 0.376000458110264171395045518875122\n",
      "Метрика на тесте 0.3742806555134853.1487995386123657\n",
      "Метрика на тесте 0.369863975423928461404647827148438\n",
      "Метрика на тесте 0.3734360931856081.1413911581039429\n",
      "Метрика на тесте 0.3730447649398708.1382379531860352\n",
      "Метрика на тесте 0.379141593503841131386560201644897\n",
      "Метрика на тесте 0.365548645617632451434272527694702\n",
      "Метрика на тесте 0.371743008829139631427388191223145\n",
      "Метрика на тесте 0.375845056946204961419758796691895\n",
      "Метрика на тесте 0.3739488180681629.1394281387329102\n",
      "Метрика на тесте 0.377452586468228271391618251800537\n",
      "Метрика на тесте 0.3759859016454708.1407843828201294\n",
      "Метрика на тесте 0.3758280299853355.1447664499282837\n",
      "Метрика на тесте 0.3788005311080114.142858862876892\n",
      "Метрика на тесте 0.3744976957831618.142967700958252\n",
      "Метрика на тесте 0.376549988057779671402392387390137\n",
      "Starting epoch 10er epoch: 1.1415032148361206\n",
      "Метрика на тесте 0.37442636414012165\n",
      "Метрика на тесте 0.37261688536840391563564538955688\n",
      "Метрика на тесте 0.3807874592399011.1336888074874878\n",
      "Метрика на тесте 0.368244795551193941256953477859497\n",
      "Метрика на тесте 0.3631523190989135.1391597986221313\n",
      "Метрика на тесте 0.3763053222502414.1504746675491333\n",
      "Метрика на тесте 0.381521600733035151420109272003174\n",
      "Метрика на тесте 0.3771299239546771.1428660154342651\n",
      "Метрика на тесте 0.3719436793014715.1372077465057373\n",
      "Метрика на тесте 0.3784749478954318.1380079984664917\n",
      "Метрика на тесте 0.3751427802065445.1405065059661865\n",
      "Метрика на тесте 0.37001180689380464138883113861084\n",
      "Метрика на тесте 0.374822024182114631375627517700195\n",
      "Метрика на тесте 0.3793203399685456.1367276906967163\n",
      "Метрика на тесте 0.3781266286928785.1364161968231201\n",
      "Метрика на тесте 0.379750529778033141379327774047852\n",
      "Метрика на тесте 0.3752058800910256.1420490741729736\n",
      "Метрика на тесте 0.3678524315523644.1405816078186035\n",
      "Метрика на тесте 0.3802661471705231.1408030986785889\n",
      "Метрика на тесте 0.371500315899017441374884843826294\n",
      "Starting epoch 11er epoch: 1.1389235258102417\n",
      "Метрика на тесте 0.370063595591341\n",
      "Метрика на тесте 0.36640201226716051496301889419556\n",
      "Метрика на тесте 0.366012037999084441256815195083618\n",
      "Метрика на тесте 0.3767193055961815.120605230331421\n",
      "Метрика на тесте 0.375107101631817541313591003417969\n",
      "Метрика на тесте 0.369829235656085331436773538589478\n",
      "Метрика на тесте 0.373226383181093361370657682418823\n",
      "Метрика на тесте 0.372499948789061231380609273910522\n",
      "Метрика на тесте 0.376637629315978441333297491073608\n",
      "Метрика на тесте 0.3770250635264064.1333823204040527\n",
      "Метрика на тесте 0.3750770145786044.135791540145874\n",
      "Метрика на тесте 0.371196317183393351361206769943237\n",
      "Метрика на тесте 0.3844899529194743.1342090368270874\n",
      "Метрика на тесте 0.37442216419363084133528232574463\n",
      "Метрика на тесте 0.381932193502184051333482265472412\n",
      "Метрика на тесте 0.378953053468103761348538398742676\n",
      "Метрика на тесте 0.376525681321123961395936012268066\n",
      "Метрика на тесте 0.376200080464886571373517513275146\n",
      "Метрика на тесте 0.3702798765104095.1372029781341553\n",
      "Метрика на тесте 0.3748440390794273.134880781173706\n",
      "Starting epoch 12er epoch: 1.136418104171753\n",
      "Метрика на тесте 0.3706598015439392\n",
      "Метрика на тесте 0.36768763313475231462676525115967\n",
      "Метрика на тесте 0.3764930964805888.117902398109436\n",
      "Метрика на тесте 0.378000383264424531148792505264282\n",
      "Метрика на тесте 0.379810826077160431291420459747314\n",
      "Метрика на тесте 0.372215502188999961391236782073975\n",
      "Метрика на тесте 0.3656373523033168.1315885782241821\n",
      "Метрика на тесте 0.372031864318517371339356899261475\n",
      "Метрика на тесте 0.3600225205438281.129372239112854\n",
      "Метрика на тесте 0.3690042040728854.1313090324401855\n",
      "Метрика на тесте 0.3708079890626461.1347076892852783\n",
      "Метрика на тесте 0.370723412492601431345446109771729\n",
      "Метрика на тесте 0.376790268630052161324704885482788\n",
      "Метрика на тесте 0.3693471701345392.1306679248809814\n",
      "Метрика на тесте 0.3787981190491524.131149172782898\n",
      "Метрика на тесте 0.3738967377434753.1324669122695923\n",
      "Метрика на тесте 0.3820438970132245.1362366676330566\n",
      "Метрика на тесте 0.38425289742400565134673833847046\n",
      "Метрика на тесте 0.3696814395211701.1350942850112915\n",
      "Метрика на тесте 0.379141556835356051322510242462158\n",
      "Starting epoch 13er epoch: 1.1338653564453125\n",
      "Метрика на тесте 0.37180422789647305\n",
      "Метрика на тесте 0.36508609803005854529453992843628\n",
      "Метрика на тесте 0.37280559206535624126410722732544\n",
      "Метрика на тесте 0.3737833793588218.115509033203125\n",
      "Метрика на тесте 0.364969494008464351268260478973389\n",
      "Метрика на тесте 0.3688019944525488.1376495361328125\n",
      "Метрика на тесте 0.3758949359240445.1286829710006714\n",
      "Метрика на тесте 0.372500249692249431292825937271118\n",
      "Метрика на тесте 0.3702885754454449.1268310546875\n",
      "Метрика на тесте 0.36939662708211024126408576965332\n",
      "Метрика на тесте 0.369463586395091641290760040283203\n",
      "Метрика на тесте 0.371805924727436341296018362045288\n",
      "Метрика на тесте 0.3733564885093793.1285290718078613\n",
      "Метрика на тесте 0.3683970175684468.1281325817108154\n",
      "Метрика на тесте 0.377644218796326261275917291641235\n",
      "Метрика на тесте 0.371347407773639451289814710617065\n",
      "Метрика на тесте 0.3751116632458996.133461356163025\n",
      "Метрика на тесте 0.3689948026462478.1320984363555908\n",
      "Метрика на тесте 0.367578718241210471330033540725708\n",
      "Метрика на тесте 0.3672619551296057.130104899406433\n",
      "Starting epoch 14er epoch: 1.1316436529159546\n",
      "Метрика на тесте 0.3779335149809868\n",
      "Метрика на тесте 0.37225816164965664471478939056396\n",
      "Метрика на тесте 0.3744806094589369.1250256299972534\n",
      "Метрика на тесте 0.3691652140256033.1145230531692505\n",
      "Метрика на тесте 0.367063294584275561267341375350952\n",
      "Метрика на тесте 0.369123770499110051369884014129639\n",
      "Метрика на тесте 0.3669069512170945.1293071508407593\n",
      "Метрика на тесте 0.365302044862038771296204328536987\n",
      "Метрика на тесте 0.37487757131867366125182867050171\n",
      "Метрика на тесте 0.3660226857957558.1253840923309326\n",
      "Метрика на тесте 0.36542887904136945128596305847168\n",
      "Метрика на тесте 0.3693619348131037.1274230480194092\n",
      "Метрика на тесте 0.3752926318761191.1260572671890259\n",
      "Метрика на тесте 0.368780420093222151260286569595337\n",
      "Метрика на тесте 0.36927574049008677125766396522522\n",
      "Метрика на тесте 0.3761251665673534.127262830734253\n",
      "Метрика на тесте 0.3739685774117413.1314847469329834\n",
      "Метрика на тесте 0.366042989812862761294620037078857\n",
      "Метрика на тесте 0.369776203111704061296098232269287\n",
      "Метрика на тесте 0.3687346013520501.1278365850448608\n",
      "Starting epoch 15er epoch: 1.129515528678894\n",
      "Метрика на тесте 0.3659859712538238\n",
      "Метрика на тесте 0.364676050205257064169180393219\n",
      "Метрика на тесте 0.3706073669325693.1200748682022095\n",
      "Метрика на тесте 0.371951827248091341114073991775513\n",
      "Метрика на тесте 0.3709559237687849.1241264343261719\n",
      "Метрика на тесте 0.367538858297811131341673135757446\n",
      "Метрика на тесте 0.37314971122450374125457763671875\n",
      "Метрика на тесте 0.3716545924265347.1260223388671875\n",
      "Метрика на тесте 0.3637380337318377.1225007772445679\n",
      "Метрика на тесте 0.352929676058148341237112283706665\n",
      "Метрика на тесте 0.356521235593415751284515857696533\n",
      "Метрика на тесте 0.3604236002773572.1279109716415405\n",
      "Метрика на тесте 0.3804735270347043.1265902519226074\n",
      "Метрика на тесте 0.3715356117574404.1241244077682495\n",
      "Метрика на тесте 0.375647750659386941243600845336914\n",
      "Метрика на тесте 0.3810766618904716.1265003681182861\n",
      "Метрика на тесте 0.3788069657775571.130670428276062\n",
      "Метрика на тесте 0.3787001605756123.1288518905639648\n",
      "Метрика на тесте 0.37217567741119006128970742225647\n",
      "Метрика на тесте 0.3710896732317638.1262857913970947\n",
      "Starting epoch 16er epoch: 1.1275252103805542\n",
      "Метрика на тесте 0.37564582537002855\n",
      "Метрика на тесте 0.36343276246252854383146047592163\n",
      "Метрика на тесте 0.3677591378792652.1125468015670776\n",
      "Метрика на тесте 0.366972820376390341112886667251587\n",
      "Метрика на тесте 0.366798743752857041244118213653564\n",
      "Метрика на тесте 0.37119120827243346135955810546875\n",
      "Метрика на тесте 0.367413333836259851281052827835083\n",
      "Метрика на тесте 0.3663247720588657.1318119764328003\n",
      "Метрика на тесте 0.36811699174855966122125267982483\n",
      "Метрика на тесте 0.365266075662179831253615617752075\n",
      "Метрика на тесте 0.3681992284178793.1295745372772217\n",
      "Метрика на тесте 0.3650708197361543.1300315856933594\n",
      "Метрика на тесте 0.36559987461349985127898097038269\n",
      "Метрика на тесте 0.3696108734474279.1274712085723877\n",
      "Метрика на тесте 0.36814123176919455128137469291687\n",
      "Метрика на тесте 0.3654565618594022.1295140981674194\n",
      "Метрика на тесте 0.367238075255303831333051919937134\n",
      "Метрика на тесте 0.369226767448236241320583820343018\n",
      "Метрика на тесте 0.3710932467586875.1323466300964355\n",
      "Метрика на тесте 0.367764803064358771291612386703491\n",
      "Starting epoch 17er epoch: 1.1306073665618896\n",
      "Метрика на тесте 0.3682358496307455\n",
      "Метрика на тесте 0.3677686155993017457716155052185\n",
      "Метрика на тесте 0.362104057916472431310272216796875\n",
      "Метрика на тесте 0.3548763134187335.1222797632217407\n",
      "Метрика на тесте 0.3678892186554833.1303424835205078\n",
      "Метрика на тесте 0.36783763198737623140143632888794\n",
      "Метрика на тесте 0.3562055358121848.1315560340881348\n",
      "Метрика на тесте 0.370903066727898251312750577926636\n",
      "Метрика на тесте 0.3693441099027525.1269394159317017\n",
      "Метрика на тесте 0.3662407836147781.1262270212173462\n",
      "Метрика на тесте 0.3731046745445476.1281845569610596\n",
      "Метрика на тесте 0.3657356542692971.1287155151367188\n",
      "Метрика на тесте 0.3713229945981986.1275553703308105\n",
      "Метрика на тесте 0.366899346850960761272588968276978\n",
      "Метрика на тесте 0.373752519780254871265865564346313\n",
      "Метрика на тесте 0.370850666077453261268128156661987\n",
      "Метрика на тесте 0.3705982305994133.130748987197876\n",
      "Метрика на тесте 0.36709046293634395127611756324768\n",
      "Метрика на тесте 0.369771671846807041269134283065796\n",
      "Метрика на тесте 0.369945197340498131246522665023804\n",
      "Starting epoch 18er epoch: 1.1261969804763794\n",
      "Метрика на тесте 0.364979017882932\n",
      "Метрика на тесте 0.36477092293605834478909254074097\n",
      "Метрика на тесте 0.3685694811414431.1235849857330322\n",
      "Метрика на тесте 0.367276976363515031135228872299194\n",
      "Метрика на тесте 0.3694716660760827.1246552467346191\n",
      "Метрика на тесте 0.3656835069207018.1321277618408203\n",
      "Метрика на тесте 0.3744798792991954.1244049072265625\n",
      "Метрика на тесте 0.3709668693796448.1259082555770874\n",
      "Метрика на тесте 0.361907343556283351222368478775024\n",
      "Метрика на тесте 0.356211575279783141224298477172852\n",
      "Метрика на тесте 0.3677783516960702.1258217096328735\n",
      "Метрика на тесте 0.3729589476844601.124264121055603\n",
      "Метрика на тесте 0.3773596220800581.1232441663742065\n",
      "Метрика на тесте 0.361563719527462861212437152862549\n",
      "Метрика на тесте 0.372717832647467441210079193115234\n",
      "Метрика на тесте 0.3704267909412687.1230143308639526\n",
      "Метрика на тесте 0.383031212321016331271942853927612\n",
      "Метрика на тесте 0.372500153109019461256235837936401\n",
      "Метрика на тесте 0.367682706979982571262903213500977\n",
      "Метрика на тесте 0.3763585655555359.123560905456543\n",
      "Starting epoch 19er epoch: 1.1252226829528809\n",
      "Метрика на тесте 0.36822949596459903\n",
      "Метрика на тесте 0.3675487815329574543771767616272\n",
      "Метрика на тесте 0.3753232428828846.120531678199768\n",
      "Метрика на тесте 0.366604780746238761111305952072144\n",
      "Метрика на тесте 0.3684907523900264.1227058172225952\n",
      "Метрика на тесте 0.368131078656059041337735652923584\n",
      "Метрика на тесте 0.376374860363425931256561279296875\n",
      "Метрика на тесте 0.3667901097596262.1257221698760986\n",
      "Метрика на тесте 0.37546406826872075122990608215332\n",
      "Метрика на тесте 0.3734728597773631.1225438117980957\n",
      "Метрика на тесте 0.365242614651258241253981590270996\n",
      "Метрика на тесте 0.36332739980193 1.1247897148132324\n",
      "Метрика на тесте 0.37239305244379095122146487236023\n",
      "Метрика на тесте 0.371082262638608551211317777633667\n",
      "Метрика на тесте 0.3724855027853241.1208773851394653\n",
      "Метрика на тесте 0.377597187845386041229554414749146\n",
      "Метрика на тесте 0.371280739434738771273777484893799\n",
      "Метрика на тесте 0.3644307682139037.125444769859314\n",
      "Метрика на тесте 0.3655582291463694.1259504556655884\n",
      "Метрика на тесте 0.367086049645019561228115558624268\n",
      "Starting epoch 20er epoch: 1.1241050958633423\n",
      "Метрика на тесте 0.3731284579006487\n",
      "Метрика на тесте 0.3634100927672324628740668296814\n",
      "Метрика на тесте 0.3662587529934063.102644681930542\n",
      "Метрика на тесте 0.3723697245209102.1020867824554443\n",
      "Метрика на тесте 0.36753174431067986116557002067566\n",
      "Метрика на тесте 0.370483266337649551270302534103394\n",
      "Метрика на тесте 0.36683835491523753121016502380371\n",
      "Метрика на тесте 0.3795307978774671.1249762773513794\n",
      "Метрика на тесте 0.3654380705021921.116800308227539\n",
      "Метрика на тесте 0.3682139544297101.1178351640701294\n",
      "Метрика на тесте 0.365545737770487271217371225357056\n",
      "Метрика на тесте 0.3571748167317615.1219736337661743\n",
      "Метрика на тесте 0.3754518134922371.1193653345108032\n",
      "Метрика на тесте 0.3705373558081944.1195664405822754\n",
      "Метрика на тесте 0.3718699423200708.1202452182769775\n",
      "Метрика на тесте 0.3600109943556763.1213985681533813\n",
      "Метрика на тесте 0.36760564470802554125312328338623\n",
      "Метрика на тесте 0.3650774675037441.1234248876571655\n",
      "Метрика на тесте 0.3694588252666729.1235889196395874\n",
      "Метрика на тесте 0.370671588435706251216825246810913\n",
      "Starting epoch 21er epoch: 1.1232327222824097\n",
      "Метрика на тесте 0.36257257084359396\n",
      "Метрика на тесте 0.360480240582993.1454648971557617\n",
      "Метрика на тесте 0.368675356591774141198688745498657\n",
      "Метрика на тесте 0.369577668135601441086727380752563\n",
      "Метрика на тесте 0.3741762266047752.1197278499603271\n",
      "Метрика на тесте 0.36487708715100464129372000694275\n",
      "Метрика на тесте 0.361843752909384251211919784545898\n",
      "Метрика на тесте 0.3613321900782797.12227201461792\n",
      "Метрика на тесте 0.3665029542319112.119276762008667\n",
      "Метрика на тесте 0.371760762829568161188620328903198\n",
      "Метрика на тесте 0.3646983175998767.1230087280273438\n",
      "Метрика на тесте 0.3654108732975277.122963547706604\n",
      "Метрика на тесте 0.373394535454762871223323345184326\n",
      "Метрика на тесте 0.3620923380515334.1199125051498413\n",
      "Метрика на тесте 0.3761280028640678.1196309328079224\n",
      "Метрика на тесте 0.364660824862440561210044622421265\n",
      "Метрика на тесте 0.372345964561361931248726844787598\n",
      "Метрика на тесте 0.3742090911735363.1232680082321167\n",
      "Метрика на тесте 0.3757271238568839.123508095741272\n",
      "Метрика на тесте 0.365979314974346771208916902542114\n",
      "Starting epoch 22er epoch: 1.122150182723999\n",
      "Метрика на тесте 0.3713598653659277\n",
      "Метрика на тесте 0.35933261437089953419981718063354\n",
      "Метрика на тесте 0.37013277227092345118045687675476\n",
      "Метрика на тесте 0.366657132552587751085807085037231\n",
      "Метрика на тесте 0.365115009963904451203991174697876\n",
      "Метрика на тесте 0.3718872710673322.1318970918655396\n",
      "Метрика на тесте 0.371454710094630161240569353103638\n",
      "Метрика на тесте 0.366987582159077561251157522201538\n",
      "Метрика на тесте 0.3731980208940693.11965012550354\n",
      "Метрика на тесте 0.3758488612974733.1209182739257812\n",
      "Метрика на тесте 0.3676350112802531.123316764831543\n",
      "Метрика на тесте 0.3696067722912829.1218459606170654\n",
      "Метрика на тесте 0.372391179908786561204615831375122\n",
      "Метрика на тесте 0.3705858400836324.1192265748977661\n",
      "Метрика на тесте 0.374910250024230451188862323760986\n",
      "Метрика на тесте 0.3813490796384177.1205518245697021\n",
      "Метрика на тесте 0.371177919077530061247081756591797\n",
      "Метрика на тесте 0.362041024457267551233829259872437\n",
      "Метрика на тесте 0.3771471745813071.1235816478729248\n",
      "Метрика на тесте 0.3666212188833211.120401382446289\n",
      "Starting epoch 23er epoch: 1.121872067451477\n",
      "Метрика на тесте 0.37015252295172474\n",
      "Метрика на тесте 0.35608674272071694354341506958008\n",
      "Метрика на тесте 0.363765608486326441103177070617676\n",
      "Метрика на тесте 0.370969851684402831057319641113281\n",
      "Метрика на тесте 0.3659567978873709.1156024932861328\n",
      "Метрика на тесте 0.364350604064125671263771057128906\n",
      "Метрика на тесте 0.3652078212516351.1194486618041992\n",
      "Метрика на тесте 0.366321092177477941206648349761963\n",
      "Метрика на тесте 0.3747797565697074.116660714149475\n",
      "Метрика на тесте 0.375452470583847061170361042022705\n",
      "Метрика на тесте 0.3674311040667125.1194186210632324\n",
      "Метрика на тесте 0.36769912478226285119579792022705\n",
      "Метрика на тесте 0.3679020524745451.1175408363342285\n",
      "Метрика на тесте 0.3738993218317218.1170921325683594\n",
      "Метрика на тесте 0.369456100914314971172008514404297\n",
      "Метрика на тесте 0.3769119139146161.1188325881958008\n",
      "Метрика на тесте 0.365596674256426171236265897750854\n",
      "Метрика на тесте 0.3685883836640871.1214748620986938\n",
      "Метрика на тесте 0.36748169404877257121348261833191\n",
      "Метрика на тесте 0.3690729563927211.1191495656967163\n",
      "Starting epoch 24er epoch: 1.1207479238510132\n",
      "Метрика на тесте 0.36953436715399396\n",
      "Метрика на тесте 0.3672954988635198632883906364441\n",
      "Метрика на тесте 0.3637164790710874.1027445793151855\n",
      "Метрика на тесте 0.3739981573222418.1008803844451904\n",
      "Метрика на тесте 0.3699555167178031.1149569749832153\n",
      "Метрика на тесте 0.365457754989941151245824098587036\n",
      "Метрика на тесте 0.3597905585758491.1171231269836426\n",
      "Метрика на тесте 0.3693995856546556.118415355682373\n",
      "Метрика на тесте 0.355274828867066351138759851455688\n",
      "Метрика на тесте 0.3680208737455313.1160775423049927\n",
      "Метрика на тесте 0.3733078608254172.1195087432861328\n",
      "Метрика на тесте 0.3701735509869637.1197106838226318\n",
      "Метрика на тесте 0.373553051592872661177728176116943\n",
      "Метрика на тесте 0.3667341983252962.116174578666687\n",
      "Метрика на тесте 0.37629552379480036116837739944458\n",
      "Метрика на тесте 0.3746288519634825.1182565689086914\n",
      "Метрика на тесте 0.38008440119791154122005581855774\n",
      "Метрика на тесте 0.3703938164345328.1207940578460693\n",
      "Метрика на тесте 0.366294121974305331218825578689575\n",
      "Метрика на тесте 0.374173653024835961196112632751465\n",
      "Starting epoch 25er epoch: 1.1215550899505615\n",
      "Метрика на тесте 0.36718516801757717\n",
      "Метрика на тесте 0.36256411776385866535428762435913\n",
      "Метрика на тесте 0.3749215404214231.128372311592102\n",
      "Метрика на тесте 0.373951868509413531173765659332275\n",
      "Метрика на тесте 0.36780310353415363128496766090393\n",
      "Метрика на тесте 0.3724921314785468.1389116048812866\n",
      "Метрика на тесте 0.373501268789447951299291849136353\n",
      "Метрика на тесте 0.3723001487569328.1302481889724731\n",
      "Метрика на тесте 0.3688498814809681.1277693510055542\n",
      "Метрика на тесте 0.369560827372727661277011632919312\n",
      "Метрика на тесте 0.3768913369784771.1305445432662964\n",
      "Метрика на тесте 0.3699914030323111.1305134296417236\n",
      "Метрика на тесте 0.3733299433947523.1288868188858032\n",
      "Метрика на тесте 0.361859935955291261279264688491821\n",
      "Метрика на тесте 0.369385202024039071269444227218628\n",
      "Метрика на тесте 0.3704367568399064.1279404163360596\n",
      "Метрика на тесте 0.372283966805906251320596933364868\n",
      "Метрика на тесте 0.371693294384263631303226947784424\n",
      "Метрика на тесте 0.3620408331999298.1309922933578491\n",
      "Метрика на тесте 0.3658681038864916.1278377771377563\n",
      "Starting epoch 26er epoch: 1.1290305852890015\n",
      "Метрика на тесте 0.3710103825655671\n",
      "Метрика на тесте 0.369285928198793.1444532871246338\n",
      "Метрика на тесте 0.3727643085228008.1225786209106445\n",
      "Метрика на тесте 0.3669726165185133.113991141319275\n",
      "Метрика на тесте 0.36625952958166863127180814743042\n",
      "Метрика на тесте 0.365625108857032751363921165466309\n",
      "Метрика на тесте 0.3631655610581417.1282202005386353\n",
      "Метрика на тесте 0.372565901297968571283074617385864\n",
      "Метрика на тесте 0.3773287016792487612356698513031\n",
      "Метрика на тесте 0.366603503449771551236296892166138\n",
      "Метрика на тесте 0.3687778368712958.125717282295227\n",
      "Метрика на тесте 0.3650187820004152.1237670183181763\n",
      "Метрика на тесте 0.374104685518282961217211484909058\n",
      "Метрика на тесте 0.3671922408780962.1212621927261353\n",
      "Метрика на тесте 0.3669503123511245.1206177473068237\n",
      "Метрика на тесте 0.374978563950331361217352151870728\n",
      "Метрика на тесте 0.36506260450071487125534176826477\n",
      "Метрика на тесте 0.365156520117852271232280731201172\n",
      "Метрика на тесте 0.3665760589125861.123044490814209\n",
      "Метрика на тесте 0.368288203063220741207762956619263\n",
      "Starting epoch 27er epoch: 1.1221342086791992\n",
      "Метрика на тесте 0.3636348818266718\n",
      "Метрика на тесте 0.36593933278841891322559118270874\n",
      "Метрика на тесте 0.367364275685616751094027757644653\n",
      "Метрика на тесте 0.3671408983307862.1026463508605957\n",
      "Метрика на тесте 0.3572389523207925.1161614656448364\n",
      "Метрика на тесте 0.3697557120824881.1286466121673584\n",
      "Метрика на тесте 0.372543827416124241210922002792358\n",
      "Метрика на тесте 0.373052981231838331215403079986572\n",
      "Метрика на тесте 0.3676859649845601.1179136037826538\n",
      "Метрика на тесте 0.3603368495892341.1182663440704346\n",
      "Метрика на тесте 0.3633321746622796.1222385168075562\n",
      "Метрика на тесте 0.3626719902245331.1214513778686523\n",
      "Метрика на тесте 0.372887113435969141198798418045044\n",
      "Метрика на тесте 0.360264934646776561206262111663818\n",
      "Метрика на тесте 0.3645162138901594.1246271133422852\n",
      "Метрика на тесте 0.3638202379152562.1303437948226929\n",
      "Метрика на тесте 0.3634982790608521.1374210119247437\n",
      "Метрика на тесте 0.36567093204607104138316035270691\n",
      "Метрика на тесте 0.364299972123030841407212018966675\n",
      "Метрика на тесте 0.364940829593108531403533220291138\n",
      "Starting epoch 28er epoch: 1.142580509185791\n",
      "Метрика на тесте 0.3627540506904231\n",
      "Метрика на тесте 0.35073209426930831874487400054932\n",
      "Метрика на тесте 0.3544932407091196.1654486656188965\n",
      "Метрика на тесте 0.36375500430161 1.1646044254302979\n",
      "Метрика на тесте 0.3572222895165907.1780178546905518\n",
      "Метрика на тесте 0.3676779953845631.187523603439331\n",
      "Метрика на тесте 0.364742162723083961802245378494263\n",
      "Метрика на тесте 0.3610984900712885.1839685440063477\n",
      "Метрика на тесте 0.3618883796919021.1749839782714844\n",
      "Метрика на тесте 0.3632401612555104.1772613525390625\n",
      "Метрика на тесте 0.3662046090214755.1806946992874146\n",
      "Метрика на тесте 0.3671522302493312.1807301044464111\n",
      "Метрика на тесте 0.360198799321386151781947612762451\n",
      "Метрика на тесте 0.359424301187187271772246360778809\n",
      "Метрика на тесте 0.3629862742493366.1773996353149414\n",
      "Метрика на тесте 0.365853123089750931782797574996948\n",
      "Метрика на тесте 0.3654093755553354.1814957857131958\n",
      "Метрика на тесте 0.3696513124951243.1801767349243164\n",
      "Метрика на тесте 0.3732510322284458.180276870727539\n",
      "Метрика на тесте 0.3696389998681308.177173137664795\n",
      "Starting epoch 29er epoch: 1.1784437894821167\n",
      "Метрика на тесте 0.36390392138413863\n",
      "Метрика на тесте 0.367927960927264.2067372798919678\n",
      "Метрика на тесте 0.3583034021125778.179962158203125\n",
      "Метрика на тесте 0.3595844577313258.1718895435333252\n",
      "Метрика на тесте 0.36938662330263583180051326751709\n",
      "Метрика на тесте 0.361567753995022831903413534164429\n",
      "Метрика на тесте 0.36123276991660314183289885520935\n",
      "Метрика на тесте 0.363549470648122261833176612854004\n",
      "Метрика на тесте 0.3592905287912044.179481863975525\n",
      "Метрика на тесте 0.36288333228025177178478479385376\n",
      "Метрика на тесте 0.3628605379152209.1801915168762207\n",
      "Метрика на тесте 0.353293530635857061801553964614868\n",
      "Метрика на тесте 0.35821283351800737178981065750122\n",
      "Метрика на тесте 0.361913797923012541785284280776978\n",
      "Метрика на тесте 0.3664246439615531.1778714656829834\n",
      "Метрика на тесте 0.347788107776529131784805059432983\n",
      "Метрика на тесте 0.35979559664986727182684063911438\n",
      "Метрика на тесте 0.362564781871230151805694103240967\n",
      "Метрика на тесте 0.3628458924901505.1802849769592285\n",
      "Метрика на тесте 0.3673222812302182.1781220436096191\n",
      "Starting epoch 30er epoch: 1.179467797279358\n",
      "Метрика на тесте 0.3663032656954934\n",
      "Метрика на тесте 0.36149743693137604962523460388184\n",
      "Метрика на тесте 0.3575249205791375.175060749053955\n",
      "Метрика на тесте 0.3588754734562115.1661159992218018\n",
      "Метрика на тесте 0.3594776093800896.1776413917541504\n",
      "Метрика на тесте 0.3642876799778355.1850513219833374\n",
      "Метрика на тесте 0.3754591698951735.178646445274353\n",
      "Метрика на тесте 0.3748211079007866.181140422821045\n",
      "Метрика на тесте 0.3700719971731421.1784076690673828\n",
      "Метрика на тесте 0.3635847590650666.1784766912460327\n",
      "Метрика на тесте 0.363398288992666961814160346984863\n",
      "Метрика на тесте 0.3689033574949137.1794430017471313\n",
      "Метрика на тесте 0.369755715105169471783288717269897\n",
      "Метрика на тесте 0.3597446863059345.1766655445098877\n",
      "Метрика на тесте 0.3627328136997593.1763633489608765\n",
      "Метрика на тесте 0.366123405117243061781458854675293\n",
      "Метрика на тесте 0.37162747403258267181752324104309\n",
      "Метрика на тесте 0.3698065803674731.1800520420074463\n",
      "Метрика на тесте 0.3635618643808757.1804680824279785\n",
      "Метрика на тесте 0.3740229202950582.1778634786605835\n",
      "Starting epoch 31er epoch: 1.1793586015701294\n",
      "Метрика на тесте 0.3577655048629449\n",
      "Метрика на тесте 0.36291904856636161939995288848877\n",
      "Метрика на тесте 0.3612818829368816.1724869012832642\n",
      "Метрика на тесте 0.369115177415666351637048721313477\n",
      "Метрика на тесте 0.3688730141811038.1748758554458618\n",
      "Метрика на тесте 0.3619001062002996.1851218938827515\n",
      "Метрика на тесте 0.37015440458084325176883578300476\n",
      "Метрика на тесте 0.3667139799950533.1770374774932861\n",
      "Метрика на тесте 0.369876340368826441751528978347778\n",
      "Метрика на тесте 0.369787917312179971750178337097168\n",
      "Метрика на тесте 0.3685366453062075.1782562732696533\n",
      "Метрика на тесте 0.365914249273016861783428192138672\n",
      "Метрика на тесте 0.364011454163215451763713359832764\n",
      "Метрика на тесте 0.364461272990530441756757497787476\n",
      "Метрика на тесте 0.363160301258503741757659912109375\n",
      "Метрика на тесте 0.360778462685206361773505210876465\n",
      "Метрика на тесте 0.3660585195168121.1811943054199219\n",
      "Метрика на тесте 0.3658071159322531.1797906160354614\n",
      "Метрика на тесте 0.3566322243904207.1804593801498413\n",
      "Метрика на тесте 0.3721043078387536.1775349378585815\n",
      "Starting epoch 32er epoch: 1.1787974834442139\n",
      "Метрика на тесте 0.3702676408784566\n",
      "Метрика на тесте 0.3514967704201289589268946647644\n",
      "Метрика на тесте 0.3562240849094873.1660757064819336\n",
      "Метрика на тесте 0.3680506970127759.1625099182128906\n",
      "Метрика на тесте 0.3659881936738104.1760821342468262\n",
      "Метрика на тесте 0.365929745789737471847891807556152\n",
      "Метрика на тесте 0.3664000880538159.1785132884979248\n",
      "Метрика на тесте 0.372054735094558831816145181655884\n",
      "Метрика на тесте 0.3601800532577874.1732919216156006\n",
      "Метрика на тесте 0.3690970906541999.1738839149475098\n",
      "Метрика на тесте 0.364855102676568731773639917373657\n",
      "Метрика на тесте 0.362162672694541171774791479110718\n",
      "Метрика на тесте 0.362613342847465441749168634414673\n",
      "Метрика на тесте 0.36495743929440555174565076828003\n",
      "Метрика на тесте 0.3631476666839734.1748073101043701\n",
      "Метрика на тесте 0.3524638729894106.175659418106079\n",
      "Метрика на тесте 0.36092150551872026179065465927124\n",
      "Метрика на тесте 0.362388649108122351773531436920166\n",
      "Метрика на тесте 0.362496656735940561772973537445068\n",
      "Метрика на тесте 0.3655812588982202.1755906343460083\n",
      "Starting epoch 33er epoch: 1.17723548412323\n",
      "Метрика на тесте 0.35626415140245143\n",
      "Метрика на тесте 0.35853504799247393006922960281372\n",
      "Метрика на тесте 0.360016802040748261789968013763428\n",
      "Метрика на тесте 0.360537438669162941667388677597046\n",
      "Метрика на тесте 0.3596358477196443.177485466003418\n",
      "Метрика на тесте 0.363161813160978061859508752822876\n",
      "Метрика на тесте 0.3658776794848205.1782058477401733\n",
      "Метрика на тесте 0.3704984949719977.1789017915725708\n",
      "Метрика на тесте 0.3676633814179806.1759792566299438\n",
      "Метрика на тесте 0.3752535753613052.1762956380844116\n",
      "Метрика на тесте 0.36382423287572585180784821510315\n",
      "Метрика на тесте 0.3634607882178158.1799955368041992\n",
      "Метрика на тесте 0.363203185625629871792415380477905\n",
      "Метрика на тесте 0.3574516024698165.1768227815628052\n"
     ]
    },
    {
     "ename": "KeyboardInterrupt",
     "evalue": "",
     "output_type": "error",
     "traceback": [
      "\u001b[0;31m---------------------------------------------------------------------------\u001b[0m",
      "\u001b[0;31mKeyboardInterrupt\u001b[0m                         Traceback (most recent call last)",
      "\u001b[0;32m<ipython-input-796-068e4a37032d>\u001b[0m in \u001b[0;36m<module>\u001b[0;34m\u001b[0m\n\u001b[1;32m      5\u001b[0m \u001b[0;34m\u001b[0m\u001b[0m\n\u001b[1;32m      6\u001b[0m     train_epoch(model, optimizer, cat_atrs, num_atrs, dataset_train, atrs,  batch_size=train_batch_size, \n\u001b[0;32m----> 7\u001b[0;31m                 shuffle=True, print_loss_every_n_batches=500, device=device)\n\u001b[0m\u001b[1;32m      8\u001b[0m \u001b[0;31m#     val_roc_auc = eval_model(model, dataset_val, batch_size=val_batch_szie, device=device)\u001b[0m\u001b[0;34m\u001b[0m\u001b[0;34m\u001b[0m\u001b[0;34m\u001b[0m\u001b[0m\n\u001b[1;32m      9\u001b[0m \u001b[0;31m#     es(val_roc_auc, model)\u001b[0m\u001b[0;34m\u001b[0m\u001b[0;34m\u001b[0m\u001b[0;34m\u001b[0m\u001b[0m\n",
      "\u001b[0;32m<ipython-input-794-e30c437fbfa3>\u001b[0m in \u001b[0;36mtrain_epoch\u001b[0;34m(model, optimizer, cat_atrs, num_atrs, dataset_train, atrs, batch_size, shuffle, print_loss_every_n_batches, device)\u001b[0m\n\u001b[1;32m     51\u001b[0m \u001b[0;34m\u001b[0m\u001b[0m\n\u001b[1;32m     52\u001b[0m \u001b[0;34m\u001b[0m\u001b[0m\n\u001b[0;32m---> 53\u001b[0;31m         \u001b[0mbatch_loss\u001b[0m\u001b[0;34m.\u001b[0m\u001b[0mbackward\u001b[0m\u001b[0;34m(\u001b[0m\u001b[0;34m)\u001b[0m\u001b[0;34m\u001b[0m\u001b[0;34m\u001b[0m\u001b[0m\n\u001b[0m\u001b[1;32m     54\u001b[0m         \u001b[0moptimizer\u001b[0m\u001b[0;34m.\u001b[0m\u001b[0mstep\u001b[0m\u001b[0;34m(\u001b[0m\u001b[0;34m)\u001b[0m\u001b[0;34m\u001b[0m\u001b[0;34m\u001b[0m\u001b[0m\n\u001b[1;32m     55\u001b[0m         \u001b[0moptimizer\u001b[0m\u001b[0;34m.\u001b[0m\u001b[0mzero_grad\u001b[0m\u001b[0;34m(\u001b[0m\u001b[0;34m)\u001b[0m\u001b[0;34m\u001b[0m\u001b[0;34m\u001b[0m\u001b[0m\n",
      "\u001b[0;32m~/.local/lib/python3.6/site-packages/torch/tensor.py\u001b[0m in \u001b[0;36mbackward\u001b[0;34m(self, gradient, retain_graph, create_graph)\u001b[0m\n\u001b[1;32m    193\u001b[0m                 \u001b[0mproducts\u001b[0m\u001b[0;34m.\u001b[0m \u001b[0mDefaults\u001b[0m \u001b[0mto\u001b[0m\u001b[0;31m \u001b[0m\u001b[0;31m`\u001b[0m\u001b[0;31m`\u001b[0m\u001b[0;32mFalse\u001b[0m\u001b[0;31m`\u001b[0m\u001b[0;31m`\u001b[0m\u001b[0;34m.\u001b[0m\u001b[0;34m\u001b[0m\u001b[0;34m\u001b[0m\u001b[0m\n\u001b[1;32m    194\u001b[0m         \"\"\"\n\u001b[0;32m--> 195\u001b[0;31m         \u001b[0mtorch\u001b[0m\u001b[0;34m.\u001b[0m\u001b[0mautograd\u001b[0m\u001b[0;34m.\u001b[0m\u001b[0mbackward\u001b[0m\u001b[0;34m(\u001b[0m\u001b[0mself\u001b[0m\u001b[0;34m,\u001b[0m \u001b[0mgradient\u001b[0m\u001b[0;34m,\u001b[0m \u001b[0mretain_graph\u001b[0m\u001b[0;34m,\u001b[0m \u001b[0mcreate_graph\u001b[0m\u001b[0;34m)\u001b[0m\u001b[0;34m\u001b[0m\u001b[0;34m\u001b[0m\u001b[0m\n\u001b[0m\u001b[1;32m    196\u001b[0m \u001b[0;34m\u001b[0m\u001b[0m\n\u001b[1;32m    197\u001b[0m     \u001b[0;32mdef\u001b[0m \u001b[0mregister_hook\u001b[0m\u001b[0;34m(\u001b[0m\u001b[0mself\u001b[0m\u001b[0;34m,\u001b[0m \u001b[0mhook\u001b[0m\u001b[0;34m)\u001b[0m\u001b[0;34m:\u001b[0m\u001b[0;34m\u001b[0m\u001b[0;34m\u001b[0m\u001b[0m\n",
      "\u001b[0;32m~/.local/lib/python3.6/site-packages/torch/autograd/__init__.py\u001b[0m in \u001b[0;36mbackward\u001b[0;34m(tensors, grad_tensors, retain_graph, create_graph, grad_variables)\u001b[0m\n\u001b[1;32m     97\u001b[0m     Variable._execution_engine.run_backward(\n\u001b[1;32m     98\u001b[0m         \u001b[0mtensors\u001b[0m\u001b[0;34m,\u001b[0m \u001b[0mgrad_tensors\u001b[0m\u001b[0;34m,\u001b[0m \u001b[0mretain_graph\u001b[0m\u001b[0;34m,\u001b[0m \u001b[0mcreate_graph\u001b[0m\u001b[0;34m,\u001b[0m\u001b[0;34m\u001b[0m\u001b[0;34m\u001b[0m\u001b[0m\n\u001b[0;32m---> 99\u001b[0;31m         allow_unreachable=True)  # allow_unreachable flag\n\u001b[0m\u001b[1;32m    100\u001b[0m \u001b[0;34m\u001b[0m\u001b[0m\n\u001b[1;32m    101\u001b[0m \u001b[0;34m\u001b[0m\u001b[0m\n",
      "\u001b[0;31mKeyboardInterrupt\u001b[0m: "
     ]
    }
   ],
   "source": [
    "for epoch in range(num_epochs):\n",
    "    print(f'Starting epoch {epoch+1}')\n",
    "    \n",
    "    np.random.seed(SEED)\n",
    "    \n",
    "    train_epoch(model, optimizer, cat_atrs, num_atrs, dataset_train, atrs,  batch_size=train_batch_size, \n",
    "                shuffle=True, print_loss_every_n_batches=500, device=device)\n",
    "#     val_roc_auc = eval_model(model, dataset_val, batch_size=val_batch_szie, device=device)\n",
    "#     es(val_roc_auc, model)\n",
    "\n",
    "#     if es.early_stop:\n",
    "\n",
    "#         print('Early stopping reached. Stop training...')\n",
    "#         break\n",
    "#     torch.save(model.state_dict(), os.path.join(path_to_checkpoints, f'epoch_{epoch+1}_val_{val_roc_auc:.3f}.pt'))\n",
    "    \n",
    "#     train_roc_auc = eval_model(model, dataset_train, batch_size=val_batch_szie, device=device)\n",
    "#     print(f'Epoch {epoch+1} completed. Train roc-auc: {train_roc_auc}, Val roc-auc: {val_roc_auc}')"
   ]
  },
  {
   "cell_type": "code",
   "execution_count": null,
   "metadata": {},
   "outputs": [],
   "source": []
  },
  {
   "cell_type": "code",
   "execution_count": null,
   "metadata": {},
   "outputs": [],
   "source": []
  },
  {
   "cell_type": "code",
   "execution_count": null,
   "metadata": {},
   "outputs": [],
   "source": []
  },
  {
   "cell_type": "code",
   "execution_count": null,
   "metadata": {},
   "outputs": [],
   "source": []
  },
  {
   "cell_type": "code",
   "execution_count": null,
   "metadata": {},
   "outputs": [],
   "source": []
  },
  {
   "cell_type": "code",
   "execution_count": null,
   "metadata": {},
   "outputs": [],
   "source": []
  },
  {
   "cell_type": "code",
   "execution_count": null,
   "metadata": {},
   "outputs": [],
   "source": []
  },
  {
   "cell_type": "code",
   "execution_count": 504,
   "metadata": {},
   "outputs": [
    {
     "data": {
      "text/plain": [
       "(3,)"
      ]
     },
     "execution_count": 504,
     "metadata": {},
     "output_type": "execute_result"
    }
   ],
   "source": [
    "train_df_net['targets'].shape"
   ]
  },
  {
   "cell_type": "code",
   "execution_count": 515,
   "metadata": {},
   "outputs": [
    {
     "data": {
      "text/plain": [
       "9.0"
      ]
     },
     "execution_count": 515,
     "metadata": {},
     "output_type": "execute_result"
    }
   ],
   "source": [
    "max(train_df_net['targets'][1])"
   ]
  },
  {
   "cell_type": "code",
   "execution_count": null,
   "metadata": {},
   "outputs": [],
   "source": []
  },
  {
   "cell_type": "code",
   "execution_count": null,
   "metadata": {},
   "outputs": [],
   "source": [
    "torch.cuda.empty_cache()"
   ]
  },
  {
   "cell_type": "code",
   "execution_count": null,
   "metadata": {},
   "outputs": [],
   "source": []
  },
  {
   "cell_type": "code",
   "execution_count": null,
   "metadata": {},
   "outputs": [],
   "source": []
  },
  {
   "cell_type": "code",
   "execution_count": null,
   "metadata": {},
   "outputs": [],
   "source": []
  },
  {
   "cell_type": "code",
   "execution_count": null,
   "metadata": {},
   "outputs": [],
   "source": []
  },
  {
   "cell_type": "code",
   "execution_count": null,
   "metadata": {},
   "outputs": [],
   "source": []
  },
  {
   "cell_type": "code",
   "execution_count": null,
   "metadata": {},
   "outputs": [],
   "source": [
    "device = 'cpu'"
   ]
  },
  {
   "cell_type": "code",
   "execution_count": 260,
   "metadata": {},
   "outputs": [
    {
     "data": {
      "text/plain": [
       "TransactionsRnn(\n",
       "  (_transaction_cat_embeddings): ModuleList(\n",
       "    (0): Embedding(11, 6, padding_idx=0)\n",
       "  )\n",
       "  (_gru): GRU(6, 128, batch_first=True)\n",
       "  (_top_classifier): Linear(in_features=128, out_features=32, bias=True)\n",
       "  (_intermediate_activation): ReLU()\n",
       "  (_head): Linear(in_features=32, out_features=11, bias=True)\n",
       ")"
      ]
     },
     "execution_count": 260,
     "metadata": {},
     "output_type": "execute_result"
    }
   ],
   "source": [
    "model.to(device)"
   ]
  },
  {
   "cell_type": "code",
   "execution_count": 780,
   "metadata": {},
   "outputs": [
    {
     "ename": "RuntimeError",
     "evalue": "Expected object of device type cuda but got device type cpu for argument #1 'self' in call to _th_index_select",
     "output_type": "error",
     "traceback": [
      "\u001b[0;31m---------------------------------------------------------------------------\u001b[0m",
      "\u001b[0;31mRuntimeError\u001b[0m                              Traceback (most recent call last)",
      "\u001b[0;32m<ipython-input-780-61f2343143e8>\u001b[0m in \u001b[0;36m<module>\u001b[0;34m\u001b[0m\n\u001b[1;32m      6\u001b[0m     \u001b[0mlengths\u001b[0m \u001b[0;34m=\u001b[0m \u001b[0mtorch\u001b[0m\u001b[0;34m.\u001b[0m\u001b[0mLongTensor\u001b[0m\u001b[0;34m(\u001b[0m\u001b[0mlengths\u001b[0m\u001b[0;34m)\u001b[0m\u001b[0;34m.\u001b[0m\u001b[0mto\u001b[0m\u001b[0;34m(\u001b[0m\u001b[0mdevice\u001b[0m\u001b[0;34m)\u001b[0m\u001b[0;34m\u001b[0m\u001b[0;34m\u001b[0m\u001b[0m\n\u001b[1;32m      7\u001b[0m \u001b[0;34m\u001b[0m\u001b[0m\n\u001b[0;32m----> 8\u001b[0;31m     \u001b[0mlogits\u001b[0m \u001b[0;34m=\u001b[0m \u001b[0mmodel\u001b[0m\u001b[0;34m(\u001b[0m\u001b[0mbatch_sequences\u001b[0m\u001b[0;34m,\u001b[0m \u001b[0mlengths\u001b[0m\u001b[0;34m)\u001b[0m\u001b[0;34m\u001b[0m\u001b[0;34m\u001b[0m\u001b[0m\n\u001b[0m\u001b[1;32m      9\u001b[0m \u001b[0;34m\u001b[0m\u001b[0m\n\u001b[1;32m     10\u001b[0m     \u001b[0mmodel_os\u001b[0m\u001b[0;34m.\u001b[0m\u001b[0mappend\u001b[0m\u001b[0;34m(\u001b[0m\u001b[0mlogits\u001b[0m\u001b[0;34m.\u001b[0m\u001b[0margmax\u001b[0m\u001b[0;34m(\u001b[0m\u001b[0maxis\u001b[0m\u001b[0;34m=\u001b[0m\u001b[0;34m-\u001b[0m\u001b[0;36m1\u001b[0m\u001b[0;34m)\u001b[0m\u001b[0;34m.\u001b[0m\u001b[0mdetach\u001b[0m\u001b[0;34m(\u001b[0m\u001b[0;34m)\u001b[0m\u001b[0;34m.\u001b[0m\u001b[0mcpu\u001b[0m\u001b[0;34m(\u001b[0m\u001b[0;34m)\u001b[0m\u001b[0;34m.\u001b[0m\u001b[0mnumpy\u001b[0m\u001b[0;34m(\u001b[0m\u001b[0;34m)\u001b[0m\u001b[0;34m.\u001b[0m\u001b[0mflatten\u001b[0m\u001b[0;34m(\u001b[0m\u001b[0;34m)\u001b[0m\u001b[0;34m)\u001b[0m\u001b[0;34m\u001b[0m\u001b[0;34m\u001b[0m\u001b[0m\n",
      "\u001b[0;32m~/.local/lib/python3.6/site-packages/torch/nn/modules/module.py\u001b[0m in \u001b[0;36m__call__\u001b[0;34m(self, *input, **kwargs)\u001b[0m\n\u001b[1;32m    530\u001b[0m             \u001b[0mresult\u001b[0m \u001b[0;34m=\u001b[0m \u001b[0mself\u001b[0m\u001b[0;34m.\u001b[0m\u001b[0m_slow_forward\u001b[0m\u001b[0;34m(\u001b[0m\u001b[0;34m*\u001b[0m\u001b[0minput\u001b[0m\u001b[0;34m,\u001b[0m \u001b[0;34m**\u001b[0m\u001b[0mkwargs\u001b[0m\u001b[0;34m)\u001b[0m\u001b[0;34m\u001b[0m\u001b[0;34m\u001b[0m\u001b[0m\n\u001b[1;32m    531\u001b[0m         \u001b[0;32melse\u001b[0m\u001b[0;34m:\u001b[0m\u001b[0;34m\u001b[0m\u001b[0;34m\u001b[0m\u001b[0m\n\u001b[0;32m--> 532\u001b[0;31m             \u001b[0mresult\u001b[0m \u001b[0;34m=\u001b[0m \u001b[0mself\u001b[0m\u001b[0;34m.\u001b[0m\u001b[0mforward\u001b[0m\u001b[0;34m(\u001b[0m\u001b[0;34m*\u001b[0m\u001b[0minput\u001b[0m\u001b[0;34m,\u001b[0m \u001b[0;34m**\u001b[0m\u001b[0mkwargs\u001b[0m\u001b[0;34m)\u001b[0m\u001b[0;34m\u001b[0m\u001b[0;34m\u001b[0m\u001b[0m\n\u001b[0m\u001b[1;32m    533\u001b[0m         \u001b[0;32mfor\u001b[0m \u001b[0mhook\u001b[0m \u001b[0;32min\u001b[0m \u001b[0mself\u001b[0m\u001b[0;34m.\u001b[0m\u001b[0m_forward_hooks\u001b[0m\u001b[0;34m.\u001b[0m\u001b[0mvalues\u001b[0m\u001b[0;34m(\u001b[0m\u001b[0;34m)\u001b[0m\u001b[0;34m:\u001b[0m\u001b[0;34m\u001b[0m\u001b[0;34m\u001b[0m\u001b[0m\n\u001b[1;32m    534\u001b[0m             \u001b[0mhook_result\u001b[0m \u001b[0;34m=\u001b[0m \u001b[0mhook\u001b[0m\u001b[0;34m(\u001b[0m\u001b[0mself\u001b[0m\u001b[0;34m,\u001b[0m \u001b[0minput\u001b[0m\u001b[0;34m,\u001b[0m \u001b[0mresult\u001b[0m\u001b[0;34m)\u001b[0m\u001b[0;34m\u001b[0m\u001b[0;34m\u001b[0m\u001b[0m\n",
      "\u001b[0;32m<ipython-input-774-71f2f59715a7>\u001b[0m in \u001b[0;36mforward\u001b[0;34m(self, transactions_cat_features, lengths)\u001b[0m\n\u001b[1;32m     24\u001b[0m \u001b[0;34m\u001b[0m\u001b[0m\n\u001b[1;32m     25\u001b[0m     \u001b[0;32mdef\u001b[0m \u001b[0mforward\u001b[0m\u001b[0;34m(\u001b[0m\u001b[0mself\u001b[0m\u001b[0;34m,\u001b[0m \u001b[0mtransactions_cat_features\u001b[0m\u001b[0;34m,\u001b[0m \u001b[0mlengths\u001b[0m\u001b[0;34m)\u001b[0m\u001b[0;34m:\u001b[0m\u001b[0;34m\u001b[0m\u001b[0;34m\u001b[0m\u001b[0m\n\u001b[0;32m---> 26\u001b[0;31m         \u001b[0membeddings\u001b[0m \u001b[0;34m=\u001b[0m \u001b[0;34m[\u001b[0m\u001b[0membedding\u001b[0m\u001b[0;34m(\u001b[0m\u001b[0mtransactions_cat_features\u001b[0m\u001b[0;34m[\u001b[0m\u001b[0mi\u001b[0m\u001b[0;34m]\u001b[0m\u001b[0;34m)\u001b[0m \u001b[0;32mfor\u001b[0m \u001b[0mi\u001b[0m\u001b[0;34m,\u001b[0m \u001b[0membedding\u001b[0m \u001b[0;32min\u001b[0m \u001b[0menumerate\u001b[0m\u001b[0;34m(\u001b[0m\u001b[0mself\u001b[0m\u001b[0;34m.\u001b[0m\u001b[0m_transaction_cat_embeddings\u001b[0m\u001b[0;34m)\u001b[0m\u001b[0;34m]\u001b[0m\u001b[0;34m\u001b[0m\u001b[0;34m\u001b[0m\u001b[0m\n\u001b[0m\u001b[1;32m     27\u001b[0m \u001b[0;34m\u001b[0m\u001b[0m\n\u001b[1;32m     28\u001b[0m         \u001b[0mconcated_embeddings\u001b[0m \u001b[0;34m=\u001b[0m \u001b[0mtorch\u001b[0m\u001b[0;34m.\u001b[0m\u001b[0mcat\u001b[0m\u001b[0;34m(\u001b[0m\u001b[0membeddings\u001b[0m\u001b[0;34m,\u001b[0m \u001b[0mdim\u001b[0m\u001b[0;34m=\u001b[0m\u001b[0;34m-\u001b[0m\u001b[0;36m1\u001b[0m\u001b[0;34m)\u001b[0m\u001b[0;34m\u001b[0m\u001b[0;34m\u001b[0m\u001b[0m\n",
      "\u001b[0;32m<ipython-input-774-71f2f59715a7>\u001b[0m in \u001b[0;36m<listcomp>\u001b[0;34m(.0)\u001b[0m\n\u001b[1;32m     24\u001b[0m \u001b[0;34m\u001b[0m\u001b[0m\n\u001b[1;32m     25\u001b[0m     \u001b[0;32mdef\u001b[0m \u001b[0mforward\u001b[0m\u001b[0;34m(\u001b[0m\u001b[0mself\u001b[0m\u001b[0;34m,\u001b[0m \u001b[0mtransactions_cat_features\u001b[0m\u001b[0;34m,\u001b[0m \u001b[0mlengths\u001b[0m\u001b[0;34m)\u001b[0m\u001b[0;34m:\u001b[0m\u001b[0;34m\u001b[0m\u001b[0;34m\u001b[0m\u001b[0m\n\u001b[0;32m---> 26\u001b[0;31m         \u001b[0membeddings\u001b[0m \u001b[0;34m=\u001b[0m \u001b[0;34m[\u001b[0m\u001b[0membedding\u001b[0m\u001b[0;34m(\u001b[0m\u001b[0mtransactions_cat_features\u001b[0m\u001b[0;34m[\u001b[0m\u001b[0mi\u001b[0m\u001b[0;34m]\u001b[0m\u001b[0;34m)\u001b[0m \u001b[0;32mfor\u001b[0m \u001b[0mi\u001b[0m\u001b[0;34m,\u001b[0m \u001b[0membedding\u001b[0m \u001b[0;32min\u001b[0m \u001b[0menumerate\u001b[0m\u001b[0;34m(\u001b[0m\u001b[0mself\u001b[0m\u001b[0;34m.\u001b[0m\u001b[0m_transaction_cat_embeddings\u001b[0m\u001b[0;34m)\u001b[0m\u001b[0;34m]\u001b[0m\u001b[0;34m\u001b[0m\u001b[0;34m\u001b[0m\u001b[0m\n\u001b[0m\u001b[1;32m     27\u001b[0m \u001b[0;34m\u001b[0m\u001b[0m\n\u001b[1;32m     28\u001b[0m         \u001b[0mconcated_embeddings\u001b[0m \u001b[0;34m=\u001b[0m \u001b[0mtorch\u001b[0m\u001b[0;34m.\u001b[0m\u001b[0mcat\u001b[0m\u001b[0;34m(\u001b[0m\u001b[0membeddings\u001b[0m\u001b[0;34m,\u001b[0m \u001b[0mdim\u001b[0m\u001b[0;34m=\u001b[0m\u001b[0;34m-\u001b[0m\u001b[0;36m1\u001b[0m\u001b[0;34m)\u001b[0m\u001b[0;34m\u001b[0m\u001b[0;34m\u001b[0m\u001b[0m\n",
      "\u001b[0;32m~/.local/lib/python3.6/site-packages/torch/nn/modules/module.py\u001b[0m in \u001b[0;36m__call__\u001b[0;34m(self, *input, **kwargs)\u001b[0m\n\u001b[1;32m    530\u001b[0m             \u001b[0mresult\u001b[0m \u001b[0;34m=\u001b[0m \u001b[0mself\u001b[0m\u001b[0;34m.\u001b[0m\u001b[0m_slow_forward\u001b[0m\u001b[0;34m(\u001b[0m\u001b[0;34m*\u001b[0m\u001b[0minput\u001b[0m\u001b[0;34m,\u001b[0m \u001b[0;34m**\u001b[0m\u001b[0mkwargs\u001b[0m\u001b[0;34m)\u001b[0m\u001b[0;34m\u001b[0m\u001b[0;34m\u001b[0m\u001b[0m\n\u001b[1;32m    531\u001b[0m         \u001b[0;32melse\u001b[0m\u001b[0;34m:\u001b[0m\u001b[0;34m\u001b[0m\u001b[0;34m\u001b[0m\u001b[0m\n\u001b[0;32m--> 532\u001b[0;31m             \u001b[0mresult\u001b[0m \u001b[0;34m=\u001b[0m \u001b[0mself\u001b[0m\u001b[0;34m.\u001b[0m\u001b[0mforward\u001b[0m\u001b[0;34m(\u001b[0m\u001b[0;34m*\u001b[0m\u001b[0minput\u001b[0m\u001b[0;34m,\u001b[0m \u001b[0;34m**\u001b[0m\u001b[0mkwargs\u001b[0m\u001b[0;34m)\u001b[0m\u001b[0;34m\u001b[0m\u001b[0;34m\u001b[0m\u001b[0m\n\u001b[0m\u001b[1;32m    533\u001b[0m         \u001b[0;32mfor\u001b[0m \u001b[0mhook\u001b[0m \u001b[0;32min\u001b[0m \u001b[0mself\u001b[0m\u001b[0;34m.\u001b[0m\u001b[0m_forward_hooks\u001b[0m\u001b[0;34m.\u001b[0m\u001b[0mvalues\u001b[0m\u001b[0;34m(\u001b[0m\u001b[0;34m)\u001b[0m\u001b[0;34m:\u001b[0m\u001b[0;34m\u001b[0m\u001b[0;34m\u001b[0m\u001b[0m\n\u001b[1;32m    534\u001b[0m             \u001b[0mhook_result\u001b[0m \u001b[0;34m=\u001b[0m \u001b[0mhook\u001b[0m\u001b[0;34m(\u001b[0m\u001b[0mself\u001b[0m\u001b[0;34m,\u001b[0m \u001b[0minput\u001b[0m\u001b[0;34m,\u001b[0m \u001b[0mresult\u001b[0m\u001b[0;34m)\u001b[0m\u001b[0;34m\u001b[0m\u001b[0;34m\u001b[0m\u001b[0m\n",
      "\u001b[0;32m~/.local/lib/python3.6/site-packages/torch/nn/modules/sparse.py\u001b[0m in \u001b[0;36mforward\u001b[0;34m(self, input)\u001b[0m\n\u001b[1;32m    112\u001b[0m         return F.embedding(\n\u001b[1;32m    113\u001b[0m             \u001b[0minput\u001b[0m\u001b[0;34m,\u001b[0m \u001b[0mself\u001b[0m\u001b[0;34m.\u001b[0m\u001b[0mweight\u001b[0m\u001b[0;34m,\u001b[0m \u001b[0mself\u001b[0m\u001b[0;34m.\u001b[0m\u001b[0mpadding_idx\u001b[0m\u001b[0;34m,\u001b[0m \u001b[0mself\u001b[0m\u001b[0;34m.\u001b[0m\u001b[0mmax_norm\u001b[0m\u001b[0;34m,\u001b[0m\u001b[0;34m\u001b[0m\u001b[0;34m\u001b[0m\u001b[0m\n\u001b[0;32m--> 114\u001b[0;31m             self.norm_type, self.scale_grad_by_freq, self.sparse)\n\u001b[0m\u001b[1;32m    115\u001b[0m \u001b[0;34m\u001b[0m\u001b[0m\n\u001b[1;32m    116\u001b[0m     \u001b[0;32mdef\u001b[0m \u001b[0mextra_repr\u001b[0m\u001b[0;34m(\u001b[0m\u001b[0mself\u001b[0m\u001b[0;34m)\u001b[0m\u001b[0;34m:\u001b[0m\u001b[0;34m\u001b[0m\u001b[0;34m\u001b[0m\u001b[0m\n",
      "\u001b[0;32m~/.local/lib/python3.6/site-packages/torch/nn/functional.py\u001b[0m in \u001b[0;36membedding\u001b[0;34m(input, weight, padding_idx, max_norm, norm_type, scale_grad_by_freq, sparse)\u001b[0m\n\u001b[1;32m   1482\u001b[0m         \u001b[0;31m# remove once script supports set_grad_enabled\u001b[0m\u001b[0;34m\u001b[0m\u001b[0;34m\u001b[0m\u001b[0;34m\u001b[0m\u001b[0m\n\u001b[1;32m   1483\u001b[0m         \u001b[0m_no_grad_embedding_renorm_\u001b[0m\u001b[0;34m(\u001b[0m\u001b[0mweight\u001b[0m\u001b[0;34m,\u001b[0m \u001b[0minput\u001b[0m\u001b[0;34m,\u001b[0m \u001b[0mmax_norm\u001b[0m\u001b[0;34m,\u001b[0m \u001b[0mnorm_type\u001b[0m\u001b[0;34m)\u001b[0m\u001b[0;34m\u001b[0m\u001b[0;34m\u001b[0m\u001b[0m\n\u001b[0;32m-> 1484\u001b[0;31m     \u001b[0;32mreturn\u001b[0m \u001b[0mtorch\u001b[0m\u001b[0;34m.\u001b[0m\u001b[0membedding\u001b[0m\u001b[0;34m(\u001b[0m\u001b[0mweight\u001b[0m\u001b[0;34m,\u001b[0m \u001b[0minput\u001b[0m\u001b[0;34m,\u001b[0m \u001b[0mpadding_idx\u001b[0m\u001b[0;34m,\u001b[0m \u001b[0mscale_grad_by_freq\u001b[0m\u001b[0;34m,\u001b[0m \u001b[0msparse\u001b[0m\u001b[0;34m)\u001b[0m\u001b[0;34m\u001b[0m\u001b[0;34m\u001b[0m\u001b[0m\n\u001b[0m\u001b[1;32m   1485\u001b[0m \u001b[0;34m\u001b[0m\u001b[0m\n\u001b[1;32m   1486\u001b[0m \u001b[0;34m\u001b[0m\u001b[0m\n",
      "\u001b[0;31mRuntimeError\u001b[0m: Expected object of device type cuda but got device type cpu for argument #1 'self' in call to _th_index_select"
     ]
    }
   ],
   "source": [
    "model_os = []\n",
    "targets_l = []\n",
    "\n",
    "for sequnces, targets, lengths in zip(test_df_net['padded_sequences'], test_df_net['targets'], test_df_net['lengths']):\n",
    "    batch_sequences = torch.LongTensor(sequnces).to(device)\n",
    "    lengths = torch.LongTensor(lengths).to(device)\n",
    "    \n",
    "    logits = model(batch_sequences, lengths)\n",
    "    \n",
    "    model_os.append(logits.argmax(axis=-1).detach().cpu().numpy().flatten())\n",
    "    targets_l.append(targets)"
   ]
  },
  {
   "cell_type": "code",
   "execution_count": 139,
   "metadata": {},
   "outputs": [],
   "source": [
    "outputs = np.concatenate(model_os)"
   ]
  },
  {
   "cell_type": "code",
   "execution_count": 140,
   "metadata": {},
   "outputs": [],
   "source": [
    "targets = np.concatenate(targets_l)"
   ]
  },
  {
   "cell_type": "code",
   "execution_count": 141,
   "metadata": {},
   "outputs": [
    {
     "name": "stderr",
     "output_type": "stream",
     "text": [
      "/home/edmitrie/.local/lib/python3.6/site-packages/sklearn/metrics/_classification.py:1221: UndefinedMetricWarning: Precision and F-score are ill-defined and being set to 0.0 in labels with no predicted samples. Use `zero_division` parameter to control this behavior.\n",
      "  _warn_prf(average, modifier, msg_start, len(result))\n"
     ]
    },
    {
     "data": {
      "text/html": [
       "<div>\n",
       "<style scoped>\n",
       "    .dataframe tbody tr th:only-of-type {\n",
       "        vertical-align: middle;\n",
       "    }\n",
       "\n",
       "    .dataframe tbody tr th {\n",
       "        vertical-align: top;\n",
       "    }\n",
       "\n",
       "    .dataframe thead th {\n",
       "        text-align: right;\n",
       "    }\n",
       "</style>\n",
       "<table border=\"1\" class=\"dataframe\">\n",
       "  <thead>\n",
       "    <tr style=\"text-align: right;\">\n",
       "      <th></th>\n",
       "      <th>precision</th>\n",
       "      <th>recall</th>\n",
       "      <th>f1-score</th>\n",
       "      <th>support</th>\n",
       "    </tr>\n",
       "  </thead>\n",
       "  <tbody>\n",
       "    <tr>\n",
       "      <th>0</th>\n",
       "      <td>0.333333</td>\n",
       "      <td>0.038462</td>\n",
       "      <td>0.068966</td>\n",
       "      <td>260.000000</td>\n",
       "    </tr>\n",
       "    <tr>\n",
       "      <th>1</th>\n",
       "      <td>0.438849</td>\n",
       "      <td>0.204698</td>\n",
       "      <td>0.279176</td>\n",
       "      <td>298.000000</td>\n",
       "    </tr>\n",
       "    <tr>\n",
       "      <th>2</th>\n",
       "      <td>0.407407</td>\n",
       "      <td>0.028796</td>\n",
       "      <td>0.053790</td>\n",
       "      <td>382.000000</td>\n",
       "    </tr>\n",
       "    <tr>\n",
       "      <th>3</th>\n",
       "      <td>0.557258</td>\n",
       "      <td>0.679449</td>\n",
       "      <td>0.612317</td>\n",
       "      <td>1017.000000</td>\n",
       "    </tr>\n",
       "    <tr>\n",
       "      <th>4</th>\n",
       "      <td>0.000000</td>\n",
       "      <td>0.000000</td>\n",
       "      <td>0.000000</td>\n",
       "      <td>54.000000</td>\n",
       "    </tr>\n",
       "    <tr>\n",
       "      <th>5</th>\n",
       "      <td>0.588089</td>\n",
       "      <td>0.809034</td>\n",
       "      <td>0.681091</td>\n",
       "      <td>3210.000000</td>\n",
       "    </tr>\n",
       "    <tr>\n",
       "      <th>6</th>\n",
       "      <td>0.540541</td>\n",
       "      <td>0.058140</td>\n",
       "      <td>0.104987</td>\n",
       "      <td>344.000000</td>\n",
       "    </tr>\n",
       "    <tr>\n",
       "      <th>8</th>\n",
       "      <td>0.421053</td>\n",
       "      <td>0.455696</td>\n",
       "      <td>0.437690</td>\n",
       "      <td>316.000000</td>\n",
       "    </tr>\n",
       "    <tr>\n",
       "      <th>9</th>\n",
       "      <td>0.340741</td>\n",
       "      <td>0.224939</td>\n",
       "      <td>0.270987</td>\n",
       "      <td>409.000000</td>\n",
       "    </tr>\n",
       "    <tr>\n",
       "      <th>10</th>\n",
       "      <td>0.455310</td>\n",
       "      <td>0.372633</td>\n",
       "      <td>0.409844</td>\n",
       "      <td>1162.000000</td>\n",
       "    </tr>\n",
       "    <tr>\n",
       "      <th>accuracy</th>\n",
       "      <td>0.544686</td>\n",
       "      <td>0.544686</td>\n",
       "      <td>0.544686</td>\n",
       "      <td>0.544686</td>\n",
       "    </tr>\n",
       "    <tr>\n",
       "      <th>macro avg</th>\n",
       "      <td>0.408258</td>\n",
       "      <td>0.287185</td>\n",
       "      <td>0.291885</td>\n",
       "      <td>7452.000000</td>\n",
       "    </tr>\n",
       "    <tr>\n",
       "      <th>weighted avg</th>\n",
       "      <td>0.511943</td>\n",
       "      <td>0.544686</td>\n",
       "      <td>0.495464</td>\n",
       "      <td>7452.000000</td>\n",
       "    </tr>\n",
       "  </tbody>\n",
       "</table>\n",
       "</div>"
      ],
      "text/plain": [
       "              precision    recall  f1-score      support\n",
       "0              0.333333  0.038462  0.068966   260.000000\n",
       "1              0.438849  0.204698  0.279176   298.000000\n",
       "2              0.407407  0.028796  0.053790   382.000000\n",
       "3              0.557258  0.679449  0.612317  1017.000000\n",
       "4              0.000000  0.000000  0.000000    54.000000\n",
       "5              0.588089  0.809034  0.681091  3210.000000\n",
       "6              0.540541  0.058140  0.104987   344.000000\n",
       "8              0.421053  0.455696  0.437690   316.000000\n",
       "9              0.340741  0.224939  0.270987   409.000000\n",
       "10             0.455310  0.372633  0.409844  1162.000000\n",
       "accuracy       0.544686  0.544686  0.544686     0.544686\n",
       "macro avg      0.408258  0.287185  0.291885  7452.000000\n",
       "weighted avg   0.511943  0.544686  0.495464  7452.000000"
      ]
     },
     "execution_count": 141,
     "metadata": {},
     "output_type": "execute_result"
    }
   ],
   "source": [
    "pd.DataFrame(classification_report(targets, outputs, output_dict=True)).T"
   ]
  },
  {
   "cell_type": "code",
   "execution_count": null,
   "metadata": {},
   "outputs": [],
   "source": []
  },
  {
   "cell_type": "code",
   "execution_count": null,
   "metadata": {},
   "outputs": [],
   "source": []
  },
  {
   "cell_type": "code",
   "execution_count": null,
   "metadata": {},
   "outputs": [],
   "source": []
  },
  {
   "cell_type": "code",
   "execution_count": null,
   "metadata": {},
   "outputs": [],
   "source": [
    "numpy.concatenate"
   ]
  },
  {
   "cell_type": "code",
   "execution_count": 125,
   "metadata": {},
   "outputs": [
    {
     "data": {
      "text/plain": [
       "array([[[ 1.38508677e-01,  9.51670259e-02,  7.62902126e-02,\n",
       "         -9.14834216e-02,  0.00000000e+00],\n",
       "        [-3.58143896e-02,  3.48560989e-01,  3.76887798e-01,\n",
       "         -3.72102708e-02,  0.00000000e+00],\n",
       "        [-9.99994278e-01,  9.91091907e-01,  9.98991191e-01,\n",
       "         -9.99996662e-01,  0.00000000e+00],\n",
       "        ...,\n",
       "        [-8.00324798e-01, -2.36761430e-03, -1.84023124e-03,\n",
       "         -8.11739862e-01,  0.00000000e+00],\n",
       "        [-9.99752820e-01,  2.20804080e-01,  2.00806692e-01,\n",
       "         -9.99979198e-01,  0.00000000e+00],\n",
       "        [-2.19531164e-01, -4.22228314e-02, -2.42895521e-02,\n",
       "         -9.14154872e-02,  0.00000000e+00]],\n",
       "\n",
       "       [[ 1.17300853e-01, -6.57980144e-01,  9.19858664e-02,\n",
       "         -9.67029393e-01, -9.87110257e-01],\n",
       "        [ 7.23170400e-01, -9.94472265e-01,  8.18345070e-01,\n",
       "         -9.99246240e-01, -9.98692095e-01],\n",
       "        [ 6.78703308e-01, -7.73295760e-01,  9.95796621e-01,\n",
       "         -9.96250451e-01, -4.41340417e-01],\n",
       "        ...,\n",
       "        [-7.68387970e-03, -9.58233714e-01,  6.34851094e-05,\n",
       "         -4.26834345e-01, -9.46414709e-01],\n",
       "        [ 2.41764169e-02,  6.23255193e-01,  3.17564964e-01,\n",
       "          7.58389413e-01,  8.58881056e-01],\n",
       "        [-2.45696865e-02, -9.02148008e-01, -2.19054092e-02,\n",
       "         -9.54332650e-01, -9.52226460e-01]],\n",
       "\n",
       "       [[-9.97408271e-01, -8.78965378e-01, -6.60282314e-01,\n",
       "         -9.99915183e-01,  7.95287967e-01],\n",
       "        [-9.97473001e-01, -9.28828776e-01,  6.46476354e-03,\n",
       "         -5.89844346e-01,  6.02945685e-03],\n",
       "        [-9.97197509e-01, -9.91857111e-01,  9.92989361e-01,\n",
       "         -7.42024422e-01,  9.70987082e-01],\n",
       "        ...,\n",
       "        [-6.76182091e-01,  9.86872971e-01,  8.91928017e-01,\n",
       "         -9.65340555e-01,  6.66304290e-01],\n",
       "        [-5.73116064e-01, -5.75187579e-02,  8.21717978e-01,\n",
       "          8.15494478e-01,  2.43864078e-02],\n",
       "        [-9.78919744e-01, -2.04060912e-01,  7.77962029e-01,\n",
       "         -8.42100620e-01, -3.72162580e-01]],\n",
       "\n",
       "       ...,\n",
       "\n",
       "       [[-9.99946594e-01, -9.99997735e-01, -9.99845207e-01,\n",
       "         -7.21970975e-01,  4.43576187e-01],\n",
       "        [-9.88132417e-01, -9.75258052e-01, -6.90551400e-01,\n",
       "         -6.54597938e-01, -4.10042942e-01],\n",
       "        [-9.99424517e-01, -9.21935678e-01, -9.73643720e-01,\n",
       "          1.09857030e-01, -9.99910712e-01],\n",
       "        ...,\n",
       "        [-9.21767950e-01, -5.34006715e-01,  2.48883575e-01,\n",
       "          1.27675191e-01,  8.51682246e-01],\n",
       "        [ 8.96705270e-01,  9.22038436e-01,  3.77046764e-01,\n",
       "          8.03372860e-01, -9.99486387e-01],\n",
       "        [-9.90661025e-01, -9.84121919e-01, -9.51999187e-01,\n",
       "         -9.99239504e-01, -4.92527522e-03]],\n",
       "\n",
       "       [[-3.71128947e-01,  9.51799005e-02,  3.25109959e-01,\n",
       "         -4.53453541e-01,  0.00000000e+00],\n",
       "        [-9.21340346e-01,  3.47535640e-01,  3.24185669e-01,\n",
       "         -9.22879517e-01,  0.00000000e+00],\n",
       "        [-9.98205960e-01,  9.92578745e-01,  9.99623537e-01,\n",
       "         -9.99849439e-01,  0.00000000e+00],\n",
       "        ...,\n",
       "        [-4.56057824e-02, -2.24582222e-03, -2.40914896e-03,\n",
       "         -1.49573937e-01,  0.00000000e+00],\n",
       "        [-9.99577343e-01,  1.23664372e-01,  3.88697952e-01,\n",
       "         -9.94271696e-01,  0.00000000e+00],\n",
       "        [-4.67381358e-01, -4.21551540e-02, -5.78960143e-02,\n",
       "         -3.07592869e-01,  0.00000000e+00]],\n",
       "\n",
       "       [[-3.96999419e-01,  7.69010931e-02, -4.78515238e-01,\n",
       "         -3.79789472e-01,  9.51799005e-02],\n",
       "        [-5.37908792e-01,  3.76338810e-01, -2.06645504e-01,\n",
       "         -4.94227648e-01,  3.47535640e-01],\n",
       "        [-9.99995112e-01,  9.98269022e-01, -9.87296700e-01,\n",
       "         -9.99997914e-01,  9.92578745e-01],\n",
       "        ...,\n",
       "        [ 6.30114317e-01, -1.84012577e-03, -9.98736680e-01,\n",
       "          4.20802593e-01, -2.24582222e-03],\n",
       "        [-9.99858677e-01,  1.23281144e-01, -9.95777607e-01,\n",
       "         -9.92916703e-01,  1.23664372e-01],\n",
       "        [-1.03404731e-01, -2.33065709e-02, -9.10330653e-01,\n",
       "          1.77337863e-02, -4.21551540e-02]]])"
      ]
     },
     "execution_count": 125,
     "metadata": {},
     "output_type": "execute_result"
    }
   ],
   "source": [
    "test_df_net['padded_sequences']"
   ]
  },
  {
   "cell_type": "code",
   "execution_count": 117,
   "metadata": {},
   "outputs": [
    {
     "data": {
      "text/plain": [
       "(715,)"
      ]
     },
     "execution_count": 117,
     "metadata": {},
     "output_type": "execute_result"
    }
   ],
   "source": [
    "targets.shape"
   ]
  },
  {
   "cell_type": "code",
   "execution_count": 118,
   "metadata": {},
   "outputs": [],
   "source": [
    "batch_sequences = torch.FloatTensor(sequnces).to(device)\n",
    "lengths = torch.LongTensor(lengths).to(device)"
   ]
  },
  {
   "cell_type": "code",
   "execution_count": 119,
   "metadata": {},
   "outputs": [],
   "source": [
    "logits = model(batch_sequences, lengths)"
   ]
  },
  {
   "cell_type": "code",
   "execution_count": 120,
   "metadata": {},
   "outputs": [],
   "source": [
    "from sklearn.metrics import classification_report"
   ]
  },
  {
   "cell_type": "code",
   "execution_count": 121,
   "metadata": {},
   "outputs": [
    {
     "name": "stderr",
     "output_type": "stream",
     "text": [
      "/home/edmitrie/.local/lib/python3.6/site-packages/sklearn/metrics/_classification.py:1221: UndefinedMetricWarning: Precision and F-score are ill-defined and being set to 0.0 in labels with no predicted samples. Use `zero_division` parameter to control this behavior.\n",
      "  _warn_prf(average, modifier, msg_start, len(result))\n"
     ]
    },
    {
     "data": {
      "text/html": [
       "<div>\n",
       "<style scoped>\n",
       "    .dataframe tbody tr th:only-of-type {\n",
       "        vertical-align: middle;\n",
       "    }\n",
       "\n",
       "    .dataframe tbody tr th {\n",
       "        vertical-align: top;\n",
       "    }\n",
       "\n",
       "    .dataframe thead th {\n",
       "        text-align: right;\n",
       "    }\n",
       "</style>\n",
       "<table border=\"1\" class=\"dataframe\">\n",
       "  <thead>\n",
       "    <tr style=\"text-align: right;\">\n",
       "      <th></th>\n",
       "      <th>precision</th>\n",
       "      <th>recall</th>\n",
       "      <th>f1-score</th>\n",
       "      <th>support</th>\n",
       "    </tr>\n",
       "  </thead>\n",
       "  <tbody>\n",
       "    <tr>\n",
       "      <th>0</th>\n",
       "      <td>0.500000</td>\n",
       "      <td>0.041667</td>\n",
       "      <td>0.076923</td>\n",
       "      <td>24.000000</td>\n",
       "    </tr>\n",
       "    <tr>\n",
       "      <th>1</th>\n",
       "      <td>0.230769</td>\n",
       "      <td>0.096774</td>\n",
       "      <td>0.136364</td>\n",
       "      <td>31.000000</td>\n",
       "    </tr>\n",
       "    <tr>\n",
       "      <th>2</th>\n",
       "      <td>0.250000</td>\n",
       "      <td>0.025000</td>\n",
       "      <td>0.045455</td>\n",
       "      <td>40.000000</td>\n",
       "    </tr>\n",
       "    <tr>\n",
       "      <th>3</th>\n",
       "      <td>0.562500</td>\n",
       "      <td>0.658537</td>\n",
       "      <td>0.606742</td>\n",
       "      <td>123.000000</td>\n",
       "    </tr>\n",
       "    <tr>\n",
       "      <th>4</th>\n",
       "      <td>0.000000</td>\n",
       "      <td>0.000000</td>\n",
       "      <td>0.000000</td>\n",
       "      <td>2.000000</td>\n",
       "    </tr>\n",
       "    <tr>\n",
       "      <th>5</th>\n",
       "      <td>0.581609</td>\n",
       "      <td>0.826797</td>\n",
       "      <td>0.682861</td>\n",
       "      <td>306.000000</td>\n",
       "    </tr>\n",
       "    <tr>\n",
       "      <th>6</th>\n",
       "      <td>0.666667</td>\n",
       "      <td>0.071429</td>\n",
       "      <td>0.129032</td>\n",
       "      <td>28.000000</td>\n",
       "    </tr>\n",
       "    <tr>\n",
       "      <th>8</th>\n",
       "      <td>0.428571</td>\n",
       "      <td>0.240000</td>\n",
       "      <td>0.307692</td>\n",
       "      <td>25.000000</td>\n",
       "    </tr>\n",
       "    <tr>\n",
       "      <th>9</th>\n",
       "      <td>0.454545</td>\n",
       "      <td>0.285714</td>\n",
       "      <td>0.350877</td>\n",
       "      <td>35.000000</td>\n",
       "    </tr>\n",
       "    <tr>\n",
       "      <th>10</th>\n",
       "      <td>0.525641</td>\n",
       "      <td>0.405941</td>\n",
       "      <td>0.458101</td>\n",
       "      <td>101.000000</td>\n",
       "    </tr>\n",
       "    <tr>\n",
       "      <th>accuracy</th>\n",
       "      <td>0.556643</td>\n",
       "      <td>0.556643</td>\n",
       "      <td>0.556643</td>\n",
       "      <td>0.556643</td>\n",
       "    </tr>\n",
       "    <tr>\n",
       "      <th>macro avg</th>\n",
       "      <td>0.420030</td>\n",
       "      <td>0.265186</td>\n",
       "      <td>0.279405</td>\n",
       "      <td>715.000000</td>\n",
       "    </tr>\n",
       "    <tr>\n",
       "      <th>weighted avg</th>\n",
       "      <td>0.524047</td>\n",
       "      <td>0.556643</td>\n",
       "      <td>0.505357</td>\n",
       "      <td>715.000000</td>\n",
       "    </tr>\n",
       "  </tbody>\n",
       "</table>\n",
       "</div>"
      ],
      "text/plain": [
       "              precision    recall  f1-score     support\n",
       "0              0.500000  0.041667  0.076923   24.000000\n",
       "1              0.230769  0.096774  0.136364   31.000000\n",
       "2              0.250000  0.025000  0.045455   40.000000\n",
       "3              0.562500  0.658537  0.606742  123.000000\n",
       "4              0.000000  0.000000  0.000000    2.000000\n",
       "5              0.581609  0.826797  0.682861  306.000000\n",
       "6              0.666667  0.071429  0.129032   28.000000\n",
       "8              0.428571  0.240000  0.307692   25.000000\n",
       "9              0.454545  0.285714  0.350877   35.000000\n",
       "10             0.525641  0.405941  0.458101  101.000000\n",
       "accuracy       0.556643  0.556643  0.556643    0.556643\n",
       "macro avg      0.420030  0.265186  0.279405  715.000000\n",
       "weighted avg   0.524047  0.556643  0.505357  715.000000"
      ]
     },
     "execution_count": 121,
     "metadata": {},
     "output_type": "execute_result"
    }
   ],
   "source": [
    "pd.DataFrame(classification_report(targets, logits.argmax(axis=-1).detach().cpu().numpy().flatten(), output_dict=True)).T"
   ]
  },
  {
   "cell_type": "code",
   "execution_count": null,
   "metadata": {},
   "outputs": [],
   "source": []
  },
  {
   "cell_type": "code",
   "execution_count": null,
   "metadata": {},
   "outputs": [],
   "source": []
  },
  {
   "cell_type": "code",
   "execution_count": null,
   "metadata": {},
   "outputs": [],
   "source": []
  },
  {
   "cell_type": "code",
   "execution_count": null,
   "metadata": {},
   "outputs": [],
   "source": []
  },
  {
   "cell_type": "code",
   "execution_count": null,
   "metadata": {},
   "outputs": [],
   "source": []
  },
  {
   "cell_type": "code",
   "execution_count": null,
   "metadata": {},
   "outputs": [],
   "source": []
  },
  {
   "cell_type": "code",
   "execution_count": 109,
   "metadata": {},
   "outputs": [
    {
     "data": {
      "text/plain": [
       "5     458\n",
       "10    174\n",
       "3     143\n",
       "2      76\n",
       "1      69\n",
       "9      42\n",
       "8      32\n",
       "6      28\n",
       "0      28\n",
       "4      11\n",
       "dtype: int64"
      ]
     },
     "execution_count": 109,
     "metadata": {},
     "output_type": "execute_result"
    }
   ],
   "source": [
    "pd.Series(targets).value_counts()"
   ]
  },
  {
   "cell_type": "code",
   "execution_count": null,
   "metadata": {},
   "outputs": [],
   "source": []
  },
  {
   "cell_type": "code",
   "execution_count": null,
   "metadata": {},
   "outputs": [],
   "source": []
  },
  {
   "cell_type": "code",
   "execution_count": null,
   "metadata": {},
   "outputs": [],
   "source": []
  },
  {
   "cell_type": "code",
   "execution_count": null,
   "metadata": {},
   "outputs": [],
   "source": []
  },
  {
   "cell_type": "code",
   "execution_count": null,
   "metadata": {},
   "outputs": [],
   "source": []
  },
  {
   "cell_type": "code",
   "execution_count": 99,
   "metadata": {},
   "outputs": [
    {
     "data": {
      "text/plain": [
       "0.24481540761293985"
      ]
     },
     "execution_count": 99,
     "metadata": {},
     "output_type": "execute_result"
    }
   ],
   "source": [
    "f1_score(targets, logits.argmax(axis=-1).detach().cpu().numpy().flatten(), average='macro')"
   ]
  },
  {
   "cell_type": "code",
   "execution_count": 173,
   "metadata": {
    "collapsed": true,
    "jupyter": {
     "outputs_hidden": true
    }
   },
   "outputs": [
    {
     "ename": "RuntimeError",
     "evalue": "cuda runtime error (710) : device-side assert triggered at /pytorch/aten/src/THC/THCCachingHostAllocator.cpp:278",
     "output_type": "error",
     "traceback": [
      "\u001b[0;31m---------------------------------------------------------------------------\u001b[0m",
      "\u001b[0;31mRuntimeError\u001b[0m                              Traceback (most recent call last)",
      "\u001b[0;32m/usr/local/lib/python3.6/site-packages/IPython/core/formatters.py\u001b[0m in \u001b[0;36m__call__\u001b[0;34m(self, obj)\u001b[0m\n\u001b[1;32m    700\u001b[0m                 \u001b[0mtype_pprinters\u001b[0m\u001b[0;34m=\u001b[0m\u001b[0mself\u001b[0m\u001b[0;34m.\u001b[0m\u001b[0mtype_printers\u001b[0m\u001b[0;34m,\u001b[0m\u001b[0;34m\u001b[0m\u001b[0;34m\u001b[0m\u001b[0m\n\u001b[1;32m    701\u001b[0m                 deferred_pprinters=self.deferred_printers)\n\u001b[0;32m--> 702\u001b[0;31m             \u001b[0mprinter\u001b[0m\u001b[0;34m.\u001b[0m\u001b[0mpretty\u001b[0m\u001b[0;34m(\u001b[0m\u001b[0mobj\u001b[0m\u001b[0;34m)\u001b[0m\u001b[0;34m\u001b[0m\u001b[0;34m\u001b[0m\u001b[0m\n\u001b[0m\u001b[1;32m    703\u001b[0m             \u001b[0mprinter\u001b[0m\u001b[0;34m.\u001b[0m\u001b[0mflush\u001b[0m\u001b[0;34m(\u001b[0m\u001b[0;34m)\u001b[0m\u001b[0;34m\u001b[0m\u001b[0;34m\u001b[0m\u001b[0m\n\u001b[1;32m    704\u001b[0m             \u001b[0;32mreturn\u001b[0m \u001b[0mstream\u001b[0m\u001b[0;34m.\u001b[0m\u001b[0mgetvalue\u001b[0m\u001b[0;34m(\u001b[0m\u001b[0;34m)\u001b[0m\u001b[0;34m\u001b[0m\u001b[0;34m\u001b[0m\u001b[0m\n",
      "\u001b[0;32m/usr/local/lib/python3.6/site-packages/IPython/lib/pretty.py\u001b[0m in \u001b[0;36mpretty\u001b[0;34m(self, obj)\u001b[0m\n\u001b[1;32m    400\u001b[0m                         \u001b[0;32mif\u001b[0m \u001b[0mcls\u001b[0m \u001b[0;32mis\u001b[0m \u001b[0;32mnot\u001b[0m \u001b[0mobject\u001b[0m\u001b[0;31m \u001b[0m\u001b[0;31m\\\u001b[0m\u001b[0;34m\u001b[0m\u001b[0;34m\u001b[0m\u001b[0m\n\u001b[1;32m    401\u001b[0m                                 \u001b[0;32mand\u001b[0m \u001b[0mcallable\u001b[0m\u001b[0;34m(\u001b[0m\u001b[0mcls\u001b[0m\u001b[0;34m.\u001b[0m\u001b[0m__dict__\u001b[0m\u001b[0;34m.\u001b[0m\u001b[0mget\u001b[0m\u001b[0;34m(\u001b[0m\u001b[0;34m'__repr__'\u001b[0m\u001b[0;34m)\u001b[0m\u001b[0;34m)\u001b[0m\u001b[0;34m:\u001b[0m\u001b[0;34m\u001b[0m\u001b[0;34m\u001b[0m\u001b[0m\n\u001b[0;32m--> 402\u001b[0;31m                             \u001b[0;32mreturn\u001b[0m \u001b[0m_repr_pprint\u001b[0m\u001b[0;34m(\u001b[0m\u001b[0mobj\u001b[0m\u001b[0;34m,\u001b[0m \u001b[0mself\u001b[0m\u001b[0;34m,\u001b[0m \u001b[0mcycle\u001b[0m\u001b[0;34m)\u001b[0m\u001b[0;34m\u001b[0m\u001b[0;34m\u001b[0m\u001b[0m\n\u001b[0m\u001b[1;32m    403\u001b[0m \u001b[0;34m\u001b[0m\u001b[0m\n\u001b[1;32m    404\u001b[0m             \u001b[0;32mreturn\u001b[0m \u001b[0m_default_pprint\u001b[0m\u001b[0;34m(\u001b[0m\u001b[0mobj\u001b[0m\u001b[0;34m,\u001b[0m \u001b[0mself\u001b[0m\u001b[0;34m,\u001b[0m \u001b[0mcycle\u001b[0m\u001b[0;34m)\u001b[0m\u001b[0;34m\u001b[0m\u001b[0;34m\u001b[0m\u001b[0m\n",
      "\u001b[0;32m/usr/local/lib/python3.6/site-packages/IPython/lib/pretty.py\u001b[0m in \u001b[0;36m_repr_pprint\u001b[0;34m(obj, p, cycle)\u001b[0m\n\u001b[1;32m    695\u001b[0m     \u001b[0;34m\"\"\"A pprint that just redirects to the normal repr function.\"\"\"\u001b[0m\u001b[0;34m\u001b[0m\u001b[0;34m\u001b[0m\u001b[0m\n\u001b[1;32m    696\u001b[0m     \u001b[0;31m# Find newlines and replace them with p.break_()\u001b[0m\u001b[0;34m\u001b[0m\u001b[0;34m\u001b[0m\u001b[0;34m\u001b[0m\u001b[0m\n\u001b[0;32m--> 697\u001b[0;31m     \u001b[0moutput\u001b[0m \u001b[0;34m=\u001b[0m \u001b[0mrepr\u001b[0m\u001b[0;34m(\u001b[0m\u001b[0mobj\u001b[0m\u001b[0;34m)\u001b[0m\u001b[0;34m\u001b[0m\u001b[0;34m\u001b[0m\u001b[0m\n\u001b[0m\u001b[1;32m    698\u001b[0m     \u001b[0;32mfor\u001b[0m \u001b[0midx\u001b[0m\u001b[0;34m,\u001b[0m\u001b[0moutput_line\u001b[0m \u001b[0;32min\u001b[0m \u001b[0menumerate\u001b[0m\u001b[0;34m(\u001b[0m\u001b[0moutput\u001b[0m\u001b[0;34m.\u001b[0m\u001b[0msplitlines\u001b[0m\u001b[0;34m(\u001b[0m\u001b[0;34m)\u001b[0m\u001b[0;34m)\u001b[0m\u001b[0;34m:\u001b[0m\u001b[0;34m\u001b[0m\u001b[0;34m\u001b[0m\u001b[0m\n\u001b[1;32m    699\u001b[0m         \u001b[0;32mif\u001b[0m \u001b[0midx\u001b[0m\u001b[0;34m:\u001b[0m\u001b[0;34m\u001b[0m\u001b[0;34m\u001b[0m\u001b[0m\n",
      "\u001b[0;32m~/.local/lib/python3.6/site-packages/torch/tensor.py\u001b[0m in \u001b[0;36m__repr__\u001b[0;34m(self)\u001b[0m\n\u001b[1;32m    157\u001b[0m         \u001b[0;31m# characters to replace unicode characters with.\u001b[0m\u001b[0;34m\u001b[0m\u001b[0;34m\u001b[0m\u001b[0;34m\u001b[0m\u001b[0m\n\u001b[1;32m    158\u001b[0m         \u001b[0;32mif\u001b[0m \u001b[0msys\u001b[0m\u001b[0;34m.\u001b[0m\u001b[0mversion_info\u001b[0m \u001b[0;34m>\u001b[0m \u001b[0;34m(\u001b[0m\u001b[0;36m3\u001b[0m\u001b[0;34m,\u001b[0m\u001b[0;34m)\u001b[0m\u001b[0;34m:\u001b[0m\u001b[0;34m\u001b[0m\u001b[0;34m\u001b[0m\u001b[0m\n\u001b[0;32m--> 159\u001b[0;31m             \u001b[0;32mreturn\u001b[0m \u001b[0mtorch\u001b[0m\u001b[0;34m.\u001b[0m\u001b[0m_tensor_str\u001b[0m\u001b[0;34m.\u001b[0m\u001b[0m_str\u001b[0m\u001b[0;34m(\u001b[0m\u001b[0mself\u001b[0m\u001b[0;34m)\u001b[0m\u001b[0;34m\u001b[0m\u001b[0;34m\u001b[0m\u001b[0m\n\u001b[0m\u001b[1;32m    160\u001b[0m         \u001b[0;32melse\u001b[0m\u001b[0;34m:\u001b[0m\u001b[0;34m\u001b[0m\u001b[0;34m\u001b[0m\u001b[0m\n\u001b[1;32m    161\u001b[0m             \u001b[0;32mif\u001b[0m \u001b[0mhasattr\u001b[0m\u001b[0;34m(\u001b[0m\u001b[0msys\u001b[0m\u001b[0;34m.\u001b[0m\u001b[0mstdout\u001b[0m\u001b[0;34m,\u001b[0m \u001b[0;34m'encoding'\u001b[0m\u001b[0;34m)\u001b[0m\u001b[0;34m:\u001b[0m\u001b[0;34m\u001b[0m\u001b[0;34m\u001b[0m\u001b[0m\n",
      "\u001b[0;32m~/.local/lib/python3.6/site-packages/torch/_tensor_str.py\u001b[0m in \u001b[0;36m_str\u001b[0;34m(self)\u001b[0m\n\u001b[1;32m    309\u001b[0m                 \u001b[0mtensor_str\u001b[0m \u001b[0;34m=\u001b[0m \u001b[0m_tensor_str\u001b[0m\u001b[0;34m(\u001b[0m\u001b[0mself\u001b[0m\u001b[0;34m.\u001b[0m\u001b[0mto_dense\u001b[0m\u001b[0;34m(\u001b[0m\u001b[0;34m)\u001b[0m\u001b[0;34m,\u001b[0m \u001b[0mindent\u001b[0m\u001b[0;34m)\u001b[0m\u001b[0;34m\u001b[0m\u001b[0;34m\u001b[0m\u001b[0m\n\u001b[1;32m    310\u001b[0m             \u001b[0;32melse\u001b[0m\u001b[0;34m:\u001b[0m\u001b[0;34m\u001b[0m\u001b[0;34m\u001b[0m\u001b[0m\n\u001b[0;32m--> 311\u001b[0;31m                 \u001b[0mtensor_str\u001b[0m \u001b[0;34m=\u001b[0m \u001b[0m_tensor_str\u001b[0m\u001b[0;34m(\u001b[0m\u001b[0mself\u001b[0m\u001b[0;34m,\u001b[0m \u001b[0mindent\u001b[0m\u001b[0;34m)\u001b[0m\u001b[0;34m\u001b[0m\u001b[0;34m\u001b[0m\u001b[0m\n\u001b[0m\u001b[1;32m    312\u001b[0m \u001b[0;34m\u001b[0m\u001b[0m\n\u001b[1;32m    313\u001b[0m     \u001b[0;32mif\u001b[0m \u001b[0mself\u001b[0m\u001b[0;34m.\u001b[0m\u001b[0mlayout\u001b[0m \u001b[0;34m!=\u001b[0m \u001b[0mtorch\u001b[0m\u001b[0;34m.\u001b[0m\u001b[0mstrided\u001b[0m\u001b[0;34m:\u001b[0m\u001b[0;34m\u001b[0m\u001b[0;34m\u001b[0m\u001b[0m\n",
      "\u001b[0;32m~/.local/lib/python3.6/site-packages/torch/_tensor_str.py\u001b[0m in \u001b[0;36m_tensor_str\u001b[0;34m(self, indent)\u001b[0m\n\u001b[1;32m    207\u001b[0m     \u001b[0;32mif\u001b[0m \u001b[0mself\u001b[0m\u001b[0;34m.\u001b[0m\u001b[0mdtype\u001b[0m \u001b[0;32mis\u001b[0m \u001b[0mtorch\u001b[0m\u001b[0;34m.\u001b[0m\u001b[0mfloat16\u001b[0m \u001b[0;32mor\u001b[0m \u001b[0mself\u001b[0m\u001b[0;34m.\u001b[0m\u001b[0mdtype\u001b[0m \u001b[0;32mis\u001b[0m \u001b[0mtorch\u001b[0m\u001b[0;34m.\u001b[0m\u001b[0mbfloat16\u001b[0m\u001b[0;34m:\u001b[0m\u001b[0;34m\u001b[0m\u001b[0;34m\u001b[0m\u001b[0m\n\u001b[1;32m    208\u001b[0m         \u001b[0mself\u001b[0m \u001b[0;34m=\u001b[0m \u001b[0mself\u001b[0m\u001b[0;34m.\u001b[0m\u001b[0mfloat\u001b[0m\u001b[0;34m(\u001b[0m\u001b[0;34m)\u001b[0m\u001b[0;34m\u001b[0m\u001b[0;34m\u001b[0m\u001b[0m\n\u001b[0;32m--> 209\u001b[0;31m     \u001b[0mformatter\u001b[0m \u001b[0;34m=\u001b[0m \u001b[0m_Formatter\u001b[0m\u001b[0;34m(\u001b[0m\u001b[0mget_summarized_data\u001b[0m\u001b[0;34m(\u001b[0m\u001b[0mself\u001b[0m\u001b[0;34m)\u001b[0m \u001b[0;32mif\u001b[0m \u001b[0msummarize\u001b[0m \u001b[0;32melse\u001b[0m \u001b[0mself\u001b[0m\u001b[0;34m)\u001b[0m\u001b[0;34m\u001b[0m\u001b[0;34m\u001b[0m\u001b[0m\n\u001b[0m\u001b[1;32m    210\u001b[0m     \u001b[0;32mreturn\u001b[0m \u001b[0m_tensor_str_with_formatter\u001b[0m\u001b[0;34m(\u001b[0m\u001b[0mself\u001b[0m\u001b[0;34m,\u001b[0m \u001b[0mindent\u001b[0m\u001b[0;34m,\u001b[0m \u001b[0mformatter\u001b[0m\u001b[0;34m,\u001b[0m \u001b[0msummarize\u001b[0m\u001b[0;34m)\u001b[0m\u001b[0;34m\u001b[0m\u001b[0;34m\u001b[0m\u001b[0m\n\u001b[1;32m    211\u001b[0m \u001b[0;34m\u001b[0m\u001b[0m\n",
      "\u001b[0;32m~/.local/lib/python3.6/site-packages/torch/_tensor_str.py\u001b[0m in \u001b[0;36mget_summarized_data\u001b[0;34m(self)\u001b[0m\n\u001b[1;32m    240\u001b[0m         end = ([self[i]\n\u001b[1;32m    241\u001b[0m                for i in range(len(self) - PRINT_OPTS.edgeitems, len(self))])\n\u001b[0;32m--> 242\u001b[0;31m         \u001b[0;32mreturn\u001b[0m \u001b[0mtorch\u001b[0m\u001b[0;34m.\u001b[0m\u001b[0mstack\u001b[0m\u001b[0;34m(\u001b[0m\u001b[0;34m[\u001b[0m\u001b[0mget_summarized_data\u001b[0m\u001b[0;34m(\u001b[0m\u001b[0mx\u001b[0m\u001b[0;34m)\u001b[0m \u001b[0;32mfor\u001b[0m \u001b[0mx\u001b[0m \u001b[0;32min\u001b[0m \u001b[0;34m(\u001b[0m\u001b[0mstart\u001b[0m \u001b[0;34m+\u001b[0m \u001b[0mend\u001b[0m\u001b[0;34m)\u001b[0m\u001b[0;34m]\u001b[0m\u001b[0;34m)\u001b[0m\u001b[0;34m\u001b[0m\u001b[0;34m\u001b[0m\u001b[0m\n\u001b[0m\u001b[1;32m    243\u001b[0m     \u001b[0;32melse\u001b[0m\u001b[0;34m:\u001b[0m\u001b[0;34m\u001b[0m\u001b[0;34m\u001b[0m\u001b[0m\n\u001b[1;32m    244\u001b[0m         \u001b[0;32mreturn\u001b[0m \u001b[0mtorch\u001b[0m\u001b[0;34m.\u001b[0m\u001b[0mstack\u001b[0m\u001b[0;34m(\u001b[0m\u001b[0;34m[\u001b[0m\u001b[0mget_summarized_data\u001b[0m\u001b[0;34m(\u001b[0m\u001b[0mx\u001b[0m\u001b[0;34m)\u001b[0m \u001b[0;32mfor\u001b[0m \u001b[0mx\u001b[0m \u001b[0;32min\u001b[0m \u001b[0mself\u001b[0m\u001b[0;34m]\u001b[0m\u001b[0;34m)\u001b[0m\u001b[0;34m\u001b[0m\u001b[0;34m\u001b[0m\u001b[0m\n",
      "\u001b[0;32m~/.local/lib/python3.6/site-packages/torch/_tensor_str.py\u001b[0m in \u001b[0;36m<listcomp>\u001b[0;34m(.0)\u001b[0m\n\u001b[1;32m    240\u001b[0m         end = ([self[i]\n\u001b[1;32m    241\u001b[0m                for i in range(len(self) - PRINT_OPTS.edgeitems, len(self))])\n\u001b[0;32m--> 242\u001b[0;31m         \u001b[0;32mreturn\u001b[0m \u001b[0mtorch\u001b[0m\u001b[0;34m.\u001b[0m\u001b[0mstack\u001b[0m\u001b[0;34m(\u001b[0m\u001b[0;34m[\u001b[0m\u001b[0mget_summarized_data\u001b[0m\u001b[0;34m(\u001b[0m\u001b[0mx\u001b[0m\u001b[0;34m)\u001b[0m \u001b[0;32mfor\u001b[0m \u001b[0mx\u001b[0m \u001b[0;32min\u001b[0m \u001b[0;34m(\u001b[0m\u001b[0mstart\u001b[0m \u001b[0;34m+\u001b[0m \u001b[0mend\u001b[0m\u001b[0;34m)\u001b[0m\u001b[0;34m]\u001b[0m\u001b[0;34m)\u001b[0m\u001b[0;34m\u001b[0m\u001b[0;34m\u001b[0m\u001b[0m\n\u001b[0m\u001b[1;32m    243\u001b[0m     \u001b[0;32melse\u001b[0m\u001b[0;34m:\u001b[0m\u001b[0;34m\u001b[0m\u001b[0;34m\u001b[0m\u001b[0m\n\u001b[1;32m    244\u001b[0m         \u001b[0;32mreturn\u001b[0m \u001b[0mtorch\u001b[0m\u001b[0;34m.\u001b[0m\u001b[0mstack\u001b[0m\u001b[0;34m(\u001b[0m\u001b[0;34m[\u001b[0m\u001b[0mget_summarized_data\u001b[0m\u001b[0;34m(\u001b[0m\u001b[0mx\u001b[0m\u001b[0;34m)\u001b[0m \u001b[0;32mfor\u001b[0m \u001b[0mx\u001b[0m \u001b[0;32min\u001b[0m \u001b[0mself\u001b[0m\u001b[0;34m]\u001b[0m\u001b[0;34m)\u001b[0m\u001b[0;34m\u001b[0m\u001b[0;34m\u001b[0m\u001b[0m\n",
      "\u001b[0;32m~/.local/lib/python3.6/site-packages/torch/_tensor_str.py\u001b[0m in \u001b[0;36mget_summarized_data\u001b[0;34m(self)\u001b[0m\n\u001b[1;32m    240\u001b[0m         end = ([self[i]\n\u001b[1;32m    241\u001b[0m                for i in range(len(self) - PRINT_OPTS.edgeitems, len(self))])\n\u001b[0;32m--> 242\u001b[0;31m         \u001b[0;32mreturn\u001b[0m \u001b[0mtorch\u001b[0m\u001b[0;34m.\u001b[0m\u001b[0mstack\u001b[0m\u001b[0;34m(\u001b[0m\u001b[0;34m[\u001b[0m\u001b[0mget_summarized_data\u001b[0m\u001b[0;34m(\u001b[0m\u001b[0mx\u001b[0m\u001b[0;34m)\u001b[0m \u001b[0;32mfor\u001b[0m \u001b[0mx\u001b[0m \u001b[0;32min\u001b[0m \u001b[0;34m(\u001b[0m\u001b[0mstart\u001b[0m \u001b[0;34m+\u001b[0m \u001b[0mend\u001b[0m\u001b[0;34m)\u001b[0m\u001b[0;34m]\u001b[0m\u001b[0;34m)\u001b[0m\u001b[0;34m\u001b[0m\u001b[0;34m\u001b[0m\u001b[0m\n\u001b[0m\u001b[1;32m    243\u001b[0m     \u001b[0;32melse\u001b[0m\u001b[0;34m:\u001b[0m\u001b[0;34m\u001b[0m\u001b[0;34m\u001b[0m\u001b[0m\n\u001b[1;32m    244\u001b[0m         \u001b[0;32mreturn\u001b[0m \u001b[0mtorch\u001b[0m\u001b[0;34m.\u001b[0m\u001b[0mstack\u001b[0m\u001b[0;34m(\u001b[0m\u001b[0;34m[\u001b[0m\u001b[0mget_summarized_data\u001b[0m\u001b[0;34m(\u001b[0m\u001b[0mx\u001b[0m\u001b[0;34m)\u001b[0m \u001b[0;32mfor\u001b[0m \u001b[0mx\u001b[0m \u001b[0;32min\u001b[0m \u001b[0mself\u001b[0m\u001b[0;34m]\u001b[0m\u001b[0;34m)\u001b[0m\u001b[0;34m\u001b[0m\u001b[0;34m\u001b[0m\u001b[0m\n",
      "\u001b[0;31mRuntimeError\u001b[0m: cuda runtime error (710) : device-side assert triggered at /pytorch/aten/src/THC/THCCachingHostAllocator.cpp:278"
     ]
    }
   ],
   "source": [
    "batch_sequences"
   ]
  },
  {
   "cell_type": "code",
   "execution_count": 164,
   "metadata": {},
   "outputs": [
    {
     "data": {
      "text/plain": [
       "tensor([4, 5, 5, 3, 3, 3, 5, 4, 5, 3, 5, 4, 4, 4, 5, 5, 4, 5, 5, 4, 5, 5, 4, 3,\n",
       "        5, 3, 5, 3, 5, 3, 3, 5, 4, 5, 3, 4, 4, 4, 5, 4, 4, 5, 5, 5, 5, 4, 5, 3,\n",
       "        4, 3, 3, 3, 3, 5, 4, 4, 5, 4, 4, 3, 3, 4, 5, 5, 4, 5, 5, 3, 5, 4, 5, 3,\n",
       "        5, 3, 3, 3, 5, 4, 3, 4, 4, 3, 3, 3, 4, 3, 4, 3, 4, 3, 5, 5, 4, 3, 4, 3,\n",
       "        4, 3, 4, 4, 4, 4, 4, 3, 5, 5, 4, 5, 4, 5, 5, 3, 3, 4, 5, 3, 4, 4, 5, 4,\n",
       "        5, 3, 4, 5, 4, 5, 4, 4, 4, 4, 3, 3, 3, 4, 4, 3, 4, 5, 3, 4, 5, 3, 4, 4,\n",
       "        5, 3, 3, 5, 4, 4, 5, 4, 4, 3, 5, 4, 5, 3, 3, 4, 3, 4, 4, 5, 4, 4, 5, 4,\n",
       "        4, 4, 3, 4, 4, 4, 3, 4, 4, 4, 4, 5, 4, 4, 3, 3, 4, 5, 3, 5, 3, 4, 3, 4,\n",
       "        3, 4, 5, 5, 4, 4, 4, 3, 5, 5, 3, 5, 3, 3, 3, 5, 3, 4, 4, 4, 3, 5, 3, 5,\n",
       "        5, 3, 3, 4, 5, 5, 3, 4, 3, 3, 3, 4, 3, 3, 3, 5, 4, 5, 3, 3, 5, 3, 5, 5,\n",
       "        4, 4, 4, 5, 4, 4, 3, 5, 5, 4, 5, 3, 3, 4, 4, 4, 4, 5, 4, 3, 5, 5, 3, 3,\n",
       "        5, 3, 3, 5, 3, 3, 4, 3, 3, 5, 3, 3, 4, 4, 4, 3, 4, 5, 5, 5, 5, 5, 3, 5,\n",
       "        3, 5, 3, 5, 3, 5, 4, 3, 4, 4, 4, 4, 5, 4, 3, 5, 5, 3, 4, 4, 5, 4, 4, 3,\n",
       "        5, 5, 3, 3, 3, 3, 3, 4, 4, 4, 5, 3, 3, 4, 4, 5, 4, 3, 4, 4, 5, 3, 3, 3,\n",
       "        5, 4, 5, 5, 4, 3, 3, 5, 5, 3, 3, 3, 4, 3, 3, 5, 4, 5, 3, 5, 3, 3, 3, 5,\n",
       "        5, 3, 3, 5, 3, 5, 5, 5, 3, 3, 3, 4, 4, 5, 4, 4, 3, 3, 5, 5, 5, 4, 5, 5,\n",
       "        4, 3, 5, 5, 3, 3, 5, 3, 3, 4, 5, 5, 4, 5, 4, 4, 5, 4, 5, 5, 4, 5, 5, 4,\n",
       "        4, 4, 5, 4, 5, 4, 5, 5, 4, 3, 5, 5, 3, 3, 3, 4, 5, 4, 3, 4, 3, 3, 3, 5,\n",
       "        5, 5, 4, 3, 3, 3, 3, 3, 4, 5, 4, 5, 4, 3, 3, 3, 3, 3, 5, 5, 5, 3, 5, 4,\n",
       "        4, 3, 3, 3, 3, 4, 5, 3, 3, 3, 4, 3, 4, 4, 4, 3, 5, 3, 3, 5, 4, 4, 5, 5,\n",
       "        4, 5], device='cuda:0')"
      ]
     },
     "execution_count": 164,
     "metadata": {},
     "output_type": "execute_result"
    }
   ],
   "source": [
    "lengths"
   ]
  },
  {
   "cell_type": "code",
   "execution_count": null,
   "metadata": {},
   "outputs": [],
   "source": [
    "logits."
   ]
  },
  {
   "cell_type": "code",
   "execution_count": null,
   "metadata": {},
   "outputs": [],
   "source": []
  },
  {
   "cell_type": "code",
   "execution_count": null,
   "metadata": {},
   "outputs": [],
   "source": []
  },
  {
   "cell_type": "code",
   "execution_count": 627,
   "metadata": {},
   "outputs": [],
   "source": [
    "df = pd.read_pickle('/data/edmitrie/alfa_boosters/df_atr_1_net.pickle')"
   ]
  },
  {
   "cell_type": "code",
   "execution_count": 630,
   "metadata": {},
   "outputs": [],
   "source": [
    "targ_encoder = pickle.load(open('target_encoder.pickle','rb'))"
   ]
  },
  {
   "cell_type": "code",
   "execution_count": 636,
   "metadata": {},
   "outputs": [],
   "source": [
    "df['target'] = targ_encoder.inverse_transform(df['target'].astype(int))"
   ]
  },
  {
   "cell_type": "code",
   "execution_count": 633,
   "metadata": {},
   "outputs": [
    {
     "data": {
      "text/plain": [
       "array([7, 5, 10, 3, 2, 8, 0, 1, 6, 4, 9], dtype=object)"
      ]
     },
     "execution_count": 633,
     "metadata": {},
     "output_type": "execute_result"
    }
   ],
   "source": [
    "df['target'].unique()"
   ]
  },
  {
   "cell_type": "code",
   "execution_count": null,
   "metadata": {},
   "outputs": [],
   "source": []
  }
 ],
 "metadata": {
  "kernelspec": {
   "display_name": "Python 3.6",
   "language": "python36",
   "name": "python3.6"
  },
  "language_info": {
   "codemirror_mode": {
    "name": "ipython",
    "version": 3
   },
   "file_extension": ".py",
   "mimetype": "text/x-python",
   "name": "python",
   "nbconvert_exporter": "python",
   "pygments_lexer": "ipython3",
   "version": "3.6.8"
  }
 },
 "nbformat": 4,
 "nbformat_minor": 4
}
